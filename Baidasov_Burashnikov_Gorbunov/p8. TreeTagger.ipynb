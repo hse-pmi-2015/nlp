{
 "cells": [
  {
   "cell_type": "code",
   "execution_count": 1,
   "metadata": {},
   "outputs": [
    {
     "name": "stdout",
     "output_type": "stream",
     "text": [
      "I\tPP\tI\n",
      "have\tVBP\thave\n",
      "a\tDT\ta\n",
      "line\tNN\tline\n",
      "on\tIN\ton\n",
      "a\tDT\ta\n",
      "Ducati\tNP\t<unknown>\n",
      "900GTS\tVBZ\t<unknown>\n",
      "1978\tCD\t@card@\n",
      "model\tNN\tmodel\n",
      "with\tIN\twith\n",
      "17k\tNP\t<unknown>\n",
      "on\tIN\ton\n",
      "the\tDT\tthe\n",
      "clock\tNN\tclock\n",
      ".\tSENT\t.\n"
     ]
    },
    {
     "name": "stderr",
     "output_type": "stream",
     "text": [
      "\treading parameters ...\n",
      "\ttagging ...\n",
      "\t finished.\n"
     ]
    }
   ],
   "source": [
    "%%bash\n",
    "\n",
    "cd /home/alexandr/distr/tt\n",
    "echo I have a line on a Ducati 900GTS 1978 model with 17k on the clock. | ./cmd/tree-tagger-english"
   ]
  },
  {
   "cell_type": "code",
   "execution_count": null,
   "metadata": {},
   "outputs": [],
   "source": []
  },
  {
   "cell_type": "code",
   "execution_count": 2,
   "metadata": {},
   "outputs": [
    {
     "name": "stdout",
     "output_type": "stream",
     "text": [
      "Runs\tNNS\trun\n",
      "very\tRB\tvery\n",
      "well\tRB\twell\n",
      ",\t,\t,\n",
      "paint\tNN\tpaint\n",
      "is\tVBZ\tbe\n",
      "the\tDT\tthe\n",
      "bronze/brown/orange\tNN\t<unknown>\n",
      "faded\tVBN\tfade\n",
      "out\tRP\tout\n",
      ",\t,\t,\n",
      "leaks\tVBZ\tleak\n",
      "a\tDT\ta\n",
      "bit\tNN\tbit\n",
      "of\tIN\tof\n",
      "oil\tNN\toil\n",
      "and\tCC\tand\n",
      "pops\tVBZ\tpop\n",
      "out\tRP\tout\n",
      "of\tIN\tof\n",
      "1st\tJJ\t1st\n",
      "with\tIN\twith\n",
      "hard\tJJ\thard\n",
      "accel\tNN\t<unknown>\n",
      ".\tSENT\t.\n"
     ]
    },
    {
     "name": "stderr",
     "output_type": "stream",
     "text": [
      "\treading parameters ...\n",
      "\ttagging ...\n",
      "\t finished.\n"
     ]
    }
   ],
   "source": [
    "%%bash\n",
    "\n",
    "cd /home/alexandr/distr/tt\n",
    "echo Runs very well, paint is the bronze/brown/orange faded out, leaks a bit of oil and pops out of 1st with hard accel. | ./cmd/tree-tagger-english"
   ]
  },
  {
   "cell_type": "code",
   "execution_count": null,
   "metadata": {},
   "outputs": [],
   "source": []
  }
 ],
 "metadata": {
  "kernelspec": {
   "display_name": "Python 3",
   "language": "python",
   "name": "python3"
  },
  "language_info": {
   "codemirror_mode": {
    "name": "ipython",
    "version": 3
   },
   "file_extension": ".py",
   "mimetype": "text/x-python",
   "name": "python",
   "nbconvert_exporter": "python",
   "pygments_lexer": "ipython3",
   "version": "3.6.3"
  }
 },
 "nbformat": 4,
 "nbformat_minor": 2
}
