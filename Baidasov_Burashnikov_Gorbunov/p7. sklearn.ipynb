{
 "cells": [
  {
   "cell_type": "code",
   "execution_count": 2,
   "metadata": {},
   "outputs": [],
   "source": [
    "import os\n",
    "from sklearn.feature_extraction.text import TfidfVectorizer\n",
    "import numpy as np\n",
    "from sklearn.linear_model import LogisticRegression\n",
    "\n",
    "from sklearn.ensemble import RandomForestClassifier, GradientBoostingClassifier, VotingClassifier\n",
    "\n",
    "import matplotlib.pyplot as plt\n",
    "\n",
    "from sklearn.metrics import confusion_matrix, recall_score, precision_score, f1_score, roc_curve, roc_auc_score\n",
    "import itertools\n",
    "\n",
    "from sklearn.svm import LinearSVC\n",
    "from sklearn.feature_selection import SelectFromModel\n",
    "from sklearn.multiclass import OneVsRestClassifier, OneVsOneClassifier\n",
    "\n",
    "%matplotlib inline"
   ]
  },
  {
   "cell_type": "code",
   "execution_count": 5,
   "metadata": {},
   "outputs": [],
   "source": [
    "import pandas as pd\n",
    "import re\n",
    "from gensim.parsing.preprocessing import *"
   ]
  },
  {
   "cell_type": "code",
   "execution_count": 6,
   "metadata": {},
   "outputs": [
    {
     "name": "stdout",
     "output_type": "stream",
     "text": [
      "(216, 4)\n"
     ]
    }
   ],
   "source": [
    "DATA_PATH = 'corpus.csv'\n",
    "df = pd.read_csv(DATA_PATH,index_col=0)#, header=None, sep=';',\n",
    "#                  names=['id', 'tdate', 'tmane', 'ttext', 'ttype', 'trep', 'trtw', 'tfav', 'tstcount', \n",
    "#                         'tfol', 'tfrien', 'listcount'])\n",
    "print(df.shape)"
   ]
  },
  {
   "cell_type": "code",
   "execution_count": 9,
   "metadata": {},
   "outputs": [
    {
     "data": {
      "text/html": [
       "<div>\n",
       "<style scoped>\n",
       "    .dataframe tbody tr th:only-of-type {\n",
       "        vertical-align: middle;\n",
       "    }\n",
       "\n",
       "    .dataframe tbody tr th {\n",
       "        vertical-align: top;\n",
       "    }\n",
       "\n",
       "    .dataframe thead th {\n",
       "        text-align: right;\n",
       "    }\n",
       "</style>\n",
       "<table border=\"1\" class=\"dataframe\">\n",
       "  <thead>\n",
       "    <tr style=\"text-align: right;\">\n",
       "      <th></th>\n",
       "      <th>auto</th>\n",
       "      <th>crime</th>\n",
       "      <th>culture</th>\n",
       "      <th>education</th>\n",
       "    </tr>\n",
       "  </thead>\n",
       "  <tbody>\n",
       "    <tr>\n",
       "      <th>0</th>\n",
       "      <td>[&lt;div class=\"itemFullText\"&gt;\\r\\n&lt;p&gt;&lt;em&gt;&lt;strong&gt;...</td>\n",
       "      <td>[&lt;div class=\"itemFullText\"&gt;\\r\\n&lt;p&gt;&lt;em&gt;&lt;strong&gt;...</td>\n",
       "      <td>[&lt;div class=\"itemFullText\"&gt;\\r\\n&lt;p style=\"text-...</td>\n",
       "      <td>[&lt;div class=\"itemFullText\"&gt;\\r\\n&lt;p&gt;&lt;em&gt;&lt;strong&gt;...</td>\n",
       "    </tr>\n",
       "    <tr>\n",
       "      <th>1</th>\n",
       "      <td>[&lt;div class=\"itemFullText\"&gt;\\r\\n&lt;p&gt;&lt;em&gt;&lt;strong&gt;...</td>\n",
       "      <td>[&lt;div class=\"itemFullText\"&gt;\\r\\n&lt;p&gt;&lt;em&gt;&lt;strong&gt;...</td>\n",
       "      <td>[&lt;div class=\"itemFullText\"&gt;\\r\\n&lt;p&gt;&lt;strong&gt;&lt;em&gt;...</td>\n",
       "      <td>[&lt;div class=\"itemFullText\"&gt;\\r\\n&lt;p&gt;&lt;em&gt;&lt;strong&gt;...</td>\n",
       "    </tr>\n",
       "    <tr>\n",
       "      <th>2</th>\n",
       "      <td>[&lt;div class=\"itemFullText\"&gt;\\r\\n&lt;p&gt;&lt;em&gt;&lt;strong&gt;...</td>\n",
       "      <td>[&lt;div class=\"itemFullText\"&gt;\\r\\n&lt;p&gt;&lt;em&gt;&lt;strong&gt;...</td>\n",
       "      <td>[&lt;div class=\"itemFullText\"&gt;\\r\\n&lt;p&gt;&lt;em&gt;&lt;strong&gt;...</td>\n",
       "      <td>[&lt;div class=\"itemFullText\"&gt;\\r\\n&lt;p&gt;&lt;em&gt;&lt;strong&gt;...</td>\n",
       "    </tr>\n",
       "    <tr>\n",
       "      <th>3</th>\n",
       "      <td>[&lt;div class=\"itemFullText\"&gt;\\r\\n&lt;p&gt;&lt;em&gt;&lt;strong&gt;...</td>\n",
       "      <td>[&lt;div class=\"itemFullText\"&gt;\\r\\n&lt;p&gt;&lt;em&gt;&lt;strong&gt;...</td>\n",
       "      <td>[&lt;div class=\"itemFullText\"&gt;\\r\\n&lt;p&gt;&lt;em&gt;&lt;strong&gt;...</td>\n",
       "      <td>[&lt;div class=\"itemFullText\"&gt;\\r\\n&lt;p style=\"text-...</td>\n",
       "    </tr>\n",
       "    <tr>\n",
       "      <th>4</th>\n",
       "      <td>[&lt;div class=\"itemFullText\"&gt;\\r\\n&lt;p&gt;&lt;em&gt;&lt;strong&gt;...</td>\n",
       "      <td>[&lt;div class=\"itemFullText\"&gt;\\r\\n&lt;p&gt;&lt;em&gt;&lt;strong&gt;...</td>\n",
       "      <td>[&lt;div class=\"itemFullText\"&gt;\\r\\n&lt;p&gt;&lt;em&gt;&lt;strong&gt;...</td>\n",
       "      <td>[&lt;div class=\"itemFullText\"&gt;\\r\\n&lt;p&gt;&lt;em&gt;&lt;strong&gt;...</td>\n",
       "    </tr>\n",
       "  </tbody>\n",
       "</table>\n",
       "</div>"
      ],
      "text/plain": [
       "                                                auto  \\\n",
       "0  [<div class=\"itemFullText\">\\r\\n<p><em><strong>...   \n",
       "1  [<div class=\"itemFullText\">\\r\\n<p><em><strong>...   \n",
       "2  [<div class=\"itemFullText\">\\r\\n<p><em><strong>...   \n",
       "3  [<div class=\"itemFullText\">\\r\\n<p><em><strong>...   \n",
       "4  [<div class=\"itemFullText\">\\r\\n<p><em><strong>...   \n",
       "\n",
       "                                               crime  \\\n",
       "0  [<div class=\"itemFullText\">\\r\\n<p><em><strong>...   \n",
       "1  [<div class=\"itemFullText\">\\r\\n<p><em><strong>...   \n",
       "2  [<div class=\"itemFullText\">\\r\\n<p><em><strong>...   \n",
       "3  [<div class=\"itemFullText\">\\r\\n<p><em><strong>...   \n",
       "4  [<div class=\"itemFullText\">\\r\\n<p><em><strong>...   \n",
       "\n",
       "                                             culture  \\\n",
       "0  [<div class=\"itemFullText\">\\r\\n<p style=\"text-...   \n",
       "1  [<div class=\"itemFullText\">\\r\\n<p><strong><em>...   \n",
       "2  [<div class=\"itemFullText\">\\r\\n<p><em><strong>...   \n",
       "3  [<div class=\"itemFullText\">\\r\\n<p><em><strong>...   \n",
       "4  [<div class=\"itemFullText\">\\r\\n<p><em><strong>...   \n",
       "\n",
       "                                           education  \n",
       "0  [<div class=\"itemFullText\">\\r\\n<p><em><strong>...  \n",
       "1  [<div class=\"itemFullText\">\\r\\n<p><em><strong>...  \n",
       "2  [<div class=\"itemFullText\">\\r\\n<p><em><strong>...  \n",
       "3  [<div class=\"itemFullText\">\\r\\n<p style=\"text-...  \n",
       "4  [<div class=\"itemFullText\">\\r\\n<p><em><strong>...  "
      ]
     },
     "execution_count": 9,
     "metadata": {},
     "output_type": "execute_result"
    }
   ],
   "source": [
    "df.head()"
   ]
  },
  {
   "cell_type": "code",
   "execution_count": 7,
   "metadata": {},
   "outputs": [
    {
     "data": {
      "text/plain": [
       "'сегодня в городе тольна соберутся победителей ii международного творческого детского фотоконкурса в объятиях природы организаторами масштабного проекта выступают фонд содействия развитию муниципальных образований ассоциация территорий расположения атомных электростанций ао концерн росэнергоатом и венгерская аэс пакш город полярные зори представят виктория серебренникова и екатерина таранникова в течение десяти дней в рамках работы экологического лагеря ребят ждёт увлекательная экскурсионная программа по москве с визитом в экспозиционный центр концерна росэнергоатом и будапеште в тольна российские школьники посетят серию мастер классов от известного профессионального фотохудожника балинта винце берег реки дунай маковые поля рыболовные пруды венгерские деревушки и аэс пакш список мест проведения уроков фотоискусства запланированы и съемки метеоритного дождя итогом экологического лагеря станут не только прекрасные фотографии новые знания приятные впечатления но и дружеские связи между школьниками из городов расположения российских аэс '"
      ]
     },
     "execution_count": 7,
     "metadata": {},
     "output_type": "execute_result"
    }
   ],
   "source": [
    "corpus = []\n",
    "for topic in df:\n",
    "    corpus += df[topic].tolist()\n",
    "    \n",
    "corpus = pd.Series(corpus)\n",
    "corpus = corpus.apply(lambda x: x.lower())\n",
    "corpus = corpus.apply(strip_tags)\n",
    "corpus = corpus.apply(strip_punctuation2)\n",
    "corpus = corpus.apply(strip_numeric)\n",
    "corpus = corpus.apply(lambda x: re.sub(r'\\w+:\\/{2}[\\d\\w-]+(\\.[\\d\\w-]+)*(?:(?:\\/[^\\s/]*))*', u' ', x))\n",
    "corpus = corpus.apply(lambda x: re.sub('«|»', ' ', x))\n",
    "corpus = corpus.apply(strip_multiple_whitespaces)\n",
    "corpus = corpus.apply(lambda x: x.partition(' – ')[2])\n",
    "# corpus = [re.sub(' +' , ' ', doc) for doc in corpus]\n",
    "corpus.iloc[-1]"
   ]
  },
  {
   "cell_type": "code",
   "execution_count": 31,
   "metadata": {},
   "outputs": [],
   "source": [
    "def str_prepr(stringa):\n",
    "    res_str = stringa.lower()\n",
    "    res_str = strip_tags(res_str)\n",
    "    res_str = strip_punctuation2(res_str)\n",
    "    res_str = strip_numeric(res_str)\n",
    "    res_str = re.sub(r'\\w+:\\/{2}[\\d\\w-]+(\\.[\\d\\w-]+)*(?:(?:\\/[^\\s/]*))*', u' ', res_str)\n",
    "    res_str = re.sub('«|»', ' ', res_str)\n",
    "    res_str = res_str.partition('би порт')[2]\n",
    "    res_str = re.sub('—|–', ' ', res_str)\n",
    "    res_str =strip_multiple_whitespaces(res_str)\n",
    "#     sp = res_str.split()\n",
    "#     tmp_tokens = []\n",
    "#     for word in sp:\n",
    "#         if word not in stop_words.get_stop_words('ru'):\n",
    "#             if morph.word_is_known(word):\n",
    "#                 tmp_tokens.append(stemmer.stem(word))\n",
    "#     res_str = ' '.join(tmp_tokens)\n",
    "#     res_embedding = vectorizer.transform([res_str])\n",
    "#     print(res_str)\n",
    "    return res_str\n",
    "#     res_str =res_str.partition(' – ')[2]"
   ]
  },
  {
   "cell_type": "code",
   "execution_count": 32,
   "metadata": {},
   "outputs": [],
   "source": [
    "clear_df = df.apply(lambda x: x.apply(lambda y: str_prepr(y)))"
   ]
  },
  {
   "cell_type": "markdown",
   "metadata": {},
   "source": [
    "---"
   ]
  },
  {
   "cell_type": "markdown",
   "metadata": {},
   "source": [
    "## Prepare The Data"
   ]
  },
  {
   "cell_type": "code",
   "execution_count": 8,
   "metadata": {},
   "outputs": [],
   "source": [
    "import stop_words"
   ]
  },
  {
   "cell_type": "code",
   "execution_count": 12,
   "metadata": {},
   "outputs": [],
   "source": [
    "vectorizer = TfidfVectorizer(stop_words=stop_words.get_stop_words('ru'))\n",
    "initial_categories = df.columns.values"
   ]
  },
  {
   "cell_type": "code",
   "execution_count": 61,
   "metadata": {},
   "outputs": [
    {
     "data": {
      "text/plain": [
       "(216, 4)"
      ]
     },
     "execution_count": 61,
     "metadata": {},
     "output_type": "execute_result"
    }
   ],
   "source": [
    "clear_df.dropna(inplace=True,axis=0)"
   ]
  },
  {
   "cell_type": "code",
   "execution_count": 69,
   "metadata": {},
   "outputs": [],
   "source": [
    "clear_df[clear_df=='']=None"
   ]
  },
  {
   "cell_type": "code",
   "execution_count": 88,
   "metadata": {},
   "outputs": [],
   "source": [
    "clear_df.dropna(axis=0,inplace=True)"
   ]
  },
  {
   "cell_type": "code",
   "execution_count": 92,
   "metadata": {},
   "outputs": [],
   "source": [
    "train_x = pd.Series()\n",
    "train_y = []\n",
    "test_x = pd.Series()\n",
    "test_y = []\n",
    "for col in clear_df.columns:\n",
    "    index = [col for i in range(clear_df.crime.sample(frac=0.8).shape[0])]\n",
    "    data = clear_df[col].sample(frac=0.8)\n",
    "    \n",
    "    train_y.extend(index)\n",
    "    train_x = train_x.append(data)\n",
    "    \n",
    "    test_y.extend([col for i in range(clear_df[col][~clear_df[col].index.isin(data.index.values)].shape[0])])\n",
    "    test_x = test_x.append(clear_df[col][~clear_df[col].index.isin(data.index.values)])"
   ]
  },
  {
   "cell_type": "code",
   "execution_count": 93,
   "metadata": {},
   "outputs": [
    {
     "name": "stdout",
     "output_type": "stream",
     "text": [
      "(572, 16840) (144, 16840)\n"
     ]
    }
   ],
   "source": [
    "X_train = vectorizer.fit_transform(train_x)\n",
    "X_test = vectorizer.transform(test_x)\n",
    "\n",
    "print (X_train.shape, X_test.shape)"
   ]
  },
  {
   "cell_type": "code",
   "execution_count": 94,
   "metadata": {},
   "outputs": [
    {
     "name": "stdout",
     "output_type": "stream",
     "text": [
      "572 144\n"
     ]
    }
   ],
   "source": [
    "print (len(train_y), len(test_y))"
   ]
  },
  {
   "cell_type": "markdown",
   "metadata": {},
   "source": [
    "---"
   ]
  },
  {
   "cell_type": "markdown",
   "metadata": {},
   "source": [
    "## Build Models"
   ]
  },
  {
   "cell_type": "markdown",
   "metadata": {},
   "source": [
    "* **Logistic Regression**\n",
    "* **SVM**\n",
    "* **Random Forest**\n",
    "* **Gradient Boosting Trees**"
   ]
  },
  {
   "cell_type": "markdown",
   "metadata": {},
   "source": [
    "**Define classifiers:**"
   ]
  },
  {
   "cell_type": "code",
   "execution_count": 97,
   "metadata": {},
   "outputs": [],
   "source": [
    "y_train = np.array(train_y)\n",
    "y_test = np.array(test_y)"
   ]
  },
  {
   "cell_type": "code",
   "execution_count": 98,
   "metadata": {},
   "outputs": [],
   "source": [
    "predictor_lr = LogisticRegression().fit(X_train, y_train)"
   ]
  },
  {
   "cell_type": "code",
   "execution_count": 99,
   "metadata": {},
   "outputs": [],
   "source": [
    "predictor_svm = LinearSVC().fit(X_train, y_train)"
   ]
  },
  {
   "cell_type": "code",
   "execution_count": 100,
   "metadata": {},
   "outputs": [],
   "source": [
    "predictor_rf = RandomForestClassifier(n_estimators=1000).fit(X_train, y_train)"
   ]
  },
  {
   "cell_type": "code",
   "execution_count": 101,
   "metadata": {},
   "outputs": [],
   "source": [
    "predictor_gbt = GradientBoostingClassifier(n_estimators=100).fit(X_train, y_train)"
   ]
  },
  {
   "cell_type": "markdown",
   "metadata": {},
   "source": [
    "**Evaluate Classifiers:**"
   ]
  },
  {
   "cell_type": "code",
   "execution_count": 109,
   "metadata": {},
   "outputs": [
    {
     "name": "stdout",
     "output_type": "stream",
     "text": [
      "LR accuracy: 0.93\n"
     ]
    }
   ],
   "source": [
    "y_pred_lr = predictor_lr.predict(X_test)\n",
    "print ('LR accuracy: {}'.format(round(np.mean(y_test == y_pred_lr), 2)))"
   ]
  },
  {
   "cell_type": "code",
   "execution_count": 114,
   "metadata": {},
   "outputs": [
    {
     "name": "stdout",
     "output_type": "stream",
     "text": [
      "LR accuracy: 0.97\n"
     ]
    }
   ],
   "source": [
    "y_pred_svm = predictor_svm.predict(X_test)\n",
    "print ('LR accuracy: {}'.format(round(np.mean(y_test == y_pred_svm), 2)))"
   ]
  },
  {
   "cell_type": "code",
   "execution_count": 111,
   "metadata": {},
   "outputs": [
    {
     "name": "stdout",
     "output_type": "stream",
     "text": [
      "RF accuracy: 0.9\n"
     ]
    }
   ],
   "source": [
    "y_pred_rf = predictor_rf.predict(X_test)\n",
    "print ('RF accuracy: {}'.format(round(np.mean(y_test == y_pred_rf), 2)))"
   ]
  },
  {
   "cell_type": "code",
   "execution_count": 112,
   "metadata": {},
   "outputs": [
    {
     "name": "stdout",
     "output_type": "stream",
     "text": [
      "GBT accuracy: 0.88\n"
     ]
    }
   ],
   "source": [
    "y_pred_gbt = predictor_gbt.predict(X_test)\n",
    "print ('GBT accuracy: {}'.format(round(np.mean(y_test == y_pred_gbt), 2)))"
   ]
  },
  {
   "cell_type": "markdown",
   "metadata": {},
   "source": [
    "### [Confusion Matrices](http://scikit-learn.org/stable/auto_examples/model_selection/plot_confusion_matrix.html#sphx-glr-auto-examples-model-selection-plot-confusion-matrix-py)\n"
   ]
  },
  {
   "cell_type": "code",
   "execution_count": 117,
   "metadata": {},
   "outputs": [],
   "source": [
    "def plot_confusion_matrix(cm, title='Contingency matrix'):\n",
    "    cm = cm.astype('float') / cm.sum(axis=1)[:, np.newaxis]\n",
    "\n",
    "    plt.figure(figsize=(10, 10))\n",
    "    plt.imshow(cm, interpolation='nearest', cmap=plt.cm.Blues)\n",
    "    plt.title(title, fontsize=20)\n",
    "    plt.colorbar()\n",
    "    tick_marks = np.arange(cm.shape[0])\n",
    "    classes = [x.split('.')[-1] for x in initial_categories]\n",
    "    plt.xticks(tick_marks, classes, rotation=45, size=14)\n",
    "    plt.yticks(tick_marks, classes, size=14)\n",
    "\n",
    "    thresh = cm.max() / 2.\n",
    "    for i, j in itertools.product(range(cm.shape[0]), range(cm.shape[1])):\n",
    "        plt.text(j, i, format(cm[i, j], '.2f'),\n",
    "                 horizontalalignment=\"center\",\n",
    "                 color=\"white\" if cm[i, j] > thresh else \"black\")\n",
    "\n",
    "    plt.tight_layout()\n",
    "    plt.ylabel('True label', fontsize=18)\n",
    "    plt.xlabel('Predicted label', fontsize=18)"
   ]
  },
  {
   "cell_type": "code",
   "execution_count": 118,
   "metadata": {},
   "outputs": [
    {
     "data": {
      "image/png": "[encoded data removed]",
      "text/plain": [
       "<Figure size 720x720 with 2 Axes>"
      ]
     },
     "metadata": {},
     "output_type": "display_data"
    }
   ],
   "source": [
    "cmt_lr = confusion_matrix(y_test, y_pred_lr)\n",
    "plot_confusion_matrix(cmt_lr, title='Confusion Matrix, LR')"
   ]
  },
  {
   "cell_type": "code",
   "execution_count": 119,
   "metadata": {},
   "outputs": [
    {
     "data": {
      "image/png": "[encoded data removed]",
      "text/plain": [
       "<Figure size 720x720 with 2 Axes>"
      ]
     },
     "metadata": {},
     "output_type": "display_data"
    }
   ],
   "source": [
    "cmt_svm = confusion_matrix(y_test, y_pred_svm)\n",
    "plot_confusion_matrix(cmt_svm, title='Confusion Matrix, SVM')"
   ]
  },
  {
   "cell_type": "code",
   "execution_count": 120,
   "metadata": {},
   "outputs": [
    {
     "data": {
      "image/png": "[encoded data removed]",
      "text/plain": [
       "<Figure size 720x720 with 2 Axes>"
      ]
     },
     "metadata": {},
     "output_type": "display_data"
    }
   ],
   "source": [
    "cmt_rf = confusion_matrix(y_test, y_pred_rf)\n",
    "plot_confusion_matrix(cmt_rf, title='Confusion Matrix, RF')"
   ]
  },
  {
   "cell_type": "code",
   "execution_count": 121,
   "metadata": {},
   "outputs": [
    {
     "data": {
      "image/png": "[encoded data removed]",
      "text/plain": [
       "<Figure size 720x720 with 2 Axes>"
      ]
     },
     "metadata": {},
     "output_type": "display_data"
    }
   ],
   "source": [
    "cmt_gbt = confusion_matrix(y_test, y_pred_gbt)\n",
    "plot_confusion_matrix(cmt_gbt, title='Confusion Matrix, GBT')"
   ]
  },
  {
   "cell_type": "markdown",
   "metadata": {},
   "source": [
    "### Feature Importances:"
   ]
  },
  {
   "cell_type": "code",
   "execution_count": 122,
   "metadata": {},
   "outputs": [
    {
     "data": {
      "image/png": "[encoded data removed]",
      "text/plain": [
       "<Figure size 1080x360 with 1 Axes>"
      ]
     },
     "metadata": {},
     "output_type": "display_data"
    }
   ],
   "source": [
    "plt.figure(figsize=(15, 5))\n",
    "\n",
    "plt.hist(predictor_rf.feature_importances_, bins=100)\n",
    "plt.grid(True)"
   ]
  },
  {
   "cell_type": "code",
   "execution_count": 123,
   "metadata": {},
   "outputs": [
    {
     "data": {
      "text/plain": [
       "(0, 0.001)"
      ]
     },
     "execution_count": 123,
     "metadata": {},
     "output_type": "execute_result"
    },
    {
     "data": {
      "image/png": "[encoded data removed]",
      "text/plain": [
       "<Figure size 1080x360 with 1 Axes>"
      ]
     },
     "metadata": {},
     "output_type": "display_data"
    }
   ],
   "source": [
    "plt.figure(figsize=(15, 5))\n",
    "\n",
    "plt.hist(predictor_rf.feature_importances_, bins=100)\n",
    "plt.grid(True)\n",
    "plt.xlim(0, 0.001)"
   ]
  },
  {
   "cell_type": "markdown",
   "metadata": {},
   "source": [
    "**Create feature selector:**"
   ]
  },
  {
   "cell_type": "code",
   "execution_count": 124,
   "metadata": {},
   "outputs": [],
   "source": [
    "feature_selector = SelectFromModel(RandomForestClassifier(n_estimators=10)).fit(X_train, y_train)"
   ]
  },
  {
   "cell_type": "code",
   "execution_count": 126,
   "metadata": {},
   "outputs": [
    {
     "name": "stdout",
     "output_type": "stream",
     "text": [
      "(572, 818) (144, 818)\n"
     ]
    }
   ],
   "source": [
    "X_train_transformed = feature_selector.transform(X_train)\n",
    "X_test_transformed = feature_selector.transform(X_test)\n",
    "\n",
    "print (X_train_transformed.shape, X_test_transformed.shape)"
   ]
  },
  {
   "cell_type": "markdown",
   "metadata": {},
   "source": [
    "**Train and evaluate the new classifier:**"
   ]
  },
  {
   "cell_type": "code",
   "execution_count": 127,
   "metadata": {},
   "outputs": [],
   "source": [
    "predictor_lr_ = LogisticRegression().fit(X_train_transformed, y_train)"
   ]
  },
  {
   "cell_type": "code",
   "execution_count": 130,
   "metadata": {},
   "outputs": [
    {
     "name": "stdout",
     "output_type": "stream",
     "text": [
      "LR (with feature selection) accuracy: 0.88\n"
     ]
    }
   ],
   "source": [
    "y_pred_lr_ = predictor_lr_.predict(X_test_transformed)\n",
    "print ('LR (with feature selection) accuracy: {}'.format(round(np.mean(y_test == y_pred_lr_), 2)))"
   ]
  },
  {
   "cell_type": "markdown",
   "metadata": {},
   "source": [
    "### Binary Classification"
   ]
  },
  {
   "cell_type": "code",
   "execution_count": 131,
   "metadata": {},
   "outputs": [],
   "source": [
    "predictor_oneVSall = OneVsRestClassifier(LinearSVC(), n_jobs=8).fit(X_train, y_train)"
   ]
  },
  {
   "cell_type": "code",
   "execution_count": 132,
   "metadata": {},
   "outputs": [
    {
     "name": "stdout",
     "output_type": "stream",
     "text": [
      "One-VS-all accuracy: 0.97\n"
     ]
    }
   ],
   "source": [
    "y_pred_onevsall = predictor_oneVSall.predict(X_test)\n",
    "print ('One-VS-all accuracy: {}'.format(round(np.mean(y_test == y_pred_onevsall), 2)))"
   ]
  },
  {
   "cell_type": "code",
   "execution_count": 133,
   "metadata": {},
   "outputs": [
    {
     "data": {
      "image/png": "[encoded data removed]",
      "text/plain": [
       "<Figure size 720x720 with 2 Axes>"
      ]
     },
     "metadata": {},
     "output_type": "display_data"
    }
   ],
   "source": [
    "cmt_svm_onevsall = confusion_matrix(y_test, y_pred_onevsall)\n",
    "plot_confusion_matrix(cmt_svm_onevsall, title='Confusion Matrix, one-VS-all SVM')"
   ]
  },
  {
   "cell_type": "code",
   "execution_count": 134,
   "metadata": {},
   "outputs": [],
   "source": [
    "predictor_oneVSone = OneVsOneClassifier(LinearSVC(), n_jobs=8).fit(X_train, y_train)"
   ]
  },
  {
   "cell_type": "code",
   "execution_count": 135,
   "metadata": {},
   "outputs": [
    {
     "name": "stdout",
     "output_type": "stream",
     "text": [
      "One-VS-one accuracy: 0.94\n"
     ]
    }
   ],
   "source": [
    "y_pred_onevsone = predictor_oneVSone.predict(X_test)\n",
    "print ('One-VS-one accuracy: {}'.format(round(np.mean(y_test == y_pred_onevsone), 2)))"
   ]
  },
  {
   "cell_type": "code",
   "execution_count": 200,
   "metadata": {},
   "outputs": [
    {
     "data": {
      "text/plain": [
       "array(['education', 'education', 'education', 'education', 'education',\n",
       "       'auto', 'education', 'education', 'culture'],\n",
       "      dtype='<U9')"
      ]
     },
     "execution_count": 200,
     "metadata": {},
     "output_type": "execute_result"
    }
   ],
   "source": [
    "y_pred_onevsone[y_pred_onevsone !=y_test]"
   ]
  },
  {
   "cell_type": "code",
   "execution_count": 204,
   "metadata": {
    "scrolled": true
   },
   "outputs": [
    {
     "data": {
      "text/plain": [
       "0      False\n",
       "1      False\n",
       "2      False\n",
       "3      False\n",
       "4      False\n",
       "5      False\n",
       "6      False\n",
       "7      False\n",
       "8       True\n",
       "9      False\n",
       "10     False\n",
       "11      True\n",
       "12     False\n",
       "13     False\n",
       "14     False\n",
       "15      True\n",
       "16     False\n",
       "17     False\n",
       "18     False\n",
       "19     False\n",
       "20     False\n",
       "21     False\n",
       "22     False\n",
       "23     False\n",
       "24     False\n",
       "25     False\n",
       "26     False\n",
       "27     False\n",
       "28      True\n",
       "29     False\n",
       "       ...  \n",
       "114    False\n",
       "115    False\n",
       "116    False\n",
       "117    False\n",
       "118    False\n",
       "119    False\n",
       "120    False\n",
       "121    False\n",
       "122    False\n",
       "123    False\n",
       "124    False\n",
       "125    False\n",
       "126    False\n",
       "127    False\n",
       "128     True\n",
       "129    False\n",
       "130    False\n",
       "131    False\n",
       "132    False\n",
       "133    False\n",
       "134    False\n",
       "135    False\n",
       "136    False\n",
       "137    False\n",
       "138    False\n",
       "139    False\n",
       "140    False\n",
       "141    False\n",
       "142    False\n",
       "143    False\n",
       "Length: 144, dtype: bool"
      ]
     },
     "execution_count": 204,
     "metadata": {},
     "output_type": "execute_result"
    }
   ],
   "source": [
    "pd.Series(y_pred_onevsone)!=y_test"
   ]
  },
  {
   "cell_type": "code",
   "execution_count": 206,
   "metadata": {},
   "outputs": [
    {
     "name": "stdout",
     "output_type": "stream",
     "text": [
      "education\n",
      "auto\n"
     ]
    }
   ],
   "source": [
    "print(y_pred_onevsone[8])\n",
    "print(y_test[8])"
   ]
  },
  {
   "cell_type": "code",
   "execution_count": 205,
   "metadata": {},
   "outputs": [
    {
     "data": {
      "text/plain": [
       "' профилактические предпраздничные мероприятия прошли во всех округах мурманска инспекторы проверяли соблюдение водителями правил перевозки детей в первые минуты рейда были выявлены нарушители один из них вез в автокресле не пристёгнутую шестилетнюю девочку в другом автомобиле полуторогодовалый ребенок сидел рядом с автокреслом на родителей составили протоколы об административном правонарушении с уплатой штрафа в размере трех тысяч рублей нежелание родителей осознавать степень опасности для детей при неиспользовании автокресел и удерживающих ремней это проблемы требующие постоянной профилактики подобная работа ведется вблизи детских садов средних образовательных учреждений медицинских организаций и центров детского досуга отмечает врио командира об дпс денис болобин '"
      ]
     },
     "execution_count": 205,
     "metadata": {},
     "output_type": "execute_result"
    }
   ],
   "source": [
    "test_x.index = pd.RangeIndex(len(test_x))\n",
    "test_x[8]"
   ]
  },
  {
   "cell_type": "code",
   "execution_count": 136,
   "metadata": {},
   "outputs": [
    {
     "data": {
      "image/png": "[encoded data removed]",
      "text/plain": [
       "<Figure size 720x720 with 2 Axes>"
      ]
     },
     "metadata": {},
     "output_type": "display_data"
    }
   ],
   "source": [
    "cmt_svm_onevsone = confusion_matrix(y_test, y_pred_onevsone)\n",
    "plot_confusion_matrix(cmt_svm_onevsone, title='Confusion Matrix, one-VS-one SVM')"
   ]
  },
  {
   "cell_type": "code",
   "execution_count": 140,
   "metadata": {},
   "outputs": [
    {
     "name": "stdout",
     "output_type": "stream",
     "text": [
      "Class 'auto' samples N: 143\n",
      "Class 'crime' samples N: 143\n",
      "Class 'culture' samples N: 143\n",
      "Class 'education' samples N: 143\n"
     ]
    }
   ],
   "source": [
    "for c in np.unique(y_train):\n",
    "    print ('Class \\'{}\\' samples N: {}'.format(c, y_train[y_train == c].shape[0]))"
   ]
  },
  {
   "cell_type": "code",
   "execution_count": 158,
   "metadata": {},
   "outputs": [
    {
     "name": "stdout",
     "output_type": "stream",
     "text": [
      "(286, 16840) (286,)\n"
     ]
    }
   ],
   "source": [
    "X_train_bin = X_train[(y_train == 'culture') | (y_train == 'education')]\n",
    "y_train_bin = y_train[(y_train == 'culture') | (y_train == 'education')]\n",
    "\n",
    "y_train_bin[y_train_bin == 'culture'] = 0\n",
    "y_train_bin[y_train_bin == 'education'] = 1\n",
    "y_train_bin = y_train_bin.astype(int)\n",
    "\n",
    "print (X_train_bin.shape, y_train_bin.shape)"
   ]
  },
  {
   "cell_type": "code",
   "execution_count": 159,
   "metadata": {},
   "outputs": [
    {
     "name": "stdout",
     "output_type": "stream",
     "text": [
      "(72, 16840) (72,)\n"
     ]
    }
   ],
   "source": [
    "X_test_bin = X_test[(y_test == 'culture') | (y_test == 'education')]\n",
    "y_test_bin = y_test[(y_test == 'culture') | (y_test == 'education')]\n",
    "\n",
    "y_test_bin[y_test_bin == 'culture'] = 0\n",
    "y_test_bin[y_test_bin == 'education'] = 1\n",
    "y_test_bin = y_test_bin.astype(int)\n",
    "\n",
    "print (X_test_bin.shape, y_test_bin.shape)"
   ]
  },
  {
   "cell_type": "code",
   "execution_count": 167,
   "metadata": {},
   "outputs": [],
   "source": [
    "one_binary_predictor = RandomForestClassifier(n_estimators=100).fit(X_train_bin, y_train_bin)"
   ]
  },
  {
   "cell_type": "markdown",
   "metadata": {},
   "source": [
    "### [Metrics](https://en.wikipedia.org/wiki/Precision_and_recall)"
   ]
  },
  {
   "cell_type": "code",
   "execution_count": 168,
   "metadata": {},
   "outputs": [
    {
     "name": "stdout",
     "output_type": "stream",
     "text": [
      "Binary classifiers accuracy: 0.93\n"
     ]
    }
   ],
   "source": [
    "y_pred_binary = one_binary_predictor.predict(X_test_bin)\n",
    "\n",
    "print ('Binary classifiers accuracy: {}'.format(round(np.mean(y_pred_binary == y_test_bin), 2)))"
   ]
  },
  {
   "cell_type": "code",
   "execution_count": 169,
   "metadata": {},
   "outputs": [],
   "source": [
    "def FP(y_true, y_pred):\n",
    "    return float(np.sum(y_true[y_true == 0] != y_pred[y_true == 0]))"
   ]
  },
  {
   "cell_type": "code",
   "execution_count": 170,
   "metadata": {},
   "outputs": [],
   "source": [
    "def TP(y_true, y_pred):\n",
    "    return float(np.sum(y_true[y_true == 1] == y_pred[y_true == 1]))"
   ]
  },
  {
   "cell_type": "code",
   "execution_count": 171,
   "metadata": {},
   "outputs": [],
   "source": [
    "def FN(y_true, y_pred):\n",
    "    return float(np.sum(y_true[y_true == 1] != y_pred[y_true == 1]))"
   ]
  },
  {
   "cell_type": "code",
   "execution_count": 172,
   "metadata": {},
   "outputs": [],
   "source": [
    "def TN(y_true, y_pred):\n",
    "    return float(np.sum(y_true[y_true == 0] == y_pred[y_true == 0]))"
   ]
  },
  {
   "cell_type": "code",
   "execution_count": 173,
   "metadata": {},
   "outputs": [
    {
     "name": "stdout",
     "output_type": "stream",
     "text": [
      "TP = 34.0, FP = 3.0, TN = 33.0, FN = 2.0\n",
      "---------------------------------------------\n",
      "sum = 72.0\n"
     ]
    }
   ],
   "source": [
    "fp = FP(y_test_bin, y_pred_binary)\n",
    "fn = FN(y_test_bin, y_pred_binary)\n",
    "tp = TP(y_test_bin, y_pred_binary)\n",
    "tn = TN(y_test_bin, y_pred_binary)\n",
    "\n",
    "print ('TP = {}, FP = {}, TN = {}, FN = {}\\n---------------------------------------------\\nsum = {}'.format(tp, fp, tn, fn, tp + fp + tn + fn))"
   ]
  },
  {
   "cell_type": "code",
   "execution_count": 174,
   "metadata": {},
   "outputs": [
    {
     "name": "stdout",
     "output_type": "stream",
     "text": [
      "Precision: 0.918918918918919, Recall: 0.9444444444444444\n"
     ]
    }
   ],
   "source": [
    "P = precision_score(y_test_bin, y_pred_binary)\n",
    "R = recall_score(y_test_bin, y_pred_binary)\n",
    "\n",
    "print ('Precision: {}, Recall: {}'.format(P, R))"
   ]
  },
  {
   "cell_type": "code",
   "execution_count": 175,
   "metadata": {},
   "outputs": [
    {
     "name": "stdout",
     "output_type": "stream",
     "text": [
      "0.918918918918919 0.9444444444444444\n"
     ]
    }
   ],
   "source": [
    "print (tp / (tp + fp), tp / (tp + fn))"
   ]
  },
  {
   "cell_type": "code",
   "execution_count": 176,
   "metadata": {},
   "outputs": [
    {
     "name": "stdout",
     "output_type": "stream",
     "text": [
      "F1: 0.9315068493150684\n"
     ]
    }
   ],
   "source": [
    "print ('F1: {}'.format(f1_score(y_test_bin, y_pred_binary)))"
   ]
  },
  {
   "cell_type": "code",
   "execution_count": 177,
   "metadata": {},
   "outputs": [
    {
     "name": "stdout",
     "output_type": "stream",
     "text": [
      "0.931506849315\n"
     ]
    }
   ],
   "source": [
    "print (2.0 * P * R / (P + R))"
   ]
  },
  {
   "cell_type": "code",
   "execution_count": 197,
   "metadata": {},
   "outputs": [
    {
     "data": {
      "text/plain": [
       "(72, 16840)"
      ]
     },
     "execution_count": 197,
     "metadata": {},
     "output_type": "execute_result"
    }
   ],
   "source": [
    "X_test_bin.shape"
   ]
  },
  {
   "cell_type": "code",
   "execution_count": 178,
   "metadata": {},
   "outputs": [
    {
     "name": "stdout",
     "output_type": "stream",
     "text": [
      "(72,)\n"
     ]
    }
   ],
   "source": [
    "scores_binary = one_binary_predictor.predict_proba(X_test_bin)[:, 1]\n",
    "\n",
    "print (scores_binary.shape)"
   ]
  },
  {
   "cell_type": "code",
   "execution_count": 183,
   "metadata": {},
   "outputs": [
    {
     "data": {
      "text/plain": [
       "range(49, 50)"
      ]
     },
     "execution_count": 183,
     "metadata": {},
     "output_type": "execute_result"
    }
   ],
   "source": [
    "range(q * i, q * (i + 1))"
   ]
  },
  {
   "cell_type": "code",
   "execution_count": 184,
   "metadata": {},
   "outputs": [
    {
     "data": {
      "text/plain": [
       "array([ 0.66])"
      ]
     },
     "execution_count": 184,
     "metadata": {},
     "output_type": "execute_result"
    }
   ],
   "source": [
    "scores_sorted[q * i : q * (i + 1)]"
   ]
  },
  {
   "cell_type": "code",
   "execution_count": 193,
   "metadata": {},
   "outputs": [
    {
     "data": {
      "text/plain": [
       "array([ 0.05,  0.11,  0.16,  0.16,  0.17,  0.18,  0.2 ,  0.22,  0.23,\n",
       "        0.24,  0.25,  0.25,  0.25,  0.26,  0.26,  0.28,  0.31,  0.31,\n",
       "        0.32,  0.32,  0.32,  0.33,  0.34,  0.34,  0.4 ,  0.4 ,  0.4 ,\n",
       "        0.41,  0.42,  0.43,  0.44,  0.46,  0.46,  0.47,  0.48,  0.51,\n",
       "        0.54,  0.55,  0.55,  0.56,  0.56,  0.57,  0.59,  0.61,  0.62,\n",
       "        0.62,  0.62,  0.63,  0.64,  0.66,  0.66,  0.66,  0.68,  0.69,\n",
       "        0.71,  0.71,  0.72,  0.72,  0.73,  0.74,  0.78,  0.78,  0.79,\n",
       "        0.79,  0.8 ,  0.8 ,  0.82,  0.82,  0.83,  0.83,  0.84,  0.86])"
      ]
     },
     "execution_count": 193,
     "metadata": {},
     "output_type": "execute_result"
    }
   ],
   "source": [
    "scores_sorted"
   ]
  },
  {
   "cell_type": "code",
   "execution_count": 198,
   "metadata": {
    "scrolled": false
   },
   "outputs": [
    {
     "data": {
      "image/png": "[encoded data removed]",
      "text/plain": [
       "<Figure size 1080x360 with 1 Axes>"
      ]
     },
     "metadata": {},
     "output_type": "display_data"
    }
   ],
   "source": [
    "plt.figure(figsize=(15, 5))\n",
    "\n",
    "N_batch = 10\n",
    "inds = np.argsort(scores_binary)\n",
    "scores_sorted = scores_binary[inds]\n",
    "y_sorted = y_test_bin[inds]\n",
    "q = len(y_test_bin) // N_batch\n",
    "\n",
    "for i in range(N_batch):\n",
    "    plt.plot(range(q * i, q * (i + 1)), scores_sorted[q * i : q * (i + 1)],'ob')\n",
    "    plt.plot(range(q * i, q * (i + 1)), [np.mean(y_sorted[q * i : q * (i + 1)])] * q, 'ro')\n",
    "    \n",
    "plt.grid(True)"
   ]
  },
  {
   "cell_type": "code",
   "execution_count": 52,
   "metadata": {},
   "outputs": [],
   "source": [
    "fpr, tpr, thresholds = roc_curve(y_test_bin, scores_binary)"
   ]
  },
  {
   "cell_type": "code",
   "execution_count": 53,
   "metadata": {},
   "outputs": [
    {
     "data": {
      "text/plain": [
       "(-0.1, 1.1)"
      ]
     },
     "execution_count": 53,
     "metadata": {},
     "output_type": "execute_result"
    },
    {
     "data": {
      "image/png": "[encoded data removed]",
      "text/plain": [
       "<Figure size 1080x360 with 1 Axes>"
      ]
     },
     "metadata": {},
     "output_type": "display_data"
    }
   ],
   "source": [
    "plt.figure(figsize=(15, 5))\n",
    "\n",
    "inds = np.argsort(fpr)\n",
    "plt.plot(fpr[inds], tpr[inds])\n",
    "plt.grid(True)\n",
    "plt.xlim(-0.1, 1.1)\n",
    "plt.ylim(-0.1, 1.1)"
   ]
  },
  {
   "cell_type": "code",
   "execution_count": 54,
   "metadata": {},
   "outputs": [
    {
     "name": "stdout",
     "output_type": "stream",
     "text": [
      "AUC score: 0.983794146721\n"
     ]
    }
   ],
   "source": [
    "roc_auc = roc_auc_score(y_test_bin, scores_binary)\n",
    "\n",
    "print 'AUC score: {}'.format(roc_auc, 2)"
   ]
  },
  {
   "cell_type": "code",
   "execution_count": 56,
   "metadata": {},
   "outputs": [
    {
     "name": "stdout",
     "output_type": "stream",
     "text": [
      "thr = 0.504785655909: F1 +0.0035\n",
      "thr = 0.485095370974: F1 +0.0031\n",
      "thr = 0.480729676346: F1 +0.0057\n",
      "thr = 0.480516493463: F1 +0.0039\n",
      "thr = 0.469977336138: F1 +0.0083\n",
      "thr = 0.46990937657: F1 +0.0066\n",
      "thr = 0.467158472881: F1 +0.0131\n",
      "thr = 0.466458427364: F1 +0.0113\n",
      "thr = 0.462352420533: F1 +0.0199\n",
      "thr = 0.458340955617: F1 +0.0163\n",
      "thr = 0.45658557643: F1 +0.0184\n",
      "thr = 0.455257528258: F1 +0.0167\n",
      "thr = 0.454569310697: F1 +0.0209\n",
      "thr = 0.447121968459: F1 +0.0191\n",
      "thr = 0.44270785316: F1 +0.0212\n",
      "thr = 0.437210235221: F1 +0.0195\n",
      "thr = 0.437015086662: F1 +0.0216\n",
      "thr = 0.434122501169: F1 +0.0129\n",
      "thr = 0.430693801046: F1 +0.015\n",
      "thr = 0.421791120273: F1 +0.0081\n",
      "thr = 0.420593583687: F1 +0.0102\n",
      "thr = 0.419017649164: F1 +0.0085\n",
      "thr = 0.409890690352: F1 +0.0106\n",
      "thr = 0.396582332444: F1 +0.003\n",
      "\n",
      "Max. F1: 0.914\n"
     ]
    }
   ],
   "source": [
    "f1_max = 0\n",
    "y_pred_best = None\n",
    "\n",
    "for thr in thresholds:\n",
    "    y_pred_tuned = scores_binary.copy()\n",
    "    y_pred_tuned[y_pred_tuned < thr] = 0\n",
    "    y_pred_tuned[y_pred_tuned >= thr] = 1\n",
    "    \n",
    "    f1 = f1_score(y_test_bin, y_pred_tuned)\n",
    "    if f1 > f1_max:\n",
    "        f1_max = f1\n",
    "        y_pred_best = y_pred_tuned\n",
    "    if f1 > 0.894308943089:\n",
    "        print 'thr = {}: F1 +{}'.format(thr, round(f1 - 0.8920570264765784, 4))\n",
    "        \n",
    "print\n",
    "print 'Max. F1: {}'.format(round(f1_max, 3))"
   ]
  },
  {
   "cell_type": "code",
   "execution_count": 57,
   "metadata": {},
   "outputs": [
    {
     "name": "stdout",
     "output_type": "stream",
     "text": [
      "0.9307692307692308\n"
     ]
    }
   ],
   "source": [
    "print np.mean(y_test_bin == y_pred_best)"
   ]
  },
  {
   "cell_type": "markdown",
   "metadata": {},
   "source": [
    "## Ensembling"
   ]
  },
  {
   "cell_type": "code",
   "execution_count": 58,
   "metadata": {},
   "outputs": [
    {
     "name": "stdout",
     "output_type": "stream",
     "text": [
      "0.503755364806867\n",
      "0.574928469241774\n",
      "0.5160944206008584\n"
     ]
    }
   ],
   "source": [
    "print np.mean(RandomForestClassifier(n_estimators=10).fit(X_train, y_train).predict(X_test) == y_test)\n",
    "print np.mean(RandomForestClassifier(n_estimators=100, criterion='entropy').fit(X_train, y_train).predict(X_test) == y_test)\n",
    "print np.mean(GradientBoostingClassifier(n_estimators=10).fit(X_train, y_train).predict(X_test) == y_test)"
   ]
  },
  {
   "cell_type": "code",
   "execution_count": 59,
   "metadata": {},
   "outputs": [],
   "source": [
    "ensemble_soft = VotingClassifier([('rf_gini_10', RandomForestClassifier(n_estimators=10)),\n",
    "                                  ('rf_entropy_100', RandomForestClassifier(n_estimators=100, criterion='entropy')),\n",
    "                                  ('gbt_100', GradientBoostingClassifier(n_estimators=10))], voting='soft', n_jobs=1)\n",
    "\n",
    "ensemble_hard = VotingClassifier([('rf_gini_10', RandomForestClassifier(n_estimators=10)),\n",
    "                                  ('rf_entropy_100', RandomForestClassifier(n_estimators=100, criterion='entropy')),\n",
    "                                  ('gbt_100', GradientBoostingClassifier(n_estimators=10))], voting='hard', n_jobs=1)"
   ]
  },
  {
   "cell_type": "code",
   "execution_count": 60,
   "metadata": {},
   "outputs": [
    {
     "data": {
      "text/plain": [
       "VotingClassifier(estimators=[('rf_gini_10', RandomForestClassifier(bootstrap=True, class_weight=None, criterion='gini',\n",
       "            max_depth=None, max_features='auto', max_leaf_nodes=None,\n",
       "            min_impurity_decrease=0.0, min_impurity_split=None,\n",
       "            min_samples_leaf=1, min_samples_split=2,\n",
       "          ...      presort='auto', random_state=None, subsample=1.0, verbose=0,\n",
       "              warm_start=False))],\n",
       "         flatten_transform=None, n_jobs=1, voting='hard', weights=None)"
      ]
     },
     "execution_count": 60,
     "metadata": {},
     "output_type": "execute_result"
    }
   ],
   "source": [
    "ensemble_soft.fit(X_train, y_train)\n",
    "ensemble_hard.fit(X_train, y_train)"
   ]
  },
  {
   "cell_type": "code",
   "execution_count": 61,
   "metadata": {},
   "outputs": [
    {
     "name": "stderr",
     "output_type": "stream",
     "text": [
      "/usr/local/lib/python2.7/dist-packages/sklearn/preprocessing/label.py:151: DeprecationWarning: The truth value of an empty array is ambiguous. Returning False, but in future this will result in an error. Use `array.size > 0` to check that an array is not empty.\n",
      "  if diff:\n"
     ]
    },
    {
     "name": "stdout",
     "output_type": "stream",
     "text": [
      "(5592,) (5592,)\n"
     ]
    },
    {
     "name": "stderr",
     "output_type": "stream",
     "text": [
      "/usr/local/lib/python2.7/dist-packages/sklearn/preprocessing/label.py:151: DeprecationWarning: The truth value of an empty array is ambiguous. Returning False, but in future this will result in an error. Use `array.size > 0` to check that an array is not empty.\n",
      "  if diff:\n"
     ]
    }
   ],
   "source": [
    "y_pred_hard = ensemble_hard.predict(X_test)\n",
    "y_pred_soft = ensemble_soft.predict(X_test)\n",
    "\n",
    "print y_pred_hard.shape, y_pred_soft.shape"
   ]
  },
  {
   "cell_type": "code",
   "execution_count": 62,
   "metadata": {},
   "outputs": [
    {
     "name": "stdout",
     "output_type": "stream",
     "text": [
      "Hard voting accuracy: 0.57%\n",
      "Soft voting accuracy: 0.58%\n"
     ]
    }
   ],
   "source": [
    "print 'Hard voting accuracy: {}%'.format(round(np.mean(y_test == y_pred_hard), 2))\n",
    "print 'Soft voting accuracy: {}%'.format(round(np.mean(y_test == y_pred_soft), 2))"
   ]
  },
  {
   "cell_type": "code",
   "execution_count": null,
   "metadata": {},
   "outputs": [],
   "source": []
  }
 ],
 "metadata": {
  "kernelspec": {
   "display_name": "Python 3",
   "language": "python",
   "name": "python3"
  },
  "language_info": {
   "codemirror_mode": {
    "name": "ipython",
    "version": 3
   },
   "file_extension": ".py",
   "mimetype": "text/x-python",
   "name": "python",
   "nbconvert_exporter": "python",
   "pygments_lexer": "ipython3",
   "version": "3.6.3"
  }
 },
 "nbformat": 4,
 "nbformat_minor": 2
}
