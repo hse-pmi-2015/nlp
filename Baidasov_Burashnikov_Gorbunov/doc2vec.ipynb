{
 "cells": [
  {
   "cell_type": "code",
   "execution_count": 14,
   "metadata": {},
   "outputs": [],
   "source": [
    "import os\n",
    "from sklearn.feature_extraction.text import TfidfVectorizer\n",
    "import numpy as np\n",
    "from sklearn.linear_model import LogisticRegression\n",
    "\n",
    "from sklearn.ensemble import RandomForestClassifier, GradientBoostingClassifier, VotingClassifier\n",
    "\n",
    "import matplotlib.pyplot as plt\n",
    "\n",
    "from sklearn.metrics import confusion_matrix, recall_score, precision_score, f1_score, roc_curve, roc_auc_score\n",
    "import itertools\n",
    "\n",
    "from sklearn.svm import LinearSVC\n",
    "from sklearn.feature_selection import SelectFromModel\n",
    "from sklearn.multiclass import OneVsRestClassifier, OneVsOneClassifier\n",
    "\n",
    "import pymorphy2\n",
    "morph = pymorphy2.MorphAnalyzer()\n",
    "\n",
    "from nltk.stem.snowball import RussianStemmer\n",
    "stemmer = RussianStemmer()\n",
    "\n",
    "%matplotlib inline"
   ]
  },
  {
   "cell_type": "code",
   "execution_count": 2,
   "metadata": {},
   "outputs": [],
   "source": [
    "import pandas as pd\n",
    "import re\n",
    "from gensim.parsing.preprocessing import *"
   ]
  },
  {
   "cell_type": "code",
   "execution_count": 3,
   "metadata": {},
   "outputs": [
    {
     "name": "stdout",
     "output_type": "stream",
     "text": [
      "(216, 4)\n"
     ]
    }
   ],
   "source": [
    "DATA_PATH = 'corpus.csv'\n",
    "df = pd.read_csv(DATA_PATH,index_col=0)#, header=None, sep=';',\n",
    "#                  names=['id', 'tdate', 'tmane', 'ttext', 'ttype', 'trep', 'trtw', 'tfav', 'tstcount', \n",
    "#                         'tfol', 'tfrien', 'listcount'])\n",
    "print(df.shape)"
   ]
  },
  {
   "cell_type": "code",
   "execution_count": 4,
   "metadata": {},
   "outputs": [
    {
     "data": {
      "text/html": [
       "<div>\n",
       "<style scoped>\n",
       "    .dataframe tbody tr th:only-of-type {\n",
       "        vertical-align: middle;\n",
       "    }\n",
       "\n",
       "    .dataframe tbody tr th {\n",
       "        vertical-align: top;\n",
       "    }\n",
       "\n",
       "    .dataframe thead th {\n",
       "        text-align: right;\n",
       "    }\n",
       "</style>\n",
       "<table border=\"1\" class=\"dataframe\">\n",
       "  <thead>\n",
       "    <tr style=\"text-align: right;\">\n",
       "      <th></th>\n",
       "      <th>auto</th>\n",
       "      <th>crime</th>\n",
       "      <th>culture</th>\n",
       "      <th>education</th>\n",
       "    </tr>\n",
       "  </thead>\n",
       "  <tbody>\n",
       "    <tr>\n",
       "      <th>0</th>\n",
       "      <td>[&lt;div class=\"itemFullText\"&gt;\\r\\n&lt;p&gt;&lt;em&gt;&lt;strong&gt;...</td>\n",
       "      <td>[&lt;div class=\"itemFullText\"&gt;\\r\\n&lt;p&gt;&lt;em&gt;&lt;strong&gt;...</td>\n",
       "      <td>[&lt;div class=\"itemFullText\"&gt;\\r\\n&lt;p style=\"text-...</td>\n",
       "      <td>[&lt;div class=\"itemFullText\"&gt;\\r\\n&lt;p&gt;&lt;em&gt;&lt;strong&gt;...</td>\n",
       "    </tr>\n",
       "    <tr>\n",
       "      <th>1</th>\n",
       "      <td>[&lt;div class=\"itemFullText\"&gt;\\r\\n&lt;p&gt;&lt;em&gt;&lt;strong&gt;...</td>\n",
       "      <td>[&lt;div class=\"itemFullText\"&gt;\\r\\n&lt;p&gt;&lt;em&gt;&lt;strong&gt;...</td>\n",
       "      <td>[&lt;div class=\"itemFullText\"&gt;\\r\\n&lt;p&gt;&lt;strong&gt;&lt;em&gt;...</td>\n",
       "      <td>[&lt;div class=\"itemFullText\"&gt;\\r\\n&lt;p&gt;&lt;em&gt;&lt;strong&gt;...</td>\n",
       "    </tr>\n",
       "    <tr>\n",
       "      <th>2</th>\n",
       "      <td>[&lt;div class=\"itemFullText\"&gt;\\r\\n&lt;p&gt;&lt;em&gt;&lt;strong&gt;...</td>\n",
       "      <td>[&lt;div class=\"itemFullText\"&gt;\\r\\n&lt;p&gt;&lt;em&gt;&lt;strong&gt;...</td>\n",
       "      <td>[&lt;div class=\"itemFullText\"&gt;\\r\\n&lt;p&gt;&lt;em&gt;&lt;strong&gt;...</td>\n",
       "      <td>[&lt;div class=\"itemFullText\"&gt;\\r\\n&lt;p&gt;&lt;em&gt;&lt;strong&gt;...</td>\n",
       "    </tr>\n",
       "    <tr>\n",
       "      <th>3</th>\n",
       "      <td>[&lt;div class=\"itemFullText\"&gt;\\r\\n&lt;p&gt;&lt;em&gt;&lt;strong&gt;...</td>\n",
       "      <td>[&lt;div class=\"itemFullText\"&gt;\\r\\n&lt;p&gt;&lt;em&gt;&lt;strong&gt;...</td>\n",
       "      <td>[&lt;div class=\"itemFullText\"&gt;\\r\\n&lt;p&gt;&lt;em&gt;&lt;strong&gt;...</td>\n",
       "      <td>[&lt;div class=\"itemFullText\"&gt;\\r\\n&lt;p style=\"text-...</td>\n",
       "    </tr>\n",
       "    <tr>\n",
       "      <th>4</th>\n",
       "      <td>[&lt;div class=\"itemFullText\"&gt;\\r\\n&lt;p&gt;&lt;em&gt;&lt;strong&gt;...</td>\n",
       "      <td>[&lt;div class=\"itemFullText\"&gt;\\r\\n&lt;p&gt;&lt;em&gt;&lt;strong&gt;...</td>\n",
       "      <td>[&lt;div class=\"itemFullText\"&gt;\\r\\n&lt;p&gt;&lt;em&gt;&lt;strong&gt;...</td>\n",
       "      <td>[&lt;div class=\"itemFullText\"&gt;\\r\\n&lt;p&gt;&lt;em&gt;&lt;strong&gt;...</td>\n",
       "    </tr>\n",
       "  </tbody>\n",
       "</table>\n",
       "</div>"
      ],
      "text/plain": [
       "                                                auto  \\\n",
       "0  [<div class=\"itemFullText\">\\r\\n<p><em><strong>...   \n",
       "1  [<div class=\"itemFullText\">\\r\\n<p><em><strong>...   \n",
       "2  [<div class=\"itemFullText\">\\r\\n<p><em><strong>...   \n",
       "3  [<div class=\"itemFullText\">\\r\\n<p><em><strong>...   \n",
       "4  [<div class=\"itemFullText\">\\r\\n<p><em><strong>...   \n",
       "\n",
       "                                               crime  \\\n",
       "0  [<div class=\"itemFullText\">\\r\\n<p><em><strong>...   \n",
       "1  [<div class=\"itemFullText\">\\r\\n<p><em><strong>...   \n",
       "2  [<div class=\"itemFullText\">\\r\\n<p><em><strong>...   \n",
       "3  [<div class=\"itemFullText\">\\r\\n<p><em><strong>...   \n",
       "4  [<div class=\"itemFullText\">\\r\\n<p><em><strong>...   \n",
       "\n",
       "                                             culture  \\\n",
       "0  [<div class=\"itemFullText\">\\r\\n<p style=\"text-...   \n",
       "1  [<div class=\"itemFullText\">\\r\\n<p><strong><em>...   \n",
       "2  [<div class=\"itemFullText\">\\r\\n<p><em><strong>...   \n",
       "3  [<div class=\"itemFullText\">\\r\\n<p><em><strong>...   \n",
       "4  [<div class=\"itemFullText\">\\r\\n<p><em><strong>...   \n",
       "\n",
       "                                           education  \n",
       "0  [<div class=\"itemFullText\">\\r\\n<p><em><strong>...  \n",
       "1  [<div class=\"itemFullText\">\\r\\n<p><em><strong>...  \n",
       "2  [<div class=\"itemFullText\">\\r\\n<p><em><strong>...  \n",
       "3  [<div class=\"itemFullText\">\\r\\n<p style=\"text-...  \n",
       "4  [<div class=\"itemFullText\">\\r\\n<p><em><strong>...  "
      ]
     },
     "execution_count": 4,
     "metadata": {},
     "output_type": "execute_result"
    }
   ],
   "source": [
    "df.head()"
   ]
  },
  {
   "cell_type": "code",
   "execution_count": 5,
   "metadata": {},
   "outputs": [
    {
     "data": {
      "text/plain": [
       "'сегодня в городе тольна соберутся победителей ii международного творческого детского фотоконкурса в объятиях природы организаторами масштабного проекта выступают фонд содействия развитию муниципальных образований ассоциация территорий расположения атомных электростанций ао концерн росэнергоатом и венгерская аэс пакш город полярные зори представят виктория серебренникова и екатерина таранникова в течение десяти дней в рамках работы экологического лагеря ребят ждёт увлекательная экскурсионная программа по москве с визитом в экспозиционный центр концерна росэнергоатом и будапеште в тольна российские школьники посетят серию мастер классов от известного профессионального фотохудожника балинта винце берег реки дунай маковые поля рыболовные пруды венгерские деревушки и аэс пакш список мест проведения уроков фотоискусства запланированы и съемки метеоритного дождя итогом экологического лагеря станут не только прекрасные фотографии новые знания приятные впечатления но и дружеские связи между школьниками из городов расположения российских аэс '"
      ]
     },
     "execution_count": 5,
     "metadata": {},
     "output_type": "execute_result"
    }
   ],
   "source": [
    "corpus = []\n",
    "for topic in df:\n",
    "    corpus += df[topic].tolist()\n",
    "    \n",
    "corpus = pd.Series(corpus)\n",
    "corpus = corpus.apply(lambda x: x.lower())\n",
    "corpus = corpus.apply(strip_tags)\n",
    "corpus = corpus.apply(strip_punctuation2)\n",
    "corpus = corpus.apply(strip_numeric)\n",
    "corpus = corpus.apply(lambda x: re.sub(r'\\w+:\\/{2}[\\d\\w-]+(\\.[\\d\\w-]+)*(?:(?:\\/[^\\s/]*))*', u' ', x))\n",
    "corpus = corpus.apply(lambda x: re.sub('«|»', ' ', x))\n",
    "corpus = corpus.apply(strip_multiple_whitespaces)\n",
    "corpus = corpus.apply(lambda x: x.partition(' – ')[2])\n",
    "# corpus = [re.sub(' +' , ' ', doc) for doc in corpus]\n",
    "corpus.iloc[-1]"
   ]
  },
  {
   "cell_type": "code",
   "execution_count": 12,
   "metadata": {},
   "outputs": [],
   "source": [
    "def str_prepr(stringa):\n",
    "    res_str = stringa.lower()\n",
    "    res_str = strip_tags(res_str)\n",
    "    res_str = strip_punctuation2(res_str)\n",
    "    res_str = strip_numeric(res_str)\n",
    "    res_str = re.sub(r'\\w+:\\/{2}[\\d\\w-]+(\\.[\\d\\w-]+)*(?:(?:\\/[^\\s/]*))*', u' ', res_str)\n",
    "    res_str = re.sub('«|»', ' ', res_str)\n",
    "    res_str = res_str.partition('би порт')[2]\n",
    "    res_str = re.sub('—|–', ' ', res_str)\n",
    "    res_str =strip_multiple_whitespaces(res_str)\n",
    "    sp = res_str.split()\n",
    "    tmp_tokens = []\n",
    "    for word in sp:\n",
    "        if word not in stop_words.get_stop_words('ru'):\n",
    "            if morph.word_is_known(word):\n",
    "                tmp_tokens.append(stemmer.stem(word))\n",
    "#     res_str = ' '.join(tmp_tokens)\n",
    "#     res_embedding = vectorizer.transform([res_str])\n",
    "#     print(res_str)\n",
    "#     return res_str\n",
    "    return tmp_tokens\n",
    "#     res_str =res_str.partition(' – ')[2]"
   ]
  },
  {
   "cell_type": "code",
   "execution_count": 15,
   "metadata": {},
   "outputs": [],
   "source": [
    "clear_df = df.apply(lambda x: x.apply(lambda y: str_prepr(y)))"
   ]
  },
  {
   "cell_type": "markdown",
   "metadata": {},
   "source": [
    "---"
   ]
  },
  {
   "cell_type": "markdown",
   "metadata": {},
   "source": [
    "## Prepare The Data"
   ]
  },
  {
   "cell_type": "code",
   "execution_count": 8,
   "metadata": {},
   "outputs": [],
   "source": [
    "import stop_words"
   ]
  },
  {
   "cell_type": "code",
   "execution_count": 61,
   "metadata": {},
   "outputs": [
    {
     "data": {
      "text/plain": [
       "(216, 4)"
      ]
     },
     "execution_count": 61,
     "metadata": {},
     "output_type": "execute_result"
    }
   ],
   "source": [
    "clear_df.dropna(inplace=True,axis=0)"
   ]
  },
  {
   "cell_type": "code",
   "execution_count": 16,
   "metadata": {},
   "outputs": [],
   "source": [
    "train_x = pd.Series()\n",
    "train_y = []\n",
    "test_x = pd.Series()\n",
    "test_y = []\n",
    "for col in clear_df.columns:\n",
    "    index = [col for i in range(clear_df.crime.sample(frac=0.3).shape[0])]\n",
    "    data = clear_df[col].sample(frac=0.3)\n",
    "    \n",
    "    train_y.extend(index)\n",
    "    train_x = train_x.append(data)\n",
    "    \n",
    "    test_y.extend([col for i in range(clear_df[col][~clear_df[col].index.isin(data.index.values)].shape[0])])\n",
    "    test_x = test_x.append(clear_df[col][~clear_df[col].index.isin(data.index.values)])"
   ]
  },
  {
   "cell_type": "code",
   "execution_count": 25,
   "metadata": {},
   "outputs": [],
   "source": [
    "train_x.index = pd.RangeIndex(train_x.shape[0])\n",
    "empty_mask = train_x.apply(lambda x: True if len(x)>0 else False)\n",
    "train_y = pd.Series(train_y)[empty_mask].tolist()\n",
    "train_x = train_x[train_x.apply(lambda x: True if len(x)>0 else False)]"
   ]
  },
  {
   "cell_type": "code",
   "execution_count": 26,
   "metadata": {},
   "outputs": [],
   "source": [
    "test_x.index = pd.RangeIndex(test_x.shape[0])\n",
    "empty_mask = test_x.apply(lambda x: True if len(x)>0 else False)\n",
    "test_y = pd.Series(test_y)[empty_mask].tolist()\n",
    "test_x = test_x[test_x.apply(lambda x: True if len(x)>0 else False)]"
   ]
  },
  {
   "cell_type": "code",
   "execution_count": 171,
   "metadata": {},
   "outputs": [
    {
     "name": "stderr",
     "output_type": "stream",
     "text": [
      "WARNING:gensim.models.base_any2vec:under 10 jobs per worker: consider setting a smaller `batch_words' for smoother alpha decay\n"
     ]
    }
   ],
   "source": [
    "from gensim.test.utils import common_texts\n",
    "from gensim.models.doc2vec import Doc2Vec, TaggedDocument\n",
    "\n",
    "documents = [TaggedDocument(train_x.values[i], train_y[i]) for i in range(len(train_x))]\n",
    "model = Doc2Vec(documents, vector_size=20, window=3, min_count=2, workers=4,dbow_words=1,hs=1)"
   ]
  },
  {
   "cell_type": "code",
   "execution_count": 172,
   "metadata": {},
   "outputs": [],
   "source": [
    "vector = model.infer_vector([\"мурманск\", \"область\"])"
   ]
  },
  {
   "cell_type": "code",
   "execution_count": 173,
   "metadata": {},
   "outputs": [
    {
     "data": {
      "text/plain": [
       "array([ 0.00519437,  0.0012773 , -0.00010941,  0.0019465 , -0.00372788,\n",
       "       -0.01149049,  0.00980994, -0.00455104, -0.00355817, -0.00162653,\n",
       "       -0.00952141,  0.02323311,  0.01105251,  0.00197638,  0.00685206,\n",
       "        0.01377613, -0.02320313,  0.00813282, -0.01465167, -0.01287605],\n",
       "      dtype=float32)"
      ]
     },
     "execution_count": 173,
     "metadata": {},
     "output_type": "execute_result"
    }
   ],
   "source": [
    "vector"
   ]
  },
  {
   "cell_type": "code",
   "execution_count": 174,
   "metadata": {},
   "outputs": [],
   "source": [
    "vectorized_texts = [ model.infer_vector(text) for text in test_x ]"
   ]
  },
  {
   "cell_type": "code",
   "execution_count": 175,
   "metadata": {},
   "outputs": [],
   "source": [
    "from sklearn.model_selection import  train_test_split\n",
    "X_train, X_test, Y_train, Y_test = train_test_split(vectorized_texts, test_y, test_size=0.2,random_state=42, stratify=test_y)"
   ]
  },
  {
   "cell_type": "markdown",
   "metadata": {},
   "source": [
    "---"
   ]
  },
  {
   "cell_type": "markdown",
   "metadata": {},
   "source": [
    "## Build Models"
   ]
  },
  {
   "cell_type": "markdown",
   "metadata": {},
   "source": [
    "* **Logistic Regression**\n",
    "* **SVM**\n",
    "* **Random Forest**\n",
    "* **Gradient Boosting Trees**"
   ]
  },
  {
   "cell_type": "markdown",
   "metadata": {},
   "source": [
    "**Define classifiers:**"
   ]
  },
  {
   "cell_type": "code",
   "execution_count": 176,
   "metadata": {},
   "outputs": [],
   "source": [
    "y_train = np.array(Y_train)\n",
    "y_test = np.array(Y_test)"
   ]
  },
  {
   "cell_type": "code",
   "execution_count": 177,
   "metadata": {},
   "outputs": [],
   "source": [
    "X_train = np.array(X_train)\n",
    "X_test = np.array(X_test)"
   ]
  },
  {
   "cell_type": "code",
   "execution_count": 178,
   "metadata": {},
   "outputs": [],
   "source": [
    "predictor_lr = LogisticRegression().fit(X_train, y_train)"
   ]
  },
  {
   "cell_type": "code",
   "execution_count": 196,
   "metadata": {},
   "outputs": [],
   "source": [
    "predictor_svm = LinearSVC(C=2.5).fit(X_train, y_train)"
   ]
  },
  {
   "cell_type": "code",
   "execution_count": 197,
   "metadata": {},
   "outputs": [],
   "source": [
    "predictor_rf = RandomForestClassifier(n_estimators=1000).fit(X_train, y_train)"
   ]
  },
  {
   "cell_type": "code",
   "execution_count": 198,
   "metadata": {},
   "outputs": [],
   "source": [
    "predictor_gbt = GradientBoostingClassifier(n_estimators=100).fit(X_train, y_train)"
   ]
  },
  {
   "cell_type": "markdown",
   "metadata": {},
   "source": [
    "**Evaluate Classifiers:**"
   ]
  },
  {
   "cell_type": "code",
   "execution_count": 199,
   "metadata": {},
   "outputs": [
    {
     "name": "stdout",
     "output_type": "stream",
     "text": [
      "LR accuracy: 0.91\n"
     ]
    }
   ],
   "source": [
    "y_pred_lr = predictor_lr.predict(X_test)\n",
    "print ('LR accuracy: {}'.format(round(np.mean(y_test == y_pred_lr), 2)))"
   ]
  },
  {
   "cell_type": "code",
   "execution_count": 200,
   "metadata": {},
   "outputs": [
    {
     "name": "stdout",
     "output_type": "stream",
     "text": [
      "svm accuracy: 0.93\n"
     ]
    }
   ],
   "source": [
    "y_pred_svm = predictor_svm.predict(X_test)\n",
    "print ('svm accuracy: {}'.format(round(np.mean(y_test == y_pred_svm), 2)))"
   ]
  },
  {
   "cell_type": "code",
   "execution_count": 184,
   "metadata": {},
   "outputs": [
    {
     "name": "stdout",
     "output_type": "stream",
     "text": [
      "RF accuracy: 0.9\n"
     ]
    }
   ],
   "source": [
    "y_pred_rf = predictor_rf.predict(X_test)\n",
    "print ('RF accuracy: {}'.format(round(np.mean(y_test == y_pred_rf), 2)))"
   ]
  },
  {
   "cell_type": "code",
   "execution_count": 185,
   "metadata": {},
   "outputs": [
    {
     "name": "stdout",
     "output_type": "stream",
     "text": [
      "GBT accuracy: 0.91\n"
     ]
    }
   ],
   "source": [
    "y_pred_gbt = predictor_gbt.predict(X_test)\n",
    "print ('GBT accuracy: {}'.format(round(np.mean(y_test == y_pred_gbt), 2)))"
   ]
  },
  {
   "cell_type": "markdown",
   "metadata": {},
   "source": [
    "### [Confusion Matrices](http://scikit-learn.org/stable/auto_examples/model_selection/plot_confusion_matrix.html#sphx-glr-auto-examples-model-selection-plot-confusion-matrix-py)\n"
   ]
  },
  {
   "cell_type": "code",
   "execution_count": 100,
   "metadata": {},
   "outputs": [],
   "source": [
    "def plot_confusion_matrix(cm, title='Contingency matrix'):\n",
    "    cm = cm.astype('float') / cm.sum(axis=1)[:, np.newaxis]\n",
    "\n",
    "    plt.figure(figsize=(10, 10))\n",
    "    plt.imshow(cm, interpolation='nearest', cmap=plt.cm.Blues)\n",
    "    plt.title(title, fontsize=20)\n",
    "    plt.colorbar()\n",
    "    tick_marks = np.arange(cm.shape[0])\n",
    "    classes = [x.split('.')[-1] for x in initial_categories]\n",
    "    plt.xticks(tick_marks, classes, rotation=45, size=14)\n",
    "    plt.yticks(tick_marks, classes, size=14)\n",
    "\n",
    "    thresh = cm.max() / 2.\n",
    "    for i, j in itertools.product(range(cm.shape[0]), range(cm.shape[1])):\n",
    "        plt.text(j, i, format(cm[i, j], '.2f'),\n",
    "                 horizontalalignment=\"center\",\n",
    "                 color=\"white\" if cm[i, j] > thresh else \"black\")\n",
    "\n",
    "    plt.tight_layout()\n",
    "    plt.ylabel('True label', fontsize=18)\n",
    "    plt.xlabel('Predicted label', fontsize=18)"
   ]
  },
  {
   "cell_type": "code",
   "execution_count": 101,
   "metadata": {},
   "outputs": [],
   "source": [
    "initial_categories = clear_df.columns.values"
   ]
  },
  {
   "cell_type": "code",
   "execution_count": 102,
   "metadata": {},
   "outputs": [
    {
     "data": {
      "image/png": "[encoded data removed]",
      "text/plain": [
       "<Figure size 720x720 with 2 Axes>"
      ]
     },
     "metadata": {},
     "output_type": "display_data"
    }
   ],
   "source": [
    "cmt_lr = confusion_matrix(y_test, y_pred_lr)\n",
    "plot_confusion_matrix(cmt_lr, title='Confusion Matrix, LR')"
   ]
  },
  {
   "cell_type": "code",
   "execution_count": 103,
   "metadata": {},
   "outputs": [
    {
     "data": {
      "image/png": "[encoded data removed]",
      "text/plain": [
       "<Figure size 720x720 with 2 Axes>"
      ]
     },
     "metadata": {},
     "output_type": "display_data"
    }
   ],
   "source": [
    "cmt_svm = confusion_matrix(y_test, y_pred_svm)\n",
    "plot_confusion_matrix(cmt_svm, title='Confusion Matrix, SVM')"
   ]
  },
  {
   "cell_type": "code",
   "execution_count": 104,
   "metadata": {},
   "outputs": [
    {
     "data": {
      "image/png": "[encoded data removed]",
      "text/plain": [
       "<Figure size 720x720 with 2 Axes>"
      ]
     },
     "metadata": {},
     "output_type": "display_data"
    }
   ],
   "source": [
    "cmt_rf = confusion_matrix(y_test, y_pred_rf)\n",
    "plot_confusion_matrix(cmt_rf, title='Confusion Matrix, RF')"
   ]
  },
  {
   "cell_type": "code",
   "execution_count": 105,
   "metadata": {},
   "outputs": [
    {
     "data": {
      "image/png": "[encoded data removed]",
      "text/plain": [
       "<Figure size 720x720 with 2 Axes>"
      ]
     },
     "metadata": {},
     "output_type": "display_data"
    }
   ],
   "source": [
    "cmt_gbt = confusion_matrix(y_test, y_pred_gbt)\n",
    "plot_confusion_matrix(cmt_gbt, title='Confusion Matrix, GBT')"
   ]
  },
  {
   "cell_type": "markdown",
   "metadata": {},
   "source": [
    "### Feature Importances:"
   ]
  },
  {
   "cell_type": "code",
   "execution_count": 106,
   "metadata": {},
   "outputs": [
    {
     "data": {
      "image/png": "[encoded data removed]",
      "text/plain": [
       "<Figure size 1080x360 with 1 Axes>"
      ]
     },
     "metadata": {},
     "output_type": "display_data"
    }
   ],
   "source": [
    "plt.figure(figsize=(15, 5))\n",
    "\n",
    "plt.hist(predictor_rf.feature_importances_, bins=100)\n",
    "plt.grid(True)"
   ]
  },
  {
   "cell_type": "code",
   "execution_count": 77,
   "metadata": {},
   "outputs": [
    {
     "data": {
      "text/plain": [
       "(0, 0.001)"
      ]
     },
     "execution_count": 77,
     "metadata": {},
     "output_type": "execute_result"
    },
    {
     "data": {
      "image/png": "[encoded data removed]",
      "text/plain": [
       "<Figure size 1080x360 with 1 Axes>"
      ]
     },
     "metadata": {},
     "output_type": "display_data"
    }
   ],
   "source": [
    "plt.figure(figsize=(15, 5))\n",
    "\n",
    "plt.hist(predictor_rf.feature_importances_, bins=100)\n",
    "plt.grid(True)\n",
    "plt.xlim(0, 0.001)"
   ]
  },
  {
   "cell_type": "markdown",
   "metadata": {},
   "source": [
    "**Create feature selector:**"
   ]
  },
  {
   "cell_type": "code",
   "execution_count": 107,
   "metadata": {},
   "outputs": [],
   "source": [
    "feature_selector = SelectFromModel(RandomForestClassifier(n_estimators=10)).fit(X_train, y_train)"
   ]
  },
  {
   "cell_type": "code",
   "execution_count": 108,
   "metadata": {},
   "outputs": [
    {
     "name": "stdout",
     "output_type": "stream",
     "text": [
      "(456, 10) (115, 10)\n"
     ]
    }
   ],
   "source": [
    "X_train_transformed = feature_selector.transform(X_train)\n",
    "X_test_transformed = feature_selector.transform(X_test)\n",
    "\n",
    "print (X_train_transformed.shape, X_test_transformed.shape)"
   ]
  },
  {
   "cell_type": "markdown",
   "metadata": {},
   "source": [
    "**Train and evaluate the new classifier:**"
   ]
  },
  {
   "cell_type": "code",
   "execution_count": 109,
   "metadata": {},
   "outputs": [],
   "source": [
    "predictor_lr_ = LogisticRegression().fit(X_train_transformed, y_train)"
   ]
  },
  {
   "cell_type": "code",
   "execution_count": 110,
   "metadata": {},
   "outputs": [
    {
     "name": "stdout",
     "output_type": "stream",
     "text": [
      "LR (with feature selection) accuracy: 0.64\n"
     ]
    }
   ],
   "source": [
    "y_pred_lr_ = predictor_lr_.predict(X_test_transformed)\n",
    "print ('LR (with feature selection) accuracy: {}'.format(round(np.mean(y_test == y_pred_lr_), 2)))"
   ]
  },
  {
   "cell_type": "markdown",
   "metadata": {},
   "source": [
    "### Binary Classification"
   ]
  },
  {
   "cell_type": "code",
   "execution_count": 111,
   "metadata": {},
   "outputs": [],
   "source": [
    "predictor_oneVSall = OneVsRestClassifier(LinearSVC(), n_jobs=8).fit(X_train, y_train)"
   ]
  },
  {
   "cell_type": "code",
   "execution_count": 112,
   "metadata": {},
   "outputs": [
    {
     "name": "stdout",
     "output_type": "stream",
     "text": [
      "One-VS-all accuracy: 0.84\n"
     ]
    }
   ],
   "source": [
    "y_pred_onevsall = predictor_oneVSall.predict(X_test)\n",
    "print ('One-VS-all accuracy: {}'.format(round(np.mean(y_test == y_pred_onevsall), 2)))"
   ]
  },
  {
   "cell_type": "code",
   "execution_count": 113,
   "metadata": {},
   "outputs": [
    {
     "data": {
      "image/png": "[encoded data removed]",
      "text/plain": [
       "<Figure size 720x720 with 2 Axes>"
      ]
     },
     "metadata": {},
     "output_type": "display_data"
    }
   ],
   "source": [
    "cmt_svm_onevsall = confusion_matrix(y_test, y_pred_onevsall)\n",
    "plot_confusion_matrix(cmt_svm_onevsall, title='Confusion Matrix, one-VS-all SVM')"
   ]
  },
  {
   "cell_type": "code",
   "execution_count": 114,
   "metadata": {},
   "outputs": [],
   "source": [
    "predictor_oneVSone = OneVsOneClassifier(LinearSVC(), n_jobs=8).fit(X_train, y_train)"
   ]
  },
  {
   "cell_type": "code",
   "execution_count": 115,
   "metadata": {},
   "outputs": [
    {
     "name": "stdout",
     "output_type": "stream",
     "text": [
      "One-VS-one accuracy: 0.83\n"
     ]
    }
   ],
   "source": [
    "y_pred_onevsone = predictor_oneVSone.predict(X_test)\n",
    "print ('One-VS-one accuracy: {}'.format(round(np.mean(y_test == y_pred_onevsone), 2)))"
   ]
  },
  {
   "cell_type": "code",
   "execution_count": 116,
   "metadata": {},
   "outputs": [
    {
     "data": {
      "text/plain": [
       "array(['auto', 'auto', 'culture', 'culture', 'culture', 'culture', 'auto',\n",
       "       'auto', 'culture', 'auto', 'auto', 'auto', 'auto', 'education',\n",
       "       'education', 'auto', 'education', 'auto', 'culture', 'education'],\n",
       "      dtype='<U9')"
      ]
     },
     "execution_count": 116,
     "metadata": {},
     "output_type": "execute_result"
    }
   ],
   "source": [
    "y_pred_onevsone[y_pred_onevsone !=y_test]"
   ]
  },
  {
   "cell_type": "code",
   "execution_count": 117,
   "metadata": {
    "scrolled": true
   },
   "outputs": [
    {
     "data": {
      "text/plain": [
       "0      False\n",
       "1       True\n",
       "2      False\n",
       "3      False\n",
       "4      False\n",
       "5      False\n",
       "6       True\n",
       "7      False\n",
       "8      False\n",
       "9      False\n",
       "10      True\n",
       "11     False\n",
       "12      True\n",
       "13     False\n",
       "14     False\n",
       "15      True\n",
       "16     False\n",
       "17     False\n",
       "18     False\n",
       "19     False\n",
       "20     False\n",
       "21     False\n",
       "22      True\n",
       "23     False\n",
       "24     False\n",
       "25      True\n",
       "26     False\n",
       "27     False\n",
       "28      True\n",
       "29      True\n",
       "       ...  \n",
       "85     False\n",
       "86     False\n",
       "87     False\n",
       "88     False\n",
       "89     False\n",
       "90     False\n",
       "91     False\n",
       "92     False\n",
       "93     False\n",
       "94     False\n",
       "95     False\n",
       "96     False\n",
       "97     False\n",
       "98     False\n",
       "99     False\n",
       "100    False\n",
       "101    False\n",
       "102    False\n",
       "103    False\n",
       "104    False\n",
       "105    False\n",
       "106     True\n",
       "107    False\n",
       "108    False\n",
       "109     True\n",
       "110    False\n",
       "111    False\n",
       "112    False\n",
       "113    False\n",
       "114    False\n",
       "Length: 115, dtype: bool"
      ]
     },
     "execution_count": 117,
     "metadata": {},
     "output_type": "execute_result"
    }
   ],
   "source": [
    "pd.Series(y_pred_onevsone)!=y_test"
   ]
  },
  {
   "cell_type": "code",
   "execution_count": 118,
   "metadata": {},
   "outputs": [
    {
     "name": "stdout",
     "output_type": "stream",
     "text": [
      "auto\n",
      "auto\n"
     ]
    }
   ],
   "source": [
    "print(y_pred_onevsone[8])\n",
    "print(y_test[8])"
   ]
  },
  {
   "cell_type": "code",
   "execution_count": 119,
   "metadata": {
    "scrolled": true
   },
   "outputs": [
    {
     "data": {
      "text/plain": [
       "['вечер',\n",
       " 'январ',\n",
       " 'км',\n",
       " 'автодорог',\n",
       " 'кол',\n",
       " 'произошл',\n",
       " 'дтп',\n",
       " 'участ',\n",
       " 'пят',\n",
       " 'автомобил',\n",
       " 'числ',\n",
       " 'грузов',\n",
       " 'информац',\n",
       " 'авар',\n",
       " 'поступ',\n",
       " 'мчс',\n",
       " 'еха',\n",
       " 'машин',\n",
       " 'пол',\n",
       " 'вынесл',\n",
       " 'сугроб',\n",
       " 'лев',\n",
       " 'полос',\n",
       " 'успел',\n",
       " 'поня',\n",
       " 'откуд',\n",
       " 'взял',\n",
       " 'приеха',\n",
       " 'водительск',\n",
       " 'двер',\n",
       " 'машин',\n",
       " 'цел',\n",
       " 'подушк',\n",
       " 'сработа',\n",
       " 'пристегнут',\n",
       " 'мерседес',\n",
       " 'поня',\n",
       " 'порядк',\n",
       " 'пишет',\n",
       " 'социальн',\n",
       " 'сет',\n",
       " 'вконтакт',\n",
       " 'валер',\n",
       " 'сообщен',\n",
       " 'очевидц',\n",
       " 'результат',\n",
       " 'авар',\n",
       " 'никт',\n",
       " 'серьезн',\n",
       " 'пострада',\n",
       " 'обстоятельств',\n",
       " 'выясня']"
      ]
     },
     "execution_count": 119,
     "metadata": {},
     "output_type": "execute_result"
    }
   ],
   "source": [
    "test_x.index = pd.RangeIndex(len(test_x))\n",
    "test_x[8]"
   ]
  },
  {
   "cell_type": "code",
   "execution_count": 120,
   "metadata": {},
   "outputs": [
    {
     "data": {
      "image/png": "[encoded data removed]",
      "text/plain": [
       "<Figure size 720x720 with 2 Axes>"
      ]
     },
     "metadata": {},
     "output_type": "display_data"
    }
   ],
   "source": [
    "cmt_svm_onevsone = confusion_matrix(y_test, y_pred_onevsone)\n",
    "plot_confusion_matrix(cmt_svm_onevsone, title='Confusion Matrix, one-VS-one SVM')"
   ]
  },
  {
   "cell_type": "code",
   "execution_count": 121,
   "metadata": {},
   "outputs": [
    {
     "name": "stdout",
     "output_type": "stream",
     "text": [
      "Class 'auto' samples N: 118\n",
      "Class 'crime' samples N: 121\n",
      "Class 'culture' samples N: 114\n",
      "Class 'education' samples N: 103\n"
     ]
    }
   ],
   "source": [
    "for c in np.unique(y_train):\n",
    "    print ('Class \\'{}\\' samples N: {}'.format(c, y_train[y_train == c].shape[0]))"
   ]
  },
  {
   "cell_type": "code",
   "execution_count": 122,
   "metadata": {},
   "outputs": [
    {
     "name": "stdout",
     "output_type": "stream",
     "text": [
      "(217, 30) (217,)\n"
     ]
    }
   ],
   "source": [
    "X_train_bin = X_train[(y_train == 'culture') | (y_train == 'education')]\n",
    "y_train_bin = y_train[(y_train == 'culture') | (y_train == 'education')]\n",
    "\n",
    "y_train_bin[y_train_bin == 'culture'] = 0\n",
    "y_train_bin[y_train_bin == 'education'] = 1\n",
    "y_train_bin = y_train_bin.astype(int)\n",
    "\n",
    "print (X_train_bin.shape, y_train_bin.shape)"
   ]
  },
  {
   "cell_type": "code",
   "execution_count": 123,
   "metadata": {},
   "outputs": [
    {
     "name": "stdout",
     "output_type": "stream",
     "text": [
      "(55, 30) (55,)\n"
     ]
    }
   ],
   "source": [
    "X_test_bin = X_test[(y_test == 'culture') | (y_test == 'education')]\n",
    "y_test_bin = y_test[(y_test == 'culture') | (y_test == 'education')]\n",
    "\n",
    "y_test_bin[y_test_bin == 'culture'] = 0\n",
    "y_test_bin[y_test_bin == 'education'] = 1\n",
    "y_test_bin = y_test_bin.astype(int)\n",
    "\n",
    "print (X_test_bin.shape, y_test_bin.shape)"
   ]
  },
  {
   "cell_type": "code",
   "execution_count": 124,
   "metadata": {},
   "outputs": [],
   "source": [
    "one_binary_predictor = RandomForestClassifier(n_estimators=100).fit(X_train_bin, y_train_bin)"
   ]
  },
  {
   "cell_type": "markdown",
   "metadata": {},
   "source": [
    "### [Metrics](https://en.wikipedia.org/wiki/Precision_and_recall)"
   ]
  },
  {
   "cell_type": "code",
   "execution_count": 125,
   "metadata": {},
   "outputs": [
    {
     "name": "stdout",
     "output_type": "stream",
     "text": [
      "Binary classifiers accuracy: 0.85\n"
     ]
    }
   ],
   "source": [
    "y_pred_binary = one_binary_predictor.predict(X_test_bin)\n",
    "\n",
    "print ('Binary classifiers accuracy: {}'.format(round(np.mean(y_pred_binary == y_test_bin), 2)))"
   ]
  },
  {
   "cell_type": "code",
   "execution_count": 126,
   "metadata": {},
   "outputs": [],
   "source": [
    "def FP(y_true, y_pred):\n",
    "    return float(np.sum(y_true[y_true == 0] != y_pred[y_true == 0]))"
   ]
  },
  {
   "cell_type": "code",
   "execution_count": 127,
   "metadata": {},
   "outputs": [],
   "source": [
    "def TP(y_true, y_pred):\n",
    "    return float(np.sum(y_true[y_true == 1] == y_pred[y_true == 1]))"
   ]
  },
  {
   "cell_type": "code",
   "execution_count": 128,
   "metadata": {},
   "outputs": [],
   "source": [
    "def FN(y_true, y_pred):\n",
    "    return float(np.sum(y_true[y_true == 1] != y_pred[y_true == 1]))"
   ]
  },
  {
   "cell_type": "code",
   "execution_count": 129,
   "metadata": {},
   "outputs": [],
   "source": [
    "def TN(y_true, y_pred):\n",
    "    return float(np.sum(y_true[y_true == 0] == y_pred[y_true == 0]))"
   ]
  },
  {
   "cell_type": "code",
   "execution_count": 130,
   "metadata": {},
   "outputs": [
    {
     "name": "stdout",
     "output_type": "stream",
     "text": [
      "TP = 23.0, FP = 5.0, TN = 24.0, FN = 3.0\n",
      "---------------------------------------------\n",
      "sum = 55.0\n"
     ]
    }
   ],
   "source": [
    "fp = FP(y_test_bin, y_pred_binary)\n",
    "fn = FN(y_test_bin, y_pred_binary)\n",
    "tp = TP(y_test_bin, y_pred_binary)\n",
    "tn = TN(y_test_bin, y_pred_binary)\n",
    "\n",
    "print ('TP = {}, FP = {}, TN = {}, FN = {}\\n---------------------------------------------\\nsum = {}'.format(tp, fp, tn, fn, tp + fp + tn + fn))"
   ]
  },
  {
   "cell_type": "code",
   "execution_count": 131,
   "metadata": {},
   "outputs": [
    {
     "name": "stdout",
     "output_type": "stream",
     "text": [
      "Precision: 0.8214285714285714, Recall: 0.8846153846153846\n"
     ]
    }
   ],
   "source": [
    "P = precision_score(y_test_bin, y_pred_binary)\n",
    "R = recall_score(y_test_bin, y_pred_binary)\n",
    "\n",
    "print ('Precision: {}, Recall: {}'.format(P, R))"
   ]
  },
  {
   "cell_type": "code",
   "execution_count": 132,
   "metadata": {},
   "outputs": [
    {
     "name": "stdout",
     "output_type": "stream",
     "text": [
      "0.8214285714285714 0.8846153846153846\n"
     ]
    }
   ],
   "source": [
    "print (tp / (tp + fp), tp / (tp + fn))"
   ]
  },
  {
   "cell_type": "code",
   "execution_count": 133,
   "metadata": {},
   "outputs": [
    {
     "name": "stdout",
     "output_type": "stream",
     "text": [
      "F1: 0.8518518518518519\n"
     ]
    }
   ],
   "source": [
    "print ('F1: {}'.format(f1_score(y_test_bin, y_pred_binary)))"
   ]
  },
  {
   "cell_type": "code",
   "execution_count": 134,
   "metadata": {},
   "outputs": [
    {
     "name": "stdout",
     "output_type": "stream",
     "text": [
      "0.8518518518518519\n"
     ]
    }
   ],
   "source": [
    "print (2.0 * P * R / (P + R))"
   ]
  },
  {
   "cell_type": "code",
   "execution_count": 135,
   "metadata": {},
   "outputs": [
    {
     "data": {
      "text/plain": [
       "(55, 30)"
      ]
     },
     "execution_count": 135,
     "metadata": {},
     "output_type": "execute_result"
    }
   ],
   "source": [
    "X_test_bin.shape"
   ]
  },
  {
   "cell_type": "code",
   "execution_count": 136,
   "metadata": {},
   "outputs": [
    {
     "name": "stdout",
     "output_type": "stream",
     "text": [
      "(55,)\n"
     ]
    }
   ],
   "source": [
    "scores_binary = one_binary_predictor.predict_proba(X_test_bin)[:, 1]\n",
    "\n",
    "print (scores_binary.shape)"
   ]
  },
  {
   "cell_type": "code",
   "execution_count": 138,
   "metadata": {
    "scrolled": false
   },
   "outputs": [
    {
     "data": {
      "image/png": "[encoded data removed]",
      "text/plain": [
       "<Figure size 1080x360 with 1 Axes>"
      ]
     },
     "metadata": {},
     "output_type": "display_data"
    }
   ],
   "source": [
    "plt.figure(figsize=(15, 5))\n",
    "\n",
    "N_batch = 10\n",
    "inds = np.argsort(scores_binary)\n",
    "scores_sorted = scores_binary[inds]\n",
    "y_sorted = y_test_bin[inds]\n",
    "q = len(y_test_bin) // N_batch\n",
    "\n",
    "for i in range(N_batch):\n",
    "    plt.plot(range(q * i, q * (i + 1)), scores_sorted[q * i : q * (i + 1)],'ob')\n",
    "    plt.plot(range(q * i, q * (i + 1)), [np.mean(y_sorted[q * i : q * (i + 1)])] * q, 'ro')\n",
    "    \n",
    "plt.grid(True)"
   ]
  },
  {
   "cell_type": "code",
   "execution_count": 139,
   "metadata": {},
   "outputs": [],
   "source": [
    "fpr, tpr, thresholds = roc_curve(y_test_bin, scores_binary)"
   ]
  },
  {
   "cell_type": "code",
   "execution_count": 140,
   "metadata": {},
   "outputs": [
    {
     "data": {
      "text/plain": [
       "(-0.1, 1.1)"
      ]
     },
     "execution_count": 140,
     "metadata": {},
     "output_type": "execute_result"
    },
    {
     "data": {
      "image/png": "[encoded data removed]",
      "text/plain": [
       "<Figure size 1080x360 with 1 Axes>"
      ]
     },
     "metadata": {},
     "output_type": "display_data"
    }
   ],
   "source": [
    "plt.figure(figsize=(15, 5))\n",
    "\n",
    "inds = np.argsort(fpr)\n",
    "plt.plot(fpr[inds], tpr[inds])\n",
    "plt.grid(True)\n",
    "plt.xlim(-0.1, 1.1)\n",
    "plt.ylim(-0.1, 1.1)"
   ]
  },
  {
   "cell_type": "code",
   "execution_count": 142,
   "metadata": {},
   "outputs": [
    {
     "name": "stdout",
     "output_type": "stream",
     "text": [
      "AUC score: 0.8919098143236074\n"
     ]
    }
   ],
   "source": [
    "roc_auc = roc_auc_score(y_test_bin, scores_binary)\n",
    "\n",
    "print ('AUC score: {}'.format(roc_auc, 2))"
   ]
  },
  {
   "cell_type": "code",
   "execution_count": 56,
   "metadata": {},
   "outputs": [
    {
     "name": "stdout",
     "output_type": "stream",
     "text": [
      "thr = 0.504785655909: F1 +0.0035\n",
      "thr = 0.485095370974: F1 +0.0031\n",
      "thr = 0.480729676346: F1 +0.0057\n",
      "thr = 0.480516493463: F1 +0.0039\n",
      "thr = 0.469977336138: F1 +0.0083\n",
      "thr = 0.46990937657: F1 +0.0066\n",
      "thr = 0.467158472881: F1 +0.0131\n",
      "thr = 0.466458427364: F1 +0.0113\n",
      "thr = 0.462352420533: F1 +0.0199\n",
      "thr = 0.458340955617: F1 +0.0163\n",
      "thr = 0.45658557643: F1 +0.0184\n",
      "thr = 0.455257528258: F1 +0.0167\n",
      "thr = 0.454569310697: F1 +0.0209\n",
      "thr = 0.447121968459: F1 +0.0191\n",
      "thr = 0.44270785316: F1 +0.0212\n",
      "thr = 0.437210235221: F1 +0.0195\n",
      "thr = 0.437015086662: F1 +0.0216\n",
      "thr = 0.434122501169: F1 +0.0129\n",
      "thr = 0.430693801046: F1 +0.015\n",
      "thr = 0.421791120273: F1 +0.0081\n",
      "thr = 0.420593583687: F1 +0.0102\n",
      "thr = 0.419017649164: F1 +0.0085\n",
      "thr = 0.409890690352: F1 +0.0106\n",
      "thr = 0.396582332444: F1 +0.003\n",
      "\n",
      "Max. F1: 0.914\n"
     ]
    }
   ],
   "source": [
    "f1_max = 0\n",
    "y_pred_best = None\n",
    "\n",
    "for thr in thresholds:\n",
    "    y_pred_tuned = scores_binary.copy()\n",
    "    y_pred_tuned[y_pred_tuned < thr] = 0\n",
    "    y_pred_tuned[y_pred_tuned >= thr] = 1\n",
    "    \n",
    "    f1 = f1_score(y_test_bin, y_pred_tuned)\n",
    "    if f1 > f1_max:\n",
    "        f1_max = f1\n",
    "        y_pred_best = y_pred_tuned\n",
    "    if f1 > 0.894308943089:\n",
    "        print 'thr = {}: F1 +{}'.format(thr, round(f1 - 0.8920570264765784, 4))\n",
    "        \n",
    "print\n",
    "print 'Max. F1: {}'.format(round(f1_max, 3))"
   ]
  },
  {
   "cell_type": "code",
   "execution_count": 57,
   "metadata": {},
   "outputs": [
    {
     "name": "stdout",
     "output_type": "stream",
     "text": [
      "0.9307692307692308\n"
     ]
    }
   ],
   "source": [
    "print np.mean(y_test_bin == y_pred_best)"
   ]
  },
  {
   "cell_type": "markdown",
   "metadata": {},
   "source": [
    "## Ensembling"
   ]
  },
  {
   "cell_type": "code",
   "execution_count": 58,
   "metadata": {},
   "outputs": [
    {
     "name": "stdout",
     "output_type": "stream",
     "text": [
      "0.503755364806867\n",
      "0.574928469241774\n",
      "0.5160944206008584\n"
     ]
    }
   ],
   "source": [
    "print np.mean(RandomForestClassifier(n_estimators=10).fit(X_train, y_train).predict(X_test) == y_test)\n",
    "print np.mean(RandomForestClassifier(n_estimators=100, criterion='entropy').fit(X_train, y_train).predict(X_test) == y_test)\n",
    "print np.mean(GradientBoostingClassifier(n_estimators=10).fit(X_train, y_train).predict(X_test) == y_test)"
   ]
  },
  {
   "cell_type": "code",
   "execution_count": 59,
   "metadata": {},
   "outputs": [],
   "source": [
    "ensemble_soft = VotingClassifier([('rf_gini_10', RandomForestClassifier(n_estimators=10)),\n",
    "                                  ('rf_entropy_100', RandomForestClassifier(n_estimators=100, criterion='entropy')),\n",
    "                                  ('gbt_100', GradientBoostingClassifier(n_estimators=10))], voting='soft', n_jobs=1)\n",
    "\n",
    "ensemble_hard = VotingClassifier([('rf_gini_10', RandomForestClassifier(n_estimators=10)),\n",
    "                                  ('rf_entropy_100', RandomForestClassifier(n_estimators=100, criterion='entropy')),\n",
    "                                  ('gbt_100', GradientBoostingClassifier(n_estimators=10))], voting='hard', n_jobs=1)"
   ]
  },
  {
   "cell_type": "code",
   "execution_count": 60,
   "metadata": {},
   "outputs": [
    {
     "data": {
      "text/plain": [
       "VotingClassifier(estimators=[('rf_gini_10', RandomForestClassifier(bootstrap=True, class_weight=None, criterion='gini',\n",
       "            max_depth=None, max_features='auto', max_leaf_nodes=None,\n",
       "            min_impurity_decrease=0.0, min_impurity_split=None,\n",
       "            min_samples_leaf=1, min_samples_split=2,\n",
       "          ...      presort='auto', random_state=None, subsample=1.0, verbose=0,\n",
       "              warm_start=False))],\n",
       "         flatten_transform=None, n_jobs=1, voting='hard', weights=None)"
      ]
     },
     "execution_count": 60,
     "metadata": {},
     "output_type": "execute_result"
    }
   ],
   "source": [
    "ensemble_soft.fit(X_train, y_train)\n",
    "ensemble_hard.fit(X_train, y_train)"
   ]
  },
  {
   "cell_type": "code",
   "execution_count": 61,
   "metadata": {},
   "outputs": [
    {
     "name": "stderr",
     "output_type": "stream",
     "text": [
      "/usr/local/lib/python2.7/dist-packages/sklearn/preprocessing/label.py:151: DeprecationWarning: The truth value of an empty array is ambiguous. Returning False, but in future this will result in an error. Use `array.size > 0` to check that an array is not empty.\n",
      "  if diff:\n"
     ]
    },
    {
     "name": "stdout",
     "output_type": "stream",
     "text": [
      "(5592,) (5592,)\n"
     ]
    },
    {
     "name": "stderr",
     "output_type": "stream",
     "text": [
      "/usr/local/lib/python2.7/dist-packages/sklearn/preprocessing/label.py:151: DeprecationWarning: The truth value of an empty array is ambiguous. Returning False, but in future this will result in an error. Use `array.size > 0` to check that an array is not empty.\n",
      "  if diff:\n"
     ]
    }
   ],
   "source": [
    "y_pred_hard = ensemble_hard.predict(X_test)\n",
    "y_pred_soft = ensemble_soft.predict(X_test)\n",
    "\n",
    "print y_pred_hard.shape, y_pred_soft.shape"
   ]
  },
  {
   "cell_type": "code",
   "execution_count": 62,
   "metadata": {},
   "outputs": [
    {
     "name": "stdout",
     "output_type": "stream",
     "text": [
      "Hard voting accuracy: 0.57%\n",
      "Soft voting accuracy: 0.58%\n"
     ]
    }
   ],
   "source": [
    "print 'Hard voting accuracy: {}%'.format(round(np.mean(y_test == y_pred_hard), 2))\n",
    "print 'Soft voting accuracy: {}%'.format(round(np.mean(y_test == y_pred_soft), 2))"
   ]
  },
  {
   "cell_type": "code",
   "execution_count": null,
   "metadata": {},
   "outputs": [],
   "source": []
  }
 ],
 "metadata": {
  "kernelspec": {
   "display_name": "Python 3",
   "language": "python",
   "name": "python3"
  },
  "language_info": {
   "codemirror_mode": {
    "name": "ipython",
    "version": 3
   },
   "file_extension": ".py",
   "mimetype": "text/x-python",
   "name": "python",
   "nbconvert_exporter": "python",
   "pygments_lexer": "ipython3",
   "version": "3.6.3"
  }
 },
 "nbformat": 4,
 "nbformat_minor": 2
}
