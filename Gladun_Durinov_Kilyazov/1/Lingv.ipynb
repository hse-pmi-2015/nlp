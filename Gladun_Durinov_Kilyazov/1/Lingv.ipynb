{
 "cells": [
  {
   "cell_type": "code",
   "execution_count": 3,
   "metadata": {},
   "outputs": [],
   "source": [
    "import csv\n",
    "import xml.etree.cElementTree as ET"
   ]
  },
  {
   "cell_type": "code",
   "execution_count": 4,
   "metadata": {},
   "outputs": [],
   "source": [
    "csv_path = \"lenta-ru-news_2016_full.csv\"\n",
    "idf = 0\n",
    "corp = []\n",
    "with open(csv_path, \"r\", encoding='utf-8') as f_obj:\n",
    "    reader = csv.reader(f_obj)\n",
    "    for row in reader:\n",
    "        if len(row)>0:\n",
    "            st = ''.join(row)\n",
    "            lst = st.split(';')\n",
    "            if (len(lst)>4):\n",
    "                dct = {\n",
    "                    \"id\"         : str(idf),\n",
    "                    \"url\"        : lst[0],\n",
    "                    \"title\"      : lst[1],\n",
    "                    \"text\"       : ';'.join(lst[2:len(lst)-2]),\n",
    "                    \"topic\"      : lst[len(lst)-2],\n",
    "                    \"tags\"       : lst[len(lst)-1]\n",
    "                }\n",
    "                idf +=1\n",
    "                corp.append(dct)"
   ]
  },
  {
   "cell_type": "code",
   "execution_count": 5,
   "metadata": {},
   "outputs": [
    {
     "data": {
      "text/plain": [
       "{'id': '0',\n",
       " 'url': 'url',\n",
       " 'title': 'title',\n",
       " 'text': 'text',\n",
       " 'topic': 'topic',\n",
       " 'tags': 'tags'}"
      ]
     },
     "execution_count": 5,
     "metadata": {},
     "output_type": "execute_result"
    }
   ],
   "source": [
    "corp.pop(0)"
   ]
  },
  {
   "cell_type": "code",
   "execution_count": 6,
   "metadata": {},
   "outputs": [
    {
     "name": "stdout",
     "output_type": "stream",
     "text": [
      "8740\n"
     ]
    }
   ],
   "source": [
    "print (len(corp))"
   ]
  },
  {
   "cell_type": "code",
   "execution_count": 7,
   "metadata": {},
   "outputs": [],
   "source": [
    "full_corps = {\n",
    "    \"Россия\" : [],\n",
    "    \"Мир\" : [],\n",
    "    \"Бывший СССР\" : [],\n",
    "    \"Экономика\" : [],\n",
    "    \"Силовые структуры\" : [],\n",
    "    \"Наука и техника\" : [],\n",
    "    \"Культура\" : [],\n",
    "    \"Спорт\" : [],\n",
    "    \"Интернет и СМИ\" : [],\n",
    "    \"Ценности\" : [],\n",
    "    \"Путешествия\" : [],\n",
    "    \"Из жизни\" : [],\n",
    "    \"Дом\" : [],\n",
    "    \"Бизнес\" : []\n",
    "}"
   ]
  },
  {
   "cell_type": "code",
   "execution_count": 8,
   "metadata": {},
   "outputs": [
    {
     "name": "stdout",
     "output_type": "stream",
     "text": [
      "{'id': '196', 'url': 'https://lenta.ru/news/2016/03/04/universityout/', 'title': 'Мурманский вуз лишился государственной аккредитации ', 'text': 'Мурманский государственный технический университет (МГТУ) лишен государственной аккредитации по трем направлениям обучения говорится в сообщении Рособрнадзора. Вуз больше не имеет права проводить обучение по направлениям «Экономика и управление» «Гуманитарные науки» «Сфера обслуживания». Причина отзыва аккредитации — «неустранение несоответствий содержания и качества подготовки обучающихся». Студенты обучающиеся здесь при содействии МГТУ должны быть переведены в другие аккредитованные вузы на соответствующие курсы обучения по своим или аналогичным специальностям. Все условия обучения в том числе стоимость должны быть сохранены пояснил ресурс Хибины.com. На перечисленных направлениях в МГТУ обучаются около 1200 студентов. В декабре  МГТУ была приостановлена из-за ряда нарушений в связи с чем вуз потерял возможность предоставлять студентам отсрочку от армии и выдавать аттестаты государственного образца. 1 марта 2016 года была приостановлена госаккредитация по всем направлениям еще одного мурманского вуза – Международного института бизнес-образования (МИБО). Руководство института заявляет что все выявленные Рособрнадзором нарушения устранены. С сентября 2013 года из реестра лицензий были исключены более 800 российских вузов и филиалов. За два с половиной года сеть вузов имеющих право выдавать дипломы гособразца сократилась почти на тысячу. На 2016 год у Рособрнадзора запланировано более 600 плановых и внеплановых проверок вузов и их филиалов.', 'topic': '69-я параллель', 'tags': 'Все'}\n",
      "{'id': '439', 'url': 'https://lenta.ru/news/2016/03/02/krasnoyarksnowless/', 'title': 'Красноярский край столкнулся с\\xa0нехваткой снега', 'text': 'На севере Красноярского края к началу весны накоплены слишком малые запасы снега. Это может привести к проблемам с навигацией и ранним пожарам сообщает ИА KNews. В северных районах края снегозапас составляет 60-90 процентов от нормы в то время как на юге региона например накоплено от 70 до 130 процентов от нормы снегозапасов. В центральной части края эти показатели составляют 60-120 процентов в лесах и 120-160 процентов в полях. «В дальнейшем это приведет к маловодности рек бассейна Тунгуски что осложнит северный завоз» — опасается заместитель начальника ГУ МЧС России по Красноярскому краю Валерий Терешков. «Сейчас идет сублимация снега его «выгорание» без образования воды. Мы предполагаем что если так дальше пойдет то раньше наступит пожароопасный период особенно это опасно на открытых участках местности» — добавил он. Под северным завозом понимается завоз в населенные пункты продовольствия и топлива в преддверии зимнего сезона. При этом на юге Красноярского края власти и спасатели уже начали подготовку к половодью. ', 'topic': '69-я параллель', 'tags': 'Все'}\n",
      "{'id': '623', 'url': 'https://lenta.ru/news/2016/03/02/migrantsfinland/', 'title': 'Беженцы в\\xa0Мурманской области потребовали выпустить их\\xa0в Финляндию ', 'text': 'Беженцы из стран Ближнего Востока и Африки во вторник устроили несанкционированный митинг в городе Кандалакша в Мурманской области. Участники встречи потребовали предоставить им возможность пересечь границу с Финляндией пишет FlashNord. «Беженцы протестуют против того что их обманули некие мошенники пообещавшие организовать переезд через границу» — сказал информагентству представитель местной администрации. Он также добавил что все протестующие проживают на местной базе отдыха где ждут пока смогут перейти российско-финскую границу. По данным FlashNord в митинге принимало участие около 20 человек. В то же время по сведениям ресурса b-port.com  в несанкционированной акции в Кандалакше участвовали около сотни граждан Конго ЮАР и Сирии. Местные СМИ сообщают что несколько дней назад финские власти закрыли границу для приема беженцев многие из которых планировали проникнуть в Финляндию через российское Заполярье в результате в Кандалакше на неопределенный срок остались целые семьи мигрантов. По данным информагентства «СеверПост» Финляндия установила лимит на пересечение границы – не более десяти человек в день. Официальной информации о приостановке Финляндией приема вынужденных переселенцев нет. Европа столкнулась с наплывом беженцев летом 2015 года. Массовая миграция была вызвана волной насилия на Ближнем Востоке. Часть мигрантов рассчитывает через Россию добраться до Норвегии или Финляндии.', 'topic': '69-я параллель', 'tags': 'Все'}\n",
      "{'id': '868', 'url': 'https://lenta.ru/news/2016/02/29/facebookmistake/', 'title': 'Facebook ошибся в\\xa0поздравлении пользователей с\\xa029\\xa0февраля', 'text': '\"Администрация социальной сети Facebook допустила забавную опечатку в русскоязычной версии поздравления пользователей с 29 февраля. Владельцам аккаунтов предложили «с толком провести» последний день зимы который лишь раз в четыре года выпадает на 29 февраля. Однако в версии Facebook один «лишний» день у февраля появляется «раз в четыре дня». (function(d s id) {  var js fjs = d.getElementsByTagName(s)[0];  if (d.getElementById(id)) return;  js = d.createElement(s); js.id = id;  js.src = \"\"//connect.facebook.net/ru_RU/sdk.js#xfbml=1&version=v2.3\"\";  fjs.parentNode.insertBefore(js fjs)', 'topic': \"}(document 'script' 'facebook-jssdk'))\", 'tags': 'Вопрос: сколько времени понадобится #facebook поправить косяк? ваш вариант? #косякислучаются #некосячиттотктоничегонеделаетОпубликовано Наилей Замашкиной\\xa028 февраля 2016 г.'}\n",
      "{'id': '3537', 'url': 'https://lenta.ru/news/2016/02/12/hippieerror/', 'title': 'Владельцы iPhone оказались жертвами розыгрыша в\\xa0соцсетях', 'text': '\"Ряд владельцев iPhone оказались жертвами розыгрыша в соцсетях в результате которого их смартфон временно переставал работать. В нескольких сообществах «ВКонтакте» была опубликована запись где говорилось о возможности получить «новый хиппи-дизайн стандартных приложений новый хиппи-шрифт и пару новых обоев». Для этого пользователям предлагалось вручную поменять дату в настройках устройства на 1 января 1970 года и перезагрузить iPhone.   (function(d s id) { var js fjs = d.getElementsByTagName(s)[0]; if (d.getElementById(id)) return; js = d.createElement(s); js.id = id; js.src = \"\"//vk.com/js/api/openapi.js?121\"\"; fjs.parentNode.insertBefore(js fjs); }(document \\'script\\' \\'vk_openapi_js\\'));  (function() {    if (!window.VK || !VK.Widgets || !VK.Widgets.Post || !VK.Widgets.Post(\"\"vk_post_-39946722_534834\"\" -39946722 534834 \\'ias0WaoMXKF4WeHadMfjr6nlY5_X\\' {})) setTimeout(arguments.callee 50)', 'topic': '  }())', 'tags': ''}\n",
      "{'id': '4034', 'url': 'https://lenta.ru/news/2016/02/09/homs_wedding/', 'title': 'Молодожены устроили свадебную фотосессию в\\xa0самом разрушенном городе Сирии', 'text': '\"Сирийские молодожены Нада Мерхи (Nada Merhi) и Хассан Юссеф (Hassan Youssef) выбрали в качестве фона для свадебной фотосессии руины Хомса самого разрушенного в ходе военных действий города Сирии. Об этом  сообщает The Washington Post публикуя соответствующий репортаж. Торжество состоялось 5 февраля 2016 года. 18-летнюю Мерхи и 27-летнего Юссефа снимали свадебный фотограф  Джафар Мерай (Jafar Meray) и фотокорреспондент Джозеф Эид (Joseph Eid) из Agence France-Presse. Автором замысла стал Мерай который данной съемкой хотел «показать что жизнь сильнее смерти». The Washington Post уточняет что Мерхи и Юссеф стали не первыми новобрачными которых Мерай заснял на фоне руин Хомса. В 2015 году фотограф уже делал аналогичную съемку и публиковал кадры в своем Facebook с пояснением: «Жизнь идет своим чередом понемногу». (function(d s id) {  var js fjs = d.getElementsByTagName(s)[0];  if (d.getElementById(id)) return;  js = d.createElement(s); js.id = id;  js.src = \"\"//connect.facebook.net/ru_RU/sdk.js#xfbml=1&version=v2.3\"\";  fjs.parentNode.insertBefore(js fjs)', 'topic': \"}(document 'script' 'facebook-jssdk'))\", 'tags': \"#Homs ..#syria ..Photographer special session ..#SoON ... ❤️\\U000fe327✌🏻Опубликовано JafaR Photography\\xa025 декабря 2015 г. #Homs ..#syria ..Photographer special session ..#SoON ... ❤️\\U000fe327✌🏻 Летом 2015 года также сообщалось что в полуразрушенной греческой православной церкви святого Георгия в Хомсе состоялась свадебная церемония. A wedding in the destruction of St George's Church in #Homs. Powerful image. 1st wedding since being destroyed #Syria pic.twitter.com/DsN8cMTYJK— Joseph Willits (@josephwillits) 14 июля 2015\"}\n",
      "{'id': '4972', 'url': 'https://lenta.ru/news/2016/02/03/arctic/', 'title': 'Российская компания анонсировала женский тур в\\xa0Арктику на\\xa08\\xa0Марта', 'text': 'Российским женщинам на 8\\xa0Марта предложили отправиться в тур в Арктику. Организатором путешествия выступает компания MyArctic-expeditions. Турфирма отмечает что поездка станет первой в истории женской арктической экспедицией к побережью Северного Ледовитого океана. «Это отличная возможность уйти от стандартов разрушая стереотипы. Открыть новые возможности для активного отдыха и получить массу незабываемых эмоций. Сесть на снегоход и умчаться на край земли чтобы познать себя почувствовать новый вкус яркой жизни» — говорится в сообщении турфирмы. Тур начнется 5 марта и продлится четыре дня. За это время участницы путешествия проедут на снегоходах и пройдут пешком около 650 километров по зимней тундре. На побережье океана они поднимутся на вершину маяка познакомятся с укладом жизни местных жителей и «на зависть любимым мужчинам половят корюшку в Баренцевом море». Экспедиция стартует из Нарьян-Мара. Всего в группе будет шесть человек. Участие в путешествии обойдется в 55 тысяч рублей с человека без учета авиаперелета до Нарьян-Мара. Ранее 3 февраля сообщалось что на деловой неделе импортозамещения в области туризма «Россия — территория путешествий» туристам предложили вместо Турции и Египта ехать на Камчатку.', 'topic': '69-я параллель', 'tags': 'Все'}\n",
      "{'id': '5342', 'url': 'https://lenta.ru/news/2016/02/01/dolphinphoto/', 'title': 'Дельфин случайно сделал фотобомбу на\\xa0снимке беременной женщины', 'text': '\"В Facebook набирает популярность фотография на которой беременная женщина позирует на фоне Атлантического океана из которого внезапно выпрыгивает дельфин. Снимок был опубликован на странице независимого американского канала WJXT4 базирующегося в Джексонвилле во Флориде. Изображение прислал Дэн Мозер (Dan Mozer) на фото запечатлена его жена Анжелина. За 15 часов с момента публикации снимок собрал более 46 тысяч «лайков». A once in a lifetime shot. This image was sent to us by Dan Mozer as he was taking maternity photos of his wife Angeline. #DolphinPhotoBomb Фото отмечено хештегом #\\u200eDolphinphotobomb. Маркировать этим тегом селфи и фотографии на которых появляются дельфины пользователи социальных сетей начали в 2014 году. В Facebook и Instagram опубликованы сотни снимков с млекопитающими под этой меткой но до сих пор они не вызывали широкого интереса подобного картинке размещенной в аккаунте WJXT4.  Фото опубликовано @jess_mermaid (function(d s id) {  var js fjs = d.getElementsByTagName(s)[0];  if (d.getElementById(id)) return;  js = d.createElement(s); js.id = id;  js.src = \"\"//connect.facebook.net/ru_RU/sdk.js#xfbml=1&version=v2.3\"\";  fjs.parentNode.insertBefore(js fjs)', 'topic': \"}(document 'script' 'facebook-jssdk'))\", 'tags': 'Happy Tuesday! #DolphinPhotoBombОпубликовано Theodore Shustick Stratton\\xa029 июля 2014 г. Happy Tuesday! #DolphinPhotoBomb   Фото опубликовано funny shizzle#followforfollow (@jesse_hernando_lapnio_rochez_) Июл 23 2014 в 10:16 PDT'}\n",
      "{'id': '8170', 'url': 'https://lenta.ru/news/2016/01/12/nornikel/', 'title': 'Роскомнадзор разрешил «дочке» «Норникеля» оказывать услуги связи', 'text': 'Компания «Единство» — дочернее подразделение «Норильского никеля» получила лицензию Роскомназдора дающую право оказывать услуги по предоставлению каналов связи. Об этом заявила пресс-служба материнской компании передает Rambler News Service. В сообщении пресс-службы говорится о том что компания «Единство» была специально учреждена «Норникелем» для прокладки волоконно-оптической линии связи (ВОЛС) из Нового Уренгоя до Норильска. Проект строительства ВОЛС полностью финансируется за счет средств материнской компании а его стоимость должна составить около 3 миллиардов рублей. Протяженность ВОЛС — 957 километров. Ввод в эксплуатацию запланирован на 2017 год. В компании также отмечают что Норильск — единственный крупный город в России без оптических линий связи с другими городами. В настоящее время связь в городе обеспечивается через спутниковые каналы и имеет ряд недостатков в том числе — низкую скорость высокую стоимость и ограничение трафика. В октябре 2015 года президент и основной акционер «Норильского никеля» Владимир Потанин заявлял о планах развивать непрофильное для компании направление — туристическое.  В частности Потанин рассказал о намерении создать национального туроператора. По его словам первоначальной целью было обеспечение потока туристов на курорт «Роза Хутор» однако позже стало понятно что такой туроператор не может работать только на одно направление а должен иметь более широкую географию. Бизнесмен уточнил что у России имеется колоссальный потенциал развития внутреннего туризма. Основным профилем деятельности «Норильского никеля» является производство цветных металлов. На долю компании приходится 18 процентов мирового производства никеля 50 процентов — палладия 13 процентов — платины 25 процента — меди.', 'topic': '69-я параллель', 'tags': 'Все'}\n"
     ]
    }
   ],
   "source": [
    "for stat in corp:\n",
    "    if (stat['topic'] in full_corps.keys()):\n",
    "        full_corps[stat['topic']].append(stat)\n",
    "    else:\n",
    "        print (stat)"
   ]
  },
  {
   "cell_type": "code",
   "execution_count": 9,
   "metadata": {},
   "outputs": [
    {
     "name": "stdout",
     "output_type": "stream",
     "text": [
      "Россия    :    1434\n",
      "Мир    :    1255\n",
      "Бывший СССР    :    742\n",
      "Экономика    :    605\n",
      "Силовые структуры    :    640\n",
      "Наука и техника    :    541\n",
      "Культура    :    562\n",
      "Спорт    :    778\n",
      "Интернет и СМИ    :    505\n",
      "Ценности    :    369\n",
      "Путешествия    :    340\n",
      "Из жизни    :    287\n",
      "Дом    :    235\n",
      "Бизнес    :    438\n"
     ]
    }
   ],
   "source": [
    "for k in full_corps.keys():\n",
    "    print (k + \"    :    \" + str(len(full_corps[k])))"
   ]
  },
  {
   "cell_type": "code",
   "execution_count": 10,
   "metadata": {},
   "outputs": [],
   "source": [
    "keys_f = ['Спорт', 'Экономика', 'Наука и техника', 'Культура', 'Путешествия']"
   ]
  },
  {
   "cell_type": "code",
   "execution_count": 12,
   "metadata": {},
   "outputs": [],
   "source": [
    "for k in full_corps.keys():\n",
    "    newid = 0\n",
    "    for i in range(len(full_corps[k])):\n",
    "        full_corps[k][i]['id'] = str(newid)\n",
    "        newid+=1"
   ]
  },
  {
   "cell_type": "code",
   "execution_count": 13,
   "metadata": {},
   "outputs": [],
   "source": [
    "root = ET.Element(\"root\")\n",
    "\n",
    "for el in full_corps[\"Бизнес\"]:\n",
    "    ET.SubElement(root, \"business\", id=el['id'], url=el['url'], title=el['title'], tags=el['tags']).text = el['text']\n",
    "\n",
    "tree = ET.ElementTree(root)\n",
    "tree.write(\"business.xml\")"
   ]
  },
  {
   "cell_type": "code",
   "execution_count": 14,
   "metadata": {},
   "outputs": [],
   "source": [
    "csv_path = \"lenta-ru-news_2016_full.csv\"\n",
    "idf = 0\n",
    "nums = {}\n",
    "for i in keys_f:\n",
    "    nums[i] = 0\n",
    "corp = []\n",
    "with open(csv_path, \"r\", encoding='utf-8') as f_obj:\n",
    "    reader = csv.reader(f_obj)\n",
    "    for row in reader:\n",
    "        if len(row)>0:\n",
    "            st = ''.join(row)\n",
    "            lst = st.split(';')\n",
    "            if (len(lst)>4):\n",
    "                dct = {\n",
    "                    \"id\"         : str(idf),\n",
    "                    \"url\"        : lst[0],\n",
    "                    \"title\"      : lst[1],\n",
    "                    \"text\"       : ';'.join(lst[2:len(lst)-2]),\n",
    "                    \"topic\"      : lst[len(lst)-2],\n",
    "                    \"tags\"       : lst[len(lst)-1]\n",
    "                }\n",
    "                idf +=1\n",
    "                if (dct['topic'] in keys_f):\n",
    "                    if (nums[dct['topic']]):\n",
    "                        nums[dct['topic']]+=1\n",
    "                        corp.append(dct)"
   ]
  },
  {
   "cell_type": "code",
   "execution_count": 18,
   "metadata": {},
   "outputs": [
    {
     "ename": "KeyError",
     "evalue": "\"labels ['id' 'tags' 'url' 'title'] not contained in axis\"",
     "output_type": "error",
     "traceback": [
      "\u001b[1;31m---------------------------------------------------------------------------\u001b[0m",
      "\u001b[1;31mKeyError\u001b[0m                                  Traceback (most recent call last)",
      "\u001b[1;32m<ipython-input-18-6ffa699d657d>\u001b[0m in \u001b[0;36m<module>\u001b[1;34m()\u001b[0m\n\u001b[0;32m      3\u001b[0m \u001b[0mdata\u001b[0m \u001b[1;33m=\u001b[0m \u001b[0mpd\u001b[0m\u001b[1;33m.\u001b[0m\u001b[0mDataFrame\u001b[0m\u001b[1;33m(\u001b[0m\u001b[0mcorp\u001b[0m\u001b[1;33m)\u001b[0m\u001b[1;33m\u001b[0m\u001b[0m\n\u001b[0;32m      4\u001b[0m \u001b[0mdata\u001b[0m\u001b[1;33m.\u001b[0m\u001b[0mhead\u001b[0m\u001b[1;33m(\u001b[0m\u001b[1;33m)\u001b[0m\u001b[1;33m\u001b[0m\u001b[0m\n\u001b[1;32m----> 5\u001b[1;33m \u001b[0mdata\u001b[0m\u001b[1;33m.\u001b[0m\u001b[0mdrop\u001b[0m\u001b[1;33m(\u001b[0m\u001b[1;33m[\u001b[0m\u001b[1;34m'id'\u001b[0m\u001b[1;33m,\u001b[0m\u001b[1;34m'tags'\u001b[0m\u001b[1;33m,\u001b[0m \u001b[1;34m'url'\u001b[0m\u001b[1;33m,\u001b[0m \u001b[1;34m'title'\u001b[0m\u001b[1;33m]\u001b[0m\u001b[1;33m,\u001b[0m \u001b[0minplace\u001b[0m\u001b[1;33m=\u001b[0m\u001b[1;32mTrue\u001b[0m\u001b[1;33m,\u001b[0m \u001b[0maxis\u001b[0m\u001b[1;33m=\u001b[0m\u001b[1;36m1\u001b[0m\u001b[1;33m)\u001b[0m\u001b[1;33m\u001b[0m\u001b[0m\n\u001b[0m\u001b[0;32m      6\u001b[0m \u001b[0mdata\u001b[0m\u001b[1;33m.\u001b[0m\u001b[0mset_index\u001b[0m\u001b[1;33m(\u001b[0m\u001b[1;34m'topic'\u001b[0m\u001b[1;33m)\u001b[0m\u001b[1;33m\u001b[0m\u001b[0m\n",
      "\u001b[1;32mD:\\Anaconda3\\lib\\site-packages\\pandas\\core\\frame.py\u001b[0m in \u001b[0;36mdrop\u001b[1;34m(self, labels, axis, index, columns, level, inplace, errors)\u001b[0m\n\u001b[0;32m   3692\u001b[0m                                            \u001b[0mindex\u001b[0m\u001b[1;33m=\u001b[0m\u001b[0mindex\u001b[0m\u001b[1;33m,\u001b[0m \u001b[0mcolumns\u001b[0m\u001b[1;33m=\u001b[0m\u001b[0mcolumns\u001b[0m\u001b[1;33m,\u001b[0m\u001b[1;33m\u001b[0m\u001b[0m\n\u001b[0;32m   3693\u001b[0m                                            \u001b[0mlevel\u001b[0m\u001b[1;33m=\u001b[0m\u001b[0mlevel\u001b[0m\u001b[1;33m,\u001b[0m \u001b[0minplace\u001b[0m\u001b[1;33m=\u001b[0m\u001b[0minplace\u001b[0m\u001b[1;33m,\u001b[0m\u001b[1;33m\u001b[0m\u001b[0m\n\u001b[1;32m-> 3694\u001b[1;33m                                            errors=errors)\n\u001b[0m\u001b[0;32m   3695\u001b[0m \u001b[1;33m\u001b[0m\u001b[0m\n\u001b[0;32m   3696\u001b[0m     @rewrite_axis_style_signature('mapper', [('copy', True),\n",
      "\u001b[1;32mD:\\Anaconda3\\lib\\site-packages\\pandas\\core\\generic.py\u001b[0m in \u001b[0;36mdrop\u001b[1;34m(self, labels, axis, index, columns, level, inplace, errors)\u001b[0m\n\u001b[0;32m   3106\u001b[0m         \u001b[1;32mfor\u001b[0m \u001b[0maxis\u001b[0m\u001b[1;33m,\u001b[0m \u001b[0mlabels\u001b[0m \u001b[1;32min\u001b[0m \u001b[0maxes\u001b[0m\u001b[1;33m.\u001b[0m\u001b[0mitems\u001b[0m\u001b[1;33m(\u001b[0m\u001b[1;33m)\u001b[0m\u001b[1;33m:\u001b[0m\u001b[1;33m\u001b[0m\u001b[0m\n\u001b[0;32m   3107\u001b[0m             \u001b[1;32mif\u001b[0m \u001b[0mlabels\u001b[0m \u001b[1;32mis\u001b[0m \u001b[1;32mnot\u001b[0m \u001b[1;32mNone\u001b[0m\u001b[1;33m:\u001b[0m\u001b[1;33m\u001b[0m\u001b[0m\n\u001b[1;32m-> 3108\u001b[1;33m                 \u001b[0mobj\u001b[0m \u001b[1;33m=\u001b[0m \u001b[0mobj\u001b[0m\u001b[1;33m.\u001b[0m\u001b[0m_drop_axis\u001b[0m\u001b[1;33m(\u001b[0m\u001b[0mlabels\u001b[0m\u001b[1;33m,\u001b[0m \u001b[0maxis\u001b[0m\u001b[1;33m,\u001b[0m \u001b[0mlevel\u001b[0m\u001b[1;33m=\u001b[0m\u001b[0mlevel\u001b[0m\u001b[1;33m,\u001b[0m \u001b[0merrors\u001b[0m\u001b[1;33m=\u001b[0m\u001b[0merrors\u001b[0m\u001b[1;33m)\u001b[0m\u001b[1;33m\u001b[0m\u001b[0m\n\u001b[0m\u001b[0;32m   3109\u001b[0m \u001b[1;33m\u001b[0m\u001b[0m\n\u001b[0;32m   3110\u001b[0m         \u001b[1;32mif\u001b[0m \u001b[0minplace\u001b[0m\u001b[1;33m:\u001b[0m\u001b[1;33m\u001b[0m\u001b[0m\n",
      "\u001b[1;32mD:\\Anaconda3\\lib\\site-packages\\pandas\\core\\generic.py\u001b[0m in \u001b[0;36m_drop_axis\u001b[1;34m(self, labels, axis, level, errors)\u001b[0m\n\u001b[0;32m   3138\u001b[0m                 \u001b[0mnew_axis\u001b[0m \u001b[1;33m=\u001b[0m \u001b[0maxis\u001b[0m\u001b[1;33m.\u001b[0m\u001b[0mdrop\u001b[0m\u001b[1;33m(\u001b[0m\u001b[0mlabels\u001b[0m\u001b[1;33m,\u001b[0m \u001b[0mlevel\u001b[0m\u001b[1;33m=\u001b[0m\u001b[0mlevel\u001b[0m\u001b[1;33m,\u001b[0m \u001b[0merrors\u001b[0m\u001b[1;33m=\u001b[0m\u001b[0merrors\u001b[0m\u001b[1;33m)\u001b[0m\u001b[1;33m\u001b[0m\u001b[0m\n\u001b[0;32m   3139\u001b[0m             \u001b[1;32melse\u001b[0m\u001b[1;33m:\u001b[0m\u001b[1;33m\u001b[0m\u001b[0m\n\u001b[1;32m-> 3140\u001b[1;33m                 \u001b[0mnew_axis\u001b[0m \u001b[1;33m=\u001b[0m \u001b[0maxis\u001b[0m\u001b[1;33m.\u001b[0m\u001b[0mdrop\u001b[0m\u001b[1;33m(\u001b[0m\u001b[0mlabels\u001b[0m\u001b[1;33m,\u001b[0m \u001b[0merrors\u001b[0m\u001b[1;33m=\u001b[0m\u001b[0merrors\u001b[0m\u001b[1;33m)\u001b[0m\u001b[1;33m\u001b[0m\u001b[0m\n\u001b[0m\u001b[0;32m   3141\u001b[0m             \u001b[0mdropped\u001b[0m \u001b[1;33m=\u001b[0m \u001b[0mself\u001b[0m\u001b[1;33m.\u001b[0m\u001b[0mreindex\u001b[0m\u001b[1;33m(\u001b[0m\u001b[1;33m**\u001b[0m\u001b[1;33m{\u001b[0m\u001b[0maxis_name\u001b[0m\u001b[1;33m:\u001b[0m \u001b[0mnew_axis\u001b[0m\u001b[1;33m}\u001b[0m\u001b[1;33m)\u001b[0m\u001b[1;33m\u001b[0m\u001b[0m\n\u001b[0;32m   3142\u001b[0m             \u001b[1;32mtry\u001b[0m\u001b[1;33m:\u001b[0m\u001b[1;33m\u001b[0m\u001b[0m\n",
      "\u001b[1;32mD:\\Anaconda3\\lib\\site-packages\\pandas\\core\\indexes\\base.py\u001b[0m in \u001b[0;36mdrop\u001b[1;34m(self, labels, errors)\u001b[0m\n\u001b[0;32m   4385\u001b[0m             \u001b[1;32mif\u001b[0m \u001b[0merrors\u001b[0m \u001b[1;33m!=\u001b[0m \u001b[1;34m'ignore'\u001b[0m\u001b[1;33m:\u001b[0m\u001b[1;33m\u001b[0m\u001b[0m\n\u001b[0;32m   4386\u001b[0m                 raise KeyError(\n\u001b[1;32m-> 4387\u001b[1;33m                     'labels %s not contained in axis' % labels[mask])\n\u001b[0m\u001b[0;32m   4388\u001b[0m             \u001b[0mindexer\u001b[0m \u001b[1;33m=\u001b[0m \u001b[0mindexer\u001b[0m\u001b[1;33m[\u001b[0m\u001b[1;33m~\u001b[0m\u001b[0mmask\u001b[0m\u001b[1;33m]\u001b[0m\u001b[1;33m\u001b[0m\u001b[0m\n\u001b[0;32m   4389\u001b[0m         \u001b[1;32mreturn\u001b[0m \u001b[0mself\u001b[0m\u001b[1;33m.\u001b[0m\u001b[0mdelete\u001b[0m\u001b[1;33m(\u001b[0m\u001b[0mindexer\u001b[0m\u001b[1;33m)\u001b[0m\u001b[1;33m\u001b[0m\u001b[0m\n",
      "\u001b[1;31mKeyError\u001b[0m: \"labels ['id' 'tags' 'url' 'title'] not contained in axis\""
     ]
    }
   ],
   "source": [
    "import pandas as pd\n",
    "\n",
    "data = pd.DataFrame(corp)\n",
    "print data.head()\n",
    "data.drop(['id','tags', 'url', 'title'], inplace=True, axis=1)\n",
    "data.set_index('topic')"
   ]
  },
  {
   "cell_type": "code",
   "execution_count": null,
   "metadata": {},
   "outputs": [],
   "source": [
    "data.head()"
   ]
  },
  {
   "cell_type": "code",
   "execution_count": 51,
   "metadata": {},
   "outputs": [],
   "source": [
    "data.to_csv(\"go_to.csv\", header = True, index = False, sep = ';')"
   ]
  },
  {
   "cell_type": "code",
   "execution_count": 54,
   "metadata": {},
   "outputs": [],
   "source": [
    "import os\n",
    "from sklearn.datasets import fetch_20newsgroups\n",
    "from sklearn.feature_extraction.text import TfidfVectorizer\n",
    "import numpy as np\n",
    "#import enchant\n",
    "from sklearn.linear_model import LogisticRegression\n",
    "from sklearn.ensemble import RandomForestClassifier, GradientBoostingClassifier, VotingClassifier\n",
    "import re\n",
    "import matplotlib.pyplot as plt\n",
    "from sklearn.metrics import confusion_matrix, recall_score, precision_score, f1_score, roc_curve, roc_auc_score\n",
    "import itertools\n",
    "from sklearn.svm import LinearSVC\n",
    "from sklearn.feature_selection import SelectFromModel\n",
    "from sklearn.multiclass import OneVsRestClassifier, OneVsOneClassifier"
   ]
  },
  {
   "cell_type": "code",
   "execution_count": 57,
   "metadata": {},
   "outputs": [
    {
     "name": "stdout",
     "output_type": "stream",
     "text": [
      "Collecting pyenchant\n",
      "  Downloading https://files.pythonhosted.org/packages/9e/54/04d88a59efa33fefb88133ceb638cdf754319030c28aadc5a379d82140ed/pyenchant-2.0.0.tar.gz (64kB)\n",
      "    Complete output from command python setup.py egg_info:\n",
      "    Traceback (most recent call last):\n",
      "      File \"<string>\", line 1, in <module>\n",
      "      File \"C:\\Users\\843E~1\\AppData\\Local\\Temp\\pip-install-xczvxqw_\\pyenchant\\setup.py\", line 212, in <module>\n",
      "        import enchant\n",
      "      File \"C:\\Users\\843E~1\\AppData\\Local\\Temp\\pip-install-xczvxqw_\\pyenchant\\enchant\\__init__.py\", line 92, in <module>\n",
      "        from enchant import _enchant as _e\n",
      "      File \"C:\\Users\\843E~1\\AppData\\Local\\Temp\\pip-install-xczvxqw_\\pyenchant\\enchant\\_enchant.py\", line 145, in <module>\n",
      "        raise ImportError(msg)\n",
      "    ImportError: The 'enchant' C library was not found. Please install it via your OS package manager, or use a pre-built binary wheel from PyPI.\n",
      "    \n",
      "    ----------------------------------------\n"
     ]
    },
    {
     "name": "stderr",
     "output_type": "stream",
     "text": [
      "Command \"python setup.py egg_info\" failed with error code 1 in C:\\Users\\843E~1\\AppData\\Local\\Temp\\pip-install-xczvxqw_\\pyenchant\\\n",
      "You are using pip version 10.0.1, however version 19.0.2 is available.\n",
      "You should consider upgrading via the 'python -m pip install --upgrade pip' command.\n"
     ]
    }
   ],
   "source": [
    "!pip install pyenchant"
   ]
  },
  {
   "cell_type": "code",
   "execution_count": 55,
   "metadata": {},
   "outputs": [
    {
     "ename": "NameError",
     "evalue": "name 'enchant' is not defined",
     "output_type": "error",
     "traceback": [
      "\u001b[1;31m---------------------------------------------------------------------------\u001b[0m",
      "\u001b[1;31mNameError\u001b[0m                                 Traceback (most recent call last)",
      "\u001b[1;32m<ipython-input-55-af58779e0014>\u001b[0m in \u001b[0;36m<module>\u001b[1;34m()\u001b[0m\n\u001b[0;32m      6\u001b[0m                       \u001b[1;34m'rec.sport.hockey'\u001b[0m\u001b[1;33m,\u001b[0m \u001b[1;34m'sci.electronics'\u001b[0m\u001b[1;33m,\u001b[0m \u001b[1;34m'soc.religion.christian'\u001b[0m\u001b[1;33m,\u001b[0m \u001b[1;34m'talk.politics.mideast'\u001b[0m\u001b[1;33m,\u001b[0m\u001b[1;33m\u001b[0m\u001b[0m\n\u001b[0;32m      7\u001b[0m                       'talk.politics.misc', 'talk.religion.misc']\n\u001b[1;32m----> 8\u001b[1;33m \u001b[0meng_dict\u001b[0m \u001b[1;33m=\u001b[0m \u001b[0menchant\u001b[0m\u001b[1;33m.\u001b[0m\u001b[0mDict\u001b[0m\u001b[1;33m(\u001b[0m\u001b[1;34m'ru_RU'\u001b[0m\u001b[1;33m)\u001b[0m\u001b[1;33m\u001b[0m\u001b[0m\n\u001b[0m",
      "\u001b[1;31mNameError\u001b[0m: name 'enchant' is not defined"
     ]
    }
   ],
   "source": [
    "vectorizer = TfidfVectorizer(stop_words='russian', strip_accents='ascii')\n",
    "initial_categories = ['alt.atheism', 'comp.graphics', 'comp.os.ms-windows.misc', 'comp.sys.ibm.pc.hardware',\n",
    "                      'comp.sys.mac.hardware', 'comp.windows.x', 'rec.autos', 'rec.motorcycles', 'rec.sport.baseball',\n",
    "                      'rec.sport.hockey', 'sci.electronics', 'soc.religion.christian', 'talk.politics.mideast',\n",
    "                      'talk.politics.misc', 'talk.religion.misc']\n",
    "eng_dict = enchant.Dict('ru_RU')"
   ]
  }
 ],
 "metadata": {
  "kernelspec": {
   "display_name": "Python 3",
   "language": "python",
   "name": "python3"
  },
  "language_info": {
   "codemirror_mode": {
    "name": "ipython",
    "version": 3
   },
   "file_extension": ".py",
   "mimetype": "text/x-python",
   "name": "python",
   "nbconvert_exporter": "python",
   "pygments_lexer": "ipython3",
   "version": "3.6.5"
  }
 },
 "nbformat": 4,
 "nbformat_minor": 2
}
