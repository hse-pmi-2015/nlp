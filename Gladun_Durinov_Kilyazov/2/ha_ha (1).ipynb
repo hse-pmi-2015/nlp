{
 "cells": [
  {
   "cell_type": "code",
   "execution_count": 23,
   "metadata": {},
   "outputs": [],
   "source": [
    "import pandas as pd\n",
    "import os\n",
    "from sklearn.datasets import fetch_20newsgroups\n",
    "from sklearn.feature_extraction.text import TfidfVectorizer\n",
    "import numpy as np\n",
    "import enchant\n",
    "from sklearn.linear_model import LogisticRegression\n",
    "from sklearn.ensemble import RandomForestClassifier, GradientBoostingClassifier, VotingClassifier\n",
    "import re\n",
    "import matplotlib.pyplot as plt\n",
    "from sklearn.metrics import confusion_matrix, recall_score, precision_score, f1_score, roc_curve, roc_auc_score\n",
    "import itertools\n",
    "from sklearn.svm import LinearSVC\n",
    "from sklearn.feature_selection import SelectFromModel\n",
    "from sklearn.multiclass import OneVsRestClassifier, OneVsOneClassifier\n",
    "import stop_words\n",
    "\n",
    "%matplotlib inline"
   ]
  },
  {
   "cell_type": "code",
   "execution_count": 16,
   "metadata": {},
   "outputs": [],
   "source": [
    "data  = pd.read_csv('go_V.csv', sep = ';')"
   ]
  },
  {
   "cell_type": "code",
   "execution_count": 24,
   "metadata": {},
   "outputs": [],
   "source": [
    "vectorizer = TfidfVectorizer(stop_words=stop_words.get_stop_words('ru'))"
   ]
  },
  {
   "cell_type": "code",
   "execution_count": 25,
   "metadata": {},
   "outputs": [],
   "source": [
    "import numpy as np\n",
    "from sklearn.model_selection import train_test_split"
   ]
  },
  {
   "cell_type": "code",
   "execution_count": 26,
   "metadata": {},
   "outputs": [],
   "source": [
    "X_train, X_test, y_train, y_test = train_test_split(data['text'], data['topic'], test_size=0.2, random_state=42)"
   ]
  },
  {
   "cell_type": "code",
   "execution_count": 30,
   "metadata": {},
   "outputs": [
    {
     "data": {
      "text/plain": [
       "521    В Минске решили устроить белорусско-бразильски...\n",
       "737    Североамериканский альянс в защиту приматов ос...\n",
       "740    Британца Ники Хейвуда (Nicky Haywood) заставил...\n",
       "660    Бывший президент Украины Виктор Ющенко должен ...\n",
       "411    Португальские физики заявили что гипотетическа...\n",
       "678    В Таиланде во время дайвинга в субботу 20 февр...\n",
       "626    Власти осуществили сброс пароля от облачного х...\n",
       "513    Администрация США добивается от компании Apple...\n",
       "859    Герой американского мультипликационного сериал...\n",
       "136    Аэропорт Траверс-Сити (США штат Мичиган) приня...\n",
       "811    Высокий суд Лондона зарегистрировал иск России...\n",
       "76     Правительство планирует обязать российские ком...\n",
       "636    В рамках выставки MWC 2016 компания Samsung пр...\n",
       "973    Эксперты второй месяц подряд наблюдают снижени...\n",
       "938    Заместитель руководителя Федерального агентств...\n",
       "899    В сети появился новый тизер шестого сезона сер...\n",
       "280    Российский нападающий «Вашингтон Кэпиталс» Евг...\n",
       "883    Студия Disney опубликовала новый трейлер блокб...\n",
       "761    Умерла писательница Харпер Ли автор романов «У...\n",
       "319    Одной из причин оттока инвестиций с развивающи...\n",
       "549    Психологи развенчали распространенный миф о то...\n",
       "174    В банке «Тинькофф» 2 марта произошел техническ...\n",
       "371    \"Тина Канделаки решила продать Центр стратегич...\n",
       "527    Ученые из Сингапура Швейцарии и США обнаружили...\n",
       "210    НАСА совместно с американской аэрокосмической ...\n",
       "235    Исландская бюджетная авиакомпания WOW air прис...\n",
       "101    «Альфа-капитал» считает главной угрозой россий...\n",
       "986    Турецкая авиакомпания Onur Air с 7 февраля воз...\n",
       "902    Бизнесмена и блогера Ильгиза Валинурова оштраф...\n",
       "947    Самым невыгодным временем для путешествий по б...\n",
       "                             ...                        \n",
       "361    Российский лоукостер «Победа» входящий в групп...\n",
       "479    Единовременная замена бланков ОСАГО будет пров...\n",
       "110    Сборная России заняла седьмое место в смешанно...\n",
       "989    На таиландском острове Самуи слон убил шотланд...\n",
       "486    Международное рейтинговое агентство Standard &...\n",
       "363    Футболист английского «Рексэма» Джеймс Грэй пе...\n",
       "254    Путешественники-хипстеры ввели моду на туризм ...\n",
       "259    Британская группа The Rolling Stones впервые в...\n",
       "802    Губернатор Саратовской области Валерий Радаев ...\n",
       "677    Вице-президент Федерации прыжков в воду России...\n",
       "494    Состояние создателя онлайн-игры World of Tanks...\n",
       "670    Официальный курс доллара установленный Центроб...\n",
       "377    Американские ученые впервые сравнили кишечную ...\n",
       "526    Бывший главный тренер сборной России по хоккею...\n",
       "845    Химики из Московского государственного универс...\n",
       "137    Трое британских нейробиологов — Грэхам Коллинг...\n",
       "355    Капитан «Вашингтон Кэпиталс» Александр Овечкин...\n",
       "365    Певец Григорий Лепс в субботу 27 февраля устро...\n",
       "942    Раннее бронирование туров по России в этом год...\n",
       "749    Российская мужская команда завершила участие н...\n",
       "948    Проститутки и сутенеры в Швеции стали активно ...\n",
       "829    В последние шесть месяцев российский турпоток ...\n",
       "656    Актриса Кэрри Фишер играющая в «Звездных война...\n",
       "199    \"В Тихоокеанском институте биоорганической хим...\n",
       "213    Компания Booking Group запустила в России серв...\n",
       "408    Бывший футболист петербургского «Зенита» и сбо...\n",
       "332    Актриса Наталья Крачковская госпитализирована ...\n",
       "208    Курс доллара на Московской бирже понизился на ...\n",
       "613    HP в рамках выставки Mobile World Congress в Б...\n",
       "78     Американские специалисты по кибербезопасности ...\n",
       "Name: text, Length: 200, dtype: object"
      ]
     },
     "execution_count": 30,
     "metadata": {},
     "output_type": "execute_result"
    }
   ],
   "source": [
    "X_test"
   ]
  },
  {
   "cell_type": "code",
   "execution_count": 31,
   "metadata": {},
   "outputs": [
    {
     "name": "stdout",
     "output_type": "stream",
     "text": [
      "(800, 29653) (200, 29653)\n"
     ]
    }
   ],
   "source": [
    "X_train_ = vectorizer.fit_transform(X_train.values.astype('U'))\n",
    "X_test_ = vectorizer.transform(X_test.values.astype('U'))\n",
    "\n",
    "print(X_train_.shape, X_test_.shape)"
   ]
  }
 ],
 "metadata": {
  "kernelspec": {
   "display_name": "Python 3",
   "language": "python",
   "name": "python3"
  },
  "language_info": {
   "codemirror_mode": {
    "name": "ipython",
    "version": 3
   },
   "file_extension": ".py",
   "mimetype": "text/x-python",
   "name": "python",
   "nbconvert_exporter": "python",
   "pygments_lexer": "ipython3",
   "version": "3.6.7"
  }
 },
 "nbformat": 4,
 "nbformat_minor": 2
}
