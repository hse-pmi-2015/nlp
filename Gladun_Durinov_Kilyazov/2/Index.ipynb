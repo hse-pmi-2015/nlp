{
 "cells": [
  {
   "cell_type": "code",
   "execution_count": 1,
   "metadata": {},
   "outputs": [
    {
     "name": "stderr",
     "output_type": "stream",
     "text": [
      "Using TensorFlow backend.\n"
     ]
    }
   ],
   "source": [
    "from __future__ import division\n",
    "from keras.models import Sequential\n",
    "from keras.layers.core import Dense, Activation, Dropout\n",
    "from keras.layers.recurrent import LSTM\n",
    "from keras.models import model_from_json\n",
    "import numpy as np\n",
    "import random"
   ]
  },
  {
   "cell_type": "code",
   "execution_count": 2,
   "metadata": {},
   "outputs": [],
   "source": [
    "def sample(a, temperature=1.0):\n",
    "    # helper function to sample an index from a probability array\n",
    "    a = np.log(a) / temperature\n",
    "    a = np.exp(a) / np.sum(np.exp(a))\n",
    "    if sum(a) > 1.0:  # occasionally getting 1.00000X, so handling for that\n",
    "        a *= .999\n",
    "    return np.argmax(np.random.multinomial(1, a, 1))"
   ]
  },
  {
   "cell_type": "code",
   "execution_count": 9,
   "metadata": {},
   "outputs": [],
   "source": [
    "def train():\n",
    "    \"\"\"trains the LSTM model on text corpora\"\"\"\n",
    "\n",
    "    path = \"ADVENTURES_OF_SHERLOCK_HOLMES.txt\"\n",
    "\n",
    "    try:\n",
    "        text = open(path).read().lower()\n",
    "    except UnicodeDecodeError:\n",
    "        import codecs\n",
    "        text = codecs.open(path, encoding='utf-8').read().lower()\n",
    "        \n",
    "    print('corpus length:', len(text))\n",
    "    \n",
    "    text = text[:100777]\n",
    "\n",
    "    chars = set(text)\n",
    "    words = set(text.split())\n",
    "\n",
    "    print(\"total number of unique words\", len(words))\n",
    "    print(\"total number of unique chars\", len(chars))\n",
    "\n",
    "    word_indices = dict((c, i) for i, c in enumerate(words))\n",
    "    indices_word = dict((i, c) for i, c in enumerate(words))\n",
    "\n",
    "    maxlen = 30\n",
    "    step = 3\n",
    "\n",
    "    print(\"maxlen:\", maxlen,\"step:\", step)\n",
    "\n",
    "    sentences = []\n",
    "    next_words = []\n",
    "    next_words = []\n",
    "    list_words = []\n",
    "\n",
    "    sentences2 = []\n",
    "    list_words = text.lower().split()\n",
    "\n",
    "\n",
    "    for i in range(0, len(list_words) - maxlen, step):\n",
    "        sentences2 = ' '.join(list_words[i: i + maxlen])\n",
    "        sentences.append(sentences2)\n",
    "        next_words.append((list_words[i + maxlen]))\n",
    "\n",
    "    print('length of sentence list:', len(sentences))\n",
    "    print(\"length of next_word list\", len(next_words))\n",
    "\n",
    "    print('Vectorization...')\n",
    "    X = np.zeros((len(sentences), maxlen, len(words)), dtype=np.bool)\n",
    "    y = np.zeros((len(sentences), len(words)), dtype=np.bool)\n",
    "    for i, sentence in enumerate(sentences):\n",
    "        for t, word in enumerate(sentence.split()):\n",
    "            X[i, t, word_indices[word]] = 1\n",
    "        y[i, word_indices[next_words[i]]] = 1\n",
    "\n",
    "\n",
    "    #build the model: 2 stacked LSTM\n",
    "\n",
    "    print('Building model...')\n",
    "\n",
    "    model = Sequential()\n",
    "    model.add(LSTM(512, return_sequences=True, input_shape=(maxlen, len(words))))\n",
    "    model.add(Dropout(0.2))\n",
    "    model.add(LSTM(512, return_sequences=False))\n",
    "    model.add(Dropout(0.2))\n",
    "    model.add(Dense(len(words)))\n",
    "    model.add(Activation('softmax'))\n",
    "\n",
    "    model.compile(loss='categorical_crossentropy', optimizer='rmsprop')\n",
    "\n",
    "    try:\n",
    "        model.load_weights(\"temp_weights.txt\")\n",
    "    except Exception as e:\n",
    "        print(e)\n",
    "        pass\n",
    "\n",
    "    # train the model, output generated text after each iteration\n",
    "\n",
    "    for iteration in range(1, 25):\n",
    "        print('-' * 50)\n",
    "        print('Iteration', iteration)\n",
    "\n",
    "        model.fit(X, y, batch_size=500, nb_epoch=3)\n",
    "        json_string = model.to_json()\n",
    "        with open('<path to where you want to save your model architecture>', 'w') as f:\n",
    "            f.write(json_string)\n",
    "        model.save_weights('temp_weights.txt', overwrite=True)\n"
   ]
  },
  {
   "cell_type": "code",
   "execution_count": 10,
   "metadata": {},
   "outputs": [],
   "source": [
    "def generate_from_word_level_rnn(maxlen=30, diversity=1.0, min_sent_len=10, max_sent_len=65):\n",
    "    with open(\"ADVENTURES_OF_SHERLOCK_HOLMES.txt\", \"r\") as f:\n",
    "        text = f.read().lower().split()[:4940]\n",
    "    words = set(text)\n",
    "    start_index = random.randint(0, len(text) - maxlen - 1)\n",
    "    word_indices = dict((c, i) for i, c in enumerate(words))\n",
    "    indices_word = dict((i, c) for i, c in enumerate(words))\n",
    "\n",
    "    response = \"\"\n",
    "    model = model_from_json(open('ADVENTURES_OF_SHERLOCK_HOLMES.txt').read())\n",
    "    model.load_weights('temp_weights.txt')\n",
    "    model.compile(loss='categorical_crossentropy', optimizer='rmsprop')\n",
    "    sentence = text[start_index: start_index + maxlen]\n",
    "\n",
    "    for i in range(random.randint(min_sent_len, max_sent_len)):\n",
    "        x = np.zeros((1, maxlen, len(words)))\n",
    "        for t, word in enumerate(sentence):\n",
    "            x[0, t, word_indices[word]] = 1.\n",
    "        preds = model.predict(x, verbose=0)[0]\n",
    "        next_index = sample(preds, diversity)\n",
    "        next_word = indices_word[next_index]\n",
    "        if not response:\n",
    "            response += ' {0}'.format(next_word)\n",
    "        else:\n",
    "            if response.split()[-1] != next_word:\n",
    "                response += ' {0}'.format(next_word)\n",
    "        del sentence[0]\n",
    "        sentence.append(next_word)\n",
    "    return response\n",
    "\n",
    "\n",
    "    ### to load this model elsewhere... ###\n",
    "\n",
    "    # from keras.models import model_from_json\n",
    "\n",
    "    # model = model_from_json(open('<path to your saved model architecture>').read())\n",
    "    # model.load_weights('<path to your saved weights>')\n",
    "    # model.compile(loss='categorical_crossentropy', optimizer='rmsprop')"
   ]
  },
  {
   "cell_type": "code",
   "execution_count": null,
   "metadata": {},
   "outputs": [
    {
     "name": "stdout",
     "output_type": "stream",
     "text": [
      "corpus length: 592333\n",
      "total number of unique words 4551\n",
      "total number of unique chars 59\n",
      "maxlen: 30 step: 3\n",
      "length of sentence list: 6151\n",
      "length of next_word list 6151\n",
      "Vectorization...\n",
      "Building model...\n",
      "Dimension 0 in both shapes must be equal, but are 4551 and 475. Shapes are [4551,2048] and [475,2048]. for 'Assign_16' (op: 'Assign') with input shapes: [4551,2048], [475,2048].\n",
      "--------------------------------------------------\n",
      "Iteration 1\n"
     ]
    },
    {
     "name": "stderr",
     "output_type": "stream",
     "text": [
      "/usr/local/lib/python3.6/dist-packages/ipykernel_launcher.py:82: UserWarning: The `nb_epoch` argument in `fit` has been renamed `epochs`.\n"
     ]
    },
    {
     "name": "stdout",
     "output_type": "stream",
     "text": [
      "Epoch 1/3\n",
      "6151/6151 [==============================] - 167s 27ms/step - loss: 7.2659\n",
      "Epoch 2/3\n",
      "6151/6151 [==============================] - 166s 27ms/step - loss: 6.5259\n",
      "Epoch 3/3\n",
      "6151/6151 [==============================] - 48357s 8s/step - loss: 6.4557\n",
      "--------------------------------------------------\n",
      "Iteration 2\n",
      "Epoch 1/3\n",
      "6151/6151 [==============================] - 187s 30ms/step - loss: 6.4229\n",
      "Epoch 2/3\n",
      "6151/6151 [==============================] - 180s 29ms/step - loss: 6.3993\n",
      "Epoch 3/3\n",
      "6151/6151 [==============================] - 179s 29ms/step - loss: 6.3941\n",
      "--------------------------------------------------\n",
      "Iteration 3\n",
      "Epoch 1/3\n",
      "6151/6151 [==============================] - 87381s 14s/step - loss: 6.3787\n",
      "Epoch 2/3\n",
      "6151/6151 [==============================] - 181s 29ms/step - loss: 6.3646\n",
      "Epoch 3/3\n",
      "6151/6151 [==============================] - 398s 65ms/step - loss: 6.3440\n",
      "--------------------------------------------------\n",
      "Iteration 4\n",
      "Epoch 1/3\n",
      "3000/6151 [=============>................] - ETA: 2:57 - loss: 6.3001"
     ]
    }
   ],
   "source": [
    "train()\n",
    "generate_from_word_level_rnn()"
   ]
  },
  {
   "cell_type": "code",
   "execution_count": null,
   "metadata": {},
   "outputs": [],
   "source": []
  }
 ],
 "metadata": {
  "kernelspec": {
   "display_name": "Python 3",
   "language": "python",
   "name": "python3"
  },
  "language_info": {
   "codemirror_mode": {
    "name": "ipython",
    "version": 3
   },
   "file_extension": ".py",
   "mimetype": "text/x-python",
   "name": "python",
   "nbconvert_exporter": "python",
   "pygments_lexer": "ipython3",
   "version": "3.6.7"
  }
 },
 "nbformat": 4,
 "nbformat_minor": 2
}
