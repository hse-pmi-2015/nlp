{
 "cells": [
  {
   "cell_type": "code",
   "execution_count": 1,
   "metadata": {
    "collapsed": false
   },
   "outputs": [],
   "source": [
    "import os\n",
    "import numpy as np\n",
    "import lxml\n",
    "from lxml import objectify, etree, html\n",
    "import json\n",
    "import urllib3\n",
    "from io import StringIO, BytesIO\n",
    "import newspaper\n",
    "from newspaper import Article\n",
    "import pandas as pd\n",
    "import matplotlib.pyplot as plt\n",
    "import re\n",
    "import string\n",
    "from scipy.sparse import *\n",
    "import enchant\n",
    "import stop_words\n",
    "from nltk.tokenize import sent_tokenize, word_tokenize \n",
    "from nltk.stem import PorterStemmer, WordNetLemmatizer\n",
    "\n",
    "%matplotlib inline"
   ]
  },
  {
   "cell_type": "code",
   "execution_count": null,
   "metadata": {
    "collapsed": true
   },
   "outputs": [],
   "source": [
    "cnn_paper = newspaper.build('http://cnn.com')\n",
    "for article in cnn_paper.articles:\n",
    "    print(article.url)"
   ]
  },
  {
   "cell_type": "code",
   "execution_count": 2,
   "metadata": {
    "collapsed": false
   },
   "outputs": [],
   "source": [
    "def log_progress(sequence, every=None, size=None, name='Items'):\n",
    "    from ipywidgets import IntProgress, HTML, VBox\n",
    "    from IPython.display import display\n",
    "\n",
    "    is_iterator = False\n",
    "    if size is None:\n",
    "        try:\n",
    "            size = len(sequence)\n",
    "        except TypeError:\n",
    "            is_iterator = True\n",
    "    if size is not None:\n",
    "        if every is None:\n",
    "            if size <= 200:\n",
    "                every = 1\n",
    "            else:\n",
    "                every = int(size / 200)     # every 0.5%\n",
    "    else:\n",
    "        assert every is not None, 'sequence is iterator, set every'\n",
    "\n",
    "    if is_iterator:\n",
    "        progress = IntProgress(min=0, max=1, value=1)\n",
    "        progress.bar_style = 'info'\n",
    "    else:\n",
    "        progress = IntProgress(min=0, max=size, value=0)\n",
    "    label = HTML()\n",
    "    box = VBox(children=[label, progress])\n",
    "    display(box)\n",
    "\n",
    "    index = 0\n",
    "    try:\n",
    "        for index, record in enumerate(sequence, 1):\n",
    "            if index == 1 or index % every == 0:\n",
    "                if is_iterator:\n",
    "                    label.value = '{name}: {index} / ?'.format(\n",
    "                        name=name,\n",
    "                        index=index\n",
    "                    )\n",
    "                else:\n",
    "                    progress.value = index\n",
    "                    label.value = u'{name}: {index} / {size}'.format(\n",
    "                        name=name,\n",
    "                        index=index,\n",
    "                        size=size\n",
    "                    )\n",
    "            yield record\n",
    "    except:\n",
    "        progress.bar_style = 'danger'\n",
    "        raise\n",
    "    else:\n",
    "        progress.bar_style = 'success'\n",
    "        progress.value = index\n",
    "        label.value = \"{name}: {index}\".format(\n",
    "            name=name,\n",
    "            index=str(index or '?')\n",
    "        )\n"
   ]
  },
  {
   "cell_type": "code",
   "execution_count": 3,
   "metadata": {
    "collapsed": false
   },
   "outputs": [],
   "source": [
    "EXCLUDE_SYMBOLS_STR = u''.join(['№', '«', 'ђ', '°', '±', '‚', 'ћ', '‰', '…', '»', 'ѓ', 'µ', '·', 'ґ', 'њ', 'ї', 'џ', 'є', '‹',\n",
    "                                '‡', '†', '¶', 'ќ', '€', '“', 'ў', '§', '„', '”', '\\ufeff', '’', 'љ', '›', '•', '—', '‘', \n",
    "                                '\\x7f', '\\xad', '¤', '\\xa0', '\\u2066', 'à', '½', '£','\\u2069', '–', '©', '⅔'])\n",
    "\n",
    "regex_punct = re.compile('[%s]' % re.escape(string.punctuation))\n",
    "regex_dig = re.compile('[%s]' % re.escape(string.digits))\n",
    "regex_symb = re.compile('[%s]' % re.escape(EXCLUDE_SYMBOLS_STR))\n",
    "regex_struct = re.compile('[%s]' % string.printable + string.whitespace)\n",
    "emoji_pattern = re.compile(\"[\"\n",
    "        \"\\U0001F600-\\U0001F64F\"  # emoticons\n",
    "        \"\\U0001F300-\\U0001F5FF\"  # symbols & pictographs\n",
    "        \"\\U0001F680-\\U0001F6FF\"  # transport & map symbols\n",
    "        \"\\U0001F1E0-\\U0001F1FF\"  # flags (iOS)\n",
    "                           \"]+\")"
   ]
  },
  {
   "cell_type": "code",
   "execution_count": 4,
   "metadata": {
    "collapsed": false
   },
   "outputs": [],
   "source": [
    "sport =  np.load(\"sport.npy\")\n",
    "asia =  np.load(\"asia.npy\")\n",
    "travel =  np.load(\"travel.npy\")\n",
    "health =  np.load(\"health.npy\") "
   ]
  },
  {
   "cell_type": "code",
   "execution_count": 5,
   "metadata": {
    "collapsed": false
   },
   "outputs": [
    {
     "data": {
      "text/html": [
       "<div>\n",
       "<style scoped>\n",
       "    .dataframe tbody tr th:only-of-type {\n",
       "        vertical-align: middle;\n",
       "    }\n",
       "\n",
       "    .dataframe tbody tr th {\n",
       "        vertical-align: top;\n",
       "    }\n",
       "\n",
       "    .dataframe thead th {\n",
       "        text-align: right;\n",
       "    }\n",
       "</style>\n",
       "<table border=\"1\" class=\"dataframe\">\n",
       "  <thead>\n",
       "    <tr style=\"text-align: right;\">\n",
       "      <th></th>\n",
       "      <th>text</th>\n",
       "      <th>category</th>\n",
       "    </tr>\n",
       "  </thead>\n",
       "  <tbody>\n",
       "    <tr>\n",
       "      <th>0</th>\n",
       "      <td>Atlanta (CNN) Here's one that's not seen or he...</td>\n",
       "      <td>sport</td>\n",
       "    </tr>\n",
       "    <tr>\n",
       "      <th>1</th>\n",
       "      <td>(CNN) Speaking to reporters last week, Bill Be...</td>\n",
       "      <td>sport</td>\n",
       "    </tr>\n",
       "    <tr>\n",
       "      <th>2</th>\n",
       "      <td>Patriots safety Duron Harmon was seen playing ...</td>\n",
       "      <td>sport</td>\n",
       "    </tr>\n",
       "    <tr>\n",
       "      <th>3</th>\n",
       "      <td>Photos: What a shot! 25 amazing sports photos ...</td>\n",
       "      <td>sport</td>\n",
       "    </tr>\n",
       "    <tr>\n",
       "      <th>4</th>\n",
       "      <td>Story highlights Fiji 38-0 USA in Hamilton Sev...</td>\n",
       "      <td>sport</td>\n",
       "    </tr>\n",
       "  </tbody>\n",
       "</table>\n",
       "</div>"
      ],
      "text/plain": [
       "                                                text category\n",
       "0  Atlanta (CNN) Here's one that's not seen or he...    sport\n",
       "1  (CNN) Speaking to reporters last week, Bill Be...    sport\n",
       "2  Patriots safety Duron Harmon was seen playing ...    sport\n",
       "3  Photos: What a shot! 25 amazing sports photos ...    sport\n",
       "4  Story highlights Fiji 38-0 USA in Hamilton Sev...    sport"
      ]
     },
     "execution_count": 5,
     "metadata": {},
     "output_type": "execute_result"
    }
   ],
   "source": [
    "flags = np.concatenate((np.full(len(sport), 'sport'), np.full(len(asia), 'asia'), np.full(len(travel), 'travel'),\n",
    "                      np.full(len(health), 'health')))\n",
    "df = pd.DataFrame({'text': np.concatenate((sport, asia, travel, health)), 'category': flags})\n",
    "df.head()\n"
   ]
  },
  {
   "cell_type": "code",
   "execution_count": 12,
   "metadata": {
    "collapsed": false
   },
   "outputs": [
    {
     "data": {
      "text/plain": [
       "(298, 2)"
      ]
     },
     "execution_count": 12,
     "metadata": {},
     "output_type": "execute_result"
    }
   ],
   "source": [
    "df.shape"
   ]
  },
  {
   "cell_type": "code",
   "execution_count": 10,
   "metadata": {
    "collapsed": true
   },
   "outputs": [],
   "source": [
    "pd.to_pickle(df,\"df\")"
   ]
  },
  {
   "cell_type": "code",
   "execution_count": 11,
   "metadata": {
    "collapsed": false
   },
   "outputs": [
    {
     "data": {
      "text/html": [
       "<div>\n",
       "<style scoped>\n",
       "    .dataframe tbody tr th:only-of-type {\n",
       "        vertical-align: middle;\n",
       "    }\n",
       "\n",
       "    .dataframe tbody tr th {\n",
       "        vertical-align: top;\n",
       "    }\n",
       "\n",
       "    .dataframe thead th {\n",
       "        text-align: right;\n",
       "    }\n",
       "</style>\n",
       "<table border=\"1\" class=\"dataframe\">\n",
       "  <thead>\n",
       "    <tr style=\"text-align: right;\">\n",
       "      <th></th>\n",
       "      <th>text</th>\n",
       "      <th>category</th>\n",
       "    </tr>\n",
       "  </thead>\n",
       "  <tbody>\n",
       "    <tr>\n",
       "      <th>0</th>\n",
       "      <td>Atlanta (CNN) Here's one that's not seen or he...</td>\n",
       "      <td>sport</td>\n",
       "    </tr>\n",
       "    <tr>\n",
       "      <th>1</th>\n",
       "      <td>(CNN) Speaking to reporters last week, Bill Be...</td>\n",
       "      <td>sport</td>\n",
       "    </tr>\n",
       "    <tr>\n",
       "      <th>2</th>\n",
       "      <td>Patriots safety Duron Harmon was seen playing ...</td>\n",
       "      <td>sport</td>\n",
       "    </tr>\n",
       "    <tr>\n",
       "      <th>3</th>\n",
       "      <td>Photos: What a shot! 25 amazing sports photos ...</td>\n",
       "      <td>sport</td>\n",
       "    </tr>\n",
       "    <tr>\n",
       "      <th>4</th>\n",
       "      <td>Story highlights Fiji 38-0 USA in Hamilton Sev...</td>\n",
       "      <td>sport</td>\n",
       "    </tr>\n",
       "    <tr>\n",
       "      <th>5</th>\n",
       "      <td>(CNN) Combining the very best thoroughbreds ho...</td>\n",
       "      <td>sport</td>\n",
       "    </tr>\n",
       "    <tr>\n",
       "      <th>6</th>\n",
       "      <td>(CNN) Hearts thumping under thin race suits, e...</td>\n",
       "      <td>sport</td>\n",
       "    </tr>\n",
       "    <tr>\n",
       "      <th>7</th>\n",
       "      <td>(CNN) Horse racing may be the sport of kings, ...</td>\n",
       "      <td>sport</td>\n",
       "    </tr>\n",
       "    <tr>\n",
       "      <th>8</th>\n",
       "      <td>This merry band of Swiss ski racing fans draws...</td>\n",
       "      <td>sport</td>\n",
       "    </tr>\n",
       "    <tr>\n",
       "      <th>9</th>\n",
       "      <td>(CNN) Norwegian skier Aksel Lund Svindal is to...</td>\n",
       "      <td>sport</td>\n",
       "    </tr>\n",
       "    <tr>\n",
       "      <th>10</th>\n",
       "      <td>Kitzbuhel, Austria (CNN) \"The Terminator\" Arno...</td>\n",
       "      <td>sport</td>\n",
       "    </tr>\n",
       "    <tr>\n",
       "      <th>11</th>\n",
       "      <td>(CNN) Bringing professional rugby to the Big A...</td>\n",
       "      <td>sport</td>\n",
       "    </tr>\n",
       "    <tr>\n",
       "      <th>12</th>\n",
       "      <td>(CNN) Gnarled and swollen from his days as a f...</td>\n",
       "      <td>sport</td>\n",
       "    </tr>\n",
       "    <tr>\n",
       "      <th>13</th>\n",
       "      <td>(CNN) There was a time not so long ago in Sout...</td>\n",
       "      <td>sport</td>\n",
       "    </tr>\n",
       "    <tr>\n",
       "      <th>14</th>\n",
       "      <td>(CNN) City of Light ran away from the field to...</td>\n",
       "      <td>sport</td>\n",
       "    </tr>\n",
       "    <tr>\n",
       "      <th>15</th>\n",
       "      <td>(CNN) His father was a legendary royal corresp...</td>\n",
       "      <td>sport</td>\n",
       "    </tr>\n",
       "    <tr>\n",
       "      <th>16</th>\n",
       "      <td>(CNN) If the thunder of hooves and the thrill ...</td>\n",
       "      <td>sport</td>\n",
       "    </tr>\n",
       "    <tr>\n",
       "      <th>17</th>\n",
       "      <td>(CNN) With $3.4 million on the line in the fin...</td>\n",
       "      <td>sport</td>\n",
       "    </tr>\n",
       "    <tr>\n",
       "      <th>18</th>\n",
       "      <td>(CNN) One fence down halfway, Edwina Tops-Alex...</td>\n",
       "      <td>sport</td>\n",
       "    </tr>\n",
       "    <tr>\n",
       "      <th>19</th>\n",
       "      <td>(CNN) Tennis has the Williams sisters, soccer ...</td>\n",
       "      <td>sport</td>\n",
       "    </tr>\n",
       "    <tr>\n",
       "      <th>20</th>\n",
       "      <td>Photos: Tiger Woods: From highs to lows Tiger ...</td>\n",
       "      <td>sport</td>\n",
       "    </tr>\n",
       "    <tr>\n",
       "      <th>21</th>\n",
       "      <td>Story highlights Wild Oats XI line honors win ...</td>\n",
       "      <td>sport</td>\n",
       "    </tr>\n",
       "    <tr>\n",
       "      <th>22</th>\n",
       "      <td>(CNN) A Dutch entry has become the sixth chall...</td>\n",
       "      <td>sport</td>\n",
       "    </tr>\n",
       "    <tr>\n",
       "      <th>23</th>\n",
       "      <td>(CNN) Come summertime, the harbors of the Dalm...</td>\n",
       "      <td>sport</td>\n",
       "    </tr>\n",
       "    <tr>\n",
       "      <th>24</th>\n",
       "      <td>(CNN) \"I came to rugby because the door of my ...</td>\n",
       "      <td>sport</td>\n",
       "    </tr>\n",
       "    <tr>\n",
       "      <th>25</th>\n",
       "      <td>Denver, Colorado (CNN) Magic, it seemed, was p...</td>\n",
       "      <td>sport</td>\n",
       "    </tr>\n",
       "    <tr>\n",
       "      <th>26</th>\n",
       "      <td>Austin, Texas (CNN) Throughout his four years ...</td>\n",
       "      <td>sport</td>\n",
       "    </tr>\n",
       "    <tr>\n",
       "      <th>27</th>\n",
       "      <td>(CNN) No one had noticed Colin Kaepernick sitt...</td>\n",
       "      <td>sport</td>\n",
       "    </tr>\n",
       "    <tr>\n",
       "      <th>28</th>\n",
       "      <td>Gold Coast, Australia (CNN) Caroline Dubois is...</td>\n",
       "      <td>sport</td>\n",
       "    </tr>\n",
       "    <tr>\n",
       "      <th>29</th>\n",
       "      <td>(CNN) Hillary Clinton is on stage addressing t...</td>\n",
       "      <td>sport</td>\n",
       "    </tr>\n",
       "    <tr>\n",
       "      <th>...</th>\n",
       "      <td>...</td>\n",
       "      <td>...</td>\n",
       "    </tr>\n",
       "    <tr>\n",
       "      <th>268</th>\n",
       "      <td>(CNN) If there's one quality I want my girls t...</td>\n",
       "      <td>health</td>\n",
       "    </tr>\n",
       "    <tr>\n",
       "      <th>269</th>\n",
       "      <td>(CNN) A few years ago, when my girls were in t...</td>\n",
       "      <td>health</td>\n",
       "    </tr>\n",
       "    <tr>\n",
       "      <th>270</th>\n",
       "      <td>(CNN) We are all familiar with the negative im...</td>\n",
       "      <td>health</td>\n",
       "    </tr>\n",
       "    <tr>\n",
       "      <th>271</th>\n",
       "      <td>Story highlights Former football players are s...</td>\n",
       "      <td>health</td>\n",
       "    </tr>\n",
       "    <tr>\n",
       "      <th>272</th>\n",
       "      <td>(CNN) Sexting among teens and younger children...</td>\n",
       "      <td>health</td>\n",
       "    </tr>\n",
       "    <tr>\n",
       "      <th>273</th>\n",
       "      <td>When asked to describe a typical child with at...</td>\n",
       "      <td>health</td>\n",
       "    </tr>\n",
       "    <tr>\n",
       "      <th>274</th>\n",
       "      <td>(CNN) As a mom of two daughters, I'm mindful o...</td>\n",
       "      <td>health</td>\n",
       "    </tr>\n",
       "    <tr>\n",
       "      <th>275</th>\n",
       "      <td>Go Ask Your Dad is parenting advice with a phi...</td>\n",
       "      <td>health</td>\n",
       "    </tr>\n",
       "    <tr>\n",
       "      <th>276</th>\n",
       "      <td>This essay is part of a column called The Wisd...</td>\n",
       "      <td>health</td>\n",
       "    </tr>\n",
       "    <tr>\n",
       "      <th>277</th>\n",
       "      <td>This essay is part of a column called The Wisd...</td>\n",
       "      <td>health</td>\n",
       "    </tr>\n",
       "    <tr>\n",
       "      <th>278</th>\n",
       "      <td>This essay is part of a column called The Wisd...</td>\n",
       "      <td>health</td>\n",
       "    </tr>\n",
       "    <tr>\n",
       "      <th>279</th>\n",
       "      <td>Story highlights Report: Kids up to age 8 spen...</td>\n",
       "      <td>health</td>\n",
       "    </tr>\n",
       "    <tr>\n",
       "      <th>280</th>\n",
       "      <td>Story highlights Tackle football remains a pop...</td>\n",
       "      <td>health</td>\n",
       "    </tr>\n",
       "    <tr>\n",
       "      <th>281</th>\n",
       "      <td>The Parent Curve offers a look at the norms an...</td>\n",
       "      <td>health</td>\n",
       "    </tr>\n",
       "    <tr>\n",
       "      <th>282</th>\n",
       "      <td>(CNN) It's a precious moment for families arou...</td>\n",
       "      <td>health</td>\n",
       "    </tr>\n",
       "    <tr>\n",
       "      <th>283</th>\n",
       "      <td>(CNN) Sara Zaske's daughter, Sophia, rarely sh...</td>\n",
       "      <td>health</td>\n",
       "    </tr>\n",
       "    <tr>\n",
       "      <th>284</th>\n",
       "      <td>(CNN) We all use baby talk when we babble with...</td>\n",
       "      <td>health</td>\n",
       "    </tr>\n",
       "    <tr>\n",
       "      <th>285</th>\n",
       "      <td>Lagos, Nigeria (CNN) A high-ranking Nigerian p...</td>\n",
       "      <td>health</td>\n",
       "    </tr>\n",
       "    <tr>\n",
       "      <th>286</th>\n",
       "      <td>Ola Brown is a medical doctor and the founder ...</td>\n",
       "      <td>health</td>\n",
       "    </tr>\n",
       "    <tr>\n",
       "      <th>287</th>\n",
       "      <td>Lagos, Nigeria (CNN) Last year Ifeanyi Ugokwe ...</td>\n",
       "      <td>health</td>\n",
       "    </tr>\n",
       "    <tr>\n",
       "      <th>288</th>\n",
       "      <td>Lima, Peru (CNN) As part of his medical traini...</td>\n",
       "      <td>health</td>\n",
       "    </tr>\n",
       "    <tr>\n",
       "      <th>289</th>\n",
       "      <td>Copenhagen is a bustling city full of ambitiou...</td>\n",
       "      <td>health</td>\n",
       "    </tr>\n",
       "    <tr>\n",
       "      <th>290</th>\n",
       "      <td>(CNN) People who eat diets that are high in fi...</td>\n",
       "      <td>health</td>\n",
       "    </tr>\n",
       "    <tr>\n",
       "      <th>291</th>\n",
       "      <td>The video game \"Counter-Strike\" plays out on t...</td>\n",
       "      <td>health</td>\n",
       "    </tr>\n",
       "    <tr>\n",
       "      <th>292</th>\n",
       "      <td>Brooklyn, New York (CNN) It was a Friday after...</td>\n",
       "      <td>health</td>\n",
       "    </tr>\n",
       "    <tr>\n",
       "      <th>293</th>\n",
       "      <td>(CNN) Most people, when they retire, get a gol...</td>\n",
       "      <td>health</td>\n",
       "    </tr>\n",
       "    <tr>\n",
       "      <th>294</th>\n",
       "      <td>(CNN) Researchers in Australia have developed ...</td>\n",
       "      <td>health</td>\n",
       "    </tr>\n",
       "    <tr>\n",
       "      <th>295</th>\n",
       "      <td>Cosmetics mogul Huda Kattan is arguably one of...</td>\n",
       "      <td>health</td>\n",
       "    </tr>\n",
       "    <tr>\n",
       "      <th>296</th>\n",
       "      <td>Our digital world is being shaped by our physi...</td>\n",
       "      <td>health</td>\n",
       "    </tr>\n",
       "    <tr>\n",
       "      <th>297</th>\n",
       "      <td>There are 36 confirmed cases of measles in the...</td>\n",
       "      <td>health</td>\n",
       "    </tr>\n",
       "  </tbody>\n",
       "</table>\n",
       "<p>298 rows × 2 columns</p>\n",
       "</div>"
      ],
      "text/plain": [
       "                                                  text category\n",
       "0    Atlanta (CNN) Here's one that's not seen or he...    sport\n",
       "1    (CNN) Speaking to reporters last week, Bill Be...    sport\n",
       "2    Patriots safety Duron Harmon was seen playing ...    sport\n",
       "3    Photos: What a shot! 25 amazing sports photos ...    sport\n",
       "4    Story highlights Fiji 38-0 USA in Hamilton Sev...    sport\n",
       "5    (CNN) Combining the very best thoroughbreds ho...    sport\n",
       "6    (CNN) Hearts thumping under thin race suits, e...    sport\n",
       "7    (CNN) Horse racing may be the sport of kings, ...    sport\n",
       "8    This merry band of Swiss ski racing fans draws...    sport\n",
       "9    (CNN) Norwegian skier Aksel Lund Svindal is to...    sport\n",
       "10   Kitzbuhel, Austria (CNN) \"The Terminator\" Arno...    sport\n",
       "11   (CNN) Bringing professional rugby to the Big A...    sport\n",
       "12   (CNN) Gnarled and swollen from his days as a f...    sport\n",
       "13   (CNN) There was a time not so long ago in Sout...    sport\n",
       "14   (CNN) City of Light ran away from the field to...    sport\n",
       "15   (CNN) His father was a legendary royal corresp...    sport\n",
       "16   (CNN) If the thunder of hooves and the thrill ...    sport\n",
       "17   (CNN) With $3.4 million on the line in the fin...    sport\n",
       "18   (CNN) One fence down halfway, Edwina Tops-Alex...    sport\n",
       "19   (CNN) Tennis has the Williams sisters, soccer ...    sport\n",
       "20   Photos: Tiger Woods: From highs to lows Tiger ...    sport\n",
       "21   Story highlights Wild Oats XI line honors win ...    sport\n",
       "22   (CNN) A Dutch entry has become the sixth chall...    sport\n",
       "23   (CNN) Come summertime, the harbors of the Dalm...    sport\n",
       "24   (CNN) \"I came to rugby because the door of my ...    sport\n",
       "25   Denver, Colorado (CNN) Magic, it seemed, was p...    sport\n",
       "26   Austin, Texas (CNN) Throughout his four years ...    sport\n",
       "27   (CNN) No one had noticed Colin Kaepernick sitt...    sport\n",
       "28   Gold Coast, Australia (CNN) Caroline Dubois is...    sport\n",
       "29   (CNN) Hillary Clinton is on stage addressing t...    sport\n",
       "..                                                 ...      ...\n",
       "268  (CNN) If there's one quality I want my girls t...   health\n",
       "269  (CNN) A few years ago, when my girls were in t...   health\n",
       "270  (CNN) We are all familiar with the negative im...   health\n",
       "271  Story highlights Former football players are s...   health\n",
       "272  (CNN) Sexting among teens and younger children...   health\n",
       "273  When asked to describe a typical child with at...   health\n",
       "274  (CNN) As a mom of two daughters, I'm mindful o...   health\n",
       "275  Go Ask Your Dad is parenting advice with a phi...   health\n",
       "276  This essay is part of a column called The Wisd...   health\n",
       "277  This essay is part of a column called The Wisd...   health\n",
       "278  This essay is part of a column called The Wisd...   health\n",
       "279  Story highlights Report: Kids up to age 8 spen...   health\n",
       "280  Story highlights Tackle football remains a pop...   health\n",
       "281  The Parent Curve offers a look at the norms an...   health\n",
       "282  (CNN) It's a precious moment for families arou...   health\n",
       "283  (CNN) Sara Zaske's daughter, Sophia, rarely sh...   health\n",
       "284  (CNN) We all use baby talk when we babble with...   health\n",
       "285  Lagos, Nigeria (CNN) A high-ranking Nigerian p...   health\n",
       "286  Ola Brown is a medical doctor and the founder ...   health\n",
       "287  Lagos, Nigeria (CNN) Last year Ifeanyi Ugokwe ...   health\n",
       "288  Lima, Peru (CNN) As part of his medical traini...   health\n",
       "289  Copenhagen is a bustling city full of ambitiou...   health\n",
       "290  (CNN) People who eat diets that are high in fi...   health\n",
       "291  The video game \"Counter-Strike\" plays out on t...   health\n",
       "292  Brooklyn, New York (CNN) It was a Friday after...   health\n",
       "293  (CNN) Most people, when they retire, get a gol...   health\n",
       "294  (CNN) Researchers in Australia have developed ...   health\n",
       "295  Cosmetics mogul Huda Kattan is arguably one of...   health\n",
       "296  Our digital world is being shaped by our physi...   health\n",
       "297  There are 36 confirmed cases of measles in the...   health\n",
       "\n",
       "[298 rows x 2 columns]"
      ]
     },
     "execution_count": 11,
     "metadata": {},
     "output_type": "execute_result"
    }
   ],
   "source": [
    "pd.read_pickle(\"df\")"
   ]
  },
  {
   "cell_type": "code",
   "execution_count": 9,
   "metadata": {
    "collapsed": false
   },
   "outputs": [],
   "source": [
    "text_array = np.concatenate((sport, asia, travel, health))\n",
    "np.save(\"corpus_arr\", text_array)"
   ]
  },
  {
   "cell_type": "code",
   "execution_count": 7,
   "metadata": {
    "collapsed": false
   },
   "outputs": [],
   "source": [
    "doc= sport[1:6]\n",
    "text1=[]\n",
    "for sptext in text_array:    \n",
    "    sptext = re.sub(r'(\\n)+', ' ', sptext)\n",
    "    sptext = re.sub(r'\\w+:\\/{2}[\\d\\w-]+(\\.[\\d\\w-]+)*(?:(?:\\/[^\\s/]*))*', '', sptext)\n",
    "    sptext = emoji_pattern.sub('', sptext)\n",
    "    sptext = regex_punct.sub(' ', sptext)\n",
    "    sptext = regex_symb.sub('', sptext)\n",
    "    sptext = regex_dig.sub('', sptext)\n",
    "    sptext = re.sub(r'( )( )+', ' ', sptext)\n",
    "    sptext = sptext.lower()\n",
    "    text1.append(sptext)"
   ]
  },
  {
   "cell_type": "code",
   "execution_count": 95,
   "metadata": {
    "collapsed": false
   },
   "outputs": [
    {
     "data": {
      "text/plain": [
       "'(CNN) Speaking to reporters last week, Bill Belichick was asked if he\\'s gotten to know his Super Bowl LIII opponent, Rams head coach Sean McVay.\\n\\n\"Yeah, I know him,\" the 66-year-old Patriots head coach said, which is about the extent of acknowledgment many have come to expect from the man who doesn\\'t give much away.\\n\\nBut McVay clearly has the attention of Belichick (more on that later), who has the most Super Bowl titles (five) of all time, as well as the rest of the NFL.\\n\\nThis will be Belichick\\'s ninth Super Bowl appearance. It\\'s the first for McVay, who, at 33, is the youngest coach in Super Bowl history.\\n\\nAnd he is viewed as the NFL\\'s next prodigy.\\n\\n\"Working with him, man, it\\'s a good feeling just to have him as our coach,\" Rams running back Todd Gurley said. \"He\\'s a players\\' coach. He\\'s a great guy. You can talk to him, you can understand and he does everything for a reason. He does everything for us, for the team. So, you love playing for a guy like that.\"\\n\\nMcVay with Gerald Everett after defeating the New Orleans Saints in the NFC Championship game at the Mercedes-Benz Superdome on January 20 in New Orleans.\\n\\nA historic hire\\n\\nIn January 2017, the Los Angeles Rams announced their next head football coach. But this wasn\\'t just any hire.\\n\\nWhen it was revealed the choice was McVay, it sent shockwaves throughout the league. At 30 years old, he was the youngest head coach in NFL history.\\n\\nBut despite his age, McVay already had several years\\' experience in the league. And his ability to recall plays -- even ones from a few years ago -- is mind-blowing. A clip from Bleacher Report went viral when McVay was quizzed about specific plays from 2015. McVay did the same thing for HBO\\'s Real Sports back in July.\\n\\nRams HC Sean McVay literally remembers every play of his coaching career 😲 pic.twitter.com/r9gC2mcajM — Bleacher Report (@BleacherReport) September 13, 2018\\n\\nRams quarterback Jared Goff, then just off his rookie season, recently recalled having a good impression when McVay interviewed for the job.\\n\\n\"As I was leaving the meeting, (I) got a pretty good idea that he would be the one chosen and was very excited for it,\" Goff, now 24, said. \"It was awesome and it has turned out pretty well, I think.\"\\n\\nChief Operating Officer Kevin Demoff, McVay and general manager Les Snead of the Los Angeles Rams stand for a photo after announcing McVay\\'s hiring as head coach.\\n\\nComing from a football family\\n\\nMcVay, who was born in 1986, started making connections at a very young age with NFL players around the San Francisco 49ers organization. His grandfather, John McVay, was inducted into the 49ers Hall of Fame for his success in the team\\'s front office, helping construct 49ers rosters that won five Super Bowls in the 1980s and 1990s.\\n\\nPlaying football also runs in McVay\\'s family. His father, Tim, played at Indiana, and his uncle, John, played for Miami University in the mid-1970s. When McVay was in high school in Atlanta, he led Marist School to a state championship in 2003. He spent his college days as a wide receiver at Miami University in Ohio from 2004-2007.\\n\\nMcVay\\'s coaching career began in 2008, as an assistant wide receivers coach with the Tampa Bay Buccaneers. He spent 2009 as a tight ends coach with the Florida Tuskers in the United Football League. In 2010, he joined Washington as an offensive assistant and was the tight ends coach from 2011-2013. He then spent three seasons as Washington\\'s offensive coordinator, helping develop quarterback Kirk Cousins.\\n\\nMcVay\\'s Rams have reached the playoffs twice in his tenure.\\n\\nIn his two years at the helm, the Rams have reached the playoffs twice. Now, he\\'s heading back to Atlanta for Super Bowl LIII against Belichick and the Patriots.\\n\\n\"Yeah, it means I\\'ve got a lot more people bothering me about tickets,\" McVay said last week with a laugh. \"No, it -- Atlanta, specifically where I went to high school at Marist, that place has been great to me. So many influential coaches that really pour into you. They teach you about how to be a man, how to handle -- whether it be success or some adversity -- and that\\'s what\\'s real.\\n\\n\"Some of my closest friends in life are guys that I was able to play high school football with,\" he said. \"So, there\\'s ... people that will be able to be at that game that are very important to me, but this is about the Rams going and playing in the Super Bowl.\\n\\n\"It is unique that it\\'s in Atlanta, but we\\'re going there to try to win a football game and then there will be some people that are very special to me and my family that\\'ll get a chance to not have to travel too far to be there as well.\"\\n\\nMcVay\\'s win against the Saints came a few days before his 33rd birthday.\\n\\nCoincidentally, the one Super Bowl that McVay attended as a 14-year-old fan was Super Bowl XXXIV in 2000, when the Rams last won and when he lived in Atlanta. The tickets were a birthday present from the elder McVay, who was still working in the NFL at the time.\\n\\nNineteen years later, the grandfather will be watching the grandson.\\n\\n\"He\\'ll be at the game,\" McVay said. \"What he\\'s meant to me and to our family and just the way that he\\'s handled himself and the perspective that he has -- he\\'s seen it from both ends of the spectrum. He\\'s been a coach. He\\'s also had an intricate role from a front office standpoint, and he\\'s been a part of a championship organization that was able to sustain for a long period of time.\"\\n\\nMcVay: Belichick texted him throughout the season\\n\\nMcVay says his grandfather is a great reference for him. But there\\'s also Belichick. Before the Rams came calling, McVay first met Belichick and Patriots offensive coordinator Josh McDaniels.\\n\\n\"We practiced against those guys when I was in Washington early on and kind of kept in contact with them,\" McVay said. \"They\\'re a team that you\\'re always watching the way they do things, and you just have so much respect for the way that they\\'ve operated over the last handful of years.\"\\n\\nAccording to NBC\\'s Peter King , McVay says Belichick has texted him after games.\\n\\nMcVay\\'s first Super Bowl comes against Bill Belichick, with whom the Rams coach says he\\'s texted this season.\\n\\n\"I\\'ve gotten to know Bill -- we talked at the combine last year -- so that\\'s been cool,\" McVay told King. \"He was really great in the conversation we had, really enlightening.\\n\\n\"This is wild: This season, he has basically texted me after every one of our games. After we beat Minnesota in September, he texted, \\'Man, you guys are really explosive and impressive and fun to watch. Congratulations -- keep it rolling.\\' For him to even take the time to say congrats, it\\'s pretty cool. That\\'s one of the things I like about our business, our fraternity of coaches. As competitive as it is, guys find time to share when they can. I\\'m still young, still figuring it out. That stuff\\'s been really helpful to me.\"\\n\\nWhile Belichick hasn\\'t really elaborated on his relationship with McVay, he did have glowing things to say last week about the Rams\\' head coach, who is half of his age.\\n\\n\"I have a ton of respect for Sean,\" Belichick said. \"I think he\\'s done a great job in the two years he\\'s been with the Rams. His teams have performed at an extremely high level. They\\'re very consistent. They\\'re well-coached. He has a great scheme. The players execute it on a consistent basis at a very high level.\\n\\n\"He\\'s got a great coaching staff. Offense, defense, special teams -- they\\'re good in every area. ... I think he\\'s done an outstanding job. I have a ton of respect for the way his team has played and how well they play and what he\\'s accomplished out there, and in his entire career, but as a head coach in the last two years.\"'"
      ]
     },
     "execution_count": 95,
     "metadata": {},
     "output_type": "execute_result"
    }
   ],
   "source": [
    "sport[1]"
   ]
  },
  {
   "cell_type": "code",
   "execution_count": 96,
   "metadata": {
    "collapsed": false
   },
   "outputs": [
    {
     "data": {
      "text/plain": [
       "' cnn speaking to reporters last week bill belichick was asked if he s gotten to know his super bowl liii opponent rams head coach sean mcvay yeah i know him the year old patriots head coach said which is about the extent of acknowledgment many have come to expect from the man who doesn t give much away but mcvay clearly has the attention of belichick more on that later who has the most super bowl titles five of all time as well as the rest of the nfl this will be belichick s ninth super bowl appearance it s the first for mcvay who at is the youngest coach in super bowl history and he is viewed as the nfl s next prodigy working with him man it s a good feeling just to have him as our coach rams running back todd gurley said he s a players coach he s a great guy you can talk to him you can understand and he does everything for a reason he does everything for us for the team so you love playing for a guy like that mcvay with gerald everett after defeating the new orleans saints in the nfc championship game at the mercedes benz superdome on january in new orleans a historic hire in january the los angeles rams announced their next head football coach but this wasn t just any hire when it was revealed the choice was mcvay it sent shockwaves throughout the league at years old he was the youngest head coach in nfl history but despite his age mcvay already had several years experience in the league and his ability to recall plays even ones from a few years ago is mind blowing a clip from bleacher report went viral when mcvay was quizzed about specific plays from mcvay did the same thing for hbo s real sports back in july rams hc sean mcvay literally remembers every play of his coaching career pic twitter com rgcmcajm bleacher report bleacherreport september rams quarterback jared goff then just off his rookie season recently recalled having a good impression when mcvay interviewed for the job as i was leaving the meeting i got a pretty good idea that he would be the one chosen and was very excited for it goff now said it was awesome and it has turned out pretty well i think chief operating officer kevin demoff mcvay and general manager les snead of the los angeles rams stand for a photo after announcing mcvay s hiring as head coach coming from a football family mcvay who was born in started making connections at a very young age with nfl players around the san francisco ers organization his grandfather john mcvay was inducted into the ers hall of fame for his success in the team s front office helping construct ers rosters that won five super bowls in the s and s playing football also runs in mcvay s family his father tim played at indiana and his uncle john played for miami university in the mid s when mcvay was in high school in atlanta he led marist school to a state championship in he spent his college days as a wide receiver at miami university in ohio from mcvay s coaching career began in as an assistant wide receivers coach with the tampa bay buccaneers he spent as a tight ends coach with the florida tuskers in the united football league in he joined washington as an offensive assistant and was the tight ends coach from he then spent three seasons as washington s offensive coordinator helping develop quarterback kirk cousins mcvay s rams have reached the playoffs twice in his tenure in his two years at the helm the rams have reached the playoffs twice now he s heading back to atlanta for super bowl liii against belichick and the patriots yeah it means i ve got a lot more people bothering me about tickets mcvay said last week with a laugh no it atlanta specifically where i went to high school at marist that place has been great to me so many influential coaches that really pour into you they teach you about how to be a man how to handle whether it be success or some adversity and that s what s real some of my closest friends in life are guys that i was able to play high school football with he said so there s people that will be able to be at that game that are very important to me but this is about the rams going and playing in the super bowl it is unique that it s in atlanta but we re going there to try to win a football game and then there will be some people that are very special to me and my family that ll get a chance to not have to travel too far to be there as well mcvay s win against the saints came a few days before his rd birthday coincidentally the one super bowl that mcvay attended as a year old fan was super bowl xxxiv in when the rams last won and when he lived in atlanta the tickets were a birthday present from the elder mcvay who was still working in the nfl at the time nineteen years later the grandfather will be watching the grandson he ll be at the game mcvay said what he s meant to me and to our family and just the way that he s handled himself and the perspective that he has he s seen it from both ends of the spectrum he s been a coach he s also had an intricate role from a front office standpoint and he s been a part of a championship organization that was able to sustain for a long period of time mcvay belichick texted him throughout the season mcvay says his grandfather is a great reference for him but there s also belichick before the rams came calling mcvay first met belichick and patriots offensive coordinator josh mcdaniels we practiced against those guys when i was in washington early on and kind of kept in contact with them mcvay said they re a team that you re always watching the way they do things and you just have so much respect for the way that they ve operated over the last handful of years according to nbc s peter king mcvay says belichick has texted him after games mcvay s first super bowl comes against bill belichick with whom the rams coach says he s texted this season i ve gotten to know bill we talked at the combine last year so that s been cool mcvay told king he was really great in the conversation we had really enlightening this is wild this season he has basically texted me after every one of our games after we beat minnesota in september he texted man you guys are really explosive and impressive and fun to watch congratulations keep it rolling for him to even take the time to say congrats it s pretty cool that s one of the things i like about our business our fraternity of coaches as competitive as it is guys find time to share when they can i m still young still figuring it out that stuff s been really helpful to me while belichick hasn t really elaborated on his relationship with mcvay he did have glowing things to say last week about the rams head coach who is half of his age i have a ton of respect for sean belichick said i think he s done a great job in the two years he s been with the rams his teams have performed at an extremely high level they re very consistent they re well coached he has a great scheme the players execute it on a consistent basis at a very high level he s got a great coaching staff offense defense special teams they re good in every area i think he s done an outstanding job i have a ton of respect for the way his team has played and how well they play and what he s accomplished out there and in his entire career but as a head coach in the last two years '"
      ]
     },
     "execution_count": 96,
     "metadata": {},
     "output_type": "execute_result"
    }
   ],
   "source": [
    "sport1[1]"
   ]
  },
  {
   "cell_type": "code",
   "execution_count": 8,
   "metadata": {
    "collapsed": false
   },
   "outputs": [
    {
     "ename": "NameError",
     "evalue": "name 'pymorphy2' is not defined",
     "output_type": "error",
     "traceback": [
      "\u001b[1;31m---------------------------------------------------------------------------\u001b[0m",
      "\u001b[1;31mNameError\u001b[0m                                 Traceback (most recent call last)",
      "\u001b[1;32m<ipython-input-8-5d07002a8ea2>\u001b[0m in \u001b[0;36m<module>\u001b[1;34m()\u001b[0m\n\u001b[1;32m----> 1\u001b[1;33m \u001b[0mmorph\u001b[0m \u001b[1;33m=\u001b[0m \u001b[0mpymorphy2\u001b[0m\u001b[1;33m.\u001b[0m\u001b[0mMorphAnalyzer\u001b[0m\u001b[1;33m(\u001b[0m\u001b[1;33m)\u001b[0m\u001b[1;33m\u001b[0m\u001b[0m\n\u001b[0m\u001b[0;32m      2\u001b[0m \u001b[0mmorph\u001b[0m\u001b[1;33m.\u001b[0m\u001b[0mword_is_known\u001b[0m\u001b[1;33m(\u001b[0m\u001b[1;34m'деревом'\u001b[0m\u001b[1;33m)\u001b[0m\u001b[1;33m\u001b[0m\u001b[0m\n",
      "\u001b[1;31mNameError\u001b[0m: name 'pymorphy2' is not defined"
     ]
    }
   ],
   "source": [
    "morph = pymorphy2.MorphAnalyzer()\n",
    "morph.word_is_known('деревом')"
   ]
  },
  {
   "cell_type": "code",
   "execution_count": 39,
   "metadata": {
    "collapsed": false
   },
   "outputs": [
    {
     "data": {
      "text/plain": [
       "True"
      ]
     },
     "execution_count": 39,
     "metadata": {},
     "output_type": "execute_result"
    }
   ],
   "source": [
    "dict_en.check('\\u2066')"
   ]
  },
  {
   "cell_type": "code",
   "execution_count": 9,
   "metadata": {
    "collapsed": false
   },
   "outputs": [
    {
     "name": "stdout",
     "output_type": "stream",
     "text": [
      "298\n"
     ]
    }
   ],
   "source": [
    "dict_en = enchant.Dict('en_EN')\n",
    "corpus_tokens = []\n",
    "inds_to_drop = []\n",
    "\n",
    "for i, sentence in enumerate(log_progress(text1[:])):\n",
    "    tmp_tokens = []\n",
    "    sp = sentence.split()\n",
    "    for word in sp:\n",
    "        if word not in stop_words.get_stop_words('en') and word not in ['s', 't', 'd', 'v', 've', 'll', 're']:\n",
    "            if dict_en.check(word):\n",
    "                tmp_tokens.append(word)\n",
    "    if len(tmp_tokens) > 0:\n",
    "        corpus_tokens.append(tmp_tokens)\n",
    "    else:\n",
    "        inds_to_drop.append(i)\n",
    "#     break\n",
    "        \n",
    "print(len(corpus_tokens))"
   ]
  },
  {
   "cell_type": "code",
   "execution_count": 10,
   "metadata": {
    "collapsed": false
   },
   "outputs": [],
   "source": [
    "from nltk.stem import WordNetLemmatizer\n",
    "from nltk.corpus import words\n",
    "wnl = WordNetLemmatizer()"
   ]
  },
  {
   "cell_type": "code",
   "execution_count": 11,
   "metadata": {
    "collapsed": false
   },
   "outputs": [
    {
     "data": {
      "text/plain": [
       "'play'"
      ]
     },
     "execution_count": 11,
     "metadata": {},
     "output_type": "execute_result"
    }
   ],
   "source": [
    "from nltk.stem import SnowballStemmer\n",
    "stemmer = SnowballStemmer(\"english\")\n",
    "stemmer.stem('playing')"
   ]
  },
  {
   "cell_type": "code",
   "execution_count": 12,
   "metadata": {
    "collapsed": false
   },
   "outputs": [
    {
     "name": "stdout",
     "output_type": "stream",
     "text": [
      "298 298\n"
     ]
    }
   ],
   "source": [
    "corpus_tokens_lem=[]\n",
    "for i, tokens in enumerate(log_progress(corpus_tokens)):\n",
    "    tmp_tokens = []\n",
    "    for word in tokens:\n",
    "        tmp_word = wnl.lemmatize(word)\n",
    "        tmp_word = stemmer.stem(tmp_word)\n",
    "        tmp_tokens.append(tmp_word)\n",
    "    corpus_tokens_lem.append(tmp_tokens)\n",
    "print(len(corpus_tokens_lem), len(text1))"
   ]
  },
  {
   "cell_type": "code",
   "execution_count": 56,
   "metadata": {
    "collapsed": false
   },
   "outputs": [
    {
     "data": {
      "text/plain": [
       "'mouse'"
      ]
     },
     "execution_count": 56,
     "metadata": {},
     "output_type": "execute_result"
    }
   ],
   "source": [
    "wnl.lemmatize('mice')"
   ]
  },
  {
   "cell_type": "code",
   "execution_count": 57,
   "metadata": {
    "collapsed": false
   },
   "outputs": [
    {
     "data": {
      "text/plain": [
       "'mous'"
      ]
     },
     "execution_count": 57,
     "metadata": {},
     "output_type": "execute_result"
    }
   ],
   "source": [
    "stemmer.stem('mouse')"
   ]
  },
  {
   "cell_type": "code",
   "execution_count": 23,
   "metadata": {
    "collapsed": true
   },
   "outputs": [],
   "source": [
    "np.save('stemmed', corpus_tokens_lem)"
   ]
  },
  {
   "cell_type": "code",
   "execution_count": 42,
   "metadata": {
    "collapsed": false
   },
   "outputs": [
    {
     "data": {
      "text/plain": [
       "array(['speak', 'report', 'last', 'week', 'bill', 'ask', 'gotten', 'know',\n",
       "       'super', 'bowl', 'oppon', 'ram', 'head', 'coach', 'yeah', 'know',\n",
       "       'year', 'old', 'patriot', 'head', 'coach', 'said', 'extent',\n",
       "       'acknowledg', 'mani', 'come', 'expect', 'man', 'give', 'much',\n",
       "       'away', 'clear', 'attent', 'later', 'super', 'bowl', 'titl',\n",
       "       'five', 'time', 'well', 'rest', 'will', 'ninth', 'super', 'bowl',\n",
       "       'appear', 'first', 'youngest', 'coach', 'super', 'bowl', 'histori',\n",
       "       'view', 'next', 'prodigi', 'work', 'man', 'good', 'feel', 'just',\n",
       "       'coach', 'ram', 'run', 'back', 'said', 'player', 'coach', 'great',\n",
       "       'guy', 'can', 'talk', 'can', 'understand', 'everyth', 'reason',\n",
       "       'everyth', 'u', 'team', 'love', 'play', 'guy', 'like', 'defeat',\n",
       "       'new', 'saint', 'championship', 'game', 'new', 'histor', 'hire',\n",
       "       'ram', 'announc', 'next', 'head', 'footbal', 'coach', 'just',\n",
       "       'hire', 'reveal', 'choic', 'sent', 'throughout', 'leagu', 'year',\n",
       "       'old', 'youngest', 'head', 'coach', 'histori', 'despit', 'age',\n",
       "       'alreadi', 'sever', 'year', 'experi', 'leagu', 'abil', 'recal',\n",
       "       'play', 'even', 'one', 'year', 'ago', 'mind', 'blow', 'clip',\n",
       "       'bleacher', 'report', 'went', 'viral', 'quizz', 'specif', 'play',\n",
       "       'thing', 'real', 'sport', 'back', 'ram', 'liter', 'rememb',\n",
       "       'everi', 'play', 'coach', 'career', 'pic', 'twitter', 'com',\n",
       "       'bleacher', 'report', 'ram', 'quarterback', 'just', 'rooki',\n",
       "       'season', 'recent', 'recal', 'good', 'impress', 'interview', 'job',\n",
       "       'leav', 'meet', 'got', 'pretti', 'good', 'idea', 'one', 'chosen',\n",
       "       'excit', 'now', 'said', 'awesom', 'turn', 'pretti', 'well',\n",
       "       'think', 'chief', 'oper', 'offic', 'general', 'manag', 'ram',\n",
       "       'stand', 'photo', 'announc', 'hire', 'head', 'coach', 'come',\n",
       "       'footbal', 'famili', 'born', 'start', 'make', 'connect', 'young',\n",
       "       'age', 'player', 'around', 'organ', 'grandfath', 'john', 'induct',\n",
       "       'hall', 'fame', 'success', 'team', 'front', 'offic', 'help',\n",
       "       'construct', 'roster', 'won', 'five', 'super', 'bowl', 'play',\n",
       "       'footbal', 'also', 'run', 'famili', 'father', 'play', 'uncl',\n",
       "       'john', 'play', 'univers', 'mid', 'high', 'school', 'led',\n",
       "       'school', 'state', 'championship', 'spent', 'colleg', 'day',\n",
       "       'wide', 'receiv', 'univers', 'coach', 'career', 'began', 'assist',\n",
       "       'wide', 'receiv', 'coach', 'bay', 'buccan', 'spent', 'tight',\n",
       "       'end', 'coach', 'unit', 'footbal', 'leagu', 'join', 'offens',\n",
       "       'assist', 'tight', 'end', 'coach', 'spent', 'three', 'season',\n",
       "       'offens', 'coordin', 'help', 'develop', 'quarterback', 'cousin',\n",
       "       'ram', 'reach', 'playoff', 'twice', 'tenur', 'two', 'year', 'helm',\n",
       "       'ram', 'reach', 'playoff', 'twice', 'now', 'head', 'back', 'super',\n",
       "       'bowl', 'patriot', 'yeah', 'mean', 'got', 'lot', 'peopl', 'bother',\n",
       "       'ticket', 'said', 'last', 'week', 'laugh', 'specif', 'went',\n",
       "       'high', 'school', 'place', 'great', 'mani', 'influenti', 'coach',\n",
       "       'realli', 'pour', 'teach', 'man', 'handl', 'whether', 'success',\n",
       "       'advers', 'real', 'closest', 'friend', 'life', 'guy', 'abl',\n",
       "       'play', 'high', 'school', 'footbal', 'said', 'peopl', 'will',\n",
       "       'abl', 'game', 'import', 'ram', 'go', 'play', 'super', 'bowl',\n",
       "       'uniqu', 'go', 'tri', 'win', 'footbal', 'game', 'will', 'peopl',\n",
       "       'special', 'famili', 'get', 'chanc', 'travel', 'far', 'well',\n",
       "       'win', 'saint', 'came', 'day', 'rd', 'birthday', 'coincident',\n",
       "       'one', 'super', 'bowl', 'attend', 'year', 'old', 'fan', 'super',\n",
       "       'bowl', 'xxxiv', 'ram', 'last', 'won', 'live', 'ticket',\n",
       "       'birthday', 'present', 'elder', 'still', 'work', 'time',\n",
       "       'nineteen', 'year', 'later', 'grandfath', 'will', 'watch',\n",
       "       'grandson', 'game', 'said', 'meant', 'famili', 'just', 'way',\n",
       "       'handl', 'perspect', 'seen', 'end', 'spectrum', 'coach', 'also',\n",
       "       'intric', 'role', 'front', 'offic', 'standpoint', 'part',\n",
       "       'championship', 'organ', 'abl', 'sustain', 'long', 'period',\n",
       "       'time', 'text', 'throughout', 'season', 'say', 'grandfath',\n",
       "       'great', 'refer', 'also', 'ram', 'came', 'call', 'first', 'met',\n",
       "       'patriot', 'offens', 'coordin', 'josh', 'practic', 'guy', 'earli',\n",
       "       'kind', 'kept', 'contact', 'said', 'team', 'alway', 'watch', 'way',\n",
       "       'thing', 'just', 'much', 'respect', 'way', 'oper', 'last', 'hand',\n",
       "       'year', 'accord', 'peter', 'king', 'say', 'text', 'game', 'first',\n",
       "       'super', 'bowl', 'come', 'bill', 'ram', 'coach', 'say', 'text',\n",
       "       'season', 'gotten', 'know', 'bill', 'talk', 'combin', 'last',\n",
       "       'year', 'cool', 'told', 'king', 'realli', 'great', 'convers',\n",
       "       'realli', 'enlighten', 'wild', 'season', 'basic', 'text', 'everi',\n",
       "       'one', 'game', 'beat', 'text', 'man', 'guy', 'realli', 'explos',\n",
       "       'impress', 'fun', 'watch', 'congratul', 'keep', 'roll', 'even',\n",
       "       'take', 'time', 'say', 'congrat', 'pretti', 'cool', 'one', 'thing',\n",
       "       'like', 'busi', 'fratern', 'coach', 'competit', 'guy', 'find',\n",
       "       'time', 'share', 'can', 'm', 'still', 'young', 'still', 'figur',\n",
       "       'stuff', 'realli', 'help', 'realli', 'elabor', 'relationship',\n",
       "       'glow', 'thing', 'say', 'last', 'week', 'ram', 'head', 'coach',\n",
       "       'half', 'age', 'ton', 'respect', 'said', 'think', 'done', 'great',\n",
       "       'job', 'two', 'year', 'ram', 'team', 'perform', 'extrem', 'high',\n",
       "       'level', 'consist', 'well', 'coach', 'great', 'scheme', 'player',\n",
       "       'execut', 'consist', 'basi', 'high', 'level', 'got', 'great',\n",
       "       'coach', 'staff', 'offens', 'defens', 'special', 'team', 'good',\n",
       "       'everi', 'area', 'think', 'done', 'outstand', 'job', 'ton',\n",
       "       'respect', 'way', 'team', 'play', 'well', 'play', 'accomplish',\n",
       "       'entir', 'career', 'head', 'coach', 'last', 'two', 'year'],\n",
       "      dtype='<U12')"
      ]
     },
     "execution_count": 42,
     "metadata": {},
     "output_type": "execute_result"
    }
   ],
   "source": [
    "np.transpose(corpus_tokens_lem[1])"
   ]
  },
  {
   "cell_type": "code",
   "execution_count": 43,
   "metadata": {
    "collapsed": false
   },
   "outputs": [
    {
     "data": {
      "text/plain": [
       "array(['speaking', 'reporters', 'last', 'week', 'bill', 'asked', 'gotten',\n",
       "       'know', 'super', 'bowl', 'opponent', 'rams', 'head', 'coach',\n",
       "       'yeah', 'know', 'year', 'old', 'patriots', 'head', 'coach', 'said',\n",
       "       'extent', 'acknowledgment', 'many', 'come', 'expect', 'man',\n",
       "       'give', 'much', 'away', 'clearly', 'attention', 'later', 'super',\n",
       "       'bowl', 'titles', 'five', 'time', 'well', 'rest', 'will', 'ninth',\n",
       "       'super', 'bowl', 'appearance', 'first', 'youngest', 'coach',\n",
       "       'super', 'bowl', 'history', 'viewed', 'next', 'prodigy', 'working',\n",
       "       'man', 'good', 'feeling', 'just', 'coach', 'rams', 'running',\n",
       "       'back', 'said', 'players', 'coach', 'great', 'guy', 'can', 'talk',\n",
       "       'can', 'understand', 'everything', 'reason', 'everything', 'us',\n",
       "       'team', 'love', 'playing', 'guy', 'like', 'defeating', 'new',\n",
       "       'saints', 'championship', 'game', 'new', 'historic', 'hire',\n",
       "       'rams', 'announced', 'next', 'head', 'football', 'coach', 'just',\n",
       "       'hire', 'revealed', 'choice', 'sent', 'throughout', 'league',\n",
       "       'years', 'old', 'youngest', 'head', 'coach', 'history', 'despite',\n",
       "       'age', 'already', 'several', 'years', 'experience', 'league',\n",
       "       'ability', 'recall', 'plays', 'even', 'ones', 'years', 'ago',\n",
       "       'mind', 'blowing', 'clip', 'bleacher', 'report', 'went', 'viral',\n",
       "       'quizzed', 'specific', 'plays', 'thing', 'real', 'sports', 'back',\n",
       "       'rams', 'literally', 'remembers', 'every', 'play', 'coaching',\n",
       "       'career', 'pic', 'twitter', 'com', 'bleacher', 'report', 'rams',\n",
       "       'quarterback', 'just', 'rookie', 'season', 'recently', 'recalled',\n",
       "       'good', 'impression', 'interviewed', 'job', 'leaving', 'meeting',\n",
       "       'got', 'pretty', 'good', 'idea', 'one', 'chosen', 'excited', 'now',\n",
       "       'said', 'awesome', 'turned', 'pretty', 'well', 'think', 'chief',\n",
       "       'operating', 'officer', 'general', 'manager', 'rams', 'stand',\n",
       "       'photo', 'announcing', 'hiring', 'head', 'coach', 'coming',\n",
       "       'football', 'family', 'born', 'started', 'making', 'connections',\n",
       "       'young', 'age', 'players', 'around', 'organization', 'grandfather',\n",
       "       'john', 'inducted', 'hall', 'fame', 'success', 'team', 'front',\n",
       "       'office', 'helping', 'construct', 'rosters', 'won', 'five',\n",
       "       'super', 'bowls', 'playing', 'football', 'also', 'runs', 'family',\n",
       "       'father', 'played', 'uncle', 'john', 'played', 'university', 'mid',\n",
       "       'high', 'school', 'led', 'school', 'state', 'championship',\n",
       "       'spent', 'college', 'days', 'wide', 'receiver', 'university',\n",
       "       'coaching', 'career', 'began', 'assistant', 'wide', 'receivers',\n",
       "       'coach', 'bay', 'buccaneers', 'spent', 'tight', 'ends', 'coach',\n",
       "       'united', 'football', 'league', 'joined', 'offensive', 'assistant',\n",
       "       'tight', 'ends', 'coach', 'spent', 'three', 'seasons', 'offensive',\n",
       "       'coordinator', 'helping', 'develop', 'quarterback', 'cousins',\n",
       "       'rams', 'reached', 'playoffs', 'twice', 'tenure', 'two', 'years',\n",
       "       'helm', 'rams', 'reached', 'playoffs', 'twice', 'now', 'heading',\n",
       "       'back', 'super', 'bowl', 'patriots', 'yeah', 'means', 'got', 'lot',\n",
       "       'people', 'bothering', 'tickets', 'said', 'last', 'week', 'laugh',\n",
       "       'specifically', 'went', 'high', 'school', 'place', 'great', 'many',\n",
       "       'influential', 'coaches', 'really', 'pour', 'teach', 'man',\n",
       "       'handle', 'whether', 'success', 'adversity', 'real', 'closest',\n",
       "       'friends', 'life', 'guys', 'able', 'play', 'high', 'school',\n",
       "       'football', 'said', 'people', 'will', 'able', 'game', 'important',\n",
       "       'rams', 'going', 'playing', 'super', 'bowl', 'unique', 'going',\n",
       "       'try', 'win', 'football', 'game', 'will', 'people', 'special',\n",
       "       'family', 'get', 'chance', 'travel', 'far', 'well', 'win',\n",
       "       'saints', 'came', 'days', 'rd', 'birthday', 'coincidentally',\n",
       "       'one', 'super', 'bowl', 'attended', 'year', 'old', 'fan', 'super',\n",
       "       'bowl', 'xxxiv', 'rams', 'last', 'won', 'lived', 'tickets',\n",
       "       'birthday', 'present', 'elder', 'still', 'working', 'time',\n",
       "       'nineteen', 'years', 'later', 'grandfather', 'will', 'watching',\n",
       "       'grandson', 'game', 'said', 'meant', 'family', 'just', 'way',\n",
       "       'handled', 'perspective', 'seen', 'ends', 'spectrum', 'coach',\n",
       "       'also', 'intricate', 'role', 'front', 'office', 'standpoint',\n",
       "       'part', 'championship', 'organization', 'able', 'sustain', 'long',\n",
       "       'period', 'time', 'texted', 'throughout', 'season', 'says',\n",
       "       'grandfather', 'great', 'reference', 'also', 'rams', 'came',\n",
       "       'calling', 'first', 'met', 'patriots', 'offensive', 'coordinator',\n",
       "       'josh', 'practiced', 'guys', 'early', 'kind', 'kept', 'contact',\n",
       "       'said', 'team', 'always', 'watching', 'way', 'things', 'just',\n",
       "       'much', 'respect', 'way', 'operated', 'last', 'handful', 'years',\n",
       "       'according', 'peter', 'king', 'says', 'texted', 'games', 'first',\n",
       "       'super', 'bowl', 'comes', 'bill', 'rams', 'coach', 'says',\n",
       "       'texted', 'season', 'gotten', 'know', 'bill', 'talked', 'combine',\n",
       "       'last', 'year', 'cool', 'told', 'king', 'really', 'great',\n",
       "       'conversation', 'really', 'enlightening', 'wild', 'season',\n",
       "       'basically', 'texted', 'every', 'one', 'games', 'beat', 'texted',\n",
       "       'man', 'guys', 'really', 'explosive', 'impressive', 'fun', 'watch',\n",
       "       'congratulations', 'keep', 'rolling', 'even', 'take', 'time',\n",
       "       'say', 'congrats', 'pretty', 'cool', 'one', 'things', 'like',\n",
       "       'business', 'fraternity', 'coaches', 'competitive', 'guys', 'find',\n",
       "       'time', 'share', 'can', 'm', 'still', 'young', 'still', 'figuring',\n",
       "       'stuff', 'really', 'helpful', 'really', 'elaborated',\n",
       "       'relationship', 'glowing', 'things', 'say', 'last', 'week', 'rams',\n",
       "       'head', 'coach', 'half', 'age', 'ton', 'respect', 'said', 'think',\n",
       "       'done', 'great', 'job', 'two', 'years', 'rams', 'teams',\n",
       "       'performed', 'extremely', 'high', 'level', 'consistent', 'well',\n",
       "       'coached', 'great', 'scheme', 'players', 'execute', 'consistent',\n",
       "       'basis', 'high', 'level', 'got', 'great', 'coaching', 'staff',\n",
       "       'offense', 'defense', 'special', 'teams', 'good', 'every', 'area',\n",
       "       'think', 'done', 'outstanding', 'job', 'ton', 'respect', 'way',\n",
       "       'team', 'played', 'well', 'play', 'accomplished', 'entire',\n",
       "       'career', 'head', 'coach', 'last', 'two', 'years'], dtype='<U15')"
      ]
     },
     "execution_count": 43,
     "metadata": {},
     "output_type": "execute_result"
    }
   ],
   "source": [
    "np.transpose(corpus_tokens[1])"
   ]
  },
  {
   "cell_type": "code",
   "execution_count": 54,
   "metadata": {
    "collapsed": false
   },
   "outputs": [
    {
     "data": {
      "image/png": "[encoded data removed]",
      "text/plain": [
       "<matplotlib.figure.Figure at 0x7f317cbca358>"
      ]
     },
     "metadata": {},
     "output_type": "display_data"
    }
   ],
   "source": [
    "diffs = np.asarray([len(tokens) for tokens in corpus_tokens_lem])\n",
    "plt.figure(figsize=(15, 5))\n",
    "plt.hist(diffs, bins=67)\n",
    "plt.grid(True)"
   ]
  },
  {
   "cell_type": "code",
   "execution_count": 55,
   "metadata": {
    "collapsed": false
   },
   "outputs": [
    {
     "data": {
      "text/plain": [
       "array([  59,  597,  386,  400,  105,  632,  837,  935,  967,  113,  676,\n",
       "        816,  965,  683,   61,  867,  950,   54,   59,  480,  622,   92,\n",
       "         60, 1169,  871, 1555,  784, 1042, 1422, 1169,  532,  659,  539,\n",
       "        345,  565,  517,  561,  594,  381,  584,   14,  123,   53,  597,\n",
       "        619,  467,  616,   61,  446,   85,   50,  384,  385,  110,  502,\n",
       "       1083, 1193,  406,   51,  479,  648,  533,  426,   83,  582,  570,\n",
       "        384,  122,   94,  439,   67,  710,  104,   74,  466,  441,   49,\n",
       "        586,  556,   72,  385,   86,  359,  941,   68, 1020,  102,   81,\n",
       "        107,   72,  368,  568,  968,  503,  471,  680,  407,  262,  784,\n",
       "        200,  337,  700,  688,  158,  552,   17,  968,  245,  504,  719,\n",
       "        769,  942,  663, 1190,  653,  300,  465,  126,  278,  548,  393,\n",
       "         21,  771, 2713,  457,  594,  400,  175,  656,  575,  540,  952,\n",
       "        826,  599,  439,  349,  797,  520,  221,   64,  762,   14,    7,\n",
       "         13,    9,  156,  942,   74,  902,  652,  589,   98,  514,  720,\n",
       "        109,  847,  603,  306,  569,  407,  355,  486,  498,  632,  136,\n",
       "        537,  523,  846,  422,  554,  571,  114,  509,   83,  369,  512,\n",
       "        234,  356,  100,  448,   84,  727,   92,  467,  643,  517,  392,\n",
       "        716,  656,  536,  114,  802,  879,  639,  906,  628, 1261,  834,\n",
       "       2001,  762,   72,  973,  571, 2206, 1520, 1154,  798,  566, 1189,\n",
       "        359,   49,  653, 1463,  719,  777,  132,  625,  780,  474, 1081,\n",
       "       1670, 2090, 1104,  781, 1538, 1148, 1753,   84, 2240, 1481,  888,\n",
       "       1597,  742, 1530, 1467,  906,  754,  678,  729, 1138,  549,  613,\n",
       "        189, 1005, 1187,  625,  556, 1438,  227,  591,  290,  284,  822,\n",
       "       1232,  127,  635,  475,  527,  422,  125,  520,  517,  443,  146,\n",
       "        446,  620,  962,  482,  671,  820,  844,  115,  553,  507, 1080,\n",
       "        599,  448, 1057,  603,  169,  118,  434,  674,  665,  696,   66,\n",
       "        103,  713,  358,  213,  489,  367,  377,  356,  399,   13,   13,\n",
       "         12])"
      ]
     },
     "execution_count": 55,
     "metadata": {},
     "output_type": "execute_result"
    }
   ],
   "source": [
    "diffs"
   ]
  },
  {
   "cell_type": "code",
   "execution_count": 13,
   "metadata": {
    "collapsed": false
   },
   "outputs": [
    {
     "name": "stdout",
     "output_type": "stream",
     "text": [
      "9053\n"
     ]
    }
   ],
   "source": [
    "sport_vocab = np.unique(np.concatenate(corpus_tokens_lem).flatten()).tolist()\n",
    "print(len(sport_vocab))"
   ]
  },
  {
   "cell_type": "code",
   "execution_count": 14,
   "metadata": {
    "collapsed": false
   },
   "outputs": [
    {
     "name": "stdout",
     "output_type": "stream",
     "text": [
      "['aback', 'abandon', 'abbey', 'abdomen', 'abdomin', 'abduct', 'abet', 'abid', 'abil', 'abl', 'ablat', 'ablaz', 'abnorm', 'aboard', 'abolish', 'aborigin', 'abort', 'abound', 'abras', 'abroad', 'abrupt', 'absenc', 'absent', 'absolut', 'absorb', 'absorpt', 'abstain', 'abstin', 'abstract', 'absurd', 'abund', 'abus', 'abut', 'abuzz', 'ac', 'academ', 'academi', 'acceler', 'accept', 'access', 'accid', 'accident', 'acclaim', 'acclim', 'accommod', 'accompani', 'accomplish', 'accord', 'accordion', 'account', 'accru', 'accumul', 'accur', 'accuraci', 'accus', 'accustom', 'ace', 'acet', 'ach', 'achiev', 'acid', 'acknowledg', 'acn', 'acquir', 'acr', 'acronym', 'across', 'act', 'action', 'activ', 'activist', 'actor', 'actress', 'actual', 'acut', 'ad', 'adapt', 'add', 'addict', 'addit', 'address', 'adenocarcinoma', 'adenoid', 'adequ', 'adher', 'adjac', 'adject', 'adjoin', 'adjunct', 'adjust', 'administ', 'administr', 'admir', 'admiss', 'admit', 'adolesc', 'adopt', 'ador', 'adorn', 'adrift', 'adul', 'adult', 'adulthood', 'advanc', 'advantag', 'advent', 'adventur', 'advers', 'adversari', 'advert', 'advertis', 'advic', 'advis', 'advisor', 'advisori', 'advoc', 'advocaci', 'aegi', 'aerial', 'aerob', 'aerobat', 'aerodynam', 'aesthet', 'affair', 'affect', 'affection', 'affidavit', 'affili', 'affin', 'affirm', 'afflict', 'affluent', 'afford', 'afghan', 'aficionado', 'afield', 'afloat', 'aforement', 'afraid', 'afternoon', 'afterthought', 'afterward', 'age', 'agenc', 'agenda', 'agent', 'aggrav', 'aggress', 'aghast', 'agit', 'ago', 'agon', 'agrarian', 'agre', 'agreeabl', 'agreement', 'agricultur', 'ah', 'ahead', 'aid', 'ail', 'ailment', 'aim', 'aimless', 'air', 'airborn', 'airbus', 'aircraft', 'airfar', 'airfield', 'airlift', 'airlin', 'airplan', 'airport', 'airshow', 'airstrik', 'airtight', 'airway', 'aisl', 'aka', 'akin', 'alarm', 'albacor', 'albeit', 'album', 'alcohol', 'alert', 'alfresco', 'algorithm', 'align', 'alik', 'aliv', 'alkali', 'alkalin', 'allay', 'alleg', 'allegi', 'allerg', 'allergi', 'allergist', 'allevi', 'alley', 'alleyway', 'alli', 'allianc', 'allig', 'alloc', 'allot', 'allow', 'allud', 'allur', 'almond', 'almost', 'aloft', 'alon', 'along', 'alongsid', 'aloud', 'alp', 'alpha', 'alphabet', 'alpin', 'alreadi', 'alright', 'also', 'altar', 'alter', 'altern', 'although', 'altitud', 'altogeth', 'altruist', 'alumnus', 'alway', 'amass', 'amateur', 'amaz', 'amazon', 'amazonian', 'ambassador', 'amber', 'ambianc', 'ambienc', 'ambit', 'ambiti', 'ambival', 'ambl', 'ambul', 'amen', 'amend', 'amid', 'amidst', 'amino', 'amnesti', 'amok', 'among', 'amongst', 'amount', 'amoxicillin', 'amp', 'amphetamin', 'amphibi', 'amphibian', 'amphitheat', 'amphitheatr', 'ampl', 'amplifi', 'amput', 'amus', 'anal', 'analysi', 'analyst', 'analyt', 'analyz', 'anatomi', 'ancestor', 'ancestr', 'anchor', 'ancient', 'anecdot', 'anemia', 'anesthesia', 'anesthesiologist', 'aneurysm', 'anew', 'angel', 'anger', 'angl', 'angri', 'anguish', 'anim', 'animos', 'ankl', 'anniversari', 'announc', 'annoy', 'annual', 'anomali', 'anonym', 'anoth', 'answer', 'antarct', 'anterior', 'anthem', 'anti', 'antibacteri', 'antibiot', 'antibodi', 'anticip', 'anticoagul', 'antidot', 'antihistamin', 'antimicrobi', 'antioxid', 'antiqu', 'antivir', 'antler', 'anxieti', 'anxious', 'anybodi', 'anymor', 'anyon', 'anyth', 'anytim', 'anyway', 'anywher', 'apart', 'apartheid', 'aperitif', 'apolog', 'apologis', 'apostl', 'app', 'appar', 'appeal', 'appear', 'appel', 'appendag', 'appetit', 'appl', 'applaud', 'applaus', 'appli', 'applianc', 'applic', 'appoint', 'appreci', 'apprehens', 'apprentic', 'approach', 'appropri', 'approv', 'approx', 'approxim', 'apricot', 'apt', 'aptitud', 'aqua', 'aquamarin', 'aquat', 'arbitr', 'arbitrari', 'arbitrarili', 'arbor', 'arc', 'arch', 'archaeolog', 'archaeologist', 'archeri', 'archipelago', 'architect', 'architectur', 'archiv', 'archivist', 'arctic', 'ardent', 'area', 'arena', 'argu', 'arguabl', 'argument', 'arid', 'aris', 'aristocrat', 'ark', 'arm', 'armada', 'armband', 'armi', 'armor', 'armpit', 'aroma', 'aromat', 'aros', 'around', 'arraign', 'arrang', 'array', 'arrest', 'arrhythmia', 'arriv', 'arrog', 'arrowhead', 'arsenal', 'arsenic', 'art', 'arteri', 'arthriti', 'articl', 'articul', 'artifact', 'artifici', 'artisan', 'artist', 'artsi', 'artsier', 'artwork', 'as', 'ascend', 'ascet', 'ascot', 'ascrib', 'ash', 'asham', 'ashram', 'ashtray', 'asid', 'ask', 'asleep', 'asparagus', 'aspect', 'aspen', 'aspir', 'ass', 'assail', 'assassin', 'assault', 'assembl', 'assert', 'assess', 'asset', 'assign', 'assist', 'associ', 'assum', 'assumpt', 'assur', 'asterisk', 'asthma', 'astonish', 'astronaut', 'astronom', 'asylum', 'ate', 'athlet', 'athletic', 'atmospher', 'atol', 'atom', 'atop', 'atrial', 'atroc', 'attach', 'attack', 'attain', 'attempt', 'attend', 'attende', 'attent', 'attest', 'attir', 'attitud', 'attorney', 'attract', 'attribut', 'auburn', 'audienc', 'audio', 'audit', 'auditorium', 'augment', 'august', 'aunt', 'aura', 'aurora', 'auspici', 'authent', 'author', 'authoritarian', 'autism', 'auto', 'autograph', 'autoimmun', 'autom', 'automat', 'automot', 'autonom', 'autonomi', 'autopsi', 'autumn', 'aux', 'avail', 'avalanch', 'avatar', 'ave', 'avenu', 'averag', 'aviat', 'avid', 'avocado', 'avoid', 'aw', 'await', 'awaken', 'awar', 'award', 'away', 'awe', 'awesom', 'awkward', 'awok', 'axi', 'axiom', 'azur', 'b', 'babbl', 'babe', 'babi', 'back', 'backboard', 'backbon', 'backdoor', 'backdrop', 'backer', 'backgammon', 'background', 'backhand', 'backlash', 'backlog', 'backpack', 'backseat', 'backstreet', 'backtrack', 'backup', 'backward', 'backwat', 'backyard', 'bacon', 'bacteri', 'bacteria', 'bad', 'badg', 'badland', 'badminton', 'baffl', 'bag', 'bagel', 'bagpip', 'bail', 'bailey', 'bake', 'baker', 'bakeri', 'balanc', 'balconi', 'bale', 'balk', 'ball', 'ballet', 'ballgam', 'ballist', 'balloon', 'ballot', 'ballroom', 'ballyhoo', 'balm', 'balmi', 'bamboo', 'ban', 'banana', 'band', 'bandag', 'bandi', 'bang', 'bank', 'banker', 'bankrol', 'banner', 'banquet', 'bantamweight', 'baptist', 'bar', 'barbarian', 'barbecu', 'barbel', 'barbequ', 'barber', 'bare', 'bareback', 'barefoot', 'barg', 'bargain', 'barista', 'bark', 'barker', 'barley', 'barn', 'baromet', 'baroqu', 'barrack', 'barrel', 'barren', 'barricad', 'barrier', 'barrio', 'bartend', 'basalt', 'base', 'basebal', 'baselin', 'bash', 'basi', 'basic', 'basilica', 'bask', 'basket', 'basketbal', 'basqu', 'bastard', 'bat', 'batch', 'bate', 'bath', 'bathhous', 'bathroom', 'bathtub', 'baton', 'batter', 'batteri', 'battl', 'bay', 'bazaar', 'be', 'beach', 'beachfront', 'beacon', 'beak', 'beam', 'bean', 'beani', 'beansprout', 'bear', 'beard', 'bearer', 'beast', 'beat', 'beaten', 'beau', 'beauti', 'beaver', 'becam', 'beck', 'beckon', 'becom', 'bed', 'bedroom', 'bedtim', 'beef', 'beefier', 'beer', 'beet', 'befel', 'befuddl', 'beg', 'began', 'begin', 'beginn', 'beguil', 'begun', 'behalf', 'behavior', 'behaviour', 'behead', 'behemoth', 'behind', 'behold', 'belch', 'beli', 'belief', 'believ', 'bell', 'belli', 'belliger', 'bellow', 'belong', 'belov', 'belt', 'bench', 'benchmark', 'bend', 'beneath', 'benefici', 'benefit', 'benign', 'bent', 'bequeath', 'bereft', 'beret', 'berri', 'berth', 'beset', 'besid', 'best', 'bestow', 'bestsel', 'bet', 'beta', 'betray', 'better', 'beverag', 'bewar', 'bey', 'beyond', 'bi', 'bias', 'biathlon', 'bib', 'bibl', 'bicep', 'bicker', 'bicycl', 'bid', 'big', 'bigger', 'biggest', 'bike', 'bikini', 'bile', 'bilingu', 'bill', 'billboard', 'billi', 'billion', 'billionair', 'bin', 'bind', 'bing', 'biodegrad', 'biodivers', 'bioethic', 'biolog', 'biologist', 'biomed', 'biopsi', 'biraci', 'birch', 'bird', 'birdi', 'birth', 'birthday', 'birthplac', 'birthright', 'bishop', 'bit', 'bite', 'bitten', 'bitter', 'bittersweet', 'bizarr', 'black', 'blackberri', 'blackboard', 'blackjack', 'blacklist', 'blackmail', 'bladder', 'blame', 'blank', 'blanket', 'blasphemi', 'blast', 'blatant', 'blaze', 'blazer', 'bleach', 'bleacher', 'bled', 'bleed', 'blemish', 'blend', 'blender', 'bless', 'blew', 'blind', 'blink', 'bliss', 'blister', 'bloat', 'block', 'blockad', 'blockag', 'blockbust', 'blocker', 'blog', 'blogger', 'blond', 'blood', 'bloodi', 'bloodstock', 'bloodstream', 'bloom', 'blossom', 'blotchi', 'blow', 'blown', 'blue', 'blueberri', 'bluebird', 'blueprint', 'bluff', 'blunt', 'blur', 'blurt', 'boar', 'board', 'boardwalk', 'boast', 'boat', 'bob', 'bobbi', 'bode', 'bodi', 'bodili', 'bodybuild', 'bogus', 'bohemian', 'boil', 'boilermak', 'bold', 'bolder', 'boldfac', 'bolster', 'bolt', 'bomb', 'bombard', 'bombast', 'bomber', 'bonbon', 'bond', 'bone', 'boni', 'bonus', 'boo', 'boobi', 'book', 'bookend', 'bookshop', 'boom', 'boomer', 'boon', 'boost', 'boot', 'booth', 'booz', 'boozi', 'border', 'bore', 'boredom', 'born', 'borough', 'borrow', 'bos', 'boss', 'botan', 'botch', 'bother', 'bottl', 'bottleneck', 'bottom', 'bougainvillea', 'bought', 'boulder', 'boulevard', 'bounc', 'bound', 'boundari', 'boundless', 'bourbon', 'bout', 'boutiqu', 'bow', 'bowel', 'bowl', 'bowman', 'box', 'boxer', 'boy', 'boycott', 'boyfriend', 'boyhood', 'brace', 'bracelet', 'bracket', 'brad', 'brag', 'braill', 'brain', 'brainstorm', 'brainwash', 'brais', 'brake', 'bran', 'branch', 'brand', 'brandi', 'brash', 'bravado', 'brave', 'bravest', 'bravo', 'brawni', 'brawniest', 'brazen', 'breach', 'bread', 'break', 'breakdown', 'breakfast', 'breakthrough', 'breakup', 'breast', 'breastfeed', 'breath', 'breathless', 'breathtak', 'bred', 'breed', 'breeder', 'breez', 'brew', 'brewer', 'breweri', 'briar', 'bribe', 'brick', 'bride', 'bridg', 'brie', 'brief', 'briefli', 'brig', 'bright', 'brighten', 'brighter', 'brillianc', 'brilliant', 'brim', 'bring', 'brisk', 'brittl', 'bro', 'broad', 'broadcast', 'broader', 'broadest', 'broccoli', 'brochur', 'brogan', 'broil', 'broke', 'broken', 'broker', 'bronco', 'bronz', 'brook', 'broth', 'brother', 'brotherhood', 'brought', 'brown', 'bruin', 'bruis', 'brunch', 'brush', 'brutal', 'brute', 'bubbl', 'buccan', 'buck', 'bucket', 'buckey', 'buckwheat', 'bucol', 'bud', 'buddi', 'budg', 'budget', 'buff', 'buffalo', 'buffet', 'bug', 'bugler', 'build', 'builder', 'buildup', 'built', 'bulg', 'bulk', 'bulkier', 'bull', 'bulldog', 'bullet', 'bulletin', 'bulli', 'bullish', 'bum', 'bummer', 'bump', 'bumper', 'bumpi', 'bun', 'bunch', 'bundl', 'bungalow', 'buoy', 'burden', 'bureau', 'bureaucraci', 'burgeon', 'burger', 'buri', 'burial', 'burn', 'burner', 'burnt', 'burro', 'burrow', 'burst', 'bus', 'bush', 'bushi', 'busi', 'busiest', 'businessman', 'businessmen', 'businesswoman', 'bust', 'bustl', 'but', 'butcher', 'butcheri', 'butler', 'butt', 'butter', 'butterfli', 'butternut', 'buttock', 'button', 'buttress', 'buy', 'buyer', 'buzz', 'bypass', 'byproduct', 'bystand', 'byzantin', 'c', 'cabbag', 'cabin', 'cabinet', 'cabl', 'cacao', 'cackl', 'cacophoni', 'caddi', 'cadenc', 'cafe', 'cafeteria', 'caffein', 'cage', 'cairn', 'cake', 'calamari', 'calcium', 'calcul', 'calendar', 'calib', 'call', 'calla', 'caller', 'callow', 'calm', 'calmer', 'calmest', 'calori', 'cam', 'camaraderi', 'came', 'camel', 'camera', 'cameraman', 'camp', 'campaign', 'campground', 'campsit', 'campus', 'can', 'canal', 'canari', 'cancel', 'cancer', 'candi', 'candid', 'candl', 'candler', 'cannabi', 'cannonbal', 'cano', 'canola', 'canon', 'canopi', 'cant', 'canva', 'canyon', 'cap', 'capabl', 'capac', 'cape', 'capit', 'capitol', 'capt', 'captain', 'captainci', 'caption', 'captiv', 'captur', 'car', 'carb', 'carbohydr', 'carbon', 'carcinogen', 'card', 'cardboard', 'cardiac', 'cardin', 'cardio', 'cardiolog', 'cardiologist', 'cardiovascular', 'care', 'career', 'caregiv', 'caretak', 'carniv', 'carol', 'carpent', 'carpet', 'carri', 'carriag', 'carrier', 'carrot', 'cart', 'cartel', 'carter', 'carton', 'cartoon', 'carv', 'cascad', 'case', 'caseload', 'cash', 'casino', 'cask', 'cast', 'castaway', 'castl', 'casual', 'casualti', 'cat', 'catalog', 'catamaran', 'catapult', 'cataract', 'catastroph', 'catch', 'catchi', 'categor', 'categori', 'cater', 'catfish', 'cathart', 'cathedr', 'cathol', 'cattl', 'caught', 'cauldron', 'cauliflow', 'caus', 'causal', 'caustic', 'caution', 'cautionari', 'cautious', 'cavali', 'cave', 'caveat', 'caveman', 'caviar', 'caviti', 'cayenn', 'ceas', 'ceasefir', 'ceil', 'celebr', 'celebratori', 'celeri', 'cell', 'cellar', 'cellular', 'cellulos', 'cement', 'cemeteri', 'censor', 'censorship', 'census', 'cent', 'centenari', 'centenni', 'center', 'centerpiec', 'centimet', 'centr', 'central', 'centuri', 'ceram', 'cereal', 'cerebr', 'ceremoni', 'certain', 'certainti', 'certif', 'certifi', 'cervix', 'cesarean', 'cessat', 'chain', 'chair', 'chairman', 'chairwoman', 'chalet', 'challeng', 'chamber', 'chameleon', 'champ', 'champagn', 'champion', 'championship', 'chanc', 'chang', 'changer', 'channel', 'chant', 'chao', 'chaotic', 'chapel', 'chapter', 'char', 'charact', 'character', 'characterist', 'charcoal', 'chard', 'charg', 'charger', 'charit', 'chariti', 'charli', 'charm', 'chart', 'charter', 'chase', 'chassi', 'chat', 'chateau', 'chatter', 'chatti', 'cheap', 'cheaper', 'cheat', 'check', 'checker', 'checklist', 'checkpoint', 'checkup', 'cheddar', 'cheek', 'cheeki', 'cheer', 'cheerlead', 'chees', 'cheeseburg', 'chef', 'chemic', 'chemist', 'chemistri', 'chemo', 'chemotherapi', 'cherish', 'cherri', 'chest', 'chestnut', 'chevali', 'chevron', 'chew', 'chewi', 'chi', 'chic', 'chicken', 'chickpea', 'chief', 'child', 'childbirth', 'childhood', 'chili', 'chill', 'chilli', 'chime', 'chimney', 'chimp', 'chimpanze', 'chin', 'china', 'chino', 'chip', 'chippi', 'chirp', 'chisel', 'chlorin', 'chock', 'chocol', 'choic', 'choir', 'choke', 'cholesterol', 'choos', 'chop', 'choppi', 'chore', 'choreograph', 'choreographi', 'chortl', 'chose', 'chosen', 'chow', 'christian', 'chrome', 'chromosom', 'chronic', 'chronolog', 'chug', 'chunk', 'church', 'churn', 'cider', 'cigarett', 'cinema', 'cinnamon', 'circa', 'circadian', 'circl', 'circuit', 'circuitri', 'circul', 'circular', 'circulatori', 'circumfer', 'circumnavig', 'circumst', 'circumv', 'cirqu', 'citadel', 'citat', 'cite', 'citi', 'citizen', 'citizenship', 'citrus', 'civil', 'civilian', 'clack', 'clad', 'claim', 'claimant', 'clamor', 'clandestin', 'clap', 'clarif', 'clarifi', 'clash', 'class', 'classic', 'classifi', 'classmat', 'classroom', 'clatter', 'claus', 'claw', 'clay', 'clean', 'cleaner', 'cleanli', 'cleans', 'clear', 'clearer', 'cleat', 'clementin', 'cleric', 'clerk', 'clever', 'click', 'client', 'clientel', 'cliff', 'clifftop', 'climat', 'climb', 'climber', 'clinch', 'cling', 'clinic', 'clinician', 'clip', 'clipboard', 'clipper', 'clock', 'clockwis', 'clog', 'close', 'closer', 'closest', 'closet', 'closur', 'clot', 'cloth', 'cloud', 'cloudi', 'clout', 'club', 'clue', 'clump', 'clung', 'cluster', 'clutch', 'cm', 'co', 'coach', 'coagul', 'coal', 'coalit', 'coast', 'coastal', 'coaster', 'coastlin', 'coat', 'cobbl', 'coca', 'cocain', 'cockatoo', 'cockpit', 'cocktail', 'coco', 'cocoa', 'coconut', 'cocoon', 'code', 'codifi', 'coerc', 'coexist', 'coffe', 'cog', 'cognit', 'cogniz', 'cohes', 'cohort', 'coil', 'coin', 'coincid', 'coincident', 'coke', 'cola', 'cold', 'colder', 'coldest', 'coleslaw', 'coliseum', 'collabor', 'collaps', 'collard', 'colleagu', 'collect', 'colleg', 'collid', 'collis', 'colon', 'coloni', 'color', 'coloss', 'colour', 'colt', 'column', 'columnist', 'com', 'coma', 'comb', 'combat', 'combin', 'combo', 'combust', 'come', 'comeback', 'comedi', 'comfort', 'comic', 'command', 'commend', 'comment', 'commentari', 'commerc', 'commerci', 'commiss', 'commission', 'commit', 'committe', 'commod', 'commodor', 'common', 'commonplac', 'commonwealth', 'communal', 'communic', 'communiqu', 'communism', 'communist', 'communiti', 'commut', 'compact', 'compani', 'companion', 'compar', 'comparison', 'compart', 'compass', 'compat', 'compatriot', 'compel', 'compens', 'compet', 'competit', 'competitor', 'compil', 'complac', 'complain', 'complaint', 'complement', 'complementari', 'complet', 'complex', 'compli', 'complianc', 'compliant', 'complic', 'complimentari', 'compon', 'compos', 'composit', 'compost', 'composur', 'compound', 'comprehend', 'comprehens', 'compress', 'compris', 'compromis', 'compuls', 'comput', 'comrad', 'con', 'conceal', 'conced', 'conceiv', 'concentr', 'concept', 'concern', 'concert', 'conch', 'concierg', 'conclud', 'conclus', 'concoct', 'concret', 'concuss', 'condemn', 'condiment', 'condit', 'condol', 'condon', 'conduc', 'conduct', 'conductor', 'cone', 'confeder', 'confer', 'confess', 'confid', 'confidenti', 'confin', 'confirm', 'confisc', 'conflict', 'confound', 'confront', 'confus', 'congest', 'conglomer', 'congrat', 'congratul', 'congratulatori', 'congreg', 'congress', 'conjoin', 'conjunct', 'conjur', 'connect', 'connoisseur', 'conquer', 'conqueror', 'conquest', 'conscienc', 'conscious', 'conscript', 'consecr', 'consecut', 'consensu', 'consensus', 'consent', 'consequ', 'consequenti', 'conserv', 'conservat', 'consid', 'consider', 'consist', 'consol', 'consort', 'consortium', 'conspir', 'constant', 'constip', 'constitut', 'constrain', 'constraint', 'constru', 'construct', 'consult', 'consum', 'consumpt', 'contact', 'contagi', 'contagion', 'contain', 'contamin', 'contempl', 'contemporari', 'contempt', 'contend', 'content', 'contenti', 'contest', 'context', 'contin', 'conting', 'continu', 'contort', 'contracept', 'contract', 'contradict', 'contradictori', 'contrari', 'contrast', 'contribut', 'contributor', 'contributori', 'control', 'controversi', 'conundrum', 'conveni', 'convent', 'converg', 'convers', 'convert', 'convey', 'conveyor', 'convict', 'convinc', 'convivi', 'convoy', 'convuls', 'coo', 'cook', 'cookbook', 'cooki', 'cool', 'cooler', 'coolest', 'coolli', 'cooper', 'coordin', 'cop', 'cope', 'copi', 'copper', 'copycat', 'coral', 'cord', 'cordial', 'cordon', 'core', 'corn', 'cornea', 'corner', 'cornerston', 'cornfield', 'coronari', 'corpor', 'corral', 'correct', 'correl', 'correspond', 'corrod', 'corrupt', 'cosi', 'cosmet', 'cosmetolog', 'cosmic', 'cossi', 'cost', 'costum', 'cote', 'cottag', 'cotton', 'couch', 'cougar', 'cough', 'council', 'counsel', 'counselor', 'count', 'countdown', 'counter', 'counteract', 'counterclockwis', 'counterpart', 'counti', 'countless', 'countri', 'countryman', 'countrysid', 'coup', 'coupl', 'courag', 'courier', 'cours', 'court', 'courtesi', 'courtroom', 'courtyard', 'cousin', 'cove', 'cover', 'coverag', 'covet', 'cow', 'cowboy', 'cowork', 'cox', 'cozi', 'crab', 'crack', 'crackdown', 'cracker', 'crackl', 'cradl', 'craft', 'craftsman', 'craftspeopl', 'craggi', 'cram', 'cramp', 'crane', 'crank', 'cranki', 'crap', 'crash', 'crater', 'crave', 'crawl', 'crayon', 'crazi', 'craziest', 'cream', 'creami', 'creat', 'creation', 'creativ', 'creator', 'creatur', 'credenti', 'credibl', 'credit', 'creek', 'creep', 'creol', 'crept', 'crescent', 'crest', 'crew', 'cri', 'crib', 'crick', 'cricket', 'crime', 'crimin', 'crimson', 'crippl', 'crisi', 'crisp', 'crisscross', 'criterion', 'critic', 'critter', 'crocodil', 'croon', 'crop', 'cropland', 'croquet', 'cross', 'crossbon', 'crotch', 'crow', 'crowbar', 'crowd', 'crowdfund', 'crown', 'crucial', 'crude', 'cruel', 'cruis', 'crumbl', 'crunch', 'crunchi', 'crusad', 'crush', 'crustacean', 'cryogen', 'crystal', 'ct', 'cube', 'cubic', 'cucumb', 'cudd', 'cuddl', 'cue', 'cuisin', 'culinari', 'culmin', 'culpabl', 'culprit', 'cult', 'cultiv', 'cultur', 'cumbersom', 'cumin', 'cumul', 'cun', 'cup', 'cupcak', 'cupola', 'curat', 'curb', 'cure', 'curios', 'curious', 'curl', 'currenc', 'current', 'curri', 'curriculum', 'curs', 'curtain', 'curv', 'curvatur', 'cusp', 'custodi', 'custodian', 'custom', 'customari', 'cut', 'cute', 'cutlet', 'cutoff', 'cutter', 'cycl', 'cyclic', 'cyclist', 'cyclon', 'cylindr', 'cynic', 'cyst', 'cystic', 'dabbl', 'dad', 'daffodil', 'dag', 'daili', 'dairi', 'daisi', 'dalmatian', 'dam', 'damag', 'dame', 'damn', 'damnedest', 'dampen', 'damper', 'danc', 'dancer', 'dang', 'danger', 'danish', 'dare', 'daredevil', 'dark', 'darl', 'dash', 'dashiki', 'data', 'databas', 'date', 'daughter', 'daunt', 'davenport', 'davit', 'dawn', 'day', 'daycar', 'daydream', 'daylight', 'daytim', 'dazzl', 'dc', 'deactiv', 'dead', 'deadlin', 'deadpan', 'deaf', 'deal', 'dealer', 'dealt', 'dean', 'dear', 'death', 'deathb', 'debat', 'debilit', 'debri', 'debt', 'debunk', 'debut', 'decad', 'decaf', 'decaffein', 'decamp', 'decay', 'deceas', 'deceiv', 'decent', 'decept', 'decibel', 'decid', 'decilit', 'decis', 'deck', 'declar', 'declin', 'decod', 'decompos', 'decor', 'decreas', 'decrepit', 'dedic', 'deed', 'deem', 'deep', 'deepen', 'deeper', 'deepest', 'deepli', 'defeat', 'defect', 'defenc', 'defend', 'defens', 'defenseless', 'defer', 'defi', 'defiant', 'defici', 'deficit', 'defil', 'defin', 'definit', 'deforest', 'defraud', 'defunct', 'degrad', 'degre', 'dehydr', 'deiti', 'deject', 'delay', 'delect', 'delet', 'deliber', 'delicaci', 'delici', 'delight', 'deliv', 'deliveri', 'delta', 'delug', 'delux', 'delv', 'demand', 'demean', 'dementia', 'demo', 'democraci', 'democrat', 'demograph', 'demolish', 'demolit', 'demon', 'demonstr', 'demot', 'demystifi', 'den', 'deni', 'denial', 'denot', 'dens', 'densiti', 'dent', 'dental', 'dentist', 'denuclear', 'depart', 'departur', 'depend', 'depict', 'deplet', 'deploy', 'deport', 'depos', 'deposit', 'depot', 'depress', 'depriv', 'depth', 'deputi', 'derail', 'derbi', 'deregul', 'derelict', 'derid', 'deriv', 'dermat', 'dermatologist', 'derrick', 'descend', 'descent', 'describ', 'descript', 'desensit', 'desert', 'deserv', 'design', 'desir', 'desk', 'despair', 'desper', 'despis', 'despit', 'dessert', 'destabil', 'destin', 'destroy', 'destruct', 'detail', 'detain', 'detect', 'detector', 'detent', 'deter', 'deterior', 'determin', 'determinist', 'deterr', 'deton', 'detox', 'detoxifi', 'detriment', 'devast', 'develop', 'development', 'deviat', 'devic', 'devil', 'devolut', 'devot', 'devote', 'dhow', 'diabet', 'diagnos', 'diagnosi', 'diagnost', 'diagram', 'dial', 'dialect', 'dialogu', 'dialysi', 'diamet', 'diamond', 'diaper', 'diari', 'diarrhea', 'diaspora', 'dice', 'dictat', 'dictatori', 'dictatorship', 'dictionari', 'die', 'diesel', 'diet', 'dietari', 'dieter', 'dietet', 'dietitian', 'differ', 'differenti', 'difficult', 'difficulti', 'diffus', 'dig', 'digest', 'digit', 'dignitari', 'digniti', 'dilapid', 'dilat', 'dilemma', 'dilig', 'dill', 'dilut', 'dim', 'dime', 'dimension', 'diminish', 'diminut', 'dine', 'diner', 'dinner', 'dinosaur', 'dioxid', 'dioxin', 'dip', 'diphtheria', 'diploma', 'diplomaci', 'diplomat', 'dipper', 'dire', 'direct', 'director', 'dirt', 'dirti', 'disabl', 'disadvantag', 'disagr', 'disagre', 'disappear', 'disappoint', 'disapprov', 'disast', 'disastr', 'disavow', 'disbelief', 'disc', 'discard', 'discern', 'discharg', 'discipl', 'disciplin', 'disciplinari', 'disclos', 'disclosur', 'discolor', 'discomfort', 'disconcert', 'disconnect', 'discontinu', 'discord', 'discount', 'discourag', 'discours', 'discov', 'discoveri', 'discredit', 'discreet', 'discrimin', 'discriminatori', 'discus', 'discuss', 'diseas', 'disembark', 'disfigur', 'disgrac', 'disguis', 'disgust', 'dish', 'dishonest', 'disillus', 'disinfect', 'disintegr', 'dislik', 'disloc', 'dismal', 'dismantl', 'dismay', 'dismember', 'dismiss', 'disobey', 'disord', 'disorient', 'dispar', 'dispatch', 'dispel', 'dispens', 'dispers', 'displac', 'display', 'dispos', 'disposit', 'disput', 'disqualifi', 'disregard', 'disrepair', 'disrespect', 'disrupt', 'dissect', 'dissent', 'dissimilar', 'dissolv', 'dissuad', 'dist', 'distanc', 'distil', 'distilleri', 'distinct', 'distinguish', 'distort', 'distract', 'distraught', 'distress', 'distribut', 'distributor', 'district', 'disturb', 'ditch', 'dive', 'divers', 'diversifi', 'divert', 'divid', 'dividend', 'divis', 'division', 'divorc', 'divorce', 'divulg', 'dizzi', 'doabl', 'doc', 'dock', 'docksid', 'doctor', 'document', 'documentari', 'dodg', 'dodger', 'dog', 'doll', 'dollar', 'dollop', 'dolphin', 'domain', 'dome', 'domest', 'domin', 'don', 'donat', 'done', 'dong', 'donkey', 'donor', 'door', 'doorstep', 'doorway', 'dopamin', 'dope', 'doper', 'dorm', 'dos', 'dosag', 'dose', 'dot', 'doubl', 'doubt', 'dough', 'doughnut', 'dous', 'down', 'downhil', 'download', 'downplay', 'downsid', 'downsiz', 'downstair', 'downtim', 'downtown', 'downturn', 'doyen', 'dozen', 'drab', 'draft', 'draftsman', 'drag', 'dragon', 'drain', 'drainag', 'drake', 'drama', 'dramat', 'drank', 'drape', 'drastic', 'draught', 'draw', 'drawback', 'drawer', 'drawn', 'dray', 'dread', 'dream', 'dreami', 'dreamland', 'drench', 'dress', 'drew', 'dri', 'dribbl', 'drift', 'drill', 'drink', 'drinkabl', 'drinker', 'drip', 'drive', 'driven', 'driver', 'drone', 'drop', 'drought', 'drove', 'drown', 'drowsi', 'drug', 'drum', 'drummer', 'drunk', 'drunken', 'dryer', 'dual', 'dub', 'dubious', 'duchess', 'duck', 'ducki', 'duct', 'dude', 'due', 'duel', 'dug', 'dugout', 'duke', 'duli', 'dull', 'dumbfound', 'dump', 'dumpl', 'dumpster', 'dune', 'dung', 'dunk', 'duo', 'dupe', 'duplex', 'durat', 'dusk', 'dust', 'dutch', 'duti', 'dwell', 'dweller', 'dwindl', 'dy', 'dye', 'dynam', 'dynasti', 'dysfunct', 'e', 'eager', 'eagl', 'ear', 'earl', 'earli', 'earlier', 'earliest', 'earmark', 'earn', 'earner', 'earnest', 'earshot', 'earth', 'earthquak', 'eas', 'easi', 'easier', 'easiest', 'easili', 'east', 'eastern', 'easygo', 'eat', 'eaten', 'eater', 'eateri', 'ebb', 'eccentr', 'echidna', 'echo', 'eclect', 'eclips', 'ecolog', 'econom', 'economi', 'ecosystem', 'ecstasi', 'ecstat', 'eczema', 'ed', 'edamam', 'edg', 'edgi', 'edibl', 'edit', 'editor', 'editori', 'educ', 'eeri', 'eerili', 'effect', 'efficaci', 'effici', 'effluent', 'effort', 'effortless', 'egg', 'ego', 'egotist', 'egregi', 'eight', 'eighteenth', 'eighth', 'either', 'ejacul', 'elabor', 'elast', 'elat', 'elbow', 'elder', 'eldest', 'elect', 'electr', 'electrician', 'electrifi', 'electrocardiograph', 'electrolyt', 'electromagnet', 'electron', 'eleg', 'element', 'elementari', 'eleph', 'elev', 'eleven', 'elf', 'elig', 'elimin', 'elit', 'elixir', 'ellipt', 'els', 'elsewher', 'elus', 'em', 'emaci', 'email', 'eman', 'embark', 'embarrass', 'embassi', 'embed', 'ember', 'emblazon', 'emblem', 'embodi', 'embolden', 'emboss', 'embrac', 'embryo', 'emerg', 'emeri', 'emeritus', 'emigr', 'emin', 'emir', 'emiss', 'emit', 'emitt', 'emot', 'empathet', 'empathi', 'emperor', 'emphas', 'emphasi', 'emphat', 'empir', 'employ', 'employe', 'empow', 'empower', 'empti', 'emu', 'emul', 'en', 'enabl', 'enact', 'encamp', 'enchant', 'enclos', 'enclosur', 'encod', 'encompass', 'encor', 'encount', 'encourag', 'encyclopedia', 'end', 'endang', 'endeavor', 'endem', 'endless', 'endocrinolog', 'endocrinologist', 'endorphin', 'endors', 'endur', 'enemi', 'energ', 'energet', 'energi', 'enforc', 'engag', 'engin', 'engulf', 'enhanc', 'enigmat', 'enjoy', 'enlighten', 'enlist', 'enliste', 'enmiti', 'enorm', 'enough', 'enrich', 'enrol', 'enslav', 'ensu', 'ensur', 'entail', 'enter', 'enterpris', 'entertain', 'enthusiasm', 'enthusiast', 'entic', 'entir', 'entireti', 'entiti', 'entitl', 'entranc', 'entre', 'entrench', 'entrepreneur', 'entrepreneuri', 'entrepreneurship', 'entri', 'entrust', 'envelop', 'environ', 'environment', 'envis', 'enzym', 'epic', 'epicent', 'epidem', 'epidemiolog', 'epidur', 'epilepsi', 'epilogu', 'episod', 'epitom', 'eponym', 'equal', 'equat', 'equatori', 'equestrian', 'equilibrium', 'equin', 'equip', 'equiti', 'equival', 'er', 'era', 'erad', 'erect', 'erod', 'err', 'erron', 'error', 'erupt', 'escal', 'escap', 'escape', 'escort', 'esophagus', 'especi', 'esplanad', 'esprit', 'essay', 'essenc', 'essenti', 'establish', 'estat', 'esteem', 'estim', 'estrogen', 'etc', 'etch', 'etern', 'ether', 'ethic', 'ethnic', 'etho', 'etiquett', 'eucalyptus', 'eugen', 'euphem', 'euphemist', 'eureka', 'euro', 'evacu', 'evalu', 'evangelist', 'eve', 'even', 'event', 'eventu', 'ever', 'everi', 'everybodi', 'everyday', 'everyon', 'everyth', 'everywher', 'evid', 'evil', 'evoc', 'evok', 'evolut', 'evolutionari', 'evolv', 'ex', 'exacerb', 'exact', 'exagger', 'exam', 'examin', 'exampl', 'excav', 'exceed', 'excel', 'except', 'excerpt', 'excess', 'exchang', 'excis', 'excit', 'exclaim', 'exclam', 'exclud', 'exclus', 'exclusionari', 'excrement', 'excret', 'excruci', 'excurs', 'excus', 'execut', 'exemplifi', 'exempt', 'exercis', 'exert', 'exhal', 'exhaust', 'exhibit', 'exhilar', 'exil', 'exist', 'exit', 'exorbit', 'exoskeleton', 'exot', 'expand', 'expans', 'expat', 'expect', 'expedi', 'expedit', 'expediti', 'expel', 'expend', 'expenditur', 'expens', 'experi', 'experienc', 'experiment', 'expert', 'expertis', 'expir', 'explain', 'explan', 'explicit', 'explod', 'exploit', 'explor', 'explos', 'expo', 'export', 'expos', 'exposur', 'express', 'expressionist', 'exquisit', 'extend', 'extens', 'extent', 'extenu', 'exterior', 'extern', 'extinct', 'extra', 'extract', 'extracurricular', 'extradit', 'extramarit', 'extraordinari', 'extraordinarili', 'extrapol', 'extraterritori', 'extravag', 'extrem', 'extremist', 'extrovert', 'exuber', 'eye', 'eyebrow', 'eyelid', 'f', 'fa', 'fabl', 'fabric', 'fabul', 'face', 'faceless', 'facet', 'facial', 'facil', 'facilit', 'fact', 'factor', 'factori', 'factual', 'faculti', 'fad', 'fade', 'fail', 'failur', 'faint', 'fair', 'fairway', 'faith', 'fajita', 'fake', 'falcon', 'fall', 'fallen', 'fallout', 'fals', 'falsifi', 'falter', 'fame', 'famili', 'familiar', 'famin', 'famous', 'fan', 'fanci', 'fandom', 'fantail', 'fantasi', 'fantast', 'far', 'faraway', 'fare', 'farewel', 'farm', 'farmer', 'farmhous', 'farmland', 'farther', 'fascin', 'fashion', 'fast', 'faster', 'fastest', 'fat', 'fatal', 'fate', 'father', 'fatherhood', 'fathom', 'fatigu', 'fatti', 'faucet', 'fault', 'faultless', 'fauna', 'favor', 'favorit', 'favourit', 'fax', 'fear', 'fearless', 'feasibl', 'feast', 'feat', 'featur', 'fecal', 'fece', 'fed', 'feder', 'fee', 'feed', 'feedback', 'feel', 'fell', 'fellow', 'felon', 'felt', 'femal', 'feminin', 'fenc', 'fend', 'ferment', 'fern', 'ferri', 'fertil', 'fervor', 'fest', 'festiv', 'feta', 'fetal', 'fetus', 'fever', 'fewer', 'fey', 'fiber', 'fibr', 'fibril', 'fibrosi', 'fiction', 'fidel', 'field', 'fierc', 'fieri', 'fieriest', 'fifteen', 'fifth', 'fifti', 'fight', 'fighter', 'figur', 'figurehead', 'file', 'fill', 'fillet', 'film', 'filter', 'fin', 'final', 'finalist', 'financ', 'financi', 'finch', 'find', 'fine', 'finess', 'finest', 'finger', 'fingernail', 'fingerprint', 'fingertip', 'finish', 'fir', 'fire', 'firearm', 'firecrack', 'firefight', 'fireplac', 'firepow', 'firewal', 'firework', 'firm', 'firmer', 'first', 'fish', 'fisheri', 'fisherman', 'fishi', 'fishmong', 'fist', 'fistfight', 'fit', 'fittest', 'five', 'fix', 'fixabl', 'fixat', 'fixtur', 'fjord', 'flabbergast', 'flaccid', 'flag', 'flair', 'flake', 'flamboy', 'flame', 'flank', 'flanker', 'flare', 'flareup', 'flash', 'flashback', 'flashlight', 'flat', 'flatter', 'flaunt', 'flavor', 'flaw', 'flax', 'fled', 'flee', 'fleet', 'flesh', 'flew', 'flexibl', 'fli', 'flick', 'flight', 'flinch', 'flint', 'flip', 'float', 'floater', 'flock', 'flood', 'floodgat', 'floodlight', 'floor', 'flop', 'flora', 'floral', 'floss', 'flotat', 'flour', 'flourish', 'flow', 'flower', 'flown', 'flu', 'fluctuat', 'fluent', 'fluentli', 'fluffi', 'fluid', 'flummox', 'flung', 'fluoresc', 'flush', 'flutter', 'flybi', 'flyer', 'flyway', 'foam', 'foami', 'focal', 'focus', 'foe', 'fog', 'foggi', 'fold', 'folder', 'foliag', 'folio', 'folk', 'folklor', 'follow', 'fond', 'fondl', 'foo', 'food', 'foodi', 'fool', 'foolish', 'foolproof', 'foot', 'footag', 'footbal', 'footprint', 'footrac', 'footstep', 'forag', 'foray', 'forbad', 'forbid', 'forbidden', 'forc', 'ford', 'fore', 'forebod', 'forecast', 'foreclos', 'forefront', 'forehand', 'forehead', 'foreign', 'foreman', 'foremost', 'forens', 'forese', 'foreshor', 'forest', 'forestri', 'forev', 'forg', 'forget', 'forgiv', 'forgiven', 'forgo', 'forgot', 'forgotten', 'forlorn', 'form', 'formal', 'format', 'former', 'formid', 'formul', 'formula', 'fort', 'forth', 'forthcom', 'forti', 'fortif', 'fortifi', 'fortnight', 'fortress', 'fortun', 'forum', 'forward', 'fossil', 'foster', 'fought', 'foul', 'found', 'foundat', 'founder', 'fountain', 'four', 'fourteen', 'fourth', 'fox', 'fraction', 'fractur', 'fragil', 'fragment', 'fragranc', 'fragrant', 'frail', 'frame', 'framer', 'framework', 'franchis', 'frank', 'frantic', 'frat', 'fratern', 'fraud', 'fraudul', 'fraught', 'fray', 'frazzl', 'free', 'freed', 'freedom', 'freeli', 'freer', 'freestyl', 'freez', 'freezer', 'french', 'frequenc', 'frequent', 'fresh', 'freshest', 'freshman', 'freshwat', 'fri', 'friction', 'fridg', 'friend', 'friendship', 'frigat', 'frighten', 'frill', 'fring', 'fritz', 'frog', 'frolic', 'front', 'frontal', 'frontier', 'frost', 'frostbit', 'frostbitten', 'frown', 'froze', 'frozen', 'fructos', 'fruit', 'fruiti', 'fruitier', 'frustrat', 'ft', 'fuel', 'fugit', 'fulfil', 'full', 'fullback', 'fuller', 'fullest', 'fulli', 'fumbl', 'fun', 'function', 'fund', 'fundament', 'fundrais', 'funer', 'funki', 'funnel', 'funni', 'funniest', 'fur', 'furi', 'furious', 'furnish', 'furnitur', 'fusion', 'fuss', 'fussi', 'futil', 'futur', 'futurist', 'g', 'gab', 'gag', 'gain', 'gala', 'galact', 'galaxi', 'gall', 'galleri', 'gallon', 'gallop', 'gallston', 'galvan', 'gambit', 'gambl', 'gambler', 'game', 'gang', 'gangren', 'gap', 'garag', 'garb', 'garbanzo', 'garden', 'garfish', 'garlic', 'garner', 'garnet', 'gas', 'gasp', 'gastric', 'gastrointestin', 'gastronom', 'gastronomi', 'gate', 'gateway', 'gather', 'gator', 'gaug', 'gaunt', 'gave', 'gay', 'gaze', 'gazell', 'gear', 'geek', 'geezer', 'gell', 'gem', 'gen', 'gender', 'gene', 'general', 'generat', 'generic', 'generos', 'generous', 'genesi', 'genet', 'geneticist', 'geni', 'genit', 'genius', 'genocid', 'genom', 'genr', 'gentil', 'gentl', 'gentleman', 'gentrif', 'genuin', 'geograph', 'geolog', 'geometr', 'geopolit', 'geriatr', 'germ', 'gestat', 'gestur', 'get', 'getaway', 'ghost', 'giant', 'gift', 'giggl', 'gimmick', 'gin', 'ginger', 'giraff', 'girl', 'girlfriend', 'girlhood', 'give', 'giveaway', 'given', 'gizmo', 'glacial', 'glad', 'gladiat', 'glamor', 'glanc', 'glare', 'glass', 'glaze', 'gleam', 'glide', 'glimps', 'glisten', 'glitter', 'glitz', 'glitzi', 'global', 'globe', 'glori', 'glorifi', 'glorious', 'glove', 'glow', 'glucos', 'glue', 'gluten', 'glycogen', 'gnar', 'gnarl', 'go', 'goal', 'goali', 'goalkeep', 'goalless', 'goalscor', 'goaltend', 'goat', 'gobbl', 'god', 'goddess', 'goer', 'goggl', 'gold', 'golden', 'golf', 'golfer', 'gondola', 'gone', 'gong', 'gonna', 'gonorrhea', 'gonorrhoea', 'good', 'goodby', 'goodi', 'goofbal', 'googl', 'goos', 'gorg', 'gorgeous', 'gorilla', 'gospel', 'got', 'goth', 'gotta', 'gotten', 'goulash', 'gourmet', 'gov', 'govern', 'government', 'governor', 'govt', 'grab', 'grace', 'gracious', 'grade', 'grader', 'gradual', 'graduat', 'graffiti', 'graham', 'grail', 'grain', 'gram', 'gran', 'grand', 'grandchild', 'granddaught', 'grandest', 'grandeur', 'grandfath', 'grandios', 'grandma', 'grandmoth', 'grandpar', 'grandson', 'grandstand', 'granit', 'granola', 'grant', 'grape', 'grapefruit', 'graphic', 'grappl', 'grasp', 'grass', 'grassroot', 'grate', 'gratitud', 'grave', 'gravel', 'graveyard', 'gravi', 'gravit', 'graviti', 'gray', 'grayish', 'great', 'greater', 'greatest', 'green', 'greeneri', 'greenest', 'greenhous', 'greensward', 'greet', 'grew', 'grey', 'gridlock', 'grief', 'grievanc', 'grill', 'grim', 'grime', 'grin', 'grind', 'grip', 'grit', 'gritti', 'grizzli', 'groan', 'groceri', 'grope', 'grossli', 'grotesqu', 'grouchi', 'ground', 'groundbreak', 'groundwork', 'group', 'grove', 'grow', 'grown', 'growth', 'gruel', 'gruesom', 'grumbl', 'grunt', 'guacamol', 'guarante', 'guarantor', 'guard', 'guardian', 'guardianship', 'guess', 'guest', 'guesthous', 'guestroom', 'guid', 'guidanc', 'guidelin', 'guidepost', 'guilt', 'guilti', 'guis', 'gulf', 'gum', 'gun', 'gunfir', 'gunner', 'gunshot', 'guru', 'gush', 'gut', 'gutter', 'guttur', 'guy', 'gym', 'gymnasium', 'gymnast', 'gynecologist', 'h', 'ha', 'habit', 'habitat', 'habitu', 'hacienda', 'hack', 'hail', 'hair', 'haircut', 'hairdress', 'hairiest', 'half', 'halfway', 'hall', 'hallmark', 'hallucin', 'hallway', 'halt', 'halter', 'halv', 'ham', 'hamburg', 'hamlet', 'hammer', 'hamper', 'hamster', 'hand', 'handbal', 'handbook', 'handgun', 'handi', 'handicap', 'handicraft', 'handl', 'handout', 'handov', 'handsom', 'hang', 'hank', 'hapless', 'happen', 'happi', 'happier', 'happiest', 'happili', 'har', 'harass', 'harbor', 'harbormast', 'harbour', 'hard', 'hardcor', 'harden', 'harder', 'hardest', 'hardi', 'hardier', 'hardlin', 'hardship', 'hardwar', 'hardwork', 'hare', 'harm', 'harmless', 'harmoni', 'harri', 'harrow', 'harsh', 'hart', 'harvest', 'hashtag', 'hassl', 'hat', 'hatch', 'hate', 'hater', 'haul', 'haunt', 'haven', 'havoc', 'hawk', 'hay', 'hazard', 'haze', 'hazelnut', 'head', 'headach', 'header', 'headi', 'headlamp', 'headlin', 'headlong', 'headpiec', 'headquart', 'headset', 'heal', 'health', 'healthcar', 'healthi', 'healthier', 'healthiest', 'healthili', 'heap', 'hear', 'heard', 'heart', 'heartach', 'heartbeat', 'heartbreak', 'heartbroken', 'hearti', 'heat', 'heath', 'heather', 'heaven', 'heavi', 'heavier', 'heavili', 'heavyweight', 'hectar', 'hedg', 'hedgehog', 'heed', 'heel', 'hefti', 'height', 'heighten', 'heir', 'held', 'helicopt', 'helipad', 'helix', 'hell', 'hellish', 'hello', 'helm', 'helmet', 'help', 'helper', 'helpless', 'hemispher', 'hemoglobin', 'hemophilia', 'hemorrhag', 'hemorrhoid', 'hemp', 'hen', 'hepat', 'herald', 'herb', 'herbal', 'herbicid', 'herculean', 'herd', 'herebi', 'herit', 'heritag', 'hernia', 'herniat', 'hero', 'heroic', 'heroin', 'herring', 'hesit', 'hey', 'heyday', 'hidden', 'hide', 'hierarchi', 'hieroglyph', 'high', 'higher', 'highest', 'highlight', 'highway', 'hijack', 'hike', 'hiker', 'hill', 'hilli', 'hillsid', 'hilltop', 'hinder', 'hing', 'hint', 'hip', 'hipster', 'hire', 'histor', 'histori', 'hit', 'hitch', 'hitchhik', 'hive', 'hoard', 'hoax', 'hobbi', 'hock', 'hockey', 'hogan', 'hoist', 'hold', 'holder', 'holdov', 'hole', 'holi', 'holiday', 'holist', 'holocaust', 'homag', 'home', 'homegrown', 'homeland', 'homeless', 'homemad', 'hometown', 'homework', 'homini', 'homophob', 'homosexu', 'hone', 'honest', 'honesti', 'honey', 'honeycomb', 'honeymoon', 'honor', 'honorari', 'hood', 'hoof', 'hook', 'hooker', 'hoop', 'hoopla', 'hop', 'hope', 'hopeless', 'hopper', 'horizon', 'horizont', 'hormon', 'horn', 'horrend', 'horribl', 'horrif', 'horrifi', 'horror', 'hors', 'horseback', 'horsesho', 'hose', 'hospic', 'hospit', 'host', 'hostag', 'hostil', 'hot', 'hotel', 'hothous', 'hotter', 'hottest', 'hour', 'hous', 'houseboat', 'housefli', 'household', 'housekeep', 'housewif', 'hove', 'hover', 'howev', 'howl', 'hr', 'hu', 'hub', 'huddl', 'huf', 'hug', 'huge', 'hull', 'hum', 'human', 'humanitarian', 'humbl', 'humid', 'humil', 'humili', 'hummus', 'humor', 'hump', 'hunch', 'hunchback', 'hundr', 'hung', 'hunger', 'hungri', 'hunk', 'hunt', 'hunter', 'hurdl', 'hurl', 'hurri', 'hurrican', 'hurt', 'husband', 'husbandri', 'hush', 'huski', 'hustl', 'hut', 'hybrid', 'hydrant', 'hydrat', 'hydroelectr', 'hyena', 'hygien', 'hymn', 'hype', 'hyper', 'hyperact', 'hyperinfl', 'hypertens', 'hyperventil', 'hypocrit', 'hypothermia', 'hysterectomi', 'hysteria', 'ice', 'iceberg', 'icebreak', 'ici', 'icon', 'idea', 'ideal', 'ident', 'identif', 'identifi', 'identikit', 'idiot', 'idol', 'idyl', 'if', 'iffi', 'ignit', 'ignomini', 'ignor', 'ii', 'iii', 'ill', 'illeg', 'illegitim', 'illicit', 'illumin', 'illus', 'illustr', 'illustri', 'imag', 'imageri', 'imagin', 'imbal', 'imbib', 'immedi', 'immens', 'immers', 'immigr', 'immin', 'immor', 'immun', 'immunodefici', 'immunoglobulin', 'immunolog', 'impact', 'impair', 'imparti', 'impati', 'imped', 'impedi', 'impend', 'imper', 'impercept', 'imperfect', 'imperi', 'imperson', 'implant', 'implement', 'impli', 'implic', 'implod', 'implor', 'impolit', 'import', 'impos', 'imposs', 'impost', 'impregn', 'impress', 'impressionist', 'imprison', 'improp', 'improv', 'improvis', 'impuls', 'impur', 'in', 'inabl', 'inaccur', 'inact', 'inadequ', 'inadvert', 'inappropri', 'inattent', 'inaugur', 'inauspici', 'inbound', 'inc', 'incap', 'incarcer', 'incarn', 'incent', 'incept', 'inch', 'incid', 'inclement', 'inclin', 'includ', 'inclus', 'incom', 'incompat', 'incompet', 'incomplet', 'inconsequenti', 'inconsist', 'inconsol', 'incontin', 'inconveni', 'incorpor', 'incorrect', 'increas', 'incred', 'incredul', 'increment', 'incub', 'incumb', 'inde', 'indebt', 'indecis', 'indefinit', 'indentur', 'independ', 'indescrib', 'indestruct', 'index', 'indi', 'indic', 'indict', 'indiffer', 'indigen', 'indigest', 'indiscret', 'indispens', 'individu', 'individualist', 'indomit', 'indoor', 'induc', 'induct', 'inducte', 'indulg', 'industri', 'ineffect', 'ineffici', 'inept', 'inequ', 'inertia', 'inevit', 'inexcus', 'inexpens', 'inexperienc', 'inexplic', 'inextric', 'infam', 'infanc', 'infant', 'infect', 'infecti', 'infer', 'infest', 'infidel', 'infield', 'infin', 'infinit', 'inflamm', 'inflammatori', 'inflat', 'inflict', 'influenc', 'influenti', 'influenza', 'influx', 'info', 'inform', 'informat', 'infrastructur', 'infring', 'infuri', 'infus', 'ingest', 'ingrain', 'ingredi', 'inhabit', 'inhal', 'inher', 'inherit', 'inhuman', 'initi', 'inject', 'injur', 'injuri', 'injustic', 'ink', 'inki', 'inland', 'inlet', 'inmat', 'inn', 'innat', 'inner', 'inning', 'innoc', 'innov', 'inpati', 'input', 'inquiri', 'inroad', 'insati', 'insect', 'insecur', 'insepar', 'insert', 'insid', 'insight', 'insipid', 'insist', 'insomnia', 'inspect', 'inspector', 'inspir', 'instabl', 'instal', 'instanc', 'instant', 'instead', 'instig', 'instil', 'instinct', 'institut', 'institution', 'instruct', 'instructor', 'instrument', 'insuffer', 'insuffici', 'insul', 'insulin', 'insult', 'insur', 'insurg', 'intact', 'intak', 'integr', 'intellectu', 'intellig', 'intend', 'intens', 'intensifi', 'intent', 'inter', 'interact', 'intercept', 'interchang', 'interconnect', 'intercontinent', 'intercours', 'interest', 'interf', 'interfac', 'interfaith', 'interfer', 'interim', 'interior', 'interlink', 'interlud', 'intermedi', 'intermin', 'intermiss', 'intermitt', 'intern', 'internet', 'internship', 'interperson', 'interpret', 'interrel', 'interrupt', 'intersect', 'interst', 'intertwin', 'interv', 'interven', 'intervent', 'interview', 'intestin', 'intim', 'intimaci', 'intimid', 'intox', 'intraven', 'intrepid', 'intric', 'intricaci', 'intrigu', 'introduc', 'introduct', 'introductori', 'introspect', 'intrud', 'intuit', 'invad', 'invalid', 'invalu', 'invas', 'invent', 'inventor', 'invers', 'invest', 'investig', 'investor', 'invigor', 'invis', 'invit', 'invok', 'involuntari', 'involv', 'ionize', 'irat', 'ire', 'iri', 'iridesc', 'iron', 'irregular', 'irresist', 'irrespect', 'irrespons', 'irrevers', 'irrig', 'irrit', 'ischem', 'isl', 'island', 'islet', 'isol', 'issu', 'itch', 'item', 'itinerari', 'iv', 'ivi', 'ix', 'j', 'jack', 'jacket', 'jag', 'jail', 'jalapeno', 'jam', 'jambalaya', 'jambore', 'japan', 'jar', 'jasper', 'jaundic', 'jaunt', 'java', 'jaw', 'jawlin', 'jay', 'jazz', 'jealousi', 'jean', 'jeer', 'jenni', 'jeopard', 'jerk', 'jersey', 'jet', 'jetti', 'jewel', 'jewelleri', 'jewelri', 'jibe', 'jimmi', 'jingl', 'jitteri', 'job', 'jobless', 'jock', 'jockey', 'joey', 'jog', 'john', 'join', 'joint', 'joke', 'jolli', 'jolt', 'josh', 'jot', 'journal', 'journalist', 'journey', 'joy', 'joyous', 'jr', 'jubil', 'jubile', 'judg', 'judgment', 'judici', 'judiciari', 'jug', 'juggernaut', 'juic', 'juici', 'jump', 'jumper', 'jun', 'junction', 'jungl', 'junior', 'junk', 'junki', 'juri', 'jurisdict', 'just', 'justic', 'justif', 'justifi', 'juvenil', 'k', 'kaiser', 'kale', 'kaleidoscop', 'kangaroo', 'karat', 'kayak', 'kc', 'kebab', 'keel', 'keen', 'keep', 'keeper', 'keepsak', 'ken', 'kept', 'kernel', 'keton', 'key', 'keyboard', 'kg', 'khaki', 'khan', 'kick', 'kickback', 'kicker', 'kickoff', 'kid', 'kidnap', 'kidney', 'kill', 'killer', 'kilogram', 'kilomet', 'kilometr', 'kind', 'kindergarten', 'kindr', 'kinet', 'king', 'kingdom', 'kingpin', 'kinship', 'kismet', 'kiss', 'kit', 'kitchen', 'kitchenett', 'kiwi', 'km', 'knack', 'knee', 'kneecap', 'kneel', 'knew', 'knife', 'knight', 'knit', 'knock', 'knockout', 'knot', 'know', 'knowledg', 'known', 'koala', 'kosher', 'l', 'la', 'lab', 'label', 'labor', 'laboratori', 'labori', 'labyrinth', 'labyrinthin', 'lac', 'lace', 'lack', 'lactos', 'lad', 'ladder', 'laden', 'ladi', 'ladl', 'lag', 'lagoon', 'laid', 'lair', 'lake', 'lam', 'lama', 'lamb', 'lament', 'lamin', 'lamp', 'lancet', 'land', 'landfal', 'landlord', 'landmark', 'landscap', 'landslid', 'lane', 'languag', 'languish', 'lantern', 'lap', 'laps', 'laptop', 'lard', 'larg', 'larger', 'largest', 'lark', 'laser', 'last', 'latch', 'late', 'later', 'latest', 'latt', 'latter', 'laud', 'laugh', 'laughter', 'launch', 'laundri', 'lava', 'lavish', 'law', 'lawless', 'lawmak', 'lawn', 'lawsuit', 'lawyer', 'lax', 'lay', 'layer', 'layout', 'lazi', 'lazili', 'lb', 'le', 'lead', 'leader', 'leadership', 'leaf', 'leafi', 'leagu', 'leak', 'leakag', 'leaki', 'lean', 'leaner', 'leap', 'learn', 'learner', 'learnt', 'leas', 'least', 'leather', 'leav', 'lectur', 'led', 'lee', 'left', 'lefti', 'leftov', 'leg', 'legaci', 'legal', 'legend', 'legendari', 'legion', 'legisl', 'legislatur', 'legit', 'legitim', 'legum', 'leisur', 'lem', 'lemon', 'lemur', 'len', 'lend', 'length', 'lengthen', 'lengthi', 'lentil', 'leopard', 'lesion', 'lessen', 'lesser', 'lesson', 'lest', 'let', 'lethal', 'letter', 'lettuc', 'leukaemia', 'leukemia', 'level', 'leverag', 'levi', 'lexicon', 'liabil', 'liabl', 'liaison', 'liar', 'libat', 'liber', 'liberti', 'librari', 'licens', 'lick', 'licoric', 'lie', 'lien', 'lieuten', 'life', 'lifeboat', 'lifeguard', 'lifelong', 'lifesav', 'lifespan', 'lifestyl', 'lifetim', 'lift', 'ligament', 'ligat', 'light', 'lighten', 'lighter', 'lightheart', 'lighthous', 'lightn', 'lightweight', 'like', 'likelihood', 'liken', 'likewis', 'lili', 'limb', 'lime', 'limelight', 'limeston', 'limit', 'limitless', 'line', 'lineag', 'lineback', 'lineman', 'linen', 'lineup', 'linger', 'link', 'lion', 'lip', 'liqueur', 'liquid', 'liquor', 'list', 'listen', 'lit', 'litani', 'liter', 'literaci', 'literatur', 'litig', 'litmus', 'litter', 'litterbug', 'littl', 'livabl', 'live', 'liver', 'livestock', 'load', 'loaf', 'loan', 'lobbi', 'lobe', 'lobster', 'local', 'locat', 'lock', 'locker', 'locomot', 'lodg', 'log', 'loggerhead', 'loggia', 'logic', 'logist', 'logo', 'lone', 'loneli', 'long', 'longer', 'longest', 'longev', 'longhorn', 'longstand', 'longtim', 'loo', 'look', 'lookout', 'loom', 'loop', 'loophol', 'loos', 'loosen', 'looser', 'looter', 'lope', 'lopsid', 'lord', 'lore', 'lose', 'loser', 'loss', 'lost', 'lot', 'lotteri', 'loud', 'louder', 'loudest', 'loung', 'lovabl', 'love', 'lover', 'low', 'lower', 'lowest', 'loyal', 'loyalti', 'luck', 'lucki', 'luckili', 'lucrat', 'ludo', 'luge', 'lullabi', 'lumbar', 'lump', 'lunar', 'lunch', 'lunchtim', 'lung', 'lure', 'lurk', 'luscious', 'lush', 'lust', 'luster', 'luxuri', 'lymph', 'lymphoma', 'm', 'ma', 'mac', 'macadamia', 'macer', 'machin', 'machineri', 'mackerel', 'mad', 'made', 'maestro', 'magazin', 'magic', 'magician', 'magistr', 'magma', 'magnesium', 'magnet', 'magnifi', 'magnific', 'magnitud', 'mahogani', 'maiden', 'mail', 'mailman', 'main', 'mainland', 'mainstay', 'mainstream', 'maintain', 'mainten', 'majest', 'majesti', 'major', 'make', 'maker', 'makeshift', 'makeup', 'maladi', 'malais', 'malaria', 'male', 'malform', 'malfunct', 'malici', 'malign', 'mall', 'malnourish', 'malnutrit', 'malt', 'mama', 'mammal', 'mammalian', 'mammon', 'man', 'manag', 'manageri', 'mandarin', 'mandat', 'mandatori', 'maneuv', 'maneuver', 'manga', 'manganes', 'mangl', 'manhol', 'mani', 'manic', 'manifest', 'manifesto', 'manipul', 'mankind', 'manner', 'manor', 'manpow', 'mansion', 'manta', 'mantl', 'mantra', 'manual', 'manufactur', 'manur', 'map', 'mapl', 'mar', 'marathon', 'marbl', 'march', 'margarin', 'margin', 'maria', 'marijuana', 'marin', 'marina', 'marit', 'maritim', 'mark', 'marker', 'market', 'marketplac', 'markup', 'marqu', 'marri', 'marriag', 'marrow', 'marsupi', 'mart', 'martial', 'martin', 'marvel', 'masculin', 'mash', 'mask', 'mason', 'mass', 'massag', 'masseus', 'massiv', 'mast', 'master', 'mastermind', 'masterpiec', 'masterwork', 'masturb', 'mat', 'matador', 'match', 'matchmak', 'mate', 'materi', 'materialist', 'matern', 'math', 'matt', 'matter', 'mattress', 'matur', 'maul', 'maverick', 'max', 'maxim', 'maximum', 'may', 'mayb', 'mayo', 'mayor', 'meager', 'meal', 'mean', 'meander', 'meaning', 'meant', 'meantim', 'meanwhil', 'measl', 'measur', 'meat', 'meati', 'meatless', 'meatloaf', 'mechan', 'med', 'medal', 'medalist', 'median', 'mediat', 'medic', 'medicaid', 'medicar', 'medicin', 'mediev', 'mediocr', 'medit', 'medium', 'medley', 'meet', 'mega', 'megastar', 'melanchol', 'meld', 'mellow', 'melt', 'meltdown', 'member', 'meme', 'memento', 'memo', 'memoir', 'memor', 'memori', 'men', 'mend', 'meniscus', 'menopaus', 'mens', 'menstrual', 'menstruat', 'mental', 'menthol', 'mention', 'mentor', 'menu', 'merchandis', 'merchant', 'merci', 'mercuri', 'mere', 'merg', 'merger', 'meringu', 'merit', 'merri', 'mesmer', 'mess', 'messag', 'messeng', 'messi', 'met', 'meta', 'metabol', 'metabolis', 'metal', 'metaphor', 'metastasi', 'metastat', 'meteorologist', 'meter', 'meth', 'methamphetamin', 'methan', 'method', 'methodolog', 'methyl', 'meticul', 'metric', 'metro', 'metropoli', 'metropolitan', 'mg', 'mick', 'mickey', 'microb', 'microbreweri', 'microphon', 'microscop', 'microwav', 'mid', 'midday', 'middl', 'middleweight', 'midfield', 'midlif', 'midnight', 'midsect', 'midst', 'midway', 'might', 'mighti', 'mightili', 'migrain', 'migrant', 'migrat', 'mike', 'mild', 'milder', 'mile', 'mileag', 'mileston', 'milf', 'milit', 'militar', 'militari', 'milk', 'mill', 'millennium', 'miller', 'milligram', 'million', 'millionair', 'mimic', 'mimick', 'min', 'mind', 'mindless', 'mindset', 'mine', 'miner', 'mingl', 'mini', 'minim', 'minimalist', 'minimum', 'miniskirt', 'minist', 'ministri', 'minor', 'mint', 'minus', 'minuscul', 'minut', 'miracl', 'mire', 'mirror', 'misbehav', 'miscarriag', 'mischief', 'misconcept', 'misconduct', 'miser', 'miseri', 'mishandl', 'misinform', 'misinterpret', 'mislead', 'mismatch', 'misplac', 'miss', 'missil', 'mission', 'misspok', 'misstep', 'mist', 'mistak', 'mistaken', 'mistreat', 'mistress', 'misunderstand', 'misunderstood', 'misus', 'mitig', 'mitochondrion', 'mitral', 'mix', 'mixtur', 'mm', 'mob', 'mobil', 'mock', 'mod', 'mode', 'model', 'moder', 'modern', 'modernist', 'modest', 'modif', 'modifi', 'modul', 'modular', 'mogul', 'moistur', 'molass', 'mold', 'mole', 'molecul', 'molecular', 'molli', 'mom', 'moment', 'momentarili', 'momentum', 'mommi', 'monarchi', 'monetari', 'money', 'monik', 'monitor', 'monk', 'monkey', 'monolith', 'monopol', 'monopoli', 'monoton', 'monounsatur', 'monsoon', 'monster', 'month', 'monument', 'mood', 'moon', 'moonlight', 'moor', 'mop', 'moral', 'morbid', 'moreov', 'morn', 'moron', 'morph', 'morphin', 'mortal', 'mortar', 'mortgag', 'mortifi', 'mosaic', 'mosqu', 'mosquito', 'most', 'motel', 'mother', 'motif', 'motion', 'motionless', 'motiv', 'motor', 'motorbik', 'motorcycl', 'motorist', 'mottl', 'motto', 'mount', 'mountain', 'mountainsid', 'mourn', 'mous', 'mouth', 'mouthwash', 'mouthwat', 'move', 'movement', 'movi', 'mozzarella', 'mp', 'mph', 'much', 'mucus', 'mud', 'muddi', 'muffin', 'muffl', 'mug', 'muggi', 'mule', 'mull', 'mullet', 'multi', 'multicultur', 'multidisciplinari', 'multifacet', 'multigrain', 'multipl', 'multipli', 'multitud', 'multivitamin', 'mum', 'mummi', 'mump', 'munchkin', 'municip', 'mural', 'murder', 'mus', 'muscat', 'muscl', 'muscleman', 'museum', 'mushroom', 'music', 'musician', 'must', 'mustard', 'muster', 'mutat', 'mute', 'mutil', 'mutual', 'myeliti', 'myriad', 'mysteri', 'mystic', 'myth', 'mythic', 'mytholog', 'n', 'nag', 'nail', 'nake', 'name', 'namesak', 'nap', 'napoleon', 'narcot', 'narrat', 'narrow', 'narrowli', 'nascent', 'nasti', 'nation', 'nationalist', 'nationwid', 'nativ', 'natur', 'naughti', 'nausea', 'nautic', 'naval', 'navi', 'navig', 'neanderth', 'near', 'nearbi', 'neat', 'necess', 'necessari', 'necessarili', 'neck', 'necropoli', 'need', 'needl', 'negat', 'neglect', 'neglig', 'negoti', 'neighbor', 'neighborhood', 'neither', 'nelson', 'neonat', 'nephew', 'nerv', 'nervous', 'nest', 'nestl', 'net', 'netbal', 'nettl', 'network', 'neural', 'neurolog', 'neurologist', 'neuron', 'neurosurgeon', 'neurotransmitt', 'neuter', 'neutral', 'never', 'nevertheless', 'new', 'newbi', 'newborn', 'newcom', 'newer', 'newest', 'newli', 'newlyw', 'news', 'newslett', 'newspap', 'newsroom', 'newton', 'next', 'nexus', 'nice', 'nicer', 'nich', 'nick', 'nicknam', 'nicotin', 'niec', 'night', 'nightclub', 'nightlif', 'nightmar', 'nighttim', 'nihilist', 'nine', 'nineteen', 'nineti', 'ninth', 'nip', 'nitric', 'nitrogen', 'nobl', 'nobodi', 'nocturn', 'nod', 'node', 'noel', 'nois', 'noisi', 'nomin', 'non', 'noncommunic', 'noncompli', 'none', 'nonetheless', 'nonfat', 'nonprofit', 'nonsens', 'nonstop', 'noodl', 'noon', 'norm', 'normal', 'normalci', 'north', 'northbound', 'northeast', 'northeastern', 'norther', 'northern', 'northwest', 'northwestern', 'nose', 'noseble', 'nosediv', 'nostalgia', 'notabl', 'notch', 'note', 'notebook', 'notepad', 'noth', 'nothing', 'notic', 'notifi', 'notion', 'notori', 'novel', 'novelist', 'novelti', 'novic', 'now', 'nowaday', 'nowher', 'nuanc', 'nub', 'nuclear', 'nude', 'nudist', 'nuditi', 'nuke', 'numb', 'number', 'numer', 'nun', 'nurs', 'nurtur', 'nut', 'nutrient', 'nutrit', 'nutriti', 'nutritionist', 'nuttier', 'o', 'oak', 'oasi', 'oat', 'oath', 'oatmeal', 'obes', 'obey', 'obfusc', 'object', 'oblig', 'oblivi', 'obscur', 'observ', 'obsess', 'obstacl', 'obstetr', 'obstetrician', 'obstruct', 'obtain', 'obvious', 'occas', 'occasion', 'occident', 'occup', 'occupi', 'occur', 'occurr', 'ocean', 'och', 'ochr', 'octopus', 'odd', 'odditi', 'odyssey', 'oestrogen', 'offenc', 'offend', 'offens', 'offer', 'offic', 'offici', 'offlin', 'offload', 'offset', 'offshoot', 'offshor', 'offspr', 'oft', 'often', 'oh', 'oil', 'okay', 'old', 'older', 'oldest', 'ole', 'oligarch', 'oliv', 'om', 'ombudsman', 'omega', 'omelet', 'omin', 'omiss', 'omit', 'onboard', 'oncologist', 'one', 'oner', 'onetim', 'ongo', 'onion', 'onlin', 'onset', 'onto', 'onyx', 'ooz', 'op', 'open', 'oper', 'opera', 'opinion', 'oppon', 'opportun', 'oppos', 'opposit', 'oppress', 'opt', 'optic', 'optim', 'optimist', 'option', 'opul', 'oracl', 'oral', 'orang', 'orbit', 'orchid', 'ordeal', 'order', 'ordinari', 'ordinarili', 'oregano', 'organ', 'organis', 'orgasm', 'orient', 'origin', 'ornament', 'orthodox', 'oscil', 'osmosi', 'ostens', 'osteoporosi', 'ostrac', 'other', 'otherwis', 'otherworld', 'ottoman', 'ounc', 'oust', 'out', 'outback', 'outbreak', 'outcom', 'outcrop', 'outdat', 'outdo', 'outdon', 'outdoor', 'outer', 'outfield', 'outfit', 'outgrown', 'outing', 'outlandish', 'outlast', 'outlaw', 'outlet', 'outlin', 'outlook', 'outnumb', 'outpac', 'outperform', 'outpost', 'outrag', 'outreach', 'outright', 'outsid', 'outsiz', 'outskirt', 'outspoken', 'outstand', 'outstretch', 'outstrip', 'outward', 'outweigh', 'ouzo', 'ovari', 'ovat', 'oven', 'over', 'overabund', 'overact', 'overal', 'overboard', 'overcam', 'overcom', 'overconfid', 'overcook', 'overcrowd', 'overdevelop', 'overdo', 'overdos', 'overdr', 'overestim', 'overflow', 'overgrown', 'overh', 'overhaul', 'overhead', 'overjoy', 'overland', 'overlap', 'overload', 'overlook', 'overnight', 'overpow', 'overpr', 'overreact', 'overrid', 'overrul', 'overs', 'oversaw', 'overse', 'oversea', 'overseen', 'oversight', 'overspend', 'overst', 'overstep', 'overt', 'overtaken', 'overthink', 'overthrew', 'overtim', 'overtook', 'overturn', 'overus', 'overweight', 'overwhelm', 'ovul', 'owe', 'owl', 'own', 'owner', 'ownership', 'oxford', 'oxid', 'oxygen', 'oxymoron', 'oyster', 'p', 'pace', 'pacemak', 'pacer', 'pacesett', 'pacif', 'pacifist', 'pack', 'packag', 'packer', 'packet', 'pact', 'pad', 'paddi', 'paddl', 'paella', 'page', 'paid', 'pain', 'painkil', 'painless', 'paint', 'painter', 'paintwork', 'pair', 'pajama', 'pal', 'palac', 'palat', 'pale', 'palett', 'palm', 'palpabl', 'palsi', 'pan', 'panama', 'pancak', 'pancrea', 'pancreat', 'pandem', 'panel', 'panic', 'panick', 'panoram', 'panorama', 'pant', 'panther', 'pantri', 'pap', 'papa', 'papaya', 'paper', 'paperback', 'paperwork', 'paprika', 'par', 'parachut', 'parad', 'paradigm', 'paradis', 'paradox', 'paragraph', 'parallel', 'paralysi', 'paralyz', 'paramed', 'paramet', 'paramount', 'paranoia', 'paraphernalia', 'parch', 'pare', 'parent', 'park', 'parkland', 'parliament', 'parlor', 'parol', 'pars', 'parson', 'part', 'parti', 'partial', 'particip', 'particl', 'particular', 'partner', 'partnership', 'pas', 'pasha', 'pass', 'passag', 'passeng', 'passerbi', 'passion', 'passiv', 'passport', 'past', 'pasta', 'pastim', 'pastor', 'pastri', 'pastur', 'pat', 'patch', 'patent', 'path', 'pathet', 'pathway', 'patient', 'patriot', 'patrol', 'patron', 'pattern', 'patti', 'paus', 'pave', 'pavement', 'pavilion', 'pawn', 'pay', 'paycheck', 'payer', 'payment', 'pea', 'peac', 'peacock', 'peak', 'peanut', 'pearl', 'pebbl', 'pecan', 'peck', 'peculiar', 'pedal', 'pedestrian', 'pediatr', 'pediatrician', 'pedicur', 'pedigre', 'peel', 'peep', 'peer', 'peg', 'pelican', 'pelvi', 'pelvic', 'pen', 'penal', 'penalti', 'penchant', 'pencil', 'pend', 'pendulum', 'penetr', 'penguin', 'penicillin', 'peninsula', 'penitentiari', 'pentagon', 'penthous', 'peopl', 'pep', 'pepper', 'per', 'perceiv', 'percent', 'percentag', 'percentil', 'percept', 'perch', 'perenni', 'perfect', 'perfection', 'perfectionist', 'perfor', 'perform', 'perfum', 'perhap', 'peril', 'perimet', 'period', 'peripher', 'periscop', 'perk', 'perman', 'permeat', 'permiss', 'permit', 'perpetr', 'perpetu', 'perplex', 'persev', 'persist', 'person', 'personifi', 'personnel', 'perspect', 'persuad', 'persuas', 'pertain', 'pertin', 'pertussi', 'pervas', 'pessim', 'pester', 'pesticid', 'pet', 'peter', 'petit', 'petrifi', 'petti', 'pew', 'phalanx', 'pharaoh', 'pharmaceut', 'pharmaci', 'pharmacist', 'pharmacolog', 'phase', 'phenom', 'phenomen', 'phenomenon', 'philanthropi', 'philanthropist', 'philosoph', 'philosophi', 'phoenix', 'phone', 'phosphor', 'phosphorus', 'photo', 'photogen', 'photograph', 'photographi', 'photojourn', 'phrase', 'physic', 'physician', 'physicist', 'physiolog', 'physiologist', 'physiotherapist', 'physiqu', 'pianist', 'piano', 'piazza', 'pic', 'pick', 'picker', 'pickup', 'picnick', 'pictur', 'picturesqu', 'pie', 'piec', 'pierc', 'pig', 'pigeon', 'pigeonhol', 'pile', 'pilgrim', 'pilgrimag', 'pill', 'pillar', 'pillow', 'pilot', 'pin', 'pinch', 'pine', 'pineappl', 'piney', 'ping', 'pink', 'pinpoint', 'pint', 'pinto', 'pioneer', 'pip', 'pipe', 'pipelin', 'piper', 'piqu', 'pist', 'pistachio', 'pit', 'pita', 'pitch', 'pitcher', 'pitfal', 'piti', 'pivot', 'pixel', 'pizza', 'placard', 'place', 'placebo', 'placement', 'plagu', 'plaid', 'plain', 'plaintiff', 'plan', 'plane', 'planet', 'planetari', 'plank', 'plant', 'plantat', 'plaqu', 'plasma', 'plaster', 'plastic', 'plate', 'plateau', 'platform', 'platter', 'platypus', 'plausibl', 'play', 'playbook', 'player', 'playground', 'playlist', 'playoff', 'playwright', 'plaza', 'plea', 'plead', 'pleas', 'pleasant', 'pleasur', 'plebiscit', 'pledg', 'plenti', 'plethora', 'pli', 'plight', 'plot', 'plow', 'plug', 'plum', 'plumag', 'plumber', 'plume', 'plummet', 'plunder', 'plung', 'plus', 'pm', 'pneumonia', 'poach', 'poacher', 'pocket', 'pod', 'podium', 'poem', 'poet', 'poetic', 'poetri', 'poignanc', 'poignant', 'point', 'pointless', 'pois', 'poison', 'poke', 'poker', 'polar', 'pole', 'polic', 'policeman', 'policewoman', 'polici', 'polio', 'polish', 'polit', 'politburo', 'politic', 'politician', 'polka', 'poll', 'pollard', 'pollen', 'pollut', 'polo', 'polonium', 'polyclin', 'polytechn', 'pomp', 'pond', 'ponder', 'pong', 'poni', 'poof', 'pool', 'poop', 'poor', 'poorer', 'poorest', 'pop', 'popcorn', 'popul', 'popular', 'populist', 'porch', 'pork', 'porn', 'port', 'portabl', 'portfolio', 'porthol', 'portion', 'portrait', 'portray', 'pose', 'posit', 'poss', 'possess', 'possibl', 'post', 'postag', 'postcard', 'poster', 'postmenopaus', 'postpartum', 'postpon', 'postur', 'pot', 'potabl', 'potassium', 'potato', 'potbelli', 'potent', 'potenti', 'pothol', 'potion', 'potluck', 'potpourri', 'potter', 'potti', 'poultri', 'pounc', 'pound', 'pour', 'poverti', 'powder', 'powderi', 'power', 'powerhous', 'pox', 'pr', 'practic', 'practition', 'prairi', 'prais', 'prawn', 'pray', 'prayer', 'preach', 'precari', 'precaut', 'preced', 'precinct', 'precious', 'precipit', 'precis', 'precursor', 'predat', 'predatori', 'predict', 'predictor', 'predilect', 'predispos', 'predisposit', 'predomin', 'prefectur', 'prefer', 'pregam', 'pregnanc', 'pregnant', 'prehistor', 'prejudic', 'preliminari', 'prematur', 'premier', 'premis', 'premium', 'preoccup', 'preoccupi', 'prep', 'prepar', 'preschool', 'prescrib', 'prescript', 'preseason', 'presenc', 'present', 'preserv', 'presid', 'presidenti', 'press', 'pressman', 'pressur', 'prestig', 'prestigi', 'presum', 'preteen', 'pretend', 'pretenti', 'preterm', 'pretti', 'pretzel', 'prevail', 'preval', 'prevent', 'previous', 'prey', 'price', 'pricey', 'prick', 'pride', 'primari', 'primarili', 'primat', 'prime', 'primit', 'princ', 'princess', 'princip', 'principl', 'print', 'printer', 'prior', 'priorit', 'prioriti', 'prison', 'pristin', 'privaci', 'privat', 'privileg', 'prize', 'pro', 'proactiv', 'probabl', 'probat', 'probe', 'problem', 'problemat', 'procedur', 'proceed', 'process', 'proclaim', 'proclam', 'procur', 'prod', 'prodigi', 'produc', 'product', 'prof', 'profess', 'profession', 'professor', 'profici', 'profil', 'profit', 'profound', 'progeni', 'progesteron', 'prognosi', 'prognost', 'program', 'progress', 'prohibit', 'project', 'prolifer', 'prolong', 'prom', 'promenad', 'promin', 'promis', 'promontori', 'promot', 'prompt', 'prone', 'pronounc', 'proof', 'prop', 'propag', 'propaganda', 'propel', 'propens', 'proper', 'properti', 'prophet', 'proport', 'proportion', 'propos', 'proposit', 'prosecut', 'prosecutor', 'prospect', 'prosper', 'prostat', 'prostitut', 'protect', 'protectionist', 'protein', 'protest', 'protocol', 'prototyp', 'protract', 'protrud', 'proud', 'proudest', 'prove', 'proven', 'proverbi', 'provid', 'provinc', 'provis', 'provoc', 'provok', 'prowess', 'proxi', 'proxim', 'prudent', 'prune', 'pseudo', 'psychedel', 'psychiatr', 'psychiatri', 'psychiatrist', 'psychoact', 'psychoanalyst', 'psycholog', 'psychologist', 'psychosi', 'psychot', 'psychotherapist', 'pub', 'puberti', 'pubic', 'public', 'publish', 'puck', 'puddl', 'puf', 'puff', 'pull', 'pulmonari', 'puls', 'pulsat', 'pummel', 'pump', 'pun', 'punch', 'punctuat', 'pungent', 'punish', 'punit', 'punk', 'punter', 'pup', 'pupil', 'puppi', 'purchas', 'pure', 'purer', 'purg', 'purifi', 'purpl', 'purport', 'purpos', 'purs', 'purser', 'pursu', 'pursuit', 'purview', 'push', 'pushi', 'put', 'putt', 'puzzl', 'pvt', 'pyramid', 'quaint', 'quak', 'qualif', 'qualifi', 'qualiti', 'qualm', 'quantifi', 'quantit', 'quantiti', 'quantum', 'quarantin', 'quarrel', 'quarter', 'quarterback', 'quarterfin', 'quartet', 'quay', 'queasi', 'queen', 'queer', 'queri', 'quest', 'question', 'questionnair', 'quick', 'quicken', 'quicker', 'quicklim', 'quiet', 'quieter', 'quilt', 'quinoa', 'quintessenti', 'quip', 'quirk', 'quirki', 'quit', 'quitter', 'quiver', 'quiz', 'quizz', 'quo', 'quot', 'quota', 'r', 'rabbit', 'raccoon', 'race', 'racecours', 'racego', 'racehors', 'racer', 'racetrack', 'racial', 'racism', 'racist', 'racket', 'radar', 'radianc', 'radiant', 'radiat', 'radic', 'radio', 'radioact', 'radish', 'raffl', 'raft', 'rafter', 'rag', 'ragtag', 'raid', 'raider', 'rail', 'railroad', 'railway', 'rain', 'rainbow', 'raini', 'rainwat', 'rais', 'raisin', 'ralli', 'ram', 'rambler', 'ramif', 'ramp', 'rampag', 'rampant', 'ran', 'ranch', 'random', 'rang', 'ranger', 'rank', 'ransack', 'rant', 'rape', 'rapid', 'rapist', 'rapper', 'rapport', 'rare', 'rarest', 'rariti', 'rascal', 'rash', 'raspberri', 'rat', 'ratchet', 'rate', 'rather', 'ratifi', 'ratio', 'ration', 'rattl', 'raucous', 'ravag', 'rave', 'raven', 'raver', 'raw', 'ray', 'razzmatazz', 'rd', 'reach', 'react', 'reaction', 'reactiv', 'read', 'readi', 'readili', 'reaffirm', 'real', 'realist', 'realiti', 'realiz', 'realli', 'realm', 'ream', 'reap', 'reappear', 'reappli', 'rear', 'rearrang', 'reason', 'reassign', 'reassur', 'rebel', 'rebelli', 'rebirth', 'reboot', 'rebound', 'rebuf', 'rebuild', 'recal', 'recaptur', 'receiv', 'recent', 'recept', 'receptionist', 'receptor', 'recess', 'recharg', 'recip', 'recipi', 'recit', 'reckless', 'reckon', 'reclin', 'reclus', 'recogn', 'recognis', 'recognit', 'recogniz', 'recoil', 'recomm', 'recommend', 'reconcil', 'reconcili', 'reconnect', 'reconsid', 'reconstruct', 'reconven', 'record', 'recount', 'recov', 'recoveri', 'recreat', 'recruit', 'rectangular', 'recumb', 'recur', 'recurr', 'recycl', 'red', 'redact', 'redeem', 'redefin', 'redirect', 'redskin', 'reduc', 'reduct', 'reed', 'reef', 'reek', 'reelect', 'reev', 'ref', 'refer', 'refere', 'referenc', 'referendum', 'referr', 'refil', 'refin', 'refit', 'reflect', 'reflex', 'reform', 'reformul', 'refrain', 'refreez', 'refresh', 'refriger', 'refrozen', 'refug', 'refuge', 'refurbish', 'refus', 'refut', 'regain', 'regal', 'regard', 'regardless', 'regatta', 'regen', 'regent', 'regim', 'regimen', 'region', 'regist', 'registr', 'registri', 'rego', 'regress', 'regret', 'regroup', 'regrow', 'regul', 'regular', 'regulatori', 'rehab', 'rehabilit', 'rehears', 'reign', 'reimburs', 'rein', 'reinforc', 'reintroduct', 'reinvent', 'reinvigor', 'reiter', 'reject', 'rejuven', 'rekindl', 'relaps', 'relat', 'relationship', 'relax', 'relay', 'relearn', 'releas', 'releg', 'relentless', 'relev', 'reli', 'reliabl', 'relianc', 'reliant', 'relic', 'relief', 'reliev', 'religi', 'religion', 'religios', 'relinquish', 'relish', 'reliv', 'reload', 'reloc', 'reluct', 'remain', 'remaind', 'remand', 'remark', 'remarri', 'remedi', 'rememb', 'remind', 'remit', 'remot', 'remotest', 'remov', 'renal', 'renam', 'render', 'rendit', 'renew', 'renounc', 'renov', 'renown', 'rent', 'rental', 'reopen', 'rep', 'repack', 'repaid', 'repaint', 'repair', 'repar', 'repast', 'repatri', 'repay', 'repeal', 'repeat', 'repel', 'repercuss', 'repetit', 'replac', 'replay', 'replenish', 'repli', 'replic', 'replica', 'report', 'repossess', 'repres', 'represent', 'repris', 'reproduc', 'reproduct', 'reptilian', 'republ', 'republican', 'reput', 'request', 'requir', 'rescind', 'rescu', 'rescuer', 'research', 'resect', 'resembl', 'resent', 'reserv', 'reservoir', 'reset', 'resettl', 'reshap', 'resid', 'residenti', 'residu', 'resign', 'resili', 'resist', 'resolut', 'resolv', 'reson', 'resort', 'resourc', 'respect', 'respiratori', 'respit', 'respond', 'respons', 'rest', 'restart', 'restaur', 'restaurateur', 'restiv', 'restless', 'restor', 'restrain', 'restrict', 'restroom', 'restructur', 'restyl', 'result', 'resum', 'resurfac', 'resurg', 'retail', 'retain', 'retak', 'retali', 'retel', 'retest', 'rethink', 'retic', 'retin', 'retir', 'retire', 'retrac', 'retract', 'retrain', 'retreat', 'retri', 'retribut', 'retro', 'return', 'retweet', 'reunion', 'reunit', 'reus', 'reusabl', 'rev', 'revamp', 'reveal', 'revel', 'revelri', 'reveng', 'revenu', 'rever', 'reverend', 'revers', 'review', 'revis', 'revisit', 'revit', 'reviv', 'revolut', 'revolution', 'revolutionari', 'reward', 'rewarm', 'rewind', 'rewrit', 'rhesus', 'rheumat', 'rheumatoid', 'rhino', 'rhythm', 'rib', 'ribbon', 'rice', 'rich', 'richest', 'rick', 'ricketi', 'rickshaw', 'ricotta', 'rid', 'ridden', 'riddl', 'ride', 'rider', 'ridicul', 'rife', 'riff', 'rifl', 'rift', 'rig', 'right', 'rigor', 'rim', 'ring', 'ringer', 'ringworm', 'rink', 'rins', 'riot', 'rip', 'ripe', 'rippl', 'riptid', 'rise', 'risen', 'riser', 'risk', 'riski', 'risotto', 'rite', 'ritual', 'rival', 'rivalri', 'rive', 'river', 'riversid', 'riviera', 'road', 'roam', 'roar', 'roast', 'rob', 'robin', 'robust', 'rock', 'rocket', 'rocki', 'rod', 'rode', 'rodent', 'rodeo', 'roe', 'roger', 'roil', 'role', 'roll', 'rollback', 'roller', 'romain', 'roman', 'romanc', 'romant', 'romantic', 'roof', 'rooftop', 'rooki', 'room', 'roommat', 'rooster', 'root', 'rope', 'rose', 'rosemari', 'rosewood', 'rosi', 'roster', 'rot', 'rotat', 'rote', 'roug', 'rough', 'roughest', 'round', 'rous', 'rout', 'routin', 'rover', 'row', 'royal', 'royalti', 'rub', 'rubber', 'rubbl', 'rubella', 'rubi', 'ruck', 'rudimentari', 'rug', 'rugbi', 'ruin', 'rule', 'ruler', 'rumbl', 'rumin', 'rumor', 'run', 'runner', 'runni', 'rupe', 'ruptur', 'rural', 'rush', 'rust', 'rustic', 'rustl', 'rut', 'rye', 'sabl', 'sabotag', 'saboteur', 'sac', 'sack', 'sacr', 'sacrif', 'sacrific', 'sacristan', 'sad', 'sadden', 'saddest', 'saddl', 'safari', 'safe', 'safeguard', 'safer', 'safest', 'safeti', 'saffron', 'saga', 'said', 'sail', 'sailor', 'saint', 'sake', 'salad', 'salami', 'salari', 'sale', 'salesman', 'saliva', 'salmon', 'salmonella', 'salsa', 'salt', 'salter', 'salti', 'saltin', 'salut', 'salvat', 'sampl', 'san', 'sanction', 'sanctuari', 'sand', 'sandal', 'sander', 'sandi', 'sandston', 'sandwich', 'sang', 'sanit', 'sank', 'sap', 'sapphir', 'sardin', 'sat', 'satan', 'satellit', 'satisfact', 'satisfi', 'satur', 'sauc', 'saucer', 'sauci', 'sauna', 'sausag', 'save', 'saver', 'savor', 'savori', 'savour', 'savoy', 'savvi', 'saw', 'sawyer', 'say', 'scaffold', 'scald', 'scale', 'scali', 'scalp', 'scalpel', 'scalper', 'scam', 'scan', 'scandal', 'scant', 'scantili', 'scar', 'scarc', 'scare', 'scarf', 'scari', 'scariest', 'scatter', 'scaveng', 'scenario', 'scene', 'sceneri', 'scenic', 'scent', 'schedul', 'scheme', 'schizophrenia', 'scholar', 'scholarship', 'school', 'schoolchildren', 'schoolmat', 'schoolwork', 'schooner', 'scienc', 'scientif', 'scientist', 'scoliosi', 'scoop', 'scoot', 'scooter', 'scope', 'scorch', 'score', 'scoreboard', 'scorelin', 'scorer', 'scour', 'scourg', 'scout', 'scrambl', 'scrap', 'scrape', 'scratch', 'scream', 'screen', 'screenshot', 'screenwrit', 'screw', 'scrimmag', 'scroll', 'scrub', 'scruff', 'scrum', 'scrutini', 'sculpt', 'sculptor', 'sculptur', 'scum', 'sea', 'seabird', 'seafood', 'seafront', 'seagul', 'seahors', 'seal', 'seamless', 'sear', 'search', 'seascap', 'seasid', 'season', 'seat', 'seawe', 'sec', 'seclud', 'seclus', 'second', 'secondari', 'secreci', 'secret', 'secretari', 'section', 'sector', 'secular', 'secur', 'sedentari', 'seduct', 'see', 'seed', 'seedl', 'seek', 'seeker', 'seem', 'seen', 'seep', 'segment', 'segreg', 'sein', 'seiz', 'seizur', 'seldom', 'select', 'self', 'selfi', 'selfish', 'selfless', 'sell', 'seltzer', 'semblanc', 'semest', 'semi', 'semifin', 'sen', 'senat', 'send', 'sender', 'senior', 'sens', 'sensat', 'sensation', 'senseless', 'sensit', 'sent', 'sentenc', 'sentiment', 'separ', 'separatist', 'sequenc', 'seren', 'serenad', 'serf', 'serg', 'sergeant', 'seri', 'serial', 'serious', 'sermon', 'serotonin', 'serv', 'servant', 'server', 'servic', 'serviceman', 'sesam', 'session', 'set', 'setback', 'settl', 'settlement', 'settler', 'setup', 'seven', 'seventh', 'sever', 'sewag', 'sex', 'sexi', 'sexism', 'sext', 'sexual', 'sf', 'shade', 'shadow', 'shaft', 'shah', 'shake', 'shaken', 'shaki', 'shall', 'shallow', 'shalom', 'sham', 'shame', 'shameless', 'shanghai', 'shanti', 'shape', 'shard', 'share', 'sharehold', 'shark', 'sharp', 'sharpen', 'sharpest', 'sharpli', 'sharpshoot', 'shatter', 'shave', 'shear', 'sheath', 'shed', 'sheep', 'sheer', 'sheet', 'sheikh', 'shelf', 'shell', 'shellfish', 'shelter', 'shepherd', 'sheriff', 'sherri', 'shes', 'shi', 'shield', 'shift', 'shiitak', 'shin', 'shine', 'shini', 'ship', 'shipment', 'shipwreck', 'shirt', 'shit', 'shiver', 'shoal', 'shock', 'shoe', 'shook', 'shoot', 'shop', 'shopkeep', 'shopper', 'shore', 'shorelin', 'short', 'shortag', 'shorten', 'shorter', 'shot', 'shotgun', 'shoulder', 'shout', 'shovel', 'show', 'showcas', 'showdown', 'shower', 'showjump', 'shown', 'showpiec', 'showtim', 'shrapnel', 'shrimp', 'shrine', 'shrink', 'shrub', 'shrug', 'shrunk', 'shudder', 'shuffl', 'shut', 'shutdown', 'shutter', 'shuttl', 'shyness', 'sibl', 'sic', 'sick', 'sickl', 'side', 'sidekick', 'sidelin', 'sidewalk', 'sieg', 'sierra', 'siesta', 'sigh', 'sight', 'sightse', 'sign', 'signal', 'signatori', 'signatur', 'signific', 'signpost', 'silenc', 'silent', 'silica', 'silk', 'silver', 'sim', 'similar', 'simpl', 'simpler', 'simpli', 'simplic', 'simplifi', 'simul', 'simultan', 'sin', 'sinc', 'sincer', 'sincerest', 'sing', 'singer', 'singl', 'singleton', 'singular', 'sinist', 'sink', 'sip', 'siphon', 'sir', 'sire', 'sissi', 'sister', 'sit', 'sitar', 'sitcom', 'site', 'sitter', 'situat', 'six', 'sixth', 'sixti', 'sizabl', 'size', 'sizeabl', 'skate', 'skater', 'skelet', 'skeleton', 'skeptic', 'sketch', 'skewer', 'ski', 'skid', 'skier', 'skill', 'skimpi', 'skin', 'skinni', 'skip', 'skipper', 'skirt', 'skull', 'sky', 'skydiv', 'skylin', 'skyrocket', 'skyscrap', 'slab', 'slalom', 'slam', 'slap', 'slash', 'slather', 'slave', 'slaveri', 'slaw', 'slay', 'slayer', 'sled', 'sleek', 'sleep', 'sleeper', 'sleepi', 'sleepless', 'sleev', 'slender', 'slept', 'slew', 'slice', 'slick', 'slide', 'slight', 'slim', 'sling', 'slip', 'sliver', 'slogan', 'slope', 'slot', 'slow', 'slower', 'slowli', 'slum', 'slumber', 'slump', 'slung', 'slurri', 'slut', 'small', 'smaller', 'smallest', 'smallpox', 'smart', 'smarter', 'smartphon', 'smartwatch', 'smash', 'smatter', 'smear', 'smell', 'smile', 'smith', 'smoke', 'smoker', 'smokey', 'smooth', 'smoother', 'smoothi', 'smother', 'smudg', 'smug', 'snack', 'snag', 'snake', 'snap', 'snapper', 'snazzi', 'sneak', 'sneaker', 'sneaki', 'sneez', 'sniff', 'sniper', 'snippi', 'snoop', 'snooz', 'snorkel', 'snort', 'snow', 'snowbal', 'snowbird', 'snowboard', 'snowi', 'snowman', 'snowmobil', 'snuf', 'snuggl', 'soak', 'soap', 'soapi', 'soar', 'sob', 'sober', 'sobrieti', 'soccer', 'sociabl', 'social', 'socialit', 'societ', 'societi', 'socioeconom', 'sociologist', 'sock', 'socket', 'soda', 'sodium', 'sofa', 'soft', 'softbal', 'softer', 'softwar', 'soil', 'solac', 'solar', 'sold', 'soldier', 'sole', 'solemn', 'solicit', 'solid', 'solidifi', 'solitari', 'solitud', 'solo', 'solubl', 'solut', 'solv', 'solvent', 'somber', 'somebodi', 'someday', 'somehow', 'someon', 'someplac', 'someth', 'sometim', 'somewhat', 'somewher', 'son', 'song', 'songwrit', 'soon', 'sooner', 'sooth', 'sophist', 'sophomor', 'sore', 'sorghum', 'sorri', 'sorrow', 'sort', 'sought', 'souk', 'soul', 'sound', 'soundtrack', 'soup', 'sour', 'sourc', 'south', 'southeast', 'southeastern', 'southern', 'southernmost', 'southwest', 'southwestern', 'souvenir', 'sovereign', 'sovereignti', 'soviet', 'soy', 'soybean', 'spa', 'space', 'spaceship', 'spacious', 'spaghetti', 'span', 'spank', 'spare', 'spark', 'sparkl', 'sparrow', 'spars', 'spasm', 'spat', 'spate', 'spatial', 'spay', 'speak', 'speaker', 'spear', 'spearhead', 'speci', 'special', 'specialist', 'specialti', 'specif', 'specifi', 'speck', 'spectacl', 'spectacular', 'spectat', 'spectr', 'spectrum', 'specul', 'sped', 'speech', 'speed', 'speedier', 'speedster', 'spell', 'spend', 'spent', 'sperm', 'spew', 'sphere', 'sphinx', 'spice', 'spici', 'spiciest', 'spider', 'spike', 'spill', 'spin', 'spinach', 'spinal', 'spind', 'spine', 'spiral', 'spire', 'spirit', 'spiritu', 'spit', 'spitfir', 'splash', 'splatter', 'split', 'splurg', 'spoil', 'spoiler', 'spoke', 'spoken', 'spokesman', 'spokesperson', 'spokeswoman', 'spong', 'sponsor', 'sponsorship', 'spontan', 'spook', 'spooki', 'spoon', 'sport', 'sportsman', 'sportswear', 'sportswoman', 'spot', 'spotlight', 'spous', 'spout', 'sprain', 'sprawl', 'spray', 'spread', 'spri', 'spring', 'springbok', 'springtim', 'sprinkl', 'sprint', 'sprout', 'spruce', 'spun', 'spunk', 'spur', 'spurt', 'sq', 'squad', 'squalor', 'squander', 'squar', 'squash', 'squat', 'squatter', 'squeak', 'squeal', 'squeez', 'squelch', 'squid', 'squint', 'squirm', 'squirrel', 'squirt', 'st', 'stab', 'stabil', 'stabl', 'stack', 'stadium', 'staf', 'staff', 'staffer', 'stag', 'stage', 'stagger', 'stagnant', 'stain', 'stair', 'staircas', 'stairway', 'stake', 'stakehold', 'stale', 'stalk', 'stall', 'stallion', 'stamen', 'stamp', 'stamped', 'stanc', 'stand', 'standard', 'standbi', 'standout', 'standpoint', 'staph', 'stapl', 'star', 'starch', 'starchi', 'stare', 'stark', 'start', 'starter', 'startl', 'startup', 'starv', 'starvat', 'stash', 'stat', 'state', 'statement', 'statesman', 'static', 'station', 'statist', 'statu', 'statur', 'status', 'statut', 'stave', 'stay', 'steadi', 'steadili', 'steak', 'steakhous', 'steal', 'steam', 'steami', 'steed', 'steel', 'steep', 'steepen', 'steer', 'stellar', 'stem', 'stenosi', 'step', 'stepdaught', 'stepfath', 'stereotyp', 'steril', 'stern', 'steroid', 'stethoscop', 'stew', 'stewardess', 'stick', 'sticker', 'sticki', 'stiff', 'stiffest', 'stifl', 'stigma', 'still', 'stimul', 'stimulus', 'sting', 'stinger', 'stinki', 'stint', 'stipul', 'stir', 'stock', 'stocki', 'stoical', 'stoke', 'stole', 'stomach', 'stomachach', 'stomp', 'stone', 'stonemason', 'stonewal', 'stood', 'stoop', 'stop', 'stopov', 'storag', 'store', 'storey', 'stori', 'storm', 'storytel', 'stove', 'straddl', 'straight', 'straighten', 'straightforward', 'strain', 'strait', 'strand', 'strang', 'stranger', 'strangest', 'strap', 'strateg', 'strategi', 'straw', 'strawberri', 'stray', 'streak', 'stream', 'streamlin', 'street', 'strength', 'strengthen', 'strenuous', 'strep', 'stress', 'stretch', 'strewn', 'strict', 'stricter', 'stride', 'strife', 'strike', 'striker', 'string', 'stringent', 'strip', 'stripe', 'strive', 'stroke', 'stroll', 'stroller', 'strong', 'stronger', 'strongest', 'stronghold', 'strongman', 'struck', 'structur', 'struggl', 'strung', 'strut', 'stub', 'stubborn', 'stuck', 'stud', 'student', 'studi', 'studio', 'studious', 'stuf', 'stuff', 'stuffi', 'stumbl', 'stump', 'stun', 'stunt', 'stupid', 'stutter', 'style', 'stylish', 'stymi', 'su', 'suav', 'sub', 'subconsci', 'subcontin', 'subcutan', 'subdu', 'subject', 'sublim', 'submarin', 'submerg', 'submiss', 'submit', 'subscrib', 'subsequ', 'subset', 'subsid', 'subsidi', 'subsidiari', 'substanc', 'substanti', 'substitut', 'subt', 'subterranean', 'subtl', 'suburb', 'suburban', 'subvers', 'subway', 'succeed', 'success', 'successor', 'succumb', 'suck', 'sucros', 'sudden', 'sue', 'suffer', 'suffici', 'suffoc', 'suffrag', 'sugar', 'sugari', 'suggest', 'suicid', 'suit', 'suitabl', 'sulfur', 'sulk', 'sultan', 'sultri', 'sum', 'summar', 'summari', 'summer', 'summertim', 'summit', 'sun', 'sunb', 'sunbath', 'sunburn', 'sundown', 'sundress', 'sunflow', 'sung', 'sunglass', 'sunk', 'sunlight', 'sunni', 'sunris', 'sunscreen', 'sunset', 'sunshin', 'sup', 'super', 'superb', 'superbl', 'superfici', 'superflu', 'superhero', 'superhuman', 'superimpos', 'superintend', 'superior', 'superl', 'superman', 'supermarket', 'supernatur', 'superstar', 'supervis', 'supervisor', 'superwoman', 'supplement', 'suppli', 'supplier', 'support', 'suppos', 'suppress', 'suprem', 'supremaci', 'supremo', 'sure', 'surf', 'surfac', 'surfer', 'surg', 'surgeon', 'surgeri', 'surgic', 'surpass', 'surpris', 'surreal', 'surrend', 'surrog', 'surrogaci', 'surround', 'surveil', 'survey', 'surviv', 'survivor', 'suscept', 'sushi', 'suspect', 'suspend', 'suspici', 'suspicion', 'sustain', 'sutur', 'swab', 'swallow', 'swanki', 'swankiest', 'swap', 'swarm', 'swat', 'swath', 'sway', 'swear', 'sweat', 'swede', 'sweep', 'sweeper', 'sweet', 'sweeten', 'sweeter', 'sweetheart', 'sweeti', 'swell', 'swept', 'swerv', 'swift', 'swill', 'swim', 'swimmer', 'swing', 'swipe', 'swirl', 'swish', 'switch', 'swollen', 'swoop', 'sword', 'swore', 'swung', 'symbol', 'symmetri', 'sympath', 'sympathi', 'symptom', 'sync', 'synchron', 'syndic', 'syndrom', 'synergi', 'synonym', 'synopsi', 'syntax', 'synthesi', 'synthet', 'syphili', 'syring', 'syrinx', 'syrup', 'system', 'systemat', 'systol', 'ta', 'tab', 'tabl', 'tableland', 'tablespoon', 'tablet', 'tabloid', 'taboo', 'tack', 'tackl', 'tackler', 'taco', 'tactic', 'tag', 'tail', 'tailgat', 'tailor', 'taint', 'take', 'takeaway', 'taken', 'takeoff', 'tale', 'talent', 'talk', 'talker', 'tall', 'taller', 'talli', 'tame', 'tan', 'tandem', 'tangibl', 'tangl', 'tank', 'tantal', 'tantamount', 'tantrum', 'tap', 'tapa', 'tape', 'taper', 'tapestri', 'tapioca', 'tapper', 'tar', 'target', 'tarmac', 'tarnish', 'task', 'tast', 'tasti', 'tatter', 'tattoo', 'taught', 'taunt', 'tavern', 'tax', 'taxi', 'taxpay', 'tea', 'teach', 'teacher', 'teal', 'team', 'teammat', 'tear', 'teas', 'teaspoon', 'tech', 'technic', 'technician', 'techniqu', 'technolog', 'tecton', 'ted', 'tee', 'teem', 'teen', 'teenag', 'teeth', 'teetotal', 'tel', 'telecommun', 'telescop', 'televis', 'tell', 'temper', 'temperatur', 'templ', 'templat', 'tempor', 'temporari', 'temporarili', 'tempt', 'ten', 'tend', 'tendenc', 'tender', 'tenderloin', 'tendon', 'tenni', 'tens', 'tension', 'tent', 'tentacl', 'tentat', 'tenuous', 'tenur', 'term', 'termin', 'terminus', 'tern', 'terrac', 'terrain', 'terrestri', 'terri', 'terribl', 'terrifi', 'territori', 'terror', 'terrorist', 'test', 'testament', 'tester', 'testimoni', 'tetanus', 'tether', 'text', 'textbook', 'textil', 'textur', 'thank', 'thanksgiv', 'thatch', 'thaw', 'theater', 'theatr', 'theatric', 'themat', 'theme', 'theoret', 'theori', 'theorist', 'theoriz', 'therapeut', 'therapi', 'therapist', 'thereaft', 'therebi', 'therefor', 'thereof', 'thermal', 'thick', 'thicken', 'thief', 'thigh', 'thin', 'thing', 'think', 'thinker', 'thinner', 'third', 'thirst', 'thirsti', 'thorax', 'thorn', 'thorough', 'thoroughbr', 'though', 'thought', 'thousand', 'thread', 'threat', 'threaten', 'three', 'threshold', 'threw', 'thrice', 'thrift', 'thrill', 'thrive', 'throat', 'throe', 'throne', 'throng', 'throttl', 'throughout', 'throw', 'thrown', 'thrust', 'thumb', 'thumbnail', 'thump', 'thunder', 'thus', 'thwart', 'thyme', 'thyroid', 'tibia', 'tic', 'tick', 'ticket', 'tidal', 'tide', 'tidi', 'tie', 'tiebreak', 'tier', 'tiger', 'tight', 'tighten', 'tightrop', 'til', 'tile', 'till', 'tilt', 'timber', 'timbr', 'time', 'timeless', 'timeout', 'timer', 'tinder', 'tinderbox', 'ting', 'tingl', 'tini', 'tiniest', 'tinker', 'tint', 'tip', 'tire', 'tireless', 'tissu', 'titan', 'titl', 'titlehold', 'toast', 'toasti', 'tobacco', 'today', 'toddi', 'toddler', 'toe', 'toenail', 'tofu', 'togeth', 'toilet', 'toiletri', 'told', 'toler', 'toll', 'tom', 'tomato', 'tomb', 'tomorrow', 'ton', 'tone', 'tongu', 'toni', 'tonight', 'tonn', 'tonsil', 'took', 'tool', 'toolkit', 'tooth', 'toothbrush', 'toothpast', 'toothpick', 'top', 'topic', 'topograph', 'toppl', 'torch', 'tore', 'torment', 'torn', 'tornado', 'torpedo', 'torrenti', 'tortilla', 'tortur', 'toss', 'total', 'touch', 'touchdown', 'tough', 'tougher', 'toughest', 'tour', 'tourism', 'tourist', 'tournament', 'tout', 'tow', 'toward', 'towel', 'tower', 'town', 'township', 'townspeopl', 'toxic', 'toxicolog', 'toxin', 'toy', 'trace', 'traceabl', 'track', 'tracker', 'tracksuit', 'tract', 'traction', 'tractor', 'trade', 'trademark', 'trader', 'tradit', 'traffic', 'traffick', 'tragedi', 'tragic', 'trail', 'trailblaz', 'trailer', 'train', 'traine', 'trainer', 'trainspot', 'trait', 'trajectori', 'tram', 'tran', 'tranquil', 'transcend', 'transcript', 'transfer', 'transfix', 'transform', 'transfus', 'transit', 'translat', 'transmiss', 'transmit', 'transpar', 'transplant', 'transport', 'trap', 'trash', 'trauma', 'traumat', 'travel', 'travers', 'tray', 'treacher', 'treadmil', 'treasur', 'treasuri', 'treat', 'treatabl', 'treati', 'treatment', 'tree', 'treetop', 'trek', 'trekk', 'tremend', 'tremor', 'trend', 'trendi', 'trepid', 'trespass', 'tri', 'trial', 'triall', 'triathlet', 'triathlon', 'tribal', 'tribe', 'tribul', 'tribut', 'tributari', 'tricentenni', 'trick', 'tricki', 'trickl', 'trifl', 'trigger', 'triglycerid', 'trillion', 'trim', 'trimest', 'trinket', 'trip', 'tripl', 'tripper', 'triumph', 'triumphant', 'trivial', 'trodden', 'troll', 'troop', 'trophi', 'tropic', 'trot', 'troubl', 'trout', 'truce', 'truck', 'true', 'truffl', 'truli', 'trump', 'truncat', 'trunk', 'trust', 'truth', 'tryptophan', 'tsunami', 'tub', 'tubal', 'tube', 'tuberculosi', 'tuck', 'tucker', 'tuft', 'tug', 'tulip', 'tumbl', 'tummi', 'tumor', 'tumour', 'tumult', 'tun', 'tuna', 'tundra', 'tune', 'tunnel', 'turbin', 'turbul', 'turf', 'turkey', 'turmer', 'turmoil', 'turn', 'turner', 'turquois', 'turtl', 'tussl', 'tutor', 'tweak', 'tweed', 'tween', 'tweet', 'twelv', 'twenti', 'twice', 'twig', 'twilight', 'twin', 'twinkl', 'twist', 'twitch', 'twitter', 'two', 'tycoon', 'type', 'typic', 'u', 'ubiquit', 'ugli', 'uh', 'ulterior', 'ultim', 'ultra', 'ultrasound', 'umbil', 'umbrella', 'umpir', 'unabl', 'unaccept', 'unaccount', 'unadulter', 'unaffect', 'unanim', 'unansw', 'unanticip', 'unapp', 'unauthor', 'unavoid', 'unawar', 'unbear', 'unbeat', 'unbeknown', 'unbeknownst', 'unbeliev', 'unborn', 'unbroken', 'uncanni', 'uncensor', 'uncertain', 'uncertainti', 'unchalleng', 'unchang', 'unchart', 'uncl', 'unclear', 'uncomfort', 'uncommon', 'unconfirm', 'unconsci', 'unconscion', 'unconstitut', 'uncontrol', 'unconvent', 'uncoop', 'uncov', 'uncrowd', 'undaunt', 'undef', 'under', 'underachiev', 'underag', 'undercov', 'underdevelop', 'underestim', 'underfoot', 'undergo', 'undergon', 'undergrad', 'undergradu', 'underground', 'undergrowth', 'underli', 'underlin', 'undermin', 'underneath', 'undernourish', 'underpay', 'underprivileg', 'underrepres', 'underscor', 'undersel', 'underst', 'understand', 'understat', 'understood', 'undertak', 'undertaken', 'underw', 'underwat', 'underway', 'underwear', 'undesir', 'undevelop', 'undigest', 'undisclos', 'undiscov', 'undivid', 'undo', 'undon', 'undoubt', 'undress', 'undu', 'undul', 'unduli', 'unearth', 'uneasi', 'uneduc', 'unemploy', 'unequ', 'uneth', 'unexpect', 'unexplain', 'unfair', 'unfamiliar', 'unfaz', 'unfit', 'unfold', 'unforc', 'unforgiv', 'unfortun', 'unfound', 'unfriend', 'unhappi', 'unhealthi', 'unheard', 'unhind', 'unhing', 'uni', 'unicorn', 'unidentifi', 'unif', 'unifi', 'uniform', 'unimagin', 'uninhabit', 'unintend', 'unintent', 'union', 'uniqu', 'unison', 'unit', 'uniti', 'univers', 'unknow', 'unknown', 'unleash', 'unless', 'unlik', 'unlimit', 'unload', 'unlucki', 'unman', 'unmanag', 'unmark', 'unmatch', 'unmet', 'unmistak', 'unnam', 'unnecessari', 'unnecessarili', 'unnerv', 'unnot', 'unoffici', 'unorthodox', 'unpaid', 'unparallel', 'unpav', 'unplug', 'unpreced', 'unpredict', 'unprocess', 'unprotect', 'unproven', 'unqualifi', 'unravel', 'unreal', 'unrealist', 'unreason', 'unrecogniz', 'unregul', 'unreli', 'unrespons', 'unrest', 'unrip', 'unsaddl', 'unsaf', 'unsalt', 'unsatur', 'unscath', 'unscientif', 'unsettl', 'unshackl', 'unsign', 'unsolicit', 'unsolv', 'unsportsmanlik', 'unstabl', 'unstopp', 'unstructur', 'unstuck', 'unsubstanti', 'unsuccess', 'unsur', 'unsustain', 'unsweeten', 'untangl', 'untest', 'unthink', 'unti', 'untold', 'untouch', 'untreat', 'unus', 'unusu', 'unveil', 'unwant', 'unwav', 'unwit', 'unwritten', 'up', 'upbeat', 'upbring', 'upcom', 'updat', 'upend', 'upfront', 'upgrad', 'upheav', 'uphil', 'uphold', 'upmarket', 'upmost', 'upon', 'upper', 'upright', 'uproar', 'upscal', 'upset', 'upsid', 'upstair', 'upstart', 'upstat', 'upsw', 'uptak', 'upturn', 'upward', 'uranium', 'urban', 'urea', 'urg', 'urgenc', 'urgent', 'urin', 'urinari', 'us', 'usag', 'use', 'user', 'usernam', 'usher', 'usual', 'utensil', 'uterus', 'util', 'utmost', 'utter', 'v', 'vacat', 'vacation', 'vaccin', 'vacuum', 'vagin', 'vagu', 'val', 'vale', 'valid', 'valley', 'valu', 'valuabl', 'valv', 'vampir', 'van', 'vandal', 'vanilla', 'vanish', 'vaniti', 'vantag', 'vape', 'vapor', 'vaporis', 'vari', 'variabl', 'variant', 'variat', 'varieti', 'various', 'vascular', 'vast', 'vat', 'vaunt', 'vector', 'veer', 'vegan', 'veget', 'vegetarian', 'veggi', 'vehicl', 'veil', 'vein', 'veloc', 'velodrom', 'velvet', 'vendor', 'veneer', 'vener', 'venison', 'venom', 'vent', 'ventil', 'ventur', 'venu', 'veranda', 'verbal', 'verdant', 'verdict', 'verg', 'verifi', 'verit', 'versa', 'version', 'versus', 'vertebr', 'vertebra', 'vertic', 'vessel', 'vest', 'vet', 'veteran', 'veterinarian', 'veto', 'vi', 'via', 'viabil', 'viabl', 'vial', 'vibe', 'vibranc', 'vibrant', 'vibrat', 'vice', 'viceroy', 'vicious', 'victim', 'victor', 'victori', 'video', 'videotap', 'vie', 'view', 'viewer', 'vigil', 'vigilant', 'vigor', 'vike', 'vilifi', 'villa', 'villag', 'villain', 'vinaigrett', 'vindic', 'vinegar', 'vineyard', 'vintag', 'violat', 'violenc', 'violent', 'viral', 'virgin', 'virtual', 'virtuous', 'virus', 'visa', 'viscer', 'visibl', 'vision', 'visionari', 'visit', 'visitor', 'vista', 'visual', 'vital', 'vitamin', 'vitriol', 'vivac', 'vivid', 'vocal', 'voic', 'void', 'volatil', 'volcan', 'volcano', 'volley', 'volleybal', 'volum', 'volunt', 'voluntari', 'voluntarili', 'vomit', 'vortex', 'vote', 'voter', 'voucher', 'vow', 'vowel', 'voyag', 'vulner', 'vultur', 'w', 'wacki', 'wade', 'wag', 'wage', 'wagon', 'waist', 'waistlin', 'wait', 'waiter', 'waitress', 'waiver', 'wake', 'wale', 'walk', 'walker', 'walkway', 'wall', 'wallow', 'walnut', 'wan', 'wand', 'wander', 'wane', 'want', 'war', 'ward', 'wardrob', 'ware', 'warehous', 'warfar', 'warhead', 'wari', 'warm', 'warmer', 'warmth', 'warn', 'warrant', 'warrior', 'warship', 'warthog', 'wartim', 'wash', 'washer', 'washroom', 'wast', 'wasteland', 'watch', 'watchdog', 'watcher', 'watchtow', 'water', 'waterfal', 'waterfront', 'watermark', 'watermelon', 'watersid', 'waterway', 'watt', 'wave', 'waver', 'wax', 'waxi', 'way', 'weak', 'weaken', 'weaker', 'wealth', 'wealthi', 'wealthier', 'wean', 'weapon', 'wear', 'wearabl', 'weather', 'weav', 'weaver', 'web', 'websit', 'wed', 'wedg', 'weed', 'week', 'weekday', 'weekend', 'weeknight', 'weep', 'weigh', 'weight', 'weightlift', 'weird', 'weirdo', 'welcom', 'weld', 'welfar', 'well', 'wellington', 'welsh', 'welt', 'welterweight', 'went', 'west', 'western', 'wet', 'whack', 'whale', 'wharf', 'what', 'whatev', 'wheat', 'wheel', 'wheelbarrow', 'wheelchair', 'wheeler', 'wheeli', 'whenev', 'wherea', 'whereabout', 'wherev', 'whether', 'whew', 'whey', 'whif', 'whilst', 'whimper', 'whimsi', 'whimsic', 'whip', 'whisk', 'whiski', 'whisper', 'whistl', 'whistler', 'white', 'whiteboard', 'whitewash', 'whizz', 'whoa', 'whoever', 'whole', 'wholeheart', 'wholesal', 'wholesom', 'whoop', 'whop', 'whose', 'wide', 'widen', 'wider', 'widespread', 'widget', 'width', 'wield', 'wife', 'wig', 'wiggl', 'wild', 'wildcat', 'wilder', 'wildest', 'wildfir', 'wildlif', 'will', 'willing', 'willpow', 'win', 'winc', 'wind', 'windfal', 'windi', 'windjamm', 'window', 'wine', 'wineglass', 'wing', 'winger', 'wink', 'winner', 'winter', 'wintertim', 'wipe', 'wire', 'wireless', 'wisdom', 'wise', 'wiser', 'wish', 'wisher', 'wisteria', 'wit', 'witch', 'witchcraft', 'withdraw', 'withheld', 'withhold', 'within', 'without', 'withstand', 'wizard', 'wobbl', 'woe', 'woefulli', 'woke', 'wolf', 'woman', 'womb', 'won', 'wonder', 'wonderland', 'wood', 'woodcock', 'wooden', 'wool', 'woolen', 'woozi', 'word', 'wore', 'work', 'worker', 'workload', 'workman', 'workmat', 'workout', 'workplac', 'worksheet', 'workshop', 'world', 'worldwid', 'worn', 'worri', 'wors', 'worsen', 'worship', 'worst', 'worth', 'worthi', 'worthless', 'worthwhil', 'wound', 'woven', 'wow', 'wrack', 'wrap', 'wraparound', 'wrass', 'wreak', 'wreck', 'wreckag', 'wrench', 'wrestl', 'wri', 'wright', 'wrinkl', 'wrist', 'wristband', 'write', 'writer', 'writh', 'written', 'wrong', 'wrongdo', 'wrote', 'x', 'xi', 'xviii', 'xxxiv', 'y', 'ya', 'yacht', 'yam', 'yang', 'yank', 'yard', 'yardstick', 'yawn', 'yeah', 'year', 'yeast', 'yell', 'yellow', 'yen', 'yes', 'yesterday', 'yet', 'yield', 'yip', 'yo', 'yoga', 'yoghurt', 'yogi', 'yogurt', 'yolk', 'young', 'younger', 'youngest', 'youth', 'yurt', 'z', 'zack', 'zani', 'zap', 'zealot', 'zealous', 'zeitgeist', 'zen', 'zenith', 'zero', 'zinc', 'zip', 'zombi', 'zone', 'zoo', 'zoologist']\n"
     ]
    }
   ],
   "source": [
    "print((sport_vocab))"
   ]
  },
  {
   "cell_type": "code",
   "execution_count": 15,
   "metadata": {
    "collapsed": true
   },
   "outputs": [],
   "source": [
    "tokens = []\n",
    "for i, text in enumerate(log_progress(corpus_tokens_lem)):\n",
    "    tmp_text = []\n",
    "    for word in text:\n",
    "        tmp_text.append(sport_vocab.index(word))\n",
    "    tokens.append(tmp_text)"
   ]
  },
  {
   "cell_type": "code",
   "execution_count": 59,
   "metadata": {
    "collapsed": false
   },
   "outputs": [
    {
     "name": "stdout",
     "output_type": "stream",
     "text": [
      "[7376 6516 4386 8822  739  427 3396 4332 7748  892 5356 6264 3609 1455\n",
      " 9015 4332 9016 5326 5606 3609 1455 6772 2797   61 4695 1518 2767 4683\n",
      " 3328 5053  516 1412  468 4389 7748  892 8096 2986 8079 8835 6557 8902\n",
      " 5197 7748  892  335 2976 9034 1455 7748  892 3713 8681 5179 6052 8957\n",
      " 4683 3383 2906 4266 1455 6264 6739  528 6772 5817 1455 3449 3518 1106\n",
      " 7884 1106 8405 2714 6326 2714 8329 7924 4600 5815 3518 4508 2007 5166\n",
      " 6775 1256 3252 5166 3712 3711 6264  294 5179 3609 3079 1455 4266 3711\n",
      " 6599 1340 6963 8047 4419 9016 5326 9034 3609 1455 3713 2101  142  222\n",
      " 6994 9016 2775 4419    8 6336 5815 2706 5341 9016  150 4911  813 1431\n",
      "  785 6516 8840 8699 6222 7384 5815 8018 6314 7440  528 6264 4536 6479\n",
      " 2710 5815 1455 1150 5743 8324 1511  785 6516 6264 6195 4266 6699 6911\n",
      " 6339 6336 3383 3919 4133 4226 4432 4804 3393 6007 3383 3856 5341 1352\n",
      " 2738 5251 6772  518 8305 6007 8835 8019 1319 5353 5313 3288 4684 6264\n",
      " 7508 5727  294 3711 3609 1455 1518 3079 2853  868 7520 4663 1632 9032\n",
      "  142 5817  394 5377 3422 4232 3989 3537 2852 7704 7924 3191 5313 3661\n",
      " 1662 6709 8946 2986 7748  892 5815 3079  224 6739 2853 2880 5815 8366\n",
      " 4232 5815 8465 4875 3694 6859 4434 6859 7528 1256 7400 1500 1953 8886\n",
      " 6338 8465 1455 1150  674  442 8886 6338 1455  640  987 7400 8070 2588\n",
      " 1455 8463 3079 4419 4233 5311  442 8070 2588 1455 7400 8035 6911 5311\n",
      " 1716 3661 2122 6195 1776 6264 6306 5820 8317 7968 8325 9016 3659 6264\n",
      " 6306 5820 8317 5251 3609  528 7748  892 5606 9015 4777 3393 4593 5657\n",
      "  875 8062 6772 4386 8822 4394 7384 8840 3694 6859 5791 3449 4695 4020\n",
      " 1455 6318 5940 7921 4683 3557 8859 7704  107 6314 1439 3182 4490 3518\n",
      "    9 5815 3694 6859 3079 6772 5657 8902    9 3252 3914 6264 3360 5815\n",
      " 7748  892 8461 3360 8233 8905 3079 3252 8902 5657 7381 2853 3315 1257\n",
      " 8212 2863 8835 8905 6775 1097 1953 6305  759 1487 5341 7748  892  466\n",
      " 9016 5326 2857 7748  892 9005 6264 4386 8946 4545 8062  759 5993 2510\n",
      " 7572 8957 8079 5195 9016 4389 3422 8902 8787 3427 3252 6772 4780 2853\n",
      " 4266 8803 3557 5693 6934 2588 7391 1455  224 4141 6688 3191 5313 7512\n",
      " 5576 1256 5377    9 7800 4568 5677 8079 7988 8047 6911 6828 3422 3449\n",
      " 6390  224 6264 1097 1087 2976 4846 5606 5311 1716 4238 5948 3518 2445\n",
      " 4306 4286 1666 6772 7924  233 8787 8803 8018 4266 5053 6552 8803 5353\n",
      " 4386 3550 9016   47 5704 4310 6828 7988 3252 2976 7748  892 1518  739\n",
      " 6264 1455 6828 7988 6911 3396 4332  739 7884 1515 4386 9016 1711 8110\n",
      " 4310 6318 3449 1698 6318 2609 8896 6911  622 7988 2710 5341 3252  655\n",
      " 7988 4683 3518 6318 2787 3919 3215 8787 1625 4282 6689 2706 7878 8079\n",
      " 6828 1624 6007 1711 5341 8018 4508 1041 3158 1455 1557 3518 2956 8079\n",
      " 7019 1106 4629 7572 9032 7572 2943 7663 6318 3661 6318 2506 6449 3353\n",
      " 8018 6828 4386 8822 6264 3609 1455 3535  142 8117 6552 6772 8019 2321\n",
      " 3449 4226 8325 9016 6264 7924 5672 2812 3694 4472 1651 8835 1455 3449\n",
      " 6855 5817 2749 1651  621 3694 4472 3393 3449 1455 7488 5311 2011 7381\n",
      " 7924 3383 2710  376 8019 2321 5426 4226 8117 6552 8803 7924 5815 8835\n",
      " 5815   46 2627 1150 3609 1455 4386 8325 9016]\n"
     ]
    }
   ],
   "source": [
    "print(np.transpose(tokens[1]))"
   ]
  },
  {
   "cell_type": "code",
   "execution_count": 60,
   "metadata": {
    "collapsed": true
   },
   "outputs": [],
   "source": [
    "np.save(\"tokents\", tokens)"
   ]
  },
  {
   "cell_type": "code",
   "execution_count": 63,
   "metadata": {
    "collapsed": false
   },
   "outputs": [],
   "source": [
    "df_clean = pd.DataFrame({'text': tokens, 'category': flags}) \n",
    "np.save(\"df\", df_clean)"
   ]
  },
  {
   "cell_type": "code",
   "execution_count": 2,
   "metadata": {
    "collapsed": true
   },
   "outputs": [],
   "source": [
    "df = np.load(\"df.npy\")"
   ]
  },
  {
   "cell_type": "code",
   "execution_count": 129,
   "metadata": {
    "collapsed": false
   },
   "outputs": [
    {
     "data": {
      "text/plain": [
       "False"
      ]
     },
     "execution_count": 129,
     "metadata": {},
     "output_type": "execute_result"
    }
   ],
   "source": [
    "'re' in sport_vocab"
   ]
  },
  {
   "cell_type": "code",
   "execution_count": 16,
   "metadata": {
    "collapsed": false
   },
   "outputs": [],
   "source": [
    "def tf(token,text):\n",
    "    n = text.count(token)\n",
    "    m = len(text)\n",
    "    return n/m\n",
    "\n",
    "def idf(token,texts):\n",
    "    cnt = 0\n",
    "    for text in texts:\n",
    "        if text.count(token)>0:\n",
    "            cnt+=1\n",
    "    return np.log(len(texts)/cnt)\n",
    "\n",
    "def tf_idf(token, text, idfs):\n",
    "    return tf(token, text)*idfs\n",
    "\n",
    "#print('TF: {0}, IDF: {1}, TF-IDF: {2}'.format(kek1,kek2,kek1*kek2))"
   ]
  },
  {
   "cell_type": "code",
   "execution_count": 19,
   "metadata": {
    "collapsed": false
   },
   "outputs": [],
   "source": [
    "np.save(\"idfs\", idfs)"
   ]
  },
  {
   "cell_type": "code",
   "execution_count": 18,
   "metadata": {
    "collapsed": false
   },
   "outputs": [],
   "source": [
    "idfs=[]\n",
    "for i in range(0, len(sport_vocab)):\n",
    "    idfs.append(idf(i, tokens)) "
   ]
  },
  {
   "cell_type": "code",
   "execution_count": 21,
   "metadata": {
    "collapsed": false
   },
   "outputs": [
    {
     "data": {
      "text/plain": [
       "298"
      ]
     },
     "execution_count": 21,
     "metadata": {},
     "output_type": "execute_result"
    }
   ],
   "source": [
    "n=len(sport_vocab)\n",
    "vectorized=[]\n",
    "for text in tokens:\n",
    "    vec = []\n",
    "    for i in range(0, n):\n",
    "        tfidf = tf_idf(i, text, idfs[i])\n",
    "        vec.append(tfidf)\n",
    "    vectorized.append(vec)\n",
    "len(vectorized)       \n",
    "        "
   ]
  },
  {
   "cell_type": "code",
   "execution_count": 22,
   "metadata": {
    "collapsed": true
   },
   "outputs": [],
   "source": [
    "np.save('vectorized', vectorized)"
   ]
  },
  {
   "cell_type": "code",
   "execution_count": 167,
   "metadata": {
    "collapsed": false
   },
   "outputs": [
    {
     "data": {
      "text/plain": [
       "'chief operating officer'"
      ]
     },
     "execution_count": 167,
     "metadata": {},
     "output_type": "execute_result"
    }
   ],
   "source": [
    "sptext = re.sub(r'(\\n)+', ' ', searchstr)\n",
    "sptext = re.sub(r'\\w+:\\/{2}[\\d\\w-]+(\\.[\\d\\w-]+)*(?:(?:\\/[^\\s/]*))*', '', sptext)\n",
    "sptext = emoji_pattern.sub('', sptext)\n",
    "sptext = regex_punct.sub(' ', sptext)\n",
    "sptext = regex_symb.sub('', sptext)\n",
    "sptext = regex_dig.sub('', sptext)\n",
    "sptext = re.sub(r'( )( )+', ' ', sptext)\n",
    "searchstr = sptext.lower()\n",
    "searchstr"
   ]
  },
  {
   "cell_type": "code",
   "execution_count": 171,
   "metadata": {
    "collapsed": false
   },
   "outputs": [
    {
     "data": {
      "text/plain": [
       "['chief', 'operating', 'officer']"
      ]
     },
     "execution_count": 171,
     "metadata": {},
     "output_type": "execute_result"
    }
   ],
   "source": [
    "tmp_tokens = []\n",
    "sp = searchstr.split()\n",
    "for word in sp:\n",
    "    if word not in stop_words.get_stop_words('en') and word not in ['s', 't', 'd', 'v', 've', 'll', 're']:\n",
    "        if dict_en.check(word):\n",
    "            tmp_tokens.append(word)    \n",
    "tmp_tokens"
   ]
  },
  {
   "cell_type": "code",
   "execution_count": 172,
   "metadata": {
    "collapsed": false
   },
   "outputs": [
    {
     "data": {
      "text/plain": [
       "['chief', 'oper', 'offic']"
      ]
     },
     "execution_count": 172,
     "metadata": {},
     "output_type": "execute_result"
    }
   ],
   "source": [
    "search_tokens=[]\n",
    "for word in tmp_tokens:\n",
    "    tmp_word = wnl.lemmatize(word)\n",
    "    tmp_word = stemmer.stem(tmp_word)\n",
    "    search_tokens.append(tmp_word)\n",
    "search_tokens"
   ]
  },
  {
   "cell_type": "code",
   "execution_count": 79,
   "metadata": {
    "collapsed": false
   },
   "outputs": [],
   "source": [
    "def vectorize(searchstr):\n",
    "    sptext = re.sub(r'(\\n)+', ' ', searchstr)\n",
    "    sptext = re.sub(r'\\w+:\\/{2}[\\d\\w-]+(\\.[\\d\\w-]+)*(?:(?:\\/[^\\s/]*))*', '', sptext)\n",
    "    sptext = emoji_pattern.sub('', sptext)\n",
    "    sptext = regex_punct.sub(' ', sptext)\n",
    "    sptext = regex_symb.sub('', sptext)\n",
    "    sptext = regex_dig.sub('', sptext)\n",
    "    sptext = re.sub(r'( )( )+', ' ', sptext)\n",
    "    searchstr = sptext.lower()\n",
    "    tmp_tokens = []\n",
    "    sp = searchstr.split()\n",
    "    for word in sp:\n",
    "        if word not in stop_words.get_stop_words('en') and word not in ['s', 't', 'd', 'v', 've', 'll', 're']:\n",
    "            if dict_en.check(word):\n",
    "                tmp_tokens.append(word)  \n",
    "    search_tokens=[]\n",
    "    for word in tmp_tokens:\n",
    "        tmp_word = wnl.lemmatize(word)\n",
    "        tmp_word = stemmer.stem(tmp_word)\n",
    "        search_tokens.append(tmp_word)\n",
    "    \n",
    "    tmp_text = []\n",
    "    for word in  search_tokens:\n",
    "        tmp_text.append(vocab.index(word))\n",
    "    #print(tmp_text)\n",
    "    \n",
    "    n=len(vocab)\n",
    "    vec = []\n",
    "    for i in range(0, n):\n",
    "        tfidf = tf_idf(i, tmp_text, idfs[i])\n",
    "        vec.append(tfidf)\n",
    "    return vec"
   ]
  },
  {
   "cell_type": "code",
   "execution_count": 188,
   "metadata": {
    "collapsed": false
   },
   "outputs": [
    {
     "data": {
      "text/plain": [
       "637"
      ]
     },
     "execution_count": 188,
     "metadata": {},
     "output_type": "execute_result"
    }
   ],
   "source": [
    "vocab.index('chief')"
   ]
  },
  {
   "cell_type": "code",
   "execution_count": 195,
   "metadata": {
    "collapsed": false
   },
   "outputs": [
    {
     "data": {
      "text/plain": [
       "0.6340358421323068"
      ]
     },
     "execution_count": 195,
     "metadata": {},
     "output_type": "execute_result"
    }
   ],
   "source": [
    "vec[637]"
   ]
  },
  {
   "cell_type": "code",
   "execution_count": 69,
   "metadata": {
    "collapsed": false,
    "scrolled": true
   },
   "outputs": [],
   "source": [
    "from scipy.spatial.distance import cosine"
   ]
  },
  {
   "cell_type": "code",
   "execution_count": 84,
   "metadata": {
    "collapsed": false
   },
   "outputs": [],
   "source": [
    "def search(string):\n",
    "    vec = vectorize(string)\n",
    "    dist = []\n",
    "    for text in vectorized:\n",
    "        dist.append(cosine(vec, text))\n",
    "    sort_dist = np.argsort(dist)\n",
    "    print(sort_dist[0:5])\n",
    "    for index in sort_dist[0:5]:\n",
    "        print(str(dist[index])+' ', end='')\n",
    "    print(\"\\n\")\n",
    "    for text in df.text[sort_dist[0:5]]:\n",
    "        print(text+\"\\n__________________________________________________________________________________\\n\")"
   ]
  },
  {
   "cell_type": "code",
   "execution_count": 85,
   "metadata": {
    "collapsed": false
   },
   "outputs": [],
   "source": [
    "searchstr = \"health insurance\""
   ]
  },
  {
   "cell_type": "code",
   "execution_count": 86,
   "metadata": {
    "collapsed": false
   },
   "outputs": [
    {
     "name": "stdout",
     "output_type": "stream",
     "text": [
      "[173 235 204 182 228]\n",
      "0.4968387983240109 0.6944183207620978 0.7186068374581189 0.8344072860848742 0.884362097225212 \n",
      "\n",
      "(CNN) If you've ever been wrongfully denied health insurance coverage, a recent court decision should give you hope in fighting your insurer and holding them accountable.\n",
      "\n",
      "That's the key takeaway, experts say, after a California Supreme Court decision in early January paved the way for the state to collect $91 million in fines from the UnitedHealthcare Group, the nation's largest insurance company.\n",
      "\n",
      "\"It's a clear win for consumers,\" said Ben Handel, a health care economics professor at the University of California, Berkeley. \"This seems like a case where [UHC] was way over the line.\"\n",
      "\n",
      "The decision is the latest twist in a decade-long fight between the California insurance commissioner's office and UHC. The office found more than 900,000 violations involving patient claims and other issues against UHC subsidiary PacifiCare around the time of their 2005 merger. It was those violations at the heart of the dispute.\n",
      "\n",
      "That is the largest number of violations an insurer has ever been found to have committed in the state's history, according to the commissioner's office.\n",
      "__________________________________________________________________________________\n",
      "\n",
      "(CNN) California's insurance commissioner has launched an investigation into Aetna after learning a former medical director for the insurer admitted under oath he never looked at patients' records when deciding whether to approve or deny care.\n",
      "\n",
      "California Insurance Commissioner Dave Jones expressed outrage after CNN showed him a transcript of the testimony and said his office is looking into how widespread the practice is within Aetna.\n",
      "\n",
      "\"If the health insurer is making decisions to deny coverage without a physician actually ever reviewing medical records, that's of significant concern to me as insurance commissioner in California -- and potentially a violation of law,\" he said.\n",
      "\n",
      "Aetna, the nation's third-largest insurance provider with 23.1 million customers, told CNN it looked forward to \"explaining our clinical review process\" to the commissioner.\n",
      "\n",
      "The California probe centers on a deposition by Dr. Jay Ken Iinuma, who served as medical director for Aetna for Southern California from March 2012 to February 2015, according to the insurer.\n",
      "\n",
      "During the deposition, the doctor said he was following Aetna's training, in which nurses reviewed records and made recommendations to him.\n",
      "\n",
      "Jones said his expectation would be \"that physicians would be reviewing treatment authorization requests,\" and that it's troubling that \"during the entire course of time he was employed at Aetna, he never once looked at patients' medical records himself.\"\n",
      "\n",
      "\"It's hard to imagine that in that entire course in time, there weren't any cases in which a decision about the denial of coverage ought to have been made by someone trained as a physician, as opposed to some other licensed professional,\" Jones told CNN.\n",
      "\n",
      "\"That's why we've contacted Aetna and asked that they provide us information about how they are making these claims decisions and why we've opened this investigation.\"\n",
      "\n",
      "The insurance commissioner said Californians who believe they may have been adversely affected by Aetna's decisions should contact his office\n",
      "\n",
      "Members of the medical community expressed similar shock, saying Iinuma's deposition leads to questions about Aetna's practices across the country.\n",
      "\n",
      "\"Oh my God. Are you serious? That is incredible,\" said Dr. Anne-Marie Irani when told of the medical director's testimony. Irani is a professor of pediatrics and internal medicine at the Children's Hospital of Richmond at VCU and a former member of the American Board of Allergy and Immunology's board of directors.\n",
      "\n",
      "\"This is potentially a huge, huge story and quite frankly may reshape how insurance functions,\" said Dr. Andrew Murphy, who, like Irani, is a renowned fellow of the American Academy of Allergy, Asthma and Immunology. He recently served on the academy's board of directors.\n",
      "\n",
      "The Gillen Washington case\n",
      "\n",
      "Gillen Washington, 23, says he hopes to force change at Aetna.\n",
      "\n",
      "The deposition by Aetna's former medical director came as part of a lawsuit filed against Aetna by a college student who suffers from a rare immune disorder. The case is expected to go to trial later this week in California Superior Court.\n",
      "\n",
      "Gillen Washington, 23, is suing Aetna for breach of contract and bad faith, saying he was denied coverage for an infusion of intravenous immunoglobulin (IVIG) when he was 19. His suit alleges Aetna's \"reckless withholding of benefits almost killed him.\"\n",
      "\n",
      "Aetna has rejected the allegations, saying Washington failed to comply with their requests for blood work. Washington, who was diagnosed with common variable immunodeficiency, or CVID, in high school, became a new Aetna patient in January 2014 after being insured by Kaiser.\n",
      "\n",
      "Aetna initially paid for his treatments after each infusion, which can cost up to $20,000. But when Washington's clinic asked Aetna to pre-authorize a November 2014 infusion, Aetna says it was obligated to review his medical record. That's when it saw his last blood work had been done three years earlier for Kaiser.\n",
      "\n",
      "Despite being told by his own doctor's office that he needed to come in for new blood work, Washington failed to do so for several months until he got so sick he ended up in the hospital with a collapsed lung.\n",
      "\n",
      "Once his blood was tested, Aetna resumed covering his infusions and pre-certified him for a year. Despite that, according to Aetna, Washington continued to miss infusions.\n",
      "\n",
      "Washington's suit counters that Aetna ignored his treating physician, who appealed on his behalf months before his hospitalization that the treatment was medically necessary \"to prevent acute and long-term problems.\"\n",
      "\n",
      "\"Aetna is blaming me for what happened,\" Washington told CNN. \"I'll just be honest, it's infuriating to me. I want Aetna to be made to change.\"\n",
      "\n",
      "During his videotaped deposition in October 2016, Iinuma -- who signed the pre-authorization denial -- said he never read Washington's medical records and knew next to nothing about his disorder.\n",
      "\n",
      "Intravenous immunoglobulin can cost as much as $20,000 per treatment. It helps patients like Gillen Washington stave off infection.\n",
      "\n",
      "Questioned about Washington's condition, Iinuma said he wasn't sure what the drug of choice would be for people who suffer from his condition.\n",
      "\n",
      "Iinuma further says he's not sure what the symptoms are for the disorder or what might happen if treatment is suddenly stopped for a patient.\n",
      "\n",
      "\"Do I know what happens?\" the doctor said. \"Again, I'm not sure. ... I don't treat it.\"\n",
      "\n",
      "Iinuma said he never looked at a patient's medical records while at Aetna. He says that was Aetna protocol and that he based his decision off \"pertinent information\" provided to him by a nurse.\n",
      "\n",
      "\"Did you ever look at medical records?\" Scott Glovsky, Washington's attorney, asked Iinuma in the deposition.\n",
      "\n",
      "\"No, I did not,\" the doctor says, shaking his head.\n",
      "\n",
      "\"So as part of your custom and practice in making decisions, you would rely on what the nurse had prepared for you?\" Glovsky asks.\n",
      "\n",
      "\"Correct.\"\n",
      "\n",
      "Iinuma said nearly all of his work was conducted online. Once in a while, he said, he might place a phone call to the nurse for more details.\n",
      "\n",
      "How many times might he call a nurse over the course of a month?\n",
      "\n",
      "\"Zero to one,\" he said.\n",
      "\n",
      "Glovsky told CNN he had \"never heard such explosive testimony in two decades of deposing insurance company review doctors.\"\n",
      "\n",
      "Aetna's response\n",
      "\n",
      "Aetna defended Iinuma, who is no longer with the company, saying in its legal brief that he relied on his \"years of experience\" as a trained physician in making his decision about Washington's treatment and that he was following Aetna's Clinical Policy Bulletin appropriately.\n",
      "\n",
      "\"Dr. Iinuma's decision was correct,\" Aetna said in court papers. \"Plaintiff has asserted throughout this litigation that Dr. Iinuma had no medical basis for his decision that 2011 lab tests were outdated and that Dr. Iinuma's decision was incorrect. Plaintiff is wrong on both counts.\"\n",
      "\n",
      "Gillen Washington receives an infusion of the medicine needed to boost his immune system. He calls it \"the magic juice.\"\n",
      "\n",
      "In its trial brief, Aetna said: \"Given that Aetna does not directly provide medical care to its members, Aetna needs to obtain medical records from members and their doctors to evaluate whether services are 'medically necessary.' Aetna employs nurses to gather the medical records and coordinate with the offices of treating physicians, and Aetna employs doctors to make the actual coverage-related determinations.\n",
      "\n",
      "\"In addition to applying their clinical judgment, the Aetna doctors and nurses use Aetna's Clinical Policy Bulletins ('CPBs') to determine what medical records to request, and whether those records satisfy medical necessity criteria to support coverage. These CPBs reflect the current standard of care in the medical community. They are frequently updated, and are publicly available for any treating physician to review.\"\n",
      "\n",
      "Jones, the California insurance commissioner, said he couldn't comment specifically on Washington's case, but what drew his interest was the medical director's admission of not looking at patients' medical records.\n",
      "\n",
      "\"What I'm responding to is the portion of his deposition transcript in which he said as the medical director, he wasn't actually reviewing medical records,\" Jones told CNN.\n",
      "\n",
      "He said his investigation will review every individual denial of coverage or pre-authorization during the medical director's tenure to determine \"whether it was appropriate or not for that decision to be made by someone other than a physician.\"\n",
      "\n",
      "If the probe determines that violations occurred, he said, California insurance code sets monetary penalties for each individual violation.\n",
      "\n",
      "CNN has made numerous phone calls to Iinuma's office for comment but has not heard back. Heather Richardson, an attorney representing Aetna, declined to answer any questions.\n",
      "\n",
      "Asked about the California investigation, Aetna gave this written statement to CNN:\n",
      "\n",
      "\"We have yet to hear from Commissioner Jones but look forward to explaining our clinical review process.\n",
      "\n",
      "\"Aetna medical directors are trained to review all available medical information -- including medical records -- to make an informed decision. As part of our review process, medical directors are provided all submitted medical records, and also receive a case synopsis and review performed by a nurse.\n",
      "\n",
      "\"Medical directors -- and all of our clinicians -- take their duties and responsibilities as medical professionals incredibly seriously. Similar to most other clinical environments, our medical directors work collaboratively with our nurses who are involved in these cases and factor in their input as part of the decision-making process.\"\n",
      "\n",
      "Gillen Washington became emaciated and gravely ill after four months without treatment.\n",
      "\n",
      "'A huge admission'\n",
      "\n",
      "Dr. Arthur Caplan, founding director of the division of medical ethics at New York University Langone Medical Center, described Iinuma's testimony as \"a huge admission of fundamental immorality.\"\n",
      "\n",
      "\"People desperate for care expect at least a fair review by the payer. This reeks of indifference to patients,\" Caplan said, adding the testimony shows there \"needs to be more transparency and accountability\" from private, for-profit insurers in making these decisions.\n",
      "\n",
      "Murphy, the former American Academy of Allergy Asthma and Immunology board member, said he was \"shocked\" and \"flabbergasted\" by the medical director's admission.\n",
      "\n",
      "\"This is something that all of us have long suspected, but to actually have an Aetna medical director admit he hasn't even looked at medical records, that's not good,\" said Murphy, who runs an allergy and immunology practice west of Philadelphia.\n",
      "\n",
      "\"If he has not looked at medical records or engaged the prescribing physician in a conversation -- and decisions were made without that input -- then yeah, you'd have to question every single case he reviewed.\"\n",
      "\n",
      "Murphy said when he and other doctors seek a much-needed treatment for a patient, they expect the medical director of an insurance company to have considered every possible factor when deciding on the best option for care.\n",
      "\n",
      "Follow CNN Health on Facebook and Twitter See the latest news and share your comments with CNN Health on Facebook and Twitter.\n",
      "\n",
      "\"We run into the prior authorization issues when we are renewing therapy, when the patient's insurance changes or when an insurance company changes requirements,\" he said.\n",
      "\n",
      "\"Dealing with these denials is very time consuming. A great deal of nursing time is spent filling and refilling out paperwork trying to get the patient treatment.\n",
      "\n",
      "\"If that does not work, then physicians need to get involved and demand medical director involvement, which may or may not occur in a timely fashion -- or sometimes not at all,\" he said. \"It's very frustrating.\"\n",
      "__________________________________________________________________________________\n",
      "\n",
      "(CNN) Sonna Anderson was enjoying a horseback ride through the Badlands in North Dakota in September 2017 when her horse, Cody, got spooked, jerked toward a fence and tripped on a cow track in the dirt. The horse rolled onto Anderson, who hit her head, briefly lost consciousness and broke three ribs.\n",
      "\n",
      "The 911 transcript shows that an ambulance reached the 60-year-old judge from Bismarck within 20 minutes. Anderson was secured on a backboard and ready to go when an air ambulance, a helicopter with a medical crew, also landed at the scene. Anderson says her husband asked repeatedly whether the ground ambulance crew could take her by ground; there was a hospital less than an hour's drive away.\n",
      "\n",
      "\"But he was told that [the air ambulance] was necessary. They never told him why it was necessary or how much it cost, but they insisted I had to go by air ambulance,\" Anderson said. \"But it's so odd there is nothing in the record that indicated it was time-sensitive or that I needed to be airlifted.\"\n",
      "\n",
      "For that one helicopter ride, to a hospital farther away in Bismarck, records show that Valley Med Flight charged Anderson $54,727.26. Sanford Health Plan, her insurance, paid $13,697.73. That left Anderson with a $41,029.53 bill.\n",
      "\n",
      "Valley Med Flight did not respond to requests for comment.\n",
      "\n",
      "\"It shocked me,\" Anderson said. \"I kept thinking, 'my God.' I got a copy of the 911 and air ambulance report to see how long they actually spent with me, when really, it was only around 45 minutes. I wrote [the air ambulance company] a letter telling them that I thought it was all outrageous.\"\n",
      "\n",
      "Shared outrage\n",
      "\n",
      "about air ambulance bills have Anderson is not alone. CNN reached out to every state's insurance regulatory office. Nearly every one said it has heard from patients like Anderson, and complaintsabout air ambulance bills have \"increased rapidly,\" according to the Mississippi commissioner of insurance.\n",
      "\n",
      "Charges vary wildly. CNN saw bills ranging from nearly $34,000 to more than $533,000.\n",
      "\n",
      "flight doubled between 2010 and 2014. Some states saw even bigger increases. New Mexico bills went up 229% between 2006 and 2015, a state 2017 federal investigation found that costs for an average air ambulanceflight doubled between 2010 and 2014. Some states saw even bigger increases. New Mexico bills went up 229% between 2006 and 2015, a state investigation found.\n",
      "\n",
      "Each state's law varies in what can be disclosed about these complaints due to its interpretation of patient privacy. In some cases, CNN could see details about the patient's condition, how far and where they were flown, how much they were charged, how much insurance paid and the nature of the complaint. Some states released much less. Some would acknowledge only that there had been complaints. However, it's clear that these bills can be devastating for families.\n",
      "\n",
      "One complaint sent to the Michigan insurance office says a family flew a dying relative home after he got sick in Arizona. To get him to a hospice in Michigan cost $547,725.\n",
      "\n",
      "It cost another family $62,749.35 to fly a child with a malignant brain tumor from Wisconsin to Houston to see a specialist.\n",
      "\n",
      "But these high prices aren't just for cross-country flights. An air ambulance transferred a man from a hospital in Winter Haven, Florida, to one in Orlando for tests, which would be a one-hour drive. The complaint to the Michigan insurance office about that Florida flight said the family faced a $31,253.33 bill.\n",
      "\n",
      "JUST WATCHED $4,680 bill for air ambulance hits 17 years later Replay More Videos ... MUST WATCH $4,680 bill for air ambulance hits 17 years later 02:02\n",
      "\n",
      "Emergency personnel requested another hospital-to-hospital transfer in Arkansas for an X-ray. It cost $37,850, according to a letter to the state insurance department.\n",
      "\n",
      "\"We carry insurance to avoid the catastrophic situations,\" wrote the man, whose name was redacted. \"I don't see where the consumer is getting a fair shake in this deal.\"\n",
      "\n",
      "The desire may be there for change, but nothing's worked.\n",
      "\n",
      "The price of these flights is not regulated by Obamacare. Instead, they fall under the 1978 Airline Deregulation Act , which removed a state's ability to control airfares and routes long before air ambulances were common. October's Federal Aviation Reauthorization Act created a committee to address the problem, but it failed to design a definitive solution, experts say.\n",
      "\n",
      "Air ambulances take off\n",
      "\n",
      "Air ambulances became necessary out of a desperate need to save lives, but some question whether their value remains.\n",
      "\n",
      "In 1966, civilian deaths from accidental injuries were \"a public health problem second only to the ravages of ancient plagues or world wars,\" the National Academy of Sciences wrote at the time.\n",
      "\n",
      "Air ambulances weren't a regular civilian option then, but when researchers discovered that soldiers wounded in the Vietnam War had better survival rates than California motorists injured in car accidents, the US government decided to fund two medical helicopter experiments in 1969. They were successful, and hospitals slowly started creating their own programs.\n",
      "\n",
      "The golden hour\n",
      "\n",
      "A 'cash cow'\n",
      "\n",
      "the three largest air ambulance providers in the United States. Bain Capital bought Air Medical for $1 billion Demand for services wasn't the industry's only growth driver. The Balanced Budget Act of 1997 created a new fee schedule that was much more generous to independent operators and paid more for rural trips. Almost immediately, new companies entered the market. Private equity firms, not hospitals, now ownthe three largest air ambulance providers in the United States. Bain Capital bought Air Medical for $1 billion in 2010 and sold it five years later for $2 billion\n",
      "\n",
      "As private companies got into the market, prices went up. Between 2010 and 2014, the median price that air ambulance companies charged Medicare doubled to nearly $30,000 a ride, according to a 2017 US Government Accountability Office investigation\n",
      "\n",
      "\"They have a cash cow on their hands,\" New Mexico state Rep. Liz Thomson said.\n",
      "\n",
      "Thomson said a state analysis also found a 98% increase in the amount charged by air ambulance providers that weren't covered by insurance between 2009 and 2015. When patients travel on helicopters that are not in-network, insurance will cover little or nothing at all.\n",
      "\n",
      "The Association of Air Medical Services says more firms are accepting insurance -- about a dozen announced that they were going in-network this year -- but still too many do not, Thomson said, and that can be a serious issue.\n",
      "\n",
      "\"If they aren't in a network, they don't have to adhere to the usual customary fees that insurance will pay,\" said Susan Rider, an employee benefits and human capital HR consultant with Gregory & Appel Insurance in Indianapolis. \"They don't have to participate, so they don't, and then essentially, they can charge what they want.\"\n",
      "\n",
      "In 2017, Thomson introduced a bill to cap reimbursement rates and let consumers off the hook for \"balance bills,\" meaning what consumers owe above what insurance pays. The bill failed in the New Mexico Legislature, but she hopes to introduce it again.\n",
      "\n",
      "The air ambulance industry packed the committee hearing room when Thomson introduced the bill, but it was not alone.\n",
      "\n",
      "\"I'm a Democrat and introduce a lot of legislation around patient protection, so I had a running joke that while I don't drink, I would drink a bottle of champagne if the [insurance?] industry ever stood up for any of my bills,\" Thomson said. \"Sure enough, I needed to buy a bottle, because when the chair asked who was in favor of the bill, all these insurance people stood up and said, 'we are.' This practice is costing them a mint. It's outrageous.\"\n",
      "\n",
      "Mike Castleberry , senior vice president of network services and business development for HealthSCOPE Benefits , a national firm that helps major companies manage health plans, said the costs for these services don't add up. \"When you really get into the math, it starts to get embarrassing for the folks running those businesses,\" he said.\n",
      "\n",
      "\"We know what their fuel costs. We know how many hours they fly and how much it costs for a pilot,\" Castleberry said. \"Add up all those factors, even if you give them a 20% profit on top of that, that's still not even half what they are charging me, which is more like 300 to 400 times what it actually costs to fly our customers. When I can go rent a private plane and put medical personnel on board for less than some of these bills, I know it shouldn't cost this much.\"\n",
      "\n",
      "He also notes that a lot of patients whose bills the firm sees, who are told to take these flights, aren't trauma cases. \"They are not for a wreck on the side of the road needing Level I trauma care,\" Castleberry said. \"Only about 15% of the air ambulance charges we see involve those kind of accidents. The vast majority are patient transfers from one facility to the other.\"\n",
      "\n",
      "Castleberry, who has clients across the country, said private operators aren't the only ones making money. \"County governments and city hospitals [which can have their own air ambulance services] also see it as a revenue stream that supports their overall programs,\" he said.\n",
      "\n",
      "The actual costs\n",
      "\n",
      "The air medical transport industry argues that although single flights \"may appear to be expensive,\" they are \"very cost-effective\" compared with building new rural specialty care or expanding ground ambulance capabilities.\n",
      "\n",
      "Staffing an independent helicopter around the clock is expensive. It costs about $3 million to run an independent air medical base that does roughly 300 transports a year, said Chris Eastlee , vice president of government relations for the Association of Air Medical Services.\n",
      "\n",
      "Some in the industry argue the problem is that the Centers for Medicare and Medicaid Services don't pay enough. They created current rates in 2002, based on an estimated 1998 cost pool, increasing reimbursement for inflation only. \"It was never based on real cost collection,\" said Rick Sherlock , the association's ex-officio president and CEO.\n",
      "\n",
      "About 70% to 80% of the patients whom air ambulances transport fall into these categories that the industry argue significantly underpay, like patients with Medicare. This payment is significantly less than the cost of the transportation, Sherlock said.\n",
      "\n",
      "\"Medicare pays about 60% of the cost of the flight; Medicaid pays 35% or less. Self-paid patients pay a few cents on the dollar, and that has led to a crisis of being able to sustain the service,\" Eastlee said. That means about 7 out of 10 of the association's flights are under-reimbursed, he said.\n",
      "\n",
      "If the government reimburses the industry more, Sherlock said, \"you eliminate the need to balance bill.\"\n",
      "\n",
      "The insured pay the costs\n",
      "\n",
      "Anderson, who was billed $54,727.26 total for her air ambulance rescue from the Badlands, got a letter from the air ambulance company's lawyer when she wrote to protest the price. HIs letter explains that 75% of that company's patients are covered by the government or have no insurance at all.\n",
      "\n",
      "\"This governmentally mandated cost shifting means that their cost per transport must be borne by others,\" the letter reads.\n",
      "\n",
      "\"In other words, I may not have had $54,000 worth of treatment, but essentially, they have to make up their costs somehow,\" Anderson said. \"It's not fair at all.\"\n",
      "\n",
      "\"Some of these bills are pretty egregious, and these are consumers who have done everything right,\" Godfread said. \"They have health insurance, they ask questions ahead of time, and often, they don't get to make the choice. It's often the hospital or the EMTs that decide to fly, but consumers are the ones left paying the bills, and there's really no way for consumers to protect themselves.\"\n",
      "\n",
      "Andrei Courier learned that the hard way in June. He got a $41,063.78 bill after the in-network hospital where he took his son Jacob with breathing problems transferred the boy to an out-of-network hospital.\n",
      "\n",
      "Jacob Courier's air ambulance hospital transfer cost $41,063.78.\n",
      "\n",
      "\"First, I could have driven to that other hospital faster,\" Courier said. \"We also had tried to do everything in-network. We did everything right insurance-wise, but we still faced this huge bill.\"\n",
      "\n",
      "His insurance company picked up $8,960.49 of the bill, that meant he would be left paying $32,103.29 out-of-pocket.\n",
      "\n",
      "\"We work hard, we pay our bills on time, and this is how we are repaid,\" Courier said. \"It was so frustrating. That's money we would use for my son's college, not for a short helicopter ride.\"\n",
      "\n",
      "Courier made multiple phone calls to the company, a lawyer and the Mississippi insurance commissioner. He learned that the state has a law that prevents balance billing , which is when insurance covers part of the bill and the patient owes the rest. Eventually, the cost of the flight was forgiven.\n",
      "\n",
      "\"I don't know what the insurance commissioner said to the company, but I finally got a call and was told they weren't going to balance bill me,\" Courier said, but he's still upset.\n",
      "\n",
      "Med Trans Air Medical Transport, which ran the air ambulance that day, referred questions to the Association of Air Medical Services.\n",
      "\n",
      "States try to help\n",
      "\n",
      "Other state insurance offices say usually there's little they can do, beyond holding insurance companies to the letter of their policies. Most offices encourage patients to call with complaints.\n",
      "\n",
      "Though states like Mississippi have balance billing protection, that tactic has had limited success elsewhere, as the courts have ruled that laws affecting air ambulances are federal, not state, jurisdiction.\n",
      "\n",
      "North Dakota tried another approach. Its 2015 law required providers to disclose prices before the flight, upon request. Hospitals that referred a patient to the air ambulance company had to let the patient know the cost ahead of time unless the hospital determined that doing so would jeopardize their health or safety, in which case they would be exempt. The courts overturned that legislation, ruling that it was a federal matter.\n",
      "\n",
      "North Dakota's 2017 legislation requires hospitals to notify patients in non-emergency situations if the helicopter takes their insurance. \"We are optimistic. It is squarely in the claims process that we have the authority to regulate,\" Godfread said. \"It will, however, likely be appealed all the way to the US Supreme Court.\"\n",
      "\n",
      "The Association of Air Medical Services believes that the states can \"help patients right now and help address the issue of balance billing and take patients out of the middle,\" Eastlee said. \"Some insurance only covers a fraction of the price for those transports. We can work together.\"\n",
      "\n",
      "The Office of Emergency Medical Services must establish a mechanism by January to give the patient a \"good faith estimate.\" Virginia is trying another approach. Starting in March, its new law will require hospitals tell patients who don't have an \"emergency medical condition\" that they have a choice between air and ground transportation.The Office of Emergency Medical Services must establish a mechanism by January to give the patient a \"good faith estimate.\"\n",
      "\n",
      "Congress and the law\n",
      "\n",
      "It will probably take an act of Congress to regulate the air ambulance industry. The FAA Reauthorization Act , passed in October, created an advisory committee with all the players involved who will focus on improving price transparency. The law gives the Department of Transportation and the Department of Health and Human Services authority to create new rules. It establishes a hotline and website to track complaints, and it creates an aviation consumer advocate position.\n",
      "\n",
      "\"It was important to me that we craft a solution that not only empowers consumers and patients but lays the groundwork for long-term solutions in the industry,\" said US Rep. Rob Woodall of Georgia, who added the air ambulance-specific language to the bill. \"By creating an aviation consumer advocate, much like the taxpayer advocate for those with complaints against the IRS, my amendment provides a clear mechanism through which consumers can pursue enforcement or corrective actions -- which to this point had been absent in these situations.\"\n",
      "\n",
      "The industry association said that it supports the FAA Reauthorization Act because it \"enhanced consumer protection\" and that the industry does want more transparency and accountability, Eastlee said, \"but we also have to work to sustain the service.\"\n",
      "\n",
      "Sherlock added, \"the amendment does not address the underlying problem to reduce the patient's balance bill .\"\n",
      "\n",
      "For Anderson, Congress is too late. She took her own action. Instead of paying $41,029.53 out of pocket, she offered to settle for $4,100, on top of the $13,000 her insurance paid.\n",
      "\n",
      "\"I thought, I didn't want them to sue me and wanted to get this out of the way and thought 10% more was reasonable,\" Anderson said. For three months, she heard nothing from the company, so she wrote to withdraw her offer. The next month, the company offered to negotiate, documents show, but eventually, it accepted her offer.\n",
      "\n",
      "Anderson's recovered from her injuries. And Cody, her horse, is OK. She brought him some extra feed to thank him, as the X-rays detected another medical issue she is now in treatment for. But the experience with the air ambulance still bothers her.\n",
      "\n",
      "Get CNN Health's weekly newsletter Sign up here to get The Results Are In with Dr. Sanjay Gupta every Tuesday from the CNN Health team.\n",
      "\n",
      "\"For a little more than 45 minutes of service, they were asking for more than what my surgeon charged. It's not fair,\" Anderson said. \"I've since talked to other people who have been transported with no surprise bills, I think air ambulances can run in a fair manner, but the way it is currently done seems unfair and unreasonable. No one should feel shocked or panicked by a bill like this. No one ever.\"\n",
      "__________________________________________________________________________________\n",
      "\n",
      "(CNN) An Indiana school superintendent is accused of pretending a sick student was her son so she could get him treatment. She's been arrested and charged with fraud, but the school board says it stands behind her.\n",
      "\n",
      "According to court documents that detail the charges made Wednesday, Casey Smitherman, the superintendent of the Elwood School District, relied on her son's insurance when she was unable to get a sick 15-year-old treatment because she wasn't his guardian.\n",
      "\n",
      "She noticed the student was missing from school on January 9 and checked on him at his house, where she decided he needed to see a doctor because of a sore throat.\n",
      "\n",
      "\"After making sure he had eaten, I could tell he had some of the symptoms of strep throat,\" Smitherman said in a statement obtained by CNN affiliate WXIN . \"As a parent, I know how serious this illness can be if left untreated, and I took him to an emergency clinic.\"\n",
      "\n",
      "Smitherman was denied service because the child was a minor and she wasn't his guardian. She decided to take him to another clinic, where she checked the student in under her son's name and insurance. The student was prescribed amoxicillin and Smitherman picked up the medicine for him at CVS pharmacy before dropping him off at home.\n",
      "\n",
      "Read More\n",
      "__________________________________________________________________________________\n",
      "\n",
      "Portland, Oregon (CNN) All Erika Zak wants to do is play with her daughter on the playground. Take her to the zoo. Walk her to school.\n",
      "\n",
      "She's never been able to be the mother she longs to be.\n",
      "\n",
      "At 38, Erika is dying.\n",
      "\n",
      "Her battle to live began almost as soon as her daughter, Loïe, was born four years ago, when Erika was diagnosed with stage 4 metastatic colon cancer that had spread to her liver.\n",
      "\n",
      "The cancer was removed from her colon and, her doctors say, she responded well to treatment. But a microwave ablation surgery last year to remove two tumors from her liver went terribly wrong, leaving a fist-sized hole in her liver and destroying her bile ducts.\n",
      "\n",
      "Every day since has been a fight to survive. She's been hospitalized 19 times in Oregon over the last 12 months for infections, bleeding and an array of other health issues.\n",
      "\n",
      "She has high blood pressure in her liver, which backs up the veins in her esophagus and can be catastrophic. Her surgical oncologist constantly worries she will fall ill with a bad infection and die.\n",
      "\n",
      "Without a liver transplant, her doctors say Erika will likely die before the end of the year.\n",
      "\n",
      "\"Every time she calls me and has a fever and some bleeding, we all hold our breath, worried: Will this be the time Erika bleeds to death?\" says Dr. Skye Mayo, her surgical oncologist at Oregon Health & Science University.\n",
      "\n",
      "\"This is kind of the end game of what liver failure looks like.\"\n",
      "\n",
      "More than 100 doctors at three of the nation's top medical centers have weighed in on her case, which is complex and exceedingly rare. Their conclusion: The only way to save Erika's life is to give her a new liver.\n",
      "\n",
      "After weeks of evaluation at the Cleveland Clinic in December and January, Erika finally got her big break.\n",
      "\n",
      "On February 2, doctors there approved putting her on the wait list for a liver transplant.\n",
      "\n",
      "The news changed everything. Erika finally had hope. Around the house, 4-year-old Loïe would say, \"Mommy, when you get a new liver, can you push me in the swing?\"\n",
      "\n",
      "But Erika hit an immediate wall. Her insurer, UnitedHealthcare, denied coverage for the transplant, saying it would not be a \"promising treatment.\" She appealed and was rejected again.\n",
      "\n",
      "The mom who desperately wanted to live looked into Oregon's Death with Dignity program. Erika had written a letter to her daughter months ago to be read after she died. Now she worried Loïe might receive it sooner than Mom had planned:\n",
      "\n",
      "Dear Loïe,\n",
      "\n",
      "If you're reading this, I'm probably not on this earth anymore. So please remember this:\n",
      "\n",
      "I am with you always; even if you can no longer see my face or feel my hands through your hair. I am with you when you look up to the sky and see tiny birds flying free or the stars twinkling in your eyes. I am with you when you feel a perfect, warm breeze upon your sweet face.\n",
      "\n",
      "Erika wasn't going to give up. Her little girl with bright blue eyes was a constant reminder of all that is precious.\n",
      "\n",
      "Outraged and heartbroken, Erika wrote a four-page letter to the CEO of UnitedHealth Group, the parent company of UnitedHealthcare (UHC), giving him a piece of her mind about what she felt was a rigged review process, riddled with errors, that determined her life wasn't worth saving.\n",
      "\n",
      "Weeks passed until the company reached a decision. Despite her plea, the answer was the same: Denied.\n",
      "\n",
      "Then, last week, an amazing thing happened.\n",
      "\n",
      "Erika Zak and her husband, Scott Powers, lock hands during a recent hospital visit. The two met 20 years ago.\n",
      "\n",
      "'My life hangs in the balance'\n",
      "\n",
      "If it's true that opening your heart, revealing your feelings, unleashes freedom and makes you whole, Erika turned to one of the things she loves most in an effort to save her life. Writing.\n",
      "\n",
      "It was early April. She sat at her computer, her keyboard clacking. She wasn't going to leave her husband, Scott Powers, and their daughter Loïe behind without trying her damnedest to stay on this Earth for as long as possible.\n",
      "\n",
      "There was too much at stake.\n",
      "\n",
      "UnitedHealthcare had overruled her treating physicians and denied the transplant, saying \"unproven health services is not a covered benefit.\" The words burned, like chemo. Her first appeal went nowhere, and she felt trapped in a labyrinth of red tape.\n",
      "\n",
      "The young mother -- frail from having lost 20 pounds in the past year, her skin and eyes yellow from jaundice -- felt the only way to get a new liver was to plead her case directly to the CEO of UnitedHealth Group, David Wichmann.\n",
      "\n",
      "Her frame may be tiny, but don't mistake that for weakness. She is one of the strongest women you will ever meet.\n",
      "\n",
      "As she typed, Erika bared her soul. Of longing to live. Of seeing her daughter grow up. Of the need for \"my only option,\" a liver transplant.\n",
      "\n",
      "\"Given that my life hangs in the balance based on this review,\" she wrote, \"it is unconscionable that it has not been undertaken with the level of competence and professionalism anyone would expect of UHC.\"\n",
      "\n",
      "She blasted what she called the \"shockingly incompetent manner\" in which the country's largest insurance company handled her case. She outlined what she described as a series of errors made in the review process -- ranging from UHC saying her liver failure stems from \"chemotherapy toxicity\" to an insurance medical director who erroneously said she had \"life-threatening lesions.\"\n",
      "\n",
      "\"Neither are true,\" she wrote Wichmann. \"(UHC's) handling of my case has been plagued by unnecessary delays, incomplete responses, inept scheduling, contradictory statements, and worst of all repeated factual errors regarding my medical history.\n",
      "\n",
      "\"Most importantly, decisions based on inaccurate information and analysis have already delayed my listing and transplant two months.\"\n",
      "\n",
      "Loie has been with her mother throughout the process. Erika calls her \"my tiniest, most amazing companion.\"\n",
      "\n",
      "One review doctor noted she had a \"9cm tumor\" in her liver, she wrote, apparently unaware that was actually the hole from the ablation surgery resulting in her chronic liver failure.\n",
      "\n",
      "\"I have been doing every single thing I possibly can do to stay alive for these past four years, scratching and clawing by day and praying every night an opportunity like this would come along,\" Erika wrote. \"Now, when the promise of my long-term survival is actually greatest, I need UHC's support more than ever.\"\n",
      "\n",
      "She sent the letter via FedEx on April 11.\n",
      "\n",
      "Her concerns were valid. Her transplant team at the Cleveland Clinic made clear to UHC's appeals unit the primary cause of her liver failure was not from chemo toxicity or cancer, but instead was the result of \"a consequence of complications following microwave ablation.\"\n",
      "\n",
      "\"Of note, what mainly drives the indication of liver transplantation in this case is liver failure and NOT liver metastases from colorectal cancer, which makes the patient's post-transplant oncologic outcome more encouraging,\" wrote Dr. Federico Aucejo, the director of the Cleveland Clinic's Liver Cancer Program, in an appeal on Erika's behalf on March 6. He did note that she had some chemotoxicity, which was a secondary cause of liver failure.\n",
      "\n",
      "\"The opinion of the experienced Cleveland Clinic multidisciplinary liver transplant committee (is) that liver transplantation would prolong this young patient's life substantially, and that there is NO other treatment alternative that could match this outcome at this point in time.\"\n",
      "\n",
      "Two days after sending her letter, Erika and her husband were told the UHC executive team had received it and that her case was undergoing further review.\n",
      "\n",
      "Several times, the family said it was told a decision would be made by a certain date; those dates came and went without a decision.\n",
      "\n",
      "As time wore on, Erika grew ill with a high fever and was hospitalized for several days. It was the fifth time she'd been admitted since February 2, the day Cleveland Clinic doctors approved her for a transplant.\n",
      "\n",
      "On Instagram, she posted an illustration with the words \"waiting, waiting, waiting\" on a pink backdrop with black crosses.\n",
      "\n",
      "\"Waiting for insurance to approve the only thing that will save me: a liver,\" she wrote. \"Waiting for my liver to fail completely; waiting to die. Waiting to be saved.\"\n",
      "\n",
      "Erika has undergone multiple surgeries and faced more than 70 rounds of chemotherapy.\n",
      "\n",
      "'Wait or die'\n",
      "\n",
      "More than 100,000 Americans are on wait lists for organ transplants, and every hour someone dies while waiting for the life-saving surgery, said Dr. Andrew Cameron, the chief of transplant surgery at Johns Hopkins and the surgical director of its liver transplant program.\n",
      "\n",
      "For liver transplants, 20,000 Americans are on the wait list and only 7,000 will receive a new liver in 2018, according to Cameron, who is not connected to Erika's case.\n",
      "\n",
      "\"The lucky few undergo a transformative life-saving procedure,\" he said. \"Those who don't get that lottery ticket wait or die.\"\n",
      "\n",
      "Transplant teams at hospitals spend hours upon hours -- months even -- assessing and debating whether a patient is a good candidate for a transplant, Cameron said, typically with more than a dozen doctors weighing in.\n",
      "\n",
      "It is deeply disturbing, he said, when an insurance company overrules the \"decision made by a thoughtful, careful transplant team to utilize one of society's limited resources -- that precious gift to save somebody's life.\"\n",
      "\n",
      "The negotiated cost for a liver transplant for an insurance company is roughly $200,000, Cameron said, adding it is \"exceedingly rare\" for an insurer to deny a transplant.\n",
      "\n",
      "\"That is highly unusual and highly undesirable,\" Cameron told CNN.\n",
      "\n",
      "In Cleveland, Dr. Aucejo is trailblazing the field for patients like Erika, having performed the only two transplants in America this century on people suffering from what is called unresectable metastasis in the liver from colorectal cancer.\n",
      "\n",
      "It's groundbreaking and could prove transformative.\n",
      "\n",
      "\"I hope that we can achieve good results and set precedent,\" he said.\n",
      "\n",
      "Dr. Skye Mayo, a surgical oncologist at Oregon Health & Science University, has treated Erika Zak since 2015.\n",
      "\n",
      "When you're trying such a new approach, Dr. Aucejo said, it can be difficult getting insurers to agree to treatment and he wished getting them aboard could be done \"in a more expeditious way.\"\n",
      "\n",
      "He explained that in the late 1980s and 1990s, surgeons tried transplants on patients like Erika with \"unresectable metastasis in the liver from colorectal cancer,\" but the \"outcomes were not good.\"\n",
      "\n",
      "Only 18% of the patients lived past five years, so the transplants were stopped, Dr. Aucejo said. But, he emphasized, most of the bad outcomes were the result of technical complications and post-transplant management, not from the cancer returning. The field of transplants has greatly improved in the decades since, he said.\n",
      "\n",
      "Doctors in Europe, primarily in Norway, have begun changing the field, he said, finding that about 50-60% of patients with Erika's condition survive a transplant past five years.\n",
      "\n",
      "That is a substantial difference, he said.\n",
      "\n",
      "Dr. Mayo, Erika's surgical oncologist in Oregon, said no one at the insurance company reached out to him during the review process \"to help explain the facts of her case.\"\n",
      "\n",
      "That is troubling, he said, especially when it's one of the most complicated cases a doctor will ever see.\n",
      "\n",
      "\"It is frustrating when it seems that the facts aren't all being considered,\" Dr. Mayo said.\n",
      "\n",
      "\"Her life now is not limited by her cancer,\" he said. \"It's limited by the fact she will go into liver failure and die within the next several months if she doesn't have a liver transplant.\"\n",
      "\n",
      "Erika wrote a note for her daughter if she does not survive: \"I am with you always; even if you can no longer see my face or feel my hands through your hair.\"\n",
      "\n",
      "When opposites attract\n",
      "\n",
      "Erika was in the prime of her life. At 34, she'd given birth to her first and only child, Loïe, the little girl who Mom calls \"my tiniest, most amazing companion.\"\n",
      "\n",
      "She'd been married to the love of her life for four years. She and Scott met in 1998 when he was at Brown University and she was at the Rhode Island School of Design, both in Providence.\n",
      "\n",
      "The two were polar opposites. He was the MVP of Brown's soccer team and majored in economics. She was into the arts and majored in textile design. He was from the tightly wound East Coast, she from the free-wheeling West Coast.\n",
      "\n",
      "The connection wasn't immediate, so Erika had a mutual friend slip a tiny drawing to Scott. It contained her phone number; he called it.\n",
      "\n",
      "Soon they clicked. Scott made her laugh and feel beautiful. Erika saw in him someone who was kind and devoted; in her, he found the woman who he'd always searched for, with a captivating sense of humor and a sailor's mouth.\n",
      "\n",
      "They tied the knot on Halloween in 2009 in the wine country of Healdsburg, California.\n",
      "\n",
      "Her career was taking off, too. She was working for Old Navy, choosing and designing the fabrics, prints and plaids for the company's baby and toddler division. While she was pregnant, she was promoted to senior textile designer.\n",
      "\n",
      "\"It was all coming together,\" she wrote on her blog. \"And then, like that, my foundation crumbled.\"\n",
      "\n",
      "During the final trimester of her pregnancy, she'd experienced pain in her stomach. It was thought to be nothing more than part of the difficulties of pregnancy. But in the weeks after delivery, the pain grew excruciating and she felt a lump on her side.\n",
      "\n",
      "On April 8, 2014, she received the awful news -- that she had stage 4 metastatic colon cancer that had spread to her liver. Her daughter was just 3 months old.\n",
      "\n",
      "\"Worst Day Ever\" read the headline of her blog.\n",
      "\n",
      "She had survived cancer once before. At 28, she was diagnosed with thyroid cancer. Her thyroid was removed, and life continued as normal. It was nothing close to a stage 4 diagnosis.\n",
      "\n",
      "In the years after her colon cancer diagnosis, she blogged about most everything. Of losing her father to Alzheimer's at age 83. Of the pain over two friends' deaths -- including an oncologist she'd met in a cancer support group.\n",
      "\n",
      "\"Have you ever cried and screamed so hard that the blood vessels around your eyes burst?\" she wrote.\n",
      "\n",
      "In her blog posts, she was brutally honest about her cancer and the effects of chemotherapy.\n",
      "\n",
      "Erika and Scott Powers met in college while they were both in school in Rhode Island.\n",
      "\n",
      "She'd sit on the shower floor in a fetal position, screaming and sobbing. It was \"anguish and pain and longing for my former life and utter disbelief for the war my body was waging on itself,\" she blogged.\n",
      "\n",
      "Her fingertips felt like they had been \"burned on a hot pan most of the time.\" Her hands cramped into weird, contorted positions. Her hair was dry and brittle, like straw. Her energy was so drained she felt twice her age.\n",
      "\n",
      "As a teen, she'd suffered debilitating depression and anxiety that was so bad at times, she said, \"I hoped that I could just disappear forever.\"\n",
      "\n",
      "\"It's funny how afraid I am of that now: disappearing. How much I want to live. How important it feels to be here,\" she wrote on December 1, 2016, two and half years into her cancer battle.\n",
      "\n",
      "She would face multiple surgeries and undergo more than 70 rounds of chemo. On February 28, 2017, she wrote:\n",
      "\n",
      "\"This is chemo day. Scream in your pillow day. Hide in the shower day. Lie to your baby day. Tell her you're going to work day. Vials and vials of blood day. Tell your doctor you're angry day. Make your husband cry day. Poison your body day.\"\n",
      "\n",
      "On another day, she penned: \"Cancer is a slow form of torture. It strips you of dignity; of peace of mind; of stability.\"\n",
      "\n",
      "On April 4, 2017, nearly three years to the day of her diagnosis, she and her daughter had a soul-crushing conversation. The cancer had been eradicated from her colon shortly after the diagnosis, but it remained in her liver.\n",
      "\n",
      "\"Mommy, are you going to last?\" Loïe asked.\n",
      "\n",
      "\"What do you mean, Loïe?\"\n",
      "\n",
      "\"Will you be here forever and ever?\" the girl asked.\n",
      "\n",
      "\"I really don't know, babe.\"\n",
      "\n",
      "As she awaited word from her insurer about the transplant, Erika said, \"I'm mad and grouchy, but I still feel like I have a fighting chance.\"\n",
      "\n",
      "Six days later, Erika underwent the ablation surgery at a facility in New York to target two small tumors on her liver. Something went wrong. She ended up with the hole in her liver.\n",
      "\n",
      "To save her life, surgeons had to block off the veins and arteries going to her liver. The entire central part of her liver died, Dr. Mayo said. Two bags are now attached to her abdomen to drain the bile.\n",
      "\n",
      "With bile going immediately outside her body, instead of through the liver and her body, Erika was susceptible to extreme sickness and potential fatal bleeds.\n",
      "\n",
      "\"All of those things culminated in what is now liver failure for her,\" Dr. Mayo said. \"She's in this cycle right now where she's losing on a daily basis some of her body's most vital fluids.\"\n",
      "\n",
      "The cancer in her liver, meanwhile, was progressing on a path, he said, where \"she would die of cancer.\" She could no longer tolerate any standard form of chemo treatment.\n",
      "\n",
      "Her doctors in Oregon last fall tried one last treatment to fend off her cancer: a groundbreaking immunotherapy cancer drug called pembrolizumab, known by its brand name Keytruda.\n",
      "\n",
      "Her sky-high tumor marker levels fell to normal. \"She had an incredible response to this new drug,\" Dr. Mayo said. \"I think all of the cancer remaining in her body is dead at this point. What she will die of is liver failure.\"\n",
      "\n",
      "With a new liver, he said, her problems with bleeding and high blood pressure could be resolved. Her jaundice would be gone, too.\n",
      "\n",
      "But transplant surgery is not without major risks.\n",
      "\n",
      "Most of those who've received a transplant with unresectable metastasis in the liver from colorectal cancer, Cleveland's Dr. Aucejo said, experience a recurrence of cancer within 12 months.\n",
      "\n",
      "Most of the cancers that return can be treated with standard care, like chemotherapy or surgery, he said, profoundly prolonging their lives.\n",
      "\n",
      "For a small subset of patients, though, the cancer comes back aggressively and it's not treatable with chemo or surgery, he said. \"Unfortunately in that subset of patients, the survival is more dismal.\"\n",
      "\n",
      "While it's impossible to predict the outcome, he said, Erika shows \"features that may do well.\" There's no evidence cancer has spread beyond her liver, he said.\n",
      "\n",
      "Plus, patients who had their colon cancer removed two years or more before the transplant, Dr. Aucejo said, tend do well. Erika had the cancerous portion of her colon removed in 2014: \"That's a good indicator.\"\n",
      "\n",
      "Dr. Aucejo also emphasized the criteria for transplant qualification is stringent and that Erika shows promise.\n",
      "\n",
      "\"We're talking about distributing limited organs,\" he said. \"Again, we have to be very careful that we're not giving organs to people who are not going to benefit from it when there's people dying with standard indications because there's not enough organs.\"\n",
      "\n",
      "Erika Zak comes to the hospital every three weeks for a groundbreaking immunotherapy drug. Her doctors says that without it, she would have died of cancer.\n",
      "\n",
      "'This is so messed up'\n",
      "\n",
      "In the days and weeks after Erika fired off her letter to the CEO, her husband, Scott, worked the phones.\n",
      "\n",
      "He felt lost in an endless loop of delays and broken promises as to when the insurer would reach its decision.\n",
      "\n",
      "Finally, they were told a decision would come May 2.\n",
      "\n",
      "Erika couldn't sleep the night before. She pulled out her phone and recorded a message, weeping for much of the video.\n",
      "\n",
      "\"My life is literally in their hands, and every day I feel myself kind of fading away more and more,\" she says. \"I don't want to leave. I don't want to die.\"\n",
      "\n",
      "The next day came. Each minute crept by.\n",
      "\n",
      "Shortly after 2 p.m., Scott's phone rang.\n",
      "\n",
      "It was their point of contact with UnitedHealthcare.\n",
      "\n",
      "He had crushing news: Denied.\n",
      "\n",
      "He explained Erika's case was sent back to the three reviewing doctors. One of them, he said, \"changed his decision from 'not promising' to 'promising.'\"\n",
      "\n",
      "However, the other two doctors ruled the transplant not to be promising: \"The bottom line is they're upholding that decision.\"\n",
      "\n",
      "The doctor who sided in favor of the transplant, their UHC contact told them, was the only one of the three who talked directly with her transplant surgeon.\n",
      "\n",
      "Scott grew furious. \"Honestly, you know that is messed up,\" he said. \"I don't know who you've got to go to, but I would go to someone now and have someone call us, because this is so messed up.\"\n",
      "\n",
      "Scott Powers has advocated for his wife since she was first diagnosed with cancer.\n",
      "\n",
      "Scott pressed for more information. He got little.\n",
      "\n",
      "\"Scott, I know what you've been through,\" the UHC rep told him. \"I know what you're going through.\"\n",
      "\n",
      "Erika sat silently for the first 10 minutes of the conservation, absorbing the news and what it meant for her fate. But at those words, it was time to speak up.\n",
      "\n",
      "\"Hey!\" she shouted. \"This is Erika, and you've never heard from me before. You don't know what we're going through. Because I'm dying.\"\n",
      "\n",
      "Through tears, she said, \"I need a liver transplant, and I need it now.\"\n",
      "\n",
      "The UHC rep confided he \"was not hoping for this outcome. I was hoping that I'd have good news.\"\n",
      "\n",
      "He suggested Erika and Scott fax over any new information they thought might be relevant. He also acknowledged the delays in recent weeks were not in keeping with the company's policies.\n",
      "\n",
      "\"Someone needs to be accountable for this,\" he said. \"You know, why, when we have these guidelines in place, did we not follow them?\n",
      "\n",
      "\"That needs to be looked into,\" he said, adding, \"I'm not trying to sweep anything under the rug.\"\n",
      "\n",
      "He apologized for having to be the bearer of bad news, saying his goal had been to end the day on a positive note.\n",
      "\n",
      "\"Like I said, I wish I had better news.\"\n",
      "\n",
      "After more than 30 minutes, he ended with: \"Have a good night, OK.\"\n",
      "\n",
      "Not the words the couple wanted to hear.\n",
      "\n",
      "Erika went numb. Heartbroken and angry didn't even begin to describe her feelings.\n",
      "\n",
      "Scott felt equally distraught. \"I just want her to get a liver,\" he said. \"She deserves that.\"\n",
      "\n",
      "The CEO never responded -- not by email, phone or letter.\n",
      "\n",
      "Erika Zak says her will to live is motivated by her daughter, Loïe. Here, they play on the couch as the family dog, Maddie, watches.\n",
      "\n",
      "A sudden change\n",
      "\n",
      "Five days later, on Monday, May 7, a surprise call came. Erika and Scott were preparing Loïe for school when Scott's phone rang.\n",
      "\n",
      "They had spent the weekend trying to figure out their next move, while trying not to focus too much on when Erika might need Death with Dignity. They knew they had one appeal left, and they didn't want to blow it.\n",
      "\n",
      "They hadn't sent any new information since the last call.\n",
      "\n",
      "It was their UHC rep on the phone. This time, he had good news: The insurer would cover Erika's transplant.\n",
      "\n",
      "When Scott heard she'd been approved, he jumped up and down. Erika watched him from across the room.\n",
      "\n",
      "There was no explanation for the change. They were told to focus on Erika's health and next steps.\n",
      "\n",
      "Erika called her mother, who unleashed a guttural scream at work.\n",
      "\n",
      "Loïe has grown excited at the prospect of her mother's transplant. Erika just wants to be able to walk her to school or take her to the playground.\n",
      "\n",
      "Dr. Mayo was preparing for surgery when he took Scott's call. Elation spread across the Knight Cancer Institute at Oregon Health & Science University where doctors, nurses and staff celebrated.\n",
      "\n",
      "In Cleveland, Dr. Aucejo heard the welcome news from his transplant coordinator. He'd not spoken with anyone at UHC about the case in the five days since the previous denial.\n",
      "\n",
      "\"They had decided on their own. We hadn't gotten back to them,\" he said. \"I'm happy they ended up sharing our vision.\"\n",
      "\n",
      "I had been speaking with Erika and Scott for this story over the last month and had reviewed her medical records extensively. During the May 2 phone call in which Erika was told her transplant had been denied, Scott told the UHC rep that the couple had been speaking with a member of the national news media.\n",
      "\n",
      "I was on a flight to Oregon when they received the joyous news. \"UHC just called and approved Erika. Unreal. Know you're in flight but call whenever,\" Scott texted.\n",
      "\n",
      "When we met a couple hours later, Erika's emotions were still raw. She thought this would be her last Mother's Day. Now, suddenly, she has hope for more.\n",
      "\n",
      "Glancing at her daughter and husband, Erika broke down in tears.\n",
      "\n",
      "\"I can't imagine not being here,\" she said. \"It's not because I keep the family together or anything. It's just the love I have for them.\"\n",
      "\n",
      "\"Mommy, why are you crying?\" Loïe said.\n",
      "\n",
      "\"I'm crying because I love you.\"\n",
      "\n",
      "Loïe placed her fingers in her mother's right hand.\n",
      "\n",
      "\"Love you,\" Loïe said.\n",
      "\n",
      "As she and Loïe locked hands, the tattoo on Erika's wrist displayed a fitting message: \"Be brave.\"\n",
      "\n",
      "During her cancer fight, Erika and her twin sister got matching tatoos with one message: \"Be brave.\"\n",
      "\n",
      "Epilogue\n",
      "\n",
      "UnitedHealthcare declined to answer CNN's questions about the handling of Erika's case, except to issue this one-sentence statement:\n",
      "\n",
      "\"We had on-going conversations with her husband and contacted him as soon as the decision was made to approve the transplant request.\"\n",
      "\n",
      "Even after the approval, Erika said she still wanted to move forward with the story, to speak up for others who've experienced the pain of similar denials. To let them know they're not alone. To encourage them to be their own best advocates.\n",
      "\n",
      "It can mean the difference between life and death.\n",
      "\n",
      "\"No one should have to fight and work that hard,\" she said, \"especially when I have all these doctors saying it will save my life.\"\n",
      "\n",
      "Since the approval, the family has been preparing to move to Cleveland for Erika's surgery and recovery at the Cleveland Clinic. Erika was officially notified Friday morning she was placed on the liver transplant wait list.\n",
      "\n",
      "It's impossible to know how long the family will be in Cleveland or when the transplant will occur. Transplant candidates are given what is known as a \"MELD score,\" ranging from 6 to 40. Those closest to 40 are given the highest priority.\n",
      "\n",
      "Erika's MELD score has hovered around 22. If her score is still in that range, Dr. Aucejo said, her transplant could be a few months away.\n",
      "\n",
      "\"But this varies a lot,\" he said. \"There are many variables at play here.\"\n",
      "\n",
      "A patient for a liver transplant, he said, is typically hospitalized 7 to 10 days for the procedure, with a recovery time of 4 to 8 weeks before the patient resumes normal activities.\n",
      "\n",
      "Would Erika have had the transplant by now if the surgery had been approved in February?\n",
      "\n",
      "Every day Erika says she can feel her body deteriorating. \"I don't want to die,\" she says.\n",
      "\n",
      "\"That is very speculative, at the least,\" Dr. Aucejo said. \"I couldn't say that.\"\n",
      "\n",
      "He chose his words carefully, saying it's a \"complex dynamic\" between hospitals and insurance companies and he doesn't want to upset that balance.\n",
      "\n",
      "\"She's been approved and that's what matters -- and hopefully we can move forward with her transplant.\"\n",
      "\n",
      "Dr. Aucejo said he can somewhat understand the insurance company's initial reluctance at coverage because the procedure is so rare for patients with Erika's condition.\n",
      "\n",
      "\"It's a new territory,\" he told CNN. \"I can't blame anybody.\"\n",
      "\n",
      "If Erika receives her transplant and succeeds, Dr. Aucejo said, she could help set precedent for many others down the road.\n",
      "\n",
      "More than anything, she would finally get a chance to be the mother she wants to be.\n",
      "__________________________________________________________________________________\n",
      "\n"
     ]
    }
   ],
   "source": [
    "search(searchstr)"
   ]
  },
  {
   "cell_type": "code",
   "execution_count": 83,
   "metadata": {
    "collapsed": false
   },
   "outputs": [
    {
     "data": {
      "text/html": [
       "<div>\n",
       "<style scoped>\n",
       "    .dataframe tbody tr th:only-of-type {\n",
       "        vertical-align: middle;\n",
       "    }\n",
       "\n",
       "    .dataframe tbody tr th {\n",
       "        vertical-align: top;\n",
       "    }\n",
       "\n",
       "    .dataframe thead th {\n",
       "        text-align: right;\n",
       "    }\n",
       "</style>\n",
       "<table border=\"1\" class=\"dataframe\">\n",
       "  <thead>\n",
       "    <tr style=\"text-align: right;\">\n",
       "      <th></th>\n",
       "      <th>text</th>\n",
       "      <th>category</th>\n",
       "    </tr>\n",
       "  </thead>\n",
       "  <tbody>\n",
       "    <tr>\n",
       "      <th>0</th>\n",
       "      <td>[5341, 6934, 3628, 2710, 1953, 4877, 7748, 892...</td>\n",
       "      <td>sport</td>\n",
       "    </tr>\n",
       "    <tr>\n",
       "      <th>1</th>\n",
       "      <td>[7376, 6516, 4386, 8822, 739, 427, 3396, 4332,...</td>\n",
       "      <td>sport</td>\n",
       "    </tr>\n",
       "    <tr>\n",
       "      <th>2</th>\n",
       "      <td>[5606, 6769, 6934, 5815, 4290, 5166, 6769, 882...</td>\n",
       "      <td>sport</td>\n",
       "    </tr>\n",
       "    <tr>\n",
       "      <th>3</th>\n",
       "      <td>[5727, 7071, 236, 7440, 5727, 4315, 8263, 8905...</td>\n",
       "      <td>sport</td>\n",
       "    </tr>\n",
       "    <tr>\n",
       "      <th>4</th>\n",
       "      <td>[7599, 3697, 6992, 2951, 8022, 8079, 6721, 296...</td>\n",
       "      <td>sport</td>\n",
       "    </tr>\n",
       "  </tbody>\n",
       "</table>\n",
       "</div>"
      ],
      "text/plain": [
       "                                                text category\n",
       "0  [5341, 6934, 3628, 2710, 1953, 4877, 7748, 892...    sport\n",
       "1  [7376, 6516, 4386, 8822, 739, 427, 3396, 4332,...    sport\n",
       "2  [5606, 6769, 6934, 5815, 4290, 5166, 6769, 882...    sport\n",
       "3  [5727, 7071, 236, 7440, 5727, 4315, 8263, 8905...    sport\n",
       "4  [7599, 3697, 6992, 2951, 8022, 8079, 6721, 296...    sport"
      ]
     },
     "execution_count": 83,
     "metadata": {},
     "output_type": "execute_result"
    }
   ],
   "source": [
    "df_clean.head()"
   ]
  },
  {
   "cell_type": "code",
   "execution_count": null,
   "metadata": {
    "collapsed": true
   },
   "outputs": [],
   "source": []
  }
 ],
 "metadata": {
  "kernelspec": {
   "display_name": "Python 3",
   "language": "python",
   "name": "python3"
  },
  "language_info": {
   "codemirror_mode": {
    "name": "ipython",
    "version": 3
   },
   "file_extension": ".py",
   "mimetype": "text/x-python",
   "name": "python",
   "nbconvert_exporter": "python",
   "pygments_lexer": "ipython3",
   "version": "3.6.6"
  }
 },
 "nbformat": 4,
 "nbformat_minor": 0
}
