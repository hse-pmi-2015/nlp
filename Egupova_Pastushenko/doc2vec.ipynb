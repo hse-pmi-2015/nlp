{
 "cells": [
  {
   "cell_type": "code",
   "execution_count": 72,
   "metadata": {
    "collapsed": true
   },
   "outputs": [],
   "source": [
    "import numpy as np\n",
    "import pandas as pd\n",
    "from sklearn.utils import shuffle"
   ]
  },
  {
   "cell_type": "code",
   "execution_count": 87,
   "metadata": {
    "collapsed": false
   },
   "outputs": [
    {
     "name": "stdout",
     "output_type": "stream",
     "text": [
      "268 30\n"
     ]
    }
   ],
   "source": [
    "from sklearn.datasets import fetch_20newsgroups\n",
    "import enchant\n",
    "import gensim\n",
    "dict_eng = enchant.Dict('en')\n",
    "\n",
    "df= pd.read_pickle(\"df\")\n",
    "text =np.asarray(df.text)\n",
    "labels=np.asarray(df.category)\n",
    "text, labels = shuffle(text, labels)\n",
    "\n",
    "texts_train = text[:268]\n",
    "texts_test = text[268:]\n",
    "print(len(texts_train), len(texts_test))"
   ]
  },
  {
   "cell_type": "code",
   "execution_count": 88,
   "metadata": {
    "collapsed": true
   },
   "outputs": [],
   "source": [
    "labels_train = labels[:268]\n",
    "labels_test = labels[268:]"
   ]
  },
  {
   "cell_type": "code",
   "execution_count": 89,
   "metadata": {
    "collapsed": false
   },
   "outputs": [
    {
     "data": {
      "text/plain": [
       "'(CNN) When Sonya Kennedy learned that her 12-year-old son, Ryder, had tried vaping, she was \"mortified.\"\\n\\n\"He honestly didn\\'t think that there was anything wrong,\" Kennedy said. \"He told me that almost all the grade-sevens were doing it.\"\\n\\nAnd she soon realized that the trend had reached many more kids in her orbit: Kennedy, who owns a dance studio in Northern California, found that most of her dancers had tried vaping, too. She learned that kids were vaping at school, taking puffs inside their shirts and in some cases charging their e-cigarettes in their teacher\\'s own computer, she said.\\n\\nMeanwhile, many parents seemed oblivious.\\n\\n\"It\\'s a bad habit that I started realizing parents didn\\'t know about,\" she said.\\n\\nHealth experts say parents whose kids are vaping often don\\'t know what to do or where to turn for help.\\n\\nWhile federal authorities grapple with how to regulate e-cigarettes on a broad scale and while leading tobacco company Altria invests billions in e-cigarette maker Juul, parents are scrambling at home to deal with nicotine dependence -- or to prevent their kids from getting hooked on something that\\'s ubiquitous at many schools. Some are even approaching addiction rehab programs in hopes of weaning their kids off these products.\\n\\n\"It\\'s all over social media,\" Kennedy said, and popular among star athletes in her community.\\n\\nAs a mother, Kennedy said, she understands the role that peer pressure can play with fads like e-cigarettes. And as the mother of an athlete -- Ryder is an avid football and basketball player -- Kennedy said she knew that she had to do something. So she asked a local business to print a few T-shirts with a straightforward message: \"Athletes don\\'t vape.\" She didn\\'t know that it would catch on.\\n\\nRyder called his mother the first day he wore the shirt to school, saying that some of his friends wanted their own. Kennedy also shared photos of the shirt on Facebook and received requests from people in Los Angeles, Sacramento and Canada who wanted in on the positive message. She even invited local athletes to a photo shoot and posted the results on social media -- and they actually showed up on a Sunday morning, to her surprise.\\n\\n\"The response of the kids was what blew my mind,\" Kennedy said.\\n\\nSonya Kennedy started a campaign against youth e-cigarette use with the slogan \"Athletes don\\'t vape.\"\\n\\nWell over 500 shirts have been printed, she said; most have been given away in conjunction with Ryder\\'s middle school and Kennedy\\'s dance company , and others continue to be sold at cost. Kennedy said her goal is to share a positive message and raise awareness among kids and parents alike.\\n\\n\"It can be frightening for some parents [and] anxiety-provoking for parents to realize that their kids are vaping,\" said Pat Aussem, a master addictions counselor with the Parent Coaching Program at the nonprofit Partnership for Drug-Free Kids.\\n\\nAussem first tells overwhelmed parents, \"take a deep breath.\"\\n\\nAn important conversation\\n\\n\"The first thing parents can do is educate yourselves,\" said Meredith Berkman, who co-founded Parents Against Vaping e-cigarettes last year when she realized the fad was hitting close to home -- literally.\\n\\n\"I kept hearing the window open,\" said Berkman, a mother of four in New York. \"I realized that this was going on in my house.\"\\n\\nE-cigarettes, which work by heating a liquid until it vaporizes, can be tough to spot because many look like USB drives and regular pens. The liquid commonly contains varying concentrations of nicotine, though some people use the devices to vape marijuana or flavoring alone.\\n\\nExperts worry that e-cigarettes could put kids\\' developing brains at risk, get them hooked on nicotine early in life and be a gateway to smoking and other drugs -- but the long-term effects are unclear.\\n\\n\"In many cases, parents don\\'t know that their kids are vaping, or they don\\'t know what\\'s in the vape,\" Aussem said. \"There are parents who know that their kids are vaping, but they assume it\\'s harmless because they think, \\'oh, it\\'s flavoring. How bad can it be?\\' \"\\n\\nExperts also recommend that parents be familiar with signs their kids might be vaping: if they notice a faint, sweet scent, for example. Young e-cig users may also show a change in mood, take frequent breaks to take puffs and share vape-related posts on social media, according to experts.\\n\\nParents can also model good behavior by not vaping or smoking tobacco themselves, according to the Partnership for Drug-Free Kids. And it\\'s important to have an open conversation with your child -- listening over lecturing, experts say. It may also be helpful for parents to understand the reasons why their child might vape -- such as peer pressure, anxiety or avoiding symptoms of withdrawal -- in order to encourage healthier ways of addressing those needs, the Partnership says.\\n\\nChances are that your child has at least heard of the most popular e-cigarette, Juul, according to research by Bonnie Halpern-Felsher, founder and executive director of the Stanford Tobacco Prevention Toolkit.\\n\\nHalpern-Felsher said these conversations can go beyond simply telling kids that e-cigarettes are bad for them and setting clear expectations about drug use. Parents can also discuss how the devices have been marketed in such a way that appeals to youth, including ads, a vast social media presence and the variety of flavors they come in.\\n\\nAshley Gould, chief administrative officer at Juul Labs, told CNN in June, \"We were completely surprised by the youth usage of the product.\" The company has maintained that its product is intended to convert adult former smokers to what Juul describes as a less-harmful alternative, and it says it is taking steps to limit kids\\' use of e-cigarettes.\\n\\n\"It\\'s been devastating to us,\" Gould said. \"This is not a product for youth.\"\\n\\nThe company, which holds about 75% of the e-cigarette market in the United States, has also maintained that flavors are a useful tool to help adult smokers to switch from combustible cigarettes.\\n\\nDr. Scott Gottlieb, commissioner of the US Food and Drug Administration, proposed in November to strengthen the agency\\'s policies against flavored e-cigarette products . These proposals could ultimately prompt their removal from shelves and websites that are accessible to minors. But the proposed changes do not include mint, menthol and tobacco flavors. Gottlieb said he wanted to leave the door open for adults who might use these products to quit smoking cigarettes, \"but it can\\'t come at the expense of addicting a generation of kids on nicotine,\" he previously told CNN.\\n\\nOthers have argued there\\'s no conclusive evidence supporting this use of flavors.\\n\\n\"Who doesn\\'t hope for harm reduction for adult smokers?\" asked Berkman, of Parents Against Vaping e-cigarettes. Despite what she calls a lack of convincing evidence that flavors are playing an instrumental role in adult cessation efforts, Berkman said, \"you do have concrete, direct evidence that the flavors are hooking the kids and that the flavors are keeping the kids from perceiving danger.\"\\n\\nBerkman, whose organization set up an e-mail campaign for parents to urge FDA regulations like banning e-cig flavors, says she isn\\'t advocating banning the Juul altogether. But more has to be done -- and soon, she said.\\n\\n\"It\\'s happening in real time,\" she said.\\n\\nWhat to watch for\\n\\nWhen Dr. Sharon Levy, director of the Adolescent Substance Use and Addiction Program at Boston Children\\'s Hospital, started receiving calls from parents across the country describing how e-cigarettes were affecting their children, \"I was extremely skeptical that the problem was from Juuling and nicotine use,\" she said.\\n\\n\"I was wondering, are they using other substances? Are they also using marijuana or something else? Or do they have mental health disorders?\" she said. \"I\\'ve actually seen enough local kids now to realize that some of these presentations look all the world like psychiatric presentations.\"\\n\\nSome of these teens come in with anxiety, distractability, headaches and stomachaches, symptoms Levy said were rarely seen with traditional cigarettes. In kids, nicotine addiction may look very different from adults, she added.\\n\\nOther symptoms may include increased thirst, nosebleeds and mood changes, according to the Partnership for Drug-Free Kids.\\n\\nLevy said that \"nearly all\" adolescents in her program have some experience with e-cigarettes, but \"what\\'s new is that now, we\\'re seeing patients in the substance use program whose only substance is nicotine.\"\\n\\n\"Kids are often really struggling with this, and there are just not a lot of resources for them,\" Levy said, adding that many addiction programs may not be equipped to deal with some of the younger, nicotine-addicted kids she\\'s seeing. Far better would be to ensure that primary care doctors are equipped to work with kids in their own communities, Levy said.\\n\\nSome parents have pursued nicotine gum and other cessation tools for their children under doctors\\' guidance. Levy said that can be tricky because some kids may use these products as a \"bridge\" between puffs of vapes and tobacco products.\\n\\nThere are no FDA-approved nicotine cessation products for e-cigarette users under 18, but the agency plans to hold a public hearing to debate whether to approve smoking cessation drugs for kids in order to get them off vapes.\\n\\nMedications can be important in some advanced cases, but they\\'re not enough, Levy said; kids also need \"good, solid counseling.\"\\n\\n\"We end up needing to teach kids how they can deal with cravings, how they can identify high-risk situations, how they can actually deal with being surrounded by people who are using these things,\" Levy said. \"Because the reality is that, for most kids, we treat them and put them back in school, and then they go to the bathroom, and everybody\\'s Juuling.\"\\n\\nAussem said parents can also use positive reinforcement to offer their kids something \"more interesting to them than vaping,\" and they can set negative consequences. But it\\'s important to follow through, she added. For example, many parents might threaten to take their kids\\' phones away, only to return them a couple days later because it\\'s difficult to reach them.\\n\\nGet CNN Health\\'s weekly newsletter Sign up here to get The Results Are In with Dr. Sanjay Gupta every Tuesday from the CNN Health team.\\n\\nAussem also recommended Smokefree Teen , by the National Cancer Institute, which has a smartphone app and text messaging program geared toward teens. They may be more likely to quit than those who try without any assistance, she said.\\n\\nFor many parents, she said, it\\'s important to understand that there may be no quick fix.\\n\\nWhat\\'s key, Aussem said, \"is to really think about, \\'how am I going to intervene and really be willing to see this as a journey?\\' \"'"
      ]
     },
     "execution_count": 89,
     "metadata": {},
     "output_type": "execute_result"
    }
   ],
   "source": [
    "texts_train[0]"
   ]
  },
  {
   "cell_type": "code",
   "execution_count": 90,
   "metadata": {
    "collapsed": false
   },
   "outputs": [
    {
     "data": {
      "text/plain": [
       "'cnn when sonya kennedy learned that her 12 year old son ryder had tried vaping she was mortified he honestly think that there was anything wrong kennedy said he told me that almost all the grade sevens were doing it and she soon realized that the trend had reached many more kids in her orbit kennedy who owns dance studio in northern california found that most of her dancers had tried vaping too she learned that kids were vaping at school taking puffs inside their shirts and in some cases charging their cigarettes in their teacher own computer she said meanwhile many parents seemed oblivious it bad habit that started realizing parents know about she said health experts say parents whose kids are vaping often don know what to do or where to turn for help while federal authorities grapple with how to regulate cigarettes on broad scale and while leading tobacco company invests billions in cigarette maker parents are scrambling at home to deal with nicotine dependence or to prevent their kids from getting hooked on something that ubiquitous at many schools some are even approaching addiction rehab programs in hopes of weaning their kids off these products it all over social media kennedy said and popular among star athletes in her community as mother kennedy said she understands the role that peer pressure can play with fads like cigarettes and as the mother of an athlete ryder is an avid football and basketball player kennedy said she knew that she had to do something so she asked local business to print few shirts with straightforward message athletes don vape she know that it would catch on ryder called his mother the first day he wore the shirt to school saying that some of his friends wanted their own kennedy also shared photos of the shirt on facebook and received requests from people in los angeles sacramento and canada who wanted in on the positive message she even invited local athletes to photo shoot and posted the results on social media and they actually showed up on sunday morning to her surprise the response of the kids was what blew my mind kennedy said sonya kennedy started campaign against youth cigarette use with the slogan athletes don vape well over 500 shirts have been printed she said most have been given away in conjunction with ryder middle school and kennedy dance company and others continue to be sold at cost kennedy said her goal is to share positive message and raise awareness among kids and parents alike it can be frightening for some parents and anxiety provoking for parents to realize that their kids are vaping said pat master addictions counselor with the parent coaching program at the nonprofit partnership for drug free kids first tells overwhelmed parents take deep breath an important conversation the first thing parents can do is educate yourselves said meredith who co founded parents against vaping cigarettes last year when she realized the fad was hitting close to home literally kept hearing the window open said mother of four in new york realized that this was going on in my house cigarettes which work by heating liquid until it vaporizes can be tough to spot because many look like usb drives and regular pens the liquid commonly contains varying concentrations of nicotine though some people use the devices to vape marijuana or flavoring alone experts worry that cigarettes could put kids developing brains at risk get them hooked on nicotine early in life and be gateway to smoking and other drugs but the long term effects are unclear in many cases parents don know that their kids are vaping or they don know what in the vape said there are parents who know that their kids are vaping but they assume it harmless because they think oh it flavoring how bad can it be experts also recommend that parents be familiar with signs their kids might be vaping if they notice faint sweet scent for example young users may also show change in mood take frequent breaks to take puffs and share vape related posts on social media according to experts parents can also model good behavior by not vaping or smoking tobacco themselves according to the partnership for drug free kids and it important to have an open conversation with your child listening over lecturing experts say it may also be helpful for parents to understand the reasons why their child might vape such as peer pressure anxiety or avoiding symptoms of withdrawal in order to encourage healthier ways of addressing those needs the partnership says chances are that your child has at least heard of the most popular cigarette according to research by bonnie founder and executive director of the stanford tobacco prevention toolkit said these conversations can go beyond simply telling kids that cigarettes are bad for them and setting clear expectations about drug use parents can also discuss how the devices have been marketed in such way that appeals to youth including ads vast social media presence and the variety of flavors they come in ashley gould chief administrative officer at labs told cnn in june we were completely surprised by the youth usage of the product the company has maintained that its product is intended to convert adult former smokers to what describes as less harmful alternative and it says it is taking steps to limit kids use of cigarettes it been devastating to us gould said this is not product for youth the company which holds about 75 of the cigarette market in the united states has also maintained that flavors are useful tool to help adult smokers to switch from combustible cigarettes dr scott commissioner of the us food and drug administration proposed in november to strengthen the agency policies against flavored cigarette products these proposals could ultimately prompt their removal from shelves and websites that are accessible to minors but the proposed changes do not include mint menthol and tobacco flavors said he wanted to leave the door open for adults who might use these products to quit smoking cigarettes but it can come at the expense of addicting generation of kids on nicotine he previously told cnn others have argued there no conclusive evidence supporting this use of flavors who hope for harm reduction for adult smokers asked of parents against vaping cigarettes despite what she calls lack of convincing evidence that flavors are playing an instrumental role in adult cessation efforts said you do have concrete direct evidence that the flavors are hooking the kids and that the flavors are keeping the kids from perceiving danger whose organization set up an mail campaign for parents to urge fda regulations like banning flavors says she advocating banning the altogether but more has to be done and soon she said it happening in real time she said what to watch for when dr sharon levy director of the adolescent substance use and addiction program at boston children hospital started receiving calls from parents across the country describing how cigarettes were affecting their children was extremely skeptical that the problem was from and nicotine use she said was wondering are they using other substances are they also using marijuana or something else or do they have mental health disorders she said actually seen enough local kids now to realize that some of these presentations look all the world like psychiatric presentations some of these teens come in with anxiety headaches and stomachaches symptoms levy said were rarely seen with traditional cigarettes in kids nicotine addiction may look very different from adults she added other symptoms may include increased thirst nosebleeds and mood changes according to the partnership for drug free kids levy said that nearly all adolescents in her program have some experience with cigarettes but what new is that now we seeing patients in the substance use program whose only substance is nicotine kids are often really struggling with this and there are just not lot of resources for them levy said adding that many addiction programs may not be equipped to deal with some of the younger nicotine addicted kids she seeing far better would be to ensure that primary care doctors are equipped to work with kids in their own communities levy said some parents have pursued nicotine gum and other cessation tools for their children under doctors guidance levy said that can be tricky because some kids may use these products as bridge between puffs of vapes and tobacco products there are no fda approved nicotine cessation products for cigarette users under 18 but the agency plans to hold public hearing to debate whether to approve smoking cessation drugs for kids in order to get them off vapes medications can be important in some advanced cases but they not enough levy said kids also need good solid counseling we end up needing to teach kids how they can deal with cravings how they can identify high risk situations how they can actually deal with being surrounded by people who are using these things levy said because the reality is that for most kids we treat them and put them back in school and then they go to the bathroom and everybody said parents can also use positive reinforcement to offer their kids something more interesting to them than vaping and they can set negative consequences but it important to follow through she added for example many parents might threaten to take their kids phones away only to return them couple days later because it difficult to reach them get cnn health weekly newsletter sign up here to get the results are in with dr gupta every tuesday from the cnn health team also recommended teen by the national cancer institute which has smartphone app and text messaging program geared toward teens they may be more likely to quit than those who try without any assistance she said for many parents she said it important to understand that there may be no quick fix what key said is to really think about how am going to intervene and really be willing to see this as journey'"
      ]
     },
     "execution_count": 90,
     "metadata": {},
     "output_type": "execute_result"
    }
   ],
   "source": [
    "#чистка\n",
    "texts_prep_train = []\n",
    "\n",
    "for text in log_progress(texts_train):\n",
    "    filtered = re.findall('(?u)\\\\b\\\\w\\\\w+\\\\b', text)\n",
    "    filtered = [filt for filt in filtered if dict_eng.check(filt) and filt not in ['s', 't', 'd', 'v', 've', 'll', 're']]\n",
    "    texts_prep_train.append(' '.join(filtered).lower())\n",
    "texts_prep_train[0]"
   ]
  },
  {
   "cell_type": "code",
   "execution_count": 91,
   "metadata": {
    "collapsed": false
   },
   "outputs": [],
   "source": [
    "texts_prep_test = []\n",
    "\n",
    "for text in log_progress(texts_test):\n",
    "    filtered = re.findall('(?u)\\\\b\\\\w\\\\w+\\\\b', text)\n",
    "    filtered = [filt for filt in filtered if dict_eng.check(filt) and filt not in ['s', 't', 'd', 'v', 've', 'll', 're']]\n",
    "    texts_prep_test.append(' '.join(filtered).lower())"
   ]
  },
  {
   "cell_type": "code",
   "execution_count": 92,
   "metadata": {
    "collapsed": false
   },
   "outputs": [
    {
     "data": {
      "text/plain": [
       "array(['cnn', 'when', 'sonya', ..., 'this', 'as', 'journey'], dtype='<U15')"
      ]
     },
     "execution_count": 92,
     "metadata": {},
     "output_type": "execute_result"
    }
   ],
   "source": [
    "#токенизация\n",
    "corpus_train = []\n",
    "labels_train_ = []\n",
    "\n",
    "for text, lbl in zip(log_progress(texts_prep_train), labels_train):\n",
    "    tokens = list(gensim.utils.tokenize(text, lower=True))\n",
    "    if len(tokens) != 0:\n",
    "        corpus_train.append(tokens)\n",
    "        labels_train_.append(lbl)\n",
    "np.transpose(corpus_train[0])"
   ]
  },
  {
   "cell_type": "code",
   "execution_count": 93,
   "metadata": {
    "collapsed": false
   },
   "outputs": [],
   "source": [
    "corpus_test = []\n",
    "labels_test_ = []\n",
    "for text, lbl in zip(log_progress(texts_prep_test), labels_test):\n",
    "    tokens = list(gensim.utils.tokenize(text, lower=True))\n",
    "    if len(tokens) != 0:\n",
    "        corpus_test.append(tokens)\n",
    "        labels_test_.append(lbl)"
   ]
  },
  {
   "cell_type": "code",
   "execution_count": 94,
   "metadata": {
    "collapsed": false
   },
   "outputs": [
    {
     "data": {
      "text/plain": [
       "TaggedDocument(words=['cnn', 'when', 'sonya', 'kennedy', 'learned', 'that', 'her', 'year', 'old', 'son', 'ryder', 'had', 'tried', 'vaping', 'she', 'was', 'mortified', 'he', 'honestly', 'think', 'that', 'there', 'was', 'anything', 'wrong', 'kennedy', 'said', 'he', 'told', 'me', 'that', 'almost', 'all', 'the', 'grade', 'sevens', 'were', 'doing', 'it', 'and', 'she', 'soon', 'realized', 'that', 'the', 'trend', 'had', 'reached', 'many', 'more', 'kids', 'in', 'her', 'orbit', 'kennedy', 'who', 'owns', 'dance', 'studio', 'in', 'northern', 'california', 'found', 'that', 'most', 'of', 'her', 'dancers', 'had', 'tried', 'vaping', 'too', 'she', 'learned', 'that', 'kids', 'were', 'vaping', 'at', 'school', 'taking', 'puffs', 'inside', 'their', 'shirts', 'and', 'in', 'some', 'cases', 'charging', 'their', 'cigarettes', 'in', 'their', 'teacher', 'own', 'computer', 'she', 'said', 'meanwhile', 'many', 'parents', 'seemed', 'oblivious', 'it', 'bad', 'habit', 'that', 'started', 'realizing', 'parents', 'know', 'about', 'she', 'said', 'health', 'experts', 'say', 'parents', 'whose', 'kids', 'are', 'vaping', 'often', 'don', 'know', 'what', 'to', 'do', 'or', 'where', 'to', 'turn', 'for', 'help', 'while', 'federal', 'authorities', 'grapple', 'with', 'how', 'to', 'regulate', 'cigarettes', 'on', 'broad', 'scale', 'and', 'while', 'leading', 'tobacco', 'company', 'invests', 'billions', 'in', 'cigarette', 'maker', 'parents', 'are', 'scrambling', 'at', 'home', 'to', 'deal', 'with', 'nicotine', 'dependence', 'or', 'to', 'prevent', 'their', 'kids', 'from', 'getting', 'hooked', 'on', 'something', 'that', 'ubiquitous', 'at', 'many', 'schools', 'some', 'are', 'even', 'approaching', 'addiction', 'rehab', 'programs', 'in', 'hopes', 'of', 'weaning', 'their', 'kids', 'off', 'these', 'products', 'it', 'all', 'over', 'social', 'media', 'kennedy', 'said', 'and', 'popular', 'among', 'star', 'athletes', 'in', 'her', 'community', 'as', 'mother', 'kennedy', 'said', 'she', 'understands', 'the', 'role', 'that', 'peer', 'pressure', 'can', 'play', 'with', 'fads', 'like', 'cigarettes', 'and', 'as', 'the', 'mother', 'of', 'an', 'athlete', 'ryder', 'is', 'an', 'avid', 'football', 'and', 'basketball', 'player', 'kennedy', 'said', 'she', 'knew', 'that', 'she', 'had', 'to', 'do', 'something', 'so', 'she', 'asked', 'local', 'business', 'to', 'print', 'few', 'shirts', 'with', 'straightforward', 'message', 'athletes', 'don', 'vape', 'she', 'know', 'that', 'it', 'would', 'catch', 'on', 'ryder', 'called', 'his', 'mother', 'the', 'first', 'day', 'he', 'wore', 'the', 'shirt', 'to', 'school', 'saying', 'that', 'some', 'of', 'his', 'friends', 'wanted', 'their', 'own', 'kennedy', 'also', 'shared', 'photos', 'of', 'the', 'shirt', 'on', 'facebook', 'and', 'received', 'requests', 'from', 'people', 'in', 'los', 'angeles', 'sacramento', 'and', 'canada', 'who', 'wanted', 'in', 'on', 'the', 'positive', 'message', 'she', 'even', 'invited', 'local', 'athletes', 'to', 'photo', 'shoot', 'and', 'posted', 'the', 'results', 'on', 'social', 'media', 'and', 'they', 'actually', 'showed', 'up', 'on', 'sunday', 'morning', 'to', 'her', 'surprise', 'the', 'response', 'of', 'the', 'kids', 'was', 'what', 'blew', 'my', 'mind', 'kennedy', 'said', 'sonya', 'kennedy', 'started', 'campaign', 'against', 'youth', 'cigarette', 'use', 'with', 'the', 'slogan', 'athletes', 'don', 'vape', 'well', 'over', 'shirts', 'have', 'been', 'printed', 'she', 'said', 'most', 'have', 'been', 'given', 'away', 'in', 'conjunction', 'with', 'ryder', 'middle', 'school', 'and', 'kennedy', 'dance', 'company', 'and', 'others', 'continue', 'to', 'be', 'sold', 'at', 'cost', 'kennedy', 'said', 'her', 'goal', 'is', 'to', 'share', 'positive', 'message', 'and', 'raise', 'awareness', 'among', 'kids', 'and', 'parents', 'alike', 'it', 'can', 'be', 'frightening', 'for', 'some', 'parents', 'and', 'anxiety', 'provoking', 'for', 'parents', 'to', 'realize', 'that', 'their', 'kids', 'are', 'vaping', 'said', 'pat', 'master', 'addictions', 'counselor', 'with', 'the', 'parent', 'coaching', 'program', 'at', 'the', 'nonprofit', 'partnership', 'for', 'drug', 'free', 'kids', 'first', 'tells', 'overwhelmed', 'parents', 'take', 'deep', 'breath', 'an', 'important', 'conversation', 'the', 'first', 'thing', 'parents', 'can', 'do', 'is', 'educate', 'yourselves', 'said', 'meredith', 'who', 'co', 'founded', 'parents', 'against', 'vaping', 'cigarettes', 'last', 'year', 'when', 'she', 'realized', 'the', 'fad', 'was', 'hitting', 'close', 'to', 'home', 'literally', 'kept', 'hearing', 'the', 'window', 'open', 'said', 'mother', 'of', 'four', 'in', 'new', 'york', 'realized', 'that', 'this', 'was', 'going', 'on', 'in', 'my', 'house', 'cigarettes', 'which', 'work', 'by', 'heating', 'liquid', 'until', 'it', 'vaporizes', 'can', 'be', 'tough', 'to', 'spot', 'because', 'many', 'look', 'like', 'usb', 'drives', 'and', 'regular', 'pens', 'the', 'liquid', 'commonly', 'contains', 'varying', 'concentrations', 'of', 'nicotine', 'though', 'some', 'people', 'use', 'the', 'devices', 'to', 'vape', 'marijuana', 'or', 'flavoring', 'alone', 'experts', 'worry', 'that', 'cigarettes', 'could', 'put', 'kids', 'developing', 'brains', 'at', 'risk', 'get', 'them', 'hooked', 'on', 'nicotine', 'early', 'in', 'life', 'and', 'be', 'gateway', 'to', 'smoking', 'and', 'other', 'drugs', 'but', 'the', 'long', 'term', 'effects', 'are', 'unclear', 'in', 'many', 'cases', 'parents', 'don', 'know', 'that', 'their', 'kids', 'are', 'vaping', 'or', 'they', 'don', 'know', 'what', 'in', 'the', 'vape', 'said', 'there', 'are', 'parents', 'who', 'know', 'that', 'their', 'kids', 'are', 'vaping', 'but', 'they', 'assume', 'it', 'harmless', 'because', 'they', 'think', 'oh', 'it', 'flavoring', 'how', 'bad', 'can', 'it', 'be', 'experts', 'also', 'recommend', 'that', 'parents', 'be', 'familiar', 'with', 'signs', 'their', 'kids', 'might', 'be', 'vaping', 'if', 'they', 'notice', 'faint', 'sweet', 'scent', 'for', 'example', 'young', 'users', 'may', 'also', 'show', 'change', 'in', 'mood', 'take', 'frequent', 'breaks', 'to', 'take', 'puffs', 'and', 'share', 'vape', 'related', 'posts', 'on', 'social', 'media', 'according', 'to', 'experts', 'parents', 'can', 'also', 'model', 'good', 'behavior', 'by', 'not', 'vaping', 'or', 'smoking', 'tobacco', 'themselves', 'according', 'to', 'the', 'partnership', 'for', 'drug', 'free', 'kids', 'and', 'it', 'important', 'to', 'have', 'an', 'open', 'conversation', 'with', 'your', 'child', 'listening', 'over', 'lecturing', 'experts', 'say', 'it', 'may', 'also', 'be', 'helpful', 'for', 'parents', 'to', 'understand', 'the', 'reasons', 'why', 'their', 'child', 'might', 'vape', 'such', 'as', 'peer', 'pressure', 'anxiety', 'or', 'avoiding', 'symptoms', 'of', 'withdrawal', 'in', 'order', 'to', 'encourage', 'healthier', 'ways', 'of', 'addressing', 'those', 'needs', 'the', 'partnership', 'says', 'chances', 'are', 'that', 'your', 'child', 'has', 'at', 'least', 'heard', 'of', 'the', 'most', 'popular', 'cigarette', 'according', 'to', 'research', 'by', 'bonnie', 'founder', 'and', 'executive', 'director', 'of', 'the', 'stanford', 'tobacco', 'prevention', 'toolkit', 'said', 'these', 'conversations', 'can', 'go', 'beyond', 'simply', 'telling', 'kids', 'that', 'cigarettes', 'are', 'bad', 'for', 'them', 'and', 'setting', 'clear', 'expectations', 'about', 'drug', 'use', 'parents', 'can', 'also', 'discuss', 'how', 'the', 'devices', 'have', 'been', 'marketed', 'in', 'such', 'way', 'that', 'appeals', 'to', 'youth', 'including', 'ads', 'vast', 'social', 'media', 'presence', 'and', 'the', 'variety', 'of', 'flavors', 'they', 'come', 'in', 'ashley', 'gould', 'chief', 'administrative', 'officer', 'at', 'labs', 'told', 'cnn', 'in', 'june', 'we', 'were', 'completely', 'surprised', 'by', 'the', 'youth', 'usage', 'of', 'the', 'product', 'the', 'company', 'has', 'maintained', 'that', 'its', 'product', 'is', 'intended', 'to', 'convert', 'adult', 'former', 'smokers', 'to', 'what', 'describes', 'as', 'less', 'harmful', 'alternative', 'and', 'it', 'says', 'it', 'is', 'taking', 'steps', 'to', 'limit', 'kids', 'use', 'of', 'cigarettes', 'it', 'been', 'devastating', 'to', 'us', 'gould', 'said', 'this', 'is', 'not', 'product', 'for', 'youth', 'the', 'company', 'which', 'holds', 'about', 'of', 'the', 'cigarette', 'market', 'in', 'the', 'united', 'states', 'has', 'also', 'maintained', 'that', 'flavors', 'are', 'useful', 'tool', 'to', 'help', 'adult', 'smokers', 'to', 'switch', 'from', 'combustible', 'cigarettes', 'dr', 'scott', 'commissioner', 'of', 'the', 'us', 'food', 'and', 'drug', 'administration', 'proposed', 'in', 'november', 'to', 'strengthen', 'the', 'agency', 'policies', 'against', 'flavored', 'cigarette', 'products', 'these', 'proposals', 'could', 'ultimately', 'prompt', 'their', 'removal', 'from', 'shelves', 'and', 'websites', 'that', 'are', 'accessible', 'to', 'minors', 'but', 'the', 'proposed', 'changes', 'do', 'not', 'include', 'mint', 'menthol', 'and', 'tobacco', 'flavors', 'said', 'he', 'wanted', 'to', 'leave', 'the', 'door', 'open', 'for', 'adults', 'who', 'might', 'use', 'these', 'products', 'to', 'quit', 'smoking', 'cigarettes', 'but', 'it', 'can', 'come', 'at', 'the', 'expense', 'of', 'addicting', 'generation', 'of', 'kids', 'on', 'nicotine', 'he', 'previously', 'told', 'cnn', 'others', 'have', 'argued', 'there', 'no', 'conclusive', 'evidence', 'supporting', 'this', 'use', 'of', 'flavors', 'who', 'hope', 'for', 'harm', 'reduction', 'for', 'adult', 'smokers', 'asked', 'of', 'parents', 'against', 'vaping', 'cigarettes', 'despite', 'what', 'she', 'calls', 'lack', 'of', 'convincing', 'evidence', 'that', 'flavors', 'are', 'playing', 'an', 'instrumental', 'role', 'in', 'adult', 'cessation', 'efforts', 'said', 'you', 'do', 'have', 'concrete', 'direct', 'evidence', 'that', 'the', 'flavors', 'are', 'hooking', 'the', 'kids', 'and', 'that', 'the', 'flavors', 'are', 'keeping', 'the', 'kids', 'from', 'perceiving', 'danger', 'whose', 'organization', 'set', 'up', 'an', 'mail', 'campaign', 'for', 'parents', 'to', 'urge', 'fda', 'regulations', 'like', 'banning', 'flavors', 'says', 'she', 'advocating', 'banning', 'the', 'altogether', 'but', 'more', 'has', 'to', 'be', 'done', 'and', 'soon', 'she', 'said', 'it', 'happening', 'in', 'real', 'time', 'she', 'said', 'what', 'to', 'watch', 'for', 'when', 'dr', 'sharon', 'levy', 'director', 'of', 'the', 'adolescent', 'substance', 'use', 'and', 'addiction', 'program', 'at', 'boston', 'children', 'hospital', 'started', 'receiving', 'calls', 'from', 'parents', 'across', 'the', 'country', 'describing', 'how', 'cigarettes', 'were', 'affecting', 'their', 'children', 'was', 'extremely', 'skeptical', 'that', 'the', 'problem', 'was', 'from', 'and', 'nicotine', 'use', 'she', 'said', 'was', 'wondering', 'are', 'they', 'using', 'other', 'substances', 'are', 'they', 'also', 'using', 'marijuana', 'or', 'something', 'else', 'or', 'do', 'they', 'have', 'mental', 'health', 'disorders', 'she', 'said', 'actually', 'seen', 'enough', 'local', 'kids', 'now', 'to', 'realize', 'that', 'some', 'of', 'these', 'presentations', 'look', 'all', 'the', 'world', 'like', 'psychiatric', 'presentations', 'some', 'of', 'these', 'teens', 'come', 'in', 'with', 'anxiety', 'headaches', 'and', 'stomachaches', 'symptoms', 'levy', 'said', 'were', 'rarely', 'seen', 'with', 'traditional', 'cigarettes', 'in', 'kids', 'nicotine', 'addiction', 'may', 'look', 'very', 'different', 'from', 'adults', 'she', 'added', 'other', 'symptoms', 'may', 'include', 'increased', 'thirst', 'nosebleeds', 'and', 'mood', 'changes', 'according', 'to', 'the', 'partnership', 'for', 'drug', 'free', 'kids', 'levy', 'said', 'that', 'nearly', 'all', 'adolescents', 'in', 'her', 'program', 'have', 'some', 'experience', 'with', 'cigarettes', 'but', 'what', 'new', 'is', 'that', 'now', 'we', 'seeing', 'patients', 'in', 'the', 'substance', 'use', 'program', 'whose', 'only', 'substance', 'is', 'nicotine', 'kids', 'are', 'often', 'really', 'struggling', 'with', 'this', 'and', 'there', 'are', 'just', 'not', 'lot', 'of', 'resources', 'for', 'them', 'levy', 'said', 'adding', 'that', 'many', 'addiction', 'programs', 'may', 'not', 'be', 'equipped', 'to', 'deal', 'with', 'some', 'of', 'the', 'younger', 'nicotine', 'addicted', 'kids', 'she', 'seeing', 'far', 'better', 'would', 'be', 'to', 'ensure', 'that', 'primary', 'care', 'doctors', 'are', 'equipped', 'to', 'work', 'with', 'kids', 'in', 'their', 'own', 'communities', 'levy', 'said', 'some', 'parents', 'have', 'pursued', 'nicotine', 'gum', 'and', 'other', 'cessation', 'tools', 'for', 'their', 'children', 'under', 'doctors', 'guidance', 'levy', 'said', 'that', 'can', 'be', 'tricky', 'because', 'some', 'kids', 'may', 'use', 'these', 'products', 'as', 'bridge', 'between', 'puffs', 'of', 'vapes', 'and', 'tobacco', 'products', 'there', 'are', 'no', 'fda', 'approved', 'nicotine', 'cessation', 'products', 'for', 'cigarette', 'users', 'under', 'but', 'the', 'agency', 'plans', 'to', 'hold', 'public', 'hearing', 'to', 'debate', 'whether', 'to', 'approve', 'smoking', 'cessation', 'drugs', 'for', 'kids', 'in', 'order', 'to', 'get', 'them', 'off', 'vapes', 'medications', 'can', 'be', 'important', 'in', 'some', 'advanced', 'cases', 'but', 'they', 'not', 'enough', 'levy', 'said', 'kids', 'also', 'need', 'good', 'solid', 'counseling', 'we', 'end', 'up', 'needing', 'to', 'teach', 'kids', 'how', 'they', 'can', 'deal', 'with', 'cravings', 'how', 'they', 'can', 'identify', 'high', 'risk', 'situations', 'how', 'they', 'can', 'actually', 'deal', 'with', 'being', 'surrounded', 'by', 'people', 'who', 'are', 'using', 'these', 'things', 'levy', 'said', 'because', 'the', 'reality', 'is', 'that', 'for', 'most', 'kids', 'we', 'treat', 'them', 'and', 'put', 'them', 'back', 'in', 'school', 'and', 'then', 'they', 'go', 'to', 'the', 'bathroom', 'and', 'everybody', 'said', 'parents', 'can', 'also', 'use', 'positive', 'reinforcement', 'to', 'offer', 'their', 'kids', 'something', 'more', 'interesting', 'to', 'them', 'than', 'vaping', 'and', 'they', 'can', 'set', 'negative', 'consequences', 'but', 'it', 'important', 'to', 'follow', 'through', 'she', 'added', 'for', 'example', 'many', 'parents', 'might', 'threaten', 'to', 'take', 'their', 'kids', 'phones', 'away', 'only', 'to', 'return', 'them', 'couple', 'days', 'later', 'because', 'it', 'difficult', 'to', 'reach', 'them', 'get', 'cnn', 'health', 'weekly', 'newsletter', 'sign', 'up', 'here', 'to', 'get', 'the', 'results', 'are', 'in', 'with', 'dr', 'gupta', 'every', 'tuesday', 'from', 'the', 'cnn', 'health', 'team', 'also', 'recommended', 'teen', 'by', 'the', 'national', 'cancer', 'institute', 'which', 'has', 'smartphone', 'app', 'and', 'text', 'messaging', 'program', 'geared', 'toward', 'teens', 'they', 'may', 'be', 'more', 'likely', 'to', 'quit', 'than', 'those', 'who', 'try', 'without', 'any', 'assistance', 'she', 'said', 'for', 'many', 'parents', 'she', 'said', 'it', 'important', 'to', 'understand', 'that', 'there', 'may', 'be', 'no', 'quick', 'fix', 'what', 'key', 'said', 'is', 'to', 'really', 'think', 'about', 'how', 'am', 'going', 'to', 'intervene', 'and', 'really', 'be', 'willing', 'to', 'see', 'this', 'as', 'journey'], tags=[0])"
      ]
     },
     "execution_count": 94,
     "metadata": {},
     "output_type": "execute_result"
    }
   ],
   "source": [
    "#тэггирование документа\n",
    "documents_train = [gensim.models.doc2vec.TaggedDocument(tokens, [i]) for i, tokens in enumerate(corpus_train)]\n",
    "documents_test = [gensim.models.doc2vec.TaggedDocument(tokens, [i]) for i, tokens in enumerate(corpus_test)]\n",
    "\n",
    "documents_train[0]"
   ]
  },
  {
   "cell_type": "code",
   "execution_count": 95,
   "metadata": {
    "collapsed": true
   },
   "outputs": [],
   "source": [
    "model = gensim.models.Doc2Vec(documents_train, vector_size=100, window=5, min_count=5, workers=4)"
   ]
  },
  {
   "cell_type": "code",
   "execution_count": 96,
   "metadata": {
    "collapsed": false
   },
   "outputs": [
    {
     "name": "stdout",
     "output_type": "stream",
     "text": [
      "(268, 100)\n"
     ]
    }
   ],
   "source": [
    "#векторизация\n",
    "vectors_train = []\n",
    "\n",
    "for tokens in corpus_train:\n",
    "    vectors_train.append(model.infer_vector(tokens))\n",
    "    \n",
    "vectors_train = np.asarray(vectors_train)\n",
    "print(vectors_train.shape)"
   ]
  },
  {
   "cell_type": "code",
   "execution_count": 97,
   "metadata": {
    "collapsed": false
   },
   "outputs": [
    {
     "name": "stdout",
     "output_type": "stream",
     "text": [
      "[-0.38997683  0.07719938 -0.07460335  0.88343245 -0.3908429   0.6052178\n",
      "  0.26082906 -0.8945105   0.2344684   0.08588755  0.08913531 -0.61178845\n",
      "  0.05141707 -0.00989374 -0.06665654 -0.90481395 -0.973004    0.06221562\n",
      "  0.651137   -0.00646208 -0.26703575  0.08904139 -0.13408048  0.07400348\n",
      " -0.2266136   0.09570494  0.18352142 -0.500869    0.13472341  0.7595682\n",
      " -0.03802006  0.11134852  0.1838541  -0.5060521  -0.02048611 -0.32058313\n",
      " -0.4182475  -0.08979752  0.6265962   0.6729039   0.06352419 -0.2992014\n",
      " -0.11024582 -0.6779646  -0.25742337 -0.4359367  -0.5919347  -0.1493966\n",
      "  0.684934    0.09499463 -0.04029176  0.2612821  -0.10788965  0.26944116\n",
      " -0.27248693  0.06739323 -0.15811615 -0.43019265 -0.06772966 -0.06054794\n",
      " -0.01411101 -0.31703174 -0.16513517  0.16114089  0.1016127   0.3964094\n",
      "  0.373097   -0.06341266 -0.52869415  0.67630655 -0.148711    0.17416161\n",
      "  0.4452954  -0.24812636 -0.07785248 -0.6474222   0.04521478  0.3047361\n",
      "  0.5363902  -0.56960297  0.02884387  0.32569644  0.04839924  0.08744229\n",
      "  0.14232637 -0.20086852 -0.582749    0.13519849 -0.3581075  -0.1719343\n",
      "  0.4429252  -0.06594855  0.47675458  0.5302381   0.33550715  0.21916217\n",
      "  0.1807499  -0.17576818  0.18630041 -0.08055173]\n"
     ]
    }
   ],
   "source": [
    "vectors_test = []\n",
    "\n",
    "for tokens in corpus_test:\n",
    "    vectors_test.append(model.infer_vector(tokens))\n",
    "    \n",
    "vectors_test = np.asarray(vectors_test)\n",
    "print(vectors_test[0])"
   ]
  },
  {
   "cell_type": "code",
   "execution_count": 98,
   "metadata": {
    "collapsed": true
   },
   "outputs": [],
   "source": [
    "from sklearn.ensemble import RandomForestClassifier\n",
    "predictor = RandomForestClassifier(n_estimators=100).fit(vectors_train, labels_train_)\n",
    "preds = predictor.predict(vectors_test)"
   ]
  },
  {
   "cell_type": "code",
   "execution_count": 99,
   "metadata": {
    "collapsed": false
   },
   "outputs": [
    {
     "data": {
      "text/plain": [
       "0.7666666666666667"
      ]
     },
     "execution_count": 99,
     "metadata": {},
     "output_type": "execute_result"
    }
   ],
   "source": [
    "np.mean(preds == labels_test_)"
   ]
  },
  {
   "cell_type": "code",
   "execution_count": 100,
   "metadata": {
    "collapsed": false
   },
   "outputs": [
    {
     "name": "stdout",
     "output_type": "stream",
     "text": [
      "['asia' 'travel' 'health' 'sport' 'health' 'sport' 'travel' 'sport'\n",
      " 'travel' 'health' 'health' 'travel' 'travel' 'health' 'health' 'health'\n",
      " 'health' 'health' 'travel' 'travel' 'sport' 'travel' 'health' 'sport'\n",
      " 'travel' 'health' 'travel' 'sport' 'health' 'travel']\n",
      "['travel' 'travel' 'health' 'travel' 'health' 'travel' 'travel' 'sport'\n",
      " 'travel' 'health' 'health' 'health' 'asia' 'health' 'health' 'health'\n",
      " 'health' 'health' 'travel' 'health' 'asia' 'travel' 'health' 'sport'\n",
      " 'travel' 'health' 'travel' 'sport' 'health' 'travel']\n"
     ]
    }
   ],
   "source": [
    "print(preds)\n",
    "print(np.asarray(labels_test_))"
   ]
  },
  {
   "cell_type": "code",
   "execution_count": 23,
   "metadata": {
    "collapsed": true
   },
   "outputs": [],
   "source": [
    "import re\n",
    "def log_progress(sequence, every=None, size=None):\n",
    "    from ipywidgets import IntProgress, HTML, VBox\n",
    "    from IPython.display import display\n",
    "    \n",
    "    is_iterator = False\n",
    "    if size is None:\n",
    "        try:\n",
    "            size = len(sequence)\n",
    "        except TypeError:\n",
    "            is_iterator = True\n",
    "    if size is not None:\n",
    "        if every is None:\n",
    "            if size <= 200:\n",
    "                every = 1\n",
    "            else:\n",
    "                every = size / 200     # every 0.5%\n",
    "    else:\n",
    "        assert every is not None, 'sequence is iterator, set every'\n",
    "\n",
    "    if is_iterator:\n",
    "        progress = IntProgress(min=0, max=1, value=1)\n",
    "        progress.bar_style = 'info'\n",
    "    else:\n",
    "        progress = IntProgress(min=0, max=size, value=0)\n",
    "    label = HTML()\n",
    "    box = VBox(children=[label, progress])\n",
    "    display(box)\n",
    "    \n",
    "    index = 0\n",
    "    try:\n",
    "        for index, record in enumerate(sequence, 1):\n",
    "            if index == 1 or index % every == 0:\n",
    "                if is_iterator:\n",
    "                    label.value = '{index} / ?'.format(index=index)\n",
    "                else:\n",
    "                    progress.value = index\n",
    "                    label.value = u'{index} / {size}'.format(\n",
    "                        index=index,\n",
    "                        size=size\n",
    "                    )\n",
    "            yield record\n",
    "    except:\n",
    "        progress.bar_style = 'danger'\n",
    "        raise\n",
    "    else:\n",
    "        progress.bar_style = 'success'\n",
    "        progress.value = index\n",
    "        label.value = str(index or '?')"
   ]
  },
  {
   "cell_type": "code",
   "execution_count": null,
   "metadata": {
    "collapsed": true
   },
   "outputs": [],
   "source": []
  }
 ],
 "metadata": {
  "kernelspec": {
   "display_name": "Python 3",
   "language": "python",
   "name": "python3"
  },
  "language_info": {
   "codemirror_mode": {
    "name": "ipython",
    "version": 3
   },
   "file_extension": ".py",
   "mimetype": "text/x-python",
   "name": "python",
   "nbconvert_exporter": "python",
   "pygments_lexer": "ipython3",
   "version": "3.6.6"
  }
 },
 "nbformat": 4,
 "nbformat_minor": 0
}
