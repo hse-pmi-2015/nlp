{
 "cells": [
  {
   "cell_type": "code",
   "execution_count": 1,
   "metadata": {},
   "outputs": [],
   "source": [
    "import os\n",
    "from sklearn.datasets import fetch_20newsgroups\n",
    "from sklearn.feature_extraction.text import TfidfVectorizer\n",
    "import numpy as np\n",
    "import enchant\n",
    "from sklearn.linear_model import LogisticRegression\n",
    "from sklearn.ensemble import RandomForestClassifier, GradientBoostingClassifier, VotingClassifier\n",
    "import re\n",
    "import matplotlib.pyplot as plt\n",
    "from sklearn.metrics import confusion_matrix, recall_score, precision_score, f1_score, roc_curve, roc_auc_score\n",
    "import itertools\n",
    "from sklearn.svm import LinearSVC\n",
    "from sklearn.feature_selection import SelectFromModel\n",
    "from sklearn.multiclass import OneVsRestClassifier, OneVsOneClassifier\n",
    "from sklearn.utils import shuffle\n",
    "import pandas as pd\n",
    "%matplotlib inline"
   ]
  },
  {
   "cell_type": "code",
   "execution_count": 2,
   "metadata": {},
   "outputs": [
    {
     "name": "stdout",
     "output_type": "stream",
     "text": [
      "320 80 320 80\n"
     ]
    }
   ],
   "source": [
    "vectorizer = TfidfVectorizer(stop_words='english', strip_accents='ascii')\n",
    "initial_categories = ['alt.atheism', 'comp.graphics', 'comp.os.ms-windows.misc', 'comp.sys.ibm.pc.hardware',\n",
    "                      'comp.sys.mac.hardware', 'comp.windows.x', 'rec.autos', 'rec.motorcycles', 'rec.sport.baseball',\n",
    "                      'rec.sport.hockey', 'sci.electronics', 'soc.religion.christian', 'talk.politics.mideast',\n",
    "                      'talk.politics.misc', 'talk.religion.misc']\n",
    "eng_dict = enchant.Dict('en_US')\n",
    "data = pd.read_csv('Data_parse.csv', sep = ',')\n",
    "text =np.asarray(data.data)\n",
    "labels=np.asarray(data.title)\n",
    "text, labels = shuffle(text, labels)\n",
    "texts_train = text[:320]\n",
    "texts_test = text[320:]\n",
    "labels_train = text[:320]\n",
    "labels_test = text[320:]\n",
    "print(texts_train.size, texts_test.size,labels_train.size,labels_test.size)"
   ]
  },
  {
   "cell_type": "code",
   "execution_count": 22,
   "metadata": {},
   "outputs": [],
   "source": [
    "#data = pd.DataFrame(np.load(\"vectorized.npy\"), columns = [\"data\"])\n",
    "arr = np.load(\"vectorized.npy\")"
   ]
  },
  {
   "cell_type": "code",
   "execution_count": 28,
   "metadata": {},
   "outputs": [
    {
     "data": {
      "text/plain": [
       "(298, 9053)"
      ]
     },
     "execution_count": 28,
     "metadata": {},
     "output_type": "execute_result"
    }
   ],
   "source": [
    "arr.shape"
   ]
  },
  {
   "cell_type": "code",
   "execution_count": 13,
   "metadata": {},
   "outputs": [
    {
     "name": "stdout",
     "output_type": "stream",
     "text": [
      "240 58\n"
     ]
    }
   ],
   "source": [
    "dict_eng = enchant.Dict('en')\n",
    "\n",
    "df= pd.read_pickle(\"df\")\n",
    "text =np.asarray(df.text)\n",
    "labels=np.asarray(df.category)\n",
    "text, labels = shuffle(text, labels)\n",
    "\n",
    "texts_train = text[:240]\n",
    "texts_test = text[240:]\n",
    "print(len(texts_train), len(texts_test))"
   ]
  },
  {
   "cell_type": "code",
   "execution_count": 14,
   "metadata": {},
   "outputs": [],
   "source": [
    "labels_train = labels[:240]\n",
    "labels_test = labels[240:]"
   ]
  },
  {
   "cell_type": "code",
   "execution_count": 82,
   "metadata": {},
   "outputs": [
    {
     "data": {
      "text/plain": [
       "{'asia': 15, 'sport': 47, 'travel': 42, 'health': 104}"
      ]
     },
     "execution_count": 82,
     "metadata": {},
     "output_type": "execute_result"
    }
   ],
   "source": [
    "sum = {}\n",
    "new_labels=[]\n",
    "new_texts = []\n",
    "for i in range(0,len(labels[:208])):\n",
    "    sum[labels[i]] = 0\n",
    "for i in range(0,len(labels[:208])):\n",
    "    if((sum[labels[i]]<40)&(labels[i]=='health')):\n",
    "        sum[labels[i]] +=1\n",
    "        continue;\n",
    "    new_labels = labels[i]\n",
    "    new_texts = text[i]\n",
    "    sum[labels[i]] +=1\n",
    "sum"
   ]
  },
  {
   "cell_type": "code",
   "execution_count": 22,
   "metadata": {},
   "outputs": [
    {
     "data": {
      "text/plain": [
       "{'health': 116, 'sport': 57, 'travel': 45, 'asia': 22}"
      ]
     },
     "execution_count": 22,
     "metadata": {},
     "output_type": "execute_result"
    }
   ],
   "source": [
    "sum = {}\n",
    "new_labels=[]\n",
    "new_texts = []\n",
    "for i in range(0,len(labels[:240])):\n",
    "    sum[labels[i]] = 0\n",
    "for i in range(0,len(labels[:240])):\n",
    "    sum[labels[i]] +=1\n",
    "sum"
   ]
  },
  {
   "cell_type": "code",
   "execution_count": 94,
   "metadata": {},
   "outputs": [
    {
     "data": {
      "text/plain": [
       "168"
      ]
     },
     "execution_count": 94,
     "metadata": {},
     "output_type": "execute_result"
    }
   ],
   "source": [
    "len(new_texts)"
   ]
  },
  {
   "cell_type": "code",
   "execution_count": 4,
   "metadata": {},
   "outputs": [
    {
     "data": {
      "text/plain": [
       "'(CNN) Horse racing may be the sport of kings, but it is also the business of behemoths.\\n\\nAll-conquering global stables monopolize the best breeding programs and plunder the best thoroughbreds to keep the conveyor belt rolling.\\n\\nThese Barcelonas of the equestrian world are all clamoring for the next money-spinning champion and are willing to part with millions for the privilege.\\n\\nHere are five of the biggest and most successful powerhouses in the world of horse racing.\\n\\nSheikh Mohammed and his Godolphin operation are among racing\\'s powerhouses.\\n\\nGodolphin\\n\\nFounded by Dubai\\'s ruler, Sheikh Mohammed bin Rashid Al Maktoum, Godolphin has grown into one of the most powerful racing and breeding operations in the world.\\n\\nSheikh Mohammed, who is also the Prime Minister of the United Arab Emirates, grew up with a love of horses and began his empire in 1992, with the name derived from the Godolphin Arabian, one of the three founding stallions of the modern thoroughbred in the 18th century.\\n\\nThe Dubai-based business has grown hand-in-hand with the Arab region and now also has facilities in the UK, USA, Australia and Japan.\\n\\nGodolphin has saddled some of the biggest stars of the equine world and surpassed 5,000 career wins last year -- 288 of which have come in Grade 1 races -- and sits second in the Global Owners Rankings\\n\\nThe breeding arm is the Darley stud, with about 80 stallions in seven countries around the world. Its most treasured asset is stallion Dubawi, son of the great Dubai Millennium. In 2018, Dubawi was ranked the most successful sire in the world and commands a stud fee of $325,000.\\n\\nGodolphin owner Sheikh Mohammed has held a life-long passion for horses.\\n\\nCoolmore\\n\\nTop of those Global Owners Rankings is Irish powerhouse Coolmore\\n\\nFrom its beginnings as a small farm in County Tipperary, Ireland, Coolmore has become one of the world\\'s largest thoroughbred breeding operations.\\n\\nThe outfit, which is headed up by business magnet John Magnier, now has stables in America and Australia and is represented in all major fixtures in the racing calendar.\\n\\nJohn Magnier has been credited with transforming Coolmore.\\n\\nIt boasts an array of illustrious stallions, including the legendary Galileo who continues to produce a plethora of champions. His bumper stud fee remains undisclosed, but his progeny won $8.8 million across Britain and Ireland in 2018 -- a below-par year by his own standards.\\n\\nThe stable has also acquired the breeding rights of Triple Crown winner Justify this year, with hopes the champion can bring through the next generation of winners.\\n\\nThe racing branch of the business is run through Ballydoyle, where Aidan O\\'Brien has continued his father\\'s legacy as one of the greatest trainers on the planet. In 2017, O\\'Brien set a world record by training 28 Group 1 winners in a calendar year.\\n\\nPhotos: 10 of the most picturesque racecourses Meydan Racecourse, Dubai – Boasting the world\\'s first five-star trackside hotel, restaurants and a museum, Dubai\\'s Meydan Racecourse is a first-class racing destination. Hide Caption 1 of 10 Photos: 10 of the most picturesque racecourses St. Moritz, Switzerland – St. Moritz is known for world-class skiing, glitz, glamor and...horse racing? The venue for the White Turf event, held three days a year, isn\\'t your typical racecourse. Instead, it\\'s held on a frozen lake. Hide Caption 2 of 10 Photos: 10 of the most picturesque racecourses Flemington Racecourse, Australia – Flemington is Australia\\'s oldest metropolitan racecourse and home to the famous Melbourne Cup. The revamped venue was first used in 1840 when the town of Melbourne was just five years old. Hide Caption 3 of 10 Photos: 10 of the most picturesque racecourses Piazza del Campo, Italy – Simply put, there is no racecourse in the world quite like the Piazza del Campo in Italy. Its origins date back to medieval times when jockeys rode buffalo. The piazza is packed with spectators with racing around the outside. Hide Caption 4 of 10 Photos: 10 of the most picturesque racecourses Happy Valley, Hong Kong – Happy Valley Racecourse was built in 1845 to provide horse racing for expat Britons living in Hong Kong. It\\'s surrounded by giant apartments and skyscrapers -- giving visitors an unusually beautiful scenic view. Hide Caption 5 of 10 Photos: 10 of the most picturesque racecourses Ascot, England – Just the name \"Ascot\" conjures visions of royalty, elegance, high fashion and world-class racing. The racecourse was opened in 1711 by Queen Anne, and Royal Ascot is still one of the most celebrated meetings on the calendar. Hide Caption 6 of 10 Photos: 10 of the most picturesque racecourses Chantilly, France – Spectacular and timeless, historic Chantilly sits in front of the 16th-century Chateau de Chantilly and the majestic Great Stables (pictured) amid forests 30 miles north of Paris. Hide Caption 7 of 10 Photos: 10 of the most picturesque racecourses Laytown Races, Ireland – Laytown Races is the only official beach race in Europe. Situated on the Irish coast, the 150-year-old tradition attracts more than 5000 regular visitors every year. Horses race along the sands on a makeshift course. Hide Caption 8 of 10 Photos: 10 of the most picturesque racecourses Goodwood Racecourse, England – The rolling Sussex countryside unfolds in front of one of the most iconic venues in flat racing. Goodwood has hosted racing since 1802 and offers the perfect setting for the famous Glorious Goodwood meeting. Hide Caption 9 of 10 Photos: 10 of the most picturesque racecourses Cheltenham Racecourse, England – Cheltenham is a shrine to jump racing against the idyllic backdrop of the Cotswold hills. It hosts the prestigious Cheltenham Festival every March, the highlight of the world\\'s jump racing calendar. Hide Caption 10 of 10\\n\\nQatar Racing Limited\\n\\nQatar Racing was founded by Sheikh Fahad Al Thani in 2012 and has gained global recognition in a relatively short amount of time.\\n\\nA member of the ruling Qatari family, Sheikh Fahad is one of the most powerful people in the sport and has harbored a life-long love for thoroughbred racing.\\n\\nNow bankrolled by his brothers\\' investment firm QIPCO, the empire includes a breeding program under the name of Pearl Bloodstock.\\n\\nNotable graduates of the stable include triple Group 1 winner Dunaden and Sheikh Fahad\\'s first Group 1 winner Lightening Pearl.\\n\\nThe stable enjoyed one of its best seasons last year, largely thanks to its backing of in-form trainer John Gosden and the powerful Roaring Lion.\\n\\nSheikh Fahad al Thani, head of Qatar Racing, celebrates during Royal Ascot.\\n\\nJuddmonte Farms\\n\\nAn American powerhouse with the financial backing of a member of the Saudi Arabian royal family, no wonder Juddmonte Farms has had so much success.\\n\\nOwner Prince Khalid bin Abdullah is helped by his four sons but insists that racing remains a hobby and not a money-making operation.\\n\\nDespite this, the farm was honored with its fourth Eclipse Award as outstanding owner in 2017 -- adding to recognitions in 1992, 2003, and 2016.\\n\\nJuddmonte\\'s recent success has been based around three wonder horses; Arrogate, Frankel and Enable.\\n\\nJuddmonte owned Arrogate winning the 2017 Pegasus World Cup Invitational.\\n\\nArrogate won the world\\'s richest race, the Pegasus World Cup, in 2017 and followed it up with the Dubai World Cup later that year to become the richest North American thoroughbred of all time with earnings of more than $17.4 million.\\n\\nIn addition, Enable, trained in Britain by Gosden, won Juddmonte\\'s eighth Breeders\\' Cup title in 2018 and a second straight Prix de l\\'Arc de Triomphe in France.\\n\\nLegendary racehorse Frankel, a son of Galileo, continues to be a prize asset as a stud with a cover fee of $228,000. His offspring, of which Cracksman is the standout, netted a prize haul of more than $1 million at Royal Ascot alone last year.\\n\\nWinStar Farm\\n\\nOne of the leading thoroughbred racing and breeding stables in the USA, WinStar has been blessed with success -- especially in recent years.\\n\\nSituated in Kentucky, the stable is owned by American billionaire Kenny Troutt who made his name in communications but has since invested heavily in his love for racing.\\n\\nMost notably, the farm owned 2018\\'s Triple Crown winner Justify -- who became just the 13th horse to ever complete the epic feat.\\n\\nPhotos: Justify wins Triple Crown Justify, left, with jockey Mike Smith, crosses the finish line to win the 150th running of the Belmont Stakes horse race on Saturday, June 9, 2018, in Elmont, New York. Justify became the 13th thoroughbred to win horse racing\\'s Triple Crown, taking first in the Kentucky Derby and Preakness Stakes last month. Hide Caption 1 of 12 Photos: Justify wins Triple Crown Jockey Mike Smith celebrates after the 150th running of the Belmont Stakes on June 9 in Elmont, New York. Justify is now the 13th Triple Crown winner and the first since American Pharoah in 2015. Hide Caption 2 of 12 Photos: Justify wins Triple Crown WinStar Farm owner Kenny Troutt and his family celebrate Justify\\'s win at the Belmont Stakes on June 9, 2018. WinStar is one of the owners of Justify, who has won all six races he has run this year. Hide Caption 3 of 12 Photos: Justify wins Triple Crown The team behind Justify poses with the new Triple Crown trophy after their horse won the Belmont Stakes and the Triple Crown on Saturday, June 9, in Elmont, New York. Hide Caption 4 of 12 Photos: Justify wins Triple Crown Justify (No. 7), ridden by jockey Mike Smith, leads the field into the first turn during the 143rd running of the Preakness Stakes at Pimlico Race Course on May 19, 2018, in Baltimore. Hide Caption 5 of 12 Photos: Justify wins Triple Crown Justify, ridden by jockey Mike Smith, wins the Preakness Stakes at Pimlico Race Course on May 19, 2018, in Baltimore. Hide Caption 6 of 12 Photos: Justify wins Triple Crown Justify is seen at Pimlico Race Course on May 16, 2018, in Baltimore, three days before winning the Preakness Stakes. Hide Caption 7 of 12 Photos: Justify wins Triple Crown Kentucky Derby winner Justify gallops in preparation for the Preakness at Pimlico Race Course on May 15, 2018, in Baltimore. Hide Caption 8 of 12 Photos: Justify wins Triple Crown Justify, with jockey Mike Smith, wins the 2018 Kentucky Derby at Churchill Downs on May 5, 2018, in Louisville, Kentucky. Hide Caption 9 of 12 Photos: Justify wins Triple Crown Justify\\'s saddle towel drips water after the horse won the 144th Kentucky Derby at Churchill Downs on May 5, 2018, in Louisville, Kentucky. Hide Caption 10 of 12 Photos: Justify wins Triple Crown Justify, ridden by jockey Mike Smith, wins the Kentucky Derby at Churchill Downs on May 5, 2018, in Louisville, Kentucky. Hide Caption 11 of 12 Photos: Justify wins Triple Crown Justify, the No. 7 horse, crosses the finish line with jockey Mike Smith to win the 144th running of the Kentucky Derby at Churchill Downs on May 5, 2018, in Louisville, Kentucky. Hide Caption 12 of 12\\n\\nSince retirement, the majority of Justify\\'s breeding rights have been sold to Coolmore, where his stud fee for this years stands at $150,000.\\n\\nDespite predominately being a breeding operation, WinStar has had success with a number of other horses -- its first Group 1 victory came in 2010 with Super Saver.'"
      ]
     },
     "execution_count": 4,
     "metadata": {},
     "output_type": "execute_result"
    }
   ],
   "source": [
    "texts_train[0]\n",
    "#dict_eng = enchant.Dict('ru_RU')"
   ]
  },
  {
   "cell_type": "code",
   "execution_count": 15,
   "metadata": {},
   "outputs": [
    {
     "data": {
      "application/vnd.jupyter.widget-view+json": {
       "model_id": "32216befeb6e4d59ab62993791d809da",
       "version_major": 2,
       "version_minor": 0
      },
      "text/plain": [
       "VBox(children=(HTML(value=''), IntProgress(value=0, max=240)))"
      ]
     },
     "metadata": {},
     "output_type": "display_data"
    },
    {
     "data": {
      "text/plain": [
       "'new york cnn pressman raises her hands in triumph the crowd claps in unison and dj cranks up the music the banquet hall on the banks of the hudson pulsates as nine of best friends lead procession to the dance floor it the start of her sweet 16 birthday party celebration not just of her big day but of all that has happened in the past year way for friends and family to express their love became viral sensation months ago after the teen with seizure disorder delivered blunt message to her insurer her two words for screw you expressed the anger she felt at being denied minimally invasive brain surgery that promised to end her seizures her story first told by cnn in december triggered massive uproar and eventually approved the procedure this saturday evening amid the cheers of her closest friends radiates on stage beneath strings of white flashing lights then someone shouts and the dance floor clears everyone rushes outside it as if mother nature has joined the party rainbow stretches from the hudson river high into the heavens launches her head back and strikes an array of poses as people take photos that what important in life miracles right her mother julie pressman says pointing to the sky can finally exhale her father rob says it like unicorn coming down she been so happy since the operation he says we looking forward to great year it moment the family thought might never come after speaks changes policy mother became fierce champion for her youngest daughter determined that would get the surgery her doctors believed could stop her seizures motivational note rests on the family refrigerator has suffered from seizure disorder most of her life each time they struck her body would grow cold and shake she zone out anywhere from 20 seconds to two minutes typically still aware of what was going on around her she had seizures on the soccer field during softball games on stage during plays in the classroom most anywhere her doctors last year recommended for laser ablation surgery minimally invasive procedure in which thin laser is used to heat and destroy lesions in the brain where the seizures originate it cutting edge work performed through an eighth inch hole in the skull neurosurgeons believe it to be more precise and less invasive than traditional open brain surgery in which two inch hole is cut in the skull or in some cases the entire skull cap is removed yet the nation third largest insurance company overruled her treating physicians in denying her coverage said it considered laser ablation surgery experimental and for the treatment of epilepsy because the effectiveness of this approach has not been established clinical studies have not proven that this procedures sic effective for treatment of the member condition said when first approached for comment by cnn late last year the insurance giant stood by its denial underwent the laser ablation surgery on july 25 three weeks later she says she adjusting well it kind of feels like it little bit of dream but also know it real in response had this message considering they denying me getting surgery and stopping this thing that wrong with my brain would probably just say screw you from there the story took off the and were shared across twitter her grandmother made shirts for family members for christmas that read on team on the front on the back the message said short for girl has blunt message for after her brain surgery request was co jake tapper december 11 2017 behind the scenes neurologists and neurosurgeons reached out to the family offering support but none was more powerful than mark the executive vice president and chief operating officer of health new york largest health care provider the hospital executive was so moved by story he told the family this is the last day you going to fight on your own is passionate on this issue insurance denials for what deems medically necessary procedures have swelled the past two years with the health provider saying it lost 150 million in justifiable reimbursements at time when insurance companies have been setting record profits the executive set in motion chain of events he tapped dr the director of epilepsy surgery to handle case and even offered the surgery for free if still refused to cover it was happy to do that said before her sweet 16 party spent the day getting her hair and done underwent series of tests this spring with her new team at said her case was complex because the focal point of her seizures was fairly deep in her brain behind her temple to perform an open brain surgery he said he would need to dissect portion of her brain to get to the spot as result said her team agreed with her previous doctors that laser ablation was the route to go we did our due diligence and we did determine that this would be the best way to treat her epilepsy he told cnn along the way had change of heart in april the insurer notified the family it would cover the surgery coverage for this service has been approved subject to the requirements in this letter there was no explanation no apology just an approval with full coverage pressed by cnn for answers said the approval came after her doctors made new request for laser ablation surgery based on recently published clinical evidence the procedure was approved went on to say it recently updated its policies for epilepsy patients seeking laser ablation related in july 2018 we made updates to our epilepsy surgery clinical policies based on recently published data said the new guidelines cover laser ablation surgery if certain criteria are met as shared in december we constantly evaluate new published and peer reviewed studies as well as additional evidence when developing our clinical policies and will continue to do so mother julie wanted the party to be especially memorable it not just birthday party it literally like she coming out of this brain surgery and is so radically different gave all the credit to the diminutive teen with the powerful voice she really advocated for herself and it worked out for her whatever happened it got her the appropriate treatment got to hand it to her added has been an inspiration to all those who have had the privilege of caring for her her advocacy and courage will hopefully clear the way for other epilepsy patients who could benefit from this surgery never been more excited the day of the surgery july 25 was filled with nerves and excitement parents and older sister lindsey crowded her hospital room before the operation they gabbed about trivial everyday stuff as families often do but make no mistake the importance of the day weighed on everyone told staff at north shore university hospital in she had never been more excited for anything in my life her first grand seizure when she fell to the floor and shook came at the age of but she remembers having smaller aura seizures when she would space out for brief spells as far back as kindergarten she can have five seizures in day sometimes as many as 30 it been really really difficult to live with she said keeps box filled with various anti seizure medications from over the years about of epilepsy patients live with uncontrollable seizures because no available treatment works for them according to the epilepsy foundation as she was wheeled off to the operating room dad wrapped his arms around lindsey and held her reassuring her that would be ok had waited until summer to undergo the surgery that way she could adjust to any changes in her brain activity before the new school year started laser ablation is still emerging in the care of epilepsy patients and mother said she hopes her daughter can serve as an example for other teens who qualify for laser surgery and are afraid of open brain surgery known as temporal this really gives people hope who are young and dealing with this that they can go forward early on in life and get this procedure done she says in the operating room the procedure went quite well said everything went as planned there are only about 40 to 50 around the nation said where laser ablation surgeries are performed with the technique becoming more popular in recent years said existing data show about 50 seizure free rate for those who undergo laser ablation compared to about 70 who undergo traditional open brain surgeries comprehensive study is to better define its efficacy but said he has had better success than the national average my results are about as good as the open temporal the laser surgery is more appealing to patients and parents he says because open surgery can be so daunting laser surgery is less invasive requires less time in the hospital and has quicker recovery said poses for pictures outside the banquet hall at beach state park as friends snap photos you look like princess one friend says patients can suffer short term memory loss especially forgetting names of people they meet it not usually something that is devastating especially when you younger he says given that she young we believe that her brain is going to be more able to adapt had one grand seizure in the days after the surgery but she forgotten to take her anti seizure medicine the day before also says it not unusual for patients to have seizures in the week or two right after surgery based on her recovery three weeks after surgery he believes has 60 to 80 chance of being seizure free the benchmark will be year from now the big question is whether she will have one or two seizures year or whether she has no seizures says we want no seizures keeping my fingers crossed new vibrant at her birthday party the new is on full display she dances she laughs she commands the crowd father robert requested slow dance with his daughter shortly after she blew out the candles on her birthday cake since the operation he says she has exploded just the joy in her personality her sister marvels at her transformation she is just flourishing lindsey says never seen her so vibrant and so open with herself says it been weird ever since her surgery because feel so much better it also bit of an adjustment to think she could actually be seizure free get cnn health weekly newsletter sign up here to get the results are in with dr every tuesday from the cnn health team it kind of feels like it little bit of dream but also know it real on stage 16 of the closest people in her life and each helps light an individual candle she begins with her father one of the funniest people know there the uncle who is one of the biggest know the friend who always knows when to cheer me up and the one who always has smile on her face that never seems to leave she saves the candle for her praises her as and marathon runner and thanks her for planning the entire party she was there for me every single time was in the hospital literally the best says please come up and light the final candle says she hopes she can inspire other teens with seizure disorders to advocate for themselves it been really really difficult she says had to go through so much as the beatles here comes the sun echoes across the room rushes to hug her daughter as the two embrace george harrison voice sings little darling the smiles returning to the faces little darling it seems like years since it been here'"
      ]
     },
     "execution_count": 15,
     "metadata": {},
     "output_type": "execute_result"
    }
   ],
   "source": [
    "#чистка\n",
    "texts_prep_train = []\n",
    "\n",
    "for text in log_progress(texts_train):\n",
    "    filtered = re.findall('(?u)\\\\b\\\\w\\\\w+\\\\b', text)\n",
    "    filtered = [filt for filt in filtered if dict_eng.check(filt) and filt not in ['s', 't', 'd', 'v', 've', 'll', 're']]\n",
    "    texts_prep_train.append(' '.join(filtered).lower())\n",
    "texts_prep_train[0]"
   ]
  },
  {
   "cell_type": "code",
   "execution_count": 16,
   "metadata": {},
   "outputs": [
    {
     "data": {
      "application/vnd.jupyter.widget-view+json": {
       "model_id": "7031ef9740824dc29e8ab1506005abbd",
       "version_major": 2,
       "version_minor": 0
      },
      "text/plain": [
       "VBox(children=(HTML(value=''), IntProgress(value=0, max=58)))"
      ]
     },
     "metadata": {},
     "output_type": "display_data"
    }
   ],
   "source": [
    "texts_prep_test = []\n",
    "\n",
    "for text in log_progress(texts_test):\n",
    "    filtered = re.findall('(?u)\\\\b\\\\w\\\\w+\\\\b', text)\n",
    "    filtered = [filt for filt in filtered if dict_eng.check(filt) and filt not in ['s', 't', 'd', 'v', 've', 'll', 're']]\n",
    "    texts_prep_test.append(' '.join(filtered).lower())"
   ]
  },
  {
   "cell_type": "code",
   "execution_count": 17,
   "metadata": {},
   "outputs": [
    {
     "name": "stdout",
     "output_type": "stream",
     "text": [
      "(240, 15761) (58, 15761)\n"
     ]
    }
   ],
   "source": [
    "vectorizer = TfidfVectorizer(stop_words='english', strip_accents='ascii')\n",
    "\n",
    "X_train = vectorizer.fit_transform(texts_prep_train)\n",
    "X_test = vectorizer.transform(texts_prep_test)\n",
    "\n",
    "print (X_train.shape, X_test.shape)"
   ]
  },
  {
   "cell_type": "code",
   "execution_count": 18,
   "metadata": {},
   "outputs": [
    {
     "name": "stdout",
     "output_type": "stream",
     "text": [
      "LR accuracy: 0.79%\n"
     ]
    },
    {
     "name": "stderr",
     "output_type": "stream",
     "text": [
      "c:\\users\\антон\\appdata\\local\\programs\\python\\python37-32\\lib\\site-packages\\sklearn\\linear_model\\logistic.py:432: FutureWarning: Default solver will be changed to 'lbfgs' in 0.22. Specify a solver to silence this warning.\n",
      "  FutureWarning)\n",
      "c:\\users\\антон\\appdata\\local\\programs\\python\\python37-32\\lib\\site-packages\\sklearn\\linear_model\\logistic.py:459: FutureWarning: Default multi_class will be changed to 'auto' in 0.22. Specify the multi_class option to silence this warning.\n",
      "  \"this warning.\", FutureWarning)\n"
     ]
    }
   ],
   "source": [
    "predictor_lr = LogisticRegression().fit(X_train, labels_train)\n",
    "y_pred_lr = predictor_lr.predict(X_test)\n",
    "print (\"LR accuracy: {0}%\".format(round(np.mean(labels_test == y_pred_lr), 2)))"
   ]
  },
  {
   "cell_type": "code",
   "execution_count": 30,
   "metadata": {},
   "outputs": [
    {
     "data": {
      "text/plain": [
       "array(['health', 'health', 'health', 'health', 'health', 'sport', 'sport',\n",
       "       'health', 'health', 'health', 'health', 'sport', 'health',\n",
       "       'travel', 'health', 'sport', 'sport', 'sport', 'travel', 'asia',\n",
       "       'travel', 'travel', 'sport', 'sport', 'health', 'health', 'travel',\n",
       "       'sport', 'travel', 'travel', 'sport', 'sport', 'health', 'health',\n",
       "       'health', 'health', 'health', 'sport', 'travel', 'health',\n",
       "       'travel', 'sport', 'health', 'travel', 'health', 'health',\n",
       "       'health', 'travel', 'health', 'travel', 'asia', 'asia', 'travel',\n",
       "       'travel', 'travel', 'sport', 'health', 'travel', 'travel',\n",
       "       'health', 'sport', 'health', 'health', 'sport', 'health', 'health',\n",
       "       'health', 'health', 'health', 'sport', 'asia', 'travel', 'health',\n",
       "       'sport', 'travel', 'health', 'health', 'sport', 'sport', 'health',\n",
       "       'sport', 'health', 'asia', 'asia', 'health', 'health', 'health',\n",
       "       'health', 'asia', 'health', 'sport', 'health', 'sport', 'sport',\n",
       "       'health', 'sport', 'sport', 'health', 'health', 'travel', 'health',\n",
       "       'travel', 'travel', 'sport', 'travel', 'sport', 'health', 'health',\n",
       "       'health', 'health', 'health', 'health', 'health', 'sport', 'sport',\n",
       "       'travel', 'health', 'health', 'health', 'health', 'travel', 'asia',\n",
       "       'sport', 'health', 'travel', 'health', 'sport', 'health', 'asia',\n",
       "       'asia', 'health', 'health', 'health', 'travel', 'travel', 'travel',\n",
       "       'asia', 'health', 'health', 'asia', 'health', 'health', 'health',\n",
       "       'health', 'sport', 'travel', 'health', 'health', 'travel', 'sport',\n",
       "       'sport', 'travel', 'health', 'sport', 'asia', 'health', 'travel',\n",
       "       'health', 'asia', 'sport', 'health', 'health', 'health', 'health',\n",
       "       'health', 'health', 'asia', 'health', 'health', 'health', 'health',\n",
       "       'health', 'travel', 'sport', 'asia', 'asia', 'travel', 'travel',\n",
       "       'health', 'travel', 'health', 'sport', 'health', 'travel',\n",
       "       'health', 'sport', 'sport', 'health', 'travel', 'sport', 'health',\n",
       "       'sport', 'asia', 'health', 'asia', 'health', 'travel', 'health',\n",
       "       'sport', 'health', 'health', 'sport', 'sport', 'sport', 'travel',\n",
       "       'health', 'travel', 'sport', 'health', 'health', 'health',\n",
       "       'health', 'health', 'health', 'asia', 'sport', 'sport', 'sport',\n",
       "       'sport', 'health', 'health', 'health', 'asia', 'health', 'sport',\n",
       "       'travel', 'health', 'health', 'sport', 'health', 'health',\n",
       "       'travel', 'health', 'sport', 'sport', 'health', 'health', 'sport',\n",
       "       'travel', 'asia'], dtype=object)"
      ]
     },
     "execution_count": 30,
     "metadata": {},
     "output_type": "execute_result"
    }
   ],
   "source": [
    "labels_train"
   ]
  },
  {
   "cell_type": "code",
   "execution_count": 19,
   "metadata": {},
   "outputs": [
    {
     "name": "stdout",
     "output_type": "stream",
     "text": [
      "LR accuracy: 0.95%\n"
     ]
    }
   ],
   "source": [
    "predictor_svm = LinearSVC().fit(X_train,labels_train)\n",
    "y_pred_svm = predictor_svm.predict(X_test)\n",
    "print (\"LR accuracy: {0}%\".format(round(np.mean(labels_test == y_pred_svm), 2)))"
   ]
  },
  {
   "cell_type": "code",
   "execution_count": 46,
   "metadata": {},
   "outputs": [
    {
     "name": "stdout",
     "output_type": "stream",
     "text": [
      "One-VS-all accuracy: 0.88%\n"
     ]
    }
   ],
   "source": [
    "#binary\n",
    "predictor_oneVSall = OneVsRestClassifier(LinearSVC(), n_jobs=10).fit(X_train, labels_train)\n",
    "y_pred_onevsall = predictor_oneVSall.predict(X_test)\n",
    "print ('One-VS-all accuracy: {0}%'.format(round(np.mean(labels_test == y_pred_onevsall), 2)))"
   ]
  },
  {
   "cell_type": "code",
   "execution_count": 48,
   "metadata": {},
   "outputs": [],
   "source": [
    "ensemble_soft = VotingClassifier([('rf_gini_10', RandomForestClassifier(n_estimators=10)),\n",
    "                                  ('rf_entropy_100', RandomForestClassifier(n_estimators=100, criterion='entropy')),\n",
    "                                  ('gbt_100', GradientBoostingClassifier(n_estimators=10))], voting='soft', n_jobs=1)\n",
    "\n",
    "ensemble_hard = VotingClassifier([('rf_gini_10', RandomForestClassifier(n_estimators=10)),\n",
    "                                  ('rf_entropy_100', RandomForestClassifier(n_estimators=100, criterion='entropy')),\n",
    "                                  ('gbt_100', GradientBoostingClassifier(n_estimators=10))], voting='hard', n_jobs=1)"
   ]
  },
  {
   "cell_type": "code",
   "execution_count": 50,
   "metadata": {},
   "outputs": [
    {
     "data": {
      "text/plain": [
       "VotingClassifier(estimators=[('rf_gini_10', RandomForestClassifier(bootstrap=True, class_weight=None, criterion='gini',\n",
       "            max_depth=None, max_features='auto', max_leaf_nodes=None,\n",
       "            min_impurity_decrease=0.0, min_impurity_split=None,\n",
       "            min_samples_leaf=1, min_samples_split=2,\n",
       "          ...    subsample=1.0, tol=0.0001, validation_fraction=0.1,\n",
       "              verbose=0, warm_start=False))],\n",
       "         flatten_transform=None, n_jobs=1, voting='hard', weights=None)"
      ]
     },
     "execution_count": 50,
     "metadata": {},
     "output_type": "execute_result"
    }
   ],
   "source": [
    "ensemble_soft.fit(X_train, labels_train)\n",
    "ensemble_hard.fit(X_train, labels_train)"
   ]
  },
  {
   "cell_type": "code",
   "execution_count": 54,
   "metadata": {},
   "outputs": [
    {
     "name": "stdout",
     "output_type": "stream",
     "text": [
      "Hard voting accuracy: 0.83%\n",
      "Soft voting accuracy: 0.88%\n"
     ]
    }
   ],
   "source": [
    "y_pred_hard = ensemble_hard.predict(X_test)\n",
    "y_pred_soft = ensemble_soft.predict(X_test)\n",
    "print ('Hard voting accuracy: {0}%'.format(round(np.mean(labels_test == y_pred_hard), 2)))\n",
    "print ('Soft voting accuracy: {0}%'.format(round(np.mean(labels_test == y_pred_soft), 2)))"
   ]
  },
  {
   "cell_type": "code",
   "execution_count": 61,
   "metadata": {},
   "outputs": [],
   "source": [
    "from sklearn.naive_bayes import GaussianNB\n",
    "ensemble_soft = VotingClassifier([('lg', LogisticRegression(solver='lbfgs', multi_class='multinomial',random_state=1)),\n",
    "                                  ('gbt_100', GradientBoostingClassifier(n_estimators=10))], voting='soft', n_jobs=1)\n",
    "\n",
    "ensemble_hard = VotingClassifier([('lg', LogisticRegression(solver='lbfgs', multi_class='multinomial',random_state=1)),\n",
    "                                  ('gbt_100', GradientBoostingClassifier(n_estimators=10))], voting='hard', n_jobs=1)"
   ]
  },
  {
   "cell_type": "code",
   "execution_count": 62,
   "metadata": {},
   "outputs": [
    {
     "data": {
      "text/plain": [
       "VotingClassifier(estimators=[('lg', LogisticRegression(C=1.0, class_weight=None, dual=False, fit_intercept=True,\n",
       "          intercept_scaling=1, max_iter=100, multi_class='multinomial',\n",
       "          n_jobs=None, penalty='l2', random_state=1, solver='lbfgs',\n",
       "          tol=0.0001, verbose=0, warm_start=False)), ('gbt_100'...    subsample=1.0, tol=0.0001, validation_fraction=0.1,\n",
       "              verbose=0, warm_start=False))],\n",
       "         flatten_transform=None, n_jobs=1, voting='hard', weights=None)"
      ]
     },
     "execution_count": 62,
     "metadata": {},
     "output_type": "execute_result"
    }
   ],
   "source": [
    "ensemble_soft.fit(X_train, labels_train)\n",
    "ensemble_hard.fit(X_train, labels_train)"
   ]
  },
  {
   "cell_type": "code",
   "execution_count": 63,
   "metadata": {},
   "outputs": [
    {
     "name": "stdout",
     "output_type": "stream",
     "text": [
      "Hard voting accuracy: 0.86%\n",
      "Soft voting accuracy: 0.84%\n"
     ]
    }
   ],
   "source": [
    "y_pred_hard = ensemble_hard.predict(X_test)\n",
    "y_pred_soft = ensemble_soft.predict(X_test)\n",
    "print ('Hard voting accuracy: {0}%'.format(round(np.mean(labels_test == y_pred_hard), 2)))\n",
    "print ('Soft voting accuracy: {0}%'.format(round(np.mean(labels_test == y_pred_soft), 2)))"
   ]
  },
  {
   "cell_type": "code",
   "execution_count": 27,
   "metadata": {
    "scrolled": true
   },
   "outputs": [
    {
     "name": "stdout",
     "output_type": "stream",
     "text": [
      "========================================================================\n",
      "\n",
      "sport : health\n",
      "\n",
      "(CNN) Consider the glorious but humble donkey. According to the Bible, Jesus rode one, not a horse, into Jerusalem.\n",
      "\n",
      "The significance was that it was a common man's animal for the common man's king, rather than a more traditionally royal steed. And its Sunday school lore that his mother rode one from Nazareth while pregnant, though that's not in the official canon. I checked.\n",
      "\n",
      "Domesticated for about 5,000 years, donkeys have been put to work for humanity's historically changing needs. They've been the family car, our U-Haul vans, engines pulling barges in canals and wagons out West, and they've been our workmates -- if you work in a mine or on a farm. They're still used in military operations to carry ground air missiles over difficult terrain.\n",
      "\n",
      "Burros, as the Spanish call them, walk at about a human's foot speed. They rarely kick or bite. They seem to have a calming effect on horses and humans. And they don't get nearly the respect they deserve, the Rodney Dangerfields of the animal kingdom.\n",
      "\n",
      "Like a cross between a Tesla and a wheelbarrow, donkeys are beasts of burden that can carry up to 300 pounds for more than two weeks in the mountains, while needing very little food or water. They're sort of the camels of the West. In fact, they're the camels of the East, North and South, too, as donkeys continue to thrive in North and South America, Europe, Asia and Africa.\n",
      "\n",
      "As some industries faded, the donkey soon added racing partner to its resume. When the US mining industry started to dry up in the 1930s and '40s, some enterprising Coloradans came up with the idea of attracting spectators to their towns by hosting an ultramarathon of human-donkey pairs -- The World Championship Pack Burro Race.\n",
      "\n",
      "\"They teach us so much,\" said pack burro race director Brad Wann. \"They teach us humility. They connect us with nature. Burros have the ability to reach into your soul.\"\n",
      "\n",
      "The first race was in 1949, which makes it, according Wann, the second-oldest continuously run marathon in the country after the Boston Marathon.\n",
      "\n",
      "The race also lends itself to a variety of puns. For example, the winner of the annual pack burro championship is the first to get his or her ass over the finish line. Wann's title is media relations officer for the Western Pack Burro Ass-ociation . There are eight of these eye-rollers in this article if you'd like to spot them all.\n",
      "\n",
      "But it's still a serious sport, even if it has a sense of humor. \" Haulin' Ass \" is the title of a very straight documentary about the sport.\n",
      "\n",
      "A burro-ful day\n",
      "\n",
      "Originally the race extended between Leadville and Fairplay, located in the middle of the state and only about 11 miles apart as the crow flies, but separated by a mountain. Legend holds that it was inspired by two miners who struck gold simultaneously and raced back to town to claim the find. The real story is that the race was inspired by a desire to keep former mining towns from turning into ghosts.\n",
      "\n",
      "Now both towns have their own races, part of an annual series of eight in Colorado. Fairplay, is the longest (29 miles), tied for highest (more than 13,000 feet), and the one that retained the World Championship title. The town is also home to the Prunes Monument, possibly the only monument in the world erected to honor a donkey. Prunes worked alongside a miner for more than 60 years.\n",
      "\n",
      "Photos: Pack Burro World Championship At the annual World Championship Pack Burro Race in Colorado, it's not just about running an ultramarathon, it's about getting your ass across the finish line, too. Hide Caption 1 of 11 Photos: Pack Burro World Championship Valerie Nussbaumer and Burrowed Thumper in downtown Fairplay, where the race starts and ends. Hide Caption 2 of 11 Photos: Pack Burro World Championship George Zack and the donkey Jack -- they came in second on the 29-mile course. Race day also includes a short 15-mile course. Hide Caption 3 of 11 Photos: Pack Burro World Championship Joe Polonsky with his burro, Jake. When the US mining industry started to dry up, locals came up with the idea of attracting spectators to their towns by hosting an ultramarathon of human-donkey pairs. Hide Caption 4 of 11 Photos: Pack Burro World Championship Smokey Burgess with his burro Sweet Pea. Donkeys must carry mining equipment: a pick, gold pan, shovel and saddle. Hide Caption 5 of 11 Photos: Pack Burro World Championship Running with a donkey is a bit of give and take, literally. Sometimes you're pulling them, other times, they're pulling you. On flat trails either teammate can be in the lead, or side-by-side, but human runners are still doing the steering. Hide Caption 6 of 11 Photos: Pack Burro World Championship Lon Vincent and Dakota. Runners benefit with getting as many miles together as possible on training runs. Humans need to acclimate to higher elevations, but donkeys don't. Hide Caption 7 of 11 Photos: Pack Burro World Championship Bob Sweeney with ReDONKulous. Sometimes a burro will just shut down. In previous races, teams have had to drop out when this happens. Hide Caption 8 of 11 Photos: Pack Burro World Championship Racers need to train on long distances -- putting in the hours on trail runs and at high altitudes -- as the pack burro race is a challenging course. Hide Caption 9 of 11 Photos: Pack Burro World Championship Jack Lohmann with Doc at the top of Mosquito Pass, the highest point of the course, at 13,185 feet. Hide Caption 10 of 11 Photos: Pack Burro World Championship Richard Fogal with Scratch. \"They teach us so much,\" said pack burro race director Brad Wann. \"They teach us humility. They connect us with nature.\" Hide Caption 11 of 11\n",
      "\n",
      "Race day, in July, was a cool one of blue skies. This year 89 -- a record number -- of human-burro pairs competed in the 70th world championship, assembling in the Old West-looking Fairplay. Wann estimates at least 150,000 people showed up to watch the start of the race.\n",
      "\n",
      "The smell of excitement and excrement was in the air as the starter gun signaled a mass start of two lengths. The 29-mile race had 20 pairs and 3,300 feet of elevation gain and a short course of 15 miles had another 69 pairs.\n",
      "\n",
      "The start of the race is critical, explained Wann. \"Don't break their will, let the burro set the pace early on instead of shutting it down,\" he explained. \"Burros will pair up and want to go that pace, and you have to feel that out. So run as fast you can -- sprint if the donkey does. If you can't do that you'll have a slow donkey the rest of the race. It's a burro race, not a human race.\"\n",
      "\n",
      "The course also ends in Fairplay, running through South Park (the show of the same name has somehow not done a burro racing episode), and then heading up dirt roads, trails and rocky terrain to the 13,185-foot summit of Mosquito Pass. (Or should that be Mosquito P-ass?)\n",
      "\n",
      "The age range of the human runners at this year's world championship was 15 to 70, and they came from all over the US, Europe, Canada and even Africa. The California team brought in their own donkeys. About 65% were repeat runners addicted to the niche sport which consistently only takes place in Colorado, the state where it was born.\n",
      "\n",
      "About a third of the runners were women this year. In fact, the first woman to ever compete was Edna Miller, with her burro Pill, in 1951, nearly 20 years before the first woman ran the Boston Marathon (against the rules, even then).\n",
      "\n",
      "The donks -- as insiders may refer to them -- that competed this year have adorable and delicious names such as Buckwheat, Hershey and Sweet Pea. Past winners have included BonBon and Cream Puff. My favorite name for a competitor this year was ReDONKulous. This year included 16 mini-donkeys on the short course.\n",
      "\n",
      "And don't call donkeys mules, which are actually half donkey and half horse breeds. Those half-assed animals aren't allowed to race in the pack burro circuit.\n",
      "\n",
      "Rules state that the donks (I'm an insider now) must carry mining equipment: a pick, gold pan, shovel and saddle. This weighs about 16 pounds and for the mini-donkeys that's all they need; standard-sized donkeys must add weights to a minimum of 33 pounds. The rope attaching the team can't be longer than 15 feet and the runners don't dress as miners, though the occasional cowboy hat may allude to an earlier era.\n",
      "\n",
      "Like any ultramarathon, especially with elevation, endurance requires training. And in this case some animal husbandry skills as well. As a result, there are, of course, comical moments for bystanders watching when the donkey protests. Sometimes a burro will just shut down. In previous races, teams have had to drop out when this happens.\n",
      "\n",
      "The air may be thin on oxygen up on Mosquito Pass, but the mountain views are amazing. Green and grey peaks are in all directions, the views as wild and West as some of pack animals.\n",
      "\n",
      "This year's winning team was Kirt Courkamp and his burro Mary Margaret, finishing the 29 miles in just over 6 hours and winning the $1,000 first place prize. These two locals won the last two years and this year won in Leadville and Buena Vista too, collectively known as the Triple Crown.\n",
      "\n",
      "Breaking in\n",
      "\n",
      "\"In the whole world, there are probably fewer than 1,000 people who have ever competed in a pack-burro race,\" the late Denver Post columnist Ed Quillen wrote in 2007 , arguing for it to be the state's official sport. (In 2012, pack burro racing was designated a summer heritage sport of Colorado.)\n",
      "\n",
      "If you want to be among this elite crew, your training is two-fold. You need to condition yourself to run long distances — putting in the hours on trail runs and at high altitudes -- as the pack burro race is a very challenging course.\n",
      "\n",
      "Then there is driving a donkey. They don't need to acclimate to the altitude or learn how to properly fuel themselves with calories and hydration to go the distance. But runners still benefit with getting as many miles together as possible.\n",
      "\n",
      "There are techniques and personality differences among the animals that need to be m-ass-tered to have a successful run. \"If the burro doesn't trust you, or like you, or you are pushing too hard,\" said Wann, \"it's not going to work.\"\n",
      "\n",
      "Organizers don't recommend it but you can show up the day before a burro pack race and rent a donkey. Amber Wann, a self described \"donkey matchmaker\" and wife of Brad, rents them for races and tries to match running speed and equine experience.\n",
      "\n",
      "\"Burro racing is a very mental game,\" he added. \"We're navigating through some of the roughest terrain in the world and you have to build a relationship with your ass to make that happen.\"\n",
      "\n",
      "Running with a donkey is a bit of give and take, literally. Sometimes you're pulling them, other times they're pulling you. Uphill they can be a real ass-et if they are in the lead and pulling a bit. But going downhill, runners want to be in the lead lest they find themselves getting dragged by a fast and enthusiastic 900-pound burro which can haul ass at speeds up to 40 miles per hour.\n",
      "\n",
      "On flats, either teammate can be in the lead, or side-by-side, but human runners are still doing the steering.\n",
      "\n",
      "You control a donkey through their nose, pulling back on the rope to slow down, like a gas pedal of pressure-and-release to change speed. A whistle or a \"hup-hup!\" can get 'em goin' and the classic \"whoa\" can slow 'em down. The donkey of course doesn't know where it's going. Humans are the \"GPS for the critters,\" Wann said.\n",
      "\n",
      "Gear-wise, runners need the right shoes, clothes, running vests and fuel for an ultramarathon. And the burros, in addition to getting a clean bill of health from a vet, need the old timey mining equipment and added weight to carry.\n",
      "\n",
      "Ass-essing risk and reward\n",
      "\n",
      "As with any ultramarathon trail run, injuries are always possible. According to a 2015 study involving 1,212 active ultrarunners, they suffered about the same frequency of injuries as shorter-distance runners , though some wounds were inflicted by the obstacles of trail running. The most common injuries were of the knee and foot stress fractures.\n",
      "\n",
      "Being tethered to a donkey adds risk of injury to runners, of course. If you trip, you can get serious road rash from getting dragged along. One year a runner bruised or broke some ribs when her burro kicked her in the chest.\n",
      "\n",
      "The rules don't allow runners to ride the donkey, but in the race's history, injured runners have been carried down the mountain on their partners' back, as they're out of the race anyway.\n",
      "\n",
      "Get CNN Health's weekly newsletter Sign up here to get The Results Are In with Dr. Sanjay Gupta every Tuesday from the CNN Health team.\n",
      "\n",
      "Donkeys get injured too, but in 70 years of racing, not one animal has died or been injured beyond recovery.\n",
      "\n",
      "Animal rights groups have raised eyebrows about the sport but organizers stress the humane treatment of the burros. \"Any contestant mistreating his animal may be disqualified,\" the race rules state. \"No needles, electric prods, narcotics, clubs or whips, other than the halter rope, may be used.\" But the runners' love for their donkey partners makes this rule seemingly superfluous.\n",
      "\n",
      "Organizers also point out that donkeys enjoy the race as much as the ultra-runners. \"If you observe donkeys in the wild, they aren't sedentary creatures,\" wrote Western Pack Burro Ass-ociation member Sheri L. Thompson on the sport's race website. \"In the wild, donkeys are very trim athletic animals\" and \"they exercise all day long.\"\n",
      "\n",
      "\"They are willing participants,\" Thompson writes, alluding to the burro's famous stubbornness. \"If they don't want to go, you can't make them do anything.\"\n",
      "\n",
      "\n",
      "========================================================================\n",
      "\n",
      "health : asia\n",
      "\n",
      "Hong Kong (CNN) At 93, Malaysian Prime Minister Mahathir Mohamad is the oldest leader in the world. In May, he made a stunning return to political power, he says in a bid to save his corruption-plagued country before it's too late.\n",
      "\n",
      "Mahathir was once at the helm of the country for 22 years from 1981 to 2003, becoming Malaysia's longest-serving Prime Minister. In that time, he was credited with transforming Malaysia from an agrarian society to an industrialized nation. In the process, he ruled the country with an iron fist -- locking up political opponents and censoring the press.\n",
      "\n",
      "CNN's Talk Asia sat down with the elder statesman at the Prime Minister's Office outside the capital of Kuala Lumpur.\n",
      "\n",
      "CNN: Prime Minister, you came out of retirement to run again for political office. Why this comeback at such a late stage in life?\n",
      "\n",
      "MM: Well, when I stepped down voluntarily, I thought that I would have a very relaxed time, be with my family and maybe cruise around. Unfortunately, the moment I stepped down, my successor decided to change course, adopted new policies and all that. And particularly discarded everything that I have started. So, a lot of people felt unhappy. They all came to see me, asking me \"Please, do something, please do something.\"\n",
      "\n",
      "'We should be treated as equal with anybody else'\n",
      "\n",
      "CNN: How did politics come into your life?\n",
      "\n",
      "MM: We were under the British rule and then the Japanese came in, conquered us and then the Japanese gave our country to the Thais, to the Siamese people. So it looks as if we are just a football that can be kicked around by anybody. I didn't like that. I felt that people don't respect us. I felt that we should be treated as equal with anybody else.\n",
      "\n",
      "So that is what drove me, that Malaysia can be as good as any other country. I was born here, brought up here and these people around me are the people I have lived with all this time and we have developed a way of life that we cherish.\n",
      "\n",
      "CNN: In your first term, your critics labeled you authoritarian, a dictator. I know in the past you've denied that. Does it take a strong man to move a developing country, an emerging country into the developed world?\n",
      "\n",
      "MM: I was not a dictator, I was elected five times by the people, and no dictator has ever resigned; I resigned. But I thought that the opportunity to work and deliver certain things for the country was something very satisfying. It is not the money that you earn, it is job satisfaction.\n",
      "\n",
      "I traveled a lot to many countries and other countries are doing well, why shouldn't Malaysia? So it is a matter of analyzing our assets, our liabilities, our situation and coming up with some designs that can contribute towards the advancement of this country.\n",
      "\n",
      "JUST WATCHED Mahathir on his first term: \"I was not a dictator\" Replay More Videos ... MUST WATCH Mahathir on his first term: \"I was not a dictator\" 07:31\n",
      "\n",
      "CNN: Do you have any regrets from your first term?\n",
      "\n",
      "MM: No, not much of a regret but I felt that this country is a multi-racial country. You cannot change that, and that is something that I tried to do because I don't like disparities between rich and poor, between races, because that will destabilize the country.\n",
      "\n",
      "I tried to ensure that the disparities were diminished, so that all the races enjoy the wealth of this country together. I had little success but generally I failed. I wish I had [done more], but you know, you can't change people's way of life, culture, mindsets and all that overnight. I will try again.\n",
      "\n",
      "'I suppose I fell in love with her'\n",
      "\n",
      "CNN: You met your wife, Tun Siti Hasmah, while studying medicine in university. What first attracted you to her?\n",
      "\n",
      "MM: Actually there were not many girls in those days and she was the only girl taking the medical course who was a Malay. So naturally we gravitated towards the only girl in the group and eventually, well, I suppose I fell in love with her. In those days, not many women went to the university, and she was determined to get a university education. That, I think reflects her strength of character.\n",
      "\n",
      "JUST WATCHED Malaysian PM on China and Trump Replay More Videos ... MUST WATCH Malaysian PM on China and Trump 06:58\n",
      "\n",
      "CNN: You two have been married for 62 years now. What's your secret?\n",
      "\n",
      "MM: We learn to tolerate each other. Initially, of course, we quarreled quite often. I am very strict about time and all that and she takes a lot of time, is late and all that. We used to quarrel over that but I realized that I could not change her and she could not change me, so we accepted that we are different.\n",
      "\n",
      "She feels in the same way about the kind of things that I believe in -- about loyalty, the country, about working for the country and all that. She accompanies me wherever I go and she is, in a sense, quite as dedicated to this idea of loyalty, patriotism that I have.\n",
      "\n",
      "CNN: You are 93 years old, yet you're turning up for work every day, you're running a country, you're traveling the world. Where does your endurance come from?\n",
      "\n",
      "MM: Well, chronological age is 93, biological age need not be 93. Sometimes people are younger than their age. I lead a very moderate life. I don't do anything in excess. I don't eat food until I get fat and that kind of thing I don't do. I do get sick sometimes, you know, I have had two heart operations and all that but I look after my health generally.\n",
      "\n",
      "JUST WATCHED Mahathir Mohamad's advice on staying fit at 93 Replay More Videos ... MUST WATCH Mahathir Mohamad's advice on staying fit at 93 01:00\n",
      "\n",
      "To keep the mind active you need to read, you need to think, you need to argue. That is very important because like the muscle, which becomes weak and regress if you don't use your muscle, the brain is also like that. If you stop thinking, you just dream along and don't study, don't read, don't solve problems and all that, then the brain will lose its capacity to think and to function.\n",
      "\n",
      "'The Islam of the Koran is a very moderate Islam'\n",
      "\n",
      "CNN: You are the leader of a moderate, mostly Muslim nation and in 2003, you called on Islam to evolve. Has it?\n",
      "\n",
      "MM: Well, the Islam that you see today is not actually the Islam that is taught by the religion. It is the Islam interpreted by certain powerful people, leaders, scholars and all that. We find that it is quite different from the original teachings of Islam as found in the Koran. So we feel that the Islam of the Koran is a very moderate Islam. It doesn't preach war, it calls upon all Muslim to be brothers. It forbids killing; well, we are doing all those things which are forbidden by Islam. So, it is the interpretation of the religion that has got us into that world state.\n",
      "\n",
      "CNN: So in your opinion, it is these interpretations that are running your religion?\n",
      "\n",
      "MM: Yes. Somebody comes along, becomes a very popular leader and he interprets in his own way -- that you should fight, you should kill, you should be opposed to people of other religions. Even among yourselves, you don't accept people who have other interpretations. All these things have resulted in instability, even in conflicts and civil wars, and also wars within nations.\n",
      "\n",
      "CNN: Finally Prime Minister, how do you want people to remember you?\n",
      "\n",
      "MM: I have this belief that once you are not around, lots of people will debunk everything and they will say nasty things about you. To me, that is not important. I will not be around to hear that.\n",
      "\n",
      "\n",
      "========================================================================\n",
      "\n",
      "sport : health\n",
      "\n",
      "Petros, Tennessee (CNN) Fifty years ago, a career criminal named James Earl Ray traveled from Atlanta to Memphis, stalking the Rev. Martin Luther King Jr. The civil rights leader was there to energize a strike of sanitation workers asking for better working conditions and higher pay. Ray was there to assassinate him.\n",
      "\n",
      "While King stood on the balcony of the Lorraine Motel (now a museum for peace), Ray accomplished his sinister goal with a single shot from more than 200 feet away.\n",
      "\n",
      "Over the next two months, while on the FBI's 10 Most Wanted Fugitives List, Ray was on the run, traveling to Europe on a false passport. He was eventually caught at London's Heathrow Airport. He pleaded guilty to avoid a jury trial and the death penalty, was sentenced to 99 years and sent to Brushy Mountain State Penitentiary in eastern Tennessee, surrounded by thick wooded hills.\n",
      "\n",
      "In its day, it was considered one of the toughest state prisons, where inmates frequently killed each other. In the novel \"The Silence of the Lambs,\" Dr. Hannibal Lecter negotiates a transfer to the prison.\n",
      "\n",
      "Brushy was also nearly impossible to escape, but Ray managed it with the help of six other convicts in 1977. All were recaptured within days, though \"rescued\" is probably the better description. Cold, hunger and disorientation brought them to their knees, and their own fiction-worthy plot turned from \"The Great Escape\" to \"Blair Witch Project.\"\n",
      "\n",
      "Ray himself traveled only 8 miles in a little over two days, a detail that made one local long-distance runner, Gary Cantrell, think to himself that he could make it 100 miles in that amount of time.\n",
      "\n",
      "And thus the seed of the Barkley Marathons was planted.\n",
      "\n",
      "Man vs. land\n",
      "\n",
      "Cantrell, whose nickname is \"Lazarus Lake,\" or \"Laz\" as he is known by everyone, was further inspired to start his own race by this rugged land he knew so well. The name \"brushy\" is fitting for a rural area thick with undergrowth, briars and hidden obstacles that inflict cuts, bruises and falls. It's so dense, you can't see the top of any of the peaks from the bottom.\n",
      "\n",
      "These mountains, where a day hike can be a challenge, are where truly competitive racing should be held, he thought, not on a flat, paved, well-marked course.\n",
      "\n",
      "The Barkley consists of five loops of 20 miles each (though runners swear it's more like a marathon-length 26 miles). All told, it has about 67,000 feet of elevation -- from sea level to the peak of Mount Everest is 29,000 feet -- not that the other 67,000 feet of descent are much easier.\n",
      "\n",
      "Photos: The world's hardest ultramarathon The Barkley Marathons consists of five loops, 20 miles each, along unmarked trails in rural Tennessee, with about 67,000 feet of elevation. Hide Caption 1 of 9 Photos: The world's hardest ultramarathon Runners must trace the course from a topographical map hours before the race begins. Four or five pages of enigmatic and wry instructions are also handed out. Hide Caption 2 of 9 Photos: The world's hardest ultramarathon If accepted into the race, runners get a \"letter of condolence.\" They're told the date of the race and must bring a license plate of some variety to the race site. Hide Caption 3 of 9 Photos: The world's hardest ultramarathon A conch is blown one hour before the race starts, but that can be anywhere between midnight and noon. The race's creator, known to everyone there as Laz, reads the names of former racers who died, and a bugler plays taps, the traditional song of military funerals. Hide Caption 4 of 9 Photos: The world's hardest ultramarathon No GPS or phones are allowed on the race. The only permitted technology is a cheap watch from Walmart, handed out by Laz to each runner and synchronized to his watch. The cutoff time is 60 hours. Hide Caption 5 of 9 Photos: The world's hardest ultramarathon Though most other distance races -- with their clear routes, aid stations, teams of helpful volunteers and throngs of encouraging spectators -- are designed so racers finish, the Barkley is designed so racers fail. Hide Caption 6 of 9 Photos: The world's hardest ultramarathon Barkley runners jump into a creek and wade through a tunnel that goes under Brushy Mountain State Penitentiary. It was the prison escape of James Earl Ray -- who assassinated Martin Luther King Jr. -- that helped inspire the race. Hide Caption 7 of 9 Photos: The world's hardest ultramarathon The race checkpoints are unmanned and in the form of paperback books. You rip out the page that corresponds to your bib number to prove you reached it. The books often have tongue-in-cheek titles. Hide Caption 8 of 9 Photos: The world's hardest ultramarathon Of more than a 1,000 who've entered, only 15 have completed the full distance in time. This year, the longest distance any racer made was completing three loops. Hide Caption 9 of 9\n",
      "\n",
      "The loops are run back to back over three sleepless days and nights, on unmarked trails. Runners must trace the course from a topographical map hours before the race begins. Most other distance races -- with their clear routes, aid stations, teams of helpful volunteers and throngs of encouraging spectators -- are designed so racers finish, but the Barkley is designed so racers fail.\n",
      "\n",
      "And fail they do. Of more than 1,000 who've entered, only 15 have completed the full distance in time. \"It's a good place for your ego to take a beating,\" Laz said before this year's race, sporting a red beanie labeled \"Geezer.\" His insightful quips are often followed by a cackle of delight, like the Yoda of the runner's world.\n",
      "\n",
      "Among ultramarathoners, the Barkley is considered one of the hardest -- a superlative that is subjective, of course. There are footraces that cross deserts, traverse tall mountains and even go greater distances than Barkley's 100 or 130 or so miles. But it's the unique combination of impediments, punishing conditions and lack of assistance that makes this race the stuff of legend. It's even the subject of a documentary; a cameraman had to be rescued by rangers more than 12 hours after he got lost.\n",
      "\n",
      "It's only in the face of such opposition that the highest peak physical and mental experiences are achieved. That's the idea, anyway. Among ultramarathoners and elite trail runners, the Barkley is the Holy Grail of races.\n",
      "\n",
      "How it works (or doesn't)\n",
      "\n",
      "For a competition that thumbs its nose at conventional rules, this anti-race race does have a number of parameters in which it operates (not written down, of course), all to maximize the challenge. Some of the choice unwritten rules include:\n",
      "\n",
      "No GPS or phones. The only permitted technology is a cheap watch from Walmart, handed out by Laz to each runner and synchronized to his watch.\n",
      "\n",
      "The only permitted technology is a cheap watch from Walmart, handed out by Laz to each runner and synchronized to his watch. Unmanned checkpoints (13 this year), which are paperback books. You rip out the page that corresponds to your bib number to prove that you reached it. You must have all the book pages in hand at the end of each loop. The books are hidden under rocks or taped to trees, usually.\n",
      "\n",
      "You rip out the page that corresponds to your bib number to prove that you reached it. You must have all the book pages in hand at the end of each loop. The books are hidden under rocks or taped to trees, usually. 60-hour cutoff. Two years ago, Gary Robbins got turned around in his exhaustion with only 2 miles to go, arriving at the campground a few seconds over time, disqualified not just for missing the time cutoff but for going off-route.\n",
      "\n",
      "Two years ago, Gary Robbins got turned around in his exhaustion with only 2 miles to go, arriving at the campground a few seconds over time, disqualified not just for missing the time cutoff but for going off-route. No aid stations. Philosophical Laz: \"Being totally free doesn't come without risk.\"\n",
      "\n",
      "Philosophical Laz: \"Being totally free doesn't come without risk.\" No outside assistance. No friends and family to meet you with food or socks except at the camp between loops. No hints as to the location of checkpoints or map secrets. This year's theme, according to cackling Yoda-esque Laz: \"Help is not coming.\"\n",
      "\n",
      "No friends and family to meet you with food or socks except at the camp between loops. No hints as to the location of checkpoints or map secrets. This year's theme, according to cackling Yoda-esque Laz: \"Help is not coming.\" Start time TBD. A conch is blown one hour before the race starts, but that can be anywhere between midnight and noon. \"The uncertainty is half the fun,\" Laz said with a chortle, \"and one of the hardest things to deal with.\"\n",
      "\n",
      "A conch is blown one hour before the race starts, but that can be anywhere between midnight and noon. \"The uncertainty is half the fun,\" Laz said with a chortle, \"and one of the hardest things to deal with.\" Entry fee is $1.60, a pair of socks (this year) and an essay. Other ultras charge hundreds of dollars, but Laz isn't in it for the money, though he's partial to a specific brand of dress sock.\n",
      "\n",
      "Thousands apply every year, and only 40 are chosen. Just figuring out how to apply is a challenge: There's no website, email or physical address posted anywhere.\n",
      "\n",
      "Laz, as he is known by everyone, was inspired to create the Barkley Marathons by the local land and a prison escape by Martin Luther King Jr.'s assassin.\n",
      "\n",
      "Would-be runners write an essay on why they should be allowed to compete, and Laz chooses among these, factoring in their arguments or, in some cases, poetry but also their proven ability to endure. Finishers tend to have bona fides that include setting speed records on famous long-distance national trails or climbing the highest peaks in the world. If accepted, runners get a \"letter of condolence\" and told the date of the race (also a secret), and they must bring a license plate of some variety to the race site that are strung up in walls of metallic memory.\n",
      "\n",
      "'Good luck, morons'\n",
      "\n",
      "This year's lucky (or maybe unlucky) runners -- 31 men, nine women -- gathered on a chilly April evening at a campground at Frozen Head State Park the day before the race. A single copy of the course map sat on a table as runners took turns tracing the route on their own topographical maps. The route changes in parts from year to year, and sometimes a peak is added. Veterans know to laminate them in clear tape to avoid disintegration from the elements.\n",
      "\n",
      "Four or five pages of Laz's enigmatic and wry instructions are also handed out. These mainly help runners find the checkpoint books, which often have tongue-in-cheek titles such as \"Where Do We Go From Here\" and \"A Time to Die.\" I asked one runner whether I could take a quick look at the instructions, and he seemed wary of handing over such well-kept secrets to a representative of a global media organization. One (non-identifiable) passage read, \"You will be able to make out the trail that climbs directly to pulloff, unless it is foggy, then you will have to guess.\"\n",
      "\n",
      "Chicken and beans, cooked over an open fire, were served as part of a potluck the evening before the race started. There is little to no alcohol, as that's not conducive to running 100-plus miles. Runners greet each other warmly and exchange war stories of past Barkleys. It's a rarified club to which they belong. A cake read, \"Good luck, morons.\"\n",
      "\n",
      "Because you don't know when the race is going to start, it makes for a fitful night's sleep, lest you miss the sound of the conch. This sleep-depriving FOMO was exacerbated by the cacophony of heavy rain pounding on the tents most of the night.\n",
      "\n",
      "Mercifully, or just randomly, Laz gave everyone a full night of whatever sleep they could get, and the conch was blown at 8:30 a.m., under clear skies. When runners gathered an hour later to start, Laz gave few remarks, none particularly encouraging. After reading the names of Barkley veterans who died over the years, Laz removed his hat, and a bugler played taps, the traditional song of military funerals.\n",
      "\n",
      "Tradition dictates that the start of the race is signaled by Laz lighting a Camel cigarette. Runners started trotting past him as he made his first exhale. The course begins with a steady incline that will reach 1,600 feet of elevation within just the first mile and a half or, as Laz described it, \"the easiest hill they'll do all day. After that, it turns ugly.\"\n",
      "\n",
      "Although he's done his fair share of endurance running (including a 318-mile course) and long-distance hiking (he's currently walking from Tennessee to Oregon), Laz has never competed in the Barkley himself. Neither has his friend Barry Barkley, for whom he named the race.\n",
      "\n",
      "'4/5 Pure Joy, 1/5 Pure Hell'\n",
      "\n",
      "The details of the race are a well-guarded secret, and they won't be divulged here. The names of landmarks in the instructions -- Quitter's Road, Rat Jaw -- don't correspond to labels on any official map.\n",
      "\n",
      "The one portion that's not a secret is Brushy Mountain State Penitentiary, which closed for prison business in 2009. Barkley runners jump into a creek and wade through a tunnel that goes under the jail, emerging just steps away from the wall that Ray and his fellow escapees jumped. You can arrange a tour inside the crumbling prison. Ray's cell was No. 27. My guide repeated that the place is haunted without a wink or any indication that she was kidding.\n",
      "\n",
      "The race takes place every spring, a season when weather fluctuates from warm and muggy one hour to freezing and wet the next. Some years, there has been snow to run through and temperatures 10 degrees below freezing.\n",
      "\n",
      "\"This is the only place you can have 45-mile-per-hour winds and pea soup fog,\" Laz said, pausing for his punch line: \"at the same time.\" This year, it started pleasantly cool and cloudy, but rain and cold punished them as the hours went by.\n",
      "\n",
      "Between each loop, runners will eat, doctor their feet, maybe steal a quick nap. Some rest at base camp as little at 15 minutes, others an hour before being given a new bib number (to get a new page from the checkpoints). The direction of the race changes between loops as well, adding another level of difficulty and more orienteering. In the first four loops, two are clockwise, two counter-clockwise. If more than one runner makes it to the fifth loop, each runner is sent in opposing directions for the final marathon.\n",
      "\n",
      "No one made it past three loops this year. Just over half made it to the second loop, five made it to the third loop, and only one finished the third. As racers dropped out, a bugler played taps. Like some previous years, it was played 40 times. Laz thought two factors that led to the lack of finishers this year were the weather and that he chose fewer Barkley veterans than usual.\n",
      "\n",
      "Finishing is so rare, there is a web page of quotes on what the experience was like. Brett Maune, 2011's only finisher, calculated \"4/5 Pure Joy, 1/5 Pure Hell.\"\n",
      "\n",
      "Andrew Thompson finished in 2009, after setting the speed record for the 2,160-mile Appalachian Trail in 47½ days. \"Finishing [the Barkley] was not at all what I expected,\" he wrote. \"All the emotion and hoopla and sense of accomplishment with which I had begun Loop 5 were quickly worn down to nubs. The 'victory' lap quickly turned into survival mode. I was sick, and cold, and damn happy to be done.\"\n",
      "\n",
      "Only one person, Jared Campbell, has finished the race three times. \"I am thrilled,\" he said after finishing in 2016, \"setting a new personal standard for how much adventure I can extract out of $1.60.\" In 2014, he was more philosophical: \"There are lessons in life that can only be learned through fairly massive deviations from our normal, comfortable routines. They can sharpen our optimism and generate a deeper appreciation for the simple things in life.\" And in 2012, he was nearly psychedelic: \"Due to some extreme foot pain (skin) and sleep deprivation I experienced an incredible distillation of my physical and mental self down to a few basic senses and thoughts, which was both an educational and beautiful experience.\"\n",
      "\n",
      "In 2013, finisher Nickademus Hollon quoted Plato: \"The first and greatest victory is to conquer yourself.\"\n",
      "\n",
      "'A different breed'\n",
      "\n",
      "To reach the Barkley, you will have done massive amounts of trail and endurance running -- even for the annual \"human sacrifice,\" as Laz playfully labels one person who he predicts doesn't have the right stuff.\n",
      "\n",
      "But if you're just getting into trail running or adventure racing, you have to put in your vertical hours. Many long-distance runners train in intervals, also known as periodization, building strength by alternating hard and easy weeks of exertion and recovery. Most of the runners in the Barkley run ultra-distances year-round so don't need a training program that starts with short runs.\n",
      "\n",
      "In the case of the Barkley or other unmarked trail races, it is also essential to be able to read a topographical map, something of a dying skill as technology and a lack of wooded adventure rob us of it.\n",
      "\n",
      "Unlike the documentary crew member and King's killer, no Barkley runner has ever got so lost in the area's woods (Laz: \"100% self-extraction\") that they needed rescuing before they faced starvation or hypothermia.\n",
      "\n",
      "Although GPS devices aren't allowed in the Barkley, plenty of other gear is, including compasses, walking sticks and trail running backpacks with food and water. Many long-distance runners prefer quality, thick-soled shoes; a light but warm jacket for nights and peaks; a hydration pack; portable food; salt tablets; and a powerful headlamp for night running. Unlike other ultramarathons, this one does not have gear requirements. These runners know what they're doing.\n",
      "\n",
      "Training in the sport also includes learning how to avoid injuries, but that's not always possible. Injuries such as cuts and sprains are typical on the Barkley, but nothing has ever halted a runner in their tracks. The worst injury was a kneecap that \"snapped in two,\" Laz said, and the runner still finished the loop. \"It's a different breed,\" he cackled.\n",
      "\n",
      "though some wounds were inflicted by the obstacles of trail running. Among the 1,212 active ultrarunners in the study, injuries were also more prevalent among younger (under age 40), less-experienced runners. Most (64.6%) reported an exercise-related injury that resulted in lost training days over the previous year, but that didn't translate to additional missed days at work. The most common injuries were of the knee and foot stress fractures. Ultrarunners suffer about the same frequency of injuries as shorter-distance runners, according to a recent study by the University of California, Davis and Stanford University,though some wounds were inflicted by the obstacles of trail running. Among the 1,212 active ultrarunners in the study, injuries were also more prevalent among younger (under age 40), less-experienced runners. Most (64.6%) reported an exercise-related injury that resulted in lost training days over the previous year, but that didn't translate to additional missed days at work. The most common injuries were of the knee and foot stress fractures.\n",
      "\n",
      "Follow CNN Health on Facebook and Twitter See the latest news and share your comments with CNN Health on Facebook and Twitter.\n",
      "\n",
      "That study also found that while ultrarunners tended to be older than the general running population, they had fewer incidents of heart disease and other chronic conditions. They were more likely than the general population to have allergies, hay fever and exercise-induced asthma, probably due to high levels of exposure to pollen-gifting nature. In general, running is outstanding cardio exercise, benefiting much of the body and tied to greater health outcomes than the general population.\n",
      "\n",
      "As for the mental rewards -- well, that's a journey that is as unique as the individual and certainly not guaranteed. A \"sense of accomplishment\" is an expression that grossly undersells the thrill of finishing a race as special and difficult at the Barkley. And yet to get to whatever personal heaven awaits you at the finish line, it most certainly means going through hell to get there.\n",
      "\n",
      "\n"
     ]
    }
   ],
   "source": [
    "for i in range(0,len(y_pred_svm)):\n",
    "    if (y_pred_svm[i]!=labels_test[i]):\n",
    "        print('========================================================================\\n')\n",
    "        print()\n",
    "        print(y_pred_svm[i]+' : '+labels_test[i]+'\\n')\n",
    "        print(texts_test[i]+'\\n\\n')"
   ]
  },
  {
   "cell_type": "code",
   "execution_count": 34,
   "metadata": {},
   "outputs": [
    {
     "data": {
      "text/plain": [
       "3"
      ]
     },
     "execution_count": 34,
     "metadata": {},
     "output_type": "execute_result"
    }
   ],
   "source": [
    "labels_test[labels_test == 'asia'].size"
   ]
  },
  {
   "cell_type": "code",
   "execution_count": 32,
   "metadata": {},
   "outputs": [
    {
     "data": {
      "text/plain": [
       "array([[ 2,  1,  0,  0],\n",
       "       [ 0, 33,  2,  0],\n",
       "       [ 0,  0, 10,  0],\n",
       "       [ 0,  0,  0, 10]], dtype=int64)"
      ]
     },
     "execution_count": 32,
     "metadata": {},
     "output_type": "execute_result"
    }
   ],
   "source": [
    "cmt_svm"
   ]
  },
  {
   "cell_type": "code",
   "execution_count": 28,
   "metadata": {},
   "outputs": [
    {
     "data": {
      "image/png": "[encoded data removed]",
      "text/plain": [
       "<Figure size 1080x1080 with 2 Axes>"
      ]
     },
     "metadata": {
      "needs_background": "light"
     },
     "output_type": "display_data"
    }
   ],
   "source": [
    "cmt_svm = confusion_matrix(labels_test, y_pred_svm)\n",
    "plot_confusion_matrix2(cmt_svm, title='Confusion Matrix, SVM')"
   ]
  },
  {
   "cell_type": "code",
   "execution_count": null,
   "metadata": {},
   "outputs": [],
   "source": []
  },
  {
   "cell_type": "code",
   "execution_count": 6,
   "metadata": {},
   "outputs": [],
   "source": [
    "from sklearn.utils.multiclass import unique_labels\n",
    "\n",
    "\n",
    "def log_progress(sequence, every=None, size=None, name='Items'):\n",
    "    from ipywidgets import IntProgress, HTML, VBox\n",
    "    from IPython.display import display\n",
    "\n",
    "    is_iterator = False\n",
    "    if size is None:\n",
    "        try:\n",
    "            size = len(sequence)\n",
    "        except TypeError:\n",
    "            is_iterator = True\n",
    "    if size is not None:\n",
    "        if every is None:\n",
    "            if size <= 200:\n",
    "                every = 1\n",
    "            else:\n",
    "                every = int(size / 200)     # every 0.5%\n",
    "    else:\n",
    "        assert every is not None, 'sequence is iterator, set every'\n",
    "\n",
    "    if is_iterator:\n",
    "        progress = IntProgress(min=0, max=1, value=1)\n",
    "        progress.bar_style = 'info'\n",
    "    else:\n",
    "        progress = IntProgress(min=0, max=size, value=0)\n",
    "    label = HTML()\n",
    "    box = VBox(children=[label, progress])\n",
    "    display(box)\n",
    "\n",
    "    index = 0\n",
    "    try:\n",
    "        for index, record in enumerate(sequence, 1):\n",
    "            if index == 1 or index % every == 0:\n",
    "                if is_iterator:\n",
    "                    label.value = '{name}: {index} / ?'.format(\n",
    "                        name=name,\n",
    "                        index=index\n",
    "                    )\n",
    "                else:\n",
    "                    progress.value = index\n",
    "                    label.value = u'{name}: {index} / {size}'.format(\n",
    "                        name=name,\n",
    "                        index=index,\n",
    "                        size=size\n",
    "                    )\n",
    "            yield record\n",
    "    except:\n",
    "        progress.bar_style = 'danger'\n",
    "        raise\n",
    "    else:\n",
    "        progress.bar_style = 'success'\n",
    "        progress.value = index\n",
    "        label.value = \"{name}: {index}\".format(\n",
    "            name=name,\n",
    "            index=str(index or '?')\n",
    "        )\n",
    "\n",
    "        \n",
    "def plot_confusion_matrix(y_true, y_pred, classes,\n",
    "                          normalize=False,\n",
    "                          title=None,\n",
    "                          cmap=plt.cm.Blues):\n",
    "    \"\"\"\n",
    "    This function prints and plots the confusion matrix.\n",
    "    Normalization can be applied by setting `normalize=True`.\n",
    "    \"\"\"\n",
    "    if not title:\n",
    "        if normalize:\n",
    "            title = 'Normalized confusion matrix'\n",
    "        else:\n",
    "            title = 'Confusion matrix, without normalization'\n",
    "\n",
    "    # Compute confusion matrix\n",
    "    cm = confusion_matrix(y_true, y_pred)\n",
    "    # Only use the labels that appear in the data\n",
    "    #classes = classes[unique_labels(y_true, y_pred)]\n",
    "    if normalize:\n",
    "        cm = cm.astype('float') / cm.sum(axis=1)[:, np.newaxis]\n",
    "        print(\"Normalized confusion matrix\")\n",
    "    else:\n",
    "        print('Confusion matrix, without normalization')\n",
    "\n",
    "    print(cm)\n",
    "\n",
    "    fig, ax = plt.subplots()\n",
    "    im = ax.imshow(cm, interpolation='nearest', cmap=cmap)\n",
    "    ax.figure.colorbar(im, ax=ax)\n",
    "    # We want to show all ticks...\n",
    "    ax.set(xticks=np.arange(cm.shape[1]),\n",
    "           yticks=np.arange(cm.shape[0]),\n",
    "           # ... and label them with the respective list entries\n",
    "           xticklabels=classes, yticklabels=classes,\n",
    "           title=title,\n",
    "           ylabel='True label',\n",
    "           xlabel='Predicted label')\n",
    "\n",
    "    # Rotate the tick labels and set their alignment.\n",
    "    plt.setp(ax.get_xticklabels(), rotation=45, ha=\"right\",\n",
    "             rotation_mode=\"anchor\")\n",
    "\n",
    "    # Loop over data dimensions and create text annotations.\n",
    "    fmt = '.2f' if normalize else 'd'\n",
    "    thresh = cm.max() / 2.\n",
    "    for i in range(cm.shape[0]):\n",
    "        for j in range(cm.shape[1]):\n",
    "            ax.text(j, i, format(cm[i, j], fmt),\n",
    "                    ha=\"center\", va=\"center\",\n",
    "                    color=\"white\" if cm[i, j] > thresh else \"black\")\n",
    "    fig.tight_layout()\n",
    "    return ax        \n",
    "\n",
    "def plot_confusion_matrix2(cm, title='Contingency matrix'):\n",
    "    cm = cm.astype('float') / cm.sum(axis=1)[:, np.newaxis]\n",
    "\n",
    "    plt.figure(figsize=(15, 15))\n",
    "    plt.imshow(cm, interpolation='nearest', cmap=plt.cm.Blues)\n",
    "    plt.title(title, fontsize=20)\n",
    "    plt.colorbar()\n",
    "    tick_marks = np.arange(cm.shape[0])\n",
    "    classes = ['trabels','health','sport','asia']\n",
    "    plt.xticks(tick_marks, classes, rotation=45, size=14)\n",
    "    plt.yticks(tick_marks, classes, size=14)\n",
    "\n",
    "    thresh = cm.max() / 2.\n",
    "    for i, j in itertools.product(range(cm.shape[0]), range(cm.shape[1])):\n",
    "        plt.text(j, i, format(cm[i, j], '.2f'),\n",
    "                 horizontalalignment=\"center\",\n",
    "                 color=\"white\" if cm[i, j] > thresh else \"black\")\n",
    "\n",
    "    plt.tight_layout()\n",
    "    plt.ylabel('True label', fontsize=18)\n",
    "    plt.xlabel('Predicted label', fontsize=18)"
   ]
  },
  {
   "cell_type": "code",
   "execution_count": null,
   "metadata": {},
   "outputs": [],
   "source": []
  }
 ],
 "metadata": {
  "kernelspec": {
   "display_name": "Python 3",
   "language": "python",
   "name": "python3"
  },
  "language_info": {
   "codemirror_mode": {
    "name": "ipython",
    "version": 3
   },
   "file_extension": ".py",
   "mimetype": "text/x-python",
   "name": "python",
   "nbconvert_exporter": "python",
   "pygments_lexer": "ipython3",
   "version": "3.7.0"
  }
 },
 "nbformat": 4,
 "nbformat_minor": 2
}
