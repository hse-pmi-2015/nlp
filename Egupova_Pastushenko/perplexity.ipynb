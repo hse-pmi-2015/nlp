{
 "cells": [
  {
   "cell_type": "code",
   "execution_count": 23,
   "metadata": {},
   "outputs": [],
   "source": [
    "import os\n",
    "import numpy as np\n",
    "import re\n",
    "import pandas as pd\n",
    "import string\n",
    "import codecs\n",
    "from sklearn.utils import shuffle"
   ]
  },
  {
   "cell_type": "code",
   "execution_count": 2,
   "metadata": {},
   "outputs": [],
   "source": [
    "def log_progress(sequence, every=None, size=None, name='Items'):\n",
    "    from ipywidgets import IntProgress, HTML, VBox\n",
    "    from IPython.display import display\n",
    "\n",
    "    is_iterator = False\n",
    "    if size is None:\n",
    "        try:\n",
    "            size = len(sequence)\n",
    "        except TypeError:\n",
    "            is_iterator = True\n",
    "    if size is not None:\n",
    "        if every is None:\n",
    "            if size <= 200:\n",
    "                every = 1\n",
    "            else:\n",
    "                every = int(size / 200)     # every 0.5%\n",
    "    else:\n",
    "        assert every is not None, 'sequence is iterator, set every'\n",
    "\n",
    "    if is_iterator:\n",
    "        progress = IntProgress(min=0, max=1, value=1)\n",
    "        progress.bar_style = 'info'\n",
    "    else:\n",
    "        progress = IntProgress(min=0, max=size, value=0)\n",
    "    label = HTML()\n",
    "    box = VBox(children=[label, progress])\n",
    "    display(box)\n",
    "\n",
    "    index = 0\n",
    "    try:\n",
    "        for index, record in enumerate(sequence, 1):\n",
    "            if index == 1 or index % every == 0:\n",
    "                if is_iterator:\n",
    "                    label.value = '{name}: {index} / ?'.format(\n",
    "                        name=name,\n",
    "                        index=index\n",
    "                    )\n",
    "                else:\n",
    "                    progress.value = index\n",
    "                    label.value = u'{name}: {index} / {size}'.format(\n",
    "                        name=name,\n",
    "                        index=index,\n",
    "                        size=size\n",
    "                    )\n",
    "            yield record\n",
    "    except:\n",
    "        progress.bar_style = 'danger'\n",
    "        raise\n",
    "    else:\n",
    "        progress.bar_style = 'success'\n",
    "        progress.value = index\n",
    "        label.value = \"{name}: {index}\".format(\n",
    "            name=name,\n",
    "            index=str(index or '?')\n",
    "        )"
   ]
  },
  {
   "cell_type": "code",
   "execution_count": 15,
   "metadata": {},
   "outputs": [],
   "source": [
    "FILE_UNIGRAMS = '1grams-3.txt'\n",
    "N_WORDS = 192689044\n",
    "TOL = 1e-20\n",
    "FILE_TEXT_p = pd.read_pickle(\"df\")\n",
    "FILE_TEXT_p = np.asarray(FILE_TEXT_p.text)"
   ]
  },
  {
   "cell_type": "code",
   "execution_count": 18,
   "metadata": {},
   "outputs": [],
   "source": [
    "FILE_TEXT_arr = shuffle(FILE_TEXT_p)"
   ]
  },
  {
   "cell_type": "code",
   "execution_count": 19,
   "metadata": {
    "scrolled": false
   },
   "outputs": [
    {
     "data": {
      "text/plain": [
       "'Denver, Colorado (CNN) Magic, it seemed, was possible any time Dorien Bryant touched the ball.\\n\\nElectric runs like the 98-yard opening kickoff return for a touchdown in front of 108,000 at Penn State, or the 95-yard score at home against Northwestern, or the touchdown catches of 53 and 41 yards against Indiana State peppered his college football career.\\n\\nBryant left Purdue University in 2007 as the school\\'s career leader in all-purpose yards, setting multiple Big Ten conference records before signing with the Pittsburgh Steelers.\\n\\nYet just a year later, the playmaker was out of football, walking away from an offer from the Tennessee Titans and reportedly ignoring a call from the Dallas Cowboys.\\n\\n\"I came out when I was 24 or 25,\" Bryant tells CNN Sport of his decision to live openly as a gay athlete about a year after ending his NFL pursuit. \"It was more of my choice, I didn\\'t try and push it.\"\\n\\n\"I never wanted to be a figurehead for a movement; I don\\'t want to be that guy.\"\\n\\nDorien Bryant set records in four years at Purdue University, but walked away from an NFL contract to live an openly gay life.\\n\\nFor the first time since childhood, Bryant, who also ran track at Purdue, took a break from sports and focused on himself. Football became an afterthought.\\n\\n\"It was either football or being able to live my life the way I want to live my life, and I\\'m happier than I ever was,\" he says. \"I love football, but if I can\\'t be me then it\\'s not worth it.\"\\n\\nNow Bryant is back in the sport as his true self, featured as the go-to receiver for the 2017 champion New York Warriors at Gay Bowl, the annual tournament of the National Gay Flag Football League.\\n\\nFifty-seven teams from 22 cities battled it out in 100-degree Denver weather last month, in seven-on-seven matches that provided a remarkable level of athleticism for a recreational league.\\n\\nBryant is one of at least seven players on the Warriors with college football experience, recruited by teammate Wade Davis, a former Tennessee Titans signee who won an NFL Europe title with the Berlin Thunder.\\n\\n\"The competition has progressively gotten better,\" says Davis, 41, a figurehead in the league who takes the Warriors\\' quest to repeat as Gay Bowl titleholders seriously. \"The other teams have had to figure out how to get better players and better coaching.\"\\n\\n\"I\\'m happier than I ever was,\" said Byrant (#9). \"I love football, but if I can\\'t be me then it\\'s not worth it.\"\\n\\nOver the past 18 years Gay Bowl has grown from a three-team tournament played in the dirt field of a Hollywood high school to a three-day event held in rotating cities boasting 35 sponsors, including United Airlines, Fidelity Investments, Sheraton Hotels and UPS.\\n\\nRosters represent a mix of races, genders and sexual orientations -- and welcome straight players, though their numbers are capped by a quota.\\n\\nEverything is well organized, from the shuttle buses, to the singing of the Canadian and American anthems, to referees in striped uniforms who sound a lot like their NFL counterparts.\\n\\nGames are governed by a 57-page rule book , and formed by two 30-minute halves, with tackling replaced by the removal of an opponent\\'s flag belt.\\n\\n\"I never thought in my wildest dreams that it would get this big,\" says co-founder Jim Buzinski, \"but now it\\'s so institutionalized. Cities are bidding for this.\"\\n\\nHonolulu, in fact, recently beat out bids from Austin and Toronto for the 2020 games, while New York will host its second Gay Bowl next year.\\n\\nThe New England Patriots were sponsors of last year\\'s Gay Bowl in Boston, with owner Robert Kraft speaking at the closing ceremony. This year the Denver Broncos made a financial contribution and worked with organizers to boost the tournament\\'s reach.\\n\\n\"This shows that an issue the NFL probably would have avoided at some point in the past, thinking it was controversial, is now so accepted in mainstream that it seemed a no-brainer to be a part of,\" says Buzinski, who also co-founded the news service Outsports. \"It is so routine that no one cares.\"\\n\\n\"These are all football players and football fans, which is kind of a good business decision. It shows the progress that has been made.\"\\n\\nPhotos: A New Yorker watches from the sidelines, as 57 teams from 22 cities in the US and Canada faced-off. Hide Caption 1 of 15 Photos: Chicago Thunder players strike a unified pose during Gay Bowl XVIII, which took place from September 14-16, 2018. Hide Caption 2 of 15 Photos: Though competition on the field is fierce, teammates and opponents often embrace afterward. Hide Caption 3 of 15 Photos: Concerned looks bound the faces of the Hawaii Riptide as they go over a play. Hide Caption 4 of 15 Photos: The Toronto Mounties pose for a team photo during Gay Bowl\\'s opening morning. Hide Caption 5 of 15 Photos: A member of the Denver women\\'s Mile High Club squares off on the line of scrimmage. Hide Caption 6 of 15 Photos: Fans pose with homemade signs spelling -- spelling defense -- on the sideline. Hide Caption 7 of 15 Photos: The Denver Mile High Club\\'s Aszur Rollins (right) won her sixth Gay Bowl championship this year. For Rollins, flag football is \"all-encompassing\" in her life. The former Army enlistee even met her wife through the league. Hide Caption 8 of 15 Photos: A Chicago player is \"deflagged\" during a play. Hide Caption 9 of 15 Photos: A participant sings Canada\\'s national anthem \"O Canada\" on the opening morning. Hide Caption 10 of 15 Photos: The Seattle quarterback steps back for a throw under good pass protection. Hide Caption 11 of 15 Photos: Huddles form a crucial part of the game. Hide Caption 12 of 15 Photos: Atlanta players check their plays drawn on wristbands during the huddle. Hide Caption 13 of 15 Photos: A player sprays his son with sunscreen to protect him from the scorching weather in Denver. Hide Caption 14 of 15 Photos: Fans shade themselves with umbrellas to guard against the 100 degrees Fahrenheit heat in Denver. Hide Caption 15 of 15\\n\\nFor most of the 1,000 or so participants of Gay Bowl, the long weekend represents a reunion of friends and a celebration of football -- the sport they love, which in many ways shaped their lives.\\n\\n\"The majority of my friends in DC are in the league,\" says James Santos of the Washington Generals, a former Air Force enlistee who would go on to win this tournament playing receiver in his fifth Gay Bowl.\\n\\n\"I have friends who met in the league who got married. I\\'ve been in weddings, birthday parties, and one funeral. They are like my family outside my immediate family.\"\\n\\nFlag football was also a means for Santos and his sister, who plays in the female league, to come out to their conservative church-going parents from Texas.\\n\\n\"How my parents grew up, it was really frowned upon,\" he says. \"You were just not considered normal, you were considered weak and a sissy.\"\\n\\n\"That\\'s just not the case at all, so for them to see that type of contact and passion ... it\\'s just eye opening.\" Santos\\' parents now attend their games often and \"are really into it.\"\\n\\n\"These are like everyday people that love sports,\" he says, adding that flag football helped dispel damaging stereotypes sometimes associated with the LGBT community.\\n\\nWhat would do wonders for the perception of gay male athletes, Santos says, is to be represented by a prominent pro.\\n\\n\"Like Jackie Robinson for black people, or Billy Jean King for women, we need an equivalent of someone like that to come out -- a stud athlete,\" says Santos, who is black. \"It would be okay. They are not going to lose their jobs.\"\\n\\nGay Bowl participants take a knee during the singing of the American national anthem on the opening morning of the tournament, September 14, 2018.\\n\\nBryant agrees. \"Sheer numbers tell you there are a few LGBT players in the NFL and in the NBA as we speak,\" he says, \"it\\'s just that those guys are afraid.\"\\n\\nThe former Purdue standout wonders how things may have turned out if his shot at the NFL happened now instead of a decade ago. He points to Arizona State University signing openly gay high school football player My-King Johnson as a step forward.\\n\\n\"There is more of a conversation like that in professional sports now,\" he says. \"It\\'s slow, but it\\'s progress.\"\\n\\nIt appears that football\\'s locker room culture -- which nearly drove former Patriots offensive lineman Ryan O\\'Callaghan to suicide before coming out -- must evolve for a gay superstar to emerge.\\n\\nBryant\\'s Warriors teammate, former San Diego State strong safety Shaun Rogers, says his personal life took a backseat until his athletic scholarship ended.\\n\\n\"Playing football is always like, how is my team going to respond? How is everyone going to respond?\" says the 35-year-old brand innovator with heavily inked arms.\\n\\n\"I don\\'t want nobody to feel uncomfortable about the situation, so I kind of just suppressed it,\" he adds. \"After college, I just became more open with it.\\n\\n\"There was more freedom, I didn\\'t have to worry about my teammates -- even though they were my friends. I just didn\\'t have to be around that culture.\"\\n\\nGay Bowl XVIII athletes congregated at a welcoming party at a rooftop bar in Denver, Colorado.\\n\\nAlongside Bryant, Davis and Rogers are Stephan Benjamin, a 6-foot 4-inch, 211-pound former wide receiver at American International College, captain Preston Roberts Jr. from Worcester Polytechnic, and quarterback Chris Allison from Columbia University.\\n\\nGelling with the LGBTQ league\\'s ethos of inclusion, Roberts and Allison are two of the Warriors\\' five allotted straight players, with no more than three allowed on the field at once.\\n\\nBoth prefer to play in New York\\'s gay flag football league, rather than the ragtag games they were a part of in the city. \"I can\\'t think of a straight league that is on this level doing this type of stuff,\" says Roberts.\\n\\n\"This is legit,\" says Allison. \"First off, everyone\\'s got a jersey. Then you\\'ve got the tents (shielding resting players from the sun), you\\'ve got websites, you\\'ve got first aid here. Everyone\\'s got a plan of action.\"\\n\\n\"A lot of these leagues we\\'ve played in have been ad hoc, you\\'ve seen fistfights,\" he adds, noting that in the gay leagues \"people get a little chippy from time to time with competitiveness. But if there is a fight, you\\'re gone. It\\'s not acceptable.\"\\n\\nDuring his first practice, the quarterback felt \"a different vibe\" straight away. \"Everyone was super friendly with a lot of camaraderie, and so I said \\'Why don\\'t we give it a go?\\'\"\\n\\nRoberts says joining the New York Gay Football League -- which welcomes \"straight allies\" on its website -- was by way of an understanding with Davis.\\n\\n\"He\\'s taught me a lot about this league and about LGBT, so he\\'s only expanded (my mind),\" he says, \"but he wouldn\\'t have invited me to the league if he didn\\'t think that this is something that I could become a part of.\"\\n\\n\"If you\\'re a gay participant and you invite a straight player, you probably trust them to be open enough.\"\\n\\nWarriors captain Preston Roberts Jr. (right), who is straight, credited the league for educating him on the LGBT community. \"If you\\'re a gay participant and you invite a straight player, you probably trust them to be open enough,\" he said.\\n\\nIt\\'s the opening morning of Gay Bowl XVIII and players on the vast green field on the outskirts of Denver are slow to get into a rhythm. Maybe a few too many carried on at the welcoming rooftop party the night before.\\n\\nBryant, who doubles as a personal trainer for budding college prospects and a bartender in New York, is used to playing on little sleep. \"I get off work on Saturday at like 5 a.m. and we\\'ll practice at like 9 a.m.,\" he says.\\n\\nBoasting a considerable size advantage, the Warriors dispose of their opponents convincingly.\\n\\nIf anyone on the field is keeping track of which three straight players are playing for each team, it isn\\'t apparent. Enforcement has always been based on an honor system, and by all accounts it works.\\n\\n\"I\\'m not going to say it\\'s never come up,\" says Roberts of the Warriors\\' inclusion of high-caliber straight players, \"but relatively speaking, it doesn\\'t. There is a rule for it, but it\\'s not a thing.\"\\n\\nPlaying in his fourth Gay Bowl, the former Ivy Leaguer Allison is one of several straight quarterbacks in the league, because -- just like in the NFL -- good flag football quarterbacks are hard to find.\\n\\n\"I\\'m sure there are a few people who are frustrated about it,\" he says. \"There is definitely a debate there. You have to balance it out and make sure we come to some middle ground where everyone can be happy.\"\\n\\nBuzinski explains why a quota system was implemented after he founded the Los Angeles league. \"We didn\\'t want a situation where a \\'gay team\\' would have 75 percent straight players, and they were the best straight players in high school or college, and they would be ringers.\"\\n\\n\"People said, \\'Well isn\\'t that discriminatory?\\' No. You can play flag football in LA or any city in multiple leagues, so they weren\\'t being deprived of an opportunity,\" he notes, adding that he never saw \"a serious violation.\"\\n\\n\"People policed themselves.\" Besides, \"there was no way we could really test for it,\" he says.\\n\\n\"There were some players that people would swear were straight, and then their boyfriend would show up.\"\\n\\nJoe Cooper of the Denver Summit, who was honored by the league as a Hall of Fame inductee this year, sums up the consensus.\\n\\n\"At the end of the day, you have a lot of gay men who say \\'I don\\'t care if he\\'s straight or not, I\\'m still going to whoop his ass on the football field.\\'\"\\n\\nPhotos: Former San Diego State strong safety Shaun Rogers said coming out in college wasn\\'t really an option. \"I kind of just suppressed it,\" he said. \"After college, I just became more open with it ... I just didn\\'t have to be around that culture.\"\\n\\nHide Caption 1 of 6 Photos: The New York Warriors stretch before their opening game at Gay Bowl XVIII, on September 14, 2018 in Denver, Colorado. Hide Caption 2 of 6 Photos: Former Columbia University quarterback Chris Allison (left) and American International College wide receiver Stephan Benjamin are two of the seven teammates with college football experience on the New York Warriors flag football team. Hide Caption 3 of 6 Photos: After a stellar college career, Dorien Bryant now plays flag football and won a Gay Bowl championship with the New York Warriors in 2017. \"It is a recreational league, but we can play,\" he said. Hide Caption 4 of 6 Photos: The New York Warriors, featuring former Purdue Boilermaker Dorien Bryant (far right), line up on the left side of the line of scrimmage in their opening game at Gay Bowl XVIII. Hide Caption 5 of 6 Photos: Referees congregated during the opening morning of Gay Bowl XVIII in Denver, Colorado. Hide Caption 6 of 6\\n\\nNot to be outdone, women have featured prominently at the Gay Bowl since their inclusion seven years ago.\\n\\n\"We\\'re very, very competitive, specifically when it comes to sports,\" says the Denver Mile High Club\\'s Aszur Rollins, who has played on six championship teams. \"We can be a bit brutal with each other.\"\\n\\nNew to the city after finishing her tour with the Army, Rollins found flag football \"all encompassing,\" and even met her wife through the league.\\n\\n\"It\\'s really been this amazing experience at an adult time in my life,\" she says. \"I never went to college, so I consider this to be like a college experience for me. I never had this comradery, this sports experience.\"\\n\\nThe Denver Mile High Club\\'s Aszur Rollins (right), who won her sixth Gay Bowl, says flag football is \"all-encompassing\" and met her wife through the league.\\n\\nBefore she transitioned to life as a woman, Kaylee Parker played wide receiver at South View High School in North Carolina, battling several top college prospects in the state.\\n\\nThe 38-year-old mechanical engineer moved to Phoenix in 2015 and began living full time as a woman, but missed the competition.\\n\\n\"Originally, I just wanted to play football,\" she says of finding her way onto the Phoenix Fahrenheit, \"and once I started playing, I ended up meeting a lot of cool people, and it\\'s basically like my other family now.\"\\n\\n\"It didn\\'t matter to me if it was a straight league or a gay league, but it happened to be what I found.\"\\n\\nComing from a Phoenix league that is open to all genders, Parker\\'s gender identity has not been an issue. But the Fahrenheit\\'s team captain and quarterback admits she has received some resistance as a trans athlete competing in the women\\'s division of Gay Bowl.\\n\\n\"Everyone has their perspectives,\" she says, adding that flag football is more about finesse, catching skills, quickness and strategy, and less about brute strength. \"So I think that the physicality of it goes out the window.\"\\n\\n(Her sentiment is echoed by Bryant, whose Warriors took fifth place this year. \"It\\'s about who\\'s smart,\" he says. \"You can have the 12 best athletes in this tournament and line up and still lose.\")\\n\\n\"I think about it a lot,\" Parker says. \"I wouldn\\'t compete if it was a tackle league.\"\\n\\nThe other competitors, she feels, are perfectly capable of facing her across the line of scrimmage. \"I would think that it would discredit a lot of women if I said I wouldn\\'t play.\"\\n\\nKaylee Parker played high school football in North Carolna before transitioning to life as a woman. The 38-year-old mechanical engineer says her flag football teammates in Phoenix are \"like my other family now.\"\\n\\nPerhaps the game is less physical than tackle football, but it certainly can be rough.\\n\\nOne Warriors player is examined for a possible torn tendon in his knee after the team\\'s very first game, while an LA Express player grumbles to Bryant that he lost a toenail in a collision.\\n\\n\"He acts like I did it on purpose,\" Bryant shrugs to a teammate, after encouraging the player to go to the first aid tent. \"It will grow back.\"\\n\\nBryant -- who at 33 still sports a six-pack and the unmistakable frame of a pro athlete -- admits he was at first taken aback by the level of play in the league, then checked himself. Was he stereotyping too?\\n\\n\"You know what, you are kind of (surprised) at first,\" he says. \"But then when you step back and think about it, why? Why are we surprised?\\n\\n\"Because they are gay men? Like, we can play,\" he says, eyebrows raised, head nodding. \"It is a recreational league, but we can play.\"'"
      ]
     },
     "execution_count": 19,
     "metadata": {},
     "output_type": "execute_result"
    }
   ],
   "source": [
    "FILE_TEXT = FILE_TEXT_arr[0]\n",
    "FILE_TEXT"
   ]
  },
  {
   "cell_type": "code",
   "execution_count": 20,
   "metadata": {},
   "outputs": [],
   "source": [
    "EXCLUDE_SYMBOLS_STR = u''.join(['№', '«', 'ђ', '°', '±', '‚', 'ћ', '‰', '…', '»', 'ѓ', 'µ', '·', 'ґ', 'њ', 'ї', 'џ', 'є',\n",
    "                                '‹', '‡', '†', '¶', 'ќ', '€', '“', 'ў', '§', '„', '”', '\\ufeff', '’', 'љ', '›', '•', '—',\n",
    "                                '‘', '\\x7f', '\\xad', '¤', '\\xa0'])"
   ]
  },
  {
   "cell_type": "code",
   "execution_count": 24,
   "metadata": {},
   "outputs": [],
   "source": [
    "frequencies = {}\n",
    "\n",
    "with codecs.open(FILE_UNIGRAMS, 'r', 'utf_8_sig') as f:\n",
    "    for line in f:\n",
    "        split = line.strip().split('\\t')\n",
    "        try:\n",
    "            freq, word = split\n",
    "        except:\n",
    "            print(split)\n",
    "        frequencies[word] = float(freq) / N_WORDS"
   ]
  },
  {
   "cell_type": "code",
   "execution_count": 25,
   "metadata": {},
   "outputs": [
    {
     "data": {
      "text/plain": [
       "1054210"
      ]
     },
     "execution_count": 25,
     "metadata": {},
     "output_type": "execute_result"
    }
   ],
   "source": [
    "len(frequencies)"
   ]
  },
  {
   "cell_type": "code",
   "execution_count": 26,
   "metadata": {},
   "outputs": [],
   "source": [
    "regex_puncts = re.compile('[%s]' % re.escape(string.punctuation))\n",
    "regex_symbs = re.compile('[%s]' % re.escape(EXCLUDE_SYMBOLS_STR))\n",
    "regex_digits = re.compile('[%s]' % re.escape(string.digits))\n",
    "regex_spaces = re.compile('[%s]' % string.printable + string.whitespace)"
   ]
  },
  {
   "cell_type": "code",
   "execution_count": 28,
   "metadata": {},
   "outputs": [],
   "source": [
    "txt_prep = regex_puncts.sub('', FILE_TEXT)"
   ]
  },
  {
   "cell_type": "code",
   "execution_count": 29,
   "metadata": {},
   "outputs": [],
   "source": [
    "txt_prep = regex_symbs.sub('', txt_prep)\n"
   ]
  },
  {
   "cell_type": "code",
   "execution_count": 30,
   "metadata": {},
   "outputs": [],
   "source": [
    "txt_prep = regex_digits.sub('', txt_prep)"
   ]
  },
  {
   "cell_type": "code",
   "execution_count": 31,
   "metadata": {},
   "outputs": [],
   "source": [
    "txt_prep = regex_spaces.sub('', txt_prep)"
   ]
  },
  {
   "cell_type": "code",
   "execution_count": 32,
   "metadata": {},
   "outputs": [],
   "source": [
    "txt_prep = txt_prep.strip().strip('\\t').replace('\\n', '').lower()"
   ]
  },
  {
   "cell_type": "code",
   "execution_count": 33,
   "metadata": {},
   "outputs": [
    {
     "data": {
      "text/plain": [
       "'denver colorado cnn magic it seemed was possible any time dorien bryant touched the ballelectric runs like the yard opening kickoff return for a touchdown in front of  at penn state or the yard score at home against northwestern or the touchdown catches of  and  yards against indiana state peppered his college football careerbryant left purdue university in  as the schools career leader in allpurpose yards setting multiple big ten conference records before signing with the pittsburgh steelersyet just a year later the playmaker was out of football walking away from an offer from the tennessee titans and reportedly ignoring a call from the dallas cowboysi came out when i was  or  bryant tells cnn sport of his decision to live openly as a gay athlete about a year after ending his nfl pursuit it was more of my choice i didnt try and push iti never wanted to be a figurehead for a movement i dont want to be that guydorien bryant set records in four years at purdue university but walked away from an nfl contract to live an openly gay lifefor the first time since childhood bryant who also ran track at purdue took a break from sports and focused on himself football became an afterthoughtit was either football or being able to live my life the way i want to live my life and im happier than i ever was he says i love football but if i cant be me then its not worth itnow bryant is back in the sport as his true self featured as the goto receiver for the  champion new york warriors at gay bowl the annual tournament of the national gay flag football leaguefiftyseven teams from  cities battled it out in degree denver weather last month in sevenonseven matches that provided a remarkable level of athleticism for a recreational leaguebryant is one of at least seven players on the warriors with college football experience recruited by teammate wade davis a former tennessee titans signee who won an nfl europe title with the berlin thunderthe competition has progressively gotten better says davis  a figurehead in the league who takes the warriors quest to repeat as gay bowl titleholders seriously the other teams have had to figure out how to get better players and better coachingim happier than i ever was said byrant  i love football but if i cant be me then its not worth itover the past  years gay bowl has grown from a threeteam tournament played in the dirt field of a hollywood high school to a threeday event held in rotating cities boasting  sponsors including united airlines fidelity investments sheraton hotels and upsrosters represent a mix of races genders and sexual orientations  and welcome straight players though their numbers are capped by a quotaeverything is well organized from the shuttle buses to the singing of the canadian and american anthems to referees in striped uniforms who sound a lot like their nfl counterpartsgames are governed by a page rule book  and formed by two minute halves with tackling replaced by the removal of an opponents flag belti never thought in my wildest dreams that it would get this big says cofounder jim buzinski but now its so institutionalized cities are bidding for thishonolulu in fact recently beat out bids from austin and toronto for the  games while new york will host its second gay bowl next yearthe new england patriots were sponsors of last years gay bowl in boston with owner robert kraft speaking at the closing ceremony this year the denver broncos made a financial contribution and worked with organizers to boost the tournaments reachthis shows that an issue the nfl probably would have avoided at some point in the past thinking it was controversial is now so accepted in mainstream that it seemed a nobrainer to be a part of says buzinski who also cofounded the news service outsports it is so routine that no one caresthese are all football players and football fans which is kind of a good business decision it shows the progress that has been madephotos a new yorker watches from the sidelines as  teams from  cities in the us and canada facedoff hide caption  of  photos chicago thunder players strike a unified pose during gay bowl xviii which took place from september   hide caption  of  photos though competition on the field is fierce teammates and opponents often embrace afterward hide caption  of  photos concerned looks bound the faces of the hawaii riptide as they go over a play hide caption  of  photos the toronto mounties pose for a team photo during gay bowls opening morning hide caption  of  photos a member of the denver womens mile high club squares off on the line of scrimmage hide caption  of  photos fans pose with homemade signs spelling  spelling defense  on the sideline hide caption  of  photos the denver mile high clubs aszur rollins right won her sixth gay bowl championship this year for rollins flag football is allencompassing in her life the former army enlistee even met her wife through the league hide caption  of  photos a chicago player is deflagged during a play hide caption  of  photos a participant sings canadas national anthem o canada on the opening morning hide caption  of  photos the seattle quarterback steps back for a throw under good pass protection hide caption  of  photos huddles form a crucial part of the game hide caption  of  photos atlanta players check their plays drawn on wristbands during the huddle hide caption  of  photos a player sprays his son with sunscreen to protect him from the scorching weather in denver hide caption  of  photos fans shade themselves with umbrellas to guard against the  degrees fahrenheit heat in denver hide caption  of for most of the  or so participants of gay bowl the long weekend represents a reunion of friends and a celebration of football  the sport they love which in many ways shaped their livesthe majority of my friends in dc are in the league says james santos of the washington generals a former air force enlistee who would go on to win this tournament playing receiver in his fifth gay bowli have friends who met in the league who got married ive been in weddings birthday parties and one funeral they are like my family outside my immediate familyflag football was also a means for santos and his sister who plays in the female league to come out to their conservative churchgoing parents from texashow my parents grew up it was really frowned upon he says you were just not considered normal you were considered weak and a sissythats just not the case at all so for them to see that type of contact and passion  its just eye opening santos parents now attend their games often and are really into itthese are like everyday people that love sports he says adding that flag football helped dispel damaging stereotypes sometimes associated with the lgbt communitywhat would do wonders for the perception of gay male athletes santos says is to be represented by a prominent prolike jackie robinson for black people or billy jean king for women we need an equivalent of someone like that to come out  a stud athlete says santos who is black it would be okay they are not going to lose their jobsgay bowl participants take a knee during the singing of the american national anthem on the opening morning of the tournament september  bryant agrees sheer numbers tell you there are a few lgbt players in the nfl and in the nba as we speak he says its just that those guys are afraidthe former purdue standout wonders how things may have turned out if his shot at the nfl happened now instead of a decade ago he points to arizona state university signing openly gay high school football player myking johnson as a step forwardthere is more of a conversation like that in professional sports now he says its slow but its progressit appears that footballs locker room culture  which nearly drove former patriots offensive lineman ryan ocallaghan to suicide before coming out  must evolve for a gay superstar to emergebryants warriors teammate former san diego state strong safety shaun rogers says his personal life took a backseat until his athletic scholarship endedplaying football is always like how is my team going to respond how is everyone going to respond says the yearold brand innovator with heavily inked armsi dont want nobody to feel uncomfortable about the situation so i kind of just suppressed it he adds after college i just became more open with itthere was more freedom i didnt have to worry about my teammates  even though they were my friends i just didnt have to be around that culturegay bowl xviii athletes congregated at a welcoming party at a rooftop bar in denver coloradoalongside bryant davis and rogers are stephan benjamin a foot inch pound former wide receiver at american international college captain preston roberts jr from worcester polytechnic and quarterback chris allison from columbia universitygelling with the lgbtq leagues ethos of inclusion roberts and allison are two of the warriors five allotted straight players with no more than three allowed on the field at onceboth prefer to play in new yorks gay flag football league rather than the ragtag games they were a part of in the city i cant think of a straight league that is on this level doing this type of stuff says robertsthis is legit says allison first off everyones got a jersey then youve got the tents shielding resting players from the sun youve got websites youve got first aid here everyones got a plan of actiona lot of these leagues weve played in have been ad hoc youve seen fistfights he adds noting that in the gay leagues people get a little chippy from time to time with competitiveness but if there is a fight youre gone its not acceptableduring his first practice the quarterback felt a different vibe straight away everyone was super friendly with a lot of camaraderie and so i said why dont we give it a goroberts says joining the new york gay football league  which welcomes straight allies on its website  was by way of an understanding with davishes taught me a lot about this league and about lgbt so hes only expanded my mind he says but he wouldnt have invited me to the league if he didnt think that this is something that i could become a part ofif youre a gay participant and you invite a straight player you probably trust them to be open enoughwarriors captain preston roberts jr right who is straight credited the league for educating him on the lgbt community if youre a gay participant and you invite a straight player you probably trust them to be open enough he saidits the opening morning of gay bowl xviii and players on the vast green field on the outskirts of denver are slow to get into a rhythm maybe a few too many carried on at the welcoming rooftop party the night beforebryant who doubles as a personal trainer for budding college prospects and a bartender in new york is used to playing on little sleep i get off work on saturday at like  am and well practice at like  am he saysboasting a considerable size advantage the warriors dispose of their opponents convincinglyif anyone on the field is keeping track of which three straight players are playing for each team it isnt apparent enforcement has always been based on an honor system and by all accounts it worksim not going to say its never come up says roberts of the warriors inclusion of highcaliber straight players but relatively speaking it doesnt there is a rule for it but its not a thingplaying in his fourth gay bowl the former ivy leaguer allison is one of several straight quarterbacks in the league because  just like in the nfl  good flag football quarterbacks are hard to findim sure there are a few people who are frustrated about it he says there is definitely a debate there you have to balance it out and make sure we come to some middle ground where everyone can be happybuzinski explains why a quota system was implemented after he founded the los angeles league we didnt want a situation where a gay team would have  percent straight players and they were the best straight players in high school or college and they would be ringerspeople said well isnt that discriminatory no you can play flag football in la or any city in multiple leagues so they werent being deprived of an opportunity he notes adding that he never saw a serious violationpeople policed themselves besides there was no way we could really test for it he saysthere were some players that people would swear were straight and then their boyfriend would show upjoe cooper of the denver summit who was honored by the league as a hall of fame inductee this year sums up the consensusat the end of the day you have a lot of gay men who say i dont care if hes straight or not im still going to whoop his ass on the football fieldphotos former san diego state strong safety shaun rogers said coming out in college wasnt really an option i kind of just suppressed it he said after college i just became more open with it  i just didnt have to be around that culturehide caption  of  photos the new york warriors stretch before their opening game at gay bowl xviii on september   in denver colorado hide caption  of  photos former columbia university quarterback chris allison left and american international college wide receiver stephan benjamin are two of the seven teammates with college football experience on the new york warriors flag football team hide caption  of  photos after a stellar college career dorien bryant now plays flag football and won a gay bowl championship with the new york warriors in  it is a recreational league but we can play he said hide caption  of  photos the new york warriors featuring former purdue boilermaker dorien bryant far right line up on the left side of the line of scrimmage in their opening game at gay bowl xviii hide caption  of  photos referees congregated during the opening morning of gay bowl xviii in denver colorado hide caption  of not to be outdone women have featured prominently at the gay bowl since their inclusion seven years agowere very very competitive specifically when it comes to sports says the denver mile high clubs aszur rollins who has played on six championship teams we can be a bit brutal with each othernew to the city after finishing her tour with the army rollins found flag football all encompassing and even met her wife through the leagueits really been this amazing experience at an adult time in my life she says i never went to college so i consider this to be like a college experience for me i never had this comradery this sports experiencethe denver mile high clubs aszur rollins right who won her sixth gay bowl says flag football is allencompassing and met her wife through the leaguebefore she transitioned to life as a woman kaylee parker played wide receiver at south view high school in north carolina battling several top college prospects in the statethe yearold mechanical engineer moved to phoenix in  and began living full time as a woman but missed the competitionoriginally i just wanted to play football she says of finding her way onto the phoenix fahrenheit and once i started playing i ended up meeting a lot of cool people and its basically like my other family nowit didnt matter to me if it was a straight league or a gay league but it happened to be what i foundcoming from a phoenix league that is open to all genders parkers gender identity has not been an issue but the fahrenheits team captain and quarterback admits she has received some resistance as a trans athlete competing in the womens division of gay bowleveryone has their perspectives she says adding that flag football is more about finesse catching skills quickness and strategy and less about brute strength so i think that the physicality of it goes out the windowher sentiment is echoed by bryant whose warriors took fifth place this year its about whos smart he says you can have the  best athletes in this tournament and line up and still losei think about it a lot parker says i wouldnt compete if it was a tackle leaguethe other competitors she feels are perfectly capable of facing her across the line of scrimmage i would think that it would discredit a lot of women if i said i wouldnt playkaylee parker played high school football in north carolna before transitioning to life as a woman the yearold mechanical engineer says her flag football teammates in phoenix are like my other family nowperhaps the game is less physical than tackle football but it certainly can be roughone warriors player is examined for a possible torn tendon in his knee after the teams very first game while an la express player grumbles to bryant that he lost a toenail in a collisionhe acts like i did it on purpose bryant shrugs to a teammate after encouraging the player to go to the first aid tent it will grow backbryant  who at  still sports a sixpack and the unmistakable frame of a pro athlete  admits he was at first taken aback by the level of play in the league then checked himself was he stereotyping tooyou know what you are kind of surprised at first he says but then when you step back and think about it why why are we surprisedbecause they are gay men like we can play he says eyebrows raised head nodding it is a recreational league but we can play'"
      ]
     },
     "execution_count": 33,
     "metadata": {},
     "output_type": "execute_result"
    }
   ],
   "source": [
    "txt_prep"
   ]
  },
  {
   "cell_type": "code",
   "execution_count": 34,
   "metadata": {},
   "outputs": [
    {
     "name": "stdout",
     "output_type": "stream",
     "text": [
      "3013\n"
     ]
    }
   ],
   "source": [
    "words = txt_prep.split()\n",
    "\n",
    "print(len(words))"
   ]
  },
  {
   "cell_type": "code",
   "execution_count": 35,
   "metadata": {},
   "outputs": [
    {
     "data": {
      "application/vnd.jupyter.widget-view+json": {
       "model_id": "93fd4311daf2408ea7671ebc63e08c83",
       "version_major": 2,
       "version_minor": 0
      },
      "text/plain": [
       "VBox(children=(HTML(value=''), IntProgress(value=0, max=3013)))"
      ]
     },
     "metadata": {},
     "output_type": "display_data"
    }
   ],
   "source": [
    "frequencies_empirical = {}\n",
    "\n",
    "for word in log_progress(words):\n",
    "    if frequencies_empirical.get(word, None) is None:\n",
    "        frequencies_empirical[word] = 1\n",
    "    else:\n",
    "        frequencies_empirical[word] += 1"
   ]
  },
  {
   "cell_type": "code",
   "execution_count": 37,
   "metadata": {},
   "outputs": [],
   "source": [
    "def perplexity(docs):\n",
    "    docs = np.asarray(docs)\n",
    "    out_of_dict = []\n",
    "    \n",
    "    tmp_sum_docs = 0.0\n",
    "    N = 0.0\n",
    "    for doc in log_progress(docs):\n",
    "        tmp_sum_words = 0.0\n",
    "        for word in log_progress(words):\n",
    "            freq = frequencies.get(word, TOL)\n",
    "            freq_empirical = frequencies_empirical.get(word, 0.0)\n",
    "            N += freq_empirical\n",
    "            if freq == TOL:\n",
    "                out_of_dict.append(word)\n",
    "            tmp_sum_words += freq_empirical * np.log(freq)\n",
    "        tmp_sum_docs += tmp_sum_words\n",
    "        \n",
    "    return np.exp(-tmp_sum_docs / N), out_of_dict"
   ]
  },
  {
   "cell_type": "code",
   "execution_count": 38,
   "metadata": {},
   "outputs": [
    {
     "data": {
      "application/vnd.jupyter.widget-view+json": {
       "model_id": "a7be880c843f488299bcda34a68ced7e",
       "version_major": 2,
       "version_minor": 0
      },
      "text/plain": [
       "VBox(children=(HTML(value=''), IntProgress(value=0, max=1)))"
      ]
     },
     "metadata": {},
     "output_type": "display_data"
    },
    {
     "data": {
      "application/vnd.jupyter.widget-view+json": {
       "model_id": "8081c8ef465e4d1b8c1b0dfaaf08466f",
       "version_major": 2,
       "version_minor": 0
      },
      "text/plain": [
       "VBox(children=(HTML(value=''), IntProgress(value=0, max=3013)))"
      ]
     },
     "metadata": {},
     "output_type": "display_data"
    },
    {
     "name": "stdout",
     "output_type": "stream",
     "text": [
      "967264.2410476746\n"
     ]
    }
   ],
   "source": [
    "perp, ood = perplexity([words])\n",
    "\n",
    "print(perp)"
   ]
  },
  {
   "cell_type": "code",
   "execution_count": 39,
   "metadata": {},
   "outputs": [
    {
     "name": "stdout",
     "output_type": "stream",
     "text": [
      "['aback' 'acceptableduring' 'accepted' 'actiona' 'adding' 'adds' 'admits'\n",
      " 'afraidthe' 'afterthoughtit' 'afterward' 'agowere' 'agrees' 'airlines'\n",
      " 'allencompassing' 'allison' 'allotted' 'allowed' 'allpurpose' 'amazing'\n",
      " 'angeles' 'anthem' 'anthems' 'anyone' 'arizona' 'armsi' 'army' 'aszur'\n",
      " 'athlete' 'athletes' 'athletic' 'athleticism' 'atlanta' 'austin'\n",
      " 'avoided' 'backbryant' 'backseat' 'ballelectric' 'bartender' 'basically'\n",
      " 'battled' 'battling' 'became' 'beforebryant' 'began' 'belti' 'benjamin'\n",
      " 'berlin' 'besides' 'bidding' 'bids' 'billy' 'boasting' 'boilermaker'\n",
      " 'boost' 'boston' 'bowl' 'bowleveryone' 'bowli' 'bowls' 'boyfriend'\n",
      " 'broncos' 'bryant' 'budding' 'buses' 'buzinski' 'byrant' 'camaraderie'\n",
      " 'canada' 'canadas' 'canadian' 'capped' 'captain' 'caption' 'careerbryant'\n",
      " 'caresthese' 'carolina' 'carolna' 'catches' 'catching' 'celebration'\n",
      " 'ceremony' 'championship' 'checked' 'chicago' 'chippy' 'chris'\n",
      " 'churchgoing' 'closing' 'cnn' 'coachingim' 'cofounded' 'cofounder'\n",
      " 'collisionhe' 'colorado' 'coloradoalongside' 'communitywhat' 'compete'\n",
      " 'competing' 'competition' 'competitionoriginally' 'competitiveness'\n",
      " 'competitors' 'comradery' 'congregated' 'consensusat' 'conservative'\n",
      " 'contract' 'controversial' 'convincinglyif' 'cooper' 'counterpartsgames'\n",
      " 'cowboysi' 'credited' 'culturegay' 'culturehide' 'dallas' 'damaging'\n",
      " 'davis' 'davishes' 'debate' 'decade' 'definitely' 'deflagged' 'denver'\n",
      " 'deprived' 'diego' 'dirt' 'discredit' 'discriminatory' 'dispel' 'doesnt'\n",
      " 'dorien' 'doubles' 'drawn' 'dreams' 'drove' 'echoed' 'educating'\n",
      " 'embrace' 'emergebryants' 'encompassing' 'encouraging' 'ended'\n",
      " 'endedplaying' 'ending' 'enforcement' 'engineer' 'england' 'enlistee'\n",
      " 'enoughwarriors' 'equivalent' 'ethos' 'europe' 'everyone' 'everyones'\n",
      " 'evolve' 'examined' 'expanded' 'experiencethe' 'explains' 'eyebrows'\n",
      " 'facedoff' 'facing' 'fahrenheit' 'fahrenheits' 'familyflag' 'fans'\n",
      " 'featured' 'featuring' 'feels' 'felt' 'fieldphotos' 'fierce' 'fifth'\n",
      " 'figurehead' 'findim' 'finding' 'finesse' 'finishing' 'fistfights' 'flag'\n",
      " 'focused' 'footballs' 'formed' 'forwardthere' 'foundcoming' 'founded'\n",
      " 'frowned' 'frustrated' 'funeral' 'genders' 'generals' 'goroberts'\n",
      " 'gotten' 'governed' 'grew' 'grow' 'grumbles' 'guydorien' 'hall' 'halves'\n",
      " 'happened' 'happier' 'happybuzinski' 'hawaii' 'heavily' 'held' 'helped'\n",
      " 'hes' 'highcaliber' 'hollywood' 'homemade' 'honored' 'hotels' 'huddle'\n",
      " 'huddles' 'ignoring' 'implemented' 'inclusion' 'indiana' 'inductee'\n",
      " 'inked' 'innovator' 'instead' 'institutionalized' 'investments' 'invite'\n",
      " 'invited' 'iti' 'itnow' 'itover' 'itthere' 'itthese' 'ive' 'ivy' 'jackie'\n",
      " 'james' 'jean' 'jersey' 'jim' 'jobsgay' 'johnson' 'jr' 'kaylee' 'keeping'\n",
      " 'kickoff' 'knee' 'kraft' 'leader' 'league' 'leaguebefore' 'leaguebryant'\n",
      " 'leaguefiftyseven' 'leagueits' 'leaguer' 'leagues' 'leaguethe' 'legit'\n",
      " 'lgbt' 'lgbtq' 'lifefor' 'lineman' 'livesthe' 'locker' 'losei'\n",
      " 'madephotos' 'married' 'matches' 'maybe' 'mechanical' 'mile' 'missed'\n",
      " 'mounties' 'myking' 'nba' 'nearly' 'nfl' 'nobody' 'nobrainer' 'nodding'\n",
      " 'northwestern' 'noting' 'nowit' 'nowperhaps' 'numbers' 'ocallaghan'\n",
      " 'ofif' 'onceboth' 'onto' 'openly' 'opponents' 'option' 'organized'\n",
      " 'organizers' 'orientations' 'othernew' 'outdone' 'outskirts' 'outsports'\n",
      " 'owner' 'parker' 'parkers' 'participant' 'participants' 'pass' 'patriots'\n",
      " 'penn' 'peppered' 'percent' 'perfectly' 'phoenix' 'physicality'\n",
      " 'pittsburgh' 'played' 'players' 'playing' 'playkaylee' 'playmaker'\n",
      " 'plays' 'policed' 'polytechnic' 'pound' 'prefer' 'preston' 'progressit'\n",
      " 'progressively' 'prolike' 'prominent' 'prominently' 'purdue' 'pursuit'\n",
      " 'quarterbacks' 'quickness' 'quota' 'quotaeverything' 'ragtag' 'raised'\n",
      " 'reachthis' 'receiver' 'recently' 'recreational' 'recruited' 'referees'\n",
      " 'remarkable' 'removal' 'replaced' 'reportedly' 'represent' 'represented'\n",
      " 'represents' 'respond' 'resting' 'reunion' 'rhythm' 'ringerspeople'\n",
      " 'riptide' 'robert' 'roberts' 'robertsthis' 'robinson' 'rogers' 'rollins'\n",
      " 'rooftop' 'rotating' 'roughone' 'runs' 'ryan' 'saidits' 'san' 'santos'\n",
      " 'saturday' 'says' 'saysboasting' 'saysthere' 'scholarship' 'scorching'\n",
      " 'scrimmage' 'seattle' 'september' 'serious' 'seriously' 'setting'\n",
      " 'sevenonseven' 'several' 'shade' 'shaped' 'shaun' 'sheer' 'sheraton'\n",
      " 'shielding' 'shrugs' 'shuttle' 'sideline' 'sidelines' 'signee' 'signing'\n",
      " 'signs' 'singing' 'sings' 'sissythats' 'sixpack' 'sixth' 'skills'\n",
      " 'someone' 'specifically' 'spelling' 'sponsors' 'sports' 'sprays'\n",
      " 'squares' 'standout' 'statethe' 'steelersyet' 'stellar' 'stephan' 'steps'\n",
      " 'stereotypes' 'stereotyping' 'strength' 'strike' 'striped' 'stud'\n",
      " 'summit' 'sums' 'sunscreen' 'superstar' 'surprised' 'surprisedbecause'\n",
      " 'swear' 'tackling' 'taught' 'teammate' 'teammates' 'teams' 'tells'\n",
      " 'tendon' 'tennessee' 'tent' 'tents' 'texashow' 'themselves'\n",
      " 'thingplaying' 'thishonolulu' 'threeday' 'threeteam' 'throw' 'thunder'\n",
      " 'thunderthe' 'titans' 'title' 'titleholders' 'toenail' 'tooyou' 'torn'\n",
      " 'toronto' 'touchdown' 'touched' 'tournament' 'tournaments' 'trainer'\n",
      " 'transitioned' 'transitioning' 'umbrellas' 'uncomfortable' 'uniforms'\n",
      " 'united' 'universitygelling' 'unmistakable' 'until' 'upjoe' 'upsrosters'\n",
      " 'vast' 'vibe' 'violationpeople' 'wade' 'walking' 'wanted' 'warriors'\n",
      " 'washington' 'wasnt' 'watches' 'website' 'websites' 'weddings' 'weekend'\n",
      " 'welcomes' 'welcoming' 'werent' 'weve' 'whoop' 'whos' 'wide' 'wildest'\n",
      " 'windowher' 'womens' 'won' 'wonders' 'worcester' 'worked' 'worksim'\n",
      " 'worry' 'wouldnt' 'wristbands' 'yard' 'yards' 'yearold' 'yearthe' 'york'\n",
      " 'yorker' 'yorks' 'youre' 'youve']\n"
     ]
    }
   ],
   "source": [
    "print(np.unique(ood))"
   ]
  },
  {
   "cell_type": "code",
   "execution_count": null,
   "metadata": {},
   "outputs": [],
   "source": []
  }
 ],
 "metadata": {
  "kernelspec": {
   "display_name": "Python 3",
   "language": "python",
   "name": "python3"
  },
  "language_info": {
   "codemirror_mode": {
    "name": "ipython",
    "version": 3
   },
   "file_extension": ".py",
   "mimetype": "text/x-python",
   "name": "python",
   "nbconvert_exporter": "python",
   "pygments_lexer": "ipython3",
   "version": "3.7.0"
  }
 },
 "nbformat": 4,
 "nbformat_minor": 2
}
