{
 "cells": [
  {
   "cell_type": "code",
   "execution_count": 11,
   "metadata": {},
   "outputs": [],
   "source": [
    "import unittest\n",
    "from selenium import webdriver\n",
    "from selenium.webdriver.common.keys import Keys\n",
    "import numpy as np\n",
    "\n",
    "driver = webdriver.Chrome('drivers\\chromedriver.exe') \n",
    "driver.get(\"https://m.lenta.ru/rubrics/sport\")\n",
    "news = driver.find_elements_by_class_name('b-list-item__link')"
   ]
  },
  {
   "cell_type": "code",
   "execution_count": 12,
   "metadata": {},
   "outputs": [
    {
     "data": {
      "text/plain": [
       "87"
      ]
     },
     "execution_count": 12,
     "metadata": {},
     "output_type": "execute_result"
    }
   ],
   "source": [
    "len(news)"
   ]
  },
  {
   "cell_type": "code",
   "execution_count": 13,
   "metadata": {},
   "outputs": [
    {
     "name": "stdout",
     "output_type": "stream",
     "text": [
      "['https://m.lenta.ru/articles/2019/01/27/fedor/'\n",
      " 'https://m.lenta.ru/news/2019/01/28/kadyr_telega/'\n",
      " 'https://m.lenta.ru/articles/2019/01/13/murray/'\n",
      " 'https://m.lenta.ru/news/2019/01/28/ref/'\n",
      " 'https://m.lenta.ru/news/2019/01/28/bader/'\n",
      " 'https://m.lenta.ru/news/2019/01/20/sharapova_angry/'\n",
      " 'https://m.lenta.ru/news/2019/01/28/smol_pen/'\n",
      " 'https://m.lenta.ru/news/2019/01/28/red_bull/'\n",
      " 'https://m.lenta.ru/news/2019/01/21/bolivia/'\n",
      " 'https://m.lenta.ru/news/2019/01/28/showmetats/'\n",
      " 'https://m.lenta.ru/news/2019/01/28/komosmo/'\n",
      " 'https://m.lenta.ru/news/2019/01/20/jumper/'\n",
      " 'https://m.lenta.ru/news/2019/01/28/adonis/'\n",
      " 'https://m.lenta.ru/news/2019/01/28/cross_promotion/'\n",
      " 'https://m.lenta.ru/articles/2019/01/08/football_show/'\n",
      " 'https://m.lenta.ru/news/2019/01/28/sudia/'\n",
      " 'https://m.lenta.ru/news/2019/01/28/sibir/'\n",
      " 'https://m.lenta.ru/news/2019/01/21/serena_halep/'\n",
      " 'https://m.lenta.ru/news/2019/01/27/condition/'\n",
      " 'https://m.lenta.ru/news/2019/01/27/krach/'\n",
      " 'https://m.lenta.ru/news/2019/01/20/furkad/'\n",
      " 'https://m.lenta.ru/news/2019/01/27/fail/'\n",
      " 'https://m.lenta.ru/news/2019/01/27/pihler/'\n",
      " 'https://m.lenta.ru/news/2019/01/20/rakitskiy_more/'\n",
      " 'https://m.lenta.ru/articles/2019/01/26/doha/'\n",
      " 'https://m.lenta.ru/news/2019/01/27/well_well_well/'\n",
      " 'https://m.lenta.ru/news/2019/01/21/pichler/'\n",
      " 'https://m.lenta.ru/news/2019/01/27/djokovic/'\n",
      " 'https://m.lenta.ru/news/2019/01/27/coach/'\n",
      " 'https://m.lenta.ru/news/2019/01/20/bitva/'\n",
      " 'https://m.lenta.ru/news/2019/01/27/taktarov/'\n",
      " 'https://m.lenta.ru/news/2019/01/27/beider/'\n",
      " 'https://m.lenta.ru/news/2019/01/21/serena_fail/'\n",
      " 'https://m.lenta.ru/news/2019/01/26/osaka/'\n",
      " 'https://m.lenta.ru/news/2019/01/27/knock-out/'\n",
      " 'https://m.lenta.ru/news/2019/01/21/eberhard/'\n",
      " 'https://m.lenta.ru/news/2019/01/26/no_wc/'\n",
      " 'https://m.lenta.ru/news/2019/01/26/bukin/'\n",
      " 'https://m.lenta.ru/news/2019/01/21/dopping_is_bad/'\n",
      " 'https://m.lenta.ru/news/2019/01/26/kolyada/'\n",
      " 'https://m.lenta.ru/news/2019/01/26/jesse/'\n",
      " 'https://m.lenta.ru/articles/2019/01/16/mick_schumacher/'\n",
      " 'https://m.lenta.ru/news/2019/01/26/wow/'\n",
      " 'https://m.lenta.ru/news/2019/01/26/samodurova/'\n",
      " 'https://m.lenta.ru/news/2019/01/26/bloodbath/'\n",
      " 'https://m.lenta.ru/articles/2019/01/27/figurka/'\n",
      " 'https://m.lenta.ru/news/2019/01/26/boxing/'\n",
      " 'https://m.lenta.ru/news/2019/01/26/emelianenko/'\n",
      " 'https://m.lenta.ru/news/2019/01/25/liecester/'\n",
      " 'https://m.lenta.ru/news/2019/01/26/zaga/']\n"
     ]
    }
   ],
   "source": [
    "n_links=50;\n",
    "news_link_list=np.full(n_links, \"https://m.lenta.ru/news/2019/01/28/kadyr_telega/0000000\");\n",
    "for i in range(n_links):\n",
    "    news_href=news[i].get_attribute(\"href\")\n",
    "    news_link_list[i]=news_href;\n",
    "print(news_link_list)"
   ]
  },
  {
   "cell_type": "code",
   "execution_count": 14,
   "metadata": {},
   "outputs": [],
   "source": [
    "import xml.etree.ElementTree as xml\n",
    "\n",
    "root = xml.Element(\"root\")\n",
    "catalogs = xml.Element(\"catalogs\")\n",
    "root.append(catalogs)\n",
    "\n",
    "for i in range(4):\n",
    "    catalog = xml.SubElement(catalogs, \"catalog\")\n",
    "    catalog_number=catalog.set('number',str(i))\n",
    "    for j in range(n_links):\n",
    "        article = xml.SubElement(catalog, \"article\")\n",
    "        article_number=article.set('number',str(j))\n",
    "        article.text = \"RRR\"    \n",
    "    \n",
    "tree = xml.ElementTree(root)\n",
    "tree.write(\"file1.xml\", encoding = \"UTF-8\", xml_declaration = True)"
   ]
  },
  {
   "cell_type": "code",
   "execution_count": 15,
   "metadata": {},
   "outputs": [
    {
     "name": "stdout",
     "output_type": "stream",
     "text": [
      "0\n",
      "1\n",
      "2\n",
      "3\n",
      "4\n",
      "5\n",
      "6\n",
      "7\n",
      "8\n",
      "9\n",
      "10\n",
      "11\n",
      "12\n",
      "13\n",
      "14\n",
      "15\n",
      "16\n",
      "17\n",
      "18\n",
      "19\n",
      "20\n",
      "21\n",
      "22\n",
      "23\n",
      "24\n",
      "25\n",
      "26\n",
      "27\n",
      "28\n",
      "29\n",
      "30\n",
      "31\n",
      "32\n",
      "33\n",
      "34\n",
      "35\n",
      "36\n",
      "37\n",
      "38\n",
      "39\n",
      "40\n",
      "41\n",
      "42\n",
      "43\n",
      "44\n",
      "45\n",
      "46\n",
      "47\n",
      "48\n",
      "49\n"
     ]
    }
   ],
   "source": [
    "driver = webdriver.Chrome('drivers\\chromedriver.exe')\n",
    "for i in range(n_links):\n",
    "    driver.get(news_link_list[i])\n",
    "    news_article=driver.find_element_by_class_name('b-topic__body')\n",
    "    catalog=catalogs[0];\n",
    "    article=catalog[i];\n",
    "    if ( article.attrib['number'] == str(i) ):\n",
    "        article.text = news_article.text\n",
    "        print(i)"
   ]
  },
  {
   "cell_type": "code",
   "execution_count": 16,
   "metadata": {},
   "outputs": [],
   "source": [
    "tree = xml.ElementTree(root)\n",
    "tree.write(\"file1.xml\", encoding = \"UTF-8\", xml_declaration = True)"
   ]
  },
  {
   "cell_type": "code",
   "execution_count": 39,
   "metadata": {},
   "outputs": [
    {
     "data": {
      "text/plain": [
       "88"
      ]
     },
     "execution_count": 39,
     "metadata": {},
     "output_type": "execute_result"
    }
   ],
   "source": [
    "driver = webdriver.Chrome('drivers\\chromedriver.exe') \n",
    "driver.get(\"https://m.lenta.ru/rubrics/culture/\")\n",
    "news = driver.find_elements_by_class_name('b-list-item__link')\n",
    "len(news)"
   ]
  },
  {
   "cell_type": "code",
   "execution_count": 40,
   "metadata": {},
   "outputs": [
    {
     "name": "stdout",
     "output_type": "stream",
     "text": [
      "['https://m.lenta.ru/articles/2019/01/27/book/'\n",
      " 'https://m.lenta.ru/articles/2019/01/24/books/'\n",
      " 'https://m.lenta.ru/articles/2019/01/21/ptaha/'\n",
      " 'https://m.lenta.ru/photo/2019/01/26/greggorman/'\n",
      " 'https://m.lenta.ru/news/2019/01/28/people_vs_bilal/'\n",
      " 'https://m.lenta.ru/news/2019/01/23/afpsnow/'\n",
      " 'https://m.lenta.ru/news/2019/01/28/thisismadness/'\n",
      " 'https://m.lenta.ru/news/2019/01/28/anotherworld/'\n",
      " 'https://m.lenta.ru/news/2019/01/23/ahmanov/'\n",
      " 'https://m.lenta.ru/news/2019/01/28/kartinakuindzhi/'\n",
      " 'https://m.lenta.ru/news/2019/01/28/plyusi/'\n",
      " 'https://m.lenta.ru/articles/2019/01/13/insectopia/'\n",
      " 'https://m.lenta.ru/news/2019/01/28/jacksondoc/'\n",
      " 'https://m.lenta.ru/news/2019/01/28/babushki/'\n",
      " 'https://m.lenta.ru/news/2019/01/21/grande/'\n",
      " 'https://m.lenta.ru/news/2019/01/28/harassment/'\n",
      " 'https://m.lenta.ru/news/2019/01/28/xxxtentacion/'\n",
      " 'https://m.lenta.ru/news/2019/01/20/gubin/'\n",
      " 'https://m.lenta.ru/news/2019/01/28/bezboyu/'\n",
      " 'https://m.lenta.ru/news/2019/01/28/nejno/'\n",
      " 'https://m.lenta.ru/themes/2018/12/29/prachechnaya/'\n",
      " 'https://m.lenta.ru/news/2019/01/28/foreverandever/'\n",
      " 'https://m.lenta.ru/news/2019/01/26/helicopters/'\n",
      " 'https://m.lenta.ru/news/2019/01/27/kuiingi/'\n",
      " 'https://m.lenta.ru/news/2019/01/26/pugacheva/'\n",
      " 'https://m.lenta.ru/news/2019/01/27/ghostbusters/'\n",
      " 'https://m.lenta.ru/news/2019/01/26/jaksonproof/'\n",
      " 'https://m.lenta.ru/articles/2019/01/25/kino25012019/'\n",
      " 'https://m.lenta.ru/news/2019/01/26/vagene/'\n",
      " 'https://m.lenta.ru/news/2019/01/26/ingloriousbasterds/'\n",
      " 'https://m.lenta.ru/articles/2019/01/22/zavodfragment/'\n",
      " 'https://m.lenta.ru/news/2019/01/26/legrand/'\n",
      " 'https://m.lenta.ru/news/2019/01/25/voina_anni/'\n",
      " 'https://m.lenta.ru/video/2019/01/25/fandm/'\n",
      " 'https://m.lenta.ru/news/2019/01/25/shnurvotvete/'\n",
      " 'https://m.lenta.ru/news/2019/01/25/breakingmovie/'\n",
      " 'https://m.lenta.ru/news/2019/01/25/rapenotrape/'\n",
      " 'https://m.lenta.ru/news/2019/01/25/pobezhali/'\n",
      " 'https://m.lenta.ru/articles/2019/01/21/truedetective/'\n",
      " 'https://m.lenta.ru/news/2019/01/25/gameofthrones/'\n",
      " 'https://m.lenta.ru/news/2019/01/25/notapproved/'\n",
      " 'https://m.lenta.ru/photo/2019/01/23/newlandscape/'\n",
      " 'https://m.lenta.ru/news/2019/01/25/oscar/'\n",
      " 'https://m.lenta.ru/news/2019/01/25/sobchak/'\n",
      " 'https://m.lenta.ru/news/2019/01/24/interesnoekino/'\n",
      " 'https://m.lenta.ru/news/2019/01/25/50centofgray/'\n",
      " 'https://m.lenta.ru/articles/2019/01/15/dorff/'\n",
      " 'https://m.lenta.ru/news/2019/01/24/got/'\n",
      " 'https://m.lenta.ru/news/2019/01/24/bsinger/'\n",
      " 'https://m.lenta.ru/articles/2019/01/22/siren/']\n"
     ]
    }
   ],
   "source": [
    "n_links=50;\n",
    "news_link_list=np.full(n_links, \"https://m.lenta.ru/news/2019/01/28/kadyr_telega/000000000000\");\n",
    "for i in range(n_links):\n",
    "    news_href=news[i].get_attribute(\"href\")\n",
    "    news_link_list[i]=news_href;\n",
    "print(news_link_list)"
   ]
  },
  {
   "cell_type": "code",
   "execution_count": 41,
   "metadata": {},
   "outputs": [
    {
     "name": "stdout",
     "output_type": "stream",
     "text": [
      "0\n",
      "1\n",
      "2\n",
      "3\n",
      "4\n",
      "5\n",
      "6\n",
      "7\n",
      "8\n",
      "9\n",
      "10\n",
      "11\n",
      "12\n",
      "13\n",
      "14\n",
      "15\n",
      "16\n",
      "17\n",
      "18\n",
      "19\n",
      "20\n",
      "21\n",
      "22\n",
      "23\n",
      "24\n",
      "25\n",
      "26\n",
      "27\n",
      "28\n",
      "29\n",
      "30\n",
      "31\n",
      "32\n",
      "33\n",
      "34\n",
      "35\n",
      "36\n",
      "37\n",
      "38\n",
      "39\n",
      "40\n",
      "41\n",
      "42\n",
      "43\n",
      "44\n",
      "45\n",
      "46\n",
      "47\n",
      "48\n",
      "49\n"
     ]
    }
   ],
   "source": [
    "driver = webdriver.Chrome('drivers\\chromedriver.exe')\n",
    "for i in range(n_links):\n",
    "    driver.get(news_link_list[i])\n",
    "    news_article=driver.find_element_by_class_name('b-topic')\n",
    "    catalog=catalogs[1];\n",
    "    article=catalog[i];\n",
    "    if ( article.attrib['number'] == str(i) ):\n",
    "        article.text = news_article.text\n",
    "        print(i)"
   ]
  },
  {
   "cell_type": "code",
   "execution_count": 42,
   "metadata": {},
   "outputs": [],
   "source": [
    "tree = xml.ElementTree(root)\n",
    "tree.write(\"file1.xml\", encoding = \"UTF-8\", xml_declaration = True)"
   ]
  },
  {
   "cell_type": "code",
   "execution_count": 43,
   "metadata": {},
   "outputs": [
    {
     "data": {
      "text/plain": [
       "64"
      ]
     },
     "execution_count": 43,
     "metadata": {},
     "output_type": "execute_result"
    }
   ],
   "source": [
    "driver = webdriver.Chrome('drivers\\chromedriver.exe')\n",
    "driver.get(\"https://m.lenta.ru/rubrics/media/\")\n",
    "news = driver.find_elements_by_class_name('b-list-item__link')\n",
    "len(news)"
   ]
  },
  {
   "cell_type": "code",
   "execution_count": 44,
   "metadata": {},
   "outputs": [
    {
     "name": "stdout",
     "output_type": "stream",
     "text": [
      "['https://m.lenta.ru/photo/2019/01/28/benkhalifa/'\n",
      " 'https://m.lenta.ru/photo/2019/01/18/molodezh/'\n",
      " 'https://m.lenta.ru/articles/2018/11/22/internet_censorship/'\n",
      " 'https://m.lenta.ru/news/2019/01/28/koncertniy_isk/'\n",
      " 'https://m.lenta.ru/news/2019/01/28/flamethrower/'\n",
      " 'https://m.lenta.ru/news/2019/01/28/poznakomimsya/'\n",
      " 'https://m.lenta.ru/news/2019/01/28/tricks/'\n",
      " 'https://m.lenta.ru/news/2019/01/28/slepakov/'\n",
      " 'https://m.lenta.ru/news/2019/01/25/bezdelniki/'\n",
      " 'https://m.lenta.ru/news/2019/01/28/tinderdate_korea/'\n",
      " 'https://m.lenta.ru/news/2019/01/26/4ikatilo/'\n",
      " 'https://m.lenta.ru/news/2019/01/25/ugly/'\n",
      " 'https://m.lenta.ru/articles/2019/01/25/journalists/'\n",
      " 'https://m.lenta.ru/news/2019/01/26/leningrad/'\n",
      " 'https://m.lenta.ru/articles/2018/11/20/ne_ottepel/'\n",
      " 'https://m.lenta.ru/news/2019/01/28/english_problems/'\n",
      " 'https://m.lenta.ru/news/2019/01/25/skabeeva_bereza/'\n",
      " 'https://m.lenta.ru/news/2019/01/24/web_china/'\n",
      " 'https://m.lenta.ru/news/2019/01/27/btrtdnv/'\n",
      " 'https://m.lenta.ru/news/2019/01/25/black_penis/'\n",
      " 'https://m.lenta.ru/news/2019/01/24/in_fury/'\n",
      " 'https://m.lenta.ru/news/2019/01/26/sobchak/'\n",
      " 'https://m.lenta.ru/articles/2019/01/16/fakeinternet/'\n",
      " 'https://m.lenta.ru/news/2019/01/22/sorry/'\n",
      " 'https://m.lenta.ru/articles/2019/01/22/propaganda/'\n",
      " 'https://m.lenta.ru/news/2019/01/25/tapok_strong/'\n",
      " 'https://m.lenta.ru/news/2019/01/22/porn_tax/'\n",
      " 'https://m.lenta.ru/news/2019/01/25/skabeeva_tolchok/'\n",
      " 'https://m.lenta.ru/news/2019/01/25/vysotsky/'\n",
      " 'https://m.lenta.ru/articles/2019/01/22/kino/'\n",
      " 'https://m.lenta.ru/news/2019/01/25/goog_gandhi/'\n",
      " 'https://m.lenta.ru/news/2019/01/24/maps/'\n",
      " 'https://m.lenta.ru/news/2019/01/21/letters/'\n",
      " 'https://m.lenta.ru/news/2019/01/25/mega_facebook/'\n",
      " 'https://m.lenta.ru/news/2019/01/24/zakharova_dom2/'\n",
      " 'https://m.lenta.ru/news/2019/01/22/milosty_rkn/'\n",
      " 'https://m.lenta.ru/articles/2019/01/20/business_blogs/'\n",
      " 'https://m.lenta.ru/photo/2019/01/04/hacker/'\n",
      " 'https://m.lenta.ru/articles/2018/12/26/new_trends/'\n",
      " 'https://m.lenta.ru/news/2019/01/25/sports/'\n",
      " 'https://m.lenta.ru/news/2019/01/24/google_crimea/'\n",
      " 'https://m.lenta.ru/news/2019/01/21/vorishka/'\n",
      " 'https://m.lenta.ru/news/2019/01/25/egg_from_future/'\n",
      " 'https://m.lenta.ru/news/2019/01/24/referee/'\n",
      " 'https://m.lenta.ru/news/2019/01/20/deleted/'\n",
      " 'https://m.lenta.ru/news/2019/01/24/petroshtany/'\n",
      " 'https://m.lenta.ru/articles/2019/01/01/analog_poka/'\n",
      " 'https://m.lenta.ru/news/2019/01/24/kovtun/'\n",
      " 'https://m.lenta.ru/news/2019/01/24/oldy_zdes/'\n",
      " 'https://m.lenta.ru/news/2019/01/24/maduro/']\n"
     ]
    }
   ],
   "source": [
    "n_links=50;\n",
    "news_link_list=np.full(n_links, \"https://m.lenta.ru/news/2019/01/28/kadyr_telega/0000000000000\");\n",
    "for i in range(n_links):\n",
    "    news_href=news[i].get_attribute(\"href\")\n",
    "    news_link_list[i]=news_href;\n",
    "print(news_link_list)"
   ]
  },
  {
   "cell_type": "code",
   "execution_count": 45,
   "metadata": {},
   "outputs": [
    {
     "name": "stdout",
     "output_type": "stream",
     "text": [
      "0\n",
      "1\n",
      "2\n",
      "3\n",
      "4\n",
      "5\n",
      "6\n",
      "7\n",
      "8\n",
      "9\n",
      "10\n",
      "11\n",
      "12\n",
      "13\n",
      "14\n",
      "15\n",
      "16\n",
      "17\n",
      "18\n",
      "19\n",
      "20\n",
      "21\n",
      "22\n",
      "23\n",
      "24\n",
      "25\n",
      "26\n",
      "27\n",
      "28\n",
      "29\n",
      "30\n",
      "31\n",
      "32\n",
      "33\n",
      "34\n",
      "35\n",
      "36\n",
      "37\n",
      "38\n",
      "39\n",
      "40\n",
      "41\n",
      "42\n",
      "43\n",
      "44\n",
      "45\n",
      "46\n",
      "47\n",
      "48\n",
      "49\n"
     ]
    }
   ],
   "source": [
    "driver = webdriver.Chrome('drivers\\chromedriver.exe')\n",
    "for i in range(n_links):\n",
    "    driver.get(news_link_list[i])\n",
    "    news_article=driver.find_element_by_class_name('b-topic')\n",
    "    catalog=catalogs[2];\n",
    "    article=catalog[i];\n",
    "    if ( article.attrib['number'] == str(i) ):\n",
    "        article.text = news_article.text\n",
    "        print(i)"
   ]
  },
  {
   "cell_type": "code",
   "execution_count": 46,
   "metadata": {},
   "outputs": [],
   "source": [
    "tree = xml.ElementTree(root)\n",
    "tree.write(\"file1.xml\", encoding = \"UTF-8\", xml_declaration = True)"
   ]
  },
  {
   "cell_type": "code",
   "execution_count": 47,
   "metadata": {},
   "outputs": [
    {
     "data": {
      "text/plain": [
       "100"
      ]
     },
     "execution_count": 47,
     "metadata": {},
     "output_type": "execute_result"
    }
   ],
   "source": [
    "driver = webdriver.Chrome('drivers\\chromedriver.exe')\n",
    "driver.get(\"https://m.lenta.ru/rubrics/travel/\")\n",
    "news = driver.find_elements_by_class_name('b-list-item__link')\n",
    "len(news)"
   ]
  },
  {
   "cell_type": "code",
   "execution_count": 48,
   "metadata": {},
   "outputs": [
    {
     "name": "stdout",
     "output_type": "stream",
     "text": [
      "['https://m.lenta.ru/photo/2019/01/26/drones/'\n",
      " 'https://m.lenta.ru/articles/2019/01/17/newyork/'\n",
      " 'https://m.lenta.ru/articles/2018/11/19/omantravel/'\n",
      " 'https://m.lenta.ru/articles/2019/01/22/paris/'\n",
      " 'https://m.lenta.ru/news/2019/01/28/nowheelchair/'\n",
      " 'https://m.lenta.ru/news/2019/01/19/nalog/'\n",
      " 'https://m.lenta.ru/news/2019/01/28/lostplane/'\n",
      " 'https://m.lenta.ru/news/2019/01/25/akbar/'\n",
      " 'https://m.lenta.ru/news/2019/01/03/no_prostitution/'\n",
      " 'https://m.lenta.ru/news/2019/01/26/sheremetyevo/'\n",
      " 'https://m.lenta.ru/news/2019/01/28/badcruise/'\n",
      " 'https://m.lenta.ru/news/2019/01/25/thailand/'\n",
      " 'https://m.lenta.ru/news/2018/12/11/slovo_grozny/'\n",
      " 'https://m.lenta.ru/articles/2019/01/11/wintercyprus/'\n",
      " 'https://m.lenta.ru/news/2018/12/14/alonetrain/'\n",
      " 'https://m.lenta.ru/photo/2019/01/21/abudhabi/'\n",
      " 'https://m.lenta.ru/news/2019/01/24/lostinplane/'\n",
      " 'https://m.lenta.ru/articles/2018/12/28/travelprediction/'\n",
      " 'https://m.lenta.ru/news/2019/01/25/badodor/'\n",
      " 'https://m.lenta.ru/news/2019/01/24/badson/'\n",
      " 'https://m.lenta.ru/news/2019/01/28/falcon/'\n",
      " 'https://m.lenta.ru/news/2019/01/22/cruise_suicide/'\n",
      " 'https://m.lenta.ru/news/2019/01/25/goodboy/'\n",
      " 'https://m.lenta.ru/photo/2018/12/19/ghana/'\n",
      " 'https://m.lenta.ru/articles/2019/01/12/himalayas/'\n",
      " 'https://m.lenta.ru/news/2019/01/24/shutniki/'\n",
      " 'https://m.lenta.ru/news/2019/01/23/vodkaandyacht/'\n",
      " 'https://m.lenta.ru/news/2019/01/24/supset/'\n",
      " 'https://m.lenta.ru/news/2019/01/24/transaero/'\n",
      " 'https://m.lenta.ru/news/2019/01/23/irishsong/'\n",
      " 'https://m.lenta.ru/news/2019/01/20/courchevel/'\n",
      " 'https://m.lenta.ru/articles/2018/12/20/travelsum/'\n",
      " 'https://m.lenta.ru/articles/2019/01/09/traveltochina/'\n",
      " 'https://m.lenta.ru/news/2019/01/23/singapore/'\n",
      " 'https://m.lenta.ru/news/2019/01/17/idiots/'\n",
      " 'https://m.lenta.ru/news/2019/01/23/migration/'\n",
      " 'https://m.lenta.ru/news/2019/01/17/fail/'\n",
      " 'https://m.lenta.ru/news/2019/01/22/stewardess/'\n",
      " 'https://m.lenta.ru/news/2019/01/15/toptour/'\n",
      " 'https://m.lenta.ru/articles/2019/01/03/estoniantrip/'\n",
      " 'https://m.lenta.ru/articles/2019/01/08/westworld/'\n",
      " 'https://m.lenta.ru/news/2019/01/22/afgan/'\n",
      " 'https://m.lenta.ru/news/2019/01/15/firearm/'\n",
      " 'https://m.lenta.ru/news/2019/01/22/cruisex/'\n",
      " 'https://m.lenta.ru/news/2019/01/15/cockpit/'\n",
      " 'https://m.lenta.ru/news/2019/01/21/humiliation/'\n",
      " 'https://m.lenta.ru/news/2019/01/14/birdisaword/'\n",
      " 'https://m.lenta.ru/news/2019/01/20/polet/'\n",
      " 'https://m.lenta.ru/photo/2019/01/07/mar_saba/'\n",
      " 'https://m.lenta.ru/articles/2018/12/22/antarctic/']\n"
     ]
    }
   ],
   "source": [
    "n_links=50;\n",
    "news_link_list=np.full(n_links, \"https://m.lenta.ru/news/2019/01/28/kadyr_telega/00000000000\");\n",
    "for i in range(n_links):\n",
    "    news_href=news[i].get_attribute(\"href\")\n",
    "    news_link_list[i]=news_href;\n",
    "print(news_link_list)"
   ]
  },
  {
   "cell_type": "code",
   "execution_count": 49,
   "metadata": {},
   "outputs": [
    {
     "name": "stdout",
     "output_type": "stream",
     "text": [
      "0\n",
      "1\n",
      "2\n",
      "3\n",
      "4\n",
      "5\n",
      "6\n",
      "7\n",
      "8\n",
      "9\n",
      "10\n",
      "11\n",
      "12\n",
      "13\n",
      "14\n",
      "15\n",
      "16\n",
      "17\n",
      "18\n",
      "19\n",
      "20\n",
      "21\n",
      "22\n",
      "23\n",
      "24\n",
      "25\n",
      "26\n",
      "27\n",
      "28\n",
      "29\n",
      "30\n",
      "31\n",
      "32\n",
      "33\n",
      "34\n",
      "35\n",
      "36\n",
      "37\n",
      "38\n",
      "39\n",
      "40\n",
      "41\n",
      "42\n",
      "43\n",
      "44\n",
      "45\n",
      "46\n",
      "47\n",
      "48\n",
      "49\n"
     ]
    }
   ],
   "source": [
    "driver = webdriver.Chrome('drivers\\chromedriver.exe')\n",
    "for i in range(n_links):\n",
    "    driver.get(news_link_list[i])\n",
    "    news_article=driver.find_element_by_class_name('b-topic')\n",
    "    catalog=catalogs[3];\n",
    "    article=catalog[i];\n",
    "    if ( article.attrib['number'] == str(i) ):\n",
    "        article.text = news_article.text\n",
    "        print(i)"
   ]
  },
  {
   "cell_type": "code",
   "execution_count": 50,
   "metadata": {},
   "outputs": [],
   "source": [
    "tree = xml.ElementTree(root)\n",
    "tree.write(\"file1.xml\", encoding = \"UTF-8\", xml_declaration = True)"
   ]
  },
  {
   "cell_type": "code",
   "execution_count": 51,
   "metadata": {},
   "outputs": [],
   "source": [
    "catalogs[0].set('name','sport')\n",
    "catalogs[1].set('name','culture')\n",
    "catalogs[2].set('name','media')\n",
    "catalogs[3].set('name','travel')"
   ]
  },
  {
   "cell_type": "code",
   "execution_count": 52,
   "metadata": {},
   "outputs": [],
   "source": [
    "tree.write(\"file1.xml\", encoding = \"UTF-8\", xml_declaration = True)"
   ]
  },
  {
   "cell_type": "code",
   "execution_count": 56,
   "metadata": {},
   "outputs": [
    {
     "name": "stdout",
     "output_type": "stream",
     "text": [
      "['https://m.lenta.ru/photo/2019/01/26/drones/'\n",
      " 'https://m.lenta.ru/articles/2019/01/17/newyork/'\n",
      " 'https://m.lenta.ru/articles/2018/11/19/omantravel/'\n",
      " 'https://m.lenta.ru/articles/2019/01/22/paris/'\n",
      " 'https://m.lenta.ru/news/2019/01/28/nowheelchair/'\n",
      " 'https://m.lenta.ru/news/2019/01/19/nalog/'\n",
      " 'https://m.lenta.ru/news/2019/01/28/lostplane/'\n",
      " 'https://m.lenta.ru/news/2019/01/25/akbar/'\n",
      " 'https://m.lenta.ru/news/2019/01/03/no_prostitution/'\n",
      " 'https://m.lenta.ru/news/2019/01/26/sheremetyevo/'\n",
      " 'https://m.lenta.ru/news/2019/01/28/badcruise/'\n",
      " 'https://m.lenta.ru/news/2019/01/25/thailand/'\n",
      " 'https://m.lenta.ru/news/2018/12/11/slovo_grozny/'\n",
      " 'https://m.lenta.ru/articles/2019/01/11/wintercyprus/'\n",
      " 'https://m.lenta.ru/news/2018/12/14/alonetrain/'\n",
      " 'https://m.lenta.ru/photo/2019/01/21/abudhabi/'\n",
      " 'https://m.lenta.ru/news/2019/01/24/lostinplane/'\n",
      " 'https://m.lenta.ru/articles/2018/12/28/travelprediction/'\n",
      " 'https://m.lenta.ru/news/2019/01/25/badodor/'\n",
      " 'https://m.lenta.ru/news/2019/01/24/badson/'\n",
      " 'https://m.lenta.ru/news/2019/01/28/falcon/'\n",
      " 'https://m.lenta.ru/news/2019/01/22/cruise_suicide/'\n",
      " 'https://m.lenta.ru/news/2019/01/25/goodboy/'\n",
      " 'https://m.lenta.ru/photo/2018/12/19/ghana/'\n",
      " 'https://m.lenta.ru/articles/2019/01/12/himalayas/'\n",
      " 'https://m.lenta.ru/news/2019/01/24/shutniki/'\n",
      " 'https://m.lenta.ru/news/2019/01/23/vodkaandyacht/'\n",
      " 'https://m.lenta.ru/news/2019/01/24/supset/'\n",
      " 'https://m.lenta.ru/news/2019/01/24/transaero/'\n",
      " 'https://m.lenta.ru/news/2019/01/23/irishsong/'\n",
      " 'https://m.lenta.ru/news/2019/01/20/courchevel/'\n",
      " 'https://m.lenta.ru/articles/2018/12/20/travelsum/'\n",
      " 'https://m.lenta.ru/articles/2019/01/09/traveltochina/'\n",
      " 'https://m.lenta.ru/news/2019/01/23/singapore/'\n",
      " 'https://m.lenta.ru/news/2019/01/17/idiots/'\n",
      " 'https://m.lenta.ru/news/2019/01/23/migration/'\n",
      " 'https://m.lenta.ru/news/2019/01/17/fail/'\n",
      " 'https://m.lenta.ru/news/2019/01/22/stewardess/'\n",
      " 'https://m.lenta.ru/news/2019/01/15/toptour/'\n",
      " 'https://m.lenta.ru/articles/2019/01/03/estoniantrip/'\n",
      " 'https://m.lenta.ru/articles/2019/01/08/westworld/'\n",
      " 'https://m.lenta.ru/news/2019/01/22/afgan/'\n",
      " 'https://m.lenta.ru/news/2019/01/15/firearm/'\n",
      " 'https://m.lenta.ru/news/2019/01/22/cruisex/'\n",
      " 'https://m.lenta.ru/news/2019/01/15/cockpit/'\n",
      " 'https://m.lenta.ru/news/2019/01/21/humiliation/'\n",
      " 'https://m.lenta.ru/news/2019/01/14/birdisaword/'\n",
      " 'https://m.lenta.ru/news/2019/01/20/polet/'\n",
      " 'https://m.lenta.ru/photo/2019/01/07/mar_saba/'\n",
      " 'https://m.lenta.ru/articles/2018/12/22/antarctic/'\n",
      " 'https://m.lenta.ru/news/2019/01/14/floor/'\n",
      " 'https://m.lenta.ru/news/2019/01/18/bacardi/'\n",
      " 'https://m.lenta.ru/news/2019/01/11/skazochno/'\n",
      " 'https://m.lenta.ru/news/2019/01/18/cctv/'\n",
      " 'https://m.lenta.ru/news/2019/01/11/luckycoin/'\n",
      " 'https://m.lenta.ru/themes/2018/12/29/bestravel/'\n",
      " 'https://m.lenta.ru/articles/2019/01/05/zurich/'\n",
      " 'https://m.lenta.ru/news/2019/01/17/armeniamoya/'\n",
      " 'https://m.lenta.ru/news/2019/01/09/forsiria/'\n",
      " 'https://m.lenta.ru/news/2019/01/17/pohodochka/'\n",
      " 'https://m.lenta.ru/news/2019/01/11/closeit/'\n",
      " 'https://m.lenta.ru/news/2019/01/15/badland/'\n",
      " 'https://m.lenta.ru/news/2019/01/09/augier/'\n",
      " 'https://m.lenta.ru/articles/2018/12/17/litva/'\n",
      " 'https://m.lenta.ru/themes/2018/08/01/bestofchina/'\n",
      " 'https://m.lenta.ru/news/2019/01/14/daytedeneg/'\n",
      " 'https://m.lenta.ru/news/2019/01/11/deutsch/'\n",
      " 'https://m.lenta.ru/news/2019/01/13/dtp/'\n",
      " 'https://m.lenta.ru/news/2019/01/09/nodelay/'\n",
      " 'https://m.lenta.ru/news/2019/01/11/strangeodor/'\n",
      " 'https://m.lenta.ru/news/2019/01/07/cities/'\n",
      " 'https://m.lenta.ru/themes/2018/10/19/rascelovatgorodsochi/'\n",
      " 'https://m.lenta.ru/photo/2019/01/04/asiafood/'\n",
      " 'https://m.lenta.ru/news/2019/01/10/planecabin/'\n",
      " 'https://m.lenta.ru/news/2019/01/05/sex/'\n",
      " 'https://m.lenta.ru/news/2019/01/09/ugh/'\n",
      " 'https://m.lenta.ru/news/2019/01/05/lavina/'\n",
      " 'https://m.lenta.ru/news/2019/01/08/travel/'\n",
      " 'https://m.lenta.ru/news/2018/12/28/dostoevsky/'\n",
      " 'https://m.lenta.ru/articles/2018/12/10/kforeuniversiada/'\n",
      " 'https://m.lenta.ru/articles/2018/12/31/guizhou/'\n",
      " 'https://m.lenta.ru/news/2019/01/04/storm/'\n",
      " 'https://m.lenta.ru/news/2018/12/29/received/'\n",
      " 'https://m.lenta.ru/news/2018/12/26/strany/'\n",
      " 'https://m.lenta.ru/news/2018/12/27/traverse/'\n",
      " 'https://m.lenta.ru/news/2018/12/26/21minutes/'\n",
      " 'https://m.lenta.ru/news/2018/12/28/scandal/'\n",
      " 'https://m.lenta.ru/news/2018/12/18/secondtry/'\n",
      " 'https://m.lenta.ru/articles/2018/12/15/driveengland/'\n",
      " 'https://m.lenta.ru/news/2018/12/20/salisbury/'\n",
      " 'https://m.lenta.ru/news/2018/12/27/iceland/'\n",
      " 'https://m.lenta.ru/articles/2018/11/23/traveltosakhalin/'\n",
      " 'https://m.lenta.ru/news/2018/12/23/lavatory/'\n",
      " 'https://m.lenta.ru/news/2018/12/21/visatousa/'\n",
      " 'https://m.lenta.ru/articles/2019/01/01/parisparis/'\n",
      " 'https://m.lenta.ru/news/2018/12/26/carcrash/'\n",
      " 'https://m.lenta.ru/news/2018/12/25/planefall/'\n",
      " 'https://m.lenta.ru/news/2018/12/25/diseases/'\n",
      " 'https://m.lenta.ru/news/2018/12/25/bestevent/'\n",
      " 'https://m.lenta.ru/articles/2018/12/04/lakebaikal/']\n"
     ]
    }
   ],
   "source": [
    "from selenium.common.exceptions import NoSuchElementException  \n",
    "\n",
    "driver = webdriver.Chrome('drivers\\chromedriver.exe')\n",
    "driver.get(\"https://m.lenta.ru/rubrics/travel/\")\n",
    "news = driver.find_elements_by_class_name('b-list-item__link')\n",
    "\n",
    "n=100;\n",
    "news_link_list=np.full(n, \"https://m.lenta.ru/news/2019/01/28/kadyr_telega/000000000000\");\n",
    "for i in range(n):\n",
    "    news_href=news[i].get_attribute(\"href\")\n",
    "    news_link_list[i]=news_href;\n",
    "print(news_link_list)\n",
    "\n"
   ]
  },
  {
   "cell_type": "code",
   "execution_count": 67,
   "metadata": {},
   "outputs": [
    {
     "data": {
      "text/plain": [
       "99"
      ]
     },
     "execution_count": 67,
     "metadata": {},
     "output_type": "execute_result"
    }
   ],
   "source": [
    "count=0\n",
    "my_list = list(news_link_list)\n",
    "for i in range(n):\n",
    "    if (my_list[i-count]=='https://m.lenta.ru/photo/2019/01/26/drones/'):\n",
    "        my_list.remove(my_list[i-count])\n",
    "        count += 1\n",
    "len(my_list)"
   ]
  },
  {
   "cell_type": "code",
   "execution_count": 69,
   "metadata": {},
   "outputs": [
    {
     "name": "stdout",
     "output_type": "stream",
     "text": [
      "https://m.lenta.ru/photo/2019/01/26/drones/\n",
      "https://m.lenta.ru/photo/2019/01/21/abudhabi/\n",
      "https://m.lenta.ru/photo/2018/12/19/ghana/\n",
      "https://m.lenta.ru/photo/2019/01/07/mar_saba/\n",
      "https://m.lenta.ru/themes/2018/12/29/bestravel/\n",
      "https://m.lenta.ru/themes/2018/08/01/bestofchina/\n",
      "https://m.lenta.ru/themes/2018/10/19/rascelovatgorodsochi/\n",
      "https://m.lenta.ru/photo/2019/01/04/asiafood/\n",
      "8\n",
      "92\n"
     ]
    }
   ],
   "source": [
    "def check_exists_by_class(name_class):\n",
    "    try:\n",
    "        driver.find_element_by_class_name(name_class)\n",
    "    except NoSuchElementException:\n",
    "        return False\n",
    "    return True\n",
    "\n",
    "count=0\n",
    "my_list = list(news_link_list)\n",
    "driver = webdriver.Chrome('drivers\\chromedriver.exe')\n",
    "for i in range(n):\n",
    "    driver.get(my_list[i-count])\n",
    "    if (check_exists_by_class('b-topic__body')==False ):\n",
    "        print(my_list[i-count])\n",
    "        my_list.remove(my_list[i-count])\n",
    "        count=count+1;\n",
    "print(count)\n",
    "print(len(my_list))"
   ]
  },
  {
   "cell_type": "code",
   "execution_count": 70,
   "metadata": {},
   "outputs": [
    {
     "name": "stdout",
     "output_type": "stream",
     "text": [
      "0\n",
      "1\n",
      "2\n",
      "3\n",
      "4\n",
      "5\n",
      "6\n",
      "7\n",
      "8\n",
      "9\n",
      "10\n",
      "11\n",
      "12\n",
      "13\n",
      "14\n",
      "15\n",
      "16\n",
      "17\n",
      "18\n",
      "19\n",
      "20\n",
      "21\n",
      "22\n",
      "23\n",
      "24\n",
      "25\n",
      "26\n",
      "27\n",
      "28\n",
      "29\n",
      "30\n",
      "31\n",
      "32\n",
      "33\n",
      "34\n",
      "35\n",
      "36\n",
      "37\n",
      "38\n",
      "39\n",
      "40\n",
      "41\n",
      "42\n",
      "43\n",
      "44\n",
      "45\n",
      "46\n",
      "47\n",
      "48\n",
      "49\n"
     ]
    }
   ],
   "source": [
    "driver = webdriver.Chrome('drivers\\chromedriver.exe')\n",
    "n_links=50\n",
    "for i in range(n_links):\n",
    "    driver.get(my_list[i])\n",
    "    news_article=driver.find_element_by_class_name('b-topic__body')\n",
    "    catalog=catalogs[3];\n",
    "    article=catalog[i];\n",
    "    if ( article.attrib['number'] == str(i) ):\n",
    "        article.text = news_article.text\n",
    "        print(i)"
   ]
  },
  {
   "cell_type": "code",
   "execution_count": 71,
   "metadata": {},
   "outputs": [],
   "source": [
    "tree.write(\"file1.xml\", encoding = \"UTF-8\", xml_declaration = True)"
   ]
  },
  {
   "cell_type": "code",
   "execution_count": 72,
   "metadata": {},
   "outputs": [
    {
     "data": {
      "text/plain": [
       "64"
      ]
     },
     "execution_count": 72,
     "metadata": {},
     "output_type": "execute_result"
    }
   ],
   "source": [
    "driver = webdriver.Chrome('drivers\\chromedriver.exe')\n",
    "driver.get(\"https://m.lenta.ru/rubrics/media/\")\n",
    "news = driver.find_elements_by_class_name('b-list-item__link')\n",
    "len(news)"
   ]
  },
  {
   "cell_type": "code",
   "execution_count": 73,
   "metadata": {},
   "outputs": [
    {
     "name": "stdout",
     "output_type": "stream",
     "text": [
      "['https://m.lenta.ru/photo/2019/01/28/benkhalifa/'\n",
      " 'https://m.lenta.ru/photo/2019/01/18/molodezh/'\n",
      " 'https://m.lenta.ru/articles/2018/11/22/internet_censorship/'\n",
      " 'https://m.lenta.ru/news/2019/01/28/koncertniy_isk/'\n",
      " 'https://m.lenta.ru/news/2019/01/28/flamethrower/'\n",
      " 'https://m.lenta.ru/news/2019/01/28/poznakomimsya/'\n",
      " 'https://m.lenta.ru/news/2019/01/28/tricks/'\n",
      " 'https://m.lenta.ru/news/2019/01/28/slepakov/'\n",
      " 'https://m.lenta.ru/news/2019/01/25/bezdelniki/'\n",
      " 'https://m.lenta.ru/news/2019/01/28/tinderdate_korea/'\n",
      " 'https://m.lenta.ru/news/2019/01/26/4ikatilo/'\n",
      " 'https://m.lenta.ru/news/2019/01/25/ugly/'\n",
      " 'https://m.lenta.ru/articles/2019/01/25/journalists/'\n",
      " 'https://m.lenta.ru/news/2019/01/26/leningrad/'\n",
      " 'https://m.lenta.ru/articles/2018/11/20/ne_ottepel/'\n",
      " 'https://m.lenta.ru/news/2019/01/28/english_problems/'\n",
      " 'https://m.lenta.ru/news/2019/01/25/skabeeva_bereza/'\n",
      " 'https://m.lenta.ru/news/2019/01/24/web_china/'\n",
      " 'https://m.lenta.ru/news/2019/01/27/btrtdnv/'\n",
      " 'https://m.lenta.ru/news/2019/01/25/black_penis/'\n",
      " 'https://m.lenta.ru/news/2019/01/24/in_fury/'\n",
      " 'https://m.lenta.ru/news/2019/01/26/sobchak/'\n",
      " 'https://m.lenta.ru/articles/2019/01/16/fakeinternet/'\n",
      " 'https://m.lenta.ru/news/2019/01/22/sorry/'\n",
      " 'https://m.lenta.ru/articles/2019/01/22/propaganda/'\n",
      " 'https://m.lenta.ru/news/2019/01/25/tapok_strong/'\n",
      " 'https://m.lenta.ru/news/2019/01/22/porn_tax/'\n",
      " 'https://m.lenta.ru/news/2019/01/25/skabeeva_tolchok/'\n",
      " 'https://m.lenta.ru/news/2019/01/25/vysotsky/'\n",
      " 'https://m.lenta.ru/articles/2019/01/22/kino/'\n",
      " 'https://m.lenta.ru/news/2019/01/25/goog_gandhi/'\n",
      " 'https://m.lenta.ru/news/2019/01/24/maps/'\n",
      " 'https://m.lenta.ru/news/2019/01/21/letters/'\n",
      " 'https://m.lenta.ru/news/2019/01/25/mega_facebook/'\n",
      " 'https://m.lenta.ru/news/2019/01/24/zakharova_dom2/'\n",
      " 'https://m.lenta.ru/news/2019/01/22/milosty_rkn/'\n",
      " 'https://m.lenta.ru/articles/2019/01/20/business_blogs/'\n",
      " 'https://m.lenta.ru/photo/2019/01/04/hacker/'\n",
      " 'https://m.lenta.ru/articles/2018/12/26/new_trends/'\n",
      " 'https://m.lenta.ru/news/2019/01/25/sports/'\n",
      " 'https://m.lenta.ru/news/2019/01/24/google_crimea/'\n",
      " 'https://m.lenta.ru/news/2019/01/21/vorishka/'\n",
      " 'https://m.lenta.ru/news/2019/01/25/egg_from_future/'\n",
      " 'https://m.lenta.ru/news/2019/01/24/referee/'\n",
      " 'https://m.lenta.ru/news/2019/01/20/deleted/'\n",
      " 'https://m.lenta.ru/news/2019/01/24/petroshtany/'\n",
      " 'https://m.lenta.ru/articles/2019/01/01/analog_poka/'\n",
      " 'https://m.lenta.ru/news/2019/01/24/kovtun/'\n",
      " 'https://m.lenta.ru/news/2019/01/24/oldy_zdes/'\n",
      " 'https://m.lenta.ru/news/2019/01/24/maduro/'\n",
      " 'https://m.lenta.ru/news/2019/01/23/stupid_journalist/'\n",
      " 'https://m.lenta.ru/articles/2019/01/12/bitva/'\n",
      " 'https://m.lenta.ru/news/2019/01/23/google_block/'\n",
      " 'https://m.lenta.ru/news/2019/01/24/pobelka/'\n",
      " 'https://m.lenta.ru/news/2019/01/23/crypto_virus/'\n",
      " 'https://m.lenta.ru/news/2019/01/24/epic_story/'\n",
      " 'https://m.lenta.ru/photo/2019/01/07/reuters/'\n",
      " 'https://m.lenta.ru/news/2019/01/24/trump_photoshop/'\n",
      " 'https://m.lenta.ru/news/2019/01/22/correspondence/'\n",
      " 'https://m.lenta.ru/news/2019/01/24/insta_maduro/'\n",
      " 'https://m.lenta.ru/news/2019/01/22/liu/'\n",
      " 'https://m.lenta.ru/brief/2019/01/14/fakenews/'\n",
      " 'https://m.lenta.ru/news/2019/01/22/youtube911/'\n",
      " 'https://m.lenta.ru/news/2019/01/23/ladle/']\n"
     ]
    }
   ],
   "source": [
    "n=64;\n",
    "news_link_list=np.full(n, \"https://m.lenta.ru/news/2019/01/28/kadyr_telega/00000000000\");\n",
    "for i in range(n):\n",
    "    news_href=news[i].get_attribute(\"href\")\n",
    "    news_link_list[i]=news_href;\n",
    "print(news_link_list)"
   ]
  },
  {
   "cell_type": "code",
   "execution_count": 74,
   "metadata": {},
   "outputs": [
    {
     "name": "stdout",
     "output_type": "stream",
     "text": [
      "https://m.lenta.ru/photo/2019/01/28/benkhalifa/\n",
      "https://m.lenta.ru/photo/2019/01/18/molodezh/\n",
      "https://m.lenta.ru/photo/2019/01/04/hacker/\n",
      "https://m.lenta.ru/photo/2019/01/07/reuters/\n",
      "4\n",
      "60\n"
     ]
    }
   ],
   "source": [
    "count=0\n",
    "my_list = list(news_link_list)\n",
    "driver = webdriver.Chrome('drivers\\chromedriver.exe')\n",
    "for i in range(n):\n",
    "    driver.get(my_list[i-count])\n",
    "    if (check_exists_by_class('b-topic__body')==False ):\n",
    "        print(my_list[i-count])\n",
    "        my_list.remove(my_list[i-count])\n",
    "        count=count+1;\n",
    "print(count)\n",
    "print(len(my_list))"
   ]
  },
  {
   "cell_type": "code",
   "execution_count": 75,
   "metadata": {},
   "outputs": [
    {
     "name": "stdout",
     "output_type": "stream",
     "text": [
      "0\n",
      "1\n",
      "2\n",
      "3\n",
      "4\n",
      "5\n",
      "6\n",
      "7\n",
      "8\n",
      "9\n",
      "10\n",
      "11\n",
      "12\n",
      "13\n",
      "14\n",
      "15\n",
      "16\n",
      "17\n",
      "18\n",
      "19\n",
      "20\n",
      "21\n",
      "22\n",
      "23\n",
      "24\n",
      "25\n",
      "26\n",
      "27\n",
      "28\n",
      "29\n",
      "30\n",
      "31\n",
      "32\n",
      "33\n",
      "34\n",
      "35\n",
      "36\n",
      "37\n",
      "38\n",
      "39\n",
      "40\n",
      "41\n",
      "42\n",
      "43\n",
      "44\n",
      "45\n",
      "46\n",
      "47\n",
      "48\n",
      "49\n"
     ]
    }
   ],
   "source": [
    "driver = webdriver.Chrome('drivers\\chromedriver.exe')\n",
    "n_links=50\n",
    "for i in range(n_links):\n",
    "    driver.get(my_list[i])\n",
    "    news_article=driver.find_element_by_class_name('b-topic__body')\n",
    "    catalog=catalogs[2];\n",
    "    article=catalog[i];\n",
    "    if ( article.attrib['number'] == str(i) ):\n",
    "        article.text = news_article.text\n",
    "        print(i)"
   ]
  },
  {
   "cell_type": "code",
   "execution_count": 76,
   "metadata": {},
   "outputs": [],
   "source": [
    "tree.write(\"file1.xml\", encoding = \"UTF-8\", xml_declaration = True)"
   ]
  },
  {
   "cell_type": "code",
   "execution_count": 77,
   "metadata": {},
   "outputs": [
    {
     "data": {
      "text/plain": [
       "84"
      ]
     },
     "execution_count": 77,
     "metadata": {},
     "output_type": "execute_result"
    }
   ],
   "source": [
    "driver = webdriver.Chrome('drivers\\chromedriver.exe') \n",
    "driver.get(\"https://m.lenta.ru/rubrics/culture/\")\n",
    "news = driver.find_elements_by_class_name('b-list-item__link')\n",
    "len(news)"
   ]
  },
  {
   "cell_type": "code",
   "execution_count": 78,
   "metadata": {},
   "outputs": [
    {
     "name": "stdout",
     "output_type": "stream",
     "text": [
      "['https://m.lenta.ru/articles/2019/01/27/book/'\n",
      " 'https://m.lenta.ru/articles/2019/01/24/books/'\n",
      " 'https://m.lenta.ru/articles/2019/01/21/ptaha/'\n",
      " 'https://m.lenta.ru/photo/2019/01/26/greggorman/'\n",
      " 'https://m.lenta.ru/news/2019/01/28/people_vs_bilal/'\n",
      " 'https://m.lenta.ru/news/2019/01/23/afpsnow/'\n",
      " 'https://m.lenta.ru/news/2019/01/28/bundy/'\n",
      " 'https://m.lenta.ru/news/2019/01/28/anotherworld/'\n",
      " 'https://m.lenta.ru/news/2019/01/23/ahmanov/'\n",
      " 'https://m.lenta.ru/news/2019/01/28/thisismadness/'\n",
      " 'https://m.lenta.ru/news/2019/01/28/plyusi/'\n",
      " 'https://m.lenta.ru/articles/2019/01/13/insectopia/'\n",
      " 'https://m.lenta.ru/news/2019/01/28/kartinakuindzhi/'\n",
      " 'https://m.lenta.ru/news/2019/01/28/babushki/'\n",
      " 'https://m.lenta.ru/news/2019/01/21/grande/'\n",
      " 'https://m.lenta.ru/news/2019/01/28/jacksondoc/'\n",
      " 'https://m.lenta.ru/news/2019/01/28/xxxtentacion/'\n",
      " 'https://m.lenta.ru/news/2019/01/20/gubin/'\n",
      " 'https://m.lenta.ru/news/2019/01/28/harassment/'\n",
      " 'https://m.lenta.ru/articles/2019/01/22/zavodfragment/'\n",
      " 'https://m.lenta.ru/themes/2018/12/29/prachechnaya/'\n",
      " 'https://m.lenta.ru/news/2019/01/28/bezboyu/'\n",
      " 'https://m.lenta.ru/news/2019/01/28/nejno/'\n",
      " 'https://m.lenta.ru/articles/2019/01/25/kino25012019/'\n",
      " 'https://m.lenta.ru/news/2019/01/26/helicopters/'\n",
      " 'https://m.lenta.ru/news/2019/01/28/foreverandever/'\n",
      " 'https://m.lenta.ru/news/2019/01/26/pugacheva/'\n",
      " 'https://m.lenta.ru/news/2019/01/27/kuiingi/'\n",
      " 'https://m.lenta.ru/articles/2019/01/21/truedetective/'\n",
      " 'https://m.lenta.ru/news/2019/01/27/ghostbusters/'\n",
      " 'https://m.lenta.ru/news/2019/01/26/jaksonproof/'\n",
      " 'https://m.lenta.ru/video/2019/01/25/fandm/'\n",
      " 'https://m.lenta.ru/news/2019/01/26/vagene/'\n",
      " 'https://m.lenta.ru/news/2019/01/26/ingloriousbasterds/'\n",
      " 'https://m.lenta.ru/news/2019/01/25/voina_anni/'\n",
      " 'https://m.lenta.ru/news/2019/01/26/legrand/'\n",
      " 'https://m.lenta.ru/news/2019/01/25/shnurvotvete/'\n",
      " 'https://m.lenta.ru/news/2019/01/25/breakingmovie/'\n",
      " 'https://m.lenta.ru/news/2019/01/25/rapenotrape/'\n",
      " 'https://m.lenta.ru/photo/2019/01/23/newlandscape/'\n",
      " 'https://m.lenta.ru/articles/2019/01/15/dorff/'\n",
      " 'https://m.lenta.ru/news/2019/01/25/pobezhali/'\n",
      " 'https://m.lenta.ru/news/2019/01/25/notapproved/'\n",
      " 'https://m.lenta.ru/news/2019/01/25/gameofthrones/'\n",
      " 'https://m.lenta.ru/news/2019/01/25/oscar/'\n",
      " 'https://m.lenta.ru/news/2019/01/25/sobchak/'\n",
      " 'https://m.lenta.ru/news/2019/01/24/interesnoekino/'\n",
      " 'https://m.lenta.ru/news/2019/01/25/50centofgray/'\n",
      " 'https://m.lenta.ru/articles/2019/01/14/restorator/'\n",
      " 'https://m.lenta.ru/articles/2019/01/22/siren/'\n",
      " 'https://m.lenta.ru/news/2019/01/24/bsinger/'\n",
      " 'https://m.lenta.ru/news/2019/01/24/got/'\n",
      " 'https://m.lenta.ru/news/2019/01/24/jonasmekas/'\n",
      " 'https://m.lenta.ru/news/2019/01/24/clowntrump/'\n",
      " 'https://m.lenta.ru/news/2019/01/23/accusesinger/'\n",
      " 'https://m.lenta.ru/news/2019/01/24/nakedtheatre/'\n",
      " 'https://m.lenta.ru/news/2019/01/23/cesaraward/'\n",
      " 'https://m.lenta.ru/articles/2019/01/20/irratio/'\n",
      " 'https://m.lenta.ru/articles/2019/01/17/bykov/'\n",
      " 'https://m.lenta.ru/news/2019/01/24/nichego_svyatogo/'\n",
      " 'https://m.lenta.ru/news/2019/01/21/prsly/'\n",
      " 'https://m.lenta.ru/news/2019/01/23/whatsgoingon/'\n",
      " 'https://m.lenta.ru/news/2019/01/23/nikonov/'\n",
      " 'https://m.lenta.ru/news/2019/01/23/adolfrisuet/'\n",
      " 'https://m.lenta.ru/news/2019/01/23/netflix/'\n",
      " 'https://m.lenta.ru/articles/2019/01/20/rickeyf/'\n",
      " 'https://m.lenta.ru/photo/2019/01/16/japhoto/'\n",
      " 'https://m.lenta.ru/news/2019/01/23/domesticviolence/'\n",
      " 'https://m.lenta.ru/news/2019/01/23/volochkova/'\n",
      " 'https://m.lenta.ru/news/2019/01/23/barnett/'\n",
      " 'https://m.lenta.ru/news/2019/01/23/prazdnik/'\n",
      " 'https://m.lenta.ru/news/2019/01/23/downtownbrown/'\n",
      " 'https://m.lenta.ru/news/2019/01/23/abba/'\n",
      " 'https://m.lenta.ru/articles/2019/01/19/kino19012019/'\n",
      " 'https://m.lenta.ru/photo/2019/01/11/films2019/'\n",
      " 'https://m.lenta.ru/news/2019/01/23/latreasure/'\n",
      " 'https://m.lenta.ru/news/2019/01/22/fight/'\n",
      " 'https://m.lenta.ru/news/2019/01/23/fight2/'\n",
      " 'https://m.lenta.ru/news/2019/01/22/oscar18/'\n",
      " 'https://m.lenta.ru/news/2019/01/22/noromance/'\n",
      " 'https://m.lenta.ru/news/2019/01/22/chrisagain/'\n",
      " 'https://m.lenta.ru/news/2019/01/22/tupacsexart/'\n",
      " 'https://m.lenta.ru/articles/2019/01/10/michaelbjordan/'\n",
      " 'https://m.lenta.ru/articles/2019/01/18/beauvais/']\n"
     ]
    }
   ],
   "source": [
    "n=84;\n",
    "news_link_list=np.full(n, \"https://m.lenta.ru/news/2019/01/28/kadyr_telega/00000000000000\");\n",
    "for i in range(n):\n",
    "    news_href=news[i].get_attribute(\"href\")\n",
    "    news_link_list[i]=news_href;\n",
    "print(news_link_list)"
   ]
  },
  {
   "cell_type": "code",
   "execution_count": 79,
   "metadata": {},
   "outputs": [
    {
     "name": "stdout",
     "output_type": "stream",
     "text": [
      "https://m.lenta.ru/photo/2019/01/26/greggorman/\n",
      "https://m.lenta.ru/themes/2018/12/29/prachechnaya/\n",
      "https://m.lenta.ru/video/2019/01/25/fandm/\n",
      "https://m.lenta.ru/photo/2019/01/23/newlandscape/\n",
      "https://m.lenta.ru/photo/2019/01/16/japhoto/\n",
      "https://m.lenta.ru/photo/2019/01/11/films2019/\n",
      "6\n",
      "78\n"
     ]
    }
   ],
   "source": [
    "count=0\n",
    "my_list = list(news_link_list)\n",
    "driver = webdriver.Chrome('drivers\\chromedriver.exe')\n",
    "for i in range(n):\n",
    "    driver.get(my_list[i-count])\n",
    "    if (check_exists_by_class('b-topic__body')==False ):\n",
    "        print(my_list[i-count])\n",
    "        my_list.remove(my_list[i-count])\n",
    "        count=count+1;\n",
    "print(count)\n",
    "print(len(my_list))"
   ]
  },
  {
   "cell_type": "code",
   "execution_count": 80,
   "metadata": {},
   "outputs": [
    {
     "name": "stdout",
     "output_type": "stream",
     "text": [
      "0\n",
      "1\n",
      "2\n",
      "3\n",
      "4\n",
      "5\n",
      "6\n",
      "7\n",
      "8\n",
      "9\n",
      "10\n",
      "11\n",
      "12\n",
      "13\n",
      "14\n",
      "15\n",
      "16\n",
      "17\n",
      "18\n",
      "19\n",
      "20\n",
      "21\n",
      "22\n",
      "23\n",
      "24\n",
      "25\n",
      "26\n",
      "27\n",
      "28\n",
      "29\n",
      "30\n",
      "31\n",
      "32\n",
      "33\n",
      "34\n",
      "35\n",
      "36\n",
      "37\n",
      "38\n",
      "39\n",
      "40\n",
      "41\n",
      "42\n",
      "43\n",
      "44\n",
      "45\n",
      "46\n",
      "47\n",
      "48\n",
      "49\n"
     ]
    }
   ],
   "source": [
    "driver = webdriver.Chrome('drivers\\chromedriver.exe')\n",
    "n_links=50\n",
    "for i in range(n_links):\n",
    "    driver.get(my_list[i])\n",
    "    news_article=driver.find_element_by_class_name('b-topic__body')\n",
    "    catalog=catalogs[1];\n",
    "    article=catalog[i];\n",
    "    if ( article.attrib['number'] == str(i) ):\n",
    "        article.text = news_article.text\n",
    "        print(i)"
   ]
  },
  {
   "cell_type": "code",
   "execution_count": 81,
   "metadata": {},
   "outputs": [],
   "source": []
  },
  {
   "cell_type": "code",
   "execution_count": null,
   "metadata": {},
   "outputs": [],
   "source": []
  }
 ],
 "metadata": {
  "kernelspec": {
   "display_name": "Python 3",
   "language": "python",
   "name": "python3"
  },
  "language_info": {
   "codemirror_mode": {
    "name": "ipython",
    "version": 3
   },
   "file_extension": ".py",
   "mimetype": "text/x-python",
   "name": "python",
   "nbconvert_exporter": "python",
   "pygments_lexer": "ipython3",
   "version": "3.6.5"
  }
 },
 "nbformat": 4,
 "nbformat_minor": 2
}
