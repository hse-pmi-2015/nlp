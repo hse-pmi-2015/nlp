{
 "cells": [
  {
   "cell_type": "code",
   "execution_count": null,
   "metadata": {},
   "outputs": [],
   "source": [
    "from newspaper import Article\n",
    "import pandas as pd\n",
    "import bs4\n",
    "from ipywidgets import IntProgress\n",
    "from IPython.display import display"
   ]
  },
  {
   "cell_type": "code",
   "execution_count": null,
   "metadata": {},
   "outputs": [],
   "source": [
    "n = 50\n",
    "\n",
    "def get_topic(url, categories):\n",
    "    number = 0\n",
    "    articles = {categoty: [pd.DataFrame(columns=[\"Title\", \"Text\"]), IntProgress(min=0, max=n)]\n",
    "                for categoty in categories}\n",
    "    for categoty in categories:\n",
    "        print(categoty + \":\")\n",
    "        display(articles[categoty][1])\n",
    "    for i in range(1180000, 9999999):\n",
    "        if number < (n * len(categories)):\n",
    "            article = Article(url + str(i))\n",
    "            try:\n",
    "                article.download()\n",
    "                article.parse()\n",
    "                if article.text != '':\n",
    "                    b=bs4.BeautifulSoup(article.html, \"html.parser\")\n",
    "                    tags = [tag_item.getText()[1:] for tag_item in b.select('.post-page-header .tags .tags-item')]\n",
    "                    for categoty in categories:\n",
    "                        if tags.count(categoty) > 0 and articles[categoty][1].value < n:\n",
    "                            articles[categoty][0] = articles[categoty][0].append({\"Title\": article.title, \"Text\": article.text}, ignore_index=True)\n",
    "                            articles[categoty][1].value += 1\n",
    "                            number +=1\n",
    "                            break\n",
    "            except:\n",
    "                pass\n",
    "    return articles"
   ]
  },
  {
   "cell_type": "code",
   "execution_count": null,
   "metadata": {},
   "outputs": [],
   "source": [
    "baseurls = ['https://life.ru/']\n",
    "categories = ['вмире', 'спорт', 'сша', 'россия']"
   ]
  },
  {
   "cell_type": "code",
   "execution_count": null,
   "metadata": {},
   "outputs": [],
   "source": [
    "data = {}\n",
    "\n",
    "for url in baseurls:\n",
    "    texts = get_topic(url, categories)\n",
    "    data[url] = texts"
   ]
  },
  {
   "cell_type": "code",
   "execution_count": 6,
   "metadata": {},
   "outputs": [],
   "source": [
    "texts = data['https://life.ru/']"
   ]
  },
  {
   "cell_type": "code",
   "execution_count": 38,
   "metadata": {},
   "outputs": [],
   "source": [
    "result = {}\n",
    "\n",
    "for name, item in texts.items():\n",
    "    data = item[0].to_dict()\n",
    "    for key, value in data.items():\n",
    "        result[(name, key)] = value\n",
    "\n",
    "test = pd.DataFrame(result)"
   ]
  },
  {
   "cell_type": "code",
   "execution_count": 42,
   "metadata": {},
   "outputs": [],
   "source": [
    "test.to_csv(\"laba1_1.csv\")"
   ]
  }
 ],
 "metadata": {
  "kernelspec": {
   "display_name": "Python 2",
   "language": "python",
   "name": "python2"
  },
  "language_info": {
   "codemirror_mode": {
    "name": "ipython",
    "version": 3
   },
   "file_extension": ".py",
   "mimetype": "text/x-python",
   "name": "python",
   "nbconvert_exporter": "python",
   "pygments_lexer": "ipython3",
   "version": "3.6.5"
  }
 },
 "nbformat": 4,
 "nbformat_minor": 2
}
