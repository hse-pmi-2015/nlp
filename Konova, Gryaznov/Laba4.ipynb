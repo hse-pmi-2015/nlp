{
 "cells": [
  {
   "cell_type": "code",
   "execution_count": 46,
   "metadata": {},
   "outputs": [],
   "source": [
    "# -*- coding: utf-8 -*-\n",
    "from __future__ import unicode_literals"
   ]
  },
  {
   "cell_type": "code",
   "execution_count": 47,
   "metadata": {},
   "outputs": [],
   "source": [
    "import collections\n",
    "import codecs\n",
    "import re\n",
    "import string\n",
    "import stop_words\n",
    "from nltk.stem.snowball import RussianStemmer\n",
    "import pandas as pd"
   ]
  },
  {
   "cell_type": "markdown",
   "metadata": {},
   "source": [
    "# Препроцессинг"
   ]
  },
  {
   "cell_type": "code",
   "execution_count": 48,
   "metadata": {},
   "outputs": [],
   "source": [
    "data = pd.read_csv(\"laba1_1.csv\", header=[0, 1], index_col=0, encoding='utf-8')\n",
    "\n",
    "def str_to_set(st):\n",
    "    st = st.split(u', ')\n",
    "    return (st[0][1:-1], int(st[1]))\n",
    "\n",
    "inver_index = collections.defaultdict(list)\n",
    "\n",
    "with codecs.open(\"invert.index\", \"r\", \"utf-8\") as f:\n",
    "    for line in f:\n",
    "        token = line.split(u' -> ')[0]\n",
    "        keys = line.split(u' -> ')[1][2:-3].split(u'), (')\n",
    "        for key in keys:\n",
    "            inver_index[token].append(str_to_set(key))\n",
    "            \n",
    "EXCLUDE_SYMBOLS_STR = u''.join(['№', '«', 'ђ', '°', '±', '‚', 'ћ', '‰', '…', '»', 'ѓ', 'µ', '·', 'ґ', 'њ', 'ї', 'џ', 'є', '‹',\n",
    "                                '‡', '†', '¶', 'ќ', '€', '“', 'ў', '§', '„', '”', '\\ufeff', '’', 'љ', '›', '•', '—', '‘', \n",
    "                                '\\x7f', '\\xad', '¤', '\\xa0'])\n",
    "            \n",
    "regex_punct = re.compile('[%s]' % re.escape(string.punctuation))\n",
    "regex_dig = re.compile('[%s]' % re.escape(string.digits))\n",
    "regex_symb = re.compile('[%s]' % re.escape(EXCLUDE_SYMBOLS_STR))\n",
    "regex_struct = re.compile('[%s]' % string.printable + string.whitespace)\n",
    "\n",
    "stemmer = RussianStemmer()\n",
    "\n",
    "def unique_list(l):\n",
    "    x = []\n",
    "    for a in l:\n",
    "        if a not in x:\n",
    "            x.append(a)\n",
    "    return x\n",
    "\n",
    "def preprocessor(string):\n",
    "    string = re.sub(r'\\w+:\\/{2}[\\d\\w-]+(\\.[\\d\\w-]+)*(?:(?:\\/[^\\s/]*))*', u'', string)\n",
    "    string = re.sub(' +' , ' ', string)\n",
    "    string = string.strip().strip('\\t').replace('\\n', u'')\n",
    "    string = regex_punct.sub('', string)\n",
    "    string = regex_dig.sub('', string)\n",
    "    string = regex_symb.sub(' ', string)\n",
    "    string = regex_struct.sub('', string)\n",
    "    string = re.sub(' +' , ' ', string.strip())\n",
    "    string = string.lower().split()\n",
    "    tokens = []\n",
    "    for word in string:\n",
    "        if word not in stop_words.get_stop_words('ru'):\n",
    "            tokens.append(word)\n",
    "    return [stemmer.stem(word) for word in tokens]"
   ]
  },
  {
   "cell_type": "markdown",
   "metadata": {},
   "source": [
    "# Поисковик "
   ]
  },
  {
   "cell_type": "code",
   "execution_count": 92,
   "metadata": {},
   "outputs": [],
   "source": [
    "def search(text, val):\n",
    "    prep_text = preprocessor(text)\n",
    "    indexes = set(inver_index[prep_text[0]])\n",
    "    for token in prep_text[1:]:\n",
    "        indexes.intersection_update(set(inver_index[token]))\n",
    "    indexes = list(indexes)\n",
    "    ind_per_text={}\n",
    "    ind_per_text[\" \".join(prep_text)]=indexes\n",
    "    if len(indexes) < val:\n",
    "        combinations = [prep_text]\n",
    "        flag = False\n",
    "        for item in combinations:\n",
    "            if flag or len(item) <= 1:\n",
    "                break\n",
    "            for i, elem in enumerate(item):\n",
    "                tmp = item[:]\n",
    "                tmp.pop(i)\n",
    "                combinations.append(tmp)\n",
    "                tmp_indexes = set(inver_index[tmp[0]])\n",
    "                for token in tmp[1:]:\n",
    "                    tmp_indexes.intersection_update(set(inver_index[token]))\n",
    "                ind_per_text[\" \".join(tmp)]=tmp_indexes   \n",
    "                indexes.extend(list(tmp_indexes))\n",
    "                if len(indexes) >= val:\n",
    "                    f = True\n",
    "                    break\n",
    "                    \n",
    "        indexes = unique_list(indexes)[:val]\n",
    "    else:\n",
    "        indexes = indexes[:val]\n",
    "    texts = []\n",
    "    for index in indexes:\n",
    "        texts.append({'Title': data[index[0]]['Title'][index[1]], 'Text': data[index[0]]['Text'][index[1]]})\n",
    "    return texts"
   ]
  },
  {
   "cell_type": "code",
   "execution_count": 95,
   "metadata": {},
   "outputs": [
    {
     "ename": "ValueError",
     "evalue": "too many values to unpack",
     "output_type": "error",
     "traceback": [
      "\u001b[1;31m\u001b[0m",
      "\u001b[1;31mValueError\u001b[0mTraceback (most recent call last)",
      "\u001b[1;32m<ipython-input-95-95d8dbf37a0b>\u001b[0m in \u001b[0;36m<module>\u001b[1;34m()\u001b[0m\n\u001b[1;32m----> 1\u001b[1;33m \u001b[1;33m(\u001b[0m\u001b[1;33m(\u001b[0m\u001b[0mtexts\u001b[0m\u001b[1;33m,\u001b[0m \u001b[0mindexes\u001b[0m\u001b[1;33m)\u001b[0m\u001b[1;33m,\u001b[0m \u001b[0mind_per_text\u001b[0m\u001b[1;33m)\u001b[0m\u001b[1;33m=\u001b[0m \u001b[0msearch\u001b[0m\u001b[1;33m(\u001b[0m\u001b[1;34m\"финал чм в россии\"\u001b[0m\u001b[1;33m,\u001b[0m \u001b[1;36m15\u001b[0m\u001b[1;33m)\u001b[0m\u001b[1;33m\u001b[0m\u001b[0m\n\u001b[0m",
      "\u001b[1;31mValueError\u001b[0m: too many values to unpack"
     ]
    }
   ],
   "source": [
    "((texts, indexes), ind_per_text)= search(\"финал чм в россии\", 15)"
   ]
  },
  {
   "cell_type": "code",
   "execution_count": 96,
   "metadata": {},
   "outputs": [
    {
     "ename": "NameError",
     "evalue": "name 'indexes' is not defined",
     "output_type": "error",
     "traceback": [
      "\u001b[1;31m\u001b[0m",
      "\u001b[1;31mNameError\u001b[0mTraceback (most recent call last)",
      "\u001b[1;32m<ipython-input-96-367a93387dcb>\u001b[0m in \u001b[0;36m<module>\u001b[1;34m()\u001b[0m\n\u001b[1;32m----> 1\u001b[1;33m \u001b[1;32mfor\u001b[0m \u001b[0mtext\u001b[0m\u001b[1;33m,\u001b[0m \u001b[0mindex\u001b[0m \u001b[1;32min\u001b[0m \u001b[0mzip\u001b[0m\u001b[1;33m(\u001b[0m\u001b[0mtexts\u001b[0m\u001b[1;33m,\u001b[0m \u001b[0mindexes\u001b[0m\u001b[1;33m)\u001b[0m\u001b[1;33m:\u001b[0m\u001b[1;33m\u001b[0m\u001b[0m\n\u001b[0m\u001b[0;32m      2\u001b[0m     \u001b[1;32mfor\u001b[0m \u001b[0mkey\u001b[0m\u001b[1;33m,\u001b[0m \u001b[0mitem\u001b[0m \u001b[1;32min\u001b[0m \u001b[0mind_per_text\u001b[0m\u001b[1;33m.\u001b[0m\u001b[0mitems\u001b[0m\u001b[1;33m(\u001b[0m\u001b[1;33m)\u001b[0m\u001b[1;33m:\u001b[0m\u001b[1;33m\u001b[0m\u001b[0m\n\u001b[0;32m      3\u001b[0m         \u001b[1;32mif\u001b[0m \u001b[0mindex\u001b[0m \u001b[1;32min\u001b[0m \u001b[0mitem\u001b[0m\u001b[1;33m:\u001b[0m\u001b[1;33m\u001b[0m\u001b[0m\n\u001b[0;32m      4\u001b[0m             \u001b[0mtext\u001b[0m\u001b[1;33m=\u001b[0m\u001b[0mkey\u001b[0m\u001b[1;33m\u001b[0m\u001b[0m\n\u001b[0;32m      5\u001b[0m             \u001b[1;32mbreak\u001b[0m\u001b[1;33m\u001b[0m\u001b[0m\n",
      "\u001b[1;31mNameError\u001b[0m: name 'indexes' is not defined"
     ]
    }
   ],
   "source": [
    "for text, index in zip(texts, indexes):\n",
    "    for key, item in ind_per_text.items():\n",
    "        if index in item:\n",
    "            text=key\n",
    "            break\n",
    "    print \"Title:\", item['Title']\n",
    "    print text\n",
    "    print \"Text:\", item['Text']\n",
    "    print \"****************************************************************************************************************************\""
   ]
  },
  {
   "cell_type": "code",
   "execution_count": null,
   "metadata": {},
   "outputs": [],
   "source": []
  }
 ],
 "metadata": {
  "kernelspec": {
   "display_name": "Python 2",
   "language": "python",
   "name": "python2"
  },
  "language_info": {
   "codemirror_mode": {
    "name": "ipython",
    "version": 3
   },
   "file_extension": ".py",
   "mimetype": "text/x-python",
   "name": "python",
   "nbconvert_exporter": "python",
   "pygments_lexer": "ipython3",
   "version": "3.6.5"
  }
 },
 "nbformat": 4,
 "nbformat_minor": 2
}
