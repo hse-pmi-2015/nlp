{
 "cells": [
  {
   "cell_type": "code",
   "execution_count": 13,
   "metadata": {
    "collapsed": true
   },
   "outputs": [],
   "source": [
    "import os\n",
    "import numpy as np\n",
    "import lxml\n",
    "from lxml import objectify, etree, html\n",
    "import json\n",
    "import urllib3\n",
    "from io import StringIO, BytesIO\n",
    "import newspaper\n",
    "from newspaper import Article\n",
    "import pandas as pd\n",
    "import progressbar\n",
    "from selenium import webdriver\n",
    "from time import sleep\n",
    "from selenium.webdriver.common.action_chains import ActionChains"
   ]
  },
  {
   "cell_type": "code",
   "execution_count": 2,
   "metadata": {
    "collapsed": true
   },
   "outputs": [],
   "source": [
    "links = {\"AUTO\" : \"https://www.nn.ru/news/archive/auto/articles/\",\n",
    "         \"WINTER\" : \"https://www.nn.ru/news/archive/winter/articles/\",\n",
    "         \"WORLD\" : \"https://www.nn.ru/news/archive/world/articles/\",\n",
    "         \"TOWN\" : \"https://www.nn.ru/news/archive/gorod/articles/\",\n",
    "         \"ACCIDENTS\" : \"https://www.nn.ru/news/archive/incidents/articles/\",\n",
    "         \"PRESSRELEASE\" : \"https://www.nn.ru/news/archive/pressrelease/articles/\"}"
   ]
  },
  {
   "cell_type": "code",
   "execution_count": 5,
   "metadata": {
    "collapsed": true
   },
   "outputs": [],
   "source": [
    "doc_links = {}\n",
    "doc_http = \"\"\n",
    "for key in links.keys():\n",
    "    driver = webdriver.Chrome(executable_path='C:/simple/chromedriver.exe')\n",
    "    driver.get(links[key])\n",
    "    elem = driver.find_element_by_xpath(\"//*[@class='rn-arhive__more-content-link js-rn-arhive__more-content']\")\n",
    "    driver.execute_script(\"window.scrollTo(0, 480)\") \n",
    "    try:\n",
    "        elem_block = driver.find_element_by_xpath(\"//*[@class='top-fixed-banner__close js-top-fixed-banner-close']\")\n",
    "        sleep(1)\n",
    "        elem_block.click()\n",
    "        sleep(1)\n",
    "    except:\n",
    "        pass\n",
    "    for i in range(20):\n",
    "        try:\n",
    "            sleep(1)\n",
    "            elem.click()\n",
    "            ActionChains(driver).move_to_element(elem).perform()\n",
    "            sleep(2)\n",
    "        except:\n",
    "            break\n",
    "    doc_http = lxml.html.document_fromstring(driver.page_source)\n",
    "    doc_links[key] = doc_http.xpath(\"//ul[@class='rn-arhive__list _rn-info__list__arhive']/li[@class='rn-arhive__item']/div[@class='rn-arhive__item-content']/*[1]/@href\")"
   ]
  },
  {
   "cell_type": "code",
   "execution_count": 6,
   "metadata": {},
   "outputs": [
    {
     "name": "stdout",
     "output_type": "stream",
     "text": [
      "AUTO - 83\n",
      "WINTER - 73\n",
      "WORLD - 151\n",
      "TOWN - 420\n",
      "ACCIDENTS - 105\n",
      "PRESSRELEASE - 40\n"
     ]
    }
   ],
   "source": [
    "for key in doc_links.keys():\n",
    "    print(key + \" - \" + str(len(doc_links[key])))"
   ]
  },
  {
   "cell_type": "code",
   "execution_count": 7,
   "metadata": {
    "collapsed": true
   },
   "outputs": [],
   "source": [
    "import xml.etree.ElementTree as xml\n",
    " \n",
    "def createXML(filename):\n",
    "    \n",
    "    root = xml.Element(\"Catalog\")\n",
    "    theme = xml.Element(\"Article\")\n",
    "    root.append(theme)\n",
    "     \n",
    "    name_of_article = xml.SubElement(theme, \"name_of_article\")\n",
    "    name_of_article.text = \"test\"\n",
    "    \n",
    "    author = xml.SubElement(theme, \"author\")\n",
    "    author.text = \"test\"\n",
    "    \n",
    "    publish_date = xml.SubElement(theme, \"publish_date\")\n",
    "    publish_date.text = \"test\"\n",
    "    \n",
    "    genre = xml.SubElement(theme, \"genre\")\n",
    "    \n",
    "    text = xml.SubElement(theme, \"text\")\n",
    "    \n",
    "    tree = xml.ElementTree(root)\n",
    "    \n",
    "    with open(filename, \"wb\") as fh:\n",
    "        tree.write(fh)"
   ]
  },
  {
   "cell_type": "code",
   "execution_count": 8,
   "metadata": {
    "collapsed": true
   },
   "outputs": [],
   "source": [
    "#Выполнять только 1 раз!\n",
    "createXML(\"article.xml\")"
   ]
  },
  {
   "cell_type": "code",
   "execution_count": 9,
   "metadata": {
    "collapsed": true
   },
   "outputs": [],
   "source": [
    "import time\n",
    "import xml.etree.cElementTree as ET\n",
    " \n",
    "def editXML(filename, link, ge):\n",
    "    \n",
    "    tree = ET.ElementTree(file=filename)\n",
    "    root = tree.getroot()\n",
    "    ar = xml.Element(\"Article\")\n",
    "    root.append(ar)\n",
    "    \n",
    "    try:\n",
    "        \n",
    "        article = Article(link)\n",
    "        article.download()\n",
    "        article.parse()\n",
    "        \n",
    "        name_of_article = xml.SubElement(ar, \"name_of_article\")\n",
    "        name_of_article.text = article.title\n",
    "\n",
    "        author = xml.SubElement(ar, \"author\")\n",
    "        author.text = article.authors[0]\n",
    "\n",
    "        publish_date = xml.SubElement(ar, \"publish_date\")\n",
    "        publish_date.text = str(article.publish_date)\n",
    "\n",
    "        genre = xml.SubElement(ar, \"genre\")\n",
    "        genre.text = ge\n",
    "\n",
    "        #Очистка данных(simply)\n",
    "        txt = xml.SubElement(ar, \"text\")\n",
    "        clear_text = article.text\n",
    "\n",
    "        err = '\\n'\n",
    "        for i in err:\n",
    "            clear_text = clear_text.replace(i, \" \")\n",
    "\n",
    "        txt.text = ' '.join(clear_text.split())\n",
    "        \n",
    "    except:\n",
    "        pass\n",
    "    \n",
    "    tree = ET.ElementTree(root)\n",
    "    \n",
    "    with open(\"updated.xml\", \"wb\") as f:\n",
    "        tree.write(f)"
   ]
  },
  {
   "cell_type": "code",
   "execution_count": 12,
   "metadata": {},
   "outputs": [
    {
     "name": "stderr",
     "output_type": "stream",
     "text": [
      "100% (83 of 83) |########################| Elapsed Time: 0:02:08 Time:  0:02:08\n",
      "100% (73 of 73) |########################| Elapsed Time: 0:02:07 Time:  0:02:07\n",
      "100% (151 of 151) |######################| Elapsed Time: 0:04:33 Time:  0:04:33\n",
      "100% (420 of 420) |######################| Elapsed Time: 0:18:10 Time:  0:18:10\n",
      "100% (105 of 105) |######################| Elapsed Time: 0:05:24 Time:  0:05:24\n",
      "100% (40 of 40) |########################| Elapsed Time: 0:02:07 Time:  0:02:07\n"
     ]
    }
   ],
   "source": [
    "editXML(\"article.xml\", doc_links[\"AUTO\"][0], \"AUTO\")\n",
    "for key in doc_links.keys():\n",
    "    for item in progressbar.progressbar(doc_links[key]):\n",
    "        editXML(\"updated.xml\", item, key)"
   ]
  },
  {
   "cell_type": "code",
   "execution_count": 10,
   "metadata": {
    "collapsed": true
   },
   "outputs": [],
   "source": [
    "editXML(\"article.xml\", doc_links[\"AUTO\"][0], \"AUTO\")"
   ]
  },
  {
   "cell_type": "code",
   "execution_count": 11,
   "metadata": {},
   "outputs": [
    {
     "ename": "NameError",
     "evalue": "name 'link' is not defined",
     "output_type": "error",
     "traceback": [
      "\u001b[1;31m---------------------------------------------------------------------------\u001b[0m",
      "\u001b[1;31mNameError\u001b[0m                                 Traceback (most recent call last)",
      "\u001b[1;32m<ipython-input-11-d35ed06070f6>\u001b[0m in \u001b[0;36m<module>\u001b[1;34m()\u001b[0m\n\u001b[1;32m----> 1\u001b[1;33m \u001b[0marticle\u001b[0m \u001b[1;33m=\u001b[0m \u001b[0mArticle\u001b[0m\u001b[1;33m(\u001b[0m\u001b[0mlink\u001b[0m\u001b[1;33m)\u001b[0m\u001b[1;33m\u001b[0m\u001b[0m\n\u001b[0m\u001b[0;32m      2\u001b[0m \u001b[0marticle\u001b[0m\u001b[1;33m.\u001b[0m\u001b[0mdownload\u001b[0m\u001b[1;33m(\u001b[0m\u001b[1;33m)\u001b[0m\u001b[1;33m\u001b[0m\u001b[0m\n\u001b[0;32m      3\u001b[0m \u001b[0marticle\u001b[0m\u001b[1;33m.\u001b[0m\u001b[0mparse\u001b[0m\u001b[1;33m(\u001b[0m\u001b[1;33m)\u001b[0m\u001b[1;33m\u001b[0m\u001b[0m\n\u001b[0;32m      4\u001b[0m \u001b[0mclear_text\u001b[0m \u001b[1;33m=\u001b[0m \u001b[0marticle\u001b[0m\u001b[1;33m.\u001b[0m\u001b[0mtext\u001b[0m\u001b[1;33m\u001b[0m\u001b[0m\n\u001b[0;32m      5\u001b[0m \u001b[1;33m\u001b[0m\u001b[0m\n",
      "\u001b[1;31mNameError\u001b[0m: name 'link' is not defined"
     ]
    }
   ],
   "source": [
    "article = Article(link)\n",
    "article.download()\n",
    "article.parse()\n",
    "clear_text = article.text\n",
    "\n",
    "err = '\\n'\n",
    "for i in err:\n",
    "    clear_text = test.replace(i, \" \")\n",
    "\n",
    "' '.join(clear_text.split())"
   ]
  },
  {
   "cell_type": "code",
   "execution_count": null,
   "metadata": {
    "collapsed": true
   },
   "outputs": [],
   "source": []
  }
 ],
 "metadata": {
  "kernelspec": {
   "display_name": "Python 3",
   "language": "python",
   "name": "python3"
  },
  "language_info": {
   "codemirror_mode": {
    "name": "ipython",
    "version": 3
   },
   "file_extension": ".py",
   "mimetype": "text/x-python",
   "name": "python",
   "nbconvert_exporter": "python",
   "pygments_lexer": "ipython3",
   "version": "3.6.2"
  }
 },
 "nbformat": 4,
 "nbformat_minor": 2
}
