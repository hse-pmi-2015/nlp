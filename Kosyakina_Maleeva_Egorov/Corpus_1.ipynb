{
 "cells": [
  {
   "cell_type": "code",
   "execution_count": 1,
   "metadata": {
    "collapsed": true
   },
   "outputs": [],
   "source": [
    "import matplotlib.pyplot as plt\n",
    "import pandas as pd\n",
    "import numpy as np\n",
    "import re\n",
    "import string\n",
    "import pymorphy2\n",
    "from scipy.sparse import *\n",
    "import stop_words\n",
    "from nltk.stem.snowball import RussianStemmer\n",
    "from nltk.tokenize import sent_tokenize, word_tokenize \n",
    "from nltk.stem import PorterStemmer, WordNetLemmatizer\n",
    "\n",
    "%matplotlib inline"
   ]
  },
  {
   "cell_type": "code",
   "execution_count": 2,
   "metadata": {
    "collapsed": true
   },
   "outputs": [],
   "source": [
    "def log_progress(sequence, every=None, size=None, name='Items'):\n",
    "    from ipywidgets import IntProgress, HTML, VBox\n",
    "    from IPython.display import display\n",
    "\n",
    "    is_iterator = False\n",
    "    if size is None:\n",
    "        try:\n",
    "            size = len(sequence)\n",
    "        except TypeError:\n",
    "            is_iterator = True\n",
    "    if size is not None:\n",
    "        if every is None:\n",
    "            if size <= 200:\n",
    "                every = 1\n",
    "            else:\n",
    "                every = int(size / 200)     # every 0.5%\n",
    "    else:\n",
    "        assert every is not None, 'sequence is iterator, set every'\n",
    "\n",
    "    if is_iterator:\n",
    "        progress = IntProgress(min=0, max=1, value=1)\n",
    "        progress.bar_style = 'info'\n",
    "    else:\n",
    "        progress = IntProgress(min=0, max=size, value=0)\n",
    "    label = HTML()\n",
    "    box = VBox(children=[label, progress])\n",
    "    display(box)\n",
    "\n",
    "    index = 0\n",
    "    try:\n",
    "        for index, record in enumerate(sequence, 1):\n",
    "            if index == 1 or index % every == 0:\n",
    "                if is_iterator:\n",
    "                    label.value = '{name}: {index} / ?'.format(\n",
    "                        name=name,\n",
    "                        index=index\n",
    "                    )\n",
    "                else:\n",
    "                    progress.value = index\n",
    "                    label.value = u'{name}: {index} / {size}'.format(\n",
    "                        name=name,\n",
    "                        index=index,\n",
    "                        size=size\n",
    "                    )\n",
    "            yield record\n",
    "    except:\n",
    "        progress.bar_style = 'danger'\n",
    "        raise\n",
    "    else:\n",
    "        progress.bar_style = 'success'\n",
    "        progress.value = index\n",
    "        label.value = \"{name}: {index}\".format(\n",
    "            name=name,\n",
    "            index=str(index or '?')\n",
    "        )"
   ]
  },
  {
   "cell_type": "markdown",
   "metadata": {},
   "source": [
    "# Чтение из XML"
   ]
  },
  {
   "cell_type": "code",
   "execution_count": 3,
   "metadata": {},
   "outputs": [
    {
     "name": "stdout",
     "output_type": "stream",
     "text": [
      "836\n"
     ]
    }
   ],
   "source": [
    "from xml.dom import minidom\n",
    "\n",
    "#‭ ‬обработка файла xml по имени\n",
    "mydoc = minidom.parse(\"updated.xml\")\n",
    "\n",
    "items = mydoc.getElementsByTagName(\"Article\")\n",
    "\n",
    "#‭ ‬общее количество элементов\n",
    "print(len(items))"
   ]
  },
  {
   "cell_type": "code",
   "execution_count": 4,
   "metadata": {
    "collapsed": true
   },
   "outputs": [],
   "source": [
    "from lxml import etree\n",
    "def parseXML(xmlFile):\n",
    "    with open(xmlFile) as fobj:\n",
    "        xml = fobj.read()\n",
    "    \n",
    "    root = etree.fromstring(xml)\n",
    " \n",
    "    article_dict = {}\n",
    "    articles = []\n",
    "    for article in root.getchildren():\n",
    "        for elem in article.getchildren():\n",
    "            if not elem.text:\n",
    "                text = \"None\"\n",
    "            else:\n",
    "                text = elem.text\n",
    "            article_dict[elem.tag] = text\n",
    "        \n",
    "        if article.tag == \"Article\":\n",
    "            articles.append(article_dict)\n",
    "            article_dict = {}\n",
    "    \n",
    "    return articles"
   ]
  },
  {
   "cell_type": "code",
   "execution_count": 5,
   "metadata": {
    "collapsed": true
   },
   "outputs": [],
   "source": [
    "articles = parseXML(\"updated.xml\")\n",
    "articles = articles[2:]"
   ]
  },
  {
   "cell_type": "markdown",
   "metadata": {},
   "source": [
    "# Формируем DataFrame"
   ]
  },
  {
   "cell_type": "code",
   "execution_count": 6,
   "metadata": {
    "collapsed": true
   },
   "outputs": [],
   "source": [
    "dataframe = pd.DataFrame.from_dict(articles)"
   ]
  },
  {
   "cell_type": "code",
   "execution_count": 7,
   "metadata": {
    "collapsed": true
   },
   "outputs": [],
   "source": [
    "dataframe = dataframe[[\"genre\", \"text\"]]"
   ]
  },
  {
   "cell_type": "code",
   "execution_count": 8,
   "metadata": {
    "collapsed": true
   },
   "outputs": [],
   "source": [
    "dataframe = dataframe.dropna()"
   ]
  },
  {
   "cell_type": "code",
   "execution_count": 9,
   "metadata": {},
   "outputs": [
    {
     "name": "stdout",
     "output_type": "stream",
     "text": [
      "99\n",
      "74\n",
      "403\n",
      "72\n",
      "139\n"
     ]
    }
   ],
   "source": [
    "for i in np.unique(dataframe.genre):\n",
    "    print(len(dataframe[dataframe.genre == i]))"
   ]
  },
  {
   "cell_type": "markdown",
   "metadata": {},
   "source": [
    "# Выравниваем классы"
   ]
  },
  {
   "cell_type": "code",
   "execution_count": 10,
   "metadata": {
    "collapsed": true
   },
   "outputs": [],
   "source": [
    "dataframe_auto = dataframe[dataframe.genre == \"AUTO\"][:72]\n",
    "dataframe_winter = dataframe[dataframe.genre == \"WINTER\"][:72]\n",
    "dataframe_world = dataframe[dataframe.genre == \"WORLD\"][:72]\n",
    "dataframe_town = dataframe[dataframe.genre == \"TOWN\"][:72]\n",
    "dataframe_accidents = dataframe[dataframe.genre == \"ACCIDENTS\"][:72]"
   ]
  },
  {
   "cell_type": "code",
   "execution_count": 11,
   "metadata": {
    "collapsed": true
   },
   "outputs": [],
   "source": [
    "frames = [dataframe_auto, dataframe_winter, dataframe_world, dataframe_town, dataframe_accidents]\n",
    "df = pd.concat(frames)"
   ]
  },
  {
   "cell_type": "code",
   "execution_count": 12,
   "metadata": {},
   "outputs": [
    {
     "name": "stdout",
     "output_type": "stream",
     "text": [
      "72\n",
      "72\n",
      "72\n",
      "72\n",
      "72\n"
     ]
    }
   ],
   "source": [
    "for i in np.unique(df.genre):\n",
    "    print(len(df[df.genre == i]))"
   ]
  },
  {
   "cell_type": "code",
   "execution_count": 13,
   "metadata": {},
   "outputs": [
    {
     "data": {
      "text/html": [
       "<div>\n",
       "<style>\n",
       "    .dataframe thead tr:only-child th {\n",
       "        text-align: right;\n",
       "    }\n",
       "\n",
       "    .dataframe thead th {\n",
       "        text-align: left;\n",
       "    }\n",
       "\n",
       "    .dataframe tbody tr th {\n",
       "        vertical-align: top;\n",
       "    }\n",
       "</style>\n",
       "<table border=\"1\" class=\"dataframe\">\n",
       "  <thead>\n",
       "    <tr style=\"text-align: right;\">\n",
       "      <th></th>\n",
       "      <th>genre</th>\n",
       "      <th>text</th>\n",
       "    </tr>\n",
       "  </thead>\n",
       "  <tbody>\n",
       "    <tr>\n",
       "      <th>0</th>\n",
       "      <td>AUTO</td>\n",
       "      <td>Мы разобрались, можно ли купить дешёвую страхо...</td>\n",
       "    </tr>\n",
       "    <tr>\n",
       "      <th>1</th>\n",
       "      <td>AUTO</td>\n",
       "      <td>Недорогой 5-метровый минивэн везёт кучу вещей ...</td>\n",
       "    </tr>\n",
       "    <tr>\n",
       "      <th>2</th>\n",
       "      <td>AUTO</td>\n",
       "      <td>Реагируя на фотографию Mazda 6, которую я выло...</td>\n",
       "    </tr>\n",
       "    <tr>\n",
       "      <th>3</th>\n",
       "      <td>AUTO</td>\n",
       "      <td>Правы были те, кто не ждал отката цен, а покуп...</td>\n",
       "    </tr>\n",
       "    <tr>\n",
       "      <th>4</th>\n",
       "      <td>AUTO</td>\n",
       "      <td>Короли парковки. Забытая машинка на детской пл...</td>\n",
       "    </tr>\n",
       "    <tr>\n",
       "      <th>5</th>\n",
       "      <td>AUTO</td>\n",
       "      <td>Разбираемся, на сколько подорожали машины и бе...</td>\n",
       "    </tr>\n",
       "    <tr>\n",
       "      <th>6</th>\n",
       "      <td>AUTO</td>\n",
       "      <td>Новый Duster уже выпускается в Европе под марк...</td>\n",
       "    </tr>\n",
       "    <tr>\n",
       "      <th>7</th>\n",
       "      <td>AUTO</td>\n",
       "      <td>Есть новости хорошие и новости плохие: в этом ...</td>\n",
       "    </tr>\n",
       "    <tr>\n",
       "      <th>8</th>\n",
       "      <td>AUTO</td>\n",
       "      <td>Новая подборка про людей, которым все равно Но...</td>\n",
       "    </tr>\n",
       "    <tr>\n",
       "      <th>9</th>\n",
       "      <td>AUTO</td>\n",
       "      <td>Tesla Model 3 символична: отчаянная попытка сд...</td>\n",
       "    </tr>\n",
       "    <tr>\n",
       "      <th>10</th>\n",
       "      <td>AUTO</td>\n",
       "      <td>Портал NN.ru продолжает публиковать фотографии...</td>\n",
       "    </tr>\n",
       "    <tr>\n",
       "      <th>11</th>\n",
       "      <td>AUTO</td>\n",
       "      <td>Для российских автомобилистов возвращаются пол...</td>\n",
       "    </tr>\n",
       "    <tr>\n",
       "      <th>12</th>\n",
       "      <td>AUTO</td>\n",
       "      <td>На носу Новый год, пора включаться в предпразд...</td>\n",
       "    </tr>\n",
       "    <tr>\n",
       "      <th>13</th>\n",
       "      <td>AUTO</td>\n",
       "      <td>Профессиональные гонщики — о том, как новичку ...</td>\n",
       "    </tr>\n",
       "    <tr>\n",
       "      <th>14</th>\n",
       "      <td>AUTO</td>\n",
       "      <td>Портал NN.ru продолжает публиковать фотографии...</td>\n",
       "    </tr>\n",
       "    <tr>\n",
       "      <th>15</th>\n",
       "      <td>AUTO</td>\n",
       "      <td>Разъезжаться при мелких ДТП запретили, зато ин...</td>\n",
       "    </tr>\n",
       "    <tr>\n",
       "      <th>16</th>\n",
       "      <td>AUTO</td>\n",
       "      <td>С наступлением холодов начинается привычная ло...</td>\n",
       "    </tr>\n",
       "    <tr>\n",
       "      <th>17</th>\n",
       "      <td>AUTO</td>\n",
       "      <td>Новая подборка про людей, которым все равно Но...</td>\n",
       "    </tr>\n",
       "    <tr>\n",
       "      <th>18</th>\n",
       "      <td>AUTO</td>\n",
       "      <td>На автомобиле «для путешествий» мы отправились...</td>\n",
       "    </tr>\n",
       "    <tr>\n",
       "      <th>19</th>\n",
       "      <td>AUTO</td>\n",
       "      <td>В этом грузовике поражает всё — от размеров до...</td>\n",
       "    </tr>\n",
       "    <tr>\n",
       "      <th>20</th>\n",
       "      <td>AUTO</td>\n",
       "      <td>Портал NN.ru продолжает публиковать фотографии...</td>\n",
       "    </tr>\n",
       "    <tr>\n",
       "      <th>21</th>\n",
       "      <td>AUTO</td>\n",
       "      <td>Разбираемся, как осенняя «инфляция» бьет рекор...</td>\n",
       "    </tr>\n",
       "    <tr>\n",
       "      <th>22</th>\n",
       "      <td>AUTO</td>\n",
       "      <td>Правительство и крупные нефтяные компании дост...</td>\n",
       "    </tr>\n",
       "    <tr>\n",
       "      <th>23</th>\n",
       "      <td>AUTO</td>\n",
       "      <td>В первый день ноября нижегородская ГИБДД прове...</td>\n",
       "    </tr>\n",
       "    <tr>\n",
       "      <th>24</th>\n",
       "      <td>AUTO</td>\n",
       "      <td>Портал NN.ru продолжает публиковать фотографии...</td>\n",
       "    </tr>\n",
       "    <tr>\n",
       "      <th>25</th>\n",
       "      <td>AUTO</td>\n",
       "      <td>Портал NN.ru продолжает публиковать фотографии...</td>\n",
       "    </tr>\n",
       "    <tr>\n",
       "      <th>26</th>\n",
       "      <td>AUTO</td>\n",
       "      <td>Портал NN.ru продолжает публиковать фотографии...</td>\n",
       "    </tr>\n",
       "    <tr>\n",
       "      <th>27</th>\n",
       "      <td>AUTO</td>\n",
       "      <td>Жительница Нижнего Новгорода Екатерина Миронов...</td>\n",
       "    </tr>\n",
       "    <tr>\n",
       "      <th>28</th>\n",
       "      <td>AUTO</td>\n",
       "      <td>Портал NN.ru продолжает публиковать фотографии...</td>\n",
       "    </tr>\n",
       "    <tr>\n",
       "      <th>29</th>\n",
       "      <td>AUTO</td>\n",
       "      <td>Мне очень не хочется, чтобы наступило будущее,...</td>\n",
       "    </tr>\n",
       "    <tr>\n",
       "      <th>...</th>\n",
       "      <td>...</td>\n",
       "      <td>...</td>\n",
       "    </tr>\n",
       "    <tr>\n",
       "      <th>770</th>\n",
       "      <td>ACCIDENTS</td>\n",
       "      <td>Очевидцы говорят, что еще одно возгорание было...</td>\n",
       "    </tr>\n",
       "    <tr>\n",
       "      <th>771</th>\n",
       "      <td>ACCIDENTS</td>\n",
       "      <td>Сразу из нескольких школ Нижнего Новгорода сег...</td>\n",
       "    </tr>\n",
       "    <tr>\n",
       "      <th>772</th>\n",
       "      <td>ACCIDENTS</td>\n",
       "      <td>Трое из тринадцати усыновленных детей обвиняют...</td>\n",
       "    </tr>\n",
       "    <tr>\n",
       "      <th>773</th>\n",
       "      <td>ACCIDENTS</td>\n",
       "      <td>Волна анонимных звонков о заложенных взрывных ...</td>\n",
       "    </tr>\n",
       "    <tr>\n",
       "      <th>774</th>\n",
       "      <td>ACCIDENTS</td>\n",
       "      <td>Обеспокоенные родители и школьники сообщают о ...</td>\n",
       "    </tr>\n",
       "    <tr>\n",
       "      <th>775</th>\n",
       "      <td>ACCIDENTS</td>\n",
       "      <td>Во вторник, 12 сентября, вечером в Нижнем Новг...</td>\n",
       "    </tr>\n",
       "    <tr>\n",
       "      <th>776</th>\n",
       "      <td>ACCIDENTS</td>\n",
       "      <td>На территории ОАО «ГАЗ» произошло массовое уби...</td>\n",
       "    </tr>\n",
       "    <tr>\n",
       "      <th>777</th>\n",
       "      <td>ACCIDENTS</td>\n",
       "      <td>Нижегородские пенсионеры очень часто страдают ...</td>\n",
       "    </tr>\n",
       "    <tr>\n",
       "      <th>778</th>\n",
       "      <td>ACCIDENTS</td>\n",
       "      <td>Сегодня на Канавинском мосту в Нижнем Новгород...</td>\n",
       "    </tr>\n",
       "    <tr>\n",
       "      <th>779</th>\n",
       "      <td>ACCIDENTS</td>\n",
       "      <td>Посещение одного из нижегородских батутных цен...</td>\n",
       "    </tr>\n",
       "    <tr>\n",
       "      <th>780</th>\n",
       "      <td>ACCIDENTS</td>\n",
       "      <td>Жуткая история произошла в нижегородской больн...</td>\n",
       "    </tr>\n",
       "    <tr>\n",
       "      <th>781</th>\n",
       "      <td>ACCIDENTS</td>\n",
       "      <td>Сегодня нижегородцы провели несколько часов в ...</td>\n",
       "    </tr>\n",
       "    <tr>\n",
       "      <th>782</th>\n",
       "      <td>ACCIDENTS</td>\n",
       "      <td>Спасение Mitsubishi Pajero из водяного плена н...</td>\n",
       "    </tr>\n",
       "    <tr>\n",
       "      <th>783</th>\n",
       "      <td>ACCIDENTS</td>\n",
       "      <td>​14 января в 08.00 в «Центр управления в кризи...</td>\n",
       "    </tr>\n",
       "    <tr>\n",
       "      <th>784</th>\n",
       "      <td>ACCIDENTS</td>\n",
       "      <td>Учителя говорят, что он был хорошистом Учителя...</td>\n",
       "    </tr>\n",
       "    <tr>\n",
       "      <th>785</th>\n",
       "      <td>ACCIDENTS</td>\n",
       "      <td>Редакция городского портала NN.RU ведет онлайн...</td>\n",
       "    </tr>\n",
       "    <tr>\n",
       "      <th>786</th>\n",
       "      <td>ACCIDENTS</td>\n",
       "      <td>Нижегородцы все чаще жалуются на навязчивых ул...</td>\n",
       "    </tr>\n",
       "    <tr>\n",
       "      <th>787</th>\n",
       "      <td>ACCIDENTS</td>\n",
       "      <td>28 мая в Дзержинске Нижегородской области прои...</td>\n",
       "    </tr>\n",
       "    <tr>\n",
       "      <th>788</th>\n",
       "      <td>ACCIDENTS</td>\n",
       "      <td>Сказать о том, что убийство шестерых детей и и...</td>\n",
       "    </tr>\n",
       "    <tr>\n",
       "      <th>789</th>\n",
       "      <td>ACCIDENTS</td>\n",
       "      <td>В Нижнем Новгороде родители трехлетнего Сергея...</td>\n",
       "    </tr>\n",
       "    <tr>\n",
       "      <th>790</th>\n",
       "      <td>ACCIDENTS</td>\n",
       "      <td>Вчера, 21 июня, в Нижегородской области прошла...</td>\n",
       "    </tr>\n",
       "    <tr>\n",
       "      <th>791</th>\n",
       "      <td>ACCIDENTS</td>\n",
       "      <td>\"Нигде не безопасно пешеходам, нигде!\" \"Тротуа...</td>\n",
       "    </tr>\n",
       "    <tr>\n",
       "      <th>792</th>\n",
       "      <td>ACCIDENTS</td>\n",
       "      <td>\"Не тот ли маньяк с Космической?\" Нижегородцы ...</td>\n",
       "    </tr>\n",
       "    <tr>\n",
       "      <th>793</th>\n",
       "      <td>ACCIDENTS</td>\n",
       "      <td>Жители Сокольского района Нижегородской област...</td>\n",
       "    </tr>\n",
       "    <tr>\n",
       "      <th>794</th>\n",
       "      <td>ACCIDENTS</td>\n",
       "      <td>Нижегородская полиция начала проверку по заявл...</td>\n",
       "    </tr>\n",
       "    <tr>\n",
       "      <th>795</th>\n",
       "      <td>ACCIDENTS</td>\n",
       "      <td>Стали известны новые подробности трагедии, кот...</td>\n",
       "    </tr>\n",
       "    <tr>\n",
       "      <th>796</th>\n",
       "      <td>ACCIDENTS</td>\n",
       "      <td>\"Она была очень ответственным человеком\". Подр...</td>\n",
       "    </tr>\n",
       "    <tr>\n",
       "      <th>797</th>\n",
       "      <td>ACCIDENTS</td>\n",
       "      <td>Корреспондент NN.RU пообщался с соседями подоз...</td>\n",
       "    </tr>\n",
       "    <tr>\n",
       "      <th>798</th>\n",
       "      <td>ACCIDENTS</td>\n",
       "      <td>На месте убийства 19-летней нижегородки Дарьи ...</td>\n",
       "    </tr>\n",
       "    <tr>\n",
       "      <th>800</th>\n",
       "      <td>ACCIDENTS</td>\n",
       "      <td>Предъявлено обвинение предполагаемому виновник...</td>\n",
       "    </tr>\n",
       "  </tbody>\n",
       "</table>\n",
       "<p>360 rows × 2 columns</p>\n",
       "</div>"
      ],
      "text/plain": [
       "         genre                                               text\n",
       "0         AUTO  Мы разобрались, можно ли купить дешёвую страхо...\n",
       "1         AUTO  Недорогой 5-метровый минивэн везёт кучу вещей ...\n",
       "2         AUTO  Реагируя на фотографию Mazda 6, которую я выло...\n",
       "3         AUTO  Правы были те, кто не ждал отката цен, а покуп...\n",
       "4         AUTO  Короли парковки. Забытая машинка на детской пл...\n",
       "5         AUTO  Разбираемся, на сколько подорожали машины и бе...\n",
       "6         AUTO  Новый Duster уже выпускается в Европе под марк...\n",
       "7         AUTO  Есть новости хорошие и новости плохие: в этом ...\n",
       "8         AUTO  Новая подборка про людей, которым все равно Но...\n",
       "9         AUTO  Tesla Model 3 символична: отчаянная попытка сд...\n",
       "10        AUTO  Портал NN.ru продолжает публиковать фотографии...\n",
       "11        AUTO  Для российских автомобилистов возвращаются пол...\n",
       "12        AUTO  На носу Новый год, пора включаться в предпразд...\n",
       "13        AUTO  Профессиональные гонщики — о том, как новичку ...\n",
       "14        AUTO  Портал NN.ru продолжает публиковать фотографии...\n",
       "15        AUTO  Разъезжаться при мелких ДТП запретили, зато ин...\n",
       "16        AUTO  С наступлением холодов начинается привычная ло...\n",
       "17        AUTO  Новая подборка про людей, которым все равно Но...\n",
       "18        AUTO  На автомобиле «для путешествий» мы отправились...\n",
       "19        AUTO  В этом грузовике поражает всё — от размеров до...\n",
       "20        AUTO  Портал NN.ru продолжает публиковать фотографии...\n",
       "21        AUTO  Разбираемся, как осенняя «инфляция» бьет рекор...\n",
       "22        AUTO  Правительство и крупные нефтяные компании дост...\n",
       "23        AUTO  В первый день ноября нижегородская ГИБДД прове...\n",
       "24        AUTO  Портал NN.ru продолжает публиковать фотографии...\n",
       "25        AUTO  Портал NN.ru продолжает публиковать фотографии...\n",
       "26        AUTO  Портал NN.ru продолжает публиковать фотографии...\n",
       "27        AUTO  Жительница Нижнего Новгорода Екатерина Миронов...\n",
       "28        AUTO  Портал NN.ru продолжает публиковать фотографии...\n",
       "29        AUTO  Мне очень не хочется, чтобы наступило будущее,...\n",
       "..         ...                                                ...\n",
       "770  ACCIDENTS  Очевидцы говорят, что еще одно возгорание было...\n",
       "771  ACCIDENTS  Сразу из нескольких школ Нижнего Новгорода сег...\n",
       "772  ACCIDENTS  Трое из тринадцати усыновленных детей обвиняют...\n",
       "773  ACCIDENTS  Волна анонимных звонков о заложенных взрывных ...\n",
       "774  ACCIDENTS  Обеспокоенные родители и школьники сообщают о ...\n",
       "775  ACCIDENTS  Во вторник, 12 сентября, вечером в Нижнем Новг...\n",
       "776  ACCIDENTS  На территории ОАО «ГАЗ» произошло массовое уби...\n",
       "777  ACCIDENTS  Нижегородские пенсионеры очень часто страдают ...\n",
       "778  ACCIDENTS  Сегодня на Канавинском мосту в Нижнем Новгород...\n",
       "779  ACCIDENTS  Посещение одного из нижегородских батутных цен...\n",
       "780  ACCIDENTS  Жуткая история произошла в нижегородской больн...\n",
       "781  ACCIDENTS  Сегодня нижегородцы провели несколько часов в ...\n",
       "782  ACCIDENTS  Спасение Mitsubishi Pajero из водяного плена н...\n",
       "783  ACCIDENTS  ​14 января в 08.00 в «Центр управления в кризи...\n",
       "784  ACCIDENTS  Учителя говорят, что он был хорошистом Учителя...\n",
       "785  ACCIDENTS  Редакция городского портала NN.RU ведет онлайн...\n",
       "786  ACCIDENTS  Нижегородцы все чаще жалуются на навязчивых ул...\n",
       "787  ACCIDENTS  28 мая в Дзержинске Нижегородской области прои...\n",
       "788  ACCIDENTS  Сказать о том, что убийство шестерых детей и и...\n",
       "789  ACCIDENTS  В Нижнем Новгороде родители трехлетнего Сергея...\n",
       "790  ACCIDENTS  Вчера, 21 июня, в Нижегородской области прошла...\n",
       "791  ACCIDENTS  \"Нигде не безопасно пешеходам, нигде!\" \"Тротуа...\n",
       "792  ACCIDENTS  \"Не тот ли маньяк с Космической?\" Нижегородцы ...\n",
       "793  ACCIDENTS  Жители Сокольского района Нижегородской област...\n",
       "794  ACCIDENTS  Нижегородская полиция начала проверку по заявл...\n",
       "795  ACCIDENTS  Стали известны новые подробности трагедии, кот...\n",
       "796  ACCIDENTS  \"Она была очень ответственным человеком\". Подр...\n",
       "797  ACCIDENTS  Корреспондент NN.RU пообщался с соседями подоз...\n",
       "798  ACCIDENTS  На месте убийства 19-летней нижегородки Дарьи ...\n",
       "800  ACCIDENTS  Предъявлено обвинение предполагаемому виновник...\n",
       "\n",
       "[360 rows x 2 columns]"
      ]
     },
     "execution_count": 13,
     "metadata": {},
     "output_type": "execute_result"
    }
   ],
   "source": [
    "df"
   ]
  },
  {
   "cell_type": "code",
   "execution_count": 13,
   "metadata": {},
   "outputs": [
    {
     "name": "stderr",
     "output_type": "stream",
     "text": [
      "C:\\Users\\B7E3~1\\AppData\\Local\\conda\\conda\\envs\\labsras\\lib\\site-packages\\ipykernel_launcher.py:3: FutureWarning: Method .as_matrix will be removed in a future version. Use .values instead.\n",
      "  This is separate from the ipykernel package so we can avoid doing imports until\n"
     ]
    },
    {
     "data": {
      "application/vnd.jupyter.widget-view+json": {
       "model_id": "a537497c01c64db5adba9953c1e21637",
       "version_major": 2,
       "version_minor": 0
      },
      "text/plain": [
       "VBox(children=(HTML(value=''), IntProgress(value=0, max=360)))"
      ]
     },
     "metadata": {},
     "output_type": "display_data"
    },
    {
     "name": "stdout",
     "output_type": "stream",
     "text": [
      "268897 268897\n"
     ]
    }
   ],
   "source": [
    "corpus, texts = [], []\n",
    "\n",
    "for message in log_progress(df.text.dropna().as_matrix()):\n",
    "    sp = message.split()\n",
    "    corpus += sp\n",
    "    texts += sp\n",
    "#     break\n",
    "\n",
    "print(len(corpus), len(texts))"
   ]
  },
  {
   "cell_type": "code",
   "execution_count": 14,
   "metadata": {},
   "outputs": [
    {
     "data": {
      "text/plain": [
       "'ДТП.'"
      ]
     },
     "execution_count": 14,
     "metadata": {},
     "output_type": "execute_result"
    }
   ],
   "source": [
    "corpus[268896]"
   ]
  },
  {
   "cell_type": "code",
   "execution_count": 15,
   "metadata": {},
   "outputs": [
    {
     "name": "stdout",
     "output_type": "stream",
     "text": [
      "268897\n"
     ]
    }
   ],
   "source": [
    "#Убираем пробелы\n",
    "corpus = np.asarray([doc.strip().strip('\\t').replace('\\n', u'') for doc in corpus])\n",
    "print(len(corpus))"
   ]
  },
  {
   "cell_type": "code",
   "execution_count": 16,
   "metadata": {},
   "outputs": [
    {
     "data": {
      "text/plain": [
       "'!\"#$%&\\'()*+,-./:;<=>?@[\\\\]^_`{|}~'"
      ]
     },
     "execution_count": 16,
     "metadata": {},
     "output_type": "execute_result"
    }
   ],
   "source": [
    "#Уберем другие лишние символы\n",
    "string.punctuation"
   ]
  },
  {
   "cell_type": "code",
   "execution_count": 17,
   "metadata": {
    "collapsed": true
   },
   "outputs": [],
   "source": [
    "EXCLUDE_SYMBOLS_STR = u''.join(['№', '«', 'ђ', '°', '±', '‚', 'ћ', '‰', '…', '»', 'ѓ', 'µ', '·', 'ґ', 'њ', 'ї', 'џ', 'є', '‹',\n",
    "                                '‡', '†', '¶', 'ќ', '€', '“', 'ў', '§', '„', '”', '\\ufeff', '’', 'љ', '›', '•', '—', '‘', \n",
    "                                '\\x7f', '\\xad', '¤', '\\xa0'])\n",
    "regex_punct = re.compile('[%s]' % re.escape(string.punctuation))\n",
    "regex_dig = re.compile('[%s]' % re.escape(string.digits))\n",
    "regex_symb = re.compile('[%s]' % re.escape(EXCLUDE_SYMBOLS_STR))\n",
    "regex_struct = re.compile('[%s]' % string.printable + string.whitespace)\n",
    "emoji_pattern = re.compile(\"[\"\n",
    "        \"\\U0001F600-\\U0001F64F\"  # emoticons\n",
    "        \"\\U0001F300-\\U0001F5FF\"  # symbols & pictographs\n",
    "        \"\\U0001F680-\\U0001F6FF\"  # transport & map symbols\n",
    "        \"\\U0001F1E0-\\U0001F1FF\"  # flags (iOS)\n",
    "                           \"]+\")"
   ]
  },
  {
   "cell_type": "code",
   "execution_count": 18,
   "metadata": {},
   "outputs": [
    {
     "name": "stdout",
     "output_type": "stream",
     "text": [
      "268897\n"
     ]
    }
   ],
   "source": [
    "corpus = [regex_punct.sub('', doc) for doc in corpus]\n",
    "print(len(corpus))"
   ]
  },
  {
   "cell_type": "code",
   "execution_count": 19,
   "metadata": {},
   "outputs": [
    {
     "name": "stdout",
     "output_type": "stream",
     "text": [
      "268897\n"
     ]
    }
   ],
   "source": [
    "corpus = [regex_dig.sub('', doc) for doc in corpus]\n",
    "print(len(corpus))"
   ]
  },
  {
   "cell_type": "code",
   "execution_count": 20,
   "metadata": {},
   "outputs": [
    {
     "name": "stdout",
     "output_type": "stream",
     "text": [
      "268897\n"
     ]
    }
   ],
   "source": [
    "corpus = [regex_symb.sub(' ', doc) for doc in corpus]\n",
    "print(len(corpus))"
   ]
  },
  {
   "cell_type": "code",
   "execution_count": 21,
   "metadata": {},
   "outputs": [
    {
     "name": "stdout",
     "output_type": "stream",
     "text": [
      "268897\n"
     ]
    }
   ],
   "source": [
    "corpus = [regex_struct.sub('', doc) for doc in corpus]\n",
    "print(len(corpus))"
   ]
  },
  {
   "cell_type": "code",
   "execution_count": 22,
   "metadata": {},
   "outputs": [
    {
     "name": "stdout",
     "output_type": "stream",
     "text": [
      "268897\n"
     ]
    }
   ],
   "source": [
    "corpus = [re.sub(' +' , ' ', doc.strip()) for doc in corpus]\n",
    "print(len(corpus))"
   ]
  },
  {
   "cell_type": "code",
   "execution_count": 23,
   "metadata": {},
   "outputs": [
    {
     "data": {
      "text/plain": [
       "'ДТП'"
      ]
     },
     "execution_count": 23,
     "metadata": {},
     "output_type": "execute_result"
    }
   ],
   "source": [
    "corpus[268896]"
   ]
  },
  {
   "cell_type": "code",
   "execution_count": 24,
   "metadata": {},
   "outputs": [
    {
     "name": "stdout",
     "output_type": "stream",
     "text": [
      "255478\n",
      "255478\n"
     ]
    }
   ],
   "source": [
    "texts = np.asarray([txt for doc, txt in zip(corpus, texts) if len(doc) > 0])\n",
    "print(len(texts))\n",
    "corpus = np.asarray([doc for doc in corpus if len(doc) > 0])\n",
    "print(len(corpus))"
   ]
  },
  {
   "cell_type": "code",
   "execution_count": 25,
   "metadata": {},
   "outputs": [
    {
     "name": "stdout",
     "output_type": "stream",
     "text": [
      "255478\n"
     ]
    }
   ],
   "source": [
    "corpus = [doc.lower() for doc in corpus]\n",
    "print(len(corpus))"
   ]
  },
  {
   "cell_type": "code",
   "execution_count": 26,
   "metadata": {},
   "outputs": [
    {
     "name": "stdout",
     "output_type": "stream",
     "text": [
      "Мы\n",
      "мы\n"
     ]
    }
   ],
   "source": [
    "print(texts[0])\n",
    "print(corpus[0])"
   ]
  },
  {
   "cell_type": "code",
   "execution_count": 27,
   "metadata": {
    "collapsed": true
   },
   "outputs": [],
   "source": [
    "morph = pymorphy2.MorphAnalyzer()"
   ]
  },
  {
   "cell_type": "code",
   "execution_count": 28,
   "metadata": {},
   "outputs": [
    {
     "data": {
      "application/vnd.jupyter.widget-view+json": {
       "model_id": "de659634406849e4aa1dd3eca6b5eba2",
       "version_major": 2,
       "version_minor": 0
      },
      "text/plain": [
       "VBox(children=(HTML(value=''), IntProgress(value=0, max=255478)))"
      ]
     },
     "metadata": {},
     "output_type": "display_data"
    },
    {
     "name": "stdout",
     "output_type": "stream",
     "text": [
      "154991 255478\n"
     ]
    }
   ],
   "source": [
    "corpus_tokens = []\n",
    "inds_to_drop = []\n",
    "\n",
    "for i, sentence in enumerate(log_progress(corpus[:])):\n",
    "    tmp_tokens = []\n",
    "    sp = sentence.split()\n",
    "    for word in sp:\n",
    "        if word not in stop_words.get_stop_words('ru'):\n",
    "            if morph.word_is_known(word):\n",
    "                tmp_tokens.append(word)\n",
    "    if len(tmp_tokens) > 0:\n",
    "        corpus_tokens.append(tmp_tokens)\n",
    "    else:\n",
    "        inds_to_drop.append(i)\n",
    "#     break\n",
    "        \n",
    "print(len(corpus_tokens), len(texts))"
   ]
  },
  {
   "cell_type": "code",
   "execution_count": 29,
   "metadata": {},
   "outputs": [
    {
     "name": "stdout",
     "output_type": "stream",
     "text": [
      "255478\n",
      "154991\n"
     ]
    }
   ],
   "source": [
    "print(len(texts))\n",
    "texts = [t for i, t in enumerate(texts) if i not in inds_to_drop]\n",
    "print(len(texts))"
   ]
  },
  {
   "cell_type": "code",
   "execution_count": 30,
   "metadata": {
    "collapsed": true
   },
   "outputs": [],
   "source": [
    "stemmer = RussianStemmer()"
   ]
  },
  {
   "cell_type": "code",
   "execution_count": 31,
   "metadata": {},
   "outputs": [
    {
     "data": {
      "application/vnd.jupyter.widget-view+json": {
       "model_id": "535242d1c56c4485b8cc9e302fad94fe",
       "version_major": 2,
       "version_minor": 0
      },
      "text/plain": [
       "VBox(children=(HTML(value=''), IntProgress(value=0, max=154991)))"
      ]
     },
     "metadata": {},
     "output_type": "display_data"
    },
    {
     "name": "stdout",
     "output_type": "stream",
     "text": [
      "154991\n"
     ]
    }
   ],
   "source": [
    "corpus_tokens_stem = []\n",
    "\n",
    "for i, tokens in enumerate(log_progress(corpus_tokens[:])):\n",
    "    tmp = [stemmer.stem(word) for word in tokens]\n",
    "    corpus_tokens_stem.append(tmp)\n",
    "#     break\n",
    "    \n",
    "print(len(corpus_tokens_stem))"
   ]
  },
  {
   "cell_type": "code",
   "execution_count": 32,
   "metadata": {},
   "outputs": [
    {
     "name": "stdout",
     "output_type": "stream",
     "text": [
      "154991\n"
     ]
    },
    {
     "data": {
      "text/plain": [
       "[['разобрались'],\n",
       " ['купить'],\n",
       " ['дешёвую'],\n",
       " ['страховку'],\n",
       " ['новым'],\n",
       " ['тарифам'],\n",
       " ['разобрались'],\n",
       " ['купить'],\n",
       " ['дешёвую'],\n",
       " ['страховку']]"
      ]
     },
     "execution_count": 32,
     "metadata": {},
     "output_type": "execute_result"
    }
   ],
   "source": [
    "print(len(corpus_tokens))\n",
    "corpus_tokens[:10]"
   ]
  },
  {
   "cell_type": "code",
   "execution_count": 33,
   "metadata": {},
   "outputs": [
    {
     "name": "stdout",
     "output_type": "stream",
     "text": [
      "154991\n"
     ]
    },
    {
     "data": {
      "text/plain": [
       "[['разобра'],\n",
       " ['куп'],\n",
       " ['дешев'],\n",
       " ['страховк'],\n",
       " ['нов'],\n",
       " ['тариф'],\n",
       " ['разобра'],\n",
       " ['куп'],\n",
       " ['дешев'],\n",
       " ['страховк']]"
      ]
     },
     "execution_count": 33,
     "metadata": {},
     "output_type": "execute_result"
    }
   ],
   "source": [
    "print(len(corpus_tokens_stem))\n",
    "corpus_tokens_stem[:10]"
   ]
  },
  {
   "cell_type": "code",
   "execution_count": 34,
   "metadata": {},
   "outputs": [
    {
     "name": "stdout",
     "output_type": "stream",
     "text": [
      "154991 154991\n"
     ]
    }
   ],
   "source": [
    "corpus_tokens_stem = np.asarray(corpus_tokens_stem)\n",
    "texts = np.asarray(texts)\n",
    "\n",
    "print(len(corpus_tokens_stem), len(texts))"
   ]
  },
  {
   "cell_type": "code",
   "execution_count": 35,
   "metadata": {},
   "outputs": [
    {
     "name": "stdout",
     "output_type": "stream",
     "text": [
      "154991\n"
     ]
    }
   ],
   "source": [
    "diffs = np.asarray([len(tokens[0]) for tokens in corpus_tokens_stem])\n",
    "print(len(diffs))"
   ]
  },
  {
   "cell_type": "code",
   "execution_count": 36,
   "metadata": {},
   "outputs": [
    {
     "data": {
      "text/plain": [
       "array([7, 3, 5, ..., 5, 6, 3])"
      ]
     },
     "execution_count": 36,
     "metadata": {},
     "output_type": "execute_result"
    }
   ],
   "source": [
    "diffs"
   ]
  },
  {
   "cell_type": "code",
   "execution_count": 37,
   "metadata": {},
   "outputs": [
    {
     "data": {
      "text/plain": [
       "(0, 30)"
      ]
     },
     "execution_count": 37,
     "metadata": {},
     "output_type": "execute_result"
    },
    {
     "data": {
      "image/png": "[encoded data removed]",
      "text/plain": [
       "<Figure size 1080x360 with 1 Axes>"
      ]
     },
     "metadata": {},
     "output_type": "display_data"
    }
   ],
   "source": [
    "plt.figure(figsize=(15, 5))\n",
    "plt.hist(diffs, bins=100)\n",
    "plt.grid(True)\n",
    "plt.xlim(0, 30)"
   ]
  },
  {
   "cell_type": "code",
   "execution_count": 38,
   "metadata": {},
   "outputs": [
    {
     "data": {
      "text/plain": [
       "array([list(['ям']), list(['ос']), list(['об']), list(['ум']),\n",
       "       list(['то']), list(['ин']), list(['то']), list(['мо']),\n",
       "       list(['им']), list(['ма'])], dtype=object)"
      ]
     },
     "execution_count": 38,
     "metadata": {},
     "output_type": "execute_result"
    }
   ],
   "source": [
    "corpus_tokens_stem[diffs == 2][:10]"
   ]
  },
  {
   "cell_type": "code",
   "execution_count": 39,
   "metadata": {},
   "outputs": [
    {
     "data": {
      "text/plain": [
       "0.10839984257150415"
      ]
     },
     "execution_count": 39,
     "metadata": {},
     "output_type": "execute_result"
    }
   ],
   "source": [
    "np.unique(corpus_tokens_stem).shape[0] / float(corpus_tokens_stem.shape[0])"
   ]
  },
  {
   "cell_type": "code",
   "execution_count": 40,
   "metadata": {},
   "outputs": [
    {
     "data": {
      "application/vnd.jupyter.widget-view+json": {
       "model_id": "f4d607e2e8804226b37ab99ec589f87c",
       "version_major": 2,
       "version_minor": 0
      },
      "text/plain": [
       "VBox(children=(HTML(value=''), IntProgress(value=0, max=154991)))"
      ]
     },
     "metadata": {},
     "output_type": "display_data"
    },
    {
     "name": "stdout",
     "output_type": "stream",
     "text": [
      "16801 16801\n"
     ]
    }
   ],
   "source": [
    "stat = {}\n",
    "\n",
    "tmp_corp, tmp_texts = [], []\n",
    "\n",
    "for i, tokens in enumerate(log_progress(corpus_tokens_stem)):\n",
    "    s = ' '.join(tokens)\n",
    "    if stat.get(s, None) is None:\n",
    "        stat[s] = True\n",
    "        tmp_corp.append(tokens)\n",
    "        tmp_texts.append(texts[i])\n",
    "        \n",
    "corpus_tokens_stem = tmp_corp\n",
    "texts = tmp_texts\n",
    "print(len(corpus_tokens_stem), len(texts))"
   ]
  },
  {
   "cell_type": "code",
   "execution_count": 41,
   "metadata": {},
   "outputs": [
    {
     "name": "stdout",
     "output_type": "stream",
     "text": [
      "16801 16801\n"
     ]
    }
   ],
   "source": [
    "corpus_tokens_stem = np.asarray(corpus_tokens_stem)\n",
    "texts = np.asarray(texts)\n",
    "\n",
    "print(len(corpus_tokens_stem), len(texts))"
   ]
  },
  {
   "cell_type": "code",
   "execution_count": 42,
   "metadata": {},
   "outputs": [
    {
     "data": {
      "text/plain": [
       "array(['разобрались,', 'купить', 'дешёвую', ..., 'мчался', 'баллон',\n",
       "       'пассажирка'], dtype='<U31')"
      ]
     },
     "execution_count": 42,
     "metadata": {},
     "output_type": "execute_result"
    }
   ],
   "source": [
    "texts"
   ]
  },
  {
   "cell_type": "code",
   "execution_count": 43,
   "metadata": {},
   "outputs": [
    {
     "name": "stdout",
     "output_type": "stream",
     "text": [
      "16801\n"
     ]
    }
   ],
   "source": [
    "diffs = np.asarray([len(tokens[0]) for tokens in corpus_tokens_stem])\n",
    "print(len(diffs))"
   ]
  },
  {
   "cell_type": "code",
   "execution_count": 44,
   "metadata": {},
   "outputs": [
    {
     "data": {
      "text/plain": [
       "array([7, 3, 5, ..., 4, 6, 9])"
      ]
     },
     "execution_count": 44,
     "metadata": {},
     "output_type": "execute_result"
    }
   ],
   "source": [
    "diffs"
   ]
  },
  {
   "cell_type": "code",
   "execution_count": 45,
   "metadata": {},
   "outputs": [
    {
     "data": {
      "text/plain": [
       "(0, 10)"
      ]
     },
     "execution_count": 45,
     "metadata": {},
     "output_type": "execute_result"
    },
    {
     "data": {
      "image/png": "[encoded data removed]",
      "text/plain": [
       "<Figure size 1080x360 with 1 Axes>"
      ]
     },
     "metadata": {},
     "output_type": "display_data"
    }
   ],
   "source": [
    "plt.figure(figsize=(15, 5))\n",
    "plt.hist(diffs, bins=100)\n",
    "plt.grid(True)\n",
    "plt.xlim(0, 10)"
   ]
  },
  {
   "cell_type": "code",
   "execution_count": 46,
   "metadata": {},
   "outputs": [
    {
     "data": {
      "text/plain": [
       "array([list(['разобра']), list(['коридор']), list(['страхов']), ...,\n",
       "       list(['браслет']), list(['миловск']), list(['лесовоз'])],\n",
       "      dtype=object)"
      ]
     },
     "execution_count": 46,
     "metadata": {},
     "output_type": "execute_result"
    }
   ],
   "source": [
    "corpus_tokens_stem[diffs == 7]"
   ]
  },
  {
   "cell_type": "code",
   "execution_count": 47,
   "metadata": {
    "collapsed": true
   },
   "outputs": [],
   "source": [
    "corp4learning = corpus_tokens_stem[diffs > 2]\n",
    "texts4learning = texts[diffs > 2]"
   ]
  },
  {
   "cell_type": "code",
   "execution_count": 48,
   "metadata": {},
   "outputs": [
    {
     "data": {
      "text/plain": [
       "array([list(['разобра']), list(['куп']), list(['дешев']), ...,\n",
       "       list(['мчал']), list(['баллон']), list(['пассажирк'])],\n",
       "      dtype=object)"
      ]
     },
     "execution_count": 48,
     "metadata": {},
     "output_type": "execute_result"
    }
   ],
   "source": [
    "corp4learning"
   ]
  },
  {
   "cell_type": "code",
   "execution_count": 49,
   "metadata": {
    "collapsed": true
   },
   "outputs": [],
   "source": [
    "tmp_corp = []\n",
    "\n",
    "for tokens in corp4learning:\n",
    "    tmp_corp.append([t for t in tokens if len(t) > 2])\n",
    "corp4learning = tmp_corp"
   ]
  },
  {
   "cell_type": "code",
   "execution_count": 50,
   "metadata": {},
   "outputs": [
    {
     "name": "stdout",
     "output_type": "stream",
     "text": [
      "16629\n"
     ]
    }
   ],
   "source": [
    "vocab = np.unique(np.concatenate(corp4learning).flatten()).tolist()\n",
    "print(len(vocab))"
   ]
  },
  {
   "cell_type": "code",
   "execution_count": 14,
   "metadata": {
    "collapsed": true
   },
   "outputs": [],
   "source": [
    "import os\n",
    "import sklearn\n",
    "from sklearn.datasets import fetch_20newsgroups\n",
    "from sklearn.feature_extraction.text import TfidfVectorizer\n",
    "import numpy as np\n",
    "from sklearn.neighbors import NearestNeighbors\n",
    "import re\n",
    "from scipy.sparse import csr_matrix\n",
    "import matplotlib.pyplot as plt\n",
    "\n",
    "%matplotlib inline"
   ]
  },
  {
   "cell_type": "code",
   "execution_count": 15,
   "metadata": {
    "collapsed": true
   },
   "outputs": [],
   "source": [
    "data_train = []\n",
    "for j in df[\"text\"]:\n",
    "    data_train.append(j)"
   ]
  },
  {
   "cell_type": "code",
   "execution_count": 20,
   "metadata": {},
   "outputs": [
    {
     "data": {
      "text/plain": [
       "'Мы разобрались, можно ли купить дешёвую страховку по новым тарифам Мы разобрались, можно ли купить дешёвую страховку по новым тарифам С начала года коридор тарифов ОСАГО расширили на 20% и вверх, и вниз. Это дало страховым компаниям выбор: оставить цены, повысить или снизить. Мы проанализировали стоимость полисов в регионах России, и оказалось, что найти страховку подешевле действительно можно — тарифы страховых компаний отличаются сильнее, чем в прошлом году. Гибкие тарифы ОСАГО должны были «наказать» аварийных водителей, но на деле всё оказалось не так Под флагом заботы о водителях Стоимость полиса ОСАГО зависит от базового тарифа, который умножается на восемь коэффициентов: территориальный, аварийности (КБМ), опыта и стажа, мощности и так далее. В прошлом году вилка базового тарифа составляла 3432–4118, сейчас её раздвинули до 2746–4942 рублей — вилка эта определена законом об ОСАГО. То есть в теории можно найти полис, который ощутимо дешевле прошлогоднего. Реформу, поведённую Банком России, подают как шаг навстречу водителям: дескать, теперь страховые будут поощрять аккуратных клиентов с помощью сниженных тарифов. Вот как прокомментировал нововведения президент Российского союза автостраховщиков Игорь Юргенс: — Это первый и важный шаг на пути либерализации ОСАГО. В результате тарифы на обязательную автогражданку станут более справедливыми для автовладельцев, и безаварийные водители станут платить меньше. При этом автовладельцы с аварийным стажем получат мощный экономический стимул для того, чтобы меняться в лучшую сторону. Так может ли аккуратный водитель с большим безаварийным стажем надеяться сегодня на дисконты от страховых? Скидки не для всех Иллюзии рассыпались сразу. Мы обратились к директору одного из страховых агентств Кириллу Смолину с просьбой подобрать дешёвую страховку для взрослого, опытного водителя с безаварийным стажем более десяти лет, но всё оказалось не так просто: — Страховые не имеют возможности предлагать клиентам индивидуальные тарифы, поэтому базовая ставка выбирается из указанного коридора для каждой конкретной территории — города и области. Например, для нашего города у каждой страховой действует единый тариф, — пояснил специалист. Безаварийность по-прежнему отражает коэффициент бонус-малус (КБМ), который в пределе достигает 0,5 единицы, позволяя сэкономить до половины стоимости ОСАГО. Но для конкретного города базовый тариф будет одинаков для всех. Максимальный базовый тариф теперь близок к 5000 рублей, и многие страховые не упустили возможности поднять стоимость страховки Так сколько стоит ОСАГО Единого подхода к формированию тарифной сетки нет: каждая страховая выбрала базовые тарифы для конкретных городов и регионов, руководствуясь внутренней статистикой. По сути, расширение коридора базового тарифа стало дополнением к территориальному коэффициенту: теперь «невыгодным» городам можно поднять тариф до максимальной планки в без малого 5000 рублей. Причём, по нашим данным, подавляющее большинство крупных страховых либо оставили тарифы на прошлогоднем уровне, либо повысили: снижения до уровне ниже 3000 рублей нет, хотя такая возможность с 9 января имеется. «РЕСО-Гарантия» повысила тарифы ступенчато: для некоторых регионов — до умеренной планки 4393 рублей (Волгоградская, Ростовская, Челябинская области, Башкортостан, Татарстан), для других — до максимальных 4942 рубля (Новосибирская, Астраханская области, Воронежская области, Тыва, Хакасия, Удмуртия, Калмыкия, Чукотка, Камчатка). Есть регионы, где тарифы остались на уровне прежнего максимума в 4118 рублей, например Свердловская область и Екатеринбург, Москва, Санкт-Петербург. Страховое общество ВСК для большинства регионов оставило прошлогодний тариф — 4118 рублей и также поступил «Росгосстрах». «АльфаСтрахование» поменяло тарифы по сложной схеме, в результате неизменным или меньшим он стал в 37 территориях. Для 49 — страховка стала дороже. «Ингосстрах» оставил тарифы для всех регионов, кроме Санкт-Петербурга и двух традиционно невыгодных страховщикам областей — Мурманской и Челябинской. Для последней базовый тариф «Ингосстраха» ниже среднего и составляет 3912 рублей. Страховая группа СОГАЗ подошла к вопросу гибко, поэтому и тарифы для большинства регионов колеблются в диапазоне 3912 рублей (чуть ниже прошлогоднего максимума) до максимально возможных 4942 рублей — такую планку установили, например, в Челябинской, Ростовской, Новосибирской областях, Красноярском и Краснодарском краях. «АСКО Страхование» подняло тарифы в большинстве регионов, но в Челябинской области и близких к ней регионам сохранила ставку на прошлогоднем уровне в 4118 рубля. При этом для Кургана он возрос до 4530 рублей, а для некоторых городов Курганской области — до 4942. Как покупать автогражданку в 2019 году Если в прошлом году ценовой конкуренции между страховыми почти не было и базовый тариф выбирался на уровне четыре тысячи рублей, то теперь вилка действительно увеличилась: например, для автора этого материала итоговая стоимость полиса в «дорогой» и «дешёвой» компании колебалась в диапазоне от 5422 до 6850 рублей. Для владельцев более дорогих страховок разница будет ещё заметней, поэтому сегодня вполне разумно проанализировать предложения компаний в вашем регионе. Другое дело, что тарифы разных страховых могут постепенно выровняться с верхней планкой, как это случалось в прошлые годы. Планируете ли вы приобретать полис ОСАГО в этом году? Авторизируйтесь , чтобы проголосовать Опрос завершен Вы успешно проголосовали! Результаты будут опубликованы по завершении опроса. Да, как всегда Ещё не решил С этого года брошу Езжу без полиса год-два Давно без полиса К сожалению, ваш браузер сильно устарел и не поддерживает технологию голосования'"
      ]
     },
     "execution_count": 20,
     "metadata": {},
     "output_type": "execute_result"
    }
   ],
   "source": [
    "data_train[0]"
   ]
  },
  {
   "cell_type": "code",
   "execution_count": 21,
   "metadata": {},
   "outputs": [
    {
     "name": "stdout",
     "output_type": "stream",
     "text": [
      "(360, 45931)\n"
     ]
    }
   ],
   "source": [
    "vectorizer = TfidfVectorizer(stop_words=None, strip_accents='unicode')\n",
    "tfidf_train = vectorizer.fit_transform(data_train)\n",
    "\n",
    "print(tfidf_train.shape)"
   ]
  },
  {
   "cell_type": "code",
   "execution_count": 22,
   "metadata": {},
   "outputs": [
    {
     "data": {
      "text/plain": [
       "<360x45931 sparse matrix of type '<class 'numpy.float64'>'\n",
       "\twith 156417 stored elements in Compressed Sparse Row format>"
      ]
     },
     "execution_count": 22,
     "metadata": {},
     "output_type": "execute_result"
    }
   ],
   "source": []
  },
  {
   "cell_type": "code",
   "execution_count": 16,
   "metadata": {
    "collapsed": true
   },
   "outputs": [],
   "source": [
    "predictor = NearestNeighbors(n_neighbors=1, algorithm='brute', metric='cosine').fit(tfidf_train)"
   ]
  },
  {
   "cell_type": "code",
   "execution_count": 62,
   "metadata": {
    "collapsed": true
   },
   "outputs": [],
   "source": [
    "near = NearestNeighbors(n_neighbors=1, algorithm='brute', metric=\"euclidean\").fit(tfidf_train)"
   ]
  },
  {
   "cell_type": "code",
   "execution_count": 107,
   "metadata": {
    "collapsed": true
   },
   "outputs": [],
   "source": [
    "near_1 = NearestNeighbors(n_neighbors=1, algorithm='brute', metric=\"cityblock\").fit(tfidf_train)"
   ]
  },
  {
   "cell_type": "code",
   "execution_count": 27,
   "metadata": {
    "collapsed": true
   },
   "outputs": [],
   "source": [
    "request = \"Где в России с туристов начнут собирать деньги\""
   ]
  },
  {
   "cell_type": "code",
   "execution_count": 28,
   "metadata": {},
   "outputs": [
    {
     "name": "stdout",
     "output_type": "stream",
     "text": [
      "(1, 45931)\n"
     ]
    }
   ],
   "source": [
    "tfidf_test = vectorizer.transform([vectorizer.decode(request)])\n",
    "\n",
    "print(tfidf_test.shape)"
   ]
  },
  {
   "cell_type": "code",
   "execution_count": 29,
   "metadata": {},
   "outputs": [
    {
     "data": {
      "text/plain": [
       "{'мы': 20037,\n",
       " 'разобрались': 33676,\n",
       " 'можно': 19562,\n",
       " 'ли': 17695,\n",
       " 'купить': 17154,\n",
       " 'дешевую': 9599,\n",
       " 'страховку': 39353,\n",
       " 'по': 27145,\n",
       " 'новым': 22284,\n",
       " 'тарифам': 40107,\n",
       " 'начала': 21094,\n",
       " 'года': 8062,\n",
       " 'коридор': 16274,\n",
       " 'тарифов': 40113,\n",
       " 'осаго': 24267,\n",
       " 'расширили': 34299,\n",
       " 'на': 20101,\n",
       " '20': 294,\n",
       " 'вверх': 4761,\n",
       " 'вниз': 5716,\n",
       " 'это': 45645,\n",
       " 'дало': 8934,\n",
       " 'страховым': 39366,\n",
       " 'компаниям': 15859,\n",
       " 'выбор': 6804,\n",
       " 'оставить': 24492,\n",
       " 'цены': 44153,\n",
       " 'повысить': 27364,\n",
       " 'или': 13754,\n",
       " 'снизить': 37438,\n",
       " 'проанализировали': 31619,\n",
       " 'стоимость': 39202,\n",
       " 'полисов': 28632,\n",
       " 'регионах': 34434,\n",
       " 'россии': 35096,\n",
       " 'оказалось': 23618,\n",
       " 'что': 44695,\n",
       " 'наити': 20425,\n",
       " 'подешевле': 27674,\n",
       " 'деиствительно': 9276,\n",
       " 'тарифы': 40115,\n",
       " 'страховых': 39368,\n",
       " 'компании': 15856,\n",
       " 'отличаются': 24972,\n",
       " 'сильнее': 36489,\n",
       " 'чем': 44395,\n",
       " 'прошлом': 32754,\n",
       " 'году': 8081,\n",
       " 'гибкие': 7854,\n",
       " 'должны': 10166,\n",
       " 'были': 4498,\n",
       " 'наказать': 20435,\n",
       " 'аварииных': 1816,\n",
       " 'водителеи': 5777,\n",
       " 'но': 22189,\n",
       " 'деле': 9346,\n",
       " 'все': 6519,\n",
       " 'не': 21196,\n",
       " 'так': 40007,\n",
       " 'под': 27470,\n",
       " 'флагом': 43329,\n",
       " 'заботы': 11496,\n",
       " 'водителях': 5789,\n",
       " 'полиса': 28629,\n",
       " 'зависит': 11619,\n",
       " 'от': 24633,\n",
       " 'базового': 3029,\n",
       " 'тарифа': 40106,\n",
       " 'которыи': 16462,\n",
       " 'умножается': 42233,\n",
       " 'восемь': 6278,\n",
       " 'коэффициентов': 16507,\n",
       " 'территориальныи': 40417,\n",
       " 'аварииности': 1810,\n",
       " 'кбм': 15090,\n",
       " 'опыта': 24124,\n",
       " 'стажа': 38897,\n",
       " 'мощности': 19870,\n",
       " 'далее': 8921,\n",
       " 'вилка': 5407,\n",
       " 'составляла': 38207,\n",
       " '3432': 462,\n",
       " '4118': 515,\n",
       " 'сеичас': 36157,\n",
       " 'ее': 10854,\n",
       " 'раздвинули': 33505,\n",
       " 'до': 9886,\n",
       " '2746': 404,\n",
       " '4942': 558,\n",
       " 'рублеи': 35174,\n",
       " 'эта': 45612,\n",
       " 'определена': 24011,\n",
       " 'законом': 12007,\n",
       " 'об': 22478,\n",
       " 'то': 40607,\n",
       " 'есть': 10997,\n",
       " 'теории': 40338,\n",
       " 'полис': 28628,\n",
       " 'ощутимо': 25555,\n",
       " 'дешевле': 9595,\n",
       " 'прошлогоднего': 32747,\n",
       " 'реформу': 34788,\n",
       " 'поведенную': 27230,\n",
       " 'банком': 3155,\n",
       " 'подают': 27510,\n",
       " 'как': 14645,\n",
       " 'шаг': 44780,\n",
       " 'навстречу': 20207,\n",
       " 'водителям': 5787,\n",
       " 'дескать': 9506,\n",
       " 'теперь': 40340,\n",
       " 'страховые': 39365,\n",
       " 'будут': 4350,\n",
       " 'поощрять': 29098,\n",
       " 'аккуратных': 2246,\n",
       " 'клиентов': 15388,\n",
       " 'помощью': 29004,\n",
       " 'сниженных': 37431,\n",
       " 'вот': 6385,\n",
       " 'прокомментировал': 32193,\n",
       " 'нововведения': 22223,\n",
       " 'президент': 30532,\n",
       " 'россииского': 35104,\n",
       " 'союза': 38361,\n",
       " 'автостраховщиков': 2057,\n",
       " 'игорь': 13390,\n",
       " 'юргенс': 45730,\n",
       " 'первыи': 26085,\n",
       " 'важныи': 4583,\n",
       " 'пути': 33031,\n",
       " 'либерализации': 17696,\n",
       " 'результате': 34564,\n",
       " 'обязательную': 23288,\n",
       " 'автогражданку': 1910,\n",
       " 'станут': 38955,\n",
       " 'более': 3994,\n",
       " 'справедливыми': 38654,\n",
       " 'для': 9847,\n",
       " 'автовладельцев': 1903,\n",
       " 'безаварииные': 3324,\n",
       " 'водители': 5779,\n",
       " 'платить': 27002,\n",
       " 'меньше': 18957,\n",
       " 'при': 30712,\n",
       " 'этом': 45648,\n",
       " 'автовладельцы': 1905,\n",
       " 'аварииным': 1814,\n",
       " 'стажем': 38898,\n",
       " 'получат': 28819,\n",
       " 'мощныи': 19875,\n",
       " 'экономическии': 45323,\n",
       " 'стимул': 39167,\n",
       " 'того': 40628,\n",
       " 'чтобы': 44698,\n",
       " 'меняться': 18976,\n",
       " 'лучшую': 18084,\n",
       " 'сторону': 39268,\n",
       " 'может': 19558,\n",
       " 'аккуратныи': 2244,\n",
       " 'водитель': 5780,\n",
       " 'большим': 4067,\n",
       " 'безаварииным': 3325,\n",
       " 'надеяться': 20290,\n",
       " 'сегодня': 36117,\n",
       " 'дисконты': 9775,\n",
       " 'скидки': 36714,\n",
       " 'всех': 6556,\n",
       " 'иллюзии': 13755,\n",
       " 'рассыпались': 34203,\n",
       " 'сразу': 38757,\n",
       " 'обратились': 22917,\n",
       " 'директору': 9759,\n",
       " 'одного': 23472,\n",
       " 'из': 13497,\n",
       " 'агентств': 2081,\n",
       " 'кириллу': 15271,\n",
       " 'смолину': 37296,\n",
       " 'просьбои': 32511,\n",
       " 'подобрать': 27803,\n",
       " 'взрослого': 5243,\n",
       " 'опытного': 24126,\n",
       " 'водителя': 5786,\n",
       " 'десяти': 9510,\n",
       " 'лет': 17621,\n",
       " 'просто': 32458,\n",
       " 'имеют': 13797,\n",
       " 'возможности': 5982,\n",
       " 'предлагать': 30238,\n",
       " 'клиентам': 15386,\n",
       " 'индивидуальные': 13894,\n",
       " 'поэтому': 29968,\n",
       " 'базовая': 3028,\n",
       " 'ставка': 38865,\n",
       " 'выбирается': 6789,\n",
       " 'указанного': 42006,\n",
       " 'коридора': 16275,\n",
       " 'каждои': 14597,\n",
       " 'конкретнои': 15990,\n",
       " 'территории': 40420,\n",
       " 'города': 8259,\n",
       " 'области': 22652,\n",
       " 'например': 20710,\n",
       " 'нашего': 21168,\n",
       " 'страховои': 39356,\n",
       " 'деиствует': 9291,\n",
       " 'единыи': 10845,\n",
       " 'тариф': 40105,\n",
       " 'пояснил': 29994,\n",
       " 'специалист': 38445,\n",
       " 'безаварииность': 3323,\n",
       " 'прежнему': 30518,\n",
       " 'отражает': 25199,\n",
       " 'коэффициент': 16505,\n",
       " 'бонус': 4101,\n",
       " 'малус': 18403,\n",
       " 'пределе': 30217,\n",
       " 'достигает': 10419,\n",
       " 'единицы': 10817,\n",
       " 'позволяя': 28261,\n",
       " 'сэкономить': 39942,\n",
       " 'половины': 28721,\n",
       " 'стоимости': 39201,\n",
       " 'конкретного': 15988,\n",
       " 'базовыи': 3033,\n",
       " 'будет': 4336,\n",
       " 'одинаков': 23438,\n",
       " 'максимальныи': 18336,\n",
       " 'близок': 3828,\n",
       " '5000': 571,\n",
       " 'многие': 19444,\n",
       " 'упустили': 42403,\n",
       " 'поднять': 27786,\n",
       " 'страховки': 39352,\n",
       " 'сколько': 36771,\n",
       " 'стоит': 39204,\n",
       " 'единого': 10822,\n",
       " 'подхода': 28065,\n",
       " 'формированию': 43408,\n",
       " 'тарифнои': 40111,\n",
       " 'сетки': 36399,\n",
       " 'нет': 21928,\n",
       " 'каждая': 14593,\n",
       " 'страховая': 39350,\n",
       " 'выбрала': 6816,\n",
       " 'базовые': 3032,\n",
       " 'конкретных': 15994,\n",
       " 'городов': 8276,\n",
       " 'регионов': 34437,\n",
       " 'руководствуясь': 35229,\n",
       " 'внутреннеи': 5747,\n",
       " 'статистикои': 39060,\n",
       " 'сути': 39723,\n",
       " 'расширение': 34294,\n",
       " 'стало': 38919,\n",
       " 'дополнением': 10272,\n",
       " 'территориальному': 40415,\n",
       " 'коэффициенту': 16508,\n",
       " 'невыгодным': 21283,\n",
       " 'городам': 8260,\n",
       " 'максимальнои': 18332,\n",
       " 'планки': 26950,\n",
       " 'без': 3321,\n",
       " 'малого': 18383,\n",
       " 'причем': 31568,\n",
       " 'нашим': 21177,\n",
       " 'данным': 8986,\n",
       " 'подавляющее': 27483,\n",
       " 'большинство': 4071,\n",
       " 'крупных': 16924,\n",
       " 'либо': 17697,\n",
       " 'оставили': 24489,\n",
       " 'прошлогоднем': 32749,\n",
       " 'уровне': 42436,\n",
       " 'повысили': 27361,\n",
       " 'снижения': 37428,\n",
       " 'ниже': 22058,\n",
       " '3000': 426,\n",
       " 'хотя': 43924,\n",
       " 'такая': 40008,\n",
       " 'возможность': 5983,\n",
       " 'января': 45846,\n",
       " 'имеется': 13779,\n",
       " 'ресо': 34743,\n",
       " 'гарантия': 7716,\n",
       " 'повысила': 27359,\n",
       " 'ступенчато': 39531,\n",
       " 'некоторых': 21543,\n",
       " 'умереннои': 42210,\n",
       " '4393': 531,\n",
       " 'волгоградская': 6121,\n",
       " 'ростовская': 35131,\n",
       " 'челябинская': 44391,\n",
       " 'башкортостан': 3265,\n",
       " 'татарстан': 40129,\n",
       " 'других': 10574,\n",
       " 'максимальных': 18338,\n",
       " 'рубля': 35180,\n",
       " 'новосибирская': 22262,\n",
       " 'астраханская': 2845,\n",
       " 'воронежская': 6246,\n",
       " 'тыва': 41419,\n",
       " 'хакасия': 43635,\n",
       " 'удмуртия': 41862,\n",
       " 'калмыкия': 14687,\n",
       " 'чукотка': 44756,\n",
       " 'камчатка': 14736,\n",
       " 'регионы': 34440,\n",
       " 'где': 7748,\n",
       " 'остались': 24519,\n",
       " 'прежнего': 30515,\n",
       " 'максимума': 18345,\n",
       " 'свердловская': 35760,\n",
       " 'область': 22664,\n",
       " 'екатеринбург': 10895,\n",
       " 'москва': 19773,\n",
       " 'санкт': 35590,\n",
       " 'петербург': 26662,\n",
       " 'страховое': 39355,\n",
       " 'общество': 23139,\n",
       " 'вск': 6558,\n",
       " 'большинства': 4069,\n",
       " 'оставило': 24490,\n",
       " 'прошлогоднии': 32750,\n",
       " 'также': 40009,\n",
       " 'поступил': 29660,\n",
       " 'росгосстрах': 35072,\n",
       " 'альфастрахование': 2413,\n",
       " 'поменяло': 28922,\n",
       " 'сложнои': 37071,\n",
       " 'схеме': 39802,\n",
       " 'неизменным': 21497,\n",
       " 'меньшим': 18962,\n",
       " 'он': 23826,\n",
       " 'стал': 38906,\n",
       " '37': 475,\n",
       " 'территориях': 40425,\n",
       " '49': 556,\n",
       " 'страховка': 39351,\n",
       " 'стала': 38907,\n",
       " 'дороже': 10351,\n",
       " 'ингосстрах': 13875,\n",
       " 'оставил': 24486,\n",
       " 'кроме': 16828,\n",
       " 'петербурга': 26663,\n",
       " 'двух': 9141,\n",
       " 'традиционно': 40880,\n",
       " 'невыгодных': 21284,\n",
       " 'страховщикам': 39361,\n",
       " 'областеи': 22651,\n",
       " 'мурманскои': 19992,\n",
       " 'челябинскои': 44394,\n",
       " 'последнеи': 29438,\n",
       " 'ингосстраха': 13876,\n",
       " 'среднего': 38771,\n",
       " 'составляет': 38205,\n",
       " '3912': 492,\n",
       " 'группа': 8760,\n",
       " 'согаз': 37749,\n",
       " 'подошла': 27865,\n",
       " 'вопросу': 6231,\n",
       " 'гибко': 7856,\n",
       " 'колеблются': 15572,\n",
       " 'диапазоне': 9679,\n",
       " 'чуть': 44765,\n",
       " 'максимально': 18330,\n",
       " 'возможных': 5992,\n",
       " 'такую': 40038,\n",
       " 'планку': 26952,\n",
       " 'установили': 42612,\n",
       " 'ростовскои': 35134,\n",
       " 'новосибирскои': 22264,\n",
       " 'областях': 22666,\n",
       " 'красноярском': 16604,\n",
       " 'краснодарском': 16587,\n",
       " 'краях': 16649,\n",
       " 'аско': 2825,\n",
       " 'страхование': 39348,\n",
       " 'подняло': 27777,\n",
       " 'большинстве': 4070,\n",
       " 'близких': 3818,\n",
       " 'неи': 21474,\n",
       " 'регионам': 34432,\n",
       " 'сохранила': 38300,\n",
       " 'ставку': 38870,\n",
       " 'кургана': 17177,\n",
       " 'возрос': 6066,\n",
       " '4530': 541,\n",
       " 'курганскои': 17179,\n",
       " 'покупать': 28534,\n",
       " '2019': 316,\n",
       " 'если': 10983,\n",
       " 'ценовои': 44122,\n",
       " 'конкуренции': 16002,\n",
       " 'между': 18888,\n",
       " 'страховыми': 39367,\n",
       " 'почти': 29938,\n",
       " 'было': 4500,\n",
       " 'выбирался': 6792,\n",
       " 'четыре': 44531,\n",
       " 'тысячи': 41431,\n",
       " 'увеличилась': 41617,\n",
       " 'автора': 2019,\n",
       " 'этого': 45646,\n",
       " 'материала': 18681,\n",
       " 'итоговая': 14507,\n",
       " 'дорогои': 10342,\n",
       " 'дешевои': 9598,\n",
       " 'колебалась': 15566,\n",
       " '5422': 586,\n",
       " '6850': 636,\n",
       " 'владельцев': 5574,\n",
       " 'дорогих': 10336,\n",
       " 'страховок': 39357,\n",
       " 'разница': 33638,\n",
       " 'еще': 11012,\n",
       " 'заметнеи': 12211,\n",
       " 'вполне': 6440,\n",
       " 'разумно': 33808,\n",
       " 'проанализировать': 31620,\n",
       " 'предложения': 30251,\n",
       " 'вашем': 4731,\n",
       " 'регионе': 34435,\n",
       " 'другое': 10576,\n",
       " 'дело': 9361,\n",
       " 'разных': 33672,\n",
       " 'могут': 19522,\n",
       " 'постепенно': 29579,\n",
       " 'выровняться': 7339,\n",
       " 'верхнеи': 5032,\n",
       " 'планкои': 26951,\n",
       " 'случалось': 37146,\n",
       " 'прошлые': 32757,\n",
       " 'годы': 8082,\n",
       " 'планируете': 26942,\n",
       " 'вы': 6778,\n",
       " 'приобретать': 31322,\n",
       " 'авторизируитесь': 2025,\n",
       " 'проголосовать': 31834,\n",
       " 'опрос': 24065,\n",
       " 'завершен': 11587,\n",
       " 'успешно': 42566,\n",
       " 'проголосовали': 31833,\n",
       " 'результаты': 34568,\n",
       " 'опубликованы': 24108,\n",
       " 'завершении': 11589,\n",
       " 'опроса': 24066,\n",
       " 'да': 8876,\n",
       " 'всегда': 6523,\n",
       " 'решил': 34845,\n",
       " 'брошу': 4287,\n",
       " 'езжу': 10891,\n",
       " 'год': 8061,\n",
       " 'два': 9036,\n",
       " 'давно': 8894,\n",
       " 'сожалению': 37813,\n",
       " 'ваш': 4726,\n",
       " 'браузер': 4199,\n",
       " 'сильно': 36493,\n",
       " 'устарел': 42636,\n",
       " 'поддерживает': 27639,\n",
       " 'технологию': 40515,\n",
       " 'голосования': 8128,\n",
       " 'недорогои': 21367,\n",
       " 'метровыи': 19116,\n",
       " 'минивэн': 19266,\n",
       " 'везет': 4857,\n",
       " 'кучу': 17275,\n",
       " 'вещеи': 5176,\n",
       " 'расходует': 34258,\n",
       " 'литров': 17827,\n",
       " 'городе': 8263,\n",
       " 'citroen': 956,\n",
       " 'spacetourer': 1561,\n",
       " 'является': 45778,\n",
       " 'аналогом': 2475,\n",
       " 'соплатформенного': 38055,\n",
       " 'peugeot': 1427,\n",
       " 'traveller': 1640,\n",
       " 'посмотрим': 29484,\n",
       " 'ездит': 10884,\n",
       " 'какои': 14657,\n",
       " 'комфорт': 15933,\n",
       " 'предоставляет': 30301,\n",
       " 'кому': 15932,\n",
       " 'вообще': 6210,\n",
       " 'понадобиться': 29021,\n",
       " 'такое': 40025,\n",
       " 'авто': 1873,\n",
       " 'подробности': 27924,\n",
       " 'тест': 40452,\n",
       " 'драиве': 10525,\n",
       " 'редактора': 34488,\n",
       " 'нгс': 21192,\n",
       " 'дмитрия': 9857,\n",
       " 'косенко': 16367,\n",
       " 'длина': 9820,\n",
       " 'автомобиля': 1989,\n",
       " 'пять': 33160,\n",
       " 'метров': 19112,\n",
       " 'ездить': 10885,\n",
       " 'тесному': 40449,\n",
       " 'городу': 8291,\n",
       " 'поначалу': 29026,\n",
       " 'показаться': 28417,\n",
       " 'трудным': 41220,\n",
       " 'особенно': 24437,\n",
       " 'парковаться': 25801,\n",
       " 'ведь': 4839,\n",
       " 'зато': 12731,\n",
       " 'отличныи': 24988,\n",
       " 'обзор': 22599,\n",
       " 'высокая': 7387,\n",
       " 'посадка': 29361,\n",
       " 'видишь': 5361,\n",
       " 'транспортныи': 40959,\n",
       " 'поток': 29753,\n",
       " 'далеко': 8928,\n",
       " 'перед': 26187,\n",
       " 'собои': 37576,\n",
       " 'ситроеновскии': 36588,\n",
       " 'сплющенныи': 38549,\n",
       " 'нос': 22354,\n",
       " 'большие': 4065,\n",
       " 'фары': 43085,\n",
       " 'делают': 9343,\n",
       " 'автомобиль': 1979,\n",
       " 'похожим': 29879,\n",
       " 'упитанного': 42331,\n",
       " 'головастика': 8096,\n",
       " 'белыи': 3454,\n",
       " 'цвет': 44048,\n",
       " 'черные': 44466,\n",
       " 'окна': 23652,\n",
       " 'различимые': 33567,\n",
       " 'границы': 8590,\n",
       " 'двереи': 9047,\n",
       " 'подчеркивают': 28087,\n",
       " 'длину': 9834,\n",
       " 'минивэна': 19267,\n",
       " 'сзади': 36421,\n",
       " 'типичныи': 40561,\n",
       " 'грузовои': 8742,\n",
       " 'квадратныи': 15097,\n",
       " 'брусок': 4293,\n",
       " 'лишь': 17903,\n",
       " 'бы': 4471,\n",
       " 'был': 4496,\n",
       " 'повместимее': 27276,\n",
       " 'передняя': 26241,\n",
       " 'панель': 25702,\n",
       " 'пухлая': 33040,\n",
       " 'пластик': 26970,\n",
       " 'жесткии': 11184,\n",
       " 'повсюду': 27334,\n",
       " 'впрочем': 6449,\n",
       " 'выглядит': 6888,\n",
       " 'прилично': 31176,\n",
       " 'кожаныи': 15531,\n",
       " 'руль': 35248,\n",
       " 'черными': 44468,\n",
       " 'блоками': 3847,\n",
       " 'кнопок': 15470,\n",
       " 'освежает': 24279,\n",
       " 'его': 10797,\n",
       " 'только': 40665,\n",
       " 'логотип': 17937,\n",
       " 'одна': 23463,\n",
       " 'вставка': 6610,\n",
       " 'металл': 19060,\n",
       " 'сиденья': 36451,\n",
       " 'тканевые': 40597,\n",
       " 'меру': 19008,\n",
       " 'приятные': 31613,\n",
       " 'плотные': 27084,\n",
       " 'проблем': 31646,\n",
       " 'доставляет': 10396,\n",
       " 'боковои': 3982,\n",
       " 'поддержкои': 27650,\n",
       " 'тоже': 40630,\n",
       " 'неплохо': 21708,\n",
       " 'таки': 40010,\n",
       " 'удобен': 41865,\n",
       " 'подлокотник': 27735,\n",
       " 'прикрученныи': 31134,\n",
       " 'спинке': 38513,\n",
       " 'подлиннее': 27730,\n",
       " 'мультимедииная': 19957,\n",
       " 'система': 36574,\n",
       " 'назвать': 20351,\n",
       " 'представлена': 30415,\n",
       " 'маленьким': 18364,\n",
       " 'монохромным': 19701,\n",
       " 'экранчиком': 45338,\n",
       " 'набором': 20143,\n",
       " 'черных': 44469,\n",
       " 'послушать': 29468,\n",
       " 'радио': 33262,\n",
       " 'подключить': 27705,\n",
       " 'телефон': 40255,\n",
       " 'покопаться': 28474,\n",
       " 'немногочисленных': 21600,\n",
       " 'настроиках': 20948,\n",
       " 'звук': 12995,\n",
       " 'кстати': 16986,\n",
       " 'неплох': 21705,\n",
       " 'стильные': 39163,\n",
       " 'многоугольные': 19478,\n",
       " 'шкалы': 44977,\n",
       " 'приборнои': 30746,\n",
       " 'панели': 25701,\n",
       " 'та': 39960,\n",
       " 'же': 11072,\n",
       " 'проблема': 31647,\n",
       " 'разноразмерные': 33657,\n",
       " 'цифры': 44231,\n",
       " 'спидометре': 38504,\n",
       " 'мечтаете': 19138,\n",
       " 'range': 1462,\n",
       " 'rover': 1494,\n",
       " 'ситроена': 36587,\n",
       " 'кое': 15526,\n",
       " 'него': 21309,\n",
       " 'шаиба': 44789,\n",
       " 'селектора': 36193,\n",
       " 'акп': 2248,\n",
       " 'стильная': 39162,\n",
       " 'удобная': 41866,\n",
       " 'ряда': 35373,\n",
       " 'кресел': 16715,\n",
       " 'мест': 19017,\n",
       " 'подлокотников': 27737,\n",
       " 'здесь': 13014,\n",
       " 'уже': 41938,\n",
       " 'регулировать': 34464,\n",
       " 'наклон': 20468,\n",
       " 'спинки': 38514,\n",
       " 'целом': 44086,\n",
       " 'просторно': 32469,\n",
       " 'сдвижные': 36046,\n",
       " 'двери': 9048,\n",
       " 'электропривода': 45481,\n",
       " 'ручками': 35290,\n",
       " 'багажнои': 3004,\n",
       " 'она': 23827,\n",
       " 'тяжелая': 41465,\n",
       " 'раскладываем': 33928,\n",
       " 'оба': 22479,\n",
       " 'сидении': 36448,\n",
       " 'получаем': 28811,\n",
       " '3968': 497,\n",
       " 'объема': 23193,\n",
       " 'настоящии': 20933,\n",
       " 'грузовик': 8733,\n",
       " '150': 95,\n",
       " 'сильного': 36494,\n",
       " 'дизеля': 9711,\n",
       " 'хватает': 43690,\n",
       " 'уверенного': 41628,\n",
       " 'разгона': 33479,\n",
       " 'ускорении': 42504,\n",
       " 'перестроении': 26524,\n",
       " 'жужжит': 11368,\n",
       " 'вибрирует': 5303,\n",
       " 'конечно': 15977,\n",
       " 'поделать': 27654,\n",
       " 'дизель': 9704,\n",
       " 'автомат': 1950,\n",
       " 'хорош': 43891,\n",
       " 'своими': 35919,\n",
       " 'быстрыми': 4513,\n",
       " 'переключениями': 26307,\n",
       " 'отсутствием': 25292,\n",
       " 'толчков': 40658,\n",
       " 'правильным': 30035,\n",
       " 'выбором': 6811,\n",
       " 'пониженнои': 29041,\n",
       " 'повышеннои': 27378,\n",
       " 'передачи': 26207,\n",
       " 'шумоизоляция': 45158,\n",
       " 'звуковои': 12998,\n",
       " 'фон': 43369,\n",
       " 'грани': 8577,\n",
       " 'некомфортных': 21532,\n",
       " 'ощущении': 25567,\n",
       " 'кузов': 17048,\n",
       " 'днище': 9873,\n",
       " 'собирают': 37560,\n",
       " 'себя': 36091,\n",
       " 'возможные': 5990,\n",
       " 'шумы': 45159,\n",
       " 'жидкии': 11267,\n",
       " 'размазанныи': 33578,\n",
       " 'ноль': 22305,\n",
       " 'приводят': 30857,\n",
       " 'тому': 40676,\n",
       " 'шоссе': 45063,\n",
       " 'плохо': 27095,\n",
       " 'чувствуешь': 44721,\n",
       " 'иногда': 13947,\n",
       " 'подруливаешь': 27949,\n",
       " 'перестраиваться': 26519,\n",
       " 'приходится': 31543,\n",
       " 'ощупь': 25551,\n",
       " 'слабое': 36881,\n",
       " 'реактивное': 34345,\n",
       " 'деиствие': 9273,\n",
       " 'баранку': 3176,\n",
       " 'надо': 20302,\n",
       " 'самому': 35527,\n",
       " 'раскручивать': 33954,\n",
       " 'назад': 20332,\n",
       " 'после': 29434,\n",
       " 'поворота': 27304,\n",
       " 'неровности': 21847,\n",
       " 'проходит': 32655,\n",
       " 'комфортно': 15940,\n",
       " 'практически': 30130,\n",
       " 'проплывает': 32337,\n",
       " 'острые': 24597,\n",
       " 'ямы': 45838,\n",
       " 'равно': 33222,\n",
       " 'отзываются': 24832,\n",
       " 'ударами': 41782,\n",
       " 'удивление': 41847,\n",
       " 'такои': 40026,\n",
       " 'габаритнои': 7599,\n",
       " 'высокои': 7396,\n",
       " 'машины': 18763,\n",
       " 'спокоиные': 38560,\n",
       " 'крены': 16699,\n",
       " 'реагируя': 34344,\n",
       " 'фотографию': 43465,\n",
       " 'mazda': 1306,\n",
       " 'которую': 16460,\n",
       " 'выложил': 7131,\n",
       " 'соцсети': 38337,\n",
       " 'один': 23437,\n",
       " 'подписчиков': 27884,\n",
       " 'спросил': 38700,\n",
       " 'мол': 19588,\n",
       " 'едет': 10810,\n",
       " 'рестаилинговая': 34758,\n",
       " 'версия': 5004,\n",
       " 'овощем': 23305,\n",
       " 'меня': 18966,\n",
       " 'признаться': 31072,\n",
       " 'постановка': 29554,\n",
       " 'вопроса': 6224,\n",
       " 'озадачила': 23556,\n",
       " 'потому': 29765,\n",
       " 'своем': 35909,\n",
       " 'классе': 15345,\n",
       " 'была': 4497,\n",
       " 'этаким': 45623,\n",
       " 'антиовощем': 2572,\n",
       " 'подумать': 28053,\n",
       " 'позже': 28298,\n",
       " 'выяснилось': 7570,\n",
       " 'подписчик': 27883,\n",
       " 'прав': 30006,\n",
       " 'прошла': 32742,\n",
       " 'третии': 41068,\n",
       " 'рестаилинг': 34757,\n",
       " 'конца': 16157,\n",
       " 'прошлого': 32746,\n",
       " 'обновленная': 22749,\n",
       " 'модель': 19527,\n",
       " 'выпускается': 7272,\n",
       " 'дальнем': 8948,\n",
       " 'востоке': 6354,\n",
       " 'этот': 45650,\n",
       " 'раз': 33298,\n",
       " 'самыи': 35569,\n",
       " 'основательныи': 24417,\n",
       " 'изменения': 13636,\n",
       " 'внешности': 5712,\n",
       " 'проще': 32771,\n",
       " 'всего': 6525,\n",
       " 'разглядеть': 33459,\n",
       " 'терке': 40388,\n",
       " 'радиаторнои': 33249,\n",
       " 'решетки': 34839,\n",
       " 'сменившеи': 37218,\n",
       " 'прежние': 30519,\n",
       " 'жалюзи': 11038,\n",
       " 'внутренние': 5749,\n",
       " 'коснулись': 16395,\n",
       " 'шасси': 44848,\n",
       " 'двигателеи': 9059,\n",
       " 'самое': 35504,\n",
       " 'заметное': 12213,\n",
       " 'изменение': 13634,\n",
       " 'внешне': 5702,\n",
       " 'ячеистая': 45924,\n",
       " 'решетка': 34837,\n",
       " 'радиатора': 33248,\n",
       " 'компоновке': 15905,\n",
       " 'со': 37514,\n",
       " 'смещеннои': 37272,\n",
       " 'кабинои': 14556,\n",
       " 'чувствуется': 44720,\n",
       " 'желание': 11081,\n",
       " 'добиться': 9924,\n",
       " 'справедливои': 38651,\n",
       " 'развесовки': 33388,\n",
       " 'осям': 24632,\n",
       " 'быть': 4526,\n",
       " 'относится': 25073,\n",
       " 'самым': 35570,\n",
       " 'практичным': 30138,\n",
       " 'игрокам': 13418,\n",
       " 'сегмента': 36114,\n",
       " 'обе': 22530,\n",
       " 'версии': 5002,\n",
       " 'атмосферными': 2889,\n",
       " 'моторами': 19823,\n",
       " 'skyactiv': 1544,\n",
       " '194': 234,\n",
       " 'потеряли': 29735,\n",
       " 'динамике': 9741,\n",
       " 'заметно': 12212,\n",
       " 'случае': 37134,\n",
       " 'младшим': 19426,\n",
       " 'мотором': 19830,\n",
       " 'время': 6502,\n",
       " '100': 19,\n",
       " 'км': 15454,\n",
       " 'час': 44280,\n",
       " '11': 32,\n",
       " 'секунд': 36181,\n",
       " 'единицу': 10816,\n",
       " '13': 58,\n",
       " 'снизилась': 37432,\n",
       " 'степень': 39145,\n",
       " 'сжатия': 36414,\n",
       " 'делает': 9329,\n",
       " 'двигатель': 9062,\n",
       " 'менее': 18951,\n",
       " 'чувствительным': 44710,\n",
       " 'октановому': 23733,\n",
       " 'числу': 44596,\n",
       " 'получил': 28844,\n",
       " 'обновленные': 22754,\n",
       " 'атмосферники': 2882,\n",
       " 'семеиства': 36223,\n",
       " 'версиями': 5005,\n",
       " 'v6': 1661,\n",
       " 'конкурентов': 15999,\n",
       " 'турбодвигатель': 41307,\n",
       " 'получается': 28813,\n",
       " 'шагнула': 44783,\n",
       " 'экологам': 45296,\n",
       " 'прагматикам': 30089,\n",
       " 'теми': 40292,\n",
       " 'кто': 16999,\n",
       " 'видел': 5312,\n",
       " 'шестерке': 44920,\n",
       " 'прежде': 30513,\n",
       " 'пошла': 29952,\n",
       " 'радикальныи': 33260,\n",
       " 'ход': 43778,\n",
       " 'добавив': 9887,\n",
       " 'турбоверсию': 41305,\n",
       " 'литровым': 17830,\n",
       " 'мощностью': 19872,\n",
       " '231': 358,\n",
       " 'использовался': 14321,\n",
       " 'основном': 24423,\n",
       " 'кроссоверах': 16839,\n",
       " 'марки': 18535,\n",
       " 'старшии': 39047,\n",
       " 'атмосферников': 2883,\n",
       " 'ускоряет': 42508,\n",
       " 'шестерку': 44922,\n",
       " 'за': 11405,\n",
       " 'секунды': 36185,\n",
       " 'наддувная': 20263,\n",
       " 'укладывается': 42033,\n",
       " 'разгон': 33478,\n",
       " 'лихим': 17843,\n",
       " 'падение': 25605,\n",
       " 'пропасть': 32322,\n",
       " 'нынешнем': 22455,\n",
       " 'поколении': 28470,\n",
       " 'сегменту': 36116,\n",
       " 'новои': 22238,\n",
       " 'toyota': 1634,\n",
       " 'camry': 934,\n",
       " 'правда': 30011,\n",
       " 'мотор': 19821,\n",
       " 'заказать': 11913,\n",
       " 'топовои': 40719,\n",
       " 'executive': 1052,\n",
       " 'plus': 1436,\n",
       " 'говорить': 8048,\n",
       " 'поставили': 29524,\n",
       " 'именно': 13793,\n",
       " 'машину': 18762,\n",
       " 'оснащенную': 24400,\n",
       " 'пакетом': 25629,\n",
       " 'электронных': 45472,\n",
       " 'помощников': 29001,\n",
       " 'водителю': 5785,\n",
       " 'цена': 44102,\n",
       " '355': 470,\n",
       " 'миллиона': 19222,\n",
       " 'доплатить': 10268,\n",
       " 'модныи': 19546,\n",
       " 'навигационную': 20187,\n",
       " 'систему': 36582,\n",
       " 'остальном': 24524,\n",
       " 'полныи': 28714,\n",
       " 'фарш': 43084,\n",
       " 'интерьер': 14074,\n",
       " 'новыи': 22282,\n",
       " 'архитектура': 2812,\n",
       " 'сохранилась': 38301,\n",
       " 'деталировка': 9530,\n",
       " 'другая': 10569,\n",
       " 'управление': 42367,\n",
       " 'мультимедиинои': 19959,\n",
       " 'системои': 36581,\n",
       " 'круглым': 16872,\n",
       " 'манипулятором': 18470,\n",
       " 'такие': 40011,\n",
       " 'любят': 18179,\n",
       " 'ставить': 38864,\n",
       " 'премиальные': 30585,\n",
       " 'пакете': 25621,\n",
       " 'опции': 24120,\n",
       " 'кругового': 16874,\n",
       " 'обзора': 22600,\n",
       " 'разрешение': 33754,\n",
       " 'камеры': 14724,\n",
       " 'идеальное': 13444,\n",
       " 'маневрировании': 18456,\n",
       " 'снегу': 37385,\n",
       " 'порои': 29268,\n",
       " 'сложно': 37069,\n",
       " 'понять': 29081,\n",
       " 'пенек': 26020,\n",
       " 'грязныи': 8799,\n",
       " 'след': 36926,\n",
       " 'двухзонныи': 9143,\n",
       " 'климат': 15395,\n",
       " 'контроль': 16118,\n",
       " 'даже': 8912,\n",
       " 'базовои': 3030,\n",
       " 'drive': 1021,\n",
       " 'приборы': 30748,\n",
       " 'лишились': 17893,\n",
       " 'колодцев': 15641,\n",
       " 'выглядят': 6891,\n",
       " 'впечатляюще': 6427,\n",
       " 'активнои': 2273,\n",
       " 'спидометра': 38503,\n",
       " 'снимке': 37463,\n",
       " '40': 507,\n",
       " 'акцентированы': 2305,\n",
       " 'ярким': 45869,\n",
       " 'шрифтом': 45077,\n",
       " 'проекционныи': 32035,\n",
       " 'дисплеи': 9794,\n",
       " 'выводит': 6863,\n",
       " 'наиболее': 20394,\n",
       " 'важную': 4580,\n",
       " 'информацию': 14129,\n",
       " 'лобовое': 17911,\n",
       " 'стекло': 39094,\n",
       " '2006': 302,\n",
       " 'первое': 26061,\n",
       " 'поколение': 28469,\n",
       " 'выпускалось': 7274,\n",
       " 'мощным': 19876,\n",
       " 'турбомотором': 41310,\n",
       " 'зажигательнои': 11877,\n",
       " 'mps': 1338,\n",
       " 'ум': 42183,\n",
       " 'приходят': 31548,\n",
       " 'параллели': 25767,\n",
       " 'шестерка': 44919,\n",
       " 'вроде': 6506,\n",
       " 'лаит': 17350,\n",
       " 'тои': 40631,\n",
       " 'ракеты': 33860,\n",
       " 'тем': 40281,\n",
       " 'нее': 21392,\n",
       " 'роскошные': 35080,\n",
       " 'колеса': 15583,\n",
       " 'низкии': 22107,\n",
       " 'хрип': 43963,\n",
       " 'выхлопнои': 7504,\n",
       " 'системы': 36583,\n",
       " 'разгоне': 33480,\n",
       " 'концепция': 16169,\n",
       " 'иная': 13855,\n",
       " 'во': 5764,\n",
       " 'первых': 26088,\n",
       " 'мощнее': 19866,\n",
       " '270': 402,\n",
       " ...}"
      ]
     },
     "execution_count": 29,
     "metadata": {},
     "output_type": "execute_result"
    }
   ],
   "source": [
    "vectorizer.vocabulary_"
   ]
  },
  {
   "cell_type": "code",
   "execution_count": 30,
   "metadata": {},
   "outputs": [
    {
     "name": "stdout",
     "output_type": "stream",
     "text": [
      "  (0, 41344)\t0.477719078038\n",
      "  (0, 37557)\t0.564804426715\n",
      "  (0, 35096)\t0.224974509771\n",
      "  (0, 21163)\t0.503216404834\n",
      "  (0, 9413)\t0.340148048695\n",
      "  (0, 7748)\t0.182316940709\n"
     ]
    }
   ],
   "source": [
    "print(tfidf_test)"
   ]
  },
  {
   "cell_type": "code",
   "execution_count": 31,
   "metadata": {},
   "outputs": [
    {
     "name": "stdout",
     "output_type": "stream",
     "text": [
      "41344 туристов\n",
      "37557 собирать\n",
      "35096 россии\n",
      "21163 начнут\n",
      "9413 деньги\n",
      "7748 где\n"
     ]
    }
   ],
   "source": [
    "for i in tfidf_test.indices:\n",
    "    print(str(i) + \" \" + str(vectorizer.get_feature_names()[i]))"
   ]
  },
  {
   "cell_type": "code",
   "execution_count": 96,
   "metadata": {
    "collapsed": true
   },
   "outputs": [],
   "source": [
    "distances, inds_pred = predictor.kneighbors(tfidf_test, n_neighbors=13)"
   ]
  },
  {
   "cell_type": "code",
   "execution_count": 90,
   "metadata": {
    "collapsed": true
   },
   "outputs": [],
   "source": [
    "distances_1, inds_pred_1 = near.kneighbors(tfidf_test, n_neighbors=13)"
   ]
  },
  {
   "cell_type": "code",
   "execution_count": 108,
   "metadata": {
    "collapsed": true
   },
   "outputs": [],
   "source": [
    "distances_2, inds_pred_2 = near_1.kneighbors(tfidf_test, n_neighbors=13)"
   ]
  },
  {
   "cell_type": "code",
   "execution_count": 109,
   "metadata": {
    "collapsed": true
   },
   "outputs": [],
   "source": [
    "distances = np.squeeze(distances)\n",
    "inds_pred = np.squeeze(inds_pred)\n",
    "distances_1 = np.squeeze(distances_2)\n",
    "inds_pred_1 = np.squeeze(inds_pred_2)"
   ]
  },
  {
   "cell_type": "code",
   "execution_count": 110,
   "metadata": {},
   "outputs": [
    {
     "data": {
      "text/plain": [
       "(0, 1)"
      ]
     },
     "execution_count": 110,
     "metadata": {},
     "output_type": "execute_result"
    },
    {
     "data": {
      "image/png": "[encoded data removed]",
      "text/plain": [
       "<matplotlib.figure.Figure at 0x1bdd7bf7320>"
      ]
     },
     "metadata": {},
     "output_type": "display_data"
    }
   ],
   "source": [
    "plt.figure(figsize=(15, 5))\n",
    "\n",
    "plt.plot(distances)\n",
    "plt.grid(True)\n",
    "plt.ylim(0, 1)"
   ]
  },
  {
   "cell_type": "code",
   "execution_count": 122,
   "metadata": {},
   "outputs": [
    {
     "data": {
      "text/plain": [
       "(6, 12)"
      ]
     },
     "execution_count": 122,
     "metadata": {},
     "output_type": "execute_result"
    },
    {
     "data": {
      "image/png": "[encoded data removed]",
      "text/plain": [
       "<matplotlib.figure.Figure at 0x1bdd6631fd0>"
      ]
     },
     "metadata": {},
     "output_type": "display_data"
    }
   ],
   "source": [
    "plt.figure(figsize=(15, 5))\n",
    "\n",
    "plt.plot(distances_1)\n",
    "plt.grid(True)\n",
    "plt.ylim(6, 12)"
   ]
  },
  {
   "cell_type": "code",
   "execution_count": 112,
   "metadata": {},
   "outputs": [
    {
     "data": {
      "text/plain": [
       "array([157, 148, 146, 337, 194, 133, 153, 188, 158,   6, 332, 193, 136], dtype=int64)"
      ]
     },
     "execution_count": 112,
     "metadata": {},
     "output_type": "execute_result"
    }
   ],
   "source": [
    "inds_pred"
   ]
  },
  {
   "cell_type": "code",
   "execution_count": 113,
   "metadata": {},
   "outputs": [
    {
     "data": {
      "text/plain": [
       "array([ 62,  88, 351,  95, 211, 227, 352, 341,  85,  97,  60,  40, 190], dtype=int64)"
      ]
     },
     "execution_count": 113,
     "metadata": {},
     "output_type": "execute_result"
    }
   ],
   "source": [
    "inds_pred_1"
   ]
  },
  {
   "cell_type": "code",
   "execution_count": 117,
   "metadata": {},
   "outputs": [
    {
     "name": "stdout",
     "output_type": "stream",
     "text": [
      "--------------------------- Top-1 ---------------------------\n",
      "Где в России с туристов начнут собирать деньги на благоустройство и зачем всем приезжим в городах, принимающих мундиаль, надо будет идти в полицию — читайте в нашем материале о новых законах, которые вступят в силу в мае 2018 года. Минимальная зарплата в России вырастет до 11 163 рублей Минимальную зарплату подтянут к прожиточному минимуму С 1 мая 2018 года федеральный МРОТ вырастает на 17% — до 11 163 рублей в месяц. Сейчас МРОТ составляет 9489 рублей. Его приравняли к величине прожиточного минимума трудоспособного населения в России. Так что теперь ежемесячная зарплата россиянина не может быть ниже 11 163 рублей. Но учтите, что это сумма до вычета НДФЛ, то есть на руки будут выплачивать на 13% меньше. МРОТ используют для начисления минимального размера пособий по временной нетрудоспособности или по беременности и родам. В большинстве регионов страны МРОТ и так выше, чем федеральный минимум, поэтому на их жизни нововведение никак не отразится. Во всех остальных минимальную зарплату подтянут как минимум до федеральной «базы». Два региона введут курортный сбор С 1 мая 2018 года власти Ставрополья и Алтая начнут собирать с туристов деньги на благоустройство курортных городов. За сутки отдыха на Ставрополье туристу придется доплатить в региональную казну 50 рублей (это максимум, установленный на 2018 год), на Алтае — 30 рублей. Собранные деньги вложат в развитие инфраструктуры, сохранение и восстановление объектов культурного наследия. В Краснодарском крае из-за ЧМ-2018 курортный сбор (10 рублей в сутки) отложили до 16 июля. А крымские власти начнут собирать с туристов деньги на развитие аж с 1 мая 2019 года. Размер крымского сбора пока не известен. В Крыму курортный сбор отложили до 2019 года Срок подачи декларации о доходах продлен до 3 мая 3 мая 2018 года заканчивается срок подачи декларации о доходах за 2017 год. По общему правилу декларацию 3-НДФЛ подают до 30 апреля следующего года. Но в 2018 году на 30 апреля выпадает праздничный день, поэтому срок перенесли. Так что успевайте. А мы пока расскажем, кому надо подавать декларацию и что в ней указывать. Отчитаться перед налоговой нужно, если в 2017 году вы продали машину, квартиру или земельный участок, которые находились в собственности меньше минимального срока владения. Если купили квартиру в 2013 году и продали ее в 2017-м, то подавать декларацию не нужно: минимальный срок владения для такой недвижимости составляет три года. Раскрыть карты перед налоговой должны и арендодатели: сдать декларацию и заплатить 13% от суммы дохода. Если трудитесь по гражданско-правовому договору, и ваш работодатель не выплачивает за вас НДФЛ, то вам нужно самостоятельно отчитаться в налоговой. О доходе из-за рубежа (проценты по вкладу в иностранном банке или доход от продажи недвижимости за границей) также нужно сообщить, как и о выигрыше в лотерею и о подарке от неблизких родственников. К близким родственникам, напомним, относятся супруги, родители, дети, бабушки, дедушки, внуки, братья и сестры. С денежных подарков налог платить не нужно. Срок подачи декларации установлен только для тех, кто обязан отчитаться о доходах. Если декларацию заполняют только для налогового вычета, то подавать ее можно в любое время года, следующего за отчетным. Сдать декларацию можно в налоговой, через сайт госуслуг, отправив документы с помощью услуги «Предоставление налоговой декларации» или через личный кабинет налогоплательщика на сайте ФНС. Заплатить налог на доходы, начисленный по этой декларации, нужно будет до 15 июля. Декларацию нужно подать до 3 мая Гостей ЧМ-2018 ждет обязательный визит в полицию С 25 мая по 25 июля 2018 года все, кто приезжает в города ЧМ-2018, обязаны будут лично обратиться в отделы МВД региона в течение трех дней со дня приезда, чтобы зарегистрироваться по месту пребывания. Иностранцы должны зарегистрироваться в полиции в течение суток со дня приезда. В обычное время регистрация требуется только от тех, кто приезжает в другой город дольше, чем на 90 дней. Новое требование распространяется и на туристов, и на командировочных, и на тех, кто переезжает на постоянное место жительства. Исключение сделают только для участников мундиаля и Кубка конфедераций, представителей FIFA и футбольных ассоциаций. Еще на время ЧМ-2018 в городах, где пройдут матчи, будет приостановлена работа опасных производств, на которых применяются источники ионизирующего излучения, радиоактивные, токсичные и взрывчатые вещества. Игры ЧМ-2018 пройдут в Волгограде, Екатеринбурге, Казани, Калининграде, Москве, Нижнем Новгороде, Ростове-на-Дону, Самаре, Санкт-Петербурге, Саранске и Сочи.\n",
      "---------------------------- end -----------------------------\n",
      "\n",
      "--------------------------- Top-2 ---------------------------\n",
      "27 августа в России вступил в силу приказ МВД № 356 «О назначении и выплате полицией вознаграждения за помощь в раскрытии преступлений и задержании лиц, их совершивших». Сумма вознаграждения варьируется от 50 тысяч до 10 миллионов рублей. Но платить будут только тем, кто поможет раскрыть преступление или поймать подозреваемых. Размер вознаграждения информатору зависит от ценности самой информации Негласно в полиции признают, что за информацию гражданам платили и раньше — у оперативников есть свои люди в криминальной среде, готовые за деньги рассказывать о готовящихся или уже совершённых преступлениях. По словам источника в правоохранительных органах, новым приказом о выплате вознаграждений в МВД надеются расширить базу информаторов и приучить законопослушных граждан доверять полицейским. Но в успех этой затеи не верят даже нынешние информаторы — один из таких людей, уже несколько лет сотрудничающий с полицейскими, объяснил корреспонденту Сети городских порталов, почему простые горожане не смогут начать «стукачить» за деньги. Эксперты же обеспокоены тем, что люди начнут писать доносы только из чувства мести или ради денег. Приказ МВД о вознаграждениях информаторам за помощь в раскрытии преступлений уже вступил в силу 27 августа — его можно увидеть на официальном интернет-портале правовой информации. В документе говорится, что сумма поощрения составит от 50 тысяч до 10 миллионов рублей. Средства будут выделять из внутренних ресурсов ведомства, каждый случай будет рассматриваться в индивидуальном порядке. Вознаграждения свыше трёх миллионов рублей будут назначаться по решению министра внутренних дел Денежное вознаграждение смогут получить те, кто помог раскрыть преступление или задержать подозреваемого — за исключением предотвращения или раскрытия готовящихся терактов. Информаторы смогут получить деньги как наличными, так и через денежный перевод. По словам бывшего начальника уголовного розыска, полковника милиции в отставке Николая Быковского, система денежного поощрения за информацию существовала всегда. У любого сотрудника уголовного розыска есть свой «негласный аппарат» из числа информаторов. — Она негласная, нигде не фиксируется, но все знают, что такая система есть, — подчёркивает Быковский. — Существовал график встреч. В условных местах или на явочной квартире. Если человек вне графика получил срочную информацию, то он сам связывается с сотрудником. Деньги — не единственное, ради чего информаторы соглашаются сотрудничать с милицией. Некоторые становятся доносчиками ради прекращения уголовного дела или из-за обиды на подельников. За помощь поощряли и раньше: грамотой или похвальным листом В 1953 году систему агентурного аппарата расформировал Никита Хрущёв. — [Хрущёв] кричал, что о совершённом преступлении должен каждый советский человек рассказать, — вспоминает Быковский. — Вы когда-нибудь слышали, чтобы гражданин шёл, увидел и заявил в милицию? Вот именно. Преступность возросла в десятки раз. Поэтому мы сначала формально вернули агентурный аппарат. Хотя дальновидные оперативники и не разбрасывались информаторами сразу. Потом всё официально восстановили. До сих пор эта система есть, но такие вещи не подлежат огласке. Информацию об этом подтвердил один из нынешних работников системы МВД — на условиях анонимности. — Есть агенты и информаторы, — объяснил источник. — Агент — это гражданское лицо, которое внедряется в эти криминальные структуры. Жулики далеко не дураки, они пробивают новеньких, их окружение. Какую оперативнику легенду ни придумай, вмиг раскусят. И есть информаторы. Это те самые стукачи — они доносят о преступлениях, сдают знакомых жуликов. Конечно, платим. Ну а сколько — тут от конкретного случая всё зависит, от ценности информации. Смотрим, за сколько человек готов рассказать, а за какую сумму ему общаться не интересно. Тысячи полторы [рублей] — по-моему, столько я минимум платил за информацию. Не из своего кармана, конечно, нам дают деньги на оперативные расходы, как иначе... Насильно мы никого [в информаторы] не тянем. Иногда видишь, что человек готов всё рассказать, но так просто он делать это не будет, — предлагаешь сумму к сотрудничеству, всё рассказывает. Жулики жуликов и сдают. Случайные люди, чтобы вот мимо проходили и преступление увидели, пришли и сообщили, — это редкость. Информаторы доносят полицейским о преступлениях Николай (имя изменено. — Прим. ред.) стал информатором случайно. Несколько лет назад у него в жилмассиве орудовали «ручечные воры» — ходили по подъездам, дёргали ручки дверей. Находили открытую квартиру — и выносили всё. Действовали умело, лица на камеры не попадали. Поэтому вычислить их оперативники не могли. Помог случай — Николай случайно узнал от местных ребят имена людей, которые выносили всё из квартир. А через несколько дней сам стал свидетелем такого ограбления. Ему удалось сделать фотографии — с ними он и пошёл в полицию. За помощь в раскрытии серии краж Николаю заплатили 2,5 тысячи рублей. — Потом так получилось, что меня «пасли» как барыгу, — вспоминает информатор. — Я сам наркотики употребляю, но не торгую. Травить других — это низость. Но кто-то ляпнул, что я барыга. И меня с год оперативники «пасли». Потом поняли, что я потребитель. А им потребители не нужны. У них за одного потребителя премия сто пятьдесят рублей, за барыгу — пятнадцать тысяч. Что им на таких, как я, время тратить? По словам Николая, его пригласили просто подписать протокол. Во время беседы оперативник поднял его личное дело и увидел, что он уже сотрудничал с полицейскими. Предложил деньги за информацию о наркоторговцах — Николай согласился. Сейчас он примерно раз в три месяца находит одного наркоторговца, передаёт всю информацию о нём оперативнику, совершает контрольную закупку — и получает за это семь тысяч рублей. «Барыг — как грязи, поэтому от денег я не отказываюсь» — Этим прожить нельзя, — подчёркивает Николай. — Но от денег я никогда не откажусь. Новых барыг — их как грязи, они постоянно появляются. Иногда жалко чисто с человеческой точки зрения. Есть такие, кого не трогаю. Которые [торгуют] просто чтобы им концы с концами свести, чтобы себя прокормить, семью свою. Те, кто за год коттеджи покупают и машины, — этих не жалко. Это сотрудничество — от нечего делать больше, в шпионов поиграть. Есть, конечно, и те, кто в информаторы идут или ради азарта или от безысходности. Люди же разные бывают. Мести со стороны наркоторговцев или их родственников Николай не боится — он считает, что «сейчас не 90-е» и те, кто его тронет, «всё равно сядут». За годы сотрудничества ему ни разу не угрожали. При этом информатор уверен, что новый приказ от МВД бесполезен для обычных граждан, которые захотят заработать таким образом деньги. — Уже проверено и доказано. Вот ты мирный житель, никому не мешаешь. У тебя появился сосед, который что-то совершил. Ты идёшь в отдел ближайший, говоришь, что хочу донести. По этому доносу начинают работать, но бабки за донос получить — ты не получишь. Сотрудники напишут: «по оперативно полученной информации» и нарисуют себе премию. Заработать на доносах можно, только если как я: до «приёмки» барыгу вести и постоянно с операми сотрудничать. Источник в МВД называет новый приказ очень важным и признаётся, что в правоохранительных органах его давно ждали. — Тут можно, конечно, вспомнить и про доносы, и кричать, что полицейские сами работать не хотят, — объяснил источник. — Но поймите вот что: обычно свидетели преступлений неохотно дают показания. Он видел, что и как произошло, но спрашиваешь — молчит. Предлагаешь деньги — рассказывает. Мы рады много работать, но что делать, если человек ничего не рассказывает? А с этим приказом многое может измениться. «Люди будут рассказывать о преступлениях охотно» В итоге криминала станет намного меньше, а со временем он почти исчезнет. Все только выиграют от этого все, кроме жуликов. Культуролог Галина Паршукова считает, что идея с вознаграждением за информацию не приживётся из-за культурного контекста прошлого века, связанного с доносительством и стукачеством. По мнению Паршуковой, государство поступает неправильно, пытаясь сформировать гражданско-ответственное поведение у людей через систему оплаты этого поведения. Примером может послужить попытка решить демографическую проблему с помощью материнского капитала — это привело к тому, что «рожать за деньги стали не самые лучшие представители материнства». — Исключать возможность того, что люди начнут доносить друг на друга из-за мотива заработать на этом деньги и отомстить соседу за то, что он прихватил пятьдесят сантиметров моего участка, нельзя, — подчёркивает культуролог. — Гражданская ответственность не воспитывается за деньги, тут должны быть иные рычаги. Формирование верного поведения через систему воспитания и формирования в обществе определённой атмосферы. Культуры поведения, культуры ответственности. По мнению Паршуковой, немалую роль в этом играет отношение к сотрудникам полиции в обществе — сообщать о неблаговидном поведении другого человека в органы из лучших побуждений люди начнут, только когда увидят в полицейских своих защитников. Пока же этот образ далёк от идеального.\n",
      "---------------------------- end -----------------------------\n",
      "\n",
      "--------------------------- Top-3 ---------------------------\n",
      "Октябрь в России начинается с ряда изменений в законах: застройщиков долевки будут штрафовать за скрытность, работодателей заставят ходить в центры занятости четыре раза в год, бизнесменам дадут три месяца на исправление ошибок при регистрации своих фирм, а молодоженам — целый год, чтобы выбрать дату свадьбы. Эти и другие поправки в законодательстве РФ смотрите в обзоре Сети городских порталов. Выбираем сами, когда жениться С 1 октября молодожены будут сами выбирать дату, в которую их зарегистрирует ЗАГС. Если раньше парам приходилось подавать заявление ровно за месяц до события, то теперь дату торжества можно назначать хоть за год, а при наличии уважительных причин (например, беременности) — меньше, чем за месяц. Законодатели-инициаторы поправок надеются, что так они избавят ЗАГСы от коррупции и очередей из парочек, желающих расписаться в красивую дату. Подать заявление можно как лично, так через портал госуслуг и там же оплатить пошлину — 350 рублей. Интернет-трафик сложили в «пакет Яровой» С сегодняшнего дня под закон Яровой попадают интернет-операторы, которые обязаны в течение полугода хранить переписки, картинки, аудио- и видеофайлы, которыми обмениваются пользователи на территории России. Мера грозит сервисам разорением, ведь для такого огромного количества данных нужны серверы с большой емкостью. Можно, конечно, использовать серверы коллег, но для этого операторам понадобится разрешение ФСБ. Эксперты не исключают, что страдать от ужесточения закона будут обычные пользователи, которым операторы будут урезать трафик или вовсе повысят стоимость услуг, чтобы окупить затраты на системы хранения. Долёвку обложили новыми штрафами Девелоперам долевого рынка вновь усложнили жизнь: еще в начале лета им запретили напрямую брать деньги дольщиков — для этого узаконили счета-эскроу, где средства должны храниться до момента, когда дом будет построен. С сегодняшнего дня для строителей вводятся новые штрафы — например, если информация о строящемся объекте не внесена в единую систему жилищного строительства (ЕИСЖС). За это же рублем накажут чиновников, на подведомственной земле которых развернулась стройка. Правда, штрафы девелоперу намного серьезней, чем должностному лицу: 50–200 тысяч против 15–30 тысяч рублей. Бизнесменам отменили пошлину за ошибки в регистрации Хорошие новости для предпринимателей, им упрощают порядок государственной регистрации фирм и ИП. Если с первого раза в регистрации будет отказано из-за недостающих документов или неправильно заполненной заявки, то бизнесмену дается три месяца на то, чтобы ошибки исправить. При этом госпошлину не нужно оплачивать повторно, и документы, которые предприниматель принес в первый раз, не придется собирать и нести заново — они останутся у регистраторов. Перепись будущих пенсионеров Работающих россиян, чей возраст приближается к пенсии, берут на контроль: с 1 октября работодатели должны сдавать в центры занятости данные на сотрудников, которым до выхода на заслуженный отдых остается пять и менее лет. Таким образом Минтруд надеется отследить, как в России относятся к сотрудникам в возрасте, не увольняют ли их незаслуженно — ведь на уровне законов их права не защищены. Собирать документы работодателям необходимо раз в квартал до 15-го числа следующего месяца. Госзакупки по спецсчетам С октября в системе государственных закупок начинается переход на спецсчета. Если раньше сделка заключалась между заказчиком и исполнителем на электронных площадках-аукционах без участия третьих лиц, то теперь в этой цепочке появляется банк, причем только тот, что входит в список 18 одобренных правительством РФ. Перед тем, как проводить торги, на специальном счете должна осесть сумма, необходимая для обеспечения заявки. Банк ее замораживает до момента заключения сделки. Предполагается, что такая система позволит не только контролировать «закупочные» средства, но и их целевое использование. С января 2019 года по специальным счетам должны работать все участники торгов.\n",
      "---------------------------- end -----------------------------\n",
      "\n",
      "--------------------------- Top-4 ---------------------------\n",
      "Нижегородские пенсионеры очень часто страдают от рук мошенников. Они верят людям, снимающим «порчу», «коммунальным» и «медицинским» работникам, «иностранцам»… Только с начала года в городе и области зафиксировано 86 подобных случаев. Из них раскрыты пока только пять. Какие основные схемы «развода» существуют и о чем нужно рассказать своим пожилым родственникам – читайте в нашей статье. Не доверяйте незнакомцам Основные схемы мошеннических действий: 1. Пенсионерам звонят на домашний телефон якобы из поликлиники и сообщают, что у него или его родственников обнаружили опасную болезнь. Вне зависимости от сложности «спектакля» жуликов (могут упоминаться ваша история болезни, имя родственника, фамилия участкового врача) это – мошенничество. Настоящий доктор никогда не сообщит такие «новости» по телефону. Рано или поздно мошенники скажут, что только их дорогое лекарство или операция могут помочь. 2. Потерпевшему звонят на домашний телефон с сообщением, что его родственник или знакомый совершил какое-либо преступление (чаще всего ДТП) и теперь находится в полиции. Чтобы его освободили, нужно заплатить определенную сумму денег. Деньги могут переводиться через банкоматы и терминалы на абонентские номера и банковские карты, указанные звонившим. Также за деньгами может приехать незнакомый человек, в том числе работник такси. 3. Незнакомка, как правило, это одна или две женщины, приходит в квартиру к пенсионерам, перед этим возможны звонки на домашний телефон потерпевших якобы из службы Соцзащиты, представляется социальным работником и сообщает о надбавке к пенсии, перерасчете квартплаты, премии ветеранам, срочном обмене денег на дому, якобы «только для пенсионеров». Интересуются наличием у потерпевших денежных средств. Узнав, где хранятся деньги, преступники под различным предлогом отвлекают внимание потерпевших и похищают денежные средства. 4. Незнакомые люди предлагают приобрести продукты питания, товары повседневного спроса либо бытовые приборы (распространители). При покупке они наблюдают за потерпевшим, смотрят, откуда они достают деньги. Узнав, где хранятся деньги, преступники под различным предлогом отвлекают внимание потерпевших и похищают денежные средства. 5. Незнакомая женщина обращается к потерпевшей на улице, говорит, что на нее, либо родственников, наложена «порча», запугивает болезнями и бедами. После этого предлагает волшебное излечение, за что необходимо вынести из квартиры, или снять со счета в банке, имеющиеся денежные средства. После осмотра денежных купюр неизвестная якобы передает их потерпевшей, на самом деле вместо них находятся листы нарезанной бумаги, пачки салфеток и т.п. возможны варианты, когда во время разговора неизвестной и потерпевшей к ним подходит также неизвестная женщина, которая сообщает потерпевшей, что у первой женщины имеются способности к снятию «порчи», что она ей помогла и т.д. 6. На улице к пенсионерам обращается молодой человек, представляется предпринимателем из другой страны, говорит, что ему надо переводом получить денежные средства, но так как он не гражданин РФ, то получить перевод на свои счета он не может. Поэтому просит потерпевшего воспользоваться, за вознаграждение, его счетом в банке, но на счете не должно быть денег. При этом потерпевшему передают на хранение крупную сумму денег, поясняя, что боятся возить ее с собой. Впоследствии оказывается, что это банкноты «Банка приколов». Согласившегося потерпевшего отвозят в отделение банка, где он снимает со счета все денежные средства и снова садится в автомашину преступников. После этого преступники под предлогом, что им срочно нужны деньги, а перевод поступит только через несколько дней, просят у потерпевшего в долг сумму, которую он снял в банке. После получения денег преступники скрываются. Возможны варианты, когда потерпевшему сообщают, что их друг попал в аварию и ему срочно нужна операция, на проведение которой необходима крупная сумма денег, а так как они не граждане РФ, то не могут сразу получить перевод. Преступники даже могут позвонить якобы врачу, который скажет, что для проведения операции срочно нужны деньги. После этого согласившегося потерпевшего отвозят в отделение банка, где он снимает со счета все денежные средства и передает их мошенникам. Последние, пообещав вернуть деньги через несколько дней, скрываются. Данные преступления совершаются лицами цыганской народности, мужчинами, в возрасте от 20 до 40 лет. Большинство фактов мошенничества возможны из-за чрезмерного доверия пожилых граждан к незнакомым людям. Рекомендации по «профилактике мошеннических действий»: - любые выплаты пенсионерам осуществляются только прикрепленным социальным работником. Без официального объявления в нашей стране не может проводиться никакой «срочный обмен денег»; - до того, как открыть дверь незнакомцу, позвоните в названную им организацию и уточните, направляли ли оттуда к вам специалиста; - проверьте номер телефона, который вам называет сотрудник. Не звоните с его мобильного телефона или под диктовку, набирайте номер сами. Запишите все нужные телефоны заранее. Все телефоны социальных служб можно узнать в единой бесплатной справочной службе 09; - прежде чем принять любое решение, связанное со значительными расходами, обязательно посоветуйтесь с близкими; - при покупке любых лекарственных и медицинских препаратов, особенно дорогостоящих, которые вы не заказывали, но доставленных вам домой, обязательно посоветуйтесь с лечащим врачом и родственниками; - познакомьтесь и дружите с соседями! Они всегда могут прийти на помощь; - запишите все необходимые номера телефонов, храните их рядом с телефонным аппаратом; - если вы впустили кого-то в квартиру, старайтесь, чтобы он не прошел дальше коридора. Чем меньше посторонних находится у вас дома, тем меньше вы рискуете; - если на улице с вами пытается заговорить незнакомец, обращаясь к вам с просьбой, вопросом или предложением, даже называя вас по имени и отчеству, будьте бдительны! Этот человек может оказаться мошенником, который, усыпив вашу бдительность, обманным путем присвоит ваши деньги и другое имущество; - не следует доверять незнакомым абонентам, которые просят провести какие-либо действия с вашей картой. Не поддавайтесь первому импульсу и старайтесь проверить информацию, поступившую от неизвестных лиц, перезвонив по известным номерам банков, они указаны на оборотной стороне карты, звонки по ним бесплатные; - не сообщайте неизвестным лицам реквизиты своих банковских карт (номер, срок действия, CVV-код). В статье использованы материалы, подготовленные пресс-службой ГУ МВД по Нижегородской области по запросу NN.RU. Ранее NN.RU писал, как \"бесплатная диагностика\" превращается в кредит.\n",
      "---------------------------- end -----------------------------\n",
      "\n",
      "--------------------------- Top-5 ---------------------------\n",
      "19 марта на территории аэропорта города Ростов-на-Дону при повторном заходе на посадку потерпел крушение самолет Боинг 737-800, выполнявший рейс № 981 из Дубая в Ростов-на-Дону. На борту находился 61 человек (55 пассажиров и 6 членов экипажа). Все они погибли. ГУ МЧС России по Ростовской области: В 03.42 в оперативную дежурную смену ЦУКС МЧС России по Ростовской области от диспетчера аэропорта г.Ростов-на-Дону поступила информация о том, что в аэропорту г. Ростова-на-Дону при посадке произошла авария с самолетом Боинг-738, рейс 981 «Дубай-Ростов», с последующим возгоранием. Самолет дубайских авиалиний.На борту 55 пассажиров. Горение потушено. Информация по пострадавшим уточняется.ГУ МЧС России по Ростовской области: Самолет делал второй круг заходя на посадку по причине неблагоприятных погодных условий. При посадке задел крылом взлетно-посадочную полосу, начал разрушаться и загорелся. В настоящее время горения нет. На борту находились 55 пассажиров и 4-5 человек экипажа.МЧС открыло горячую линию в связи с катастрофой:Губернатор Ростовской области Василий Голубев: 20 марта - день траура в регионеСписок погибших:1. Аллен Лариса2. Андриева Ганна3. Аяпан Катирвели4. Белякова Эльвира5. Беспечнов Виктор6. Бевзюк Виктория7. Бевзюк Марина8. Безгласная Юлия9. Безгласный Сергей10. Болгова Галина11. Божко Александр12. Божко Ольга13. Березина Алина14. Веремеевский Александр15. Веремеевский Виталий16. Веремеевская Наталья17. Воронова Валентина18. Жевед Лариса19. Гамов Валерий20. Гончарова Людмила21. Калиберда Елена22. Калиберда Сергей23. Караванцева Олеся24. Карпенко Ирина25. Карпенко Николай26. Клименко Ольга27. КопосоваАнастасия28. Копосова Дарья29. Копосова Людмила30. Копосов Павел31. КравченкоТатьяна32. Лобода Раиса33. Маяченко Ольга34. Мохан Сиам35. Негодаева Инна36. Осипова Анна37. Пакус Галина38. Пакус Игорь39. Серхиева Манна40. Сомина Валентина41. Тарасенко Наталья42. Федянин Владимир43. Цихельски Данило44. Цехельска Свитлана45. Цихельски Павло46. Чеботарев Константин47. Чеботарева Светлана48. Чернов Дмитрий49. Чернова Елена50. Чистяков Кирилл51. Чистяков Олег52. Чистякова Виктория53. Шанцин Алексей54. Шанцина Ирина55. Шлипченко НиколайАэропорт г. Ростов-на-Дону закрыт до 07:00 20 марта.RT на русском: Камера видеонаблюдения запечатлела момент крушения пассажирского самолета в Ростове-на-ДонуРодственники погибших при крушении Boeing получат по одному миллиону рублей. Об этом сообщил губернатор Ростовской области Василий Голубев. Также для родственников погибших зарезервированы номера в отелях Ростова-на-Дону, подготовлен транспорт, в том числе для трансфера из Краснодара.lifenews.ru: Следственный комитет назвал основные версии катастрофы рейса FZ-981Первая связана с погодными условиями, вторая - с технической неисправностью судна.В аэропорт Ростова-на-Дону прибыли родственники жертв катастрофы разбившегося самолётаВ группе «Ростов-на-Дону | Главный» в социальной сети неизвестный опубликовал видео с места трагедии. «Место падения самолёта. Сейчас ведётся поиск тел погибших».В соцсети опубликованы данные с сайта « Флайт-радар».ТАСС опубликовал аудиозапись последних переговоров пилотов с диспетчерами аэропортаFlydubai приносит всем родственникам и близким погибших соболезнования.Место падения самолёта поделено на 12 секторов для работы оперативно-следственных групп.На месте происшествия с родственниками работают 65 психологов от областной подсистемы РСЧС региона, в том числе 13 психологов Главного управления МЧС России по Ростовской области и Южного филиала ЦЭПП МЧС России по Ростовской области.LifeNews публикует видео крушения «боинга» в Ростове-на-ДонуПродавцы в аэропорту Ростова-на-Дону пытались заработать на трагедииГУ МЧС России по Ростовской области: Прибыли 243 родственника погибшихНТВ: В разбившемся в Ростове Boeing летел депутат областного парламентаСамолет FlyDubai заберет сегодня из Краснодара в Дубай (ОАЭ) 75 туристов. Об этом ТАСС сообщил пресс-секретарь Российского союза туриндустрии (РСТ) Ирина Тюрина. Ранее она сообщила, что разбившийся сегодня самолет авиакомпании FlyDubai должен был выполнить обратный рейс в Дубай из Ростова-на-Дону. Предполагалось, что им полетят 140 человек. В связи с катастрофой вылет рейса перенесли в Краснодар. Часть туристов отказалась от полета. «По уточненным данным, обратным рейсом должны были улететь не 140, а 125 человек, но 50 отказались. Таким образом, сегодня должны вылететь в Дубай 75 туристов», - сказала Тюрина.НТВ: Эксперты не нашли следов взрывчатки на месте крушения BoeingВ соцсети бурно обсуждают гражданство членов экипажа. Среди них оказались: двое граждан Испании, один гражданин России, один – Киргизии, один - Кипра, один - Сейшел и еще один гражданин Колумбии.Эксперты: Надо было лететь на запасной аэродром\n",
      "---------------------------- end -----------------------------\n",
      "\n",
      "--------------------------- Top-6 ---------------------------\n",
      "В новогодние каникулы россияне отдали предпочтение отечественным курортам. Причин тому несколько – и выросший курс евро и доллара под Новый год, и \"пугалки\" об ужасах экономического кризиса, и развитие туристской инфраструктуры в городах России и на отечественном юге. \"Состояние трасс превосходно, работа подъёмников и служб – нормально, - поделился своими впечатлениями от посещения Сочи нижегородец Сергей Талалаев. - Очереди бывают везде, к тому же они имеют свойство жить какой-то своей жизнью: то есть, то нет. Скопился народ на нижней зоне катания - взял и поднялся наверх. Фото: Сергей Талалаев Очереди бывают везде, к тому же они имеют свойство жить какой-то своей жизнью: то есть, то нет Туры за границу, как и ожидалось , просели на четверть по сравнению с прошлым годом. Россияне сделали патриотический выбор и ринулись в Сочи.За период новогодних праздников горнолыжные курорты Сочи посетили 182 тысячи отдыхающих. Об этом сообщил вице-премьер Дмитрий Козак сразу по окончании каникул. Это сопоставимо с рекордными показателями летнего сезона. \"Спрос был ажиотажный, особенно на некоторые гостиницы, на некоторые курорты, в частности, курорты Краснодарского края, - рассказала в эфире НТВ представитель Ассоциации туроператоров России. – Конечно, зимний отдых на Красной поляне, на курортах, которые были отстроены к Олимпиаде – это хит продаж этих новогодних каникул\". 18 января на \"Розе Хутор\" встретили миллионного гостя с начала работы (2010 год): им стал инженер-программист из Тюмени Сергей Грибоедов.По оценкам российских туроператоров по внутреннему туризму, одним из пяти самых популярных экскурсионных направлений стала Казань. За период новогодних каникул столицу Татарстана посетило около 70 тысяч туристов и потратили в городе более 1 млрд рублей, подсчитал портал atorus.ru. Также в зимний ТОП-5, по версии сервиса онлайн-бронирования отелей Oktogo, вошли Санкт-Петербург, Москва, Сочи и Калининград.По России наши сограждане путешествовали на автомобилях, поездами и самолетами. В пресс-службе РЖД рассказали, что в каникулы высоким спросом пользовались поезда в направлении Северного Кавказа и железнодорожные туры в Великий Устюг. Так, на вотчину Деда Мороза в специальных туристических поездах и прицепных вагонах было перевезено более 11 тысяч пассажиров. В направлении Северного Кавказа в период праздников было отправлено свыше 917 тысяч пассажиров. В том числе до Адлера и Сочи отправлено свыше 217 тысяч пассажиров, что превышает показатели прошлого сезона на 15%.По данным Росавиации, в новогодние праздники услугами авиакомпаний воспользовались на 5% больше пассажиров. Всего в период с 30 декабря 2014 года по 11 января 2015 года совокупный пассажиропоток аэропортов московского авиаузла составил более 2,3 млн человек. Самым популярным направлением внутреннего туризма в эти каникулы стал Сочи. \"Традиционно высоким спросом в период новогодних каникул у нижегородцев пользуются Москва, как трансферное направление, а также курортные Египет и Тайланд. Из российских направлений лидирует Санкт-Петербург\", - рассказали журналисту NN.RU в нижегородском аэропорту \"Стригино\". Всего же в новогодние каникулы полеты из Нижнего Новгорода выполнялись по 37 направлениям, как России, так и зарубежья.В страховой компании СОГАЗ корреспонденту NN.RU сообщили, что количество заключенных в декабре 2014 года договоров страхования выезжающих за рубеж по сравнению с аналогичным периодом прошлого года снизилось в 2,5 раза. «У тех наших соотечественников, которые решили все-таки провести праздники за границей, наибольшей популярностью по-прежнему пользуются Таиланд, Вьетнам и Турция. Эти же страны лидируют и по числу обращений россиян за медицинской помощью, – рассказала заместитель директора по урегулированию убытков и сопровождению программ личного страхования. – Причины подавляющего числа обращений – острые респираторные заболевания и желудочно-кишечные инфекции, которые объясняются резкой сменой климата, непривычной для россиян едой, водой и обилием экзотических овощей и фруктов».Следующие по популярности – Австрия, Франция, Италия, Чехия. «Почти все обращения из Европы связаны с травматизмом. В основном, это переломы, полученные на горнолыжных трассах», – говорит Ольга Пак.В эти новогодние праздники среди отдыхающих достаточно много было туристов, выбравших местом пребывания Прибалтику – Латвию и Эстонию.Банкиры тоже заметили, что в этом году многие россияне предпочли оставить деньги в России. Объем трат россиян на территории РФ почти вырос на 40%. Так, внутри России клиенты ВТБ24 потратили во время новогодних праздников 2015 года по картам 6,3 млрд рублей (для сравнения: в 2014 году этот показатель составил 4,8 млрд). В то же время объем операций по картам за рубежом составил всего 1,6 млрд рублей, что на 40% ниже показателя 2014 года, сообщили в пресс-службе банка ВТБ24. Самые популярные зимние курорты среди наших соотечественников расположены в Италии, Франции, ОАЭ, Австрии и США. Сумма потраченных средств за рубежом в среднем на одного российского туриста в рублевом эквиваленте практически не изменилась – около 60 тысяч рублей.\n",
      "---------------------------- end -----------------------------\n",
      "\n",
      "--------------------------- Top-7 ---------------------------\n",
      "В отношениях дольщиков и девелоперов появится третий, больничные и декреты еще в нескольких регионах России отныне будут выплачиваться по новым правилам. А также «МИР», который, наконец, наступит в России для бюджетников — в нашей свежей подборке. Дольщики по-прежнему будут вкладываться в стройку на этапе котлована, однако их деньги заберёт банк Банки заберут у строителей деньги дольщиков Сразу несколько поправок к закону о долевом строительстве вступают в силу с сегодняшнего дня. Во-первых, цена входного билета на рынок долевки повышается: теперь заниматься ею смогут только компании, работающие в строительстве более трёх лет и построившие более 10 тысяч кв м жилья. Одновременно девелопер сможет заниматься лишь одним проектом (один дом или целый жилой комплекс — значения не имеет), под него он должен открыть счёт в банке, уполномоченном государством. Договор долевого управления пока остаётся, параллельно с ним вводится проектное финансирование: покупатели будут отдавать свои деньги в банк, который оставит их на счёте-эскроу, а застройщику выдаст кредит. Суть счетов-эскроу в том, что деньги дольщиков на них будут заморожены, и фирма получит их только тогда, когда сдаст дом. Изменения коснутся только тех проектов, которые стартуют после 1 июля 2019 года, с уже текущими долевыми объектами закон работает по прежней схеме. Работодатели шести регионов перестанут оплачивать больничные и декреты Жители Костромской и Курской областей, республик Карелия, Тыва, Северная Осетия и Кабардино-Балкарской будут получать социальные выплаты напрямую через Фонд социального страхования, минуя работодателя. Для этого нужно написать заявление, предоставить нужные документы и ждать — срок выплат в течение десяти дней с момента обращения. Речь, напомним, идёт о выплатах за несчастные случаи на производстве, профессиональные заболевания, а также по материнству и временной нетрудоспособности. Проект «прямых выплат» добрался до шести регионов РФ До этого система работала по «зачётному» методу: работодатель сам выплачивал пособия, а затем фонд компенсировал ему эти расходы. Для бюджетников наступит полный «МИР» К 1 июля все работники бюджетной сферы а также граждане, получающие обязательные выплаты из казны, должны быть переведены на карты «МИР» — таким образом в действие вступает ещё одна поправка к федеральному закону «О национальной платёжной системе». Зарплаты бюджетников уйдут на «МИР» К коммерческим организациям мера не относится, но если кто-то из их сотрудников пожелает получать зарплату не на Visa и MasterCard, а на «МИР», то его просьбу должны будут удовлетворить.\n",
      "---------------------------- end -----------------------------\n",
      "\n",
      "--------------------------- Top-8 ---------------------------\n",
      "Российские туроператоры официально открыли продажи путевок на популярные турецкие курорты — Анталия, Кемер, Аланья, Бельдиби, Белек, Мармарис, Бодрум. Цены на середину июля начинаются от 35-40 тысяч рублей в неделю, на конец июля есть и более выгодные предложения, рассказывают турагенты. Отправьте свою новость в редакцию, расскажите о проблеме или предложите тему для публикации. Пришлите фото или видео интересного события на почту Вступайте в наши группы в социальных сетях: Facebook и Читайте в нашем Стали свидетелем интересного события? Знаете важную информацию?Пришлите фото или видео интересного события на почту news@news.52.ru Вступайте в наши группы в социальных сетях: \"ВКонтакте\" \"Одноклассники.ru\" , - делитесь новостями Нижнего Новгорода со своими друзьями.Читайте в нашем Twitter о том, что происходит в Нижнем Новгороде. Как ранее сообщал NN.RU, президент России Владимир Путин подписал указ о снятии санкций на продажу туристических путевок в Турцию. Также президент поручил правительству России принять все необходимые меры, которые предусматривают запрета на чартерные воздушные перевозки между Россией. Пресс-секретарь Российского союза туриндустрии Ирина Тюрина в интервью «Интерфаксу», пояснила, что первые туристы в Турцию могут полететь через неделю. Именно за такой срок туроператоры смогут развернуть свои чартерные программы.Официальный представитель нижегородского аэропорта \"Стригино\"сообщила редакции NN.RU, что пока заявок от перевозчиков не поступало. Но в международном аэропорту Нижнего Новгорода готовы оперативно отреагировать на предложения и включить чартерные рейсы в летнее расписание. Анна Айзенштадт напомнила, что в прошлом году семь авиакомпаний осуществляли чартерные перевозки туристов в Турцию из Нижнего Новгорода.Директор туристической компании \"Восьминог\"говорит, что пока имеются предложения с вылетом из Москвы (с 14 июля), и рассчитывает, что в скором времени появятся путевки и с вылетом из Нижнего Новгорода. \"Конечно, их будет не так много, как прошлым летом, когда каждый перевозчик летал по 3-5 раз в неделю, но некоторое количество, достаточное для первого времени, должно быть\". По словам Михаила, пока нижегородцы слабо интересуются путевками в Турцию, поскольку многие уже спланировали свой отдых, отдав предпочтение отечественному югу или европейским курортам.У PR-директора туристической компании Today Tour Нижний Новгородиная информация: \"Запросов на отдых в еще недавно недружественной стране большое количество. Удивительно, но даже недавний теракт в Турции не отпугнул российских туристов. Они будто пропустили эту информацию мимо ушей\". Средняя стоимость пакетных туров на июль 2016 года по системе \"все включено\" на неделю составляет примерно 35 тысяч рублей на человека. Это дороже прежнего, но связано это с тем, что все перевозки сейчас выполняются на регулярных рейсах. \"В ближайшие две недели появятся чартеры и, уверен, Турция вновь будет более доступной\", - заключил Александр Инешин. По мнению эксперта, открытие Турции для отдыха нанесет сильный удар по ожиданиям и бюджету Кипра и Марокко, которые, решив воспользоваться тем, что россиянам закрыли топовые направления туризма, подняли цены. Тунис, Болгария и Греция останутся также востребованы, поскольку цены не завышали.Нижегородцы, в целом, без энтузиазма отреагировали на новости об открытии туристического направления. \"Ну цены, так сказать, до кризисные:)) 80000 с вылетом из Москвы и без гарантии вернуться живым.. Прикольные они, турки:)\" – написала в соцсети. \"Каски, бронежилеты, наборы первой мед помощи турагентства выдают или с собой брать?\" – поинтересовался. \"Никаких турций больше\", - добавила. \"На текущий момент, ситуация в Турции не спокойная в связи с тем, что на территории этой страны находятся формирования \"ИГ\", которые объявили войну России, а также в самой стране идут столкновения и теракты. В такой ситуации, мы не можем быть уверенны в том, что вернемся после путешествия домой в «целости и сохранности», так как каждый день нам преподносит разные события и неожиданности, - поделился своим мнение. - Каждый человек должен быть уверен в том, что в любом случае сможет получить бесплатную медицинскую помощь, где бы он не находился, а возможно это только при наличии оформление страховки. Необходимо быть очень внимательным при заключении договора страхования, так как там могут быть условия, при которых вы не сможете получить медицинскую помощь либо вас заставят возместить понесенные страховой компанией расходы\".\n",
      "---------------------------- end -----------------------------\n",
      "\n",
      "--------------------------- Top-9 ---------------------------\n",
      "Рассказываем, как сегодня выглядит город атомщиков, и публикуем фото с экскурсии Рассказываем, как сегодня выглядит город атомщиков, и публикуем фото с экскурсии Ровно 32 года назад, 26 апреля 1986 года, произошла одна из самых страшных техногенных катастроф в истории человечества. После аварии на Чернобыльской АЭС жителей окрестностей эвакуировали за 36 часов. Из-за опасности они не могли взять с собой ни личных вещей, ни домашних животных. В первые дни после взрыва умерли несколько десятков человек, в последующие годы последствия катастрофы привели к смерти нескольких тысяч. Туристы ездят в зону отчуждения с дозиметрами Сейчас в «зоне отчуждения» — так называют 30-километровую территорию вокруг места взрыва — время словно замерло. В опустевших садиках лежат разбросанные игрушки и покрывала, в домах брошены вещи. Города постепенно покрываются пылью и «сдаются» растущим, несмотря ни на что, деревьям. Там по-прежнему работают специалисты, ликвидирующие последствия аварии, а также приезжают туристы, чтобы своими глазами увидеть страну, которой больше нет. О том, как выглядит зона отчуждения сегодня, — в материале наших коллег с портала НГС. Экскурсионные автобусы отъезжают от вокзала в Киеве На месте катастрофы недавно побывал Андрей Шевченко из Новосибирска. Ему 26 лет, по образованию электромеханик, а по профессии — инженер-конструктор. — Начал интересоваться этой историей [аварией на ЧАЭС], когда по работе сталкивался с атомными объектами. В отличие от тех, кто любит поиграть в игру «Сталкер», мне было интересно узнать с технической точки зрения — что случилось, почему так произошло? И со временем появилось желание посмотреть на всё это собственными глазами, — рассказал Андрей. Заброшенные дома в Залесье В зону отчуждения попадают легально (ехать централизованно с экскурсией. — Прим. авт.) и нелегально, отметил он. Легально безопаснее, потому что туристы ходят по заранее проложенным маршрутам. Те, кто приезжают сами, могут попасть в места, которые «фонят до сих пор», и рискуют получить серьёзную дозу облучения. Дерево, проросшее сквозь металлическую решётку Экскурсии проводят киевские компании. До Киева он доехал автобусом из Москвы. По словам Андрея, несмотря на «пикантность», связанную с политической ситуацией (экскурсия была в октябре 2017 года. — Прим. авт.), проблем на границе не было. Нужны были загранпаспорт, приглашение. Вместо приглашения был ордер на экскурсию. Плюс обратный билет. В пропускном пункте не требовали денег, правда, по правилам пересечения границы могут попросить показать деньги для доказательства платёжеспособности. — Спросили цель визита, я показал документы. Пару вопросов типа посещал ли ранее, и со спокойной душой пропустили, — вспоминает турист. Граффити на стене здания гостиницы в Припяти Приехав в Киев, Андрей созвонился с компанией, которая проводит экскурсии, переночевал в хостеле (номер в центре Киева обошёлся в 300 рублей. — Прим. авт.), а утром отправился на вокзал ждать свою группу. Экскурсия была на русском языке, в компании с Андреем оказались ещё два гражданина Латвии. Зона отчуждения находится в 110 километрах от Киева — туда на микроавтобусе они добрались за час с небольшим. Рамки, проверяющие дозы радиации Первое КПП Дитятки — вблизи города Иванков. Там проверяют все документы, сверяются с заранее отправленными списками туристов. — Вообще ещё до подъезда становится понятно, что пропадают населённые пункты. Начинаются просто обычный лес и степь. Мы заехали в первый попавшийся населенный пункт — Залесье. Это небольшая деревенька. Первую остановку сделали, зашли в маленькие домики, в Дом культуры. Старые советские вывески, — рассказывает Андрей. Стелу поддерживают в хорошем состоянии В Чернобыле нет постоянных жителей, но живут работники станции, которые продолжают работы по ликвидации аварии. В городе стоит мемориал «Звезда Полынь», а за ним аллея городов, которых не стало после атомной аварии. Аллея памяти погибших населенных пунктов Лучшее время для экскурсии, по словам Андрея, — межсезонье. Летом может быть жарко, так как посетителям нужно быть в одежде, закрывающей все тело (лицо может быть открытым. — Прим. авт.), и к тому же города зарастают кустами и деревьями, которые закрывают обзор. При выезде туристов пропускают через специальные дозиметры, и если уровень радиации на одежде выше нормы, то её попросят снять и оставить. Так однажды случилось с одной девушкой, и ей пришлось уехать без штанов. Заброшенный парк аттракционов Андрей взял с собой дозиметр, который заранее купил через интернет. У кого нет — можно взять напрокат (обойдётся в 10 долларов. — Прим. авт.). Ближе к месту взрыва прошли ещё один пункт досмотра — КПП Лелёв. Затем группа поехала в сторону города закрытого типа Чернобыль-2. В советское время его место было засекречено, официально там был пионерлагерь. Здесь стоит радиолокационная станция «Дуга» высотой 140 метров. — Была построена для того, чтобы отслеживать пуски ядерных ракет в любом уголке планеты, — рассказывает Андрей. — После аварии прикрыли. Высота дуги — 140 метров Дальше дозиметры начали выдавать повышенные показатели. При норме 20 микрорентген в час было 30–40–50. Но, по словам Андрея, это не так страшно. — Когда мы летим на самолёте, там фон достигает 200–300, что в 10 раз выше нормы, — привёл он пример. Следующая остановка — село Копачи. Когда начали ликвидацию аварии, это село просто закопали в землю — то есть специально делали рвы, дома сносили техникой. Сейчас на этом месте лишь жёлтые столбики с табличкой. Правда, позже специалисты поняли, что это была ошибка, так как грунтовые воды здесь были слишком высоко, и радиация начала попадать в почву. Заброшенный детский сад — Зашли в садик. Там немножко жутковато становится — куча детских вещей, игрушек и прочее. Всё это потрёпано временем, конечно. Но впечатлительные люди впечатлятся. Вживую, конечно, всё иначе смотрится, чем на картинках. Я, скорее, испытал чувство пустоты, когда столько людей было — и вот раз, в один день всех выселили, — рассказывает Андрей. Кабинки в детском саду Арка над атомной станцией — Сейчас над атомной станцией новая арка — старое укрытие пришло в негодность, потому что строили на скорую руку. Высота новой арки позволила бы разместиться под ней статую Свободы, — говорит Андрей. Улицы Чернобыля Смотровая площадка находится в нескольких сотнях метров от взорвавшегося реактора — показатели дозиметра там выше нормы примерно в 10 раз. Туристов накормили обедом (продукты привозят с собой). В зоне есть комендантский час — покинуть её нужно до 20 часов. Правда, есть исключения для хостела, который открыли в Чернобыле, — там туристы остаются на 2–5-дневные экскурсии. Обед для туристов Припять — город, который был расселён через 36 часов после аварии. В советское время это был довольно богатый город, город атомщиков — высокооплачиваемая профессия, многие хотели туда попасть. Средний возраст жителей был всего 26 лет, основан город был в 1970 году. Стела в траурной оградке — Незадолго до въезда сделали остановку у стелы. Там начинается огромное радиационное пятно — рыжий лес. После того, как произошел взрыв, всё, что вышло из этого реактора, полетело в воздух и потянулось в сторону северо-запада. Название «рыжий лес» — оттого, что первичное облако пролетело над лесом, и он порыжел. Рыжие ветки, рыжие иголки. Там по-прежнему очень высокий фон спустя уже много лет, — рассказывает Андрей. Рыжий лес — одно из самых опасных мест на планете Дальше группа поехала по так называемому «мосту смерти». Так его назвали потому, что на него после аварии пришли местные жители, чтобы посмотреть, что случилось, и получили большие дозы радиации. Девятиэтажки в Припяти В медсанчасти № 126, куда привозили первых пострадавших, Андрей поднёс дозиметр к кусочку подшлемника пожарного, который лежал на столе, — показатели зашкаливали в 500 раз. Вход в здание медсанчасти. В подвал сваливали одежду пожарных, которую с них срывали Один из самых известных объектов города-призрака, как называют Припять, — колесо обозрения. Его хотели запустить 1 мая, до этого были лишь пробные запуски. Авария на Чернобыльской АЭС произошла 26 апреля — колесо так и не заработало. Колесо обозрения В зоне отчуждения есть памятник тем, кто спас мир. Его поставили сами ликвидаторы аварии на десятилетие трагической даты. Там, по словам Андрея, изображены все, кто действительно спас мир, — пожарные, работники станции, доктора. Памятник тем, кто спас мир На обратном пути, проезжая по рыжему лесу, группа ускорилась. Возможно, говорит Андрей, потому что дозиметры показывали превышение нормы радиации. Однако итоговые показатели сообщили, что доза полученной радиации в пределах нормы. Стакан для газировки, который стоит до сих пор — Это неописуемые впечатления от того, что посетил город-призрак. С одной стороны, это безумно интересно и любопытно — взглянуть на погибший советский город, но с другой — ты своими глазами видишь чудовищную цену человеческой ошибки и понимаешь, насколько мы всё-таки бессильны перед природой, — поделился Андрей. Город спустя 32 года после аварии 26 апреля — День памяти погибших в радиационных авариях и катастрофах. В этом году исполняется 32 года с момента Чернобыльской катастрофы — крупнейшей за всю историю ядерной энергетики в мире.\n",
      "---------------------------- end -----------------------------\n",
      "\n",
      "--------------------------- Top-10 ---------------------------\n",
      "Новый Duster уже выпускается в Европе под маркой Dacia, но в России появится лишь в 2019 году под брендом Renault В 2019 году в России начнут продажи сразу нескольких потенциальных бестселлеров: это и новый Volkswagen Polo, и купе-кроссовер Renault Arkana, и недорогой «проходимец» Volkswagen. Есть и совсем экзотические варианты, например радикально переосмысленный Suzuki Jimny. Мы отобрали с дюжину наиболее значимых премьер в массовом сегменте, а начнём, как водится, с лидера рынка — марки Lada. Lada Vesta Sport трудно назвать истинным спортседаном, но из серийных Lada она должна быть самой азартной в управлении АВТОВАЗ готовит рестайлинг Vesta, но покажут его ближе к концу года. Зато начинаются продажи спортивной версии Vesta Sport со 150-сильным мотором, а в планах завода значится некая Lada Van — предположительно, на базе Renault Dokker . Самым значимым апгрейдом станет появление нового вариатора : производство уже стартовало, но пока бесступенчатую трансмиссию ставят лишь на X-Ray. Новая Lada 4×4 существует в виде концепт-кара, поэтому серийная Lada 4×4 («Нива»), а также Chevrolet Niva продолжат существование На родственном GM-АВТОВАЗе продлили документы на выпуск привычной Chevrolet Niva, но проект Niva II попал в лимб: его и не сворачивают, и не развивают. Конкурирующая модель Lada 4×4 представлена пока в виде концепта, но у неё есть большие шансы превратиться в серийную модель, правда, уже в 2020 году. Renault планирует избавляться от имиджа производителя лоукостеров, в том числе с помощью нестандартных ходов: пятидверное купе-кроссовер Arkana разработано специально для России Куда ярче планы родительской марки Renault, которая в 2019 году начинает продажи неформатной Arkana: лифтбэка с увеличенным клиренсом. Автомобиль получился довольно крупным — длиннее 4,5 метра — и бросит вызов легковушками и кроссоверами класса С+. Помимо традиционных моторов Renault, для Arkana предложат новый 1,3-литровый турбоагрегат мощностью 125–150 л. с. В этом году начнётся подготовка к производству Renault Duster второго поколения, который уже продаётся в Европе под брендом Dacia, а на других рынках — как Renault. Новый Duster позиционируется как модель более высокого класса и, скорее всего, подорожает. Поэтому Renault не торопится с её выводом на рынок, ведь нынешний «Дастер» держит уверенное второе место в классе после Hyundai Creta В перспективе Renault откажется от моделей Logan и Sandero — нишу бюджетных машин отдадут на откуп АВТОВАЗу, а будущие модели Renault будут конкурировать с подросшими экс-бюджетниками, вроде KIA Rio и Hyundai Solaris. «УАЗ-Патриот» пережил техническое обновление в 2018 году, а скоро получит автоматическую трансмиссию УАЗ впервые в своей истории оснастит «Патриот» автоматической коробкой передач французской компании Punch, которая применялась на BMW X3, Cadillac STS и Chevrolet Colorado и ряде других моделей. Испытания автомобиля уже идут, а дебют запланирован на весну 2019 года. Volkswagen Virtus для китайского рынка является прообразом нового Polo для России. По дизайну он ближе к старшим моделям марки Volkswagen готовится к дебюту нового седана Polo, который выпускается в Калуге с 2010 года. Производство новинки стартует в этом году. Автомобиль построен на упрощённой платформе MQB-А0 и заметно крупнее нынешней модели: длина составляет без малого 4,5 метра, а объём багажника превысил 500 литров. Volkswagen T-Cross формально относится к хетчбэкам В-класса, но пропорциями напоминает кроссовер Другим направлением генерального удара станут кроссоверы: если в прошлом году Volkswagen вывел на рынок две крупные модели, Terramont и новый Touareg, то теперь сосредоточится на компактах. Так, в 2019 году ожидается старт продаж Volkswagen T-Cross, хотя кроссовером его можно назвать с натяжкой: привод — только передний, а из «внедорожных» черт — лишь вертикальная компоновка салона и увеличенный просвет. Автомобиль создан на платформе Polo последнего поколения, то есть относится к B-классу и по размерам близок Lada X-Ray. Volkswagen Tarek адаптируют для России, взяв за основу модель Tharu, уже дебютировавшую в Китае Куда интереснее Volkswagen Tarek — близкий родственник небольшого кроссовера SKODA Karoq, который до России так и не доехал. По размеру Tarek сопоставим с Nissan Qashqai, получит полный привод и прописку на нижегородском заводе Volkswagen. Правда, полноценный выпуск наладят, скорее всего, уже в 2020 году. Неопределённой остаётся судьба оспортивленного T-Roc: решение о выводе поджарого кроссовера на российский рынок, видимо, ещё не приняли. На примере новой Jetta хорошо видно повышение «классности» моделей: лет десять назад мы бы приняли машину с таким дизайном и пропорциями как минимум за Passat. Автомобиль уже собирают в Мексике, но будет и российская локализация Зато в России точно появится новый Volkswagen Jetta, поначалу — мексиканской сборки, а потом местной, нижегородской. Сборку модели предыдущего поколения прекратили в 2018 году. Volkswagen Arteon — лифтбэк со спортивными пропорциями на базе Passat А в ближайшее время дебютирует новый Volkswagen Passat: сначала в версии для американского рынка, потом — для европейского. Китайский Passat уже продаётся, но там он представлен в длиннобазной версии на платформе MQB. Американская же модель станет глубокой модернизацией прежнего Passat, и какую именно версию адресуют Европе и России, в частности, пока неясно. Кстати, купеобразная версия сменила имя с Passat CC на Arteon и также появится в России в будущем году. KIA ProCeed стал универсалом, но от Ceed SW отличается более динамичной задней частью Корейские сёстры Hyundai и KIA приучили нас к обилию новинок, и не нарушат традицию в 2019 году. Сначала на рынок выйдет универсал Ceed SW, а следом за ним весной появится ProCeed: в отличие от прежней модели, это не трёхдверный хетчбэк, а так называемый Shooting Break — спортивный универсал. Так выглядит Hyundai Elantra для американского рынка: весной обновлённая модель приедет и в Россию Hyundai готовит к выходу обновлённую версию седана Elantra, а ближе к осени появится новая Sonata. Кроме того, марка планирует вывести на рынок суббренд N, которым обозначаются «заряженные» версии автомобилей. Первенцем станет i30 N с двигателями 250 и 275 л. с. — горячий хетч вряд ли будет пользоваться спросом, но у корейцев другая цель: укрепить репутацию производителя, который выпускает не только среднеценовые модели. KIA убеждает нас, что представительский автомобиль может нести народный бренд: модель K900, как и Quoris, будут выпускать под маркой KIA. Hyundai, например, завёл отдельный премиум-бренд Genesis Новое поколение флагмана KIA Quoris в новом поколении переименовали в KIA K900 и привезут в Россию в течение года. Также мы ждём новый Soul и пару больших кроссоверов-братьев: KIA Telluride и Hyundai Palisade. KIA Telluride — кроссовер длиной ровно 5000 мм Кроме того, альянс Hyundai-KIA создаёт в России собственную штаб-квартиру — такие есть и на других значимых для марок рынках. А ещё организует собственное производство моторов и коробок передач, в первую очередь для Solaris и Rio. Toyota RAV4 получит двигатели объёмом 2 или 2,5 литра и полный привод с «регулируемым вектором тяги» Самой ожидаемой премьерой Toyota станет новое поколение кроссовера RAV4, и это хорошие новости для марки: в последнее время популярность модели несколько снизилась. Новый «рафик» построен на платформе TNGA, которую делит с Toyota Camry. Кстати, переход на новую платформу помог «Камри» удержала лидерство в сегменте, несмотря на изменение концепции и больший акцент на драйверские ценности. Что до RAV4, он выйдет на рынок ориентировочно в середине года и тоже обещает сделать шажок в сторону идеологии fun-to-drive. Toyota Corolla получила гибридную версию, но для России адресуют бензиновые модели Платформу TNGA получила новая Corolla, которая появится в России даже раньше — в первом квартале 2019 года. Автомобиль по-прежнему будет импортироваться из Турции. Дизайн Nissan Kicks пересадят на платформу В0 — таким «гибридом» Nissan планирует со временем заменить Terrano Новый Nissan Juke в Россию не приедет: эпатажный кроссовер стал бестселлером в момент дебюта восемь лет назад, но в последний год особым спросом не пользовался: модель импортируют из Великобритании, что сказывается на цене. Зато у нас появится «бюджетный» кроссовер, имя которого окончательно не утверждено. Фактически это аналог Renault Kaptur на той же платформе В0, причём тоже копирующий дизайн глобальной модели: только не французского Captur, а глобального Nissan Kicks, который с 2016 года выпускается для ряда стран. Пикап Mitsubishi Triton известен в России как L200, и фейслифтинг ему сделали радикальный: с таким дизайном он поспорит за титул самого экспрессивного пикапа Mitsubishi L200 прошёл рестайлинг, но отнюдь не формальный: он выглядит, как новая модель. Из других приятных изменений — шестиступенчатый автомат вместо прежнего пятиступенчатого. При этом автомобиль сохранил выбор полноприводных трансмиссий: можно заказать простую, с жёстким включением переднего моста, а можно выбрать SuperSelect с центральным дифференциалом и возможностью отключить пару колёс. Прежний Peugeot 508, как и 308, в России больше не продаётся, но нам обещают новое поколение 508-го Peugeot планирует вывести на российский рынок новый 508, который, кстати, попал в число семи финалистов конкурса «Автомобиль 2019 года». Citroen C5 Aircross — среднеразмерный кроссовер с характерным «цитрусовым» дизайном Попал в него и Citroen C5 Aircross, старт продаж которого ожидается в первой половине года: автомобиль во многом унифицирован с Peugeot 3008 и 5008, но имеет самобытный дизайн. Suzuki Jimny в России продается минимальным тиражом, тем не менее имеет верных поклонников: других субкомпактных внедорожников у нас попросту нет Suzuki демонстрирует чудеса веры в российский рынок: не имея собственного производства в стране, компания наращивает продажи, пусть даже в абсолютных цифрах они скромны. А главное, обещает-таки привезти к нам новое поколение Suzuki Jimny. Вряд ли его продажи будут высокими, например нынешняя модель стоит более миллиона рублей. Зато Jimny остаётся настоящим рамным внедорожником, пусть и очень компактным. Datsun Cross для индийского рынка, возможно, намекает на новую модель для России, но вряд ли она скопирует его полностью Но есть и модели, будущее которых в России пока туманно. Datsun обещает представить наконец свою третью модель для России — кроссовер. В Индии марка продаёт паркетник Cross, но прозрачные намёки российского офиса дают понять, что для нас готовят отдельную модель. SKODA Kamiq для китайского рынка является бюджетной моделью, которая конкурирует с Hyundai Creta, но для России, вероятно, подготовят автомобиль чуть более претенциозный SKODA презентовала хетчбэк Scala, который заменит Rapid с этим же кузовом, но в России он не появится. Зато у SKODA ожидается новый компактный кроссовер, хотя пока неясно, какую модель предложат россиянам: аналог китайской SKODA Kamiq или более европейскую версию по мотивам концепт-кара Vision X. В прошлом году начались продажи нового Ford Focus, но в России его локализовать на спешат, а импортировать бессмысленно — слишком высокой будет цена Новый Ford Focus также придёт в Россию с большим запозданием: в Европе модель уже продаётся, а нам не обещают и в 2019 году. В 2019-м начнутся мировые продажи Mazda3, но не факт, что модель успеет добраться до России до конца года Не ранее конца года ожидается и новая Mazda3, построенная на другой платформе с полузависимой задней подвеской и двигателями семейства SkyActive. Ravon R3 Nexia должен был стать бестселлером, но судьба его оказалась трудна, а в 2018 году марка и вовсе остановила продажи, хотя об уходе не объявила Неопределённым выглядит будущее узбекского бренда Ravon (экс-Daewoo), который в течение года приостанавливал продажи и потерял существенную долю рынка. По одной из версий, компания вынуждена увеличить цену автомобилей. Новых прайс-листов пока нет, но «Российская газета» публиковала информацию, что Ravon R3 Nexia стоит свыше миллиона рублей. Неважно идут дела у SsangYong, которая за прошлый год реализовала немногим более 100 автомобилей. Aurus Senat в президентском исполнении. Цена неизвестна, но очередь выстраивается А напоследок автомобиль пусть и не народный, но всё же горячо обсуждаемый: стартовали официальные продажи «президентских» седанов Aurus Senat. Желающим предлагают внести полтора миллиона рублей предоплаты, не оговаривая ни сроки поставки, ни финальную цену. Впрочем, и спешки нет: в этом году на предприятии Sollers в Алабуге стартует лишь подготовительный этап производства, а в серию Aurus пойдет уже в 2020 году. Весной мы увидим близкий к серийному внедорожник Komendant, а в течение года компания сертифицирует минивэн Arsenal.\n",
      "---------------------------- end -----------------------------\n",
      "\n",
      "--------------------------- Top-11 ---------------------------\n",
      "Трое из тринадцати усыновленных детей обвиняют бывшую приемную мать в жестокости. По их словам, женщина держала их в подвале на хлебе и воде, лишала еды, заставляла работать на стройке дома для родного сына. А также отбирала их сиротские пособия. Владимир и Юра считают, что с ними плохо обращались в приемной семье Семья Окуневых из Нижегородской области считалась образцовой у органов опеки. Женщина взяла из детдома 13 детей. Кроме этого у нее есть трое родных. Теперь у приемной матери забрали детей, правоохранительные органы проводят проверку. Трое усыновленных детей обвинили опекуншу в жестоком обращении в эфире федерального канала. — Я жил у нее 8 лет. Сначала был только я один, и тогда все было нормально. Она заставляла нас работать на стройке дома для ее сына, мы там копали ямы, пеньки выкапывали, работали даже в ливень. Если ей не нравилось, сколько человек сделал, могла наказать: заставить работать пока не сделаешь, не кормить. Самое жестокое наказание было — подвал. Однажды я получил в техникуме 40 тысяч рублей, ей не сказал, и 18 тысяч из них потратил. Она узнала, сильно ругалась и посадила меня в подвал на неделю. Давала бутылку воды и кусок хлеба на целый день, — рассказал в эфире программы «Мужское/женское» бывший воспитанник Ольги Окуневой Владимир Соколов. Он уже несколько лет живет один. До этого, говорит, что просто боялся куда-то обратиться. — Я думал, что это бесполезно. Мальчишки и раньше жаловались в органы опеки, они не помогали, — добавил он. Второй воспитанник женщины Юра Суровцев утверждает, что она потратила 680 тысяч его пенсии, которую он по закону должен был получить, когда станет совершеннолетним. В итоге теперь ему приходится снимать жилье, потому что денег у него нет. — Она все эти деньги сняла с моей книжки. Наверно, потратила на строительство дома, свои кредиты, — говорит Юра. Сама Ольга не считает, что плохо обращалась с детьми и утверждает, что любила их. А все, что они называют жестокостью, она воспринимает как методы воспитания. Так, например, некоторые приемные дети писали записки, в которых умоляли «тетю Олю» дать поесть, выпустить из подвала, отпустить к маме или в детский дом. А также составляли расписки, согласно которым, если по их вине ее дому и имуществу будет нанесен ущерб, они должны будут расплачиваться за это своими пенсиями. — Как вы можете объяснить эти записки? Почему дети их писали? Что это значит? — допытываются в студии до женщины ведущие программы. — Эти записки моя внутренняя работа в семье. Они писали их наедине с собой о своих страхах. Они высказывались на бумаге и забывали о них, — поясняет свою методику воспитания женщина. — Но откуда у детей такие страхи!? — недоумевает ведущая Юлия Барановская. Рассказывая о том, как строился быт в их большой семье, Ольга упомянула, что перед поездками в магазин снимала деньги с карточек детей. — Объясните мне, пожалуйста, либо я совсем идиот, либо вы действительно это сказали. Вы правда снимали деньги с книжек детей, что делать категорически запрещено? Это их деньги по потере кормильца, которые они получат после совершеннолетия. Вы ими распоряжаться не имеете права. Вы снимали деньги с книжек? — По разрешению органов опеки на дополнительное лечение, дополнительные поездки… — отвечает она. При этом за содержание сирот женщина, по ее словам, получала от государства от 30 до 100 тысяч рублей в месяц. В эфире программы также всплыла история о том, что якобы приемная мать заставила одного из приемных сыновей съесть свеклу, в которую он сходил в туалет, когда его наказали. — Тетя Оль, а вы не помните, как вы Никиту заставили свеклу есть с**ную? — спросил ее Юра. — Вы его заперли в подвале, и он там это сделал, потому что ему больше некуда было это сделать, — добавляет ведущая. — Вы видели, сколько банок было пустых? Можно было в любую сходить, — заявила она. Но затем стала отрицать, что запирала ребенка в подвале. — Я надеюсь, что в рамках следствия будет назначена судебная медицинская психиатрическая экспертиза, которая покажет, что вы просто невменяемая, — заключил ведущий Александр Гордон. Сейчас следственные органы проводят проверку по статье 156 УК РФ («Неисполнение обязанностей по воспитанию несовершеннолетнего»). На программу защищать маму пришел родной сын Ольги. Он утверждает, что приемные дети помогали на стройке его дома только по собственному желанию. На сторону приемной мамы встали еще четверо детей из детского дома. Они со слезами утверждают, что приемная семья стала для них родной, и никто с ними жестоко не обращался.\n",
      "---------------------------- end -----------------------------\n",
      "\n",
      "--------------------------- Top-12 ---------------------------\n",
      "Всё хорошее познаётся в сравнении. Прожив два года в США, нижегородка обнаружила, что в Америке всё не так хорошо, как представляется россиянам. Наоборот, некоторые вещи у нас на родине даже лучше. Стали свидетелем интересного события? Знаете важную информацию, о которой не можете молчать? Сообщите нам об этом – news@news.52.ru – и об этом узнает весь Нижний Новгород. Своим мнением о качестве жизни в Америке нижегородкаподелилась на платформе социальной журналистики «Медиум». «Россияне любят как ругать жизнь в развитых странах, так и, наоборот, раболепствовать перед товарами и услугами. Тем не менее, в жизни в России, однозначно, есть свои преимущества», - подчеркнула она.. По мнению нижегородки, поскольку в советские годы автомобиль был предметом роскоши, в России был и сейчас сильно развит общественный транспорт – как городской, так и междугородний. «На большой территории США без машины вы почувствуете себя «недочеловеком». А такси либо отсутствует, либо очень дорогое», - отметила она. Та же ситуация – с метро. В Москве оно работает великолепно, а в Нью-Йорке станция, на которой живёт нижегородка, регулярно закрывается на протяжении двух лет.В ТЕМУ:. В России нижегородке хватает 500 рублей на месяц на безлимитный интернет и 100 минут разговоров; количество разных предложений от операторов - огромное. «В США я плачу $50 (1500 рублей) за 1 ГБ трафика и безлимитные разговоры. Каждый дополнительный гигабайт стоит 700 рублей. У операторов есть, как правило, всего три пакета для предоплатных клиентов. Домашний интернет в США стоит от 1500 рублей ($50)».. «В Северной Каролине я пыталась записаться к врачу общей практики. Очередь была на месяц вперёд. Конечно, есть такие клиники, на которых написано walkings welcome - это означает, что у вас получится попасть к терапевту в день обращения. К узкому специалисту - вряд ли».. «Простуда, насморк, кашель - в России существуют разные способы вылечить себя без применения антибиотиков. Настойка эвкалипта, активированный уголь, ромашка в фильтр-пакетах, бальзам «Звездочка» позволят вам быстро прийти в себя и не разориться. В США большинство лекарственных средств доступны по рецепту. У местных врачей есть привычка выписывать антибиотики от всего».. «В США свёкла стоит 217 рублей за килограмм (курс - 70 рублей за доллар). А обычный жёлтый лук - 183 рубля за килограмм. Фрукты, купленные в магазине в США, могут лежать очень долго в холодильнике и странным образом не портятся. Отчего мне становится немного страшно их есть».(кроме сыра). «Сметана, которую я покупаю в США, не портится, отходит водой. И не самая приятная на вкус. Творожные батончики тут не встречаются. А кефир может стоить 384 рубля в магазине Whole Foods в Нью-Йорке».. «В России огромный выбор шоколада на любой вкус. При поедании «Бабаевского» шоколада у вас не складывается впечатление, что вы съели стиральный порошок. В последнее время стали появляться различные «organic» бренды шоколада и в США. Их можно есть, но плитка стоит в 2–3 раза дороже, чем в России».. «В России есть два великолепных производителя косметики, которые делают лучший скраб . После нанесения скраба, который продаётся в США, у меня складывается ощущение, что меня помазали нефтью».. Белорусские прокладки Bella, которые продают в России, стоят в десять раз дешевле и гораздо комфортнее, чем американские, которые будто сделаны из 100% полиэтилена.. «В США очень плохо с женским бельём. Бюстгалтеры представляют собой толстую прослойку поролона, так чтобы не было видно сосков. Соски — это неполиткорректно. Найти красивое бельё здесь сложно. В России и странах СНГ много хороших производителей белья... Оно женственное, лёгкое и не напоминает мне броню».В заключение нижегородка пообещала в следующий раз назвать преимущества жизни в США, отметив: «Не забывайте при этом, что продолжительность жизни в США, несмотря на невкусную сметану, дольше, чем в России, поэтому берегите нервы и чаще обследуйтесь».В ТЕМУ:\n",
      "---------------------------- end -----------------------------\n",
      "\n",
      "--------------------------- Top-13 ---------------------------\n",
      "Горожане придумали, как справиться с заторами на дорогах и во дворах после обильных снегопадов. Попутно они выяснили, почему на улицах много автомобилистов, которые в это время могли бы остаться дома. Фото: Саша Белоусова Жижа на площади Горького «Вот у меня на работе много сотрудников живут в 15-30 минутах ходьбы до работы, они ездят не машинах, причем как раз по участку дороги, где практически всегда пробки. Вот почему бы им не прогуляться?» Фото: Роман Фильцов Двое чистят, пятеро наблюдают )) «Будет желание сделать город чистым, оно вполне исполнимо. Если главное сколько бабла можно положить себе в карман - тут хоть что придумывай, результат будет один, тот который мы видим сейчас, Конструктивное обсуждение проблем заваленного снегом Нижнего Новгорода развернулось на Городском форуме NN.RU «А никто не пробовал подумать, как со снегопадом бороться вместе?» – спросил пользователь с ником девел0пер. «NN.RU могли бы и конкурс учредить, кстати, а не «ненависть на почве снегопада» разжигать», пошутил он. Автор темы первым предложил свои варианты (орфография сообщений сохранена).№ 1. «В городе есть не только спецтехника, но и обычная техника. Почему бы не предлагать добровольцам (возможно за небольшую плату) прикрепить антиснежный плуг к мощному авто (внедорожнику)? ну или к автобусу - вон у него мощи сколько!» - сказал№ 2. «На постоянных парковках сделать _наклонные_ тенты - снег будет скатываться. Если подвести электричество - можно будет и растопить (но затратно) снег на таких тентах. Вот только воду куда девать... есть идеи?»Вполне эффективное для миллионника средство предложил№ 3. «Отказаться на время снегопадов от использования автомобиля без особой необходимости...а то че как дурак в пробках стоишь и сам эти пробки создаешь», - написал он.В ТЕМУ:Продолжая тему,предложил ездить в магазин за продуктами заблаговременно, в выходной, а не в час пик. «Впрочем, если Вы каждый день по 5 тяжеленных пакета только жрачки носите, тогда вариантов нет», - оговорился он.посоветовала автомобилистам побольше ходить пешком.Обсуждая транспортную тему, горожане заключили, что№ 4. Зимой лучше пользоваться общественным транспортом: трамваями и метро.«Трамваи NoNo 21, 27, 2, 3, 4, 6, 7 и метро охватывают все перечисленное и многое другое (и быстрее, чем авто!), кроме В.Печер. В. Печеры - это реально ..опа мира, тут я пас», - заключилуточнил, что некоторым придется побороть страх перед маршрутками. «А посмотрите в окна застрявших машин. Сегодня двоих таких вытаскивал. Обеих спросил: \"Ну вы ж знали, снег идёт, пробки?!\" Ответы примерно похожие были: \"Ну как же Я на маршрутке поеду!\" и что-то \"Ну мне же надо было на маникюр съездить и коту поесть купить!\". Судя по ногтям - откапывать они и не собирались в принципе. Но страх перед маршруткой или пешей прогулкой просто паничен», - рассказал он.В ТЕМУ:предложил более оригинальные варианты:№ 5. Разгонять снег еще в небе№ 6. Отменить зиму№ 7. «Заставить Шанцева, Сорокина, Кондрашова с утра до вечера лопатами грести снеги тд. Как деньги за уборку снега пилить так без нас, как снег убирать так вместе», - добавил он. А вотрешила, что вместе со снегом нужно убрать чиновников, которые с ним не могут справиться.№ 8. «считаю, что не совсем правильно перекладывать на плечи горожан работу тех, кто отвечает в городе за благоустройство и чистоту дорог во время и после снегопада. Не справляются чиновники со своими обязанностями - давай, до свидания! может быть тогда начнут во время принимать меры!».Чем дальше заходил разговор, тем нереальнее становилась возможность почистить город от снега. «Предлагаю еще вариант в вашем духе, - подключился№ 9. «Вот в городе есть много асфальтовых катков. Зимой они бездействуют. Можно этими катками укатывать снег на улицах. Тогда он станет плотным и его не надо будет убирать и вывозить. P.S. Между прочим, на севере примерно так и делают. Берут бревно или несколько сколоченных вместе бревен, кладут поперек дороги и таскают за трактором. Получается ровная красивая белая дорога».отнесся к предложению максимально обстоятельно и серьезно. Он считает, что для начала нужно перестроить всю систему по организации уборки.№ 10. Заменить дворников-мигрантов российскими, местными, и назначить бригадира, который будет контролировать работу. Установить достойную плату за уборку двора. Чистить снег в то время, когда он идет, а не когда прошел и его утрамбовали.«1. Через сайт можно распределить участки дворов, улицы, которые нужно убирать.2. Выбрать на конкурсной основу бригадиров, которые сформируют бригады для конкретных участков, обозначить плату за уборку этих участков.3. Обеспечить вывоз снега сразу по заявке этих бригадиров, подвоз песка, соли.4. Не привлекать к этой работе кучи посредников, которые только прожирают деньги.5. Выход на работу в любое время суток, в праздники, в выходные», - объяснил он.Горожанин считает, что начало изменениям должно быть положено «сверху».- добавил нижегородец. - Каждый день чищу свой двор, порядка 450 кв.метров до брусчатки. Выхожу иногда по 3-4 раза в день. Приходится и наледь долбить, и рано утром выходить и в праздники и в выходные. А вот дорога, которая рядом, всего то 50-60 кв. метров принадлежит городу, и \"чистит\" ее \"Инженерный центр\", вернее платит штрафы государству - завалена снегом».В ТЕМУ:\n",
      "---------------------------- end -----------------------------\n",
      "\n"
     ]
    }
   ],
   "source": [
    "for i, item in enumerate(inds_pred, start=1):\n",
    "    print('--------------------------- Top-{} ---------------------------'.format(i))\n",
    "    print(data_train[item])\n",
    "    print('---------------------------- end -----------------------------')\n",
    "    print()"
   ]
  },
  {
   "cell_type": "code",
   "execution_count": 118,
   "metadata": {},
   "outputs": [
    {
     "name": "stdout",
     "output_type": "stream",
     "text": [
      "--------------------------- Top-1 ---------------------------\n",
      "Их планируется обустроить в этом году Их планируется обустроить в этом году В Нижнем Новгороде в этом году власти планируют сделать 56 платных парковок. Это и небольшие территории возле нескольких домов, и целые улицы. NN.RU составил карту будущих стоянок. Скоро почти все парковки в центре Нижнего станут платными Платные парковки в основном появятся в центре города, также пара стоянок станет платной в Канавинском районе. Как сообщили NN.RU в администрации Нижнего Новгорода, обустройство платных парковок планируется по адресам: Рождественская ул. от д. №17 до д. №49; Маркина пл.; Нагорный пер.; Алексеевская ул. у д.№2; Алексеевская ул. от пл. Минина до ул. Пискунова; Алексеевская ул. от д. №7 по д. №9; Алексеевская ул. от д. №24 до д. №26; Алексеевская ул. от ул. Октябрьская до ул. Грузинская; А. Блохиной ул. от ул. Варварская до ул. Ковалихинская; Белинского ул. от ТЦ Шоколад до ул. Ванеева; Б. Печерская ул. от ул. Пискунова до пл. Сенной; Большая Покровская ул. у д. №65; Володарского ул. от ул. Ошарская до ул. Варварская; Верхневолжская наб. от пл. Минина до пл. Сенной; Гоголя ул. от ул. М. Покровская до ул.Нижегородская 16 Горького пл. у д. №56; Горького пл. между д. №1 и №2; Горького пл. у дома №3; Горького пл. у дома №5; Горького пл. у дома №4; Горького ул. от д. №141 до д.№145; Горького ул. от пл. Свободы до ТЦ Шоколад; Грузинская ул. от ул. Б. Покровская до ул. Ошарская; Добролюбова ул. у д.№ 9; Ильинская ул. от ул. Маслякова до ул.Сергиевская; Звездинка ул.; Ковалихинская ул. от ул. Варварская до ул. Семашко; Ковалихинская ул. напротив д. №77; Короленко ул. от ул. Белинского до ул. Славянская; Костина ул. от ул. Белинского до пл. Горького; Костина ул. около д. №13; Кулибина ул. от ул. Белинского до ул. Тимирязева; Малая Покровская ул. от ул. Звездинка до ул. Б. Покровская; Маслякова ул. от ул. Ильинская до пл. Горького; Минина ул. от д. №7 до д. №49; Нижневолжская наб. справа от Речного вокзала; Нестерова ул. от ул. Ульянова до В. Волжской наб.; Новая ул. от ул. Ильинская до ул. Белинского; Октябрьская ул. от ул. Ошарская до ул. Алексеевская; Октябрьская ул. от ул. Алексеевская до ул. Б. Покровская; Окский съезд от д.№2 до д.№4; Ошарская ул. от ул. Горького до ул. Белинского; Ошарская ул. от д. №12 до д. №14; Ошарская ул. от Чернопрудского пер. до ул. Пискунова; Пискунова ул. от ул. Алексеевская до ул. Б. Покровская; Пискунова ул. от ул. Варварская до ул. Ульянова; Пискунова ул. у д. № 41; Провиантская ул.; Семашко ул. от пл. Свободы до ул. Ковалихинская; Семашко ул. от ул. Ульянова до В. Волжской наб.; Трудовая ул.; Чернопрудский пер.; Ульянова ул.; Даля ул. от ул. Канавинской до пл. Революции; Литвинова ул. от ул. Приокская до ул. Даля; Чкалова ул. от д. №1 до д. №13. Эти планы прописаны в постановлении администрации Нижнего Новгорода еще от 2013 года. Их воплощение было запланировано на 2018 год. Однако реализация зависит от финансирования работ. В Нижнем Новгороде на данный момент четыре действующие платные муниципальные парковки: на улицах Рождественской и Ковалихинско, площади Горького и около Московского вокзала.\n",
      "---------------------------- end -----------------------------\n",
      "\n",
      "--------------------------- Top-2 ---------------------------\n",
      "Атрибутов Нового года, как и снега, в этом году было немного Атрибутов Нового года, как и снега, в этом году было немного В Нижнем Новгороде уже начинают убирать атрибуты Нового года, которых, как и снега, в этом году и так было немного. А ведь всего лишь экватор календарной зимы. Мы решили продлить вам новогоднее настроение и публикуем 25 фотографий нижегородцев. Смотрите, и Нижний Новгород в новогодние дни был красивым!\n",
      "---------------------------- end -----------------------------\n",
      "\n",
      "--------------------------- Top-3 ---------------------------\n",
      "\"Нигде не безопасно пешеходам, нигде!\" \"Тротуар - это часть дороги\" Автор: Оксана Нестерова Фото: Роман Фильцов На этой неделе нижегородцы были шокированы новостью, о том, что ГАЗель насмерть сбила 17-летнюю девушку на тротуаре. Вчера, 24 марта, утром в Нижнем Новгороде вновь произошло ДТП на тротуаре: на этот раз автомобилистка на Hyundai сбила 20-летнюю нижегородку.\n",
      "---------------------------- end -----------------------------\n",
      "\n",
      "--------------------------- Top-4 ---------------------------\n",
      "Ранее NN.RU сообщал, где и какие праздничные представления для детей пройдут в Нижнем Новгороде. Не забывайте, что у нас есть собственный канал в Telegram, где мы публикуем самые интересные новости Нижнего Новгорода. Если вы хотите одним из первых читать эти материалы, подписывайтесь: t.me/nn_ru. Текст: Татьяна Кузнецова Фото: Наталья Бурухина\n",
      "---------------------------- end -----------------------------\n",
      "\n",
      "--------------------------- Top-5 ---------------------------\n",
      "Центробанк выяснил: жизнь 48% россиян ухудшилась из-за падения рубля «Видимо, россияне все-таки надеются, что курс рубля достиг своего локального дна», - Банк России Автор: Алёна Ужова Фото: из архива NN.RU Банк России опубликовал результаты ежемесячного опроса общественного мнения, проведенного в декабре прошлого года. Регулятор выяснил, как повлияло падение рубля на жизнь россиян, и на чем им приходится экономить.\n",
      "---------------------------- end -----------------------------\n",
      "\n",
      "--------------------------- Top-6 ---------------------------\n",
      "Сегодня в Нижнем Новгороде состоялось Святочное шествие. Вместе с горожанами корреспондент NN.RU прошёл всю Покровку: от церкви в честь Введения во храм Пресвятой Богородицы до часовни в честь образа Спаса Нерукотворного в Кремле. Рядом с «Арсеналом» участников накормили пирогами, а детям раздали угощения. Праздник закончили хороводами, перетягиванием каната и игрой в снежки с батюшкой.\n",
      "---------------------------- end -----------------------------\n",
      "\n",
      "--------------------------- Top-7 ---------------------------\n",
      "\"Не тот ли маньяк с Космической?\" Нижегородцы об убийстве 22-летней девушки Жители Нижнего Новгорода боятся, что в городе орудует маньяк Автор: Оксана Нестерова Очередное убийство девушки в Нижнем Новгороде шокировало горожан. Как ранее сообщал NN.RU, тело 22-летней нижегородки было найдено утром 15 марта на Южном шоссе в Автозаводском районе. Жители нашего города сразу же вспомнили об автозаводском маньяке, который так и не найден и о страшных убийствах Марии Гликиной и Дарьи Калининой.\n",
      "---------------------------- end -----------------------------\n",
      "\n",
      "--------------------------- Top-8 ---------------------------\n",
      "Сегодня нижегородцы провели несколько часов в пробке, благодаря подозрительному предмету , который и скали спецслужбы на Канавинском мосту . Давайте посмотрим, как это было. Отправьте свою новость в редакцию, расскажите о проблеме или предложите тему для публикации. Пришлите фото или видео интересного события на почту news@news.52.ru. Наш номер в WhatsApp и Viber 8-910-390-4040. Читайте новости в соцсетях \"ВКонтакте\", Facebook, \"Одноклассники.ru\". Наши новостные каналы — в Twitter, Viber и Telegram.\n",
      "---------------------------- end -----------------------------\n",
      "\n",
      "--------------------------- Top-9 ---------------------------\n",
      "Сегодня в Нижнем Новгороде встретились пилоты аэростатов из Москвы и Московской области, Йошкар-Олы, Калуги, Воронежа, Истры, Красногорска и Армении. В 7:00 был запланирован старт Кубка вызова. И он состоялся. Фотокорреспондент NN.RU стал свидетелем этого яркого зрелища. Не забывайте, что у нас есть собственный канал в Telegram, где мы публикуем самые интересные новости Нижнего Новгорода. Если вы хотите одним из первых читать эти материалы, подписывайтесь: t.me/nn_ru. Текст: Сергей Викторов Фото: Наталья Бурухина\n",
      "---------------------------- end -----------------------------\n",
      "\n",
      "--------------------------- Top-10 ---------------------------\n",
      "Метель сменил дождь. 10 фотографий с улиц Нижнего Новгорода Снежный покров стал таять в понедельник За выходные Нижний Новгород укрыл снежок, но в понедельник от по-настоящему зимней погоды не осталось и следа. Сейчас снежное покрывало превращается в грязную кашу на дорогах и тротуарах, но есть и позитивные моменты. Текст: Вера Новикова Фото: Наталья Бурухина Не забывайте, что у нас есть собственный канал в Telegram, где мы публикуем самые интересные новости Нижнего Новгорода. Если вы хотите одним из первых читать эти материалы, подписывайтесь: t.me/nn_ru.\n",
      "---------------------------- end -----------------------------\n",
      "\n",
      "--------------------------- Top-11 ---------------------------\n",
      "Портал NN.RU продолжает публиковать фотографии автохамов на нижегородских дорогах. Если вы стали свидетелем нарушения правил парковки или правил дорожного движения — присылайте фото-, видеосвидетельства в редакцию городского портала NN.RU на почту news@news.52.ru . Укажите адрес, где это нарушение зафиксировано. Текст: Светлана Попова Фото: Оксана Кузнецова, Facebook.com/Елизавета Быдреевская, Оксана Скалина, читатель NN.RU, Facebook.com/Сергей Шухрин, Vk.com/Татьяна Ежова, Светлана Попова Не забывайте, что у нас есть собственный канал в Telegram, где мы публикуем самые интересные новости Нижнего Новгорода. Если вы хотите одним из первых читать эти материалы, подписывайтесь: t.me/nn_ru.\n",
      "---------------------------- end -----------------------------\n",
      "\n",
      "--------------------------- Top-12 ---------------------------\n",
      "Портал NN.ru продолжает публиковать фотографии автохамов на нижегородских дорогах. Если вы стали свидетелем нарушения правил парковки или Правил дорожного движения — присылайте фото-, видеосвидетельства в редакцию городского портала NN.ru на почту news@news.52.ru . Укажите адрес, где это нарушение зафиксировано. Вы также можете читать нас в «ВКонтакте» и Viber, где мы рассказываем интересные и важные новости Нижнего Новгорода. Если вы хотите одним из первых читать эти материалы, подписывайтесь на наши группы в «ВКонтакте» и канал в Viber. Текст: Светлана Попова Фото: Mike Konovalov, Вера Новикова, Захарова Ирина, Марк Григорьев, Сергей Норм, читатели NN.ru\n",
      "---------------------------- end -----------------------------\n",
      "\n",
      "--------------------------- Top-13 ---------------------------\n",
      "«Жюри выбрало Австралию зрители Россию, а победила Украина». Итоги «Евровидения» сегодня самая обсуждаемая новость всех мировых СМИ. Стали свидетелем интересного события? Знаете важную информацию, о которой не можете молчать? Сообщите нам об этом – news@news.52.ru – и об этом узнает весь Нижний Новгород. Наш певец Сергей Лазарев стал третьим на «Евровидении-2016». Первое место заняла участница из Украины, где и будет проходить конкурс на следующий год.В этом году голосовали не только зрители, теперь ещё и жюри – представители разных стран.Максимальное количество (12 баллов) Сергею Лазареву дали представители жюри Азербайджана, Кипра, Белоруссии и Греции. Ни единого балла не досталось России от профессионального жюри Украины. Зато украинские зрители отдали Лазареву максимальные 12 баллов. А российские зрители почти также высоко оценили выступление победительницы конкурса Джамалы, отдав ей 10 баллов.Сам Сергей Лазарев считает свое выступление огромной победой из-за того, что ему удалось изменить отношение к российским певцам со стороны зрителей. «Мы с самого начала понимали некоторые «особенности», в отношении к нам. Но приятно, что удалось сломить какой-то негатив к российским участникам, который был здесь в последние несколько лет. Это все знают, и меня предупреждали, что последние два года зрители отрицательно реагировали на российских артистов, несмотря на то, что они выступали достойно. А в этом году меня поддерживала аудитория, за меня проголосовала Европа. Это дорогого стоит, это самая большая победа: что мне удалось так поменять отношение, настроить зрителей на положительный лад», - сказал после выступления Лазарев.Армения. Зрители — 12 баллов. Жюри — 2 баллаАвстралия. Зрители — 5 баллов. Жюри — 0 балловБельгия. Зрители — 6 баллов. Жюри — 0 балловЧехия. Зрители — 10 баллов. Жюри — 0 балловЭстония. Зрители — 12 баллов. Жюри — 0 балловМакедония. Зрители — 8 баллов. Жюри — 0 балловФинляндия. Зрители — 8 баллов. Жюри — 0 балловГрузия. Зрители — 8 баллов. Жюри — 0 балловГермания. Зрители — 12 баллов. Жюри — 0 балловВенгрия. Зрители — 10 баллов. Жюри — 0 балловИрландия. Зрители — 8 баллов. Жюри — 0 балловИзраиль. Зрители — 10 баллов. Жюри — 0 балловИталия. Зрители — 8 баллов. Жюри — 0 балловЛитва. Зрители — 8 баллов. Жюри — 0 балловПольша. Зрители — 8 баллов. Жюри — 0 балловСербия. Зрители — 12 баллов. Жюри — 1 баллСловения. Зрители — 10 баллов. Жюри — 0 балловУкраина. Зрители — 12 баллов. Жюри — 0 балловВеликобритания. Зрители — 7 баллов. Жюри — 0 балловА вот как социальные сети отреагировали на победу украинской певицы Джамалы на «Евровидении». «Ну что я могу сказать по поводу Евровидения?! Наглядно доказали насколько далеки друг от друга народное мнение и мнение тех кто стоит у рычагов власти», - написала Olga Pasanen. «Да «Евровидение 2016» политика взяла верх над искусством, украинцы даже здесь на жалость давят позор!!» - заметила Яна Майдебура. «Во всем есть свои плюсы!!! Для меня третье место Сергея Лазарева на Евровидении равносильно первому. Думаю, что мое мнение разделяют многие... Плюс же в том, что России в следующем году не нужно тратить миллионы на организацию очередного феерического шоу... Все ж таки кризис... Ну успеем мы еще оторваться на этом поприще - у нас впереди вечность!!! « - отметил Александра Шелыбаева. «Наверно вчера был тот самый момент, когда многие зрители «Евровидение-2016», смогли в очередной раз убедиться, что это больше не конкурс талантов, а банально очередной политический инструмент. «Профессиональное» жюри многих стран крайне «порадовало» своей объективностью голосов. Но всё же последнее слово за народом и зрители отдали это слово за Россию, поэтому лично я полностью солидарен с решением зрителей! Ярче и красочной выступления нашего Сергея Лазарева просто не было, хотя на конкурсе были представлены и другие достойные номера от стран-участниц», - добавил Геннадий ТукмановПользователи Instagram предлагают отправить в следующем году на конкурс Сергея Шнурова.Самый драматичный момент конкурса. Распределение голосов.\n",
      "---------------------------- end -----------------------------\n",
      "\n"
     ]
    }
   ],
   "source": [
    "for i, item in enumerate(inds_pred_1, start=1):\n",
    "    print('--------------------------- Top-{} ---------------------------'.format(i))\n",
    "    print(data_train[item])\n",
    "    print('---------------------------- end -----------------------------')\n",
    "    print()"
   ]
  },
  {
   "cell_type": "markdown",
   "metadata": {},
   "source": [
    "# Build Models"
   ]
  },
  {
   "cell_type": "code",
   "execution_count": 86,
   "metadata": {
    "collapsed": true
   },
   "outputs": [],
   "source": [
    "dataframe_auto = dataframe[dataframe.genre == \"AUTO\"][:60]\n",
    "dataframe_winter = dataframe[dataframe.genre == \"WINTER\"][:60]\n",
    "dataframe_world = dataframe[dataframe.genre == \"WORLD\"][:60]\n",
    "dataframe_town = dataframe[dataframe.genre == \"TOWN\"][:60]\n",
    "dataframe_accidents = dataframe[dataframe.genre == \"ACCIDENTS\"][:60]\n",
    "# Изменить 60 на 61:72"
   ]
  },
  {
   "cell_type": "code",
   "execution_count": 87,
   "metadata": {
    "collapsed": true
   },
   "outputs": [],
   "source": [
    "dataframe_auto_2 = dataframe[dataframe.genre == \"AUTO\"][61:72]\n",
    "dataframe_winter_2 = dataframe[dataframe.genre == \"WINTER\"][61:72]\n",
    "dataframe_world_2 = dataframe[dataframe.genre == \"WORLD\"][61:72]\n",
    "dataframe_town_2 = dataframe[dataframe.genre == \"TOWN\"][61:72]\n",
    "dataframe_accidents_2 = dataframe[dataframe.genre == \"ACCIDENTS\"][61:72]"
   ]
  },
  {
   "cell_type": "code",
   "execution_count": 88,
   "metadata": {
    "collapsed": true
   },
   "outputs": [],
   "source": [
    "frames = [dataframe_auto, dataframe_winter, dataframe_world, dataframe_town, dataframe_accidents]\n",
    "df_train_m = pd.concat(frames)"
   ]
  },
  {
   "cell_type": "code",
   "execution_count": 89,
   "metadata": {
    "collapsed": true
   },
   "outputs": [],
   "source": [
    "frames = [dataframe_auto_2, dataframe_winter_2, dataframe_world_2, dataframe_town_2, dataframe_accidents_2]\n",
    "df_test_m = pd.concat(frames)"
   ]
  },
  {
   "cell_type": "code",
   "execution_count": 90,
   "metadata": {},
   "outputs": [
    {
     "data": {
      "text/plain": [
       "300"
      ]
     },
     "execution_count": 90,
     "metadata": {},
     "output_type": "execute_result"
    }
   ],
   "source": [
    "len(df_train_m)"
   ]
  },
  {
   "cell_type": "code",
   "execution_count": 91,
   "metadata": {},
   "outputs": [
    {
     "data": {
      "text/plain": [
       "55"
      ]
     },
     "execution_count": 91,
     "metadata": {},
     "output_type": "execute_result"
    }
   ],
   "source": [
    "len(df_test_m)"
   ]
  },
  {
   "cell_type": "code",
   "execution_count": 92,
   "metadata": {},
   "outputs": [
    {
     "data": {
      "text/html": [
       "<div>\n",
       "<style>\n",
       "    .dataframe thead tr:only-child th {\n",
       "        text-align: right;\n",
       "    }\n",
       "\n",
       "    .dataframe thead th {\n",
       "        text-align: left;\n",
       "    }\n",
       "\n",
       "    .dataframe tbody tr th {\n",
       "        vertical-align: top;\n",
       "    }\n",
       "</style>\n",
       "<table border=\"1\" class=\"dataframe\">\n",
       "  <thead>\n",
       "    <tr style=\"text-align: right;\">\n",
       "      <th></th>\n",
       "      <th>genre</th>\n",
       "      <th>text</th>\n",
       "    </tr>\n",
       "  </thead>\n",
       "  <tbody>\n",
       "    <tr>\n",
       "      <th>65</th>\n",
       "      <td>AUTO</td>\n",
       "      <td>Новая подборка про людей, которые паркуются ка...</td>\n",
       "    </tr>\n",
       "    <tr>\n",
       "      <th>66</th>\n",
       "      <td>AUTO</td>\n",
       "      <td>Их планируется обустроить в этом году Их плани...</td>\n",
       "    </tr>\n",
       "    <tr>\n",
       "      <th>67</th>\n",
       "      <td>AUTO</td>\n",
       "      <td>Короли парковки: «Крузак головного мозга» Нова...</td>\n",
       "    </tr>\n",
       "    <tr>\n",
       "      <th>68</th>\n",
       "      <td>AUTO</td>\n",
       "      <td>Вот и прошел 2017 год. Вроде бы всего 12 месяц...</td>\n",
       "    </tr>\n",
       "    <tr>\n",
       "      <th>69</th>\n",
       "      <td>AUTO</td>\n",
       "      <td>Автохамы в гостях у NN.RU Автохамы в гостях у ...</td>\n",
       "    </tr>\n",
       "  </tbody>\n",
       "</table>\n",
       "</div>"
      ],
      "text/plain": [
       "   genre                                               text\n",
       "65  AUTO  Новая подборка про людей, которые паркуются ка...\n",
       "66  AUTO  Их планируется обустроить в этом году Их плани...\n",
       "67  AUTO  Короли парковки: «Крузак головного мозга» Нова...\n",
       "68  AUTO  Вот и прошел 2017 год. Вроде бы всего 12 месяц...\n",
       "69  AUTO  Автохамы в гостях у NN.RU Автохамы в гостях у ..."
      ]
     },
     "execution_count": 92,
     "metadata": {},
     "output_type": "execute_result"
    }
   ],
   "source": [
    "df_test_m[:5]"
   ]
  },
  {
   "cell_type": "code",
   "execution_count": 105,
   "metadata": {
    "collapsed": true
   },
   "outputs": [],
   "source": [
    "data_F = []\n",
    "for item in df[\"text\"]:\n",
    "    data_F.append(item)"
   ]
  },
  {
   "cell_type": "code",
   "execution_count": 111,
   "metadata": {},
   "outputs": [
    {
     "data": {
      "text/plain": [
       "300"
      ]
     },
     "execution_count": 111,
     "metadata": {},
     "output_type": "execute_result"
    }
   ],
   "source": [
    "len(y_train)"
   ]
  },
  {
   "cell_type": "code",
   "execution_count": 173,
   "metadata": {},
   "outputs": [
    {
     "data": {
      "text/plain": [
       "['Мы разобрались, можно ли купить дешёвую страховку по новым тарифам Мы разобрались, можно ли купить дешёвую страховку по новым тарифам С начала года коридор тарифов ОСАГО расширили на 20% и вверх, и вниз. Это дало страховым компаниям выбор: оставить цены, повысить или снизить. Мы проанализировали стоимость полисов в регионах России, и оказалось, что найти страховку подешевле действительно можно — тарифы страховых компаний отличаются сильнее, чем в прошлом году. Гибкие тарифы ОСАГО должны были «наказать» аварийных водителей, но на деле всё оказалось не так Под флагом заботы о водителях Стоимость полиса ОСАГО зависит от базового тарифа, который умножается на восемь коэффициентов: территориальный, аварийности (КБМ), опыта и стажа, мощности и так далее. В прошлом году вилка базового тарифа составляла 3432–4118, сейчас её раздвинули до 2746–4942 рублей — вилка эта определена законом об ОСАГО. То есть в теории можно найти полис, который ощутимо дешевле прошлогоднего. Реформу, поведённую Банком России, подают как шаг навстречу водителям: дескать, теперь страховые будут поощрять аккуратных клиентов с помощью сниженных тарифов. Вот как прокомментировал нововведения президент Российского союза автостраховщиков Игорь Юргенс: — Это первый и важный шаг на пути либерализации ОСАГО. В результате тарифы на обязательную автогражданку станут более справедливыми для автовладельцев, и безаварийные водители станут платить меньше. При этом автовладельцы с аварийным стажем получат мощный экономический стимул для того, чтобы меняться в лучшую сторону. Так может ли аккуратный водитель с большим безаварийным стажем надеяться сегодня на дисконты от страховых? Скидки не для всех Иллюзии рассыпались сразу. Мы обратились к директору одного из страховых агентств Кириллу Смолину с просьбой подобрать дешёвую страховку для взрослого, опытного водителя с безаварийным стажем более десяти лет, но всё оказалось не так просто: — Страховые не имеют возможности предлагать клиентам индивидуальные тарифы, поэтому базовая ставка выбирается из указанного коридора для каждой конкретной территории — города и области. Например, для нашего города у каждой страховой действует единый тариф, — пояснил специалист. Безаварийность по-прежнему отражает коэффициент бонус-малус (КБМ), который в пределе достигает 0,5 единицы, позволяя сэкономить до половины стоимости ОСАГО. Но для конкретного города базовый тариф будет одинаков для всех. Максимальный базовый тариф теперь близок к 5000 рублей, и многие страховые не упустили возможности поднять стоимость страховки Так сколько стоит ОСАГО Единого подхода к формированию тарифной сетки нет: каждая страховая выбрала базовые тарифы для конкретных городов и регионов, руководствуясь внутренней статистикой. По сути, расширение коридора базового тарифа стало дополнением к территориальному коэффициенту: теперь «невыгодным» городам можно поднять тариф до максимальной планки в без малого 5000 рублей. Причём, по нашим данным, подавляющее большинство крупных страховых либо оставили тарифы на прошлогоднем уровне, либо повысили: снижения до уровне ниже 3000 рублей нет, хотя такая возможность с 9 января имеется. «РЕСО-Гарантия» повысила тарифы ступенчато: для некоторых регионов — до умеренной планки 4393 рублей (Волгоградская, Ростовская, Челябинская области, Башкортостан, Татарстан), для других — до максимальных 4942 рубля (Новосибирская, Астраханская области, Воронежская области, Тыва, Хакасия, Удмуртия, Калмыкия, Чукотка, Камчатка). Есть регионы, где тарифы остались на уровне прежнего максимума в 4118 рублей, например Свердловская область и Екатеринбург, Москва, Санкт-Петербург. Страховое общество ВСК для большинства регионов оставило прошлогодний тариф — 4118 рублей и также поступил «Росгосстрах». «АльфаСтрахование» поменяло тарифы по сложной схеме, в результате неизменным или меньшим он стал в 37 территориях. Для 49 — страховка стала дороже. «Ингосстрах» оставил тарифы для всех регионов, кроме Санкт-Петербурга и двух традиционно невыгодных страховщикам областей — Мурманской и Челябинской. Для последней базовый тариф «Ингосстраха» ниже среднего и составляет 3912 рублей. Страховая группа СОГАЗ подошла к вопросу гибко, поэтому и тарифы для большинства регионов колеблются в диапазоне 3912 рублей (чуть ниже прошлогоднего максимума) до максимально возможных 4942 рублей — такую планку установили, например, в Челябинской, Ростовской, Новосибирской областях, Красноярском и Краснодарском краях. «АСКО Страхование» подняло тарифы в большинстве регионов, но в Челябинской области и близких к ней регионам сохранила ставку на прошлогоднем уровне в 4118 рубля. При этом для Кургана он возрос до 4530 рублей, а для некоторых городов Курганской области — до 4942. Как покупать автогражданку в 2019 году Если в прошлом году ценовой конкуренции между страховыми почти не было и базовый тариф выбирался на уровне четыре тысячи рублей, то теперь вилка действительно увеличилась: например, для автора этого материала итоговая стоимость полиса в «дорогой» и «дешёвой» компании колебалась в диапазоне от 5422 до 6850 рублей. Для владельцев более дорогих страховок разница будет ещё заметней, поэтому сегодня вполне разумно проанализировать предложения компаний в вашем регионе. Другое дело, что тарифы разных страховых могут постепенно выровняться с верхней планкой, как это случалось в прошлые годы. Планируете ли вы приобретать полис ОСАГО в этом году? Авторизируйтесь , чтобы проголосовать Опрос завершен Вы успешно проголосовали! Результаты будут опубликованы по завершении опроса. Да, как всегда Ещё не решил С этого года брошу Езжу без полиса год-два Давно без полиса К сожалению, ваш браузер сильно устарел и не поддерживает технологию голосования',\n",
       " 'Недорогой 5-метровый минивэн везёт кучу вещей и расходует 7 литров в городе Недорогой 5-метровый минивэн везёт кучу вещей и расходует 7 литров в городе Минивэн Citroen SpaceTourer является аналогом соплатформенного Peugeot Traveller. Посмотрим, как ездит Citroen, какой комфорт предоставляет и кому вообще может понадобиться такое авто. Подробности в тест-драйве редактора НГС.АВТО Дмитрия Косенко. Длина автомобиля — почти пять метров Ездить на Citroen SpaceTourer по тесному городу поначалу может показаться трудным, особенно парковаться. Длина ведь почти 5 метров. Зато отличный обзор и высокая посадка, видишь транспортный поток далеко перед собой. «Ситроеновский» сплющенный нос и большие фары делают автомобиль похожим на упитанного головастика. Белый цвет, черные окна и различимые границы дверей подчеркивают длину минивэна. А сзади SpaceTourer — типичный грузовой квадратный «брусок». Лишь бы был повместимее. Передняя панель высокая, пухлая. Пластик жесткий повсюду, впрочем, выглядит он прилично. Кожаный руль с черными блоками кнопок. Освежает его только логотип Citroen и одна вставка под металл. Сиденья тканевые, в меру приятные и плотные. Посадка проблем не доставляет, с боковой поддержкой тоже всё неплохо. Как все-таки удобен подлокотник, прикрученный к спинке сиденья. Был бы он еще чуть подлиннее. Мультимедийная система, если можно так её назвать, представлена маленьким монохромным экранчиком и набором черных кнопок. Можно послушать радио, подключить телефон, покопаться в немногочисленных настройках. Звук, кстати, неплох. Стильные многоугольные шкалы приборной панели. Но та же проблема, что и у Peugeot, — разноразмерные цифры на спидометре. Мечтаете о Range Rover? У «Ситроена» есть кое-что от него — шайба селектора АКП. Вполне стильная и удобная. Сзади 2 ряда кресел и 6 мест. Подлокотников здесь уже нет, но можно регулировать наклон спинки. В целом просторно. Сдвижные двери без электропривода. Всё ручками, ручками. Нет электропривода и у багажной двери, а она ведь тяжелая. Раскладываем оба ряда сидений и получаем 3968 литров объема. Настоящий грузовик. 150-сильного дизеля хватает для уверенного разгона, ускорений, перестроений. Жужжит и вибрирует он, конечно, сильно, а что поделать — дизель. Автомат хорош своими быстрыми переключениями, отсутствием толчков, правильным выбором пониженной или повышенной передачи. Шумоизоляция — она как бы есть, но звуковой фон — на грани некомфортных ощущений. Большие кузов и днище собирают на себя все возможные шумы. Жидкий руль и размазанный «ноль» приводят к тому, что на шоссе автомобиль плохо чувствуешь, а иногда и подруливаешь. Перестраиваться приходится «на ощупь». Слабое реактивное действие — баранку надо самому раскручивать назад после поворота. Неровности SpaceTourer проходит комфортно, практически проплывает. Но острые ямы все равно отзываются ударами. На удивление, у такой габаритной и высокой машины вполне спокойные крены.']"
      ]
     },
     "execution_count": 173,
     "metadata": {},
     "output_type": "execute_result"
    }
   ],
   "source": [
    "data_F[:2]"
   ]
  },
  {
   "cell_type": "code",
   "execution_count": 108,
   "metadata": {
    "collapsed": true
   },
   "outputs": [],
   "source": [
    "data_full_ = vectorizer.fit_transform(data_F)"
   ]
  },
  {
   "cell_type": "code",
   "execution_count": 113,
   "metadata": {
    "collapsed": true
   },
   "outputs": [],
   "source": [
    "from sklearn.model_selection import train_test_split\n",
    "X_train, X_test, y_train, y_test = train_test_split(data_full_, df[\"genre\"])"
   ]
  },
  {
   "cell_type": "code",
   "execution_count": 164,
   "metadata": {
    "collapsed": true
   },
   "outputs": [],
   "source": [
    "from gensim.models.doc2vec import Doc2Vec, TaggedDocument\n",
    "\n",
    "documents = [TaggedDocument(doc, [i]) for i, doc in enumerate(corpus)]\n",
    "model = Doc2Vec(documents, vector_size=30, window=2, min_count=1, workers=4)"
   ]
  },
  {
   "cell_type": "code",
   "execution_count": 168,
   "metadata": {},
   "outputs": [
    {
     "data": {
      "text/plain": [
       "array([ 0.75435251, -0.84884143,  1.02085602, -1.2646836 ,  0.6404984 ,\n",
       "       -0.98779517, -1.98133409, -2.44583535,  1.66087008, -0.6543957 ,\n",
       "       -0.90666759, -1.37917614,  1.07633352,  0.44287977,  0.02242515,\n",
       "        1.08529127,  1.68683302,  0.25867757,  0.15885299,  0.47093877,\n",
       "        0.36399394, -0.33786944, -1.35673201,  0.44339177, -2.58695459,\n",
       "        0.85597819,  0.30063882,  0.25870949, -0.67346972,  0.08685511], dtype=float32)"
      ]
     },
     "execution_count": 168,
     "metadata": {},
     "output_type": "execute_result"
    }
   ],
   "source": [
    "model.docvecs[0]"
   ]
  },
  {
   "cell_type": "code",
   "execution_count": null,
   "metadata": {
    "collapsed": true
   },
   "outputs": [],
   "source": []
  },
  {
   "cell_type": "code",
   "execution_count": 114,
   "metadata": {},
   "outputs": [
    {
     "name": "stdout",
     "output_type": "stream",
     "text": [
      "(270, 45931) (90, 45931)\n",
      "270 90\n"
     ]
    }
   ],
   "source": [
    "print(X_train.shape, X_test.shape)\n",
    "print(len(y_train), len(y_test))"
   ]
  },
  {
   "cell_type": "code",
   "execution_count": 118,
   "metadata": {
    "collapsed": true
   },
   "outputs": [],
   "source": [
    "import os\n",
    "from sklearn.datasets import fetch_20newsgroups\n",
    "from sklearn.feature_extraction.text import TfidfVectorizer\n",
    "import numpy as np\n",
    "from sklearn.linear_model import LogisticRegression\n",
    "from sklearn.ensemble import RandomForestClassifier, GradientBoostingClassifier, VotingClassifier\n",
    "import re\n",
    "import matplotlib.pyplot as plt\n",
    "from sklearn.metrics import confusion_matrix, recall_score, precision_score, f1_score, roc_curve, roc_auc_score\n",
    "import itertools\n",
    "from sklearn.svm import LinearSVC\n",
    "from sklearn.feature_selection import SelectFromModel\n",
    "from sklearn.multiclass import OneVsRestClassifier, OneVsOneClassifier\n",
    "\n",
    "%matplotlib inline"
   ]
  },
  {
   "cell_type": "code",
   "execution_count": 202,
   "metadata": {},
   "outputs": [
    {
     "data": {
      "text/plain": [
       "20"
      ]
     },
     "execution_count": 202,
     "metadata": {},
     "output_type": "execute_result"
    }
   ],
   "source": [
    "len(y_test[y_test == \"WINTER\"])"
   ]
  },
  {
   "cell_type": "code",
   "execution_count": 199,
   "metadata": {
    "collapsed": true
   },
   "outputs": [],
   "source": [
    "index_of_texts = y_test[(y_test == \"WINTER\") & (y_pred_lr == \"WORLD\")]\n",
    "llll = list(index_of_texts.index)"
   ]
  },
  {
   "cell_type": "code",
   "execution_count": 201,
   "metadata": {},
   "outputs": [
    {
     "name": "stdout",
     "output_type": "stream",
     "text": [
      "В воскресенье, 22 февраля, нижегородцы смогут весело и вкусно попрощаться с зимой. Опубликована программа празднования Масленицы в Нижнем Новгороде. С 15 по 22 февраля на Нижегородской ярмарке проходит выставка-ярмарка «Широкая масленица». Участники смогут купить изделия ручной работы, поучаствовать в мастер-классах, угоститься блинами, послушать музыку и посмотреть выступления любительских театров. В грядущие выходные для гостей и жителей поволжской столицы организуют серию праздничных мероприятий, посвященных яркому зимнему празднику. В разных районах города пройдут театральные представления, концерты, традиционные народные состязания. Нижегородцы смогут поесть блинов и выпить чая.В ТЕМУ:с 12 до 17 часов будут проводиться конкурсы и игры. Нижегородцы смогут побывать на ярмарке народных ремесел и мастер-классах, поучаствовать в ежегодном чемпионате по поеданию блинов, конкурсе на самую красивую масленицу. Весь день по улице Рождественской будет курсировать экскурсионный трамвай.с 14 до 18 часов будут выступать нижегородские танцевальные коллективы (в том числе цыганский ансамбль «Бричка»), а также скоморохи и ходулисты. В Масленичном городке горожане смогут поучаствовать в мастер-классах, поесть блинов, поучаствовать в конкурсах, выиграть призы.с 12 до 17 часов нижегородцы смогут посмотреть представление от шоу-театра «Карамба», выступления творческих коллективов. Для самых маленьких приготовлена игровая программа, конкурсы, аттракционы. Взрослые и дети смогут покататься на лошадях, поучаствовать в спортивных состязаниях, купить приятные сувениры.С 10 до 12 часовбудут проводиться детские игры. С 13 до 15 часов перед нижегородцами выступит театр \"Вера\". Горожан угостят блинами и пригласят поучаствовать в играх и спортивных состязанях. С 15 до 16 часов будут выступать творческие коллективы. С 16 до 18 часов будет работать дискотека \"Хиты 80-х\". В течение всего дня гости праздника смогут покататься на лошадях, аттракционах, купить сувениры, попить горячего чая, поесть блинов.С 12.30 до 15 часовна центральной площадке около фонтана будут выступать творческие коллективы ДК \"ГАЗ\", с 15 до 17 часов там же пройдет дискотека. На игровой площадке у сухого озера с 12 до 14 часов нижегородцы смогут поучаствовать в \"молодецких забавах\". В это же время в детском городке \"Чиполлино\" будут проводиться игры.С 12 до 15 часовбудут катать на лошадях, проводить конкурсы, спортивные состязания, угощать блинами и чаем.С 12 до 15 часовбудут проводиться потешные состязания по перетягиванию каната, поеданию блинов на скорость. С 13 до 17 часовбудут организованы масленичные игры и пляски, мужские кулачные и стеношные бои, взятие «Снежной крепости». Нижегородцы увидят выступление школы этнических барабанов «Ветер Фанга», файер-шоу. Для горожан будет работать ярмарка мастеров декоративно-прикладного искусства. Гости праздника смогут покататься на лошадях.с 13 до 17 часов можно будет покататься на банане, ватрушке, коньках, на картах а перекусить - в полевой кухне. Перед горожанами выступят артисты, танцевальные и вокальные коллективы.С 12 до 14 часовбудут петь, танцевать, шутить и веселиться.Во время праздников состоятся проводы зимы с сожжением чучела Масленицы. В 14 часов - в парке имени 1 Мая и в парке \"Дубки\"; в 15 часов - в Автозаводском парке, Сормовском парке и парке имени Пушкина; в 16 часов - в парке \"Швейцария\" и музее-заповеднике \"Щелоковский хутор\", в 16.30 часов - на площади Маркина, в 17.30 - на площади Минина и Пожарского.\n",
      "-------------------------------------------------\n",
      "В преддверии 9 Мая многие коммерсанты впадают в раж и украшают символикой Дня Победы все, чем торгуют. Так, георгиевская ленточка и надпись «Спасибо деду за Победу!» оказываются в самых непредсказуемых местах — на трусах, тапках и чипсах. Корреспонденты Сети городских порталов накануне прогулялись по своим городам с фотоаппаратом в руках. Самые странные, дикие и забавные идеи — в нашей подборке. На параде 9 Мая ростовские модники будут красоваться в роскошных красных шляпах. А мэрия Ярославля отправила горожан на трамвае «На Берлин!». И кондукторы под стать трамваю — в гимнастерке и пилотке. Кажется, что девушка вот-вот запоет «Катюшу» или «Смуглянку». Детская школа искусств в Екатеринбурге отличилась нестандартным оформлением своего входа. Здесь окна закрыли маскировочной сеткой, усыпанной георгиевскими ленточками. На сетки навязали сотни ленточек. В одном из магазинов Архангельска решили упаковать продукты в «отличный подарок к празднику Великой Победы» для ветеранов войны. Правда, в набор положили только макароны, гречку и тушенку. В пермском магазине обнаружили нарядные сосиски. Может, на Великолукском мясокомбинате считают, что отпечатанная на упаковке ленточка повысит продажи? Освежители воздуха также мимикрировали к 9 Мая. В красноярском пиротехническом магазине наши корреспонденты нашли салют Победы. Ну а что? Пропустили салют Победы в 1945-м? Вот, пожалуйста, посмотрите сейчас. В Волгограде прилавки сувенирных лавок традиционно завалены брелоками из пустых патронов с гравировкой «Сталинград 1942–43». Лайфхак: ищите клеймо на дне патрона, по нему не только можно выяснить, немецкая это гильза или советская, но и узнать, когда патрон был выпущен. А то туристам часто продают и вполне современные изделия. А это креатив от самарской компании по доставке еды на дом. Публикация от INNAIL 💜 МАНИКЮР МОЯ ЛЮБОВЬ (@innail_ekb) 6 Май 2018 в 12:14 PDT А вот такое чудо корреспонденты обнаружили в «Инстаграме». В Екатеринбурге мастер по маникюру разместила фото с комментарием: «Конкурсный дизайн, посвященный великому празднику — Дню Победы. Не важно, кто мы и какая у нас профессия, главное — помнить подвиг наших дедов и выражать это светлое чувство во всём».\n",
      "-------------------------------------------------\n"
     ]
    }
   ],
   "source": [
    "for i in llll:\n",
    "    print(data_F[i])\n",
    "    print(\"-------------------------------------------------\")"
   ]
  },
  {
   "cell_type": "code",
   "execution_count": 189,
   "metadata": {},
   "outputs": [
    {
     "ename": "IndexError",
     "evalue": "index 129 is out of bounds for axis 0 with size 90",
     "output_type": "error",
     "traceback": [
      "\u001b[1;31m---------------------------------------------------------------------------\u001b[0m",
      "\u001b[1;31mIndexError\u001b[0m                                Traceback (most recent call last)",
      "\u001b[1;32m<ipython-input-189-80006107f07f>\u001b[0m in \u001b[0;36m<module>\u001b[1;34m()\u001b[0m\n\u001b[0;32m      1\u001b[0m \u001b[0mindex_of_texts\u001b[0m \u001b[1;33m=\u001b[0m \u001b[1;33m[\u001b[0m\u001b[1;33m]\u001b[0m\u001b[1;33m\u001b[0m\u001b[0m\n\u001b[0;32m      2\u001b[0m \u001b[1;32mfor\u001b[0m \u001b[0mind\u001b[0m \u001b[1;32min\u001b[0m \u001b[0mlist\u001b[0m\u001b[1;33m(\u001b[0m\u001b[0my_test\u001b[0m\u001b[1;33m.\u001b[0m\u001b[0mindex\u001b[0m\u001b[1;33m)\u001b[0m\u001b[1;33m:\u001b[0m\u001b[1;33m\u001b[0m\u001b[0m\n\u001b[1;32m----> 3\u001b[1;33m     \u001b[1;32mif\u001b[0m \u001b[0my_test\u001b[0m\u001b[1;33m[\u001b[0m\u001b[0mind\u001b[0m\u001b[1;33m]\u001b[0m \u001b[1;33m==\u001b[0m \u001b[1;34m\"WINTER\"\u001b[0m \u001b[1;32mand\u001b[0m \u001b[0my_pred_lr\u001b[0m\u001b[1;33m[\u001b[0m\u001b[0mind\u001b[0m\u001b[1;33m]\u001b[0m \u001b[1;33m==\u001b[0m \u001b[1;34m\"WORLD\"\u001b[0m\u001b[1;33m:\u001b[0m\u001b[1;33m\u001b[0m\u001b[0m\n\u001b[0m\u001b[0;32m      4\u001b[0m         \u001b[0mindex_of_text\u001b[0m\u001b[1;33m.\u001b[0m\u001b[0mappend\u001b[0m\u001b[1;33m(\u001b[0m\u001b[0mind\u001b[0m\u001b[1;33m)\u001b[0m\u001b[1;33m\u001b[0m\u001b[0m\n\u001b[0;32m      5\u001b[0m \u001b[1;32mfor\u001b[0m \u001b[0mi\u001b[0m \u001b[1;32min\u001b[0m \u001b[0mindex_of_texts\u001b[0m\u001b[1;33m:\u001b[0m\u001b[1;33m\u001b[0m\u001b[0m\n",
      "\u001b[1;31mIndexError\u001b[0m: index 129 is out of bounds for axis 0 with size 90"
     ]
    }
   ],
   "source": [
    "index_of_texts = y_test[y_test == \"WINTER\" & y_pred_lr == \"WORLD\"]\n",
    "\n",
    "for ind in list(y_test.index):\n",
    "    if y_test[ind] == \"WINTER\" and y_pred_lr[ind] == \"WORLD\":\n",
    "        index_of_text.append(ind)\n",
    "for i in index_of_texts:\n",
    "    print(data_F[i])"
   ]
  },
  {
   "cell_type": "code",
   "execution_count": 178,
   "metadata": {},
   "outputs": [
    {
     "data": {
      "text/plain": [
       "['Мы разобрались, можно ли купить дешёвую страховку по новым тарифам Мы разобрались, можно ли купить дешёвую страховку по новым тарифам С начала года коридор тарифов ОСАГО расширили на 20% и вверх, и вниз. Это дало страховым компаниям выбор: оставить цены, повысить или снизить. Мы проанализировали стоимость полисов в регионах России, и оказалось, что найти страховку подешевле действительно можно — тарифы страховых компаний отличаются сильнее, чем в прошлом году. Гибкие тарифы ОСАГО должны были «наказать» аварийных водителей, но на деле всё оказалось не так Под флагом заботы о водителях Стоимость полиса ОСАГО зависит от базового тарифа, который умножается на восемь коэффициентов: территориальный, аварийности (КБМ), опыта и стажа, мощности и так далее. В прошлом году вилка базового тарифа составляла 3432–4118, сейчас её раздвинули до 2746–4942 рублей — вилка эта определена законом об ОСАГО. То есть в теории можно найти полис, который ощутимо дешевле прошлогоднего. Реформу, поведённую Банком России, подают как шаг навстречу водителям: дескать, теперь страховые будут поощрять аккуратных клиентов с помощью сниженных тарифов. Вот как прокомментировал нововведения президент Российского союза автостраховщиков Игорь Юргенс: — Это первый и важный шаг на пути либерализации ОСАГО. В результате тарифы на обязательную автогражданку станут более справедливыми для автовладельцев, и безаварийные водители станут платить меньше. При этом автовладельцы с аварийным стажем получат мощный экономический стимул для того, чтобы меняться в лучшую сторону. Так может ли аккуратный водитель с большим безаварийным стажем надеяться сегодня на дисконты от страховых? Скидки не для всех Иллюзии рассыпались сразу. Мы обратились к директору одного из страховых агентств Кириллу Смолину с просьбой подобрать дешёвую страховку для взрослого, опытного водителя с безаварийным стажем более десяти лет, но всё оказалось не так просто: — Страховые не имеют возможности предлагать клиентам индивидуальные тарифы, поэтому базовая ставка выбирается из указанного коридора для каждой конкретной территории — города и области. Например, для нашего города у каждой страховой действует единый тариф, — пояснил специалист. Безаварийность по-прежнему отражает коэффициент бонус-малус (КБМ), который в пределе достигает 0,5 единицы, позволяя сэкономить до половины стоимости ОСАГО. Но для конкретного города базовый тариф будет одинаков для всех. Максимальный базовый тариф теперь близок к 5000 рублей, и многие страховые не упустили возможности поднять стоимость страховки Так сколько стоит ОСАГО Единого подхода к формированию тарифной сетки нет: каждая страховая выбрала базовые тарифы для конкретных городов и регионов, руководствуясь внутренней статистикой. По сути, расширение коридора базового тарифа стало дополнением к территориальному коэффициенту: теперь «невыгодным» городам можно поднять тариф до максимальной планки в без малого 5000 рублей. Причём, по нашим данным, подавляющее большинство крупных страховых либо оставили тарифы на прошлогоднем уровне, либо повысили: снижения до уровне ниже 3000 рублей нет, хотя такая возможность с 9 января имеется. «РЕСО-Гарантия» повысила тарифы ступенчато: для некоторых регионов — до умеренной планки 4393 рублей (Волгоградская, Ростовская, Челябинская области, Башкортостан, Татарстан), для других — до максимальных 4942 рубля (Новосибирская, Астраханская области, Воронежская области, Тыва, Хакасия, Удмуртия, Калмыкия, Чукотка, Камчатка). Есть регионы, где тарифы остались на уровне прежнего максимума в 4118 рублей, например Свердловская область и Екатеринбург, Москва, Санкт-Петербург. Страховое общество ВСК для большинства регионов оставило прошлогодний тариф — 4118 рублей и также поступил «Росгосстрах». «АльфаСтрахование» поменяло тарифы по сложной схеме, в результате неизменным или меньшим он стал в 37 территориях. Для 49 — страховка стала дороже. «Ингосстрах» оставил тарифы для всех регионов, кроме Санкт-Петербурга и двух традиционно невыгодных страховщикам областей — Мурманской и Челябинской. Для последней базовый тариф «Ингосстраха» ниже среднего и составляет 3912 рублей. Страховая группа СОГАЗ подошла к вопросу гибко, поэтому и тарифы для большинства регионов колеблются в диапазоне 3912 рублей (чуть ниже прошлогоднего максимума) до максимально возможных 4942 рублей — такую планку установили, например, в Челябинской, Ростовской, Новосибирской областях, Красноярском и Краснодарском краях. «АСКО Страхование» подняло тарифы в большинстве регионов, но в Челябинской области и близких к ней регионам сохранила ставку на прошлогоднем уровне в 4118 рубля. При этом для Кургана он возрос до 4530 рублей, а для некоторых городов Курганской области — до 4942. Как покупать автогражданку в 2019 году Если в прошлом году ценовой конкуренции между страховыми почти не было и базовый тариф выбирался на уровне четыре тысячи рублей, то теперь вилка действительно увеличилась: например, для автора этого материала итоговая стоимость полиса в «дорогой» и «дешёвой» компании колебалась в диапазоне от 5422 до 6850 рублей. Для владельцев более дорогих страховок разница будет ещё заметней, поэтому сегодня вполне разумно проанализировать предложения компаний в вашем регионе. Другое дело, что тарифы разных страховых могут постепенно выровняться с верхней планкой, как это случалось в прошлые годы. Планируете ли вы приобретать полис ОСАГО в этом году? Авторизируйтесь , чтобы проголосовать Опрос завершен Вы успешно проголосовали! Результаты будут опубликованы по завершении опроса. Да, как всегда Ещё не решил С этого года брошу Езжу без полиса год-два Давно без полиса К сожалению, ваш браузер сильно устарел и не поддерживает технологию голосования',\n",
       " 'Недорогой 5-метровый минивэн везёт кучу вещей и расходует 7 литров в городе Недорогой 5-метровый минивэн везёт кучу вещей и расходует 7 литров в городе Минивэн Citroen SpaceTourer является аналогом соплатформенного Peugeot Traveller. Посмотрим, как ездит Citroen, какой комфорт предоставляет и кому вообще может понадобиться такое авто. Подробности в тест-драйве редактора НГС.АВТО Дмитрия Косенко. Длина автомобиля — почти пять метров Ездить на Citroen SpaceTourer по тесному городу поначалу может показаться трудным, особенно парковаться. Длина ведь почти 5 метров. Зато отличный обзор и высокая посадка, видишь транспортный поток далеко перед собой. «Ситроеновский» сплющенный нос и большие фары делают автомобиль похожим на упитанного головастика. Белый цвет, черные окна и различимые границы дверей подчеркивают длину минивэна. А сзади SpaceTourer — типичный грузовой квадратный «брусок». Лишь бы был повместимее. Передняя панель высокая, пухлая. Пластик жесткий повсюду, впрочем, выглядит он прилично. Кожаный руль с черными блоками кнопок. Освежает его только логотип Citroen и одна вставка под металл. Сиденья тканевые, в меру приятные и плотные. Посадка проблем не доставляет, с боковой поддержкой тоже всё неплохо. Как все-таки удобен подлокотник, прикрученный к спинке сиденья. Был бы он еще чуть подлиннее. Мультимедийная система, если можно так её назвать, представлена маленьким монохромным экранчиком и набором черных кнопок. Можно послушать радио, подключить телефон, покопаться в немногочисленных настройках. Звук, кстати, неплох. Стильные многоугольные шкалы приборной панели. Но та же проблема, что и у Peugeot, — разноразмерные цифры на спидометре. Мечтаете о Range Rover? У «Ситроена» есть кое-что от него — шайба селектора АКП. Вполне стильная и удобная. Сзади 2 ряда кресел и 6 мест. Подлокотников здесь уже нет, но можно регулировать наклон спинки. В целом просторно. Сдвижные двери без электропривода. Всё ручками, ручками. Нет электропривода и у багажной двери, а она ведь тяжелая. Раскладываем оба ряда сидений и получаем 3968 литров объема. Настоящий грузовик. 150-сильного дизеля хватает для уверенного разгона, ускорений, перестроений. Жужжит и вибрирует он, конечно, сильно, а что поделать — дизель. Автомат хорош своими быстрыми переключениями, отсутствием толчков, правильным выбором пониженной или повышенной передачи. Шумоизоляция — она как бы есть, но звуковой фон — на грани некомфортных ощущений. Большие кузов и днище собирают на себя все возможные шумы. Жидкий руль и размазанный «ноль» приводят к тому, что на шоссе автомобиль плохо чувствуешь, а иногда и подруливаешь. Перестраиваться приходится «на ощупь». Слабое реактивное действие — баранку надо самому раскручивать назад после поворота. Неровности SpaceTourer проходит комфортно, практически проплывает. Но острые ямы все равно отзываются ударами. На удивление, у такой габаритной и высокой машины вполне спокойные крены.']"
      ]
     },
     "execution_count": 178,
     "metadata": {},
     "output_type": "execute_result"
    }
   ],
   "source": [
    "data_F[:2]"
   ]
  },
  {
   "cell_type": "code",
   "execution_count": 120,
   "metadata": {
    "collapsed": true
   },
   "outputs": [],
   "source": [
    "predictor_lr = LogisticRegression().fit(X_train, y_train)"
   ]
  },
  {
   "cell_type": "code",
   "execution_count": 121,
   "metadata": {
    "collapsed": true
   },
   "outputs": [],
   "source": [
    "predictor_svm = LinearSVC().fit(X_train, y_train)"
   ]
  },
  {
   "cell_type": "code",
   "execution_count": 122,
   "metadata": {
    "collapsed": true
   },
   "outputs": [],
   "source": [
    "predictor_rf = RandomForestClassifier(n_estimators=1000).fit(X_train, y_train)"
   ]
  },
  {
   "cell_type": "code",
   "execution_count": 123,
   "metadata": {
    "collapsed": true
   },
   "outputs": [],
   "source": [
    "predictor_gbt = GradientBoostingClassifier(n_estimators=100).fit(X_train, y_train)"
   ]
  },
  {
   "cell_type": "code",
   "execution_count": 125,
   "metadata": {},
   "outputs": [
    {
     "name": "stdout",
     "output_type": "stream",
     "text": [
      "LR accuracy: 0.83%\n"
     ]
    }
   ],
   "source": [
    "y_pred_lr = predictor_lr.predict(X_test)\n",
    "print('LR accuracy: {}%'.format(round(np.mean(y_test == y_pred_lr), 2)))"
   ]
  },
  {
   "cell_type": "code",
   "execution_count": 126,
   "metadata": {},
   "outputs": [
    {
     "name": "stdout",
     "output_type": "stream",
     "text": [
      "LR accuracy: 0.8%\n"
     ]
    }
   ],
   "source": [
    "y_pred_svm = predictor_svm.predict(X_test)\n",
    "print('LR accuracy: {}%'.format(round(np.mean(y_test == y_pred_svm), 2)))"
   ]
  },
  {
   "cell_type": "code",
   "execution_count": 127,
   "metadata": {},
   "outputs": [
    {
     "name": "stdout",
     "output_type": "stream",
     "text": [
      "RF accuracy: 0.68%\n"
     ]
    }
   ],
   "source": [
    "y_pred_rf = predictor_rf.predict(X_test)\n",
    "print('RF accuracy: {}%'.format(round(np.mean(y_test == y_pred_rf), 2)))"
   ]
  },
  {
   "cell_type": "code",
   "execution_count": 128,
   "metadata": {},
   "outputs": [
    {
     "name": "stdout",
     "output_type": "stream",
     "text": [
      "GBT accuracy: 0.63%\n"
     ]
    }
   ],
   "source": [
    "y_pred_gbt = predictor_gbt.predict(X_test)\n",
    "print('GBT accuracy: {}%'.format(round(np.mean(y_test == y_pred_gbt), 2)))"
   ]
  },
  {
   "cell_type": "code",
   "execution_count": 129,
   "metadata": {
    "collapsed": true
   },
   "outputs": [],
   "source": [
    "def plot_confusion_matrix(cm, title='Contingency matrix'):\n",
    "    cm = cm.astype('float') / cm.sum(axis=1)[:, np.newaxis]\n",
    "\n",
    "    plt.figure(figsize=(15, 15))\n",
    "    plt.imshow(cm, interpolation='nearest', cmap=plt.cm.Blues)\n",
    "    plt.title(title, fontsize=20)\n",
    "    plt.colorbar()\n",
    "    tick_marks = np.arange(cm.shape[0])\n",
    "    classes = [x.split('.')[-1] for x in initial_categories]\n",
    "    plt.xticks(tick_marks, classes, rotation=45, size=14)\n",
    "    plt.yticks(tick_marks, classes, size=14)\n",
    "\n",
    "    thresh = cm.max() / 2.\n",
    "    for i, j in itertools.product(range(cm.shape[0]), range(cm.shape[1])):\n",
    "        plt.text(j, i, format(cm[i, j], '.2f'),\n",
    "                 horizontalalignment=\"center\",\n",
    "                 color=\"white\" if cm[i, j] > thresh else \"black\")\n",
    "\n",
    "    plt.tight_layout()\n",
    "    plt.ylabel('True label', fontsize=18)\n",
    "    plt.xlabel('Predicted label', fontsize=18)"
   ]
  },
  {
   "cell_type": "code",
   "execution_count": 132,
   "metadata": {
    "collapsed": true
   },
   "outputs": [],
   "source": [
    "initial_categories = [\"AUTO\", 'WINTER', 'WORLD', 'TOWN', 'ACCIDENTS']"
   ]
  },
  {
   "cell_type": "code",
   "execution_count": 133,
   "metadata": {},
   "outputs": [
    {
     "data": {
      "image/png": "[encoded data removed]",
      "text/plain": [
       "<matplotlib.figure.Figure at 0x253eefdbd68>"
      ]
     },
     "metadata": {},
     "output_type": "display_data"
    }
   ],
   "source": [
    "cmt_lr = confusion_matrix(y_test, y_pred_lr)\n",
    "plot_confusion_matrix(cmt_lr, title='Confusion Matrix, LR')"
   ]
  },
  {
   "cell_type": "code",
   "execution_count": 134,
   "metadata": {},
   "outputs": [
    {
     "data": {
      "image/png": "[encoded data removed]",
      "text/plain": [
       "<matplotlib.figure.Figure at 0x253ef0bea58>"
      ]
     },
     "metadata": {},
     "output_type": "display_data"
    }
   ],
   "source": [
    "cmt_svm = confusion_matrix(y_test, y_pred_svm)\n",
    "plot_confusion_matrix(cmt_svm, title='Confusion Matrix, SVM')"
   ]
  },
  {
   "cell_type": "code",
   "execution_count": 135,
   "metadata": {},
   "outputs": [
    {
     "data": {
      "image/png": "[encoded data removed]",
      "text/plain": [
       "<matplotlib.figure.Figure at 0x253f08b4d30>"
      ]
     },
     "metadata": {},
     "output_type": "display_data"
    }
   ],
   "source": [
    "cmt_rf = confusion_matrix(y_test, y_pred_rf)\n",
    "plot_confusion_matrix(cmt_rf, title='Confusion Matrix, RF')"
   ]
  },
  {
   "cell_type": "code",
   "execution_count": 136,
   "metadata": {},
   "outputs": [
    {
     "data": {
      "image/png": "[encoded data removed]",
      "text/plain": [
       "<matplotlib.figure.Figure at 0x253e96d2588>"
      ]
     },
     "metadata": {},
     "output_type": "display_data"
    }
   ],
   "source": [
    "cmt_rf = confusion_matrix(y_test, y_pred_rf)\n",
    "plot_confusion_matrix(cmt_rf, title='Confusion Matrix, RF')"
   ]
  },
  {
   "cell_type": "code",
   "execution_count": 137,
   "metadata": {},
   "outputs": [
    {
     "data": {
      "image/png": "[encoded data removed]",
      "text/plain": [
       "<matplotlib.figure.Figure at 0x253f0b29a20>"
      ]
     },
     "metadata": {},
     "output_type": "display_data"
    }
   ],
   "source": [
    "cmt_gbt = confusion_matrix(y_test, y_pred_gbt)\n",
    "plot_confusion_matrix(cmt_gbt, title='Confusion Matrix, GBT')"
   ]
  },
  {
   "cell_type": "code",
   "execution_count": 138,
   "metadata": {},
   "outputs": [
    {
     "data": {
      "image/png": "[encoded data removed]",
      "text/plain": [
       "<matplotlib.figure.Figure at 0x253f07e0c88>"
      ]
     },
     "metadata": {},
     "output_type": "display_data"
    }
   ],
   "source": [
    "plt.figure(figsize=(15, 5))\n",
    "\n",
    "plt.hist(predictor_rf.feature_importances_, bins=100)\n",
    "plt.grid(True)"
   ]
  },
  {
   "cell_type": "code",
   "execution_count": 139,
   "metadata": {},
   "outputs": [
    {
     "data": {
      "text/plain": [
       "(0, 0.001)"
      ]
     },
     "execution_count": 139,
     "metadata": {},
     "output_type": "execute_result"
    },
    {
     "data": {
      "image/png": "[encoded data removed]",
      "text/plain": [
       "<matplotlib.figure.Figure at 0x253f0ca0668>"
      ]
     },
     "metadata": {},
     "output_type": "display_data"
    }
   ],
   "source": [
    "plt.figure(figsize=(15, 5))\n",
    "\n",
    "plt.hist(predictor_rf.feature_importances_, bins=100)\n",
    "plt.grid(True)\n",
    "plt.xlim(0, 0.001)"
   ]
  },
  {
   "cell_type": "code",
   "execution_count": 140,
   "metadata": {
    "collapsed": true
   },
   "outputs": [],
   "source": [
    "feature_selector = SelectFromModel(RandomForestClassifier(n_estimators=10)).fit(X_train, y_train)"
   ]
  },
  {
   "cell_type": "code",
   "execution_count": 142,
   "metadata": {},
   "outputs": [
    {
     "name": "stdout",
     "output_type": "stream",
     "text": [
      "(270, 714) (90, 714)\n"
     ]
    }
   ],
   "source": [
    "X_train_transformed = feature_selector.transform(X_train)\n",
    "X_test_transformed = feature_selector.transform(X_test)\n",
    "\n",
    "print(X_train_transformed.shape, X_test_transformed.shape)"
   ]
  },
  {
   "cell_type": "code",
   "execution_count": 143,
   "metadata": {
    "collapsed": true
   },
   "outputs": [],
   "source": [
    "predictor_lr_ = LogisticRegression().fit(X_train_transformed, y_train)"
   ]
  },
  {
   "cell_type": "code",
   "execution_count": 144,
   "metadata": {},
   "outputs": [
    {
     "name": "stdout",
     "output_type": "stream",
     "text": [
      "LR (with feature selection) accuracy: 0.62%\n"
     ]
    }
   ],
   "source": [
    "y_pred_lr_ = predictor_lr_.predict(X_test_transformed)\n",
    "print('LR (with feature selection) accuracy: {}%'.format(round(np.mean(y_test == y_pred_lr_), 2)))"
   ]
  },
  {
   "cell_type": "code",
   "execution_count": 145,
   "metadata": {
    "collapsed": true
   },
   "outputs": [],
   "source": [
    "predictor_oneVSall = OneVsRestClassifier(LinearSVC(), n_jobs=8).fit(X_train, y_train)"
   ]
  },
  {
   "cell_type": "code",
   "execution_count": 146,
   "metadata": {},
   "outputs": [
    {
     "name": "stdout",
     "output_type": "stream",
     "text": [
      "One-VS-all accuracy: 0.8%\n"
     ]
    }
   ],
   "source": [
    "y_pred_onevsall = predictor_oneVSall.predict(X_test)\n",
    "print('One-VS-all accuracy: {}%'.format(round(np.mean(y_test == y_pred_onevsall), 2)))"
   ]
  },
  {
   "cell_type": "code",
   "execution_count": 147,
   "metadata": {},
   "outputs": [
    {
     "data": {
      "image/png": "[encoded data removed]",
      "text/plain": [
       "<matplotlib.figure.Figure at 0x253ef053400>"
      ]
     },
     "metadata": {},
     "output_type": "display_data"
    }
   ],
   "source": [
    "cmt_svm_onevsall = confusion_matrix(y_test, y_pred_onevsall)\n",
    "plot_confusion_matrix(cmt_svm_onevsall, title='Confusion Matrix, one-VS-all SVM')"
   ]
  },
  {
   "cell_type": "code",
   "execution_count": 148,
   "metadata": {
    "collapsed": true
   },
   "outputs": [],
   "source": [
    "predictor_oneVSone = OneVsOneClassifier(LinearSVC(), n_jobs=8).fit(X_train, y_train)"
   ]
  },
  {
   "cell_type": "code",
   "execution_count": 150,
   "metadata": {},
   "outputs": [
    {
     "name": "stdout",
     "output_type": "stream",
     "text": [
      "One-VS-one accuracy: 0.8%\n"
     ]
    }
   ],
   "source": [
    "\n",
    "y_pred_onevsone = predictor_oneVSone.predict(X_test)\n",
    "print('One-VS-one accuracy: {}%'.format(round(np.mean(y_test == y_pred_onevsone), 2)))"
   ]
  },
  {
   "cell_type": "code",
   "execution_count": 151,
   "metadata": {},
   "outputs": [
    {
     "data": {
      "image/png": "[encoded data removed]",
      "text/plain": [
       "<matplotlib.figure.Figure at 0x253eeff4ac8>"
      ]
     },
     "metadata": {},
     "output_type": "display_data"
    }
   ],
   "source": [
    "cmt_svm_onevsone = confusion_matrix(y_test, y_pred_onevsone)\n",
    "plot_confusion_matrix(cmt_svm_onevsone, title='Confusion Matrix, one-VS-one SVM')"
   ]
  },
  {
   "cell_type": "code",
   "execution_count": 152,
   "metadata": {},
   "outputs": [
    {
     "name": "stdout",
     "output_type": "stream",
     "text": [
      "Class 'ACCIDENTS' samples N: 52\n",
      "Class 'AUTO' samples N: 54\n",
      "Class 'TOWN' samples N: 57\n",
      "Class 'WINTER' samples N: 52\n",
      "Class 'WORLD' samples N: 55\n"
     ]
    }
   ],
   "source": [
    "for c in np.unique(y_train):\n",
    "    print('Class \\'{}\\' samples N: {}'.format(c, y_train[y_train == c].shape[0]))"
   ]
  },
  {
   "cell_type": "code",
   "execution_count": null,
   "metadata": {
    "collapsed": true
   },
   "outputs": [],
   "source": []
  },
  {
   "cell_type": "code",
   "execution_count": null,
   "metadata": {
    "collapsed": true
   },
   "outputs": [],
   "source": []
  },
  {
   "cell_type": "code",
   "execution_count": null,
   "metadata": {
    "collapsed": true
   },
   "outputs": [],
   "source": []
  },
  {
   "cell_type": "code",
   "execution_count": null,
   "metadata": {
    "collapsed": true
   },
   "outputs": [],
   "source": []
  },
  {
   "cell_type": "code",
   "execution_count": 218,
   "metadata": {},
   "outputs": [
    {
     "data": {
      "text/plain": [
       "array(['ACCIDENTS', 'AUTO', 'TOWN', 'WINTER', 'WORLD'], dtype=object)"
      ]
     },
     "execution_count": 218,
     "metadata": {},
     "output_type": "execute_result"
    }
   ],
   "source": [
    "np.unique(df_test_m[\"genre\"])"
   ]
  },
  {
   "cell_type": "code",
   "execution_count": 109,
   "metadata": {},
   "outputs": [
    {
     "data": {
      "text/plain": [
       "'\\nfor i in range(1, X_test.shape[0] + 1):\\n    if i <= 11:\\n        y_test.append(genre_list[0])\\n    if 11 < i and i <= 22:\\n        y_test.append(genre_list[1])\\n    if 22 < i and i <= 33:\\n        y_test.append(genre_list[2])\\n    if 33 < i and i <= 44:\\n        y_test.append(genre_list[3])\\n    if 44 < i and i <= 55:\\n        y_test.append(genre_list[4])\\n'"
      ]
     },
     "execution_count": 109,
     "metadata": {},
     "output_type": "execute_result"
    }
   ],
   "source": [
    "#genre_list = [\"AUTO\", 'WINTER', 'WORLD', 'TOWN', 'ACCIDENTS']\n",
    "genre_list = [0, 1, 2, 3, 4]\n",
    "y_train = []\n",
    "y_test = []\n",
    "for i in range(1, X_train.shape[0] + 1):\n",
    "    if i <= 60:\n",
    "        y_train.append(genre_list[0])\n",
    "    if 60 < i and i <= 120:\n",
    "        y_train.append(genre_list[1])\n",
    "    if 120 < i and i <= 180:\n",
    "        y_train.append(genre_list[2])\n",
    "    if 180 < i and i <= 240:\n",
    "        y_train.append(genre_list[3])\n",
    "    if 240 < i and i <= 300:\n",
    "        y_train.append(genre_list[4])\n",
    "        \n",
    "\"\"\"\n",
    "for i in range(1, X_test.shape[0] + 1):\n",
    "    if i <= 11:\n",
    "        y_test.append(genre_list[0])\n",
    "    if 11 < i and i <= 22:\n",
    "        y_test.append(genre_list[1])\n",
    "    if 22 < i and i <= 33:\n",
    "        y_test.append(genre_list[2])\n",
    "    if 33 < i and i <= 44:\n",
    "        y_test.append(genre_list[3])\n",
    "    if 44 < i and i <= 55:\n",
    "        y_test.append(genre_list[4])\n",
    "\"\"\""
   ]
  },
  {
   "cell_type": "code",
   "execution_count": 264,
   "metadata": {
    "collapsed": true
   },
   "outputs": [],
   "source": [
    "y_train = np.asarray(y_train)\n",
    "y_test = np.asarray(y_test)"
   ]
  },
  {
   "cell_type": "code",
   "execution_count": 165,
   "metadata": {
    "collapsed": true
   },
   "outputs": [],
   "source": [
    "import os\n",
    "from sklearn.datasets import fetch_20newsgroups\n",
    "from sklearn.feature_extraction.text import TfidfVectorizer\n",
    "import numpy as np\n",
    "from sklearn.linear_model import LogisticRegression\n",
    "from sklearn.ensemble import RandomForestClassifier, GradientBoostingClassifier, VotingClassifier\n",
    "import re\n",
    "import matplotlib.pyplot as plt\n",
    "from sklearn.metrics import confusion_matrix, recall_score, precision_score, f1_score, roc_curve, roc_auc_score\n",
    "import itertools\n",
    "from sklearn.svm import LinearSVC\n",
    "from sklearn.feature_selection import SelectFromModel\n",
    "from sklearn.multiclass import OneVsRestClassifier, OneVsOneClassifier\n",
    "\n",
    "%matplotlib inline"
   ]
  },
  {
   "cell_type": "code",
   "execution_count": 166,
   "metadata": {
    "collapsed": true
   },
   "outputs": [],
   "source": [
    "vectorizer = TfidfVectorizer(stop_words='english', strip_accents='ascii')\n",
    "initial_categories = ['alt.atheism', 'comp.graphics', 'comp.os.ms-windows.misc', 'comp.sys.ibm.pc.hardware',\n",
    "                      'comp.sys.mac.hardware', 'comp.windows.x', 'rec.autos', 'rec.motorcycles', 'rec.sport.baseball',\n",
    "                      'rec.sport.hockey', 'sci.electronics', 'soc.religion.christian', 'talk.politics.mideast',\n",
    "                      'talk.politics.misc', 'talk.religion.misc']"
   ]
  },
  {
   "cell_type": "code",
   "execution_count": 171,
   "metadata": {},
   "outputs": [
    {
     "name": "stdout",
     "output_type": "stream",
     "text": [
      "[ 0  1  2  3  4  5  6  7  8  9 10 11 12 13 14]\n"
     ]
    }
   ],
   "source": [
    "ng_train = fetch_20newsgroups(subset='train', categories=initial_categories, remove=('headers', 'footers', 'quotes'))\n",
    "print(np.unique(ng_train.target))"
   ]
  },
  {
   "cell_type": "code",
   "execution_count": 170,
   "metadata": {},
   "outputs": [
    {
     "data": {
      "text/plain": [
       "15"
      ]
     },
     "execution_count": 170,
     "metadata": {},
     "output_type": "execute_result"
    }
   ],
   "source": [
    "len(initial_categories)"
   ]
  },
  {
   "cell_type": "code",
   "execution_count": 279,
   "metadata": {},
   "outputs": [
    {
     "ename": "AttributeError",
     "evalue": "'LogisticRegression' object has no attribute 'fit_transform'",
     "output_type": "error",
     "traceback": [
      "\u001b[1;31m---------------------------------------------------------------------------\u001b[0m",
      "\u001b[1;31mAttributeError\u001b[0m                            Traceback (most recent call last)",
      "\u001b[1;32m<ipython-input-279-509085c9d4d2>\u001b[0m in \u001b[0;36m<module>\u001b[1;34m()\u001b[0m\n\u001b[1;32m----> 1\u001b[1;33m \u001b[0mpredictor_lr\u001b[0m \u001b[1;33m=\u001b[0m \u001b[0mLogisticRegression\u001b[0m\u001b[1;33m(\u001b[0m\u001b[1;33m)\u001b[0m\u001b[1;33m.\u001b[0m\u001b[0mfit_transform\u001b[0m\u001b[1;33m(\u001b[0m\u001b[0mX_train\u001b[0m\u001b[1;33m,\u001b[0m \u001b[0my_train\u001b[0m\u001b[1;33m)\u001b[0m\u001b[1;33m\u001b[0m\u001b[0m\n\u001b[0m",
      "\u001b[1;31mAttributeError\u001b[0m: 'LogisticRegression' object has no attribute 'fit_transform'"
     ]
    }
   ],
   "source": [
    "predictor_lr = LogisticRegression().fit_transform(X_train, y_train)"
   ]
  },
  {
   "cell_type": "code",
   "execution_count": 278,
   "metadata": {},
   "outputs": [
    {
     "ename": "ValueError",
     "evalue": "could not convert string to float: 'На автомобиле «для путешествий» мы отправились в путешествие и поняли, что размер не всегда выгоден На автомобиле «для путешествий» мы отправились в путешествие и поняли, что размер не всегда выгоден Что такое несвобода, отчетливее всего понимаешь в свободной Европе. Несвободу здесь ощущаешь физически, пытаясь втиснуться в щель подземной парковки настолько узкую, что инстинктивно прижимаешь локти. Зеркало автомобиля проходит в сантиметре от стены, а взгляд упирается в табличку «37 евро», которая означает то ли суточную плату, то ли штраф в случае отказа платить. Ну его. Мы пятимся назад, всё также прижимая локти и, на всякий случай, втягивая щёки. Снаружи кажется, что всё не так страшно... узко ... но изнутри ощущаешь будто вот-вот снимешь скальп со стен. Судя по отметинам, прецеденты были То, что автомобилям размером со SKODA Kodiaq в Барселоне и её окрестностях не очень рады, хорошо понимаешь, отыскав-таки сносную парковку (три евро в час), которая выглядит тесноватой даже для Daewoo Matiz. Если умудришься встать ровно, не откроешь двери, и наоборот. Так началось моё знакомство с Kodiaq российской сборки, которое, вопреки ожиданиям, прошло в полной интриг и заговоров столице Каталонии. Что справа, что слева — впритык. И эта парковка считается просторной Поэтому камера заднего вида и круговой «парктроник» не являются здесь излишеством. Тем более свирепые каталонцы даже в пробках притираются так, что парктроник издает затяжной писк и впадает в кому. Они бы, наверное, ехали до контакта, но московские номера нашего Kodiaq действуют, как чеснок на вампиров. Наша первая цель: храм Sagrada Familia начали строить в 1882 году, а закончат, предположительно, в 2026 году, через сто лет после смерти Антонио Гауди Конечно, мы не могли упустить возможность зайти внутрь Пытку теснотой оправдал вид фантастического храма Sagrada Familia, от которого мой напарник исторг речитатив, в наших краях означающий восхищение на грани религиозного восторга. То, что издалека казалось шероховатостью, при ближайшем рассмотрении предстало миниатюрными (в человеческий рост) фресками. Глядя на «Саграду», хорошо представляешь, как раскалённый маховик фантазии Антонио Гауди наслаивал поверх всё новые и новые слои — это произведение сложно назвать зданием, скорее, это выбитое в камне кипение религиозного сна. Колья башенных кранов, протыкающих храм примерно посредине, лишь подчеркивают его нечеловеческий масштаб. Большая часть дорог огорожена барьером, но встречаются и заманчивые бреши А кругом — лепота и плюс 15 по Цельсию Каталония — самый богатый регион Испании, поэтому дороги здесь лишены южного колорита и творческой щербатости. Они настолько хорошие и настолько платные, что большую часть времени на автомагистралях выковыриваешь из зубов хамон и уворачиваешься от летящих позади испанцев, которые чтят лимиты скорости чуть меньше, чем футбольный клуб «Барселона». Дороги в Испании прекрасные до такой степени, что аж зло берёт Но много платных. Например, за 350 километров от Барселоны до Валенсии попросят 41 евро — более 3000 рублей Конечно, этой расслабленности добавляет и сам Kodiaq, который по шкодовским меркам является автомобилем мягким и даже как будто чересчур. На испанских дорогах он едет, задержав дыхание, потому что для вздохов нет ни одной интересной кочки. Даже грунтовки словно утрамбовали катком Kodiaq здорово скрадывает ощущение скорости, поэтому умный круиз-контроль — совсем не лишнее изобретение Мы движемся в сторону одной любопытной винодельни, уповая большая частью на активный круиз-контроль, который выдерживает разрешенные 120 км/час и самостоятельно притормаживает перед фурами, да так хорошо, что через пару часов навык тормозить забывается напрочь. Единственным неудобством является его внимание к автомобилям на полосах для разгона и торможения, при подъезде к которым он интенсивно тормозит, хотя препятствие находится в трех метрах правее тебя. Близ Барселоны много потрясающих горных дорог, которые убивают жесткие ограничения скорости Мягкость Kodiaq хорошо заметна на кружевных серпантинах Каталонских гор. Хотя по меркам кроссоверов он весьма точен, Octavia и Superb всё же интереснее. У них лучше отклик в начальной фазе и больше злости в ответ на ускорение посреди поворота: если тот же Superb грызёт асфальт и стремится внутрь, Kodiaq норовит засвистеть шинами и выскользнуть наружу. Уйти вразнос ему не дает система стабилизации, но сам характер автомобиля не предполагает гонок. Kodiaq может ехать быстро и резко, но инициативы не проявляет и мало-помалу успокаивает и водителя Не предполагают гонок и каталонские дороги, которые, признаться, вынимают душу абсурдными ограничениями скорости. Ну хорошо — абсурдными с точки зрения нас, залётных. Но всё-таки от необходимости каждые 200 метров сбрасывать скорость до 40 в душе просыпается какое-то эпилептическое чувство. К тому же дотошная система навигации Kodiaq отражает лимиты скорости на экране, но принимает знак «Рекомендованная скорость» за жёсткое ограничение, что неплохо с точки зрения безопасности, но действует на нервы. Скоростные лимиты, впрочем, оправданы: дороги в самом деле провоцируют Невозмутимые велосипедисты так и не уступили Но ограничения скорости — это хотя бы в наших интересах. Чтобы вы поняли кабальность испанских законов, штрафы в размере 5000–8000 рублей ждут здесь за вождение в шлёпанцах, езду с локтем на «подоконнике», поедание мороженого или распитие воды за рулём. Сделано это, дабы под благим предлогом выдоить до нитки туристов, что наводняют Барселону с весны по раннюю осень. Представляете, какое зловоние поднялось бы в России, если бы у нас запретили пить за рулём воду? Не все ещё переварили запрет алкоголя, а тут — вода. Наверняка её употребление гарантировано какой-нибудь статьей Конституции. Определить Kodiaq можно в двух словах с помощью эпитетов «покладистость» и «практичность». Первое ты понимаешь за рулём, и хорошо это или плохо, зависит от настроя: если в крови ещё играют гормоны радости, нужно ждать версию Kodiaq RS. Что касается практичности, в какой-то момент начинаешь жалеть, что с тобой нет твоих спиногрызов с их самокатами, великами и чемоданом самого необходимого (на два-то дня...), чтобы щегольнуть багажником на 600 литров. Двое мужчин в Kodiaq ощущают себя этакими ёжиками в тумане, которые сами не понимают, что им делать с этим пространством вокруг. Вечерами атмосфера становится призрачной Если, выбирая Kodiaq, вы не можете определиться с двигателем, то вот небольшой гид. Младший 125-сильный мотор является дефорсированной версией 150-сильного 1.4 TSI, и оба обеспечивают Kodiaq убедительную динамику — разгон до 100 км/час в районе 10 секунд. Они являются вполне здравым выбором для автомобиля, который используется преимущественно в городе. Оба мотора относятся к семейству EA211, которое отличается от первой генерации мотором TSI весьма существенно. Для межгорода предпочтительнее 2-литровый 180-сильный турбомотор, который снимает с времени разгона пару секунд и имеет более «мясистую» середину рабочего диапазона, позволяя обгонять засыпающих испанских фермеров одним щелчком кнута. Наиболее сбалансированный для России двигатель — 2.0 TSI (180 л. с.) Что до дизеля, он оправдан в основном для настоящих путешественников: по нашим оценкам, окупаемость наступает через 150 тысяч километров. При этом динамика дизеля всё же уступает бензиновому варианту, поэтому для России золотой серединой является именно последний. Кстати, Kodiaq с двухлитровым мотором оснащается относительно новым семиступенчатым «роботом» DQ500, который за счёт «мокрого» сцепления мягкостью старта напоминает классический «автомат», а в остальное время — типичную коробку DSG с её бесшовным характером переключения. В едва заметной лености, с которой Kodiaq трогается с места, тоже есть что-то типично «кодиаковское»: все острые углы SKODA оставила для его дизайна, но не характера. Жёлтая лента на доме — символ независимости Что касается свободы, то у Каталонии свои идеалы. Она кутается в национальный флаг и грезит независимостью от Испании. Знаки сопротивления в виде жёлтой ленточки видны по всей округе — даже на асфальте автобанов. Скалы ведут неравный бой с зеленью: такой пейзаж типичен для Средиземноморья Очень мрачный город где-то по пути в винодельню Часовня и кладбище: здесь очень тихо и уединенно, поэтому хочется просто посидеть и забыть о графике Многие городки выглядят вот так — безлико. В них мало машин, а под вечер мало и людей, так что атмосфера несколько гнетущая Такие здания почему-то напоминают мне сказку о Чиполлино, хотя он родом не из этих краёв Встречаются затерянные в горах особняки, должно быть, жутко дорогие. Одна дорога к ним стоит не меньше самого дома А есть и настоящие замки, но это уже вотчина туристов Но вообще найти фактурное строение непросто, поэтому мы снимали Kodiaq у каждого сарая Интригующая низина: очень хотелось спуститься, но совершенно непонятно, как Лобстеры. Их сожрут на ужин обитатели горных особняков Старины здесь не стесняются, а выставляют напоказ. Ну классно же Внешне Каталонию можно принять за типичную южную страну с густой растительностью и проступающими сквозь неё скалистыми мозолями. Время от времени глаз радует какой-нибудь намоленный особняк, кладбище или ферма, но в основном архитектура каталонской глубинки лишена пафоса и несколько прямолинейна. Зажиточность региона выдаёт обилие добротных каменных домов, один из которых, самый зажиточный, и был нашей целью. Винодельня Can Rafols, куда мы приехали, описав длинную петлю по Каталонским горам Здесь находится винодельня Can Rafols. Поражают даже не завод и погреба внутри огромной скалы, которую неутомимо прогрызали целых четыре года. Больше трогает увлечённость, с которой сотрудники винодельни рассказывают о своих винах, о том, как они тормошат и нянчат бутылки, как мнут в руках пробки, как убирают осадок из кавы так, чтобы не допустить её перемерзания. Будучи за рулём, я предвидел всевозможные муки от запрета попробовать вино прямо в его колыбели, но из винодельни вышел опьяненный одними рассказами. А вождение в таком виде в Испании не возбраняется. Места располагают к виноделию и винопитию Возраст винодельни особенно заметен на заднем дворе Всё такое старинное... ...но даже осенью жизнеутверждающее Натюрморт с местными деликатесами Винный погреб, выдолбленный в огромной скале О продукте здесь рассказывают, точно о своих детях. И держат также бережно: зреющая кава (игристое вино) может рвануть, и беспокоить её понапрасну почему-то там нельзя К Барселоне мы ехали уже в темноте, когда каталонские магистрали обрели фантастические виды, будто смотришь на лавину падающих красных фонарей. Kodiaq не провоцирует биться за первенство в этом стаде, поэтому мы тошним на разрешенных 120 км/час ближе к правому ряду, изредка обгоняя совсем уж медленные фуры. Пробка где-то на подступах к Барселоне: дождь, тьма, узкие полосы. Хочу в Россию С каждой новой моделью казалось, что SKODA ищет рецепт идеального семейного автомобиля, но и Rapid, и Octavia, и даже крупный Superb порой слишком потакали человеку за рулём, чтобы выпускать их на горный серпантин. Пассажиров всегда чуть-чуть укачивало. Kodiaq справился с этой задачей: он не укачивает, а, скорее, расслабляет всех в салоне и водителя в том числе. Большую часть дороги на нём едешь, держа руль одной рукой, а вторую уместив на широкий подлокотник — это в Испании вроде бы разрешено. На тесте были исключительно машины российской сборки на зимней нешипованной резине, что привносило свой колорит: скользили они довольно-таки рано К сожалению, осенняя волна подорожания затронула и Kodiaq. Впрочем, есть и хорошие новости: в этом году начались продажи автомобилей российской сборки — и в Испании, кстати, были именно такие. Поэтому относительно импортируемого самого себя Kodiaq подешевел чуть ли не на 800 тысяч и стоит теперь от 1,389 миллиона рублей. Большая часть комплектаций теперь укладывается в 2 миллиона рублей, от которых в прошлом году прайс только начинался. Локализация позволила существенно снизить цену, но осенью началось подорожание, которое, скорее всего, продолжится с Нового года Паркуя Kodiaq, я всё же мысленно скучаю по Octavia и особенно — по Octavia RS. Может быть, она идеологически неправильна и, по большому счёту, не нужна. Зато «эрска» показывает, что семейные люди тоже хотят человеческих радостей на грани фола. И чуть-чуть за гранью.'",
     "output_type": "error",
     "traceback": [
      "\u001b[1;31m---------------------------------------------------------------------------\u001b[0m",
      "\u001b[1;31mValueError\u001b[0m                                Traceback (most recent call last)",
      "\u001b[1;32m<ipython-input-278-dc677d5dcda4>\u001b[0m in \u001b[0;36m<module>\u001b[1;34m()\u001b[0m\n\u001b[1;32m----> 1\u001b[1;33m \u001b[0mpredictor_svm\u001b[0m \u001b[1;33m=\u001b[0m \u001b[0mLinearSVC\u001b[0m\u001b[1;33m(\u001b[0m\u001b[1;33m)\u001b[0m\u001b[1;33m.\u001b[0m\u001b[0mfit\u001b[0m\u001b[1;33m(\u001b[0m\u001b[0mX_train\u001b[0m\u001b[1;33m,\u001b[0m \u001b[0my_train\u001b[0m\u001b[1;33m)\u001b[0m\u001b[1;33m\u001b[0m\u001b[0m\n\u001b[0m",
      "\u001b[1;32mC:\\Users\\B7E3~1\\AppData\\Local\\conda\\conda\\envs\\labsras\\lib\\site-packages\\sklearn\\svm\\classes.py\u001b[0m in \u001b[0;36mfit\u001b[1;34m(self, X, y, sample_weight)\u001b[0m\n\u001b[0;32m    227\u001b[0m         X, y = check_X_y(X, y, accept_sparse='csr',\n\u001b[0;32m    228\u001b[0m                          \u001b[0mdtype\u001b[0m\u001b[1;33m=\u001b[0m\u001b[0mnp\u001b[0m\u001b[1;33m.\u001b[0m\u001b[0mfloat64\u001b[0m\u001b[1;33m,\u001b[0m \u001b[0morder\u001b[0m\u001b[1;33m=\u001b[0m\u001b[1;34m\"C\"\u001b[0m\u001b[1;33m,\u001b[0m\u001b[1;33m\u001b[0m\u001b[0m\n\u001b[1;32m--> 229\u001b[1;33m                          accept_large_sparse=False)\n\u001b[0m\u001b[0;32m    230\u001b[0m         \u001b[0mcheck_classification_targets\u001b[0m\u001b[1;33m(\u001b[0m\u001b[0my\u001b[0m\u001b[1;33m)\u001b[0m\u001b[1;33m\u001b[0m\u001b[0m\n\u001b[0;32m    231\u001b[0m         \u001b[0mself\u001b[0m\u001b[1;33m.\u001b[0m\u001b[0mclasses_\u001b[0m \u001b[1;33m=\u001b[0m \u001b[0mnp\u001b[0m\u001b[1;33m.\u001b[0m\u001b[0munique\u001b[0m\u001b[1;33m(\u001b[0m\u001b[0my\u001b[0m\u001b[1;33m)\u001b[0m\u001b[1;33m\u001b[0m\u001b[0m\n",
      "\u001b[1;32mC:\\Users\\B7E3~1\\AppData\\Local\\conda\\conda\\envs\\labsras\\lib\\site-packages\\sklearn\\utils\\validation.py\u001b[0m in \u001b[0;36mcheck_X_y\u001b[1;34m(X, y, accept_sparse, accept_large_sparse, dtype, order, copy, force_all_finite, ensure_2d, allow_nd, multi_output, ensure_min_samples, ensure_min_features, y_numeric, warn_on_dtype, estimator)\u001b[0m\n\u001b[0;32m    754\u001b[0m                     \u001b[0mensure_min_features\u001b[0m\u001b[1;33m=\u001b[0m\u001b[0mensure_min_features\u001b[0m\u001b[1;33m,\u001b[0m\u001b[1;33m\u001b[0m\u001b[0m\n\u001b[0;32m    755\u001b[0m                     \u001b[0mwarn_on_dtype\u001b[0m\u001b[1;33m=\u001b[0m\u001b[0mwarn_on_dtype\u001b[0m\u001b[1;33m,\u001b[0m\u001b[1;33m\u001b[0m\u001b[0m\n\u001b[1;32m--> 756\u001b[1;33m                     estimator=estimator)\n\u001b[0m\u001b[0;32m    757\u001b[0m     \u001b[1;32mif\u001b[0m \u001b[0mmulti_output\u001b[0m\u001b[1;33m:\u001b[0m\u001b[1;33m\u001b[0m\u001b[0m\n\u001b[0;32m    758\u001b[0m         y = check_array(y, 'csr', force_all_finite=True, ensure_2d=False,\n",
      "\u001b[1;32mC:\\Users\\B7E3~1\\AppData\\Local\\conda\\conda\\envs\\labsras\\lib\\site-packages\\sklearn\\utils\\validation.py\u001b[0m in \u001b[0;36mcheck_array\u001b[1;34m(array, accept_sparse, accept_large_sparse, dtype, order, copy, force_all_finite, ensure_2d, allow_nd, ensure_min_samples, ensure_min_features, warn_on_dtype, estimator)\u001b[0m\n\u001b[0;32m    525\u001b[0m             \u001b[1;32mtry\u001b[0m\u001b[1;33m:\u001b[0m\u001b[1;33m\u001b[0m\u001b[0m\n\u001b[0;32m    526\u001b[0m                 \u001b[0mwarnings\u001b[0m\u001b[1;33m.\u001b[0m\u001b[0msimplefilter\u001b[0m\u001b[1;33m(\u001b[0m\u001b[1;34m'error'\u001b[0m\u001b[1;33m,\u001b[0m \u001b[0mComplexWarning\u001b[0m\u001b[1;33m)\u001b[0m\u001b[1;33m\u001b[0m\u001b[0m\n\u001b[1;32m--> 527\u001b[1;33m                 \u001b[0marray\u001b[0m \u001b[1;33m=\u001b[0m \u001b[0mnp\u001b[0m\u001b[1;33m.\u001b[0m\u001b[0masarray\u001b[0m\u001b[1;33m(\u001b[0m\u001b[0marray\u001b[0m\u001b[1;33m,\u001b[0m \u001b[0mdtype\u001b[0m\u001b[1;33m=\u001b[0m\u001b[0mdtype\u001b[0m\u001b[1;33m,\u001b[0m \u001b[0morder\u001b[0m\u001b[1;33m=\u001b[0m\u001b[0morder\u001b[0m\u001b[1;33m)\u001b[0m\u001b[1;33m\u001b[0m\u001b[0m\n\u001b[0m\u001b[0;32m    528\u001b[0m             \u001b[1;32mexcept\u001b[0m \u001b[0mComplexWarning\u001b[0m\u001b[1;33m:\u001b[0m\u001b[1;33m\u001b[0m\u001b[0m\n\u001b[0;32m    529\u001b[0m                 raise ValueError(\"Complex data not supported\\n\"\n",
      "\u001b[1;32mC:\\Users\\B7E3~1\\AppData\\Local\\conda\\conda\\envs\\labsras\\lib\\site-packages\\numpy\\core\\numeric.py\u001b[0m in \u001b[0;36masarray\u001b[1;34m(a, dtype, order)\u001b[0m\n\u001b[0;32m    536\u001b[0m \u001b[1;33m\u001b[0m\u001b[0m\n\u001b[0;32m    537\u001b[0m     \"\"\"\n\u001b[1;32m--> 538\u001b[1;33m     \u001b[1;32mreturn\u001b[0m \u001b[0marray\u001b[0m\u001b[1;33m(\u001b[0m\u001b[0ma\u001b[0m\u001b[1;33m,\u001b[0m \u001b[0mdtype\u001b[0m\u001b[1;33m,\u001b[0m \u001b[0mcopy\u001b[0m\u001b[1;33m=\u001b[0m\u001b[1;32mFalse\u001b[0m\u001b[1;33m,\u001b[0m \u001b[0morder\u001b[0m\u001b[1;33m=\u001b[0m\u001b[0morder\u001b[0m\u001b[1;33m)\u001b[0m\u001b[1;33m\u001b[0m\u001b[0m\n\u001b[0m\u001b[0;32m    539\u001b[0m \u001b[1;33m\u001b[0m\u001b[0m\n\u001b[0;32m    540\u001b[0m \u001b[1;33m\u001b[0m\u001b[0m\n",
      "\u001b[1;31mValueError\u001b[0m: could not convert string to float: 'На автомобиле «для путешествий» мы отправились в путешествие и поняли, что размер не всегда выгоден На автомобиле «для путешествий» мы отправились в путешествие и поняли, что размер не всегда выгоден Что такое несвобода, отчетливее всего понимаешь в свободной Европе. Несвободу здесь ощущаешь физически, пытаясь втиснуться в щель подземной парковки настолько узкую, что инстинктивно прижимаешь локти. Зеркало автомобиля проходит в сантиметре от стены, а взгляд упирается в табличку «37 евро», которая означает то ли суточную плату, то ли штраф в случае отказа платить. Ну его. Мы пятимся назад, всё также прижимая локти и, на всякий случай, втягивая щёки. Снаружи кажется, что всё не так страшно... узко ... но изнутри ощущаешь будто вот-вот снимешь скальп со стен. Судя по отметинам, прецеденты были То, что автомобилям размером со SKODA Kodiaq в Барселоне и её окрестностях не очень рады, хорошо понимаешь, отыскав-таки сносную парковку (три евро в час), которая выглядит тесноватой даже для Daewoo Matiz. Если умудришься встать ровно, не откроешь двери, и наоборот. Так началось моё знакомство с Kodiaq российской сборки, которое, вопреки ожиданиям, прошло в полной интриг и заговоров столице Каталонии. Что справа, что слева — впритык. И эта парковка считается просторной Поэтому камера заднего вида и круговой «парктроник» не являются здесь излишеством. Тем более свирепые каталонцы даже в пробках притираются так, что парктроник издает затяжной писк и впадает в кому. Они бы, наверное, ехали до контакта, но московские номера нашего Kodiaq действуют, как чеснок на вампиров. Наша первая цель: храм Sagrada Familia начали строить в 1882 году, а закончат, предположительно, в 2026 году, через сто лет после смерти Антонио Гауди Конечно, мы не могли упустить возможность зайти внутрь Пытку теснотой оправдал вид фантастического храма Sagrada Familia, от которого мой напарник исторг речитатив, в наших краях означающий восхищение на грани религиозного восторга. То, что издалека казалось шероховатостью, при ближайшем рассмотрении предстало миниатюрными (в человеческий рост) фресками. Глядя на «Саграду», хорошо представляешь, как раскалённый маховик фантазии Антонио Гауди наслаивал поверх всё новые и новые слои — это произведение сложно назвать зданием, скорее, это выбитое в камне кипение религиозного сна. Колья башенных кранов, протыкающих храм примерно посредине, лишь подчеркивают его нечеловеческий масштаб. Большая часть дорог огорожена барьером, но встречаются и заманчивые бреши А кругом — лепота и плюс 15 по Цельсию Каталония — самый богатый регион Испании, поэтому дороги здесь лишены южного колорита и творческой щербатости. Они настолько хорошие и настолько платные, что большую часть времени на автомагистралях выковыриваешь из зубов хамон и уворачиваешься от летящих позади испанцев, которые чтят лимиты скорости чуть меньше, чем футбольный клуб «Барселона». Дороги в Испании прекрасные до такой степени, что аж зло берёт Но много платных. Например, за 350 километров от Барселоны до Валенсии попросят 41 евро — более 3000 рублей Конечно, этой расслабленности добавляет и сам Kodiaq, который по шкодовским меркам является автомобилем мягким и даже как будто чересчур. На испанских дорогах он едет, задержав дыхание, потому что для вздохов нет ни одной интересной кочки. Даже грунтовки словно утрамбовали катком Kodiaq здорово скрадывает ощущение скорости, поэтому умный круиз-контроль — совсем не лишнее изобретение Мы движемся в сторону одной любопытной винодельни, уповая большая частью на активный круиз-контроль, который выдерживает разрешенные 120 км/час и самостоятельно притормаживает перед фурами, да так хорошо, что через пару часов навык тормозить забывается напрочь. Единственным неудобством является его внимание к автомобилям на полосах для разгона и торможения, при подъезде к которым он интенсивно тормозит, хотя препятствие находится в трех метрах правее тебя. Близ Барселоны много потрясающих горных дорог, которые убивают жесткие ограничения скорости Мягкость Kodiaq хорошо заметна на кружевных серпантинах Каталонских гор. Хотя по меркам кроссоверов он весьма точен, Octavia и Superb всё же интереснее. У них лучше отклик в начальной фазе и больше злости в ответ на ускорение посреди поворота: если тот же Superb грызёт асфальт и стремится внутрь, Kodiaq норовит засвистеть шинами и выскользнуть наружу. Уйти вразнос ему не дает система стабилизации, но сам характер автомобиля не предполагает гонок. Kodiaq может ехать быстро и резко, но инициативы не проявляет и мало-помалу успокаивает и водителя Не предполагают гонок и каталонские дороги, которые, признаться, вынимают душу абсурдными ограничениями скорости. Ну хорошо — абсурдными с точки зрения нас, залётных. Но всё-таки от необходимости каждые 200 метров сбрасывать скорость до 40 в душе просыпается какое-то эпилептическое чувство. К тому же дотошная система навигации Kodiaq отражает лимиты скорости на экране, но принимает знак «Рекомендованная скорость» за жёсткое ограничение, что неплохо с точки зрения безопасности, но действует на нервы. Скоростные лимиты, впрочем, оправданы: дороги в самом деле провоцируют Невозмутимые велосипедисты так и не уступили Но ограничения скорости — это хотя бы в наших интересах. Чтобы вы поняли кабальность испанских законов, штрафы в размере 5000–8000 рублей ждут здесь за вождение в шлёпанцах, езду с локтем на «подоконнике», поедание мороженого или распитие воды за рулём. Сделано это, дабы под благим предлогом выдоить до нитки туристов, что наводняют Барселону с весны по раннюю осень. Представляете, какое зловоние поднялось бы в России, если бы у нас запретили пить за рулём воду? Не все ещё переварили запрет алкоголя, а тут — вода. Наверняка её употребление гарантировано какой-нибудь статьей Конституции. Определить Kodiaq можно в двух словах с помощью эпитетов «покладистость» и «практичность». Первое ты понимаешь за рулём, и хорошо это или плохо, зависит от настроя: если в крови ещё играют гормоны радости, нужно ждать версию Kodiaq RS. Что касается практичности, в какой-то момент начинаешь жалеть, что с тобой нет твоих спиногрызов с их самокатами, великами и чемоданом самого необходимого (на два-то дня...), чтобы щегольнуть багажником на 600 литров. Двое мужчин в Kodiaq ощущают себя этакими ёжиками в тумане, которые сами не понимают, что им делать с этим пространством вокруг. Вечерами атмосфера становится призрачной Если, выбирая Kodiaq, вы не можете определиться с двигателем, то вот небольшой гид. Младший 125-сильный мотор является дефорсированной версией 150-сильного 1.4 TSI, и оба обеспечивают Kodiaq убедительную динамику — разгон до 100 км/час в районе 10 секунд. Они являются вполне здравым выбором для автомобиля, который используется преимущественно в городе. Оба мотора относятся к семейству EA211, которое отличается от первой генерации мотором TSI весьма существенно. Для межгорода предпочтительнее 2-литровый 180-сильный турбомотор, который снимает с времени разгона пару секунд и имеет более «мясистую» середину рабочего диапазона, позволяя обгонять засыпающих испанских фермеров одним щелчком кнута. Наиболее сбалансированный для России двигатель — 2.0 TSI (180 л. с.) Что до дизеля, он оправдан в основном для настоящих путешественников: по нашим оценкам, окупаемость наступает через 150 тысяч километров. При этом динамика дизеля всё же уступает бензиновому варианту, поэтому для России золотой серединой является именно последний. Кстати, Kodiaq с двухлитровым мотором оснащается относительно новым семиступенчатым «роботом» DQ500, который за счёт «мокрого» сцепления мягкостью старта напоминает классический «автомат», а в остальное время — типичную коробку DSG с её бесшовным характером переключения. В едва заметной лености, с которой Kodiaq трогается с места, тоже есть что-то типично «кодиаковское»: все острые углы SKODA оставила для его дизайна, но не характера. Жёлтая лента на доме — символ независимости Что касается свободы, то у Каталонии свои идеалы. Она кутается в национальный флаг и грезит независимостью от Испании. Знаки сопротивления в виде жёлтой ленточки видны по всей округе — даже на асфальте автобанов. Скалы ведут неравный бой с зеленью: такой пейзаж типичен для Средиземноморья Очень мрачный город где-то по пути в винодельню Часовня и кладбище: здесь очень тихо и уединенно, поэтому хочется просто посидеть и забыть о графике Многие городки выглядят вот так — безлико. В них мало машин, а под вечер мало и людей, так что атмосфера несколько гнетущая Такие здания почему-то напоминают мне сказку о Чиполлино, хотя он родом не из этих краёв Встречаются затерянные в горах особняки, должно быть, жутко дорогие. Одна дорога к ним стоит не меньше самого дома А есть и настоящие замки, но это уже вотчина туристов Но вообще найти фактурное строение непросто, поэтому мы снимали Kodiaq у каждого сарая Интригующая низина: очень хотелось спуститься, но совершенно непонятно, как Лобстеры. Их сожрут на ужин обитатели горных особняков Старины здесь не стесняются, а выставляют напоказ. Ну классно же Внешне Каталонию можно принять за типичную южную страну с густой растительностью и проступающими сквозь неё скалистыми мозолями. Время от времени глаз радует какой-нибудь намоленный особняк, кладбище или ферма, но в основном архитектура каталонской глубинки лишена пафоса и несколько прямолинейна. Зажиточность региона выдаёт обилие добротных каменных домов, один из которых, самый зажиточный, и был нашей целью. Винодельня Can Rafols, куда мы приехали, описав длинную петлю по Каталонским горам Здесь находится винодельня Can Rafols. Поражают даже не завод и погреба внутри огромной скалы, которую неутомимо прогрызали целых четыре года. Больше трогает увлечённость, с которой сотрудники винодельни рассказывают о своих винах, о том, как они тормошат и нянчат бутылки, как мнут в руках пробки, как убирают осадок из кавы так, чтобы не допустить её перемерзания. Будучи за рулём, я предвидел всевозможные муки от запрета попробовать вино прямо в его колыбели, но из винодельни вышел опьяненный одними рассказами. А вождение в таком виде в Испании не возбраняется. Места располагают к виноделию и винопитию Возраст винодельни особенно заметен на заднем дворе Всё такое старинное... ...но даже осенью жизнеутверждающее Натюрморт с местными деликатесами Винный погреб, выдолбленный в огромной скале О продукте здесь рассказывают, точно о своих детях. И держат также бережно: зреющая кава (игристое вино) может рвануть, и беспокоить её понапрасну почему-то там нельзя К Барселоне мы ехали уже в темноте, когда каталонские магистрали обрели фантастические виды, будто смотришь на лавину падающих красных фонарей. Kodiaq не провоцирует биться за первенство в этом стаде, поэтому мы тошним на разрешенных 120 км/час ближе к правому ряду, изредка обгоняя совсем уж медленные фуры. Пробка где-то на подступах к Барселоне: дождь, тьма, узкие полосы. Хочу в Россию С каждой новой моделью казалось, что SKODA ищет рецепт идеального семейного автомобиля, но и Rapid, и Octavia, и даже крупный Superb порой слишком потакали человеку за рулём, чтобы выпускать их на горный серпантин. Пассажиров всегда чуть-чуть укачивало. Kodiaq справился с этой задачей: он не укачивает, а, скорее, расслабляет всех в салоне и водителя в том числе. Большую часть дороги на нём едешь, держа руль одной рукой, а вторую уместив на широкий подлокотник — это в Испании вроде бы разрешено. На тесте были исключительно машины российской сборки на зимней нешипованной резине, что привносило свой колорит: скользили они довольно-таки рано К сожалению, осенняя волна подорожания затронула и Kodiaq. Впрочем, есть и хорошие новости: в этом году начались продажи автомобилей российской сборки — и в Испании, кстати, были именно такие. Поэтому относительно импортируемого самого себя Kodiaq подешевел чуть ли не на 800 тысяч и стоит теперь от 1,389 миллиона рублей. Большая часть комплектаций теперь укладывается в 2 миллиона рублей, от которых в прошлом году прайс только начинался. Локализация позволила существенно снизить цену, но осенью началось подорожание, которое, скорее всего, продолжится с Нового года Паркуя Kodiaq, я всё же мысленно скучаю по Octavia и особенно — по Octavia RS. Может быть, она идеологически неправильна и, по большому счёту, не нужна. Зато «эрска» показывает, что семейные люди тоже хотят человеческих радостей на грани фола. И чуть-чуть за гранью.'"
     ]
    }
   ],
   "source": [
    "predictor_svm = LinearSVC().fit(X_train, y_train)"
   ]
  },
  {
   "cell_type": "code",
   "execution_count": 223,
   "metadata": {
    "collapsed": true
   },
   "outputs": [],
   "source": [
    "predictor_rf = RandomForestClassifier(n_estimators=1000).fit(X_train, y_train)"
   ]
  },
  {
   "cell_type": "code",
   "execution_count": 224,
   "metadata": {
    "collapsed": true
   },
   "outputs": [],
   "source": [
    "predictor_gbt = GradientBoostingClassifier(n_estimators=100).fit(X_train, y_train)"
   ]
  },
  {
   "cell_type": "code",
   "execution_count": 237,
   "metadata": {},
   "outputs": [
    {
     "name": "stdout",
     "output_type": "stream",
     "text": [
      "LR accuracy: 0.88%\n"
     ]
    }
   ],
   "source": [
    "y_pred_lr = predictor_lr.predict(X_test)\n",
    "print('LR accuracy: {}%'.format(round(np.mean(y_train == y_pred_lr), 2)))"
   ]
  },
  {
   "cell_type": "code",
   "execution_count": 238,
   "metadata": {},
   "outputs": [
    {
     "name": "stdout",
     "output_type": "stream",
     "text": [
      "LR accuracy: 0.96%\n"
     ]
    }
   ],
   "source": [
    "y_pred_svm = predictor_svm.predict(X_test)\n",
    "print('LR accuracy: {}%'.format(round(np.mean(y_train == y_pred_svm), 2)))"
   ]
  },
  {
   "cell_type": "code",
   "execution_count": 239,
   "metadata": {},
   "outputs": [
    {
     "name": "stdout",
     "output_type": "stream",
     "text": [
      "RF accuracy: 0.99%\n"
     ]
    }
   ],
   "source": [
    "y_pred_rf = predictor_rf.predict(X_test)\n",
    "print('RF accuracy: {}%'.format(round(np.mean(y_train == y_pred_rf), 2)))"
   ]
  },
  {
   "cell_type": "code",
   "execution_count": 240,
   "metadata": {},
   "outputs": [
    {
     "name": "stdout",
     "output_type": "stream",
     "text": [
      "GBT accuracy: 0.99%\n"
     ]
    }
   ],
   "source": [
    "y_pred_gbt = predictor_gbt.predict(X_test)\n",
    "print('GBT accuracy: {}%'.format(round(np.mean(y_train == y_pred_gbt), 2)))"
   ]
  },
  {
   "cell_type": "code",
   "execution_count": 270,
   "metadata": {
    "collapsed": true
   },
   "outputs": [],
   "source": [
    "from sklearn.model_selection import train_test_split\n",
    "X_train, X_test, y_train, y_test = train_test_split(df_train_m[\"text\"], y_train)"
   ]
  },
  {
   "cell_type": "code",
   "execution_count": 272,
   "metadata": {},
   "outputs": [
    {
     "name": "stdout",
     "output_type": "stream",
     "text": [
      "(225,) (75,)\n",
      "(225, 1) (75, 1)\n"
     ]
    }
   ],
   "source": [
    "print(X_train.shape, X_test.shape)\n",
    "print(y_train.shape, y_test.shape)"
   ]
  },
  {
   "cell_type": "code",
   "execution_count": 268,
   "metadata": {
    "collapsed": true
   },
   "outputs": [],
   "source": [
    "y_train = y_train.reshape((300, 1))"
   ]
  },
  {
   "cell_type": "code",
   "execution_count": 269,
   "metadata": {},
   "outputs": [
    {
     "data": {
      "text/plain": [
       "(300, 1)"
      ]
     },
     "execution_count": 269,
     "metadata": {},
     "output_type": "execute_result"
    }
   ],
   "source": [
    "y_train.shape"
   ]
  },
  {
   "cell_type": "code",
   "execution_count": 276,
   "metadata": {
    "collapsed": true
   },
   "outputs": [],
   "source": [
    "X_train = X_train.values.reshape(225, 1)\n",
    "X_test = X_test.values.reshape(75, 1)"
   ]
  },
  {
   "cell_type": "code",
   "execution_count": 297,
   "metadata": {
    "collapsed": true
   },
   "outputs": [],
   "source": [
    "a = [item for j in X_train for item in j]\n",
    "b =[item for j in X_test for item in j]"
   ]
  },
  {
   "cell_type": "code",
   "execution_count": 294,
   "metadata": {},
   "outputs": [
    {
     "data": {
      "text/plain": [
       "array(['Девочка уехала кататься на велосипеде вечером 1 августа и не вернулась Девочка уехала кататься на велосипеде вечером 1 августа и не вернулась Маша Ложкарева пропала 1 августа вечером из садового товарищества около деревни Горный Борок Нижегородской области. Около 17.00 девочка поехала кататься на велосипеде и больше о ней не было вестей. Приметы пропавшей: худощавое телосложение, рост 164 см, русые волосы, темные глаза, носит очки. Была одета в белую футболку с рисунком, голубые джинсовые шорты, бело-синие сандалии. При себе имела мобильный телефон. Как сообщили NN.ru в поисково-спасательной группе «Рысь», ранее девочка из дома не пропадала Уже несколько часов на месте работают сотрудники правоохранительных органов и нижегородские поисковики из ПСГ «Рысь», ПСО «Волонтер» и «Лиза Алерт». Корреспондент NN.ru рассказывает о происходящем с места событий. Всех, кто обладает информацией о местонахождении девочки, просят сообщить любые данные по телефонам: 8 (831) 28-38-200 или 102. 16:21 Все неравнодушные нижегородцы могут принять участие в поиске. Координаты места сбора 56.0504242, 44.3689305. Контактный телефон: +7 950 616-24-67 (Надежда). 16:24 Форма одежды — лес. С собой необходимо иметь репелленты, головной убор, фонари, воду, перекус. 16:43 Потребности добровольцев на данный момент: питьевая вода (охлажденная и кипяток в термосе); еда; чай, кофе; батарейки пальчиковые и мизинчиковые; ориентировки и скотч. 16:44 — В самой деревне Горный Борок никогда эту девочку не видели ни взрослые, ни дети, — рассказала Елена. — На той улице, где гуляют все дети, её не видели. Я и моя дочь, наши знакомые не видели. 16:54 Водителей, проезжавших 01.08–02.08 в Кстовском направлении, просим сохранить и отсмотреть записи с видеорегистраторов! 16:59 Следователи Следственного комитета возбудили уголовное дело по факту безвестного исчезновения девочки по признакам преступления, предусмотренного п. «в» ч. 2 ст. 105 УК РФ. По версии следствия, вечером 1 августа Маша с разрешения отца ушла кататься на велосипеде в садоводческое товарищество «Борок» Кстовского района. До настоящего времени ее местонахождение неизвестно. Девочка гостила у отца на даче. 17:19 Поисковики разных групп разбили лагерь на берегу речки Шавки. На место прибыли силы Росгвардии. 17:32 Видео с места поисков. 17:56 — Пока светло, необходимо «закрывать лес», — говори командир ПСГ «РЫСЬ» Андрей Ермолаев. Корреспондент NN.ru, как и остальные участники поиска, получил задачу и оправился осматривать заданный квадрат. Будем информировать вас о ходе поисков. 18:58 О ребенке нет вестей больше суток. Поиски будут продолжаться и ночью. 19:13 Более 70 добровольцев присоединились к поискам Маши. Люди продолжают приезжать. Добровольцы получают задачи и уходят/уезжают осматривать территорию. Карта волонтера — местность, поделенная на квадраты для поиска 19:48 Корреспондент NN.ru вместе с поисковиками осматривает тропы вдоль газопровода. Работают на отклик. Заезжали на местную птицефабрику, говорили со сторожем. По его словам, днем здесь уже были полицейские. 20:31 К поискам 13-летней Маши привлечены военнослужащие бригады оперативного назначения и вертолет Ка-226 Управления Росгвардии по Нижегородской области. Всего более 100 военнослужащих войск национальной гвардии РФ. Военнослужащие проводят обследование заданного квадрата, осматривают территорию, заросли кустарника, лесополосы, овраги, имеющиеся строения и все места, где может находиться ребенок. Их задача — найти следы пропавшей девочки. 21:01 Просьба к водителям! Сохраните, пожалуйста, записи с видеорегистраторов за 1 августа, если вы проезжали по дороге с населенных пунктов с. Толмачёво на с. Запрудное и с с. Ляписи на с. Запрудное. Также просьба сохранить и отсмотреть записи с регистраторов и камер на домах и магазинах в районе с. Запрудное, с. Подлесово, с. Прокошево, с. Чернуха, с. Шелокша. 21:07 Вся округа усеяна такими ориентировками. Их расклеивают и раздают сотрудникам полиции и МЧС. 21:15 Родители Маши рассказали, что они приехали на дачу только в эти выходные. Девочка здесь была нечасто и мало что знала в округе. Поэтому далеко не ездила на велосипеде. Каталась и несколько вечеров, по 20–30 минут. С собой у нее был только телефон. Но дозвониться на него не получается — абонент вне зоны доступа. Никаких личных вещей у девочки с собой не было. 21:19 Руководитель поисково-спасательного отряда «Волонтер-НН» Сергей Шухрин рассказал, что с утра 2 августа полицейские обследовали все озера и дороги в округе, «куда машина могла проехать». — Каких-то следов ДТП они не увидели, — добавил Шухрин. 21:47 Десятки добровольцев прибывают на поиск. Пешие, на авто, кинологи с собаками. Уже зарегистрировано 73 человека. 22:23 1 августа в 22:30 девочку видели в селе Толмачево — это около 20 км от деревни Горный Борок. Она ехала в сторону Прокошево. Об этом рассказал местный житель. ДОПОЛНЕНО. После проверки выяснилось, что в Толмачево видели не Машу. Там есть похожая девочка. 22:33 — Уже много чего осмотрено, — рассказал NN.ru Андрей Ермолаев. — Ищем живой. А как еще?.. 23:08 На поиск прибыли друзья брата Маши. Парни рассказали корреспонденту NN.ru, что Маша — очень спокойная положительная девочка. В городе у нее есть подруги. Но на даче ее видели в основном одну, катающуюся на велосипеде. Маша может ориентироваться в лесу. Папа не раз брал ее с собой в походы. 23:10 Папа Маши тоже принимает участие в поисках. 23:11 Один из поисковиков во время прочеса местности на машине подлетел и на кочке, перевернулся воткнулся на «Ниве» в землю. Ремни безопасности спасли экипажу здоровье. Оперативно всех спасли: и людей, и автомобиль. На людях - ни царапины. После акробатического трюка машина завелась и поехала. 23:31 Тем временем добровольцы вновь выдвинулись осматривать дорогу и прочесывать лес. 00:01 Одного из солдат госпитализировали с поиска. Он обжегся борщевиком. 06:32 Около 3 часов ночи в штабе на берегу Шавки осталось вполовину меньше народа. Кому-то наутро нужно идти на работу, кто-то отправился отсыпаться, чтобы вернуться на поиск с новыми силами. Тем не менее поиски продолжались всю ночь. Несколько групп ПСГ «Рысь» прочесывали обочины грунтовых дорог в полях между населенными пунктами. Работали на отклик: кричали имя девочки, сигналили автомобильными клаксонами, запускали сигнальные ракеты. Примерно час ночи. Осуществляем прочес дорог пешими группами и на автомобилях Светает. Соваться в лес ночью — малопродуктивно, объезжаем по кругу и периодически сигналим 06:56 Все прибывшие добровольцы проходили регистрацию в штабе Карта на стене — интеллектуальный центр поиска Где уже прошли, куда пойдет следующая группа, какие квадраты нужно осмотреть в первую очередь — все решается здесь Прибывшие с задания поисковики отдыхают Все треки поисковиков пишутся в специальных программах на телефонах или в навигаторах. Пока поисковики переводят дух, картограф сводит их на карте 07:12 Сегодня поиск продолжается. Несмотря на то, что о Маше нет вестей уже 36 часов (по уточнению папы девочки, она пропала 1 августа около 19:00), все еще есть шанс найти ее живой. На поиски требуются добровольцы. Если вы готовы приехать, просьба иметь с собой минимальное снаряжение: одежду, в которой можно идти в лес с комарами и в высокую траву, репелленты, головной убор, средство навигации (желательно), сотовый телефон с полной зарядкой, воду, перекус, фонарик, батарейки. Местность, по которой придется ходить, выглядит вот так: Везде растет высокая трава Возможно, потребуется осмотр «заброшек» Координаты штаба 56.0504242, 44.3689305. Как проехать: двигаемся по трассе М-7 в сторону Казани, после Ветчаковской долины ищем поворот на Подлесово (справа). Переезжаем мост через речку Шавку и паркуемся на обочине. Штаб поисковиков будет с левой стороны на берегу. Контактный телефон для связи: 8 (831) 28-38-200 (горячая линия поисково-спасательной группы «Рысь»). 07:34 Немного цифр прошедших суток: в поисково-спасательных работах приняли участие три нижегородских поисковых отряда: ПСГ «Рысь», ПСО «Волонтер», «Лиза Алерт»; на поиски зарегистрировано около 100 человек — как подготовленных поисковиков, так и добровольцев, которые пришли на поиск в первый раз; в поиске приняли участие 11 кинологических расчетов; для прочеса местности прибыли 100 бойцов Росгвардии; обследованы сотни километров; задействован 1 вертолет. Девочка до сих пор не найдена. 09:23 09:24 11:15 Поиск продолжается. Сегодня он набрал более серьезные обороты. — Сейчас на месте работают порядка 100 сотрудников Росгвардии, 80 сотрудников МЧС, 40–50 сотрудников из Следственного комитета и несколько десятков добровольцев, — рассказал NN.ru координатор поиска ПСГ «Рысь» Максим Зеленов. — Идет осмотр местности, опрос людей. Пока охват поиска — 4 на 4 километра от места пропажи. Потом он будет расширяться. 12:26 Стало известно, что девочка уехала на велосипеде «Форвард», а не «Стелс», как сообщалось ранее. 13:01 Всего в поисковых мероприятиях участвуют более 400 человек, сообщили сегодня в пресс-службе СУ Следственного комитета по Нижегородской области. В поисковых мероприятиях задействованы следователи и криминалисты Следственного комитета, полицейские, сотрудники МЧС, более 100 военнослужащих бригады оперативного назначения, волонтеры ПСГ «Рысь», ПО «Лиза Алерт» и ПСО «Волонтер», добровольцы. Кроме того, в поисках пропавшей девочки задействованы 2 вертолета (МЧС и АО «Транснефть») и водолазная группа. Расследование уголовного дела передано наиболее опытным следователями 1 отдела по расследованию особо важных дел следственного управления СК России по Нижегородской области. 13:17 МЧС распространило сообщение с просьбой сообщить о местонахождении Маши Ложкаревой. 13:49 Берег Шавки превратился в настоящую военную базу. Росгвардия, Следственный комитет, полиция — все здесь. Добровольцев по-прежнему ждут, но тех, кто готов выехать до 16:00. Ночного поиска с участием добровольцев скорее всего не будет. 14:21 К поискам пропавшей накануне в садовом товариществе «Борок» 13-летней Марии Ложкарёвой привлечены военнослужащие бригады оперативного назначения и вертолет Ка-226 Управления Росгвардии по Нижегородской области. 15:18 Папа девочки в штабе с 4 утра сегодняшнего дня. Сейчас он беседует с сотрудниками Следственного комитета. 15:18 В штабе много силовиков, но как будто бы ничего не происходит. Единой организации журналист NN.ru не заметил. Вчера, когда в большинстве были добровольцы, без дела почти никто не сидел. 15:19 Подъехали водолазы МЧС. Сейчас вместе с добровольцами ПСГ «Рысь» они отправляются исследовать дно одного из водоемов. Там добровольцы во время прочеса заметили опасный омут. 15:20 Журналист NN.ru вместе с добровольцами, участвующими в поисках, отправился прочесывать заброшенные сады. 15:47 О том, как велись поиски Маши в первые сутки после ее исчезновения, смотрите в нашем коротком видеоролике. 16:28 В поисках Маши добровольцам помогают собаки. 16:49 В лагере люди говорят, что МЧС снимается сегодня в 19:00. Добровольцы «Рыси» формируют экипажи на ночь и вечер. 16:55 Выезды добровольцев на сегодня отменены. На месте остается часть силовиков. Новый сбор — 4 августа в 7:45. 20:06 В день пропажи девочку видели в деревне Шмойлово. В шесть вечера она проехала по дороге мимо тарзанки. Ее видел местный мальчик. 20:07 Корреспондент NN.ru пообщался с мальчиком и его бабушкой. — Я считаю, надо копать в семье,— говорит бабушка. — Ее так далеко отпускали по трассе, это не дело. Женщина рассказала, что Машу неоднократно видели в Шмойлово: — У них там место тусовки, под мостом. Вот тарзанка, они катаются на ней. 20:10 Дорога между деревнями Маши — Горный Борок и Шмойлово спокойная. Но есть одно но. — Когда на казанской трассе авария, машины объезжают через Старые Ключищи пробку на Ветчаке — и тут большой поток, — рассказала местная жительница. — В тот день как раз была авария... 20:14 Правоохранители опрашивают всех местных жителей уже два дня. — Следственный комитет у нас поселился, — отметила женщина. 20:21 Водолазы обследуют водоемы. Они приехали часа три назад. 20:45 Штаб пустеет. Ночью каких-либо активных действий не ожидается. Поисковые работы возобновятся рано утром. 23:13 — Мы не верим, что что-то произошло и активно ведем поиски, — сказал сегодня журналистам отец пропавшей девочки Владимир Ложкарев. — И надеемся, что все будет хорошо. Мама вчера практически весь день провела здесь. Не было никаких версий, к кому она могла бы поехать, потому что у нее совершенно нормальные отношения с мамой и со мной. Я пока рассматриваю две версии произошедшего. Либо Машу сшибли и она находится в больнице. Либо Маша заблудилась и потеряла движимость. От обезвоживания где-то находится в траве. Она не очень уверенно каталась на этом велосипеде. 07:26 60 часов спустя 13-летняя Маша все еще не найдена. Смотрим, как проходили поиски Маши вчера, 3 августа. На второй день поисковых работ спасатели продолжили осматривать территорию с вертолета. Добровольцы из ПСГ «РЫСЬ» нашли вот такие водоемы с бетонными берегами Водолазы МЧС приехали к ним с крюком и магнитом Дна не видно, все затянуто ряской Крюком можно зацепить тело, магнитом — велосипед Во второй половине дня при осмотре местности добровольцы нашли в песчаном карьере следы свежего копа и след волочения, будто тащили мешок При этом мешков рядом не наблюдалось Прибывшие сотрудники СК пришли к выводу, что в этом месте брали песок Бойцы Росгвардии ближе к вечеру покинули место поиска, чтобы вернуться на следующий день 07:29 Сегодня третий день поисково-спасательных работ. Сейчас в штабе на берегу реки Шавки собираются добровольцы. Пока людей немного, но в ближайшее время на поляну кроме поисковиков должны подтянуться силы МЧС, Росгвадии. Напомним, можно присоединиться к поискам. Координаты места сбора 56.0504242, 44.3689305. Форма одежды: мокрый лес. С собой: репелленты, дождевики, головной убор, фонари, вода, еда. Контактный телефон: 8 (831) 28-38-200. 10:58 ПСГ «РЫСЬ» продолжает поиски девочки. Если вы хотите помочь в поисках, то вся необходимая информация указана в их посте. 11:30 С самого утра добровольцы снова прочесывают местность. Сегодня в поисках участвуют около ста человек военных — они цепью закрывают леса и поля. 10 кинологических расчетов разбросаны по разным точкам. 10 добровольцев на квадроциклах прочесывают южный район поиска, полицейские осматривают участки трассы М-7. Отрабатываются различные версии, в том числе версия с ДТП. В лагере по-прежнему ждут добровольцев. Несколько человек от отряда «Лиза Алерт» едут из Москвы. 11:51 Немного о том, как идут поиски и подготовка к дальнейшим действиям. Кинолог Лада и Илай вернулись с прочеса. Машины обклеивают ориентировками. Используют любую технику. 12:10 Штаб сейчас. Почти все на прочесе. 12:20 Поиски длятся уже третьи сутки — девочку ищут уже 65 часов. Мы поговорили с её папой. 12:30 Сейчас «в полях» 14 групп добровольцев, всего свыше ста человек. Также местность прочесывают 20 квадроциклистов. 12:53 Сегодня пасмурно. Кинологи ставят шатер — очевидно, что одна беседка, в которой базируется штаб, всех не вместит. Без таких помощников здесь точно не обойтись. 13:10 Мы пообщались с руководителем кинологов Александром Шеметовым. — Сегодня работать тяжело, — рассказал руководитель кинологов Александр Шеметов. — Как и вчера, и позавчера. Очень душно. Соответственно, собака быстро выматывается, и уже через часа полтора на нее надежды мало, она думает, как отдохнуть. Но и мы стараемся их сильно не утомлять. Если есть водоем — даем охладиться. Вопреки расхожему мнению, поисковой собаке не нужно нюхать вещи пропавшего. — Собака запоминает всех, кто с ней в группе — ходим обычно малыми группами — и любого другого человека обозначает лаем, — сказал Александр. — Наши собаки натренированы искать живых. Надеемся помочь. 14:10 Наш корреспондент не сидит без дела – не просто передаём информацию, а также помогаем в поисках пропавшей девочки. Ориентировки должны быть везде. 14:15 ВНИМАНИЕ! За достоверную информацию о Маше предлагают полмиллиона рублей, сообщили в поисково-спасательном отряде «Волонтер-НН». 15:48 Любовь Груздева, которая принимает участие в поисковой операции, рассказала, как проходят будни: — 13 часов на ногах. Сначала по лесу, потом на кухне. Накормить по 50–100 человек каждые 2–3 часа, разобрать бесконечные подвозы продуктов. Следить, чтобы ничего не заканчивалось. Сейчас душ, 5 часов сна и снова в дорогу. 16:10 Во всех окрестных деревнях знают о пропавшей девочке. Вместе с местным охотником Андреем объехали несколько населенных пунктов. Прочесали кладбище, заброшенную ферму, труднопроходимые дороги. Ближе к М-7 встретили другую группу. Ребята осматривали обочины всех ответвлений от М-7. — Мы будем прочесывать все обочины до Лыскова на случай, если ее сбили и спрятали недалеко от дороги. 16:13 Прямо сейчас в штабе решается, кто пойдет на прочес с бойцами Росгвардии. Вспоминая о солдате, которого госпитализировали с поиска, всех предупреждают не лезть в борщевик. Как это ни парадоксально, но на поиске людей военных координируют штатские — это добровольцы, которые умеют пользоваться навигаторами и рациями. 16:17 В штабе организована полевая кухня. Продукты подвозят добровольцы. Еда для всех, участвующих в поиске. Местные жители принесли 20 литров парного молока. Сказали выпить за два часа — иначе на жаре испортится. Накануне по распоряжению кстовской администрации на поиск подвозили питьевую воду, хлеб. 16:23 В рамках поисках Маши осматриваются все места, которые только есть: леса, поля, заброшенные здания и прочее. Наш корреспондент осмотрел останки фермы. 17:27 Группа квадроциклистов выбирает новый квадрат для прочеса. 17:29 Собирается дождь. ГУ МЧС как раз передавало, что в ближайшие часы в Нижнем Новгороде и области начнутся ливни и грозы. 17:36 Поисковики во время прочеса нашли платок. В ближайшее время его покажут папе девочки. Согласно ориентировке, при себе у девочки платка не было. Но сейчас проверяются любые зацепки. 17:52 Наш корреспондент сообщил, что начался ливень, который осложняет поиски. В полях всё ещё остаётся много людей. 17:58 Дождь всё ещё идет. Наш корреспондент рассказал небольшие подробности того, что там сейчас происходит. 18:01 Дождик очень сильный. Будем надеяться, что он быстро закончится: наверх сильный ветер, тучи двигаются быстро. 18:04 Уже есть просветы. 18:43 Дождь все не заканчивается. Группы возвращаются с прочеса. Пока поиски приостановили. 22:59 В группах поисковиков опубликованы актуальные фотографии пропавшей Маши Ложкаревой. У девочки длинные волосы и она не носит очки. На фотографии, которая ранее публиковалась в ориентировке и распространялась по социальным сетям и СМИ, Маше около 10-11 лет. 23:29 5 августа (воскресенье) продолжится поиск Маши Ложкаревой. Время сбора: с 9:00, в течение всего дня. Место сбора: СНТ «Борок», Кстовский район. Координаты места сбора: 56,\\u200e0504242, 44,\\u200e3689305. Форма одежды: мокрый лес. 05:36 Участники поисково-спасательных работ поделились с NN.ru своими фото- и видеоматериалами. Смотрим на события последних двух дней глазами поисковиков. Отдых после прочеса Прочес местности Осмотр заброшенных зданий Регистрация участников 06:29 Публикуем фотоотчет корреспондента NN.ru с третьего дня поисковых работ. Штаб. Место, где получают задачи, сливают картографу треки. Также тут располагается кухня Вчера на поиске был кинологический отряд «Оникс НН» После работ на жаре кинологи отправляли своих собак охладиться Во время и после работы собакам нужно пить много воды Кинолог Лада и ее маламут Илай после поиска Как и в предыдущие дни, 4 августа на поиске были сотрудники ГУ МЧС по Нижегородской области (всего около 50 спасателей) Штаб утром почти пуст: все на прочесе Командир ПСГ «Рысь» Андрей Ермолаев (справа) и инфоорг группы Надежда Ермолаева (слева) почти не спали с самого начала поисковых работ Все приезжающие на поиск люди обязательно проходят регистрацию Андрей — опытный поисковик. Ему не привыкать координировать работу добровольцев Психолог группы «Рысь» Елена Дрягалова Картограф Анатолий Савай (в центре) из ПСО «Волонтер» на поиске сводит в единую картину маршруты всех поисковиков, чтобы было понятно, где уже прошли, а где нет Папа Маши (слева) участвует в поисках вместе со всеми. Мужчина старается не отвлекаться на эмоции и занимается делом Кинологи постепенно возвращаются с заданий Бигль Марк и его хозяйка Мария Едем прочесывать поля и раздавать ориентировки. Ориентировки почти не пригодились — все местные жители знают о пропаже Маши На «Ниве» местного охотника Андрея проезжаем труднодоступные дороги Квадроциклисты двух нижегородских сообществ — АТV-клуб «Горький» и «Братья Гавс» — приняли участие в прочесе самых труднодоступных мест Во второй половине дня гроза приостановила поиски Представитель «Лизы Алерт» Кирилл просит всех отправляющихся домой записывать адреса видеокамер, попадающихся на дороге Несколько человек ЛА приехали на поиск из Москвы От самой известной поисковой группы России было около 20 человек Помочь в поиске можно разными способами. Например, эти люди вечером привезли мешок дождевиков Вечером и ночью поисков не было. В штабе остались несколько поисковиков из «Лизы Алерт» и ПСО «Волонтер». Измотанные поисковики поехали отсыпаться перед новым рывком 09:15 В 9 часов утра руководство поискового отряда «Лиза Алерт» поставило задачу на прочёс двум группам. В одной из групп находится отец Маши. 09:46 Участники поиска получают задания от «Лизы Алерт» 09:58 Обновление ориентировки. 10:14 Корреспондент NN.ru четвёртый день участвует в поисках Маши Ложкарёвой в составе группы «РЫСЬ». 10:36 Корреспондент NN.ru в составе поисковой группы «РЫСЬ-1» прочёсывает заданные квадраты. В группе имеется кинолог с собакой. Здесь уже проходили люди, заметившие следы велосипеда, подобные тому, что был у Маши. Поэтому решено было проверить территорию более тщательно. Новая информация: у девочки был с собой фотоаппарат. 12:40 13:14 В лагере время обеда По масштабам поиски примерно такие же, как и вчера. Добровольцы приезжают, регистрируются, получают задачи и уходят на прочес. Над местом поиска снова кружит вертолет. Наиболее частая версия, которую озвучивают на поиске, — это версия с ДТП. Прямо сейчас папа Маши прочесывает обочину дороги на направлению к Подлесово. Группа двигается медленно. Заглядывают буквально под каждый куст. 13:57 Сообщение СУ СК России по Нижегородской области: в настоящее время обследована территория в радиусе 30 километров от места безвестного исчезновения Маши Ложкаревой, исследованы 5 водоемов, допрошены жители СНТ «Борок», отрабатываются ближайшее населенные пункты. 14:06 — Наша группа вернулась с прочеса, — передает корреспондент NN.ru с места событий. — «Закрыли» около двух квадратных километров. Нас было трое пеших и саровский кинолог Виктор со своим лабрадором по кличке Элвис. Координатор велел фиксировать любые следы пребывания человека. Видели следы копа, будто кто-то пробовал грунт и делал ямки глубиной два-три штыка. Сначала напряглись. Фиксировали, отмечали точки на карте. На третьей ямке сообразили, что, вероятно, тут прошли кладоискатели. 14:37 На месте поисков вновь показался вертолёт. 18:54 Участник поисков рассказывает о том, что сейчас происходит 21:15 Добровольцы объявили новый сбор на поиск. Свежие силы потребуются утром 6 августа. Координаты места сбора 56.0504242, 44.3689305. 21:53 Прошедший день глазами поисковиков. 22:06 Смотрим, как работали квадроциклисты и кинологи. 08:48 Район поисков 13-летней Маши Ложкаревой расширен до 500 квадратных километров. 09:31 — В поисковых мероприятиях участвуют около 450 человек, — сообщили накануне в СУ СК по Нижегородской области. — В настоящее время обследована территория в радиусе 30 километров от места безвестного исчезновения Маши Ложкаревой, исследованы 5 водоемов, допрошены жители СНТ «Борок», отрабатываются ближайшее населенные пункты. 11:15 Сегодня шестой день поисков Маши. К масштабной операции по-прежнему привлекают добровольцев. — Работаем, пока не найдем, — сообщил NN.ru командир ПСГ «Рысь» Андрей Ермолаев. 12:47 Добровольцы расклеили ориентировки в Нижнем Новгороде. 13:43 Вчера был очень интенсивный день. Смотрим фоторепортаж нашего корреспондента с места событий. Папа Маши, его друзья и коллеги на поиск приезжают одними из первых. Участник «Лизы Алерт» Кирилл ставит задачи В штабе каждый день работает кухня. Продукты подвозят неравнодушные люди. Кормят всех не меньше трех раз в день, в течение всего дня можно выпить кофе, чаю и воды Кинологи из Сарова закрыли несколько квадратов Собаке на поиске нужно много пить Для поисков лучше иметь минимальную экипировку. Но даже участники, которые приехали не слишком подготовленным к переходам по лесу с комарами, терпеливо ходили по лесам и пробирались через высокую траву Передвижной штаб сотрудников СК В воздухе снова кружил вертолет Район поиска расширился 15:09 Новая информация! Сегодня поиски продолжатся вечером и ночью. Координаты места сбора 56.0504242, 44.3689305 (СНТ «Борок»). Особенно нужно участие подготовленных людей. 15:37 Новая информация о поисках пропавшей 1 августа Маши Ложкаревой! Сегодня поиски продолжатся вечером и ночью. 17:28 Сегодня очередной день поисковых работ. — Мы закрываем более тщательно пройденные ранее квадраты, — рассказал NN.ru руководитель кинологов Александр Шеметов. — Те места, где были какие-то зацепки, подозрительные места. Вечером приедут еще наши кинологи. 18:07 Скоро подойдут к концу пятые сутки, как пропала Маша. Многие люди в соцсетях пишут, что за помощью следует обратиться к экстрасенсам. Мы нашли группу в соцсети «ВКонтакте» под названием «ПОИСК ПРОПАВШИХ эзотериками», в которой ясновидящие высказали свои предположения о местоположении пропавшей. Это не профессиональные экстрасенсы, а люди, которые чувствуют в себе некие сверхъестественные силы. Они с 3 августа пишут свои видения и предположения о судьбе Маши. Вот некоторые из них — больше версий от эзотериков смотрите здесь. Мы пообщались с папой Маши на тему обращений за помощью к эзотерикам. — Я общаюсь с руководителями трёх поисковых отрядов. Так вот, из всех тысяч поисковых операций, в которых они участвовали, предположения экстрасенсов не помогли, — сказал отец пропавшей девочки. — Статистика — ноль. 18:42 Поиски Маши Ложкаревой ведутся уже несколько дней. Сегодня NN.ru записал видеообращение к девочке ее папы. 20:22 Еще один поисковый день в штабе. Регистрация Выдача раций Уже сотни ориентировок пестрят по области, и еще сотни нужно расклеить Папа вернулся с поиска и осматривает в штабе СК найденные на прочесе вещи, похожие на Машины (Владимир Ложкарев вещи не опознал) Добровольцы собираются на прочес На кухне образуются кучи мусора. Требуется помощь, чтобы их вывозить 20:38 В поисках Маши проверяются все колодцы Еще несколько кадров со вчерашнего прочеса. Осматриваются «заброшки» Расклеиваются ориентировки 21:07 21:14 Прямо сейчас в штабе кипит жизнь. Сегодня поиски продолжаются и ночью. Уже объявлен сбор добровольцев на завтра. Координаты места сбора 56.0504242, 44.3689305 (Кстовский район, СНТ «Борок») 07:05 Поиски Маши велись всю прошедшую ночь и продолжатся сегодня днем. 12:00 Поисковик «Лиза Алерт» о поисках Маши 14:39 Публикуем небольшое интервью, которое дал нам накануне папа Маши Владимир Ложкарев: — Маша часто здесь бывала? — В прошлом году она гостила здесь месяц, а неделю вообще без нас жила с подругой, — рассказал Владимир. — В этом году мы приезжали еще зимой на каникулы и жили тут. А сейчас она тут жила пятый день. Причем мы ходили тут на байдарке по речке, а на следующий день после того, как она исчезла, мы собирались идти на байдарке вместе с ней. Так что тоже здесь она была не первый день. — Она хорошо знает эти места? — Она знает эти места не то чтобы очень хорошо, но она знает их достаточно, чтобы уверенно засветло вернуться домой. Пару лет назад девочка состояла в опасных подростковых группах в соцсетях. Ее папа говорит об этом спокойно и открыто: — Маша сама разобралась в этом. Она поняла, насколько это плохо и опасно. Важно, что она нашла в себе силы и сама все нам потом рассказала. Сегодня в Кстовском районе продолжаются поиски девочки, пропавшей 6 дней назад. Ее папа с утра до вечера принимает в них непосредственное участие. 16:38 В Кстовском районе продолжаются поиски девочки, пропавшей 6 дней назад. Ее папа с утра до вечера принимает в них непосредственное участие. Вместе с ним добровольцы и представители силовых структур. Представляем небольшой видеоотчет о ходе поисков. 21:29 — Поиск продолжаются! Нужны люди! — сообщают поисковики группы «Рысь». — Сбор в 8:00, далее по прибытии в течении дня, координаты места сбора 56.0504242, 44.3689305. 12:48 Сегодня, 8 августа, прошла неделя с момента пропажи 13-летней Маши Ложкаревой. На берегу реки Шавки по-прежнему стоит штаб, куда возвращаются с поисков уставшие люди. — У нас сейчас 12 старших с группами в полях, всего около 70 человек, — рассказал NN.ru координатор отряда «Лиза Алерт» Кирилл Кубрак. — Поиски продолжаются. По словам Кирилла, добровольцы проходят труднодоступные места: болота, заросли, буреломы, заброшенные здания. Несмотря на то, что все устали, работа продолжается. — Нам сейчас нужны видеозаписи с регистраторов, вот это эффективно, — отметил Кирилл. — Важна бдительность людей. Часто люди сообщают: «Я ее видел». Нам нужно, чтобы человек подошел и спросил: «Девочка, как тебя зовут? Откуда ты приехала? Где твои родители?» Чтобы он достал из кармана смартфон и сравнил ее с фотографией на ориентировке. И нужны люди на прочес. И еще, все экстрасенсы, если хотят помочь, пусть приезжают на поиск. Мы дадим им людей, и пусть они ее найдут. Тогда это будет первый случай за 8 лет, с момента существования всех поисково-спасательных отрядов, когда экстрасенс покажет место пропавшего человека. Внимание! Если вы собираетесь на поиски, с собой нужно иметь плотную одежду с длинным рукавом, непромокаемую обувь, головной убор, запас воды, репелленты и готовность идти в труднопроходимые места. 15:19 Сегодня на месте работают два саровских кинолога: Виктор с лабрадором по кличке Элвис и Сергей с бордер-колли по кличке Хит. Ранее в поисках Маши уже приняли участие 15 поисковых собак-спасателей площадки «ОНИКСС» из Нижнего Новгорода и 3 кинологических расчета из Сарова. Постепенно кинологи заканчивают свою работу. — Причина, по которой я снял свою группу, это уже большое количество людей, которые ходят по уже закрытой территории, и наши собаки сейчас будут просто искать поисковиков, — поделился своим мнением с NN.ru руководитель группы ПСС «ОНИКСС» Александр Шеметов. — То есть там уже такое количество запахов, что нам на прочесе будет уже тяжело, будут ложные уходы. Мы окончательно не снимаемся с поисков. Если есть какое-то место под подозрением, неважно под каким, мы готовы выехать. По поводу там девочка или нет — я ничего не могу сказать… Это должно решать следствие. 17:41 — Здесь народ с Рязани, Владимирской области, Костромы, Республики Коми... Ночью были ребята из Кирова, Мордовии. Это поисковики «Лизы Алерт». Также работала Росгвардия, они уехали утром, — рассказал с места событий саровский кинолог Виктор Абызов. — МЧС здесь. Сегодня зарегистрировано 69 добровольцев. Люди прибывают. Продукты подвозят. Днем кинологи обследовали водокачку. Нашли фрагмент одежды и кроссовок. По описанию эти вещи не похожи на вещи Маши, но все находки всё равно фиксируются Сам Виктор работу на сегодня закончил. Планирует вернуться на поиск в выходные. Также смотрим, что происходит в штабе сегодня. Вот несколько фото. 17:48 Участники ПСГ «Рысь» собираются с силами перед выходными. — Мы несколько дней жили в режиме «с работы — на поиск, с поиска — на работу», люди устали, — рассказал NN.ru командир «рысей» Андрей Ермолаев. — Думаю, нужно или расширять район поиска, или искать в другом месте. А еще сейчас прошли дожди, значит, в выходные в лес пойдут бабушки-грибники. Их тоже нужно будет искать. 19:51 — Сделано и пройдено очень много. Район 20 на 20 километров — это 400 квадратных километров — закрывается и оперативными сотрудниками, и нашими людьми, — рассказал поисковик московского отделения «ЛА» Виктор Дулин. — Судя по сегодняшним данным, поиск будет продолжен на региональном уровне. То есть здесь останется работать местное отделение «ЛА», будут работать местные отряды «Волонтер» и «Рысь», а также все местные службы, которые занимаются поиском. 10:48 — Я видела эту девочку! Она была вчера в ТРК «Небо» на площади Лядова! — написала сегодня под ориентировкой в соцсети Анастасия Вишневская. — Вчера я гуляла и видела её! Она была в белой футболке и с каким-то непонятным рисунком и вроде шорты, на обувь не смотрела (она была в очках!). Это точно была она! Да, и красный велосипед был при ней! ОНА БЫЛА В ТРК «НЕБО» НА ПЛОЩАДИ ЛЯДОВА!!!!!!!!!!!!! В комментариях на девочку набросились с вопросами, как Маша могла передвигаться по ТРК на велосипеде и почему Анастасия к ней не подошла. После этого Анастасия уточнила, что видела похожую девочку около торгового центра примерно в 17:40, а ориентировку увидела только сегодня. В разговоре с корреспондентом NN.ru Анастасия уточнила, что «потеряшка» шла с велосипедом в сторону подземного перехода по направлению к Большой Покровской. Информация передана в правоохранительные органы для проверки. ДОПОЛНЕНО. К сожалению, информация не подтвердилась: около ТЦ «НЕБО» видели не Машу. 14:10 В группе ПСО «Волонтер-НН» появилась еще одна фотография, как могла выглядеть пропавшая Маша. Девочка может передвигаться как в очках, так и без них. Если вы увидите похожую девочку, не проходите мимо. Подойдите и спросите: нужна ли помощь, поинтересуйтесь именем ребенка. Также о своих наблюдениях можно сообщить в полицию по телефону 102. 11:09 — За предоставление достоверной информации, которая поможет в установлении местонахождения разыскиваемой Марии Ложкаревой объявлено вознаграждение в размере 500 000 рублей, — напоминает ГУ МВД по Нижегородской области. — Сотрудники полиции просят граждан, которым что-либо известно о местонахождении разыскиваемой или обстоятельствах её исчезновения, сообщить по телефону дежурной части ОМВД России по Кстовскому району 8 (83145) 3-92-45, по телефону доверия ГУ МВД России по Нижегородской области 268-68-68 или по каналу связи 02. Вознаграждение и анонимность гарантируются. Как стало известно NN.ru, сумму вознаграждения предоставила организация, где работает папа девочки. 11:12 Часть поисковиков заявила о прекращении работы на месте: — С 10 августа ПСГ «Рысь» прекращает участие в поисках Маши Ложкаревой и переходит на информационную поддержку. Если появятся новые обстоятельства, группа будет готова к выезду. Свое решение добровольцы объяснили тем, что поисковые мероприятия, которые ведутся с вечера 1 августа, результатов не принесли и требуются люди для выезда на другие поиски. 22:32 Нужны свежие силы на поиск Маши Ложкаревой! Нужны люди, машины, печать и расклейка ориентировок! Дата сбора: 11.08.2018. Время сбора: 8:00, в течение всего дня. Место сбора: СНТ «Борок», Кстовский район. Координаты места сбора: 56,\\u200e0504242, 44,\\u200e3689305. Инфорг: Наталья (Астра) \\u200e+7 920 006-02-29. Форма одежды: лес. С собой: вода, чай, еда, репелленты, головные уборы, влаго- и ветрозащитная одежда, сменная одежда, резиновые сапоги, дождевики, фонари. 23:41 Федеральная группа поискового отряда «Лиза Алерт» свернула деятельность по поискам Маши. Работы будут продолжаться силами региональной группы. 19:34 Поиски Маши продолжаются. Нужны свежие силы! Нужны люди, машины, печать и расклейка ориентировок! Дата сбора: 12.08.2018. Время сбора: 8:00, в течение всего дня. Место сбора: СНТ «Борок», Кстовский район. Координаты места сбора: 56,\\u200e0504242, 44,\\u200e3689305. Инфорг: Наталья (Астра), \\u200e89200060229. Форма одежды: лес. С собой: вода, чай, еда, репелленты, головные уборы, влаго- и ветрозащитная одежда, сменная одежда, резиновые сапоги, дождевики, фонари. 23:51 Мама Маши Ложкаревой — Галина Смирнова — впервые дала интервью: — Таких явных конфликтов, которые могли бы сподвигнуть ребенка на побег, я не знаю. Честно. Я вижу дочь, я с ней общаюсь. У нас с ней доверительные отношения. Мы с ней много о чем разговариваем. Иногда просто сидим вместе музыку слушаем, она свою, я — свою. Я и не заметила, что есть что-то такое, что прям боль... Версия побега... Ну, возможно. 20:08 Добровольцы до сих пор продолжают клеить ориентировки, в надежде, что Маша найдется. 21:46 В эти выходные людей на поиске Маши было мало, а они до сих пор нужны. Добровольцы закрывают так называемые «дырки» в местах, где уже прошли другие поисковики. По словам участвующего в поисках кинолога из Сарова Виктора Абызова, таких мест еще немало. Ожидалось, что в выходные приедет много добровольцев, но этого не произошло. Например, сегодня группа набралась только к 14:00. Зато и работали поисковики до самой темноты. Тех, кто приезжает на несколько дней, местные жители зовут переночевать, принять душ. До сих пор в штабе работает кухня. Кроме добровольцев, в прочесе участвуют бойцы Росгвардии. Папа Маши также до сих пор на поиске. Очень нужны люди. 23:36 Мама Маши просит помощи в поисках ее ребенка. Мама верит, что Маша жива! 07:42 — Я буду жить... У меня еще четверо детей, которые дома, мне нужно заниматься ими, — рассказала журналистам «Кстати» мама Маши. — Я буду жить и ждать Машу, я уверена, мы найдем. А уже как будут проводиться поиски... Я же не могу сама бегать и искать. Я верю, что у нас квалифицированные поисковики и что следственные органы работают на полную отдачу. 11:36 Машины родители с самого первого дня поисков подвергались в соцсетях нападкам. Их обвиняли в том, что они «слишком спокойны». Мама Маши прокомментировала ситуацию: — Мои друзья все эти дни твердят мне одно — не читай, что пишут в соцсетях, — написала на своей странице в Facebook Галина Смирнова. — Не обращай внимание. А я думаю, что каждый вправе переживать испытания так, как он может... Кто-то молчит... А кто-то кричит... Я все эти дни была в штабе поисковиков и видела, как возвращаются с поиска люди, которые день и ночь, в жару и в ливень ищут Машу... Я видела их глаза... Испытание неизвестностью очень тяжелое...Спасибо всем... Я верю и жду. Маша и ее мама 14:51 18 и 19 августа планируются масштабные поиски Маши. Район поисков расширен. Куда ехать и что с собой брать — в нашем материале. 21:41 10:12 Вопреки слухам в соцсетях, поиски Маши Ложкаревой не приостанавливались. Правда, добровольцев уже гораздо меньше, чем две недели назад. В минувшие выходные на поисках было несколько десятков человек. Часть снова отправлялась на прочес, часть помогала следственным органам обходить дома местных жителей. Корреспондент NN.ru участвовал в осмотре нескольких домов в качестве понятого. Местные жители в целом к визитам правоохранителей относятся с пониманием. В воскресенье в штабе поисков были и папа, и мама девочки 11:12 Штаб с территории рыбного хозяйства переезжает на дачу к папе Маши. Требуется помощь в наведении порядка на территории. 12:18 17:37 Поиски Маши не останавливаются. Добровольцы рассказали, почему они ищут Машу. 18:03 В магазинах Богородского района около касс появились коробки с призывами помочь волонтерам, занимающимся поисками пропавшей девочки. Поисковики предупреждают, что не имеют к сбору средств никакого отношения. 11:27 Волонтерам требуется эхолот для поиска девочки в водоемах. Отметим, что ранее водоемы в зоне поиска уже были обследованы при помощи «кошек», магнитов и силами водолазов МЧС. 17:53 Омбудсмен Надежда Отделкина несколько раз посетила штабы поисковиков в Кстовском и Богородском районах. Подробнее здесь. 10:40 С момента пропажи Маши прошел месяц. Девочка не найдена.'],\n",
       "      dtype=object)"
      ]
     },
     "execution_count": 294,
     "metadata": {},
     "output_type": "execute_result"
    }
   ],
   "source": [
    "X_train[2]"
   ]
  },
  {
   "cell_type": "markdown",
   "metadata": {
    "collapsed": true
   },
   "source": [
    "# Topic Modeling"
   ]
  },
  {
   "cell_type": "code",
   "execution_count": 23,
   "metadata": {
    "collapsed": true
   },
   "outputs": [],
   "source": [
    "import os\n",
    "import numpy as np\n",
    "import pandas as pd\n",
    "import matplotlib.pyplot as plt\n",
    "import re\n",
    "import string\n",
    "import pymorphy2\n",
    "from sklearn.feature_extraction.text import TfidfVectorizer\n",
    "from sklearn.decomposition import TruncatedSVD\n",
    "from sklearn.pipeline import make_pipeline\n",
    "from sklearn.preprocessing import Normalizer\n",
    "from sklearn.datasets import fetch_20newsgroups\n",
    "import stop_words\n",
    "import gensim\n",
    "import nltk\n",
    "from nltk.stem.porter import PorterStemmer\n",
    "from gensim import corpora, models\n",
    "from sklearn.decomposition import LatentDirichletAllocation\n",
    "\n",
    "%matplotlib inline"
   ]
  },
  {
   "cell_type": "code",
   "execution_count": 24,
   "metadata": {
    "collapsed": true
   },
   "outputs": [],
   "source": [
    "EXCLUDE_SYMBOLS_STR = ''.join(['№', '«', 'ђ', '°', '±', '‚', 'ћ', '‰', '…', '»', 'ѓ', 'µ', '·', 'ґ', 'њ', 'ї', 'џ', 'є',\n",
    "                               '‹', '‡', '†', '¶', 'ќ', '€', '“', 'ў', '§', '„', '”', '\\ufeff', '’', 'љ', '›', '•', '—',\n",
    "                               '‘', '\\x7f', '\\xad', '¤', '\\xa0'])"
   ]
  },
  {
   "cell_type": "code",
   "execution_count": 25,
   "metadata": {
    "collapsed": true
   },
   "outputs": [],
   "source": [
    "regex_puncts = re.compile('[%s]' % re.escape(string.punctuation))\n",
    "regex_symbs = re.compile('[%s]' % re.escape(EXCLUDE_SYMBOLS_STR))\n",
    "regex_digits = re.compile('[%s]' % re.escape(string.digits))\n",
    "regex_spaces = re.compile('[%s]' % string.printable + string.whitespace)\n",
    "regex_emoji = re.compile(\"[\"\n",
    "                         \"\\U0001F600-\\U0001F64F\"  # emoticons\n",
    "                         \"\\U0001F300-\\U0001F5FF\"  # symbols & pictographs\n",
    "                         \"\\U0001F680-\\U0001F6FF\"  # transport & map symbols\n",
    "                         \"\\U0001F1E0-\\U0001F1FF\"  # flags (iOS)\n",
    "                         \"]+\")\n",
    "morph = pymorphy2.MorphAnalyzer()"
   ]
  },
  {
   "cell_type": "code",
   "execution_count": 26,
   "metadata": {
    "collapsed": true
   },
   "outputs": [],
   "source": [
    "N_TOPICS = 4"
   ]
  },
  {
   "cell_type": "code",
   "execution_count": 27,
   "metadata": {
    "collapsed": true
   },
   "outputs": [],
   "source": [
    "texts_prep = [re.sub(r'\\w+:\\/{2}[\\d\\w-]+(\\.[\\d\\w-]+)*(?:(?:\\/[^\\s/]*))*', ' ', txt) for txt in data_train]"
   ]
  },
  {
   "cell_type": "code",
   "execution_count": 28,
   "metadata": {
    "collapsed": true
   },
   "outputs": [],
   "source": [
    "texts_prep = [regex_emoji.sub(' ', txt) for txt in texts_prep]"
   ]
  },
  {
   "cell_type": "code",
   "execution_count": 29,
   "metadata": {
    "collapsed": true
   },
   "outputs": [],
   "source": [
    "texts_prep = [regex_puncts.sub(' ', txt) for txt in texts_prep]"
   ]
  },
  {
   "cell_type": "code",
   "execution_count": 30,
   "metadata": {
    "collapsed": true
   },
   "outputs": [],
   "source": [
    "texts_prep = [regex_symbs.sub('', txt) for txt in texts_prep]"
   ]
  },
  {
   "cell_type": "code",
   "execution_count": 31,
   "metadata": {
    "collapsed": true
   },
   "outputs": [],
   "source": [
    "texts_prep = [regex_digits.sub(' ', txt) for txt in texts_prep]"
   ]
  },
  {
   "cell_type": "code",
   "execution_count": 32,
   "metadata": {
    "collapsed": true
   },
   "outputs": [],
   "source": [
    "texts_prep = [regex_spaces.sub(' ', txt) for txt in texts_prep]"
   ]
  },
  {
   "cell_type": "code",
   "execution_count": 33,
   "metadata": {
    "collapsed": true
   },
   "outputs": [],
   "source": [
    "texts_prep = [txt.strip().replace('\\t', ' ').replace('\\n', ' ').lower() for txt in texts_prep]"
   ]
  },
  {
   "cell_type": "code",
   "execution_count": 34,
   "metadata": {
    "collapsed": true
   },
   "outputs": [],
   "source": [
    "texts_prep = [re.sub( '\\s+', ' ', txt).strip() for txt in texts_prep]"
   ]
  },
  {
   "cell_type": "code",
   "execution_count": 35,
   "metadata": {},
   "outputs": [
    {
     "data": {
      "text/plain": [
       "['мы разобрались можно ли купить дешёвую страховку по новым тарифам мы разобрались можно ли купить дешёвую страховку по новым тарифам с начала года коридор тарифов осаго расширили на и вверх и вниз это дало страховым компаниям выбор оставить цены повысить или снизить мы проанализировали стоимость полисов в регионах россии и оказалось что найти страховку подешевле действительно можно тарифы страховых компаний отличаются сильнее чем в прошлом году гибкие тарифы осаго должны были наказать аварийных водителей но на деле всё оказалось не так под флагом заботы о водителях стоимость полиса осаго зависит от базового тарифа который умножается на восемь коэффициентов территориальный аварийности кбм опыта и стажа мощности и так далее в прошлом году вилка базового тарифа составляла – сейчас её раздвинули до – рублей вилка эта определена законом об осаго то есть в теории можно найти полис который ощутимо дешевле прошлогоднего реформу поведённую банком россии подают как шаг навстречу водителям дескать теперь страховые будут поощрять аккуратных клиентов с помощью сниженных тарифов вот как прокомментировал нововведения президент российского союза автостраховщиков игорь юргенс это первый и важный шаг на пути либерализации осаго в результате тарифы на обязательную автогражданку станут более справедливыми для автовладельцев и безаварийные водители станут платить меньше при этом автовладельцы с аварийным стажем получат мощный экономический стимул для того чтобы меняться в лучшую сторону так может ли аккуратный водитель с большим безаварийным стажем надеяться сегодня на дисконты от страховых скидки не для всех иллюзии рассыпались сразу мы обратились к директору одного из страховых агентств кириллу смолину с просьбой подобрать дешёвую страховку для взрослого опытного водителя с безаварийным стажем более десяти лет но всё оказалось не так просто страховые не имеют возможности предлагать клиентам индивидуальные тарифы поэтому базовая ставка выбирается из указанного коридора для каждой конкретной территории города и области например для нашего города у каждой страховой действует единый тариф пояснил специалист безаварийность по прежнему отражает коэффициент бонус малус кбм который в пределе достигает единицы позволяя сэкономить до половины стоимости осаго но для конкретного города базовый тариф будет одинаков для всех максимальный базовый тариф теперь близок к рублей и многие страховые не упустили возможности поднять стоимость страховки так сколько стоит осаго единого подхода к формированию тарифной сетки нет каждая страховая выбрала базовые тарифы для конкретных городов и регионов руководствуясь внутренней статистикой по сути расширение коридора базового тарифа стало дополнением к территориальному коэффициенту теперь невыгодным городам можно поднять тариф до максимальной планки в без малого рублей причём по нашим данным подавляющее большинство крупных страховых либо оставили тарифы на прошлогоднем уровне либо повысили снижения до уровне ниже рублей нет хотя такая возможность с января имеется ресо гарантия повысила тарифы ступенчато для некоторых регионов до умеренной планки рублей волгоградская ростовская челябинская области башкортостан татарстан для других до максимальных рубля новосибирская астраханская области воронежская области тыва хакасия удмуртия калмыкия чукотка камчатка есть регионы где тарифы остались на уровне прежнего максимума в рублей например свердловская область и екатеринбург москва санкт петербург страховое общество вск для большинства регионов оставило прошлогодний тариф рублей и также поступил росгосстрах альфастрахование поменяло тарифы по сложной схеме в результате неизменным или меньшим он стал в территориях для страховка стала дороже ингосстрах оставил тарифы для всех регионов кроме санкт петербурга и двух традиционно невыгодных страховщикам областей мурманской и челябинской для последней базовый тариф ингосстраха ниже среднего и составляет рублей страховая группа согаз подошла к вопросу гибко поэтому и тарифы для большинства регионов колеблются в диапазоне рублей чуть ниже прошлогоднего максимума до максимально возможных рублей такую планку установили например в челябинской ростовской новосибирской областях красноярском и краснодарском краях аско страхование подняло тарифы в большинстве регионов но в челябинской области и близких к ней регионам сохранила ставку на прошлогоднем уровне в рубля при этом для кургана он возрос до рублей а для некоторых городов курганской области до как покупать автогражданку в году если в прошлом году ценовой конкуренции между страховыми почти не было и базовый тариф выбирался на уровне четыре тысячи рублей то теперь вилка действительно увеличилась например для автора этого материала итоговая стоимость полиса в дорогой и дешёвой компании колебалась в диапазоне от до рублей для владельцев более дорогих страховок разница будет ещё заметней поэтому сегодня вполне разумно проанализировать предложения компаний в вашем регионе другое дело что тарифы разных страховых могут постепенно выровняться с верхней планкой как это случалось в прошлые годы планируете ли вы приобретать полис осаго в этом году авторизируйтесь чтобы проголосовать опрос завершен вы успешно проголосовали результаты будут опубликованы по завершении опроса да как всегда ещё не решил с этого года брошу езжу без полиса год два давно без полиса к сожалению ваш браузер сильно устарел и не поддерживает технологию голосования',\n",
       " 'недорогой метровый минивэн везёт кучу вещей и расходует литров в городе недорогой метровый минивэн везёт кучу вещей и расходует литров в городе минивэн citroen spacetourer является аналогом соплатформенного peugeot traveller посмотрим как ездит citroen какой комфорт предоставляет и кому вообще может понадобиться такое авто подробности в тест драйве редактора нгс авто дмитрия косенко длина автомобиля почти пять метров ездить на citroen spacetourer по тесному городу поначалу может показаться трудным особенно парковаться длина ведь почти метров зато отличный обзор и высокая посадка видишь транспортный поток далеко перед собой ситроеновский сплющенный нос и большие фары делают автомобиль похожим на упитанного головастика белый цвет черные окна и различимые границы дверей подчеркивают длину минивэна а сзади spacetourer типичный грузовой квадратный брусок лишь бы был повместимее передняя панель высокая пухлая пластик жесткий повсюду впрочем выглядит он прилично кожаный руль с черными блоками кнопок освежает его только логотип citroen и одна вставка под металл сиденья тканевые в меру приятные и плотные посадка проблем не доставляет с боковой поддержкой тоже всё неплохо как все таки удобен подлокотник прикрученный к спинке сиденья был бы он еще чуть подлиннее мультимедийная система если можно так её назвать представлена маленьким монохромным экранчиком и набором черных кнопок можно послушать радио подключить телефон покопаться в немногочисленных настройках звук кстати неплох стильные многоугольные шкалы приборной панели но та же проблема что и у peugeot разноразмерные цифры на спидометре мечтаете о range rover у ситроена есть кое что от него шайба селектора акп вполне стильная и удобная сзади ряда кресел и мест подлокотников здесь уже нет но можно регулировать наклон спинки в целом просторно сдвижные двери без электропривода всё ручками ручками нет электропривода и у багажной двери а она ведь тяжелая раскладываем оба ряда сидений и получаем литров объема настоящий грузовик сильного дизеля хватает для уверенного разгона ускорений перестроений жужжит и вибрирует он конечно сильно а что поделать дизель автомат хорош своими быстрыми переключениями отсутствием толчков правильным выбором пониженной или повышенной передачи шумоизоляция она как бы есть но звуковой фон на грани некомфортных ощущений большие кузов и днище собирают на себя все возможные шумы жидкий руль и размазанный ноль приводят к тому что на шоссе автомобиль плохо чувствуешь а иногда и подруливаешь перестраиваться приходится на ощупь слабое реактивное действие баранку надо самому раскручивать назад после поворота неровности spacetourer проходит комфортно практически проплывает но острые ямы все равно отзываются ударами на удивление у такой габаритной и высокой машины вполне спокойные крены',\n",
       " 'реагируя на фотографию mazda которую я выложил в соцсети один из подписчиков спросил мол едет ли рестайлинговая версия или стала овощем меня признаться такая постановка вопроса озадачила потому что в своём классе mazda всегда была этаким антиовощем как о ней можно такое подумать но позже выяснилось что подписчик был в чём то прав mazda прошла уже третий рестайлинг с конца прошлого года обновлённая модель выпускается на дальнем востоке mazda прошла уже третий рестайлинг и на этот раз самый основательный изменения внешности проще всего разглядеть в тёрке радиаторной решётки сменившей прежние жалюзи внутренние же изменения коснулись и шасси и двигателей самое заметное изменение внешне ячеистая решётка радиатора в компоновке автомобиля со смещённой назад кабиной чувствуется желание добиться более справедливой развесовки по осям но может быть поэтому mazda не относится к самым практичным игрокам сегмента и обе версии с атмосферными моторами skyactiv g л л с и л л с действительно чуть потеряли в динамике что особенно заметно в случае с младшим мотором время разгона до км час теперь без малого секунд на единицу до снизилась степень сжатия что в теории делает двигатель менее чувствительным к октановому числу автомобиль получил обновлённые атмосферники семейства skyactiv g а для конкуренции с версиями v некоторых конкурентов турбодвигатель получается рестайлинговая модель шагнула навстречу экологам и прагматикам но как быть с теми кто видел в шестерке прежде всего автомобиль для водителя и здесь mazda пошла на радикальный ход добавив турбоверсию с литровым мотором мощностью л с который до этого использовался в основном на кроссоверах марки если старший из атмосферников ускоряет шестерку до км час за секунды то наддувная версия укладывается в секунд а разгон получается лихим как падение в пропасть в нынешнем поколении mazda относится к e сегменту длина лишь чуть меньше чем у новой toyota camry правда мощный мотор можно заказать лишь в топовой версии executive plus и надо ли говорить что на тест поставили именно такую машину оснащённую к тому же пакетом электронных помощников водителю её цена составляет миллиона рублей доплатить можно лишь за модный цвет и навигационную систему а в остальном полный фарш интерьер также новый архитектура сохранилась но деталировка другая управление мультимедийной системой круглым манипулятором такие любят ставить на премиальные марки в пакете опций есть система кругового обзора но разрешение камеры не идеальное при маневрировании на снегу порой сложно понять пенёк это или грязный след двухзонный климат контроль теперь есть даже в базовой версии drive приборы лишились колодцев но выглядят впечатляюще например цифры активной шкалы спидометра на снимке до км час акцентированы ярким шрифтом проекционный дисплей выводит наиболее важную информацию на лобовое стекло кстати в году первое поколение mazda выпускалось с мощным турбомотором в зажигательной версии mps и на ум приходят параллели не является ли эта шестёрка чем то вроде лайт версии той ракеты тем более у неё такие же роскошные колёса и низкий хрип выхлопной системы на разгоне но концепция всё же иная во первых mps была мощнее до л с а главное она казалась стекольным осколком который зажимаешь в руке новая турбошестёрка всё же обернулась изолентой гражданских ценностей и главная её черта не столько обрывистость сколько непринуждённость mazda понравится тем кто любит слиться с автомобилем она всё делает с видимой лёгкостью будто воздух вокруг стал разреженным а гравитация не такой сильной она свободно набирает скорость и с видимой охотой реагирует на движения руля хоть микроскопические хоть размашистые если с той mps порой приходилось заниматься рестлингом то обновлённая турбошестёрка скорее из балетных езда на предыдущих версиях шестерки подразумевала градус напряжённости который кого то веселил а кого то утомлял новая модель охотнее подстраивается под настроение водителя и умеет быть хоть резкой хоть плавной по ситуации будь я маркетологом написал бы про несколько заумную систему g vectoring control но почувствовать её работу в явном виде сложно поэтому сойдёмся на том что машина попросту очень естественна в своих повадках за последние годы характер автомобиля стал гибче mazda больше не делает чрезмерного акцента на гиперактивных владельцах но что это за паразитные подруливания на заснеженной дороге от них возникает нервозность будто сосед за столом разложил локти и пихает тебя под руку но под руку оказывается пихает не сосед а бдительная система удержания в полосе которая реагирует и на разметку и на снежный накат помнится эту систему я отключал и во время теста mazda cx ведь чувствительный руль mazda даёт настолько хорошую обратную связь что портить её электронными костылями грех кстати чувствительность системы можно изменить в настройках а предупреждение о выезде из полосы в принципе удобно особенно ночью зимой например mazda мелко вибрирует рулём если ты нечаянно съехал на заснеженную обочину был в моей журналисткой биографии эпизод когда я сильно рассорился с центральным офисом mazda после сравнительного тест драйва в году в котором помимо предыдущей шестерки участвовали близкие по цене toyota camry skoda superb opel insignia и renault latitude на фоне этих увальней e класса вторая mazda казалась машиной интересной нервной и строптивой в своих роскошных дюймовых лаптях она остро реагировала на колеи и просила чистых поворотов где можно блеснуть умением чертить траектории несмотря на шестилетний возраст mazda по прежнему отлично выглядит может быть поэтому компания не спешит менять поколение шестёрка нынешнего поколения с года изначально была более сбалансированной а последний апгрейд снова посвящён вопросам комфорта лучше стала шумоизоляция а подвеска перенастроена так чтобы повысить плавность без ущерба управляемости например это достигнуто усилением кузова ведь жёсткость несущей конструкции позволяет смягчить подвеску без потери остроты управления судить о её предельных возможностях я вряд ли могу снежный наст не позволил озадачить машину как следует скажу лишь что интуитивность управления не пострадала и ехать на mazda по прежнему и приятно и увлекательно что касается комфорта то на капитально разбитой дороге всё же чувствуется тяготение к жёсткой части спектра но подвеска срабатывает тихо и хорошо гасит вторичные вибрации что нивелирует ощущение тряскости а на сносных дорогах автомобиль и вовсе кажется комфортным логичнее было бы снимать mazda в антураже больших городов или федеральных трасс но зимой их так щедро удобряют реагентами что единственный способ сохранить машину чистой отправиться в девственную глушь интересно наблюдать за эволюцией двух изначально столь разных моделей как toyota camry и mazda которые будто прошли перекрёстное опыление если первая при смене поколений сосредоточилась на драйверских ценностях стараясь не растерять комфорта то вторая занималась ровно обратным и теперь два полюса стали ближе друг к другу чем когда либо задние сиденья mazda в меру просторные но до беби лимузина skoda superb далеко персональные дефлекторы системы вентиляции появляются во второй комплектации active доступен и подогрев задних сидений его кнопки располагают внутри широкого подлокотника багажник объемом литров совсем не рекордный хотя имеет большую погрузочную площадью при такой компоновке просится кузов типа лифтбэк но mazda в нём больше не выпускается а в россии нет и универсалов под полом докатка что неудивительно при колёсах дюймового калибра производство обновлённой mazda на дальневосточном заводе компании началось в ноябре примерно год спустя мировой премьеры локализация позволила удержать цены на уровне главных конкурентов но проблема в том что уровень этот за последний год нестерпимо вырос в прошлом январе цена mazda с двухлитровым мотором начиналась от миллиона рублей к выходу обновлённой модели перекроили линейку комплектаций например в базе появился климат контроль но цена выросла до миллиона рублей а уже с нового года вслед за пухнущими прайсами конкурентов mazda снова подняла цену и теперь база стоит от миллиона рублей за последний год цена автомобиля прибавила более тысяч рублей но то же можно сказать и о конкурентах впрочем марке удалось выдержать политкорректный зазор до лидера сегмента toyota camry которая в близкой комплектации на тысяч дороже от миллиона рублей цена volkswagen passat начинается от миллиона рублей но если mazda сразу предлагает литровый мотор и шестиступенчатый автомат то passat идёт в базе со сильным двигателем tsi и механической коробкой конкуренция чувствуется и со стороны корейских марок например литровая kia optima с автоматом стоит от миллиона рублей в чуть лучшей комплектации а есть и более дешёвая версия с механикой ford mondeo сразу предлагается с литровым мотором л с по цене от миллиона рублей но комплектация чуть проще чем у mazda имея – миллиона рублей какой из перечисленных новых седанов вы бы купили авторизируйтесь чтобы проголосовать опрос завершен вы успешно проголосовали результаты будут опубликованы по завершении опроса toyota camry mazda volkswagen passat skoda superb kia optima ford mondeo к сожалению ваш браузер сильно устарел и не поддерживает технологию голосования в базовой комплектации у mazda есть шесть подушек магнитола легкосплавные диски светодиодные фары набор спасательной электроники вроде системы стабилизации но круиз контроль датчики дождя и света дюймовый дисплей парктроник появляются уже в следующих версиях active стоит от миллиона рублей supreme plus близкая к прежней supreme от миллиона на плохих дорогах чувствовался недостаток просвета порой автомобиль шуршал защитой двигателя по снежному гребню в центре колеи которая образуется на снежных перемётах короче говоря цены на mazda получились пугающими и конкурентоспособными одновременно нынче такое не редкость правда двухлитровый мотор всё же диссонирует с боевым настроем шасси а версия с литровым агрегатом стоит уже от миллиона рублей с турбодвигателем от миллиона toyota camry c литровым v л с обойдётся в миллиона рублей несмотря на возраст троекратно обновлённая mazda не утратила нужного градуса актуальности правда из линейки фирмы российские клиенты предпочитают компактный и более дорогой кроссовер cx на который приходится две трети продаж но это и неудивительно mazda просит относительно ровных дорог а клиенты просят всеядности mazda по прежнему апеллирует к водителям помоложе и это отличает её от большинства седанов e класса в сегменте же полноразмерных седанов по прежнему доминирует toyota camry и задача mazda не столько бросить вызов ей сколько побороться за место лучшего из остальных с volkswagen passat skoda superb kia optima и другими и в итоге получается что mazda это всё таки фрукт причём в нынешней версии уже весьма спелый а велик ли будет урожай покажут итоги продаж mazda удалось создать в россии сегмент лояльных клиентов что позволяет марке успешно держаться на плаву с четырьмя моделями в арсенале у нас продаются легковые mazda и и два кроссовера cx и cx в наступившем году нас ждёт ещё немало автопремьер мы подготовили для вас подробный обзор главных новинок года весьма успешной для mazda моделью оказался кроссовер cx нового поколения который также выпускают на дальнем востоке в минувшем году toyota представила новое и весьма радикальное поколение camry которое сохранило статус бестселлера в своем сегменте',\n",
       " 'правы были те кто не ждал отката цен а покупал машины по мере необходимости по итогам года их стоимость росла непрерывно а закончилось всё скачком в январе сколько стоят популярные модели сейчас в нашем обзоре в январе возросла стоимость практически всех популярных моделей минимальный уровень традиционно задаёт базовая lada granta прайс лист которой начинается от тысяч рублей renault logan с кондиционером и сильным мотором стоит около тысяч рублей базовый solaris обойдется в тысяч но версии с двигателем л стоят в диапазоне – тысяч рублей это кажется диким но так называемый бюджетный сегмент сегодня отделяет ценовая планка в млн рублей практически все модели ниже этой цены раньше мы называли лоукостерами уаз патриот прибавил – тысяч рублей комплектация классик теперь стоит от тысяч рублей осенью он стоил от тысяч но это уже было на тысяч выше дорестайлинговой цены символично что самый популярный кроссовер россии hyundai creta в наиболее доступной версии с кондиционером застыл на отметке ровно в млн рублей чуть больше просят за ford focus в одной из начальных комплектаций special edition базовый kia ceed и skoda octavia последнюю оценили минимум в млн рублей nissan qashqai с литровым мотором без учета скидок обойдется почти в млн рублей а литровый кроссовер с вариатором и полным приводом уже в млн рублей самая простая toyota camry стоит от млн рублей а версии с двигателем литра подпирает млн летом года изменилась линейка комплектаций ford focus но приведенной на графике версии special edition почти идентична прежняя комплектация sync edition единственное отличие базовым стал мотор мощностью л с осенью прошла рестайлинг lada granta поэтому базовым мотором стал сильный агрегат раньше л с а бампера теперь только крашеные впечатляет не только уровень цен но и динамика роста широко разрекламированное повышение ндс не стало решающим фактором для автомобильного рынка а лишь наложилось на общую тенденцию которая началась ещё весной года тогда скачкообразный рост курсов валют спровоцировал волну подорожания которая растянулась до конца года в течение года большинство популярных моделей подорожало в – и более раз вычленить влияние именно ндс проблематично многие модели например ford ecosport существенно подорожали накануне нового года другие обновили прайс листы с января но общее подорожание превышает рост ндс например обновленная mazda с ноября года уже прибавила цены а в годовом выражении рост составил сказалось и обновление модели и рост курсов валют toyota rav готовится к смене поколений в середине года и новая модель вероятно подорожает по данным агентства автостат средневзвешенная цена на автомобили за прошлый год выросла на причем средняя иномарка стоила млн рублей отечественная порядка тысяч рублей показательно насколько по разному менялись цены на модели которые стоили почти одинаково в году больше всех прибавила toyota rav на графике не отражено кратковременное падение её цены летом года рестайлинговая mazda получила климат контроль и светодиодные фары в базе но эти опции дешевле общего роста цены дилеры распродают автомобили года выпуска зачастую со значительными скидками которые позволяют пока купить автомобиль по прошлогодним ценам или даже дешевле но имейте в виду что специальные прайсы зачастую подразумевают выполнение ряда условий например покупки по системе трейд ин или в кредит к появлению автомобилей года выпуска цены могут измениться снова не исключено что ford сократит своё присутствие на российском рынке по информации сми концерн рассматривает возможность закрыть основные производства в стране примеры снижения цены тоже есть хотя и на правах исключения так на тысяч рублей доступнее стали ford fiesta но общей картины это не изменило седан стоит сегодня от тысяч рублей с автоматом от тысяч рублей для сравнения подорожавший с нового года на тысяч рублей volkswagen polo в версии л с comfortline обойдется в тысяч или тысяч с автоматом поэтому цены на ford fiesta даже после снижения нельзя назвать демпинговыми когда вы последний раз обновляли автомобиль авторизируйтесь чтобы проголосовать опрос завершен вы успешно проголосовали результаты будут опубликованы по завершении опроса более лет назад – лет назад – года назад в прошлом году планирую в ближайшее время к сожалению ваш браузер сильно устарел и не поддерживает технологию голосования цены будут расти и дальше считает эксперт аналитического агентства автостат азат тимерханов в январе по нашим наблюдениями прибавка уже составила в пределах естественно сказалось повышение ставки ндс и давление которые создаёт ослабление курса рубля от этого никто не застрахован поэтому производители вынуждены закладывать и такие риски исходя из нынешних условий рассчитывать на стабилизацию цен очень сложно и наш прогноз они продолжат рост после нового года подорожали почти все автомобильные товары и услуги так стоимость топлива подскочила несмотря на заморозку цен в январе выросла максимальная стоимость полисов осаго а уже в этом году автомобилистов ждут беспрецедентные штрафы за отсутствие техосмотра а в полном обзоре автомобильных премьер года мы уже писали о новом renault duster toyota rav lada x и дюжине других моделей',\n",
       " 'короли парковки забытая машинка на детской площадке и mercedes поперек тротуара новая подборка про людей которым все равно портал nn ru продолжает публиковать фотографии автохамов на нижегородских дорогах если вы стали свидетелем нарушения правил парковки присылайте фото видеосвидетельства в редакцию городского портала nn ru на почту news iportal ru или в сообщениях во вконтакте укажите адрес где это нарушение зафиксировано снимок автохама на детской площадке опубликовали местные жители жители ленинского района после праздников заметили что кто то забыл свою машинку на детской площадке авто было припарковано в сугробе фото сделано по адресу глеба успенского в нижнем новгороде автомобиль с московскими номерами задержал нижегородку по дороге на работу alexandr paykov запечатлел внедорожник с красивыми номерами поперек тротуара также читайте наш материал о том куда и как жаловаться на соседа который паркуется на газоне текст светлана попова фото vk com kstatinn vk com нижний новгород у нас есть свои каналы в мессенджерах viber и telegram читайте новости где удобно наслаждайтесь красивыми фотографиями нижнего новгорода в нашем instagram',\n",
       " 'разбираемся на сколько подорожали машины и бензин в новом году разбираемся на сколько подорожали машины и бензин в новом году с января автомобильные марки одна за другой публикуют новые прайс листы объясняя это ростом ндс попутно резко возросли акцизы на бензин разбираемся на сколько увеличатся расходы автомобилистов новые цены актуальны для моделей года выпуска которые пока можно лишь заказать живые машины на складах дилеров выпущены в году а иногда и ранее двухпроцентная разминка одним из первых завесу тайны приоткрыл автоваз в конце декабря разослав дилерам прайс листы с новыми ценами средняя прибавка составила – то есть – тысяч рублей lada granta после обновления стоила от тысяч рублей с нового года минимум тысяч mitsubishi объявила о повышении цен на – тысяч рублей в зависимости от модели но марка работает в более дорогом сегменте поэтому в среднем повышение цены уложилось в – мы провели тщательный анализ и были вынуждены пойти на повышение цен которое связано исключительно с ростом ндс объяснил президент ммс рус осаму иваба у тех кто давно планировал покупку автомобиля mitsubishi ещё есть время чтобы сделать это по цене уходящего года с декабря mitsubishi pajero sport стоит от миллиона рублей на машины года скидка тысяч а лидер продаж марки outlander от миллиона рублей но можно сэкономить тысяч купив дорестайлинговую версию цены на автомобили непрерывно росли весь прошлый год но к декабрю процесс резко интенсифицировался во втором полугодии ряд марок переписал прайс листы дважды и даже трижды были и своеобразные рекорды например ford ecosport российской сборки подорожал почти на тысяч рублей что составляет – от цены подорожание коснулось как обновлённой модели так и дорестайлинговой такие данные приводит агентство автостат поэтому январский рост цен не отражает полной картины многие марки корректировали их ещё до нового года смягчая январский скачок но даже так понятно что автомобили подорожали больше чем на упомянутые роста ндс помимо налога сказываются и другие факторы например набившие оскомину курсы валют многие дилеры предлагают заманчивые скидки но обязательно уточняйте детали как правило самые жирные предложения касаются дорогих или неликвидных комплектаций кроме того многие скидки предоставляют лишь тем кто покупает автомобиль в кредит или сдает в трейд ин старую машину впрочем в январе многие марки готовы демпинговать распродавая остатки машин года новые партии пойдут только через пару месяцев так skoda объявила о распродаже предлагая на некоторые комплектации octavia скидку до рублей на rapid до рублей и чешская марка не одинока источники в дилерской среде пояснили что почти все автосалоны у которых остались машины года работают в режиме разумного торга предлагая клиентам скидки и подарки если же взять новые прайс листы картина получается печальная минимальный уровень цен заданный lada granta давно превысил тысяч рублей бюджетная иномарка кавычки не случайны обойдётся в – тысяч рублей кроссоверы в класса в средних комплектациях стоят около миллиона за эти же деньги можно купить базовую легковушку с класса а за кроссовер такого размера попросят уже миллиона рублей и выше насколько подорожает бензин топливный рынок лихорадило с мая прошлого года когда цены поднялись разом на – рубля а пропан бутан подорожал чуть ли не в полтора раза правительство приняло срочные меры ограничив розничную цену топлива на июньском уровне это привело к резкому недовольству частных азс для которых оптовые цены почти сравнялись с розничными судьбоносное решение приняли в ноябре ручное регулирование топливного рынка продолжится до марта года соглашение исключает резкий рост цен в январе года до его заключения были вполне обоснованные подозрения что в новом году бензин аи будет стоить около рублей за литр крупные нефтяные компании подписали соглашение с правительством и обязаны выдерживать цены на уровне заданном отдельно для каждого региона при этом соглашение не касается специфических видов топлива например премиальных видов бензина аи правда соглашение достаточно хитрое оно оговаривает предельную цену разных сортов топлива при мелкооптовой продаже отдельной строкой независимым азс разрешили увеличивать цену ещё до но и тут есть нюансы например в январе нефтяным компаниям разрешено поднять цену на для компенсации ндс фактора дальнейший рост не должен превышать уровня инфляции насколько такой уровень оправдан с точки зрения экономики эксперт независимого топливного союза сергей божко считает что стоимость топлива могла быть ниже этих лимитов сейчас наблюдается столь серьёзное падение цены нефти и сокращение экспортной маржи что экономически стоимость топлива может быть ниже рублей на пять рассуждает он установленный правительством уровень цен позволяет не просто без труда выдерживать его но и получать дополнительные доходы что касается независимых азс то сделанная для них поблажка в виде возможности поднять цену на дополнительные вызывает скепсис эксперта да за счёт этой надбавки частная азс может сохранить рентабельность но какой в ней смысл если нет объема продаж задается вопросом он топливо на независимых азс становится дороже чем на сетевых что делает выбор для автомобилистов очевидным конкурентным преимуществом одиночных азс всегда считалась дешевизна топлива но сегодня они вынуждены продавать его по более высоким ценам чем сетевые заправки кстати как власти будут контролировать соблюдение цены независимыми азс если с крупными игроками заключили соглашение то сделать то же самое с десятком тысяч частных игроков невозможно поэтому нормы носят рекомендательный характер но тех кто их нарушит могут закошмарить проверками качества топлива недолива и так далее',\n",
       " 'новый duster уже выпускается в европе под маркой dacia но в россии появится лишь в году под брендом renault в году в россии начнут продажи сразу нескольких потенциальных бестселлеров это и новый volkswagen polo и купе кроссовер renault arkana и недорогой проходимец volkswagen есть и совсем экзотические варианты например радикально переосмысленный suzuki jimny мы отобрали с дюжину наиболее значимых премьер в массовом сегменте а начнём как водится с лидера рынка марки lada lada vesta sport трудно назвать истинным спортседаном но из серийных lada она должна быть самой азартной в управлении автоваз готовит рестайлинг vesta но покажут его ближе к концу года зато начинаются продажи спортивной версии vesta sport со сильным мотором а в планах завода значится некая lada van предположительно на базе renault dokker самым значимым апгрейдом станет появление нового вариатора производство уже стартовало но пока бесступенчатую трансмиссию ставят лишь на x ray новая lada × существует в виде концепт кара поэтому серийная lada × нива а также chevrolet niva продолжат существование на родственном gm автовазе продлили документы на выпуск привычной chevrolet niva но проект niva ii попал в лимб его и не сворачивают и не развивают конкурирующая модель lada × представлена пока в виде концепта но у неё есть большие шансы превратиться в серийную модель правда уже в году renault планирует избавляться от имиджа производителя лоукостеров в том числе с помощью нестандартных ходов пятидверное купе кроссовер arkana разработано специально для россии куда ярче планы родительской марки renault которая в году начинает продажи неформатной arkana лифтбэка с увеличенным клиренсом автомобиль получился довольно крупным длиннее метра и бросит вызов легковушками и кроссоверами класса с помимо традиционных моторов renault для arkana предложат новый литровый турбоагрегат мощностью – л с в этом году начнётся подготовка к производству renault duster второго поколения который уже продаётся в европе под брендом dacia а на других рынках как renault новый duster позиционируется как модель более высокого класса и скорее всего подорожает поэтому renault не торопится с её выводом на рынок ведь нынешний дастер держит уверенное второе место в классе после hyundai creta в перспективе renault откажется от моделей logan и sandero нишу бюджетных машин отдадут на откуп автовазу а будущие модели renault будут конкурировать с подросшими экс бюджетниками вроде kia rio и hyundai solaris уаз патриот пережил техническое обновление в году а скоро получит автоматическую трансмиссию уаз впервые в своей истории оснастит патриот автоматической коробкой передач французской компании punch которая применялась на bmw x cadillac sts и chevrolet colorado и ряде других моделей испытания автомобиля уже идут а дебют запланирован на весну года volkswagen virtus для китайского рынка является прообразом нового polo для россии по дизайну он ближе к старшим моделям марки volkswagen готовится к дебюту нового седана polo который выпускается в калуге с года производство новинки стартует в этом году автомобиль построен на упрощённой платформе mqb а и заметно крупнее нынешней модели длина составляет без малого метра а объём багажника превысил литров volkswagen t cross формально относится к хетчбэкам в класса но пропорциями напоминает кроссовер другим направлением генерального удара станут кроссоверы если в прошлом году volkswagen вывел на рынок две крупные модели terramont и новый touareg то теперь сосредоточится на компактах так в году ожидается старт продаж volkswagen t cross хотя кроссовером его можно назвать с натяжкой привод только передний а из внедорожных черт лишь вертикальная компоновка салона и увеличенный просвет автомобиль создан на платформе polo последнего поколения то есть относится к b классу и по размерам близок lada x ray volkswagen tarek адаптируют для россии взяв за основу модель tharu уже дебютировавшую в китае куда интереснее volkswagen tarek близкий родственник небольшого кроссовера skoda karoq который до россии так и не доехал по размеру tarek сопоставим с nissan qashqai получит полный привод и прописку на нижегородском заводе volkswagen правда полноценный выпуск наладят скорее всего уже в году неопределённой остаётся судьба оспортивленного t roc решение о выводе поджарого кроссовера на российский рынок видимо ещё не приняли на примере новой jetta хорошо видно повышение классности моделей лет десять назад мы бы приняли машину с таким дизайном и пропорциями как минимум за passat автомобиль уже собирают в мексике но будет и российская локализация зато в россии точно появится новый volkswagen jetta поначалу мексиканской сборки а потом местной нижегородской сборку модели предыдущего поколения прекратили в году volkswagen arteon лифтбэк со спортивными пропорциями на базе passat а в ближайшее время дебютирует новый volkswagen passat сначала в версии для американского рынка потом для европейского китайский passat уже продаётся но там он представлен в длиннобазной версии на платформе mqb американская же модель станет глубокой модернизацией прежнего passat и какую именно версию адресуют европе и россии в частности пока неясно кстати купеобразная версия сменила имя с passat cc на arteon и также появится в россии в будущем году kia proceed стал универсалом но от ceed sw отличается более динамичной задней частью корейские сёстры hyundai и kia приучили нас к обилию новинок и не нарушат традицию в году сначала на рынок выйдет универсал ceed sw а следом за ним весной появится proceed в отличие от прежней модели это не трёхдверный хетчбэк а так называемый shooting break спортивный универсал так выглядит hyundai elantra для американского рынка весной обновлённая модель приедет и в россию hyundai готовит к выходу обновлённую версию седана elantra а ближе к осени появится новая sonata кроме того марка планирует вывести на рынок суббренд n которым обозначаются заряженные версии автомобилей первенцем станет i n с двигателями и л с горячий хетч вряд ли будет пользоваться спросом но у корейцев другая цель укрепить репутацию производителя который выпускает не только среднеценовые модели kia убеждает нас что представительский автомобиль может нести народный бренд модель k как и quoris будут выпускать под маркой kia hyundai например завёл отдельный премиум бренд genesis новое поколение флагмана kia quoris в новом поколении переименовали в kia k и привезут в россию в течение года также мы ждём новый soul и пару больших кроссоверов братьев kia telluride и hyundai palisade kia telluride кроссовер длиной ровно мм кроме того альянс hyundai kia создаёт в россии собственную штаб квартиру такие есть и на других значимых для марок рынках а ещё организует собственное производство моторов и коробок передач в первую очередь для solaris и rio toyota rav получит двигатели объёмом или литра и полный привод с регулируемым вектором тяги самой ожидаемой премьерой toyota станет новое поколение кроссовера rav и это хорошие новости для марки в последнее время популярность модели несколько снизилась новый рафик построен на платформе tnga которую делит с toyota camry кстати переход на новую платформу помог камри удержала лидерство в сегменте несмотря на изменение концепции и больший акцент на драйверские ценности что до rav он выйдет на рынок ориентировочно в середине года и тоже обещает сделать шажок в сторону идеологии fun to drive toyota corolla получила гибридную версию но для россии адресуют бензиновые модели платформу tnga получила новая corolla которая появится в россии даже раньше в первом квартале года автомобиль по прежнему будет импортироваться из турции дизайн nissan kicks пересадят на платформу в таким гибридом nissan планирует со временем заменить terrano новый nissan juke в россию не приедет эпатажный кроссовер стал бестселлером в момент дебюта восемь лет назад но в последний год особым спросом не пользовался модель импортируют из великобритании что сказывается на цене зато у нас появится бюджетный кроссовер имя которого окончательно не утверждено фактически это аналог renault kaptur на той же платформе в причём тоже копирующий дизайн глобальной модели только не французского captur а глобального nissan kicks который с года выпускается для ряда стран пикап mitsubishi triton известен в россии как l и фейслифтинг ему сделали радикальный с таким дизайном он поспорит за титул самого экспрессивного пикапа mitsubishi l прошёл рестайлинг но отнюдь не формальный он выглядит как новая модель из других приятных изменений шестиступенчатый автомат вместо прежнего пятиступенчатого при этом автомобиль сохранил выбор полноприводных трансмиссий можно заказать простую с жёстким включением переднего моста а можно выбрать superselect с центральным дифференциалом и возможностью отключить пару колёс прежний peugeot как и в россии больше не продаётся но нам обещают новое поколение го peugeot планирует вывести на российский рынок новый который кстати попал в число семи финалистов конкурса автомобиль года citroen c aircross среднеразмерный кроссовер с характерным цитрусовым дизайном попал в него и citroen c aircross старт продаж которого ожидается в первой половине года автомобиль во многом унифицирован с peugeot и но имеет самобытный дизайн suzuki jimny в россии продается минимальным тиражом тем не менее имеет верных поклонников других субкомпактных внедорожников у нас попросту нет suzuki демонстрирует чудеса веры в российский рынок не имея собственного производства в стране компания наращивает продажи пусть даже в абсолютных цифрах они скромны а главное обещает таки привезти к нам новое поколение suzuki jimny вряд ли его продажи будут высокими например нынешняя модель стоит более миллиона рублей зато jimny остаётся настоящим рамным внедорожником пусть и очень компактным datsun cross для индийского рынка возможно намекает на новую модель для россии но вряд ли она скопирует его полностью но есть и модели будущее которых в россии пока туманно datsun обещает представить наконец свою третью модель для россии кроссовер в индии марка продаёт паркетник cross но прозрачные намёки российского офиса дают понять что для нас готовят отдельную модель skoda kamiq для китайского рынка является бюджетной моделью которая конкурирует с hyundai creta но для россии вероятно подготовят автомобиль чуть более претенциозный skoda презентовала хетчбэк scala который заменит rapid с этим же кузовом но в россии он не появится зато у skoda ожидается новый компактный кроссовер хотя пока неясно какую модель предложат россиянам аналог китайской skoda kamiq или более европейскую версию по мотивам концепт кара vision x в прошлом году начались продажи нового ford focus но в россии его локализовать на спешат а импортировать бессмысленно слишком высокой будет цена новый ford focus также придёт в россию с большим запозданием в европе модель уже продаётся а нам не обещают и в году в м начнутся мировые продажи mazda но не факт что модель успеет добраться до россии до конца года не ранее конца года ожидается и новая mazda построенная на другой платформе с полузависимой задней подвеской и двигателями семейства skyactive ravon r nexia должен был стать бестселлером но судьба его оказалась трудна а в году марка и вовсе остановила продажи хотя об уходе не объявила неопределённым выглядит будущее узбекского бренда ravon экс daewoo который в течение года приостанавливал продажи и потерял существенную долю рынка по одной из версий компания вынуждена увеличить цену автомобилей новых прайс листов пока нет но российская газета публиковала информацию что ravon r nexia стоит свыше миллиона рублей неважно идут дела у ssangyong которая за прошлый год реализовала немногим более автомобилей aurus senat в президентском исполнении цена неизвестна но очередь выстраивается а напоследок автомобиль пусть и не народный но всё же горячо обсуждаемый стартовали официальные продажи президентских седанов aurus senat желающим предлагают внести полтора миллиона рублей предоплаты не оговаривая ни сроки поставки ни финальную цену впрочем и спешки нет в этом году на предприятии sollers в алабуге стартует лишь подготовительный этап производства а в серию aurus пойдет уже в году весной мы увидим близкий к серийному внедорожник komendant а в течение года компания сертифицирует минивэн arsenal',\n",
       " 'есть новости хорошие и новости плохие в этом году почти наверняка подорожает осаго и техосмотр зато не вырастет цена топлива и упростится регистрация автомобилей о наиболее значимых для автомобилистов изменениях в нашем обзоре в году даже мелкие дтп придется оформлять с гибдд техосмотр станет обязательным в первом чтении госдума одобрила фундаментальные поправки к коап уголовному кодексу и закону о техническом осмотре и если запал не ослабнет техосмотр заработает на полную катушку уже в этом году процесс техосмотра будут фиксировать на видео из небытия его вернут большими штрафами для водителей за езду без диагностической карты рублей камеры смогут наказывать за такое нарушение ежедневно для нелегальных продавцов диагностических карт предусмотрено уголовное наказание а пункты техосмотра должны фиксировать весь процесс на видео в году проходить техосмотр нужно легковым автомобилям года выпуска и старше а также и годов выпуска осаго станет гибким и дорогим реформу осаго осенью года перенесли но не отменили в новом году водителей ждёт расширение тарифных коридоров вверх и вниз на но на практике это означает что максимальная стоимость полисов возрастёт власти надеются снизить удар по водителям за счёт повышения гибкости осаго например вместо четырёх комбинаций коэффициентов стажа и вождения в новом законе предусмотрено пятьдесят но максимальная скидка для взрослых и опытных составит всего долги по штрафам спишут напрямую в течение года упростится взыскание долгов по штрафам на сумму до рублей сегодня приставы должны возбуждать исполнительное производство но лайтовая процедура позволит обойтись без него должника уведомят в ускоренном режиме а затем спишут деньги с банковского счёта накинув рублей за удобство лимиты скорости ужесточат правительство инициировало разработку законопроекта который снизит порог нечувствительности к превышению скорости с км час до км час ездить со скоростью км час относительно лимита запретят вероятнее всего возродят первую часть статьи коап которая до года наказывала за превышение от до км час штраф составит рублей мвд должно определиться с нюансами до февраля не исключено что усилят и наказание за превышение на – км час чтобы сохранить ступенчатость статьи коап цена топлива держит оборону соглашение между правительством и нефтяными компаниями ограничило розничную цену бензина и дизельного топлива напишите в комментариях сколько стоит разное топливо на заправках в ваших краях до марта цены будут регулироваться в ручном режиме предельную планку установили для каждого региона но в среднем по россии цена литра бензина аи не должна превышать рубля за литр бензина аи рубля правда независимым азс разрешили поднять цену на относительно этого уровня в году введут крупные штрафы для азс которые недоливают топливо водителей избавят от бумажек в м продолжится переход на цифровые документы внедрение электронных птс ожидается к лету пока они используются добровольно и в тестовом режиме такие птс содержат предысторию автомобиля количество аварий прохождение техосмотра регулярность обслуживания и так далее гибдд тем временем определяется с форматом электронных водительских прав и свидетельства о регистрации предъявлять которые водители смогут прямо со смартфона а ещё инспекторы тестируют планшеты которые устанавливают личность водителя по его внешности переход на электронные полисы осаго идёт уже несколько лет а в декабре года распечатку е осаго уравняли в правах с обычным полисом в году электронными станут диагностические карты техосмотра гибдд планирует навести порядок с медсправками информацию о водителях с противопоказаниями алкоголизм серьезные заболевания занесут в базу данных минздрава доступ к которой получит мвд стать наркоманом станет проще гибдд совместно с минздравом установит пределы содержания в моче водителей фенобарбитала и димедрола наказание ждёт как водителей которые употребляли препараты в медицинских целях так и любителей зелья но в последнем случае более жесткое сегодня список психоактивных компонентов состоит из сотен наименований а понятия допустимая концентрация отсутствует фенобарбитал является активным компонентом многих успокоительных например корвалола и валокордина корвалольный вопрос существует не первый год бывает под суд идут водители с лечебными дозами психоактивных веществ но есть и обратная проблема когда от наказания уходят наркоманы функционал камер расширят использовать камеры для проверки полисов осаго планировали ещё в ноябре года но возникли проблемы с адаптацией базы данных рса для работы в прямом эфире как того требуют камеры работы продолжаются и в году систему должны протестировать в москве а затем перенести опыт в регионы где оборудование уже готово для работы камеры смогут наказывать и водителей без диагностической карты техосмотра функционал камер уже позволяет распознавать автомобили без осаго и техосмотра проблема в базах данных которые не справляются с такой частотой запросов для снижения ошибок гибдд разрабатывает новый стандарт для камер который обяжет предоставлять больше фотографий нарушения делать их цветными и лучшего качества попутно тестируется нейронная сеть которая распознает марку и модель для выявления машин с чужими номерами до февраля года мвд должно разработать систему ужесточения наказаний за езду с плохо читаемыми и подложными номерами разъезжаться полюбовно запретили в году нужно забыть об оформлении аварий без гибдд или европротокола оформлять придется мелкие инциденты даже если стороны примирились или вред причинен только самому виновнику поправки в пдд действуют уже с декабря теперь в случае аварии водитель обязан сделать звонок в гибдд а если инцидент подходит под критерии европротокола в страховую компанию гибдд устала менять правила в декабре вступило в действие целых два обновления пдд первое в числе прочего отменило знак шипы второе касалось в основном велосипедистов и дипломатов госавтоинспекция осталась недовольна столь бурной фантазией смежных ведомств в данном случае минтранса и предложила мораторий на изменение пдд чтобы водители привыкли к нынешнему тексту но единого мнения у чиновников так и не сформировалось поэтому изменения в правилах возможны идею легализовать продажу красивых номеров вынашивают уже не первый год госномера новые и красивые в гибдд отсрочили выдачу госномеров измененного формата до июля года из за технических причин новый стандарт предусматривает вариативность госномера например появился типоразмер для мотоциклов и праворульных автомобилей с иной площадкой для знака по прежнему тлеет идея продавать красивые буквенно цифровые комбинации через аукционы но конкретика появится позже в течение года vin разрешат восстанавливать летом вступит в силу уже одобренная редакция закона о государственной регистрации транспортных средств которая легализует электронные птс разрешает ставить автомобили на учёт силами дилера а ещё описывает законную процедуру восстановления поврежденного vin сегодня автомобили идентификационный номер которых пострадал из за дтп или ржавчины часто становятся мёртвым грузом для владельцев что ещё обсуждают власти с прошлого года разрабатывается законопроект об ужесточении наказания для водителей скрывшихся с места аварии если в ней пострадали или погибли люди их предлагают считать уклонившимися от медосвидетельствования то есть фактически нетрезвыми и наказывать по более строгим частям статьи ук рф мвд лоббирует очередное ужесточение наказания для водителей которые ездят после лишения на подходе утверждение поправок в коап продлевающих период оплаты штрафа с процентной скидкой ещё на дней если письмо счастья по вине почты пришло после окончания льготного периода попутно обсуждается инициатива полной отмены скидок за своевременную оплату штрафов с таким предложением выступили власти татарстана гибдд продвигает идею регулярной сдачи теоретического экзамена при смене прав большинство водителей делает это раз в десять лет пока сдавать теорию нужно для возврата прав после лишения опасное вождение на дорогах общего пользования предложили наказывать штрафом рублей определение опасного вождения появилось в пдд ещё в году но штрафа до сих пор нет ожидается что он появится в году и составит рублей в ноябре об этом рассказал глава гибдд россии михаил черников а вот интересная идея уравнять смартфоны и регистраторы с комплексами видеофиксации повисла в воздухе подготовлено уже несколько законопроектов но обсуждение буксует лучшие ликбезы для водителей',\n",
       " 'новая подборка про людей которым все равно новая подборка про людей которым все равно портал nn ru продолжает публиковать фотографии автохамов на нижегородских дорогах если вы стали свидетелем нарушения правил парковки присылайте фото видеосвидетельства в редакцию городского портала nn ru на почту news iportal ru или в сообщениях во вконтакте укажите адрес где это нарушение зафиксировано парковка на трамвайных путях в гордеевке сообщил в редакцию читатель николай к автохамы на улице ошарской перегородили лестницу и пандус в парке кулибина по тротуарам ходят не только мамы с колясками но и катаются автомобили а вот такого короля запечатлел наш фотограф на улице максима горького',\n",
       " 'tesla model символична отчаянная попытка сделать электромобиль массовым обернулась нервным срывом для главы компании илона маска год оказался крайне неоднозначным для автопрома и российского и мирового скандалы шли один за другим свирепость экологов вышла на новый уровень а в самом автопроме наметились тектонические сдвиги о наиболее значимых событиях уходящего года в нашем обзоре сизое рождество гона глава альянса renault nissan mitsubishi автоваз карлос гон считался одним из самых влиятельных боссов автопрома и тем удивительнее бескомпромиссность с которой японские власти определили его в изолятор где он встретил рождество карлос гон был арестован ноября по обвинению в сокрытии доходов которые получал в виде бонусов от nissan суд уже два раза продлевал срок ареста а прокуратура предъявила новые обвинения в конце ноября гон лишился постов в nissan и mitsubishi где занимал должности председателя совета директоров а вот renault отказалась увольнять опального топа также гон остался председателем совета директоров совместного предприятия renault и ростеха проще говоря автоваза синдром хронической усталости запуск полноценного массового производства tesla model потребовал от илона маска титанических усилий по его признанию порой он ночевал на заводе и год для него закончился тем что он потерял должность в компании которая прочно ассоциируется с ним но сначала были яркие моменты в году маск организовал запуск в космос tesla roadster презентовал прототип сверхскоростного тоннеля loop запустил продажи огнемётов а model всё таки довёл до серийного производства по итогам третьего квартала tesla впервые за долгое время показала прибыль покинуть пост председателя правления tesla маска вынудила комиссия по ценным бумагам сша за публикацию ложной информации которая ввела в заблуждение инвесторов по сути маск приукрасил положение компании чтобы привлечь капитал год отметился чередой странных скандалов вокруг маска например он назвал педофилом одного из спасателей который вытаскивал детей из затопленной пещеры в таиланде а потом извинялся умер серджио маркионне в июле года внезапно скончался глава концерна fiat chrysler automobiles серджио маркионне которому удалось вернуть итальянскую марку к прибыльности и провести историческое объединение с возрождённой после банкротства фирмой chrysler серджио играл важную роль и в судьбе ferrari бесславный проигрыш команды в формуле в этом году многие связали именно с уходом её главного наставника год отставок должность председателя правления daimler оставляет дитер цетше причем в ближайшие годы руководство немецкого концерна ждут и другие важные перестановки тряхнуло и руководящие структуры volkswagen весной ушёл маттиас мюллер и ряд других ключевых фигур это стало следствием дизельного скандала года ив каракатзанис как и его предшественник николя мор предпочитает тихо переносить стандарты renault nissan на автоваз не обошлось и без небольшой сенсации в россии когда главу автоваза николя мора сменил неизвестный в россии ив каракатзанис в отличие от колоритного бу андерссона оба ставленника renault в публичном поле светятся редко да и новинки под их руководством получаются скромнее зато автоваз демонстрирует хорошие финансовые показатели и рост рыночной доли расход топлива стал честнее с сентября радикально изменилась процедура определения паспортного расхода топлива раньше его определяли в стандартизованном ездовом цикле nedc настолько далёком от реальности что цифры годились разве что для сравнения машин друг с другом цикл wltp включает четыре интенсивных режима движения которые воспроизводят реальный ритм точнее новый цикл wltp на порядок жестче выше стали скорости длительнее циклы резче разгоны а главное к лабораторным тестам добавились натурные испытания на дорогах общего пользования казалось бы всё это не более чем формальность но введение новых правил буквально парализовало автопром в сентябре многие марки остановили продажи отдельных моделей помимо расхода топлива цикл wltp определяет выбросы парникового газа co от которых во многих странах зависят налоги и штрафы производителям поэтому ряд моделей попросту не уложился в нормативы сильнее всего напрягся volkswagen пострадали и продажи и прибыль audi e tron выглядит ещё одним типичным кроссовером немецкой фирмы но с одной разницей он бывает только электрическим экологи лютуют осенью этого года в польше состоялся очередной саммит посвященный глобальному потеплению и достигнутое соглашение cop вызвало серьёзное беспокойство у лидеров автопрома оно предписывает к году сократить выбросы co на относительно строгого уровня года кстати уже в году среднестатистический европейский автомобиль обязан показывать расход топлива на уровне л км причем по более строгому циклу wltp ещё один чисто электрический кроссовер mercedes benz eqc под такие автомобили компания создала отдельный бренд eq после дизельгейта года скандала с дизелями volkswagen популярность таких моторов в европе снизилась а ряд марок остановил разработку и продажи дизелей европейские страны одна за другой добровольно взяли на себя обязательства запретить продажу и даже использование автомобилей с двигателями внутреннего сгорания одни готовы это сделать уже в году другие в м электромобили наступают ставка делается на электромобили и зачинщик дизельного скандала volkswagen в этом году представил модульную платформу meb в течение четырёх лет на её основе создадут разноформатных моделей jaguar i pace кроссовер с безальтернативным электрическим приводом на все четыре колеса цена стартует от миллионов рублей и volkswagen не одинок электромобили или гибриды являются сегодня приоритетным направлением для большинства марок особенно в премиум сегменте так полностью электрические jaguar i pace и bmw i доступны даже в россии mercedes представил электрокроссовер eqc audi запустила производство модели e tron электромобиль cv от концерна калашников имеет мощность л с и запас хода до км но лишь в теории россия своим электромобилем похвастаться не может но весь год эпатируем публику необычными концептами среди которых электромотоцикл урал и стильный концепт от концерна калашников напоминающий лифтбэк иж комби время тотальной неопределенности автопром переживает нервные времена давление экологов и переход на электромобили требует больших инвестиций а мировая экономика вызывает тревогу затянувшийся выход британии из евросоюза вынуждает многие компании придумывать планы б на случай жёсткого развода хотя истинно английских марок становится всё меньше в британии сосредоточены большие производственные мощности nissan honda bmw opel vauxhall и ряда других марок скандал с дизелями volkswagen больно ударил по самому концерну и повлёк ряд новых расследований в отношении других марок например renault и opel американский автопром снова погружается в рецессию ford планирует альянс с volkswagen а general motors масштабное закрытие заводов на другой стороне атлантики назревает конфликт между general motors и президентом дональдом трампом в ноябре gm объявила о закрытии пяти заводов на территории сша что дискредитирует экономическую политику трампа ставящего на развитие местных производств президент пообещал применить к gm жёсткие санкции обретает реальные черты будущий альянс двух автогигантов volkswagen и ford он станет не первым трансатлантическим конгломератом можно вспомнить daimlerchrysler или fiat chrysler automobiles но в количественном отношении превзойдет все остальные продолжают наступать и китайские марки в феврале года крупнейшим акционером daimler торговая марка mercedes benz стала китайская geely уже владеющая volvo cars автомобили года автомобилем года ещё в марте объявили кроссовер volvo xc конкурс car of the year проводится ежегодно а призеров выбирают журналисты из стран alpine a является реинкарнацией классической модели года марку возродил альянс renault nissan модель входит в число претендентов на звание автомобиль года в семёрку финалистов конкурса на звание автомобиль года вошли спорткар alpine a электрический jaguar i pace citroen c aircross новые ford focus kia ceed mercedes benz a класса и peugeot год парадоксов в россии два наиболее значимых тренда в россии должны исключать друг друга но нет с начала года росли и цены на автомобили и продажи по итогам месяцев рынок прибавил почти но если в первой половине года он рос на энтузиазме то затем его подталкивало вперёд перманентное повышение цен люди успевали купить по старым прайсам помимо курсов валют давление оказывал резко возросший утилизационный сбор автомобили дорожают но марки активно зазывают покупателей скидками и рассказами об эскалации цен после повышения ндс недовольство автомобилистов вызвало резкое подорожание топлива в конце весны которое должно смениться удешевлением в начале будущего года три самые яркие новинки автомобильные марки охотно везли в россию новые модели в году стартовали продажи новой toyota camry kia ceed volkswagen touareg mercedes benz g класса bmw x porsche cayenne и многих других но наибольший интерес и дискуссии спровоцировали три другие новинки президентский лимузин aurus доступный для предзаказа простыми смертными первый непремиальный купе кроссовер renault arkana и концепт кар lada × который сменит ниву старушка выпускается уже более лет aurus senat в президентском исполнении автомобиль будет также доступен в укороченной версии позже появятся минивэн и кроссовер купе кроссовер arkana является смелой попыткой renault привлечь покупателей с нестандартными запросами lada × с фирменным дизайном от стива маттина внешность серийной модели будет проще но главная интрига в другом останется ли наследница нивы полноценным внедорожником российский автопром умерил амбиции после бума нулевых нынешний автопром россии попал в стагнацию большинство марок старается удержать позиции и загрузить мощности но были и признаки развития mazda запустила на дальневосточном заводе производство двигателей mercedes benz проводит пусконаладочные испытания на заводе в подмосковье а китайская марка haval завершила строительство завода в тульской области hyundai анонсировал запуск моторного производства в россии но скорее всего не ранее года российские автозаводы оптимизируют модельные ряды например nissan теперь собирает в россии только кроссоверы в остальном марки действовали экстенсивно skoda запустила производство kodiaq в нижнем новгороде kia наладила производство ceed и cerato в калининграде renault готовилась к запуску arkana nissan обновил x trail и свернул производство almera а uaz выпустил очередной рестайлинг патриота у большинства производителей заканчиваются договоры на промышленную сборку автомобилей а новые соглашения с правительством заключаются в форме специальных инвестиционных контрактов спиков если раньше условия были более менее едиными то теперь их согласуют с каждым производителем с учётом его значимости и готовности инвестировать в российские площадки автопилот приходит в россию помимо электромобилей вторым значимым трендом мирового автопрома является внедрение автопилота хотя происходит это не безболезненно одним из самых обсуждаемых инцидентов стал наезд автопилотируемой машины uber на велосипедистку которая впоследствии скончалась но ни эта авария ни ряд происшествий с tesla не остановили прогресса и в начале этого года власти калифорнии официально разрешили тесты беспилотников на дорогах общего пользования допускаются даже машины не оснащенные рулём и педалями в принципе правда оператор всё равно приглядывает за ними дистанционно toyota prius переделанная яндексом в беспилотник доехала от москвы до казани примерно со скоростью среднего водителя а с декабря тестировать беспилотные автомобили разрешили в россии на дорогах москвы и татарстана впрочем эти тесты велись и ранее например с начала года компания яндекс провела сразу несколько довольно эффектных тестов в одном из которых беспилотник доехал от москвы до казани']"
      ]
     },
     "execution_count": 35,
     "metadata": {},
     "output_type": "execute_result"
    }
   ],
   "source": [
    "texts_prep[:10]"
   ]
  },
  {
   "cell_type": "code",
   "execution_count": 152,
   "metadata": {
    "collapsed": true
   },
   "outputs": [],
   "source": [
    "import pymorphy2 "
   ]
  },
  {
   "cell_type": "code",
   "execution_count": 154,
   "metadata": {
    "collapsed": true
   },
   "outputs": [],
   "source": [
    "whl = pymorphy2.MorphAnalyzer()"
   ]
  },
  {
   "cell_type": "code",
   "execution_count": 36,
   "metadata": {},
   "outputs": [
    {
     "name": "stdout",
     "output_type": "stream",
     "text": [
      "[nltk_data] Downloading package stopwords to\n",
      "[nltk_data]     C:\\Users\\1\\AppData\\Roaming\\nltk_data...\n",
      "[nltk_data]   Package stopwords is already up-to-date!\n"
     ]
    }
   ],
   "source": [
    "nltk.download(\"stopwords\")\n",
    "from nltk.corpus import stopwords\n",
    "from string import punctuation\n",
    "stop_words = stopwords.words('russian')\n",
    "stemmer = PorterStemmer()"
   ]
  },
  {
   "cell_type": "code",
   "execution_count": 157,
   "metadata": {},
   "outputs": [
    {
     "data": {
      "text/plain": [
       "[[Parse(word='разобрались', tag=OpencorporaTag('VERB,perf,intr plur,past,indc'), normal_form='разобраться', score=1.0, methods_stack=((<DictionaryAnalyzer>, 'разобрались', 768, 4),))],\n",
       " [Parse(word='купить', tag=OpencorporaTag('INFN,perf,tran'), normal_form='купить', score=1.0, methods_stack=((<DictionaryAnalyzer>, 'купить', 647, 0),))],\n",
       " [Parse(word='дешёвую', tag=OpencorporaTag('ADJF,Qual femn,sing,accs'), normal_form='дешёвый', score=1.0, methods_stack=((<DictionaryAnalyzer>, 'дешёвую', 1278, 10),))],\n",
       " [Parse(word='страховку', tag=OpencorporaTag('NOUN,inan,femn sing,accs'), normal_form='страховка', score=1.0, methods_stack=((<DictionaryAnalyzer>, 'страховку', 8, 3),))],\n",
       " [Parse(word='новым', tag=OpencorporaTag('ADJF,Qual plur,datv'), normal_form='новый', score=0.333333, methods_stack=((<DictionaryAnalyzer>, 'новым', 405, 22),)),\n",
       "  Parse(word='новым', tag=OpencorporaTag('NOUN,inan,neut sing,ablt'), normal_form='новое', score=0.166666, methods_stack=((<DictionaryAnalyzer>, 'новым', 972, 4),)),\n",
       "  Parse(word='новым', tag=OpencorporaTag('NOUN,inan,neut plur,datv'), normal_form='новое', score=0.166666, methods_stack=((<DictionaryAnalyzer>, 'новым', 972, 8),)),\n",
       "  Parse(word='новым', tag=OpencorporaTag('ADJF,Qual masc,sing,ablt'), normal_form='новый', score=0.166666, methods_stack=((<DictionaryAnalyzer>, 'новым', 405, 5),)),\n",
       "  Parse(word='новым', tag=OpencorporaTag('ADJF,Qual neut,sing,ablt'), normal_form='новый', score=0.166666, methods_stack=((<DictionaryAnalyzer>, 'новым', 405, 18),))],\n",
       " [Parse(word='тарифам', tag=OpencorporaTag('NOUN,inan,masc plur,datv'), normal_form='тариф', score=1.0, methods_stack=((<DictionaryAnalyzer>, 'тарифам', 33, 8),))],\n",
       " [Parse(word='разобрались', tag=OpencorporaTag('VERB,perf,intr plur,past,indc'), normal_form='разобраться', score=1.0, methods_stack=((<DictionaryAnalyzer>, 'разобрались', 768, 4),))],\n",
       " [Parse(word='купить', tag=OpencorporaTag('INFN,perf,tran'), normal_form='купить', score=1.0, methods_stack=((<DictionaryAnalyzer>, 'купить', 647, 0),))],\n",
       " [Parse(word='дешёвую', tag=OpencorporaTag('ADJF,Qual femn,sing,accs'), normal_form='дешёвый', score=1.0, methods_stack=((<DictionaryAnalyzer>, 'дешёвую', 1278, 10),))],\n",
       " [Parse(word='страховку', tag=OpencorporaTag('NOUN,inan,femn sing,accs'), normal_form='страховка', score=1.0, methods_stack=((<DictionaryAnalyzer>, 'страховку', 8, 3),))]]"
      ]
     },
     "execution_count": 157,
     "metadata": {},
     "output_type": "execute_result"
    }
   ],
   "source": []
  },
  {
   "cell_type": "code",
   "execution_count": 39,
   "metadata": {},
   "outputs": [
    {
     "name": "stdout",
     "output_type": "stream",
     "text": [
      "[nltk_data] Downloading package wordnet to\n",
      "[nltk_data]     C:\\Users\\1\\AppData\\Roaming\\nltk_data...\n",
      "[nltk_data]   Package wordnet is already up-to-date!\n"
     ]
    },
    {
     "data": {
      "application/vnd.jupyter.widget-view+json": {
       "model_id": "f76d8128d3df48f68dc035f7ce1e435b",
       "version_major": 2,
       "version_minor": 0
      },
      "text/plain": [
       "A Jupyter Widget"
      ]
     },
     "metadata": {},
     "output_type": "display_data"
    }
   ],
   "source": [
    "corpus = []\n",
    "nltk.download(\"wordnet\")\n",
    "for sentence in log_progress(texts_prep[::]):\n",
    "    tokens = sentence.split(' ')\n",
    "    #tokens = [t for t in tokens if t not in stop_words]\n",
    "    #tokens = [whl.parse(t) for t in tokens if t not in stop_words]\n",
    "    #tokens = [stemmer.stem(t) for t in tokens if t not in stop_words]\n",
    "    #tokens = [t for t in tokens if len(t) >= 3]\n",
    "    corpus.append(tokens)"
   ]
  },
  {
   "cell_type": "code",
   "execution_count": 112,
   "metadata": {
    "collapsed": true
   },
   "outputs": [],
   "source": [
    "#LSA TFIDF + SVD\n",
    "vectorizer = TfidfVectorizer()"
   ]
  },
  {
   "cell_type": "code",
   "execution_count": null,
   "metadata": {
    "collapsed": true
   },
   "outputs": [],
   "source": [
    "\n"
   ]
  },
  {
   "cell_type": "code",
   "execution_count": 163,
   "metadata": {},
   "outputs": [
    {
     "data": {
      "text/plain": [
       "'мы'"
      ]
     },
     "execution_count": 163,
     "metadata": {},
     "output_type": "execute_result"
    }
   ],
   "source": [
    "corpus[0][0]"
   ]
  },
  {
   "cell_type": "code",
   "execution_count": 82,
   "metadata": {},
   "outputs": [
    {
     "data": {
      "text/plain": [
       "300"
      ]
     },
     "execution_count": 82,
     "metadata": {},
     "output_type": "execute_result"
    }
   ],
   "source": [
    "len(documents[:300])"
   ]
  },
  {
   "cell_type": "code",
   "execution_count": 157,
   "metadata": {
    "collapsed": true
   },
   "outputs": [],
   "source": [
    "from gensim.models.doc2vec import Doc2Vec, TaggedDocument\n",
    "\n",
    "documents = [TaggedDocument(doc, [i]) for i, doc in enumerate(corpus)]\n",
    "model = Doc2Vec(documents, vector_size=30, window=2, min_count=1, workers=4)"
   ]
  },
  {
   "cell_type": "code",
   "execution_count": null,
   "metadata": {
    "collapsed": true
   },
   "outputs": [],
   "source": []
  },
  {
   "cell_type": "code",
   "execution_count": 85,
   "metadata": {},
   "outputs": [
    {
     "data": {
      "text/plain": [
       "60"
      ]
     },
     "execution_count": 85,
     "metadata": {},
     "output_type": "execute_result"
    }
   ],
   "source": [
    "len(data_test)"
   ]
  },
  {
   "cell_type": "code",
   "execution_count": null,
   "metadata": {
    "collapsed": true
   },
   "outputs": [],
   "source": []
  },
  {
   "cell_type": "code",
   "execution_count": 45,
   "metadata": {
    "collapsed": true
   },
   "outputs": [],
   "source": [
    "vector = model.infer_vector([\"мы\", \"разобрались\", \"можно\", \"ли\", \"купить\"])"
   ]
  },
  {
   "cell_type": "code",
   "execution_count": 78,
   "metadata": {
    "collapsed": true
   },
   "outputs": [],
   "source": [
    "vector_s = model.infer_vector([\"страховым\", \"компаниям\", \"осаго\"])"
   ]
  },
  {
   "cell_type": "code",
   "execution_count": 79,
   "metadata": {},
   "outputs": [
    {
     "name": "stderr",
     "output_type": "stream",
     "text": [
      "C:\\Users\\1\\Anaconda3\\lib\\site-packages\\ipykernel_launcher.py:1: DeprecationWarning: Call to deprecated `most_similar` (Method will be removed in 4.0.0, use self.wv.most_similar() instead).\n",
      "  \"\"\"Entry point for launching an IPython kernel.\n"
     ]
    }
   ],
   "source": [
    "output = model.most_similar(positive=[vector_s] ,topn = 10)"
   ]
  },
  {
   "cell_type": "code",
   "execution_count": 80,
   "metadata": {},
   "outputs": [
    {
     "name": "stdout",
     "output_type": "stream",
     "text": [
      "[('третью', 0.9555409550666809), ('опер', 0.949486255645752), ('укрытия', 0.948377251625061), ('беспокойство', 0.9458136558532715), ('олимпийские', 0.9457483291625977), ('монастыре', 0.9413050413131714), ('песни', 0.9409388899803162), ('снежные', 0.9408762454986572), ('рейс', 0.9393031001091003), ('собирали', 0.9383119940757751)]\n"
     ]
    }
   ],
   "source": [
    "print(output)"
   ]
  },
  {
   "cell_type": "code",
   "execution_count": null,
   "metadata": {
    "collapsed": true
   },
   "outputs": [],
   "source": []
  },
  {
   "cell_type": "code",
   "execution_count": 45,
   "metadata": {},
   "outputs": [
    {
     "data": {
      "text/plain": [
       "{'разобрались': 32822,\n",
       " 'купить': 16198,\n",
       " 'дешёвую': 8639,\n",
       " 'страховку': 38539,\n",
       " 'новым': 21336,\n",
       " 'тарифам': 39303,\n",
       " 'начала': 20149,\n",
       " 'года': 7091,\n",
       " 'коридор': 15319,\n",
       " 'тарифов': 39309,\n",
       " 'осаго': 23333,\n",
       " 'расширили': 33449,\n",
       " 'вверх': 3780,\n",
       " 'вниз': 4743,\n",
       " 'это': 44846,\n",
       " 'дало': 7960,\n",
       " 'страховым': 38552,\n",
       " 'компаниям': 14901,\n",
       " 'выбор': 5835,\n",
       " 'оставить': 23560,\n",
       " 'цены': 43353,\n",
       " 'повысить': 26448,\n",
       " 'снизить': 36614,\n",
       " 'проанализировали': 30741,\n",
       " 'стоимость': 38384,\n",
       " 'полисов': 27725,\n",
       " 'регионах': 33589,\n",
       " 'россии': 34257,\n",
       " 'оказалось': 22686,\n",
       " 'найти': 19476,\n",
       " 'подешевле': 26758,\n",
       " 'действительно': 8309,\n",
       " 'тарифы': 39311,\n",
       " 'страховых': 38554,\n",
       " 'компаний': 14898,\n",
       " 'отличаются': 24044,\n",
       " 'сильнее': 35663,\n",
       " 'прошлом': 31892,\n",
       " 'году': 7110,\n",
       " 'гибкие': 6883,\n",
       " 'должны': 9198,\n",
       " 'наказать': 19486,\n",
       " 'аварийных': 850,\n",
       " 'водителей': 4804,\n",
       " 'деле': 8380,\n",
       " 'всё': 5731,\n",
       " 'флагом': 42529,\n",
       " 'заботы': 10515,\n",
       " 'водителях': 4816,\n",
       " 'полиса': 27722,\n",
       " 'зависит': 10639,\n",
       " 'базового': 2061,\n",
       " 'тарифа': 39302,\n",
       " 'который': 15505,\n",
       " 'умножается': 41433,\n",
       " 'восемь': 5312,\n",
       " 'коэффициентов': 15552,\n",
       " 'территориальный': 39608,\n",
       " 'аварийности': 844,\n",
       " 'кбм': 14126,\n",
       " 'опыта': 23190,\n",
       " 'стажа': 38082,\n",
       " 'мощности': 18916,\n",
       " 'далее': 7949,\n",
       " 'вилка': 4434,\n",
       " 'составляла': 37391,\n",
       " 'раздвинули': 32651,\n",
       " 'рублей': 34332,\n",
       " 'эта': 44814,\n",
       " 'определена': 23073,\n",
       " 'законом': 11034,\n",
       " 'теории': 39531,\n",
       " 'полис': 27721,\n",
       " 'ощутимо': 24628,\n",
       " 'дешевле': 8628,\n",
       " 'прошлогоднего': 31885,\n",
       " 'реформу': 33947,\n",
       " 'поведённую': 26313,\n",
       " 'банком': 2188,\n",
       " 'подают': 26593,\n",
       " 'шаг': 43980,\n",
       " 'навстречу': 19255,\n",
       " 'водителям': 4814,\n",
       " 'дескать': 8539,\n",
       " 'страховые': 38551,\n",
       " 'будут': 3382,\n",
       " 'поощрять': 28195,\n",
       " 'аккуратных': 1281,\n",
       " 'клиентов': 14422,\n",
       " 'помощью': 28100,\n",
       " 'сниженных': 36607,\n",
       " 'прокомментировал': 31326,\n",
       " 'нововведения': 21272,\n",
       " 'президент': 29637,\n",
       " 'российского': 34265,\n",
       " 'союза': 37546,\n",
       " 'автостраховщиков': 1093,\n",
       " 'игорь': 12429,\n",
       " 'юргенс': 44924,\n",
       " 'первый': 25161,\n",
       " 'важный': 3607,\n",
       " 'пути': 32172,\n",
       " 'либерализации': 16732,\n",
       " 'результате': 33721,\n",
       " 'обязательную': 22355,\n",
       " 'автогражданку': 946,\n",
       " 'станут': 38140,\n",
       " 'справедливыми': 37839,\n",
       " 'автовладельцев': 939,\n",
       " 'безаварийные': 2356,\n",
       " 'водители': 4806,\n",
       " 'платить': 26080,\n",
       " 'меньше': 18010,\n",
       " 'автовладельцы': 941,\n",
       " 'аварийным': 848,\n",
       " 'стажем': 38083,\n",
       " 'получат': 27912,\n",
       " 'мощный': 18921,\n",
       " 'экономический': 44524,\n",
       " 'стимул': 38353,\n",
       " 'меняться': 18028,\n",
       " 'лучшую': 17123,\n",
       " 'сторону': 38454,\n",
       " 'аккуратный': 1279,\n",
       " 'водитель': 4807,\n",
       " 'большим': 3102,\n",
       " 'безаварийным': 2357,\n",
       " 'надеяться': 19336,\n",
       " 'сегодня': 35284,\n",
       " 'дисконты': 8810,\n",
       " 'скидки': 35887,\n",
       " 'иллюзии': 12794,\n",
       " 'рассыпались': 33352,\n",
       " 'сразу': 37942,\n",
       " 'обратились': 21977,\n",
       " 'директору': 8794,\n",
       " 'одного': 22540,\n",
       " 'агентств': 1117,\n",
       " 'кириллу': 14304,\n",
       " 'смолину': 36472,\n",
       " 'просьбой': 31644,\n",
       " 'подобрать': 26887,\n",
       " 'взрослого': 4272,\n",
       " 'опытного': 23192,\n",
       " 'водителя': 4813,\n",
       " 'десяти': 8543,\n",
       " 'лет': 16660,\n",
       " 'просто': 31591,\n",
       " 'имеют': 12836,\n",
       " 'возможности': 5011,\n",
       " 'предлагать': 29342,\n",
       " 'клиентам': 14420,\n",
       " 'индивидуальные': 12933,\n",
       " 'поэтому': 29072,\n",
       " 'базовая': 2060,\n",
       " 'ставка': 38049,\n",
       " 'выбирается': 5820,\n",
       " 'указанного': 41207,\n",
       " 'коридора': 15320,\n",
       " 'каждой': 13634,\n",
       " 'конкретной': 15034,\n",
       " 'территории': 39611,\n",
       " 'города': 7287,\n",
       " 'области': 21706,\n",
       " 'например': 19765,\n",
       " 'нашего': 20226,\n",
       " 'страховой': 38542,\n",
       " 'действует': 8324,\n",
       " 'единый': 9874,\n",
       " 'тариф': 39301,\n",
       " 'пояснил': 29098,\n",
       " 'специалист': 37630,\n",
       " 'безаварийность': 2355,\n",
       " 'прежнему': 29623,\n",
       " 'отражает': 24272,\n",
       " 'коэффициент': 15550,\n",
       " 'бонус': 3136,\n",
       " 'малус': 17453,\n",
       " 'пределе': 29321,\n",
       " 'достигает': 9452,\n",
       " 'единицы': 9846,\n",
       " 'позволяя': 27351,\n",
       " 'сэкономить': 39138,\n",
       " 'половины': 27814,\n",
       " 'стоимости': 38383,\n",
       " 'конкретного': 15032,\n",
       " 'базовый': 2065,\n",
       " 'одинаков': 22506,\n",
       " 'максимальный': 17386,\n",
       " 'близок': 2862,\n",
       " 'многие': 18488,\n",
       " 'упустили': 41604,\n",
       " 'поднять': 26869,\n",
       " 'страховки': 38538,\n",
       " 'сколько': 35944,\n",
       " 'стоит': 38386,\n",
       " 'единого': 9851,\n",
       " 'подхода': 27151,\n",
       " 'формированию': 42608,\n",
       " 'тарифной': 39307,\n",
       " 'сетки': 35573,\n",
       " 'каждая': 13630,\n",
       " 'страховая': 38536,\n",
       " 'выбрала': 5847,\n",
       " 'базовые': 2064,\n",
       " 'конкретных': 15038,\n",
       " 'городов': 7304,\n",
       " 'регионов': 33592,\n",
       " 'руководствуясь': 34388,\n",
       " 'внутренней': 4774,\n",
       " 'статистикой': 38246,\n",
       " 'сути': 38910,\n",
       " 'расширение': 33444,\n",
       " 'стало': 38104,\n",
       " 'дополнением': 9305,\n",
       " 'территориальному': 39606,\n",
       " 'коэффициенту': 15553,\n",
       " 'невыгодным': 20343,\n",
       " 'городам': 7288,\n",
       " 'максимальной': 17382,\n",
       " 'планки': 26031,\n",
       " 'малого': 17433,\n",
       " 'причём': 30706,\n",
       " 'нашим': 20235,\n",
       " 'данным': 8017,\n",
       " 'подавляющее': 26566,\n",
       " 'большинство': 3106,\n",
       " 'крупных': 15969,\n",
       " 'либо': 16733,\n",
       " 'оставили': 23557,\n",
       " 'прошлогоднем': 31887,\n",
       " 'уровне': 41637,\n",
       " 'повысили': 26445,\n",
       " 'снижения': 36604,\n",
       " 'ниже': 21114,\n",
       " 'хотя': 43126,\n",
       " 'такая': 39206,\n",
       " 'возможность': 5012,\n",
       " 'января': 45039,\n",
       " 'имеется': 12818,\n",
       " 'ресо': 33902,\n",
       " 'гарантия': 6748,\n",
       " 'повысила': 26443,\n",
       " 'ступенчато': 38718,\n",
       " 'некоторых': 20601,\n",
       " 'умеренной': 41410,\n",
       " 'волгоградская': 5152,\n",
       " 'ростовская': 34292,\n",
       " 'челябинская': 43588,\n",
       " 'башкортостан': 2298,\n",
       " 'татарстан': 39325,\n",
       " 'других': 9608,\n",
       " 'максимальных': 17388,\n",
       " 'рубля': 34338,\n",
       " 'новосибирская': 21311,\n",
       " 'астраханская': 1878,\n",
       " 'воронежская': 5280,\n",
       " 'тыва': 40601,\n",
       " 'хакасия': 42839,\n",
       " 'удмуртия': 41065,\n",
       " 'калмыкия': 13722,\n",
       " 'чукотка': 43946,\n",
       " 'камчатка': 13771,\n",
       " 'регионы': 33595,\n",
       " 'остались': 23587,\n",
       " 'прежнего': 29620,\n",
       " 'максимума': 17395,\n",
       " 'свердловская': 34925,\n",
       " 'область': 21718,\n",
       " 'екатеринбург': 9919,\n",
       " 'москва': 18819,\n",
       " 'санкт': 34755,\n",
       " 'петербург': 25744,\n",
       " 'страховое': 38541,\n",
       " 'общество': 22201,\n",
       " 'вск': 5590,\n",
       " 'большинства': 3104,\n",
       " 'оставило': 23558,\n",
       " 'прошлогодний': 31888,\n",
       " 'также': 39207,\n",
       " 'поступил': 28761,\n",
       " 'росгосстрах': 34233,\n",
       " 'альфастрахование': 1445,\n",
       " 'поменяло': 28017,\n",
       " 'сложной': 36243,\n",
       " 'схеме': 38989,\n",
       " 'неизменным': 20555,\n",
       " 'меньшим': 18015,\n",
       " 'стал': 38091,\n",
       " 'территориях': 39617,\n",
       " 'страховка': 38537,\n",
       " 'стала': 38092,\n",
       " 'дороже': 9384,\n",
       " 'ингосстрах': 12914,\n",
       " 'оставил': 23554,\n",
       " 'кроме': 15873,\n",
       " 'петербурга': 25745,\n",
       " 'двух': 8173,\n",
       " 'традиционно': 40064,\n",
       " 'невыгодных': 20344,\n",
       " 'страховщикам': 38547,\n",
       " 'областей': 21705,\n",
       " 'мурманской': 19038,\n",
       " 'челябинской': 43591,\n",
       " 'последней': 28537,\n",
       " 'ингосстраха': 12915,\n",
       " 'среднего': 37956,\n",
       " 'составляет': 37389,\n",
       " 'группа': 7789,\n",
       " 'согаз': 36927,\n",
       " 'подошла': 26950,\n",
       " 'вопросу': 5265,\n",
       " 'гибко': 6885,\n",
       " 'колеблются': 14603,\n",
       " 'диапазоне': 8714,\n",
       " 'максимально': 17380,\n",
       " 'возможных': 5021,\n",
       " 'такую': 39235,\n",
       " 'планку': 26033,\n",
       " 'установили': 41813,\n",
       " 'ростовской': 34295,\n",
       " 'новосибирской': 21313,\n",
       " 'областях': 21720,\n",
       " 'красноярском': 15646,\n",
       " 'краснодарском': 15629,\n",
       " 'краях': 15691,\n",
       " 'аско': 1857,\n",
       " 'страхование': 38534,\n",
       " 'подняло': 26860,\n",
       " 'большинстве': 3105,\n",
       " 'близких': 2852,\n",
       " 'регионам': 33587,\n",
       " 'сохранила': 37484,\n",
       " 'ставку': 38054,\n",
       " 'кургана': 16221,\n",
       " 'возрос': 5096,\n",
       " 'курганской': 16223,\n",
       " 'покупать': 27627,\n",
       " 'ценовой': 43322,\n",
       " 'конкуренции': 15046,\n",
       " 'страховыми': 38553,\n",
       " 'выбирался': 5823,\n",
       " 'четыре': 43728,\n",
       " 'тысячи': 40613,\n",
       " 'увеличилась': 40818,\n",
       " 'автора': 1055,\n",
       " 'материала': 17733,\n",
       " 'итоговая': 13537,\n",
       " 'дорогой': 9375,\n",
       " 'дешёвой': 8638,\n",
       " 'компании': 14897,\n",
       " 'колебалась': 14597,\n",
       " 'владельцев': 4601,\n",
       " 'дорогих': 9369,\n",
       " 'страховок': 38543,\n",
       " 'разница': 32784,\n",
       " 'ещё': 10016,\n",
       " 'заметней': 11239,\n",
       " 'вполне': 5475,\n",
       " 'разумно': 32955,\n",
       " 'проанализировать': 30742,\n",
       " 'предложения': 29355,\n",
       " 'вашем': 3752,\n",
       " 'регионе': 33590,\n",
       " 'другое': 9610,\n",
       " 'дело': 8395,\n",
       " 'разных': 32818,\n",
       " 'могут': 18565,\n",
       " 'постепенно': 28680,\n",
       " 'выровняться': 6371,\n",
       " 'верхней': 4054,\n",
       " 'планкой': 26032,\n",
       " 'случалось': 36321,\n",
       " 'прошлые': 31895,\n",
       " 'годы': 7111,\n",
       " 'планируете': 26023,\n",
       " 'приобретать': 30438,\n",
       " 'авторизируйтесь': 1061,\n",
       " 'проголосовать': 30960,\n",
       " 'опрос': 23129,\n",
       " 'завершен': 10607,\n",
       " 'успешно': 41767,\n",
       " 'проголосовали': 30959,\n",
       " 'результаты': 33725,\n",
       " 'опубликованы': 23173,\n",
       " 'завершении': 10609,\n",
       " 'опроса': 23130,\n",
       " 'решил': 34001,\n",
       " 'брошу': 3322,\n",
       " 'езжу': 9916,\n",
       " 'год': 7090,\n",
       " 'давно': 7923,\n",
       " 'сожалению': 36991,\n",
       " 'ваш': 3747,\n",
       " 'браузер': 3234,\n",
       " 'сильно': 35667,\n",
       " 'устарел': 41837,\n",
       " 'поддерживает': 26723,\n",
       " 'технологию': 39706,\n",
       " 'голосования': 7157,\n",
       " 'недорогой': 20427,\n",
       " 'метровый': 18165,\n",
       " 'минивэн': 18313,\n",
       " 'везёт': 3880,\n",
       " 'кучу': 16319,\n",
       " 'вещей': 4205,\n",
       " 'расходует': 33408,\n",
       " 'литров': 16864,\n",
       " 'городе': 7291,\n",
       " 'citroen': 121,\n",
       " 'spacetour': 637,\n",
       " 'является': 44972,\n",
       " 'аналогом': 1509,\n",
       " 'соплатформенного': 37238,\n",
       " 'peugeot': 516,\n",
       " 'travel': 705,\n",
       " 'посмотрим': 28584,\n",
       " 'ездит': 9909,\n",
       " 'комфорт': 14978,\n",
       " 'предоставляет': 29404,\n",
       " 'кому': 14977,\n",
       " 'вообще': 5244,\n",
       " 'понадобиться': 28117,\n",
       " 'такое': 39223,\n",
       " 'авто': 909,\n",
       " 'подробности': 27010,\n",
       " 'тест': 39644,\n",
       " 'драйве': 9559,\n",
       " 'редактора': 33643,\n",
       " 'нгс': 20253,\n",
       " 'дмитрия': 8889,\n",
       " 'косенко': 15412,\n",
       " 'длина': 8854,\n",
       " 'автомобиля': 1025,\n",
       " 'пять': 32303,\n",
       " 'метров': 18161,\n",
       " 'ездить': 9910,\n",
       " 'тесному': 39641,\n",
       " 'городу': 7319,\n",
       " 'поначалу': 28122,\n",
       " 'показаться': 27508,\n",
       " 'трудным': 40400,\n",
       " 'особенно': 23505,\n",
       " 'парковаться': 24873,\n",
       " 'зато': 11761,\n",
       " 'отличный': 24060,\n",
       " 'обзор': 21653,\n",
       " 'высокая': 6419,\n",
       " 'посадка': 28459,\n",
       " 'видишь': 4391,\n",
       " 'транспортный': 40144,\n",
       " 'поток': 28859,\n",
       " 'далеко': 7955,\n",
       " 'собой': 36753,\n",
       " 'ситроеновский': 35762,\n",
       " 'сплющенный': 37734,\n",
       " 'нос': 21407,\n",
       " 'большие': 3100,\n",
       " 'фары': 42290,\n",
       " 'делают': 8377,\n",
       " 'автомобиль': 1015,\n",
       " 'похожим': 28983,\n",
       " 'упитанного': 41531,\n",
       " 'головастика': 7125,\n",
       " 'белый': 2486,\n",
       " 'цвет': 43248,\n",
       " 'черные': 43661,\n",
       " 'окна': 22720,\n",
       " 'различимые': 32713,\n",
       " 'границы': 7617,\n",
       " 'дверей': 8078,\n",
       " 'подчеркивают': 27173,\n",
       " 'длину': 8868,\n",
       " 'минивэна': 18314,\n",
       " 'сзади': 35595,\n",
       " 'типичный': 39750,\n",
       " 'грузовой': 7771,\n",
       " 'квадратный': 14132,\n",
       " 'брусок': 3328,\n",
       " 'лишь': 16939,\n",
       " 'повместимее': 26360,\n",
       " 'передняя': 25317,\n",
       " 'панель': 24774,\n",
       " 'пухлая': 32183,\n",
       " 'пластик': 26051,\n",
       " 'жесткий': 10190,\n",
       " 'повсюду': 26418,\n",
       " 'выглядит': 5919,\n",
       " 'прилично': 30290,\n",
       " 'кожаный': 14562,\n",
       " 'руль': 34407,\n",
       " 'черными': 43663,\n",
       " 'блоками': 2881,\n",
       " 'кнопок': 14503,\n",
       " 'освежает': 23345,\n",
       " 'логотип': 16974,\n",
       " 'одна': 22531,\n",
       " 'вставка': 5642,\n",
       " 'металл': 18109,\n",
       " 'сиденья': 35625,\n",
       " 'тканевые': 39786,\n",
       " 'меру': 18057,\n",
       " 'приятные': 30732,\n",
       " 'плотные': 26166,\n",
       " 'проблем': 30768,\n",
       " 'доставляет': 9429,\n",
       " 'боковой': 3019,\n",
       " 'поддержкой': 26734,\n",
       " 'неплохо': 20765,\n",
       " 'таки': 39208,\n",
       " 'удобен': 41068,\n",
       " 'подлокотник': 26819,\n",
       " 'прикрученный': 30249,\n",
       " 'спинке': 37698,\n",
       " 'подлиннее': 26814,\n",
       " 'мультимедийная': 19003,\n",
       " 'система': 35748,\n",
       " 'назвать': 19399,\n",
       " 'представлена': 29520,\n",
       " 'маленьким': 17414,\n",
       " 'монохромным': 18747,\n",
       " 'экранчиком': 44539,\n",
       " 'набором': 19191,\n",
       " 'черных': 43664,\n",
       " 'послушать': 28568,\n",
       " 'радио': 32408,\n",
       " 'подключить': 26789,\n",
       " 'телефон': 39449,\n",
       " 'покопаться': 27567,\n",
       " 'немногочисленных': 20657,\n",
       " 'настройках': 20006,\n",
       " 'звук': 12028,\n",
       " 'кстати': 16031,\n",
       " 'неплох': 20762,\n",
       " 'стильные': 38349,\n",
       " 'многоугольные': 18521,\n",
       " 'шкалы': 44176,\n",
       " 'приборной': 29854,\n",
       " 'панели': 24773,\n",
       " 'проблема': 30769,\n",
       " 'разноразмерные': 32803,\n",
       " 'цифры': 43431,\n",
       " 'спидометре': 37689,\n",
       " 'мечтаете': 18187,\n",
       " 'rang': 546,\n",
       " 'rover': 576,\n",
       " 'ситроена': 35761,\n",
       " 'кое': 14557,\n",
       " 'шайба': 43989,\n",
       " 'селектора': 35359,\n",
       " 'акп': 1283,\n",
       " 'стильная': 38348,\n",
       " 'удобная': 41069,\n",
       " 'ряда': 34533,\n",
       " 'кресел': 15760,\n",
       " 'мест': 18066,\n",
       " 'подлокотников': 26821,\n",
       " 'регулировать': 33619,\n",
       " 'наклон': 19519,\n",
       " 'спинки': 37699,\n",
       " 'целом': 43286,\n",
       " 'просторно': 31602,\n",
       " 'сдвижные': 35215,\n",
       " 'двери': 8079,\n",
       " 'электропривода': 44682,\n",
       " 'ручками': 34451,\n",
       " 'багажной': 2036,\n",
       " 'тяжелая': 40647,\n",
       " 'раскладываем': 33076,\n",
       " 'оба': 21533,\n",
       " 'сидений': 35622,\n",
       " 'получаем': 27904,\n",
       " 'объема': 22255,\n",
       " 'настоящий': 19989,\n",
       " 'грузовик': 7762,\n",
       " 'сильного': 35668,\n",
       " 'дизеля': 8746,\n",
       " 'хватает': 42894,\n",
       " 'уверенного': 40829,\n",
       " 'разгона': 32625,\n",
       " 'ускорений': 41704,\n",
       " 'перестроений': 25606,\n",
       " 'жужжит': 10374,\n",
       " 'вибрирует': 4333,\n",
       " 'поделать': 26738,\n",
       " 'дизель': 8739,\n",
       " 'автомат': 986,\n",
       " 'хорош': 43094,\n",
       " 'своими': 35083,\n",
       " 'быстрыми': 3539,\n",
       " 'переключениями': 25383,\n",
       " 'отсутствием': 24365,\n",
       " 'толчков': 39845,\n",
       " 'правильным': 29138,\n",
       " 'выбором': 5842,\n",
       " 'пониженной': 28137,\n",
       " 'повышенной': 26462,\n",
       " 'передачи': 25280,\n",
       " 'шумоизоляция': 44356,\n",
       " 'звуковой': 12031,\n",
       " 'фон': 42569,\n",
       " 'грани': 7604,\n",
       " 'некомфортных': 20590,\n",
       " 'ощущений': 24640,\n",
       " 'кузов': 16091,\n",
       " 'днище': 8905,\n",
       " 'собирают': 36737,\n",
       " 'возможные': 5019,\n",
       " 'шумы': 44357,\n",
       " 'жидкий': 10272,\n",
       " 'размазанный': 32724,\n",
       " 'ноль': 21357,\n",
       " 'приводят': 29966,\n",
       " 'тому': 39861,\n",
       " 'шоссе': 44262,\n",
       " 'плохо': 26177,\n",
       " 'чувствуешь': 43911,\n",
       " 'подруливаешь': 27035,\n",
       " 'перестраиваться': 25600,\n",
       " 'приходится': 30659,\n",
       " 'ощупь': 24624,\n",
       " 'слабое': 36053,\n",
       " 'реактивное': 33496,\n",
       " 'действие': 8305,\n",
       " 'баранку': 2209,\n",
       " 'самому': 34691,\n",
       " 'раскручивать': 33102,\n",
       " 'назад': 19380,\n",
       " 'поворота': 26388,\n",
       " 'неровности': 20903,\n",
       " 'проходит': 31790,\n",
       " 'комфортно': 14985,\n",
       " 'практически': 29234,\n",
       " 'проплывает': 31470,\n",
       " 'острые': 23666,\n",
       " 'ямы': 45031,\n",
       " 'равно': 32368,\n",
       " 'отзываются': 23903,\n",
       " 'ударами': 40985,\n",
       " 'удивление': 41050,\n",
       " 'габаритной': 6632,\n",
       " 'высокой': 6428,\n",
       " 'машины': 17816,\n",
       " 'спокойные': 37745,\n",
       " 'крены': 15744,\n",
       " 'реагируя': 33495,\n",
       " 'фотографию': 42666,\n",
       " 'mazda': 415,\n",
       " 'которую': 15503,\n",
       " 'выложил': 6162,\n",
       " 'соцсети': 37521,\n",
       " 'подписчиков': 26970,\n",
       " 'спросил': 37885,\n",
       " 'мол': 18629,\n",
       " 'едет': 9839,\n",
       " 'рестайлинговая': 33917,\n",
       " 'версия': 4023,\n",
       " 'овощем': 22372,\n",
       " 'признаться': 30185,\n",
       " 'постановка': 28654,\n",
       " 'вопроса': 5258,\n",
       " 'озадачила': 22624,\n",
       " 'своём': 35096,\n",
       " 'классе': 14379,\n",
       " 'этаким': 44825,\n",
       " 'антиовощем': 1605,\n",
       " 'подумать': 27139,\n",
       " 'позже': 27388,\n",
       " 'выяснилось': 6603,\n",
       " 'подписчик': 26969,\n",
       " 'чём': 43964,\n",
       " 'прав': 29109,\n",
       " 'прошла': 31880,\n",
       " 'третий': 40253,\n",
       " 'рестайлинг': 33916,\n",
       " 'конца': 15202,\n",
       " 'прошлого': 31884,\n",
       " 'обновлённая': 21813,\n",
       " 'модель': 18570,\n",
       " 'выпускается': 6303,\n",
       " 'дальнем': 7974,\n",
       " 'востоке': 5388,\n",
       " 'самый': 34733,\n",
       " 'основательный': 23485,\n",
       " 'изменения': 12675,\n",
       " 'внешности': 4739,\n",
       " 'проще': 31910,\n",
       " 'разглядеть': 32605,\n",
       " 'тёрке': 40681,\n",
       " 'радиаторной': 32395,\n",
       " 'решётки': 34019,\n",
       " 'сменившей': 36393,\n",
       " 'прежние': 29624,\n",
       " 'жалюзи': 10041,\n",
       " 'внутренние': 4776,\n",
       " 'коснулись': 15439,\n",
       " 'шасси': 44048,\n",
       " 'двигателей': 8090,\n",
       " 'самое': 34663,\n",
       " 'заметное': 11241,\n",
       " 'изменение': 12672,\n",
       " 'внешне': 4729,\n",
       " 'ячеистая': 45116,\n",
       " 'решётка': 34017,\n",
       " 'радиатора': 32394,\n",
       " 'компоновке': 14950,\n",
       " 'смещённой': 36447,\n",
       " 'кабиной': 13593,\n",
       " 'чувствуется': 43910,\n",
       " 'желание': 10085,\n",
       " 'добиться': 8956,\n",
       " 'справедливой': 37836,\n",
       " 'развесовки': 32533,\n",
       " 'осям': 23701,\n",
       " 'относится': 24145,\n",
       " 'самым': 34734,\n",
       " 'практичным': 29242,\n",
       " 'игрокам': 12456,\n",
       " 'сегмента': 35281,\n",
       " 'обе': 21584,\n",
       " 'версии': 4020,\n",
       " 'атмосферными': 1922,\n",
       " 'моторами': 18869,\n",
       " 'skyactiv': 623,\n",
       " 'потеряли': 28841,\n",
       " 'динамике': 8776,\n",
       " 'заметно': 11240,\n",
       " 'случае': 36308,\n",
       " 'младшим': 18471,\n",
       " 'мотором': 18876,\n",
       " 'время': 5536,\n",
       " 'час': 43479,\n",
       " 'секунд': 35347,\n",
       " 'единицу': 9845,\n",
       " 'снизилась': 36608,\n",
       " 'степень': 38330,\n",
       " 'сжатия': 35588,\n",
       " 'делает': 8363,\n",
       " 'двигатель': 8093,\n",
       " 'менее': 18004,\n",
       " 'чувствительным': 43900,\n",
       " 'октановому': 22802,\n",
       " 'числу': 43794,\n",
       " 'получил': 27937,\n",
       " 'обновлённые': 21817,\n",
       " 'атмосферники': 1915,\n",
       " 'семейства': 35389,\n",
       " 'версиями': 4024,\n",
       " 'конкурентов': 15043,\n",
       " 'турбодвигатель': 40491,\n",
       " 'получается': 27906,\n",
       " 'шагнула': 43983,\n",
       " 'экологам': 44497,\n",
       " 'прагматикам': 29193,\n",
       " 'теми': 39485,\n",
       " 'видел': 4342,\n",
       " 'шестерке': 44118,\n",
       " 'прежде': 29618,\n",
       " 'пошла': 29055,\n",
       " 'радикальный': 32406,\n",
       " 'ход': 42981,\n",
       " 'добавив': 8919,\n",
       " 'турбоверсию': 40489,\n",
       " 'литровым': 16867,\n",
       " 'мощностью': 18918,\n",
       " 'использовался': 13348,\n",
       " 'основном': 23491,\n",
       " 'кроссоверах': 15884,\n",
       " 'марки': 17586,\n",
       " 'старший': 38233,\n",
       " 'атмосферников': 1916,\n",
       " 'ускоряет': 41708,\n",
       " 'шестерку': 44120,\n",
       " 'секунды': 35351,\n",
       " 'наддувная': 19310,\n",
       " 'укладывается': 41234,\n",
       " 'разгон': 32624,\n",
       " 'лихим': 16880,\n",
       " 'падение': 24677,\n",
       " 'пропасть': 31455,\n",
       " 'нынешнем': 21509,\n",
       " 'поколении': 27562,\n",
       " 'сегменту': 35283,\n",
       " 'новой': 21288,\n",
       " 'toyota': 702,\n",
       " 'camri': 100,\n",
       " 'правда': 29114,\n",
       " 'мотор': 18867,\n",
       " 'заказать': 10939,\n",
       " 'топовой': 39904,\n",
       " 'execut': 198,\n",
       " 'plu': 524,\n",
       " 'говорить': 7077,\n",
       " 'поставили': 28624,\n",
       " 'именно': 12832,\n",
       " 'машину': 17815,\n",
       " 'оснащённую': 23470,\n",
       " 'пакетом': 24701,\n",
       " 'электронных': 44673,\n",
       " 'помощников': 28097,\n",
       " 'водителю': 4812,\n",
       " 'цена': 43302,\n",
       " 'миллиона': 18269,\n",
       " 'доплатить': 9301,\n",
       " 'модный': 18589,\n",
       " 'навигационную': 19235,\n",
       " 'систему': 35756,\n",
       " 'остальном': 23592,\n",
       " 'полный': 27807,\n",
       " 'фарш': 42289,\n",
       " 'интерьер': 13112,\n",
       " 'новый': 21334,\n",
       " 'архитектура': 1844,\n",
       " 'сохранилась': 37485,\n",
       " 'деталировка': 8563,\n",
       " 'другая': 9603,\n",
       " 'управление': 41567,\n",
       " 'мультимедийной': 19005,\n",
       " 'системой': 35755,\n",
       " 'круглым': 15917,\n",
       " 'манипулятором': 17519,\n",
       " 'такие': 39209,\n",
       " 'любят': 17219,\n",
       " 'ставить': 38048,\n",
       " 'премиальные': 29690,\n",
       " 'пакете': 24693,\n",
       " 'опций': 23186,\n",
       " 'кругового': 15919,\n",
       " 'обзора': 21654,\n",
       " 'разрешение': 32899,\n",
       " 'камеры': 13759,\n",
       " 'идеальное': 12482,\n",
       " 'маневрировании': 17505,\n",
       " 'снегу': 36561,\n",
       " 'порой': 28366,\n",
       " 'сложно': 36241,\n",
       " 'понять': 28178,\n",
       " 'пенёк': 25120,\n",
       " 'грязный': 7828,\n",
       " 'след': 36098,\n",
       " 'двухзонный': 8175,\n",
       " 'климат': 14429,\n",
       " 'контроль': 15161,\n",
       " 'базовой': 2062,\n",
       " 'drive': 174,\n",
       " 'приборы': 29856,\n",
       " 'лишились': 16929,\n",
       " 'колодцев': 14672,\n",
       " 'выглядят': 5922,\n",
       " 'впечатляюще': 5462,\n",
       " 'активной': 1307,\n",
       " 'спидометра': 37688,\n",
       " 'снимке': 36639,\n",
       " 'акцентированы': 1340,\n",
       " 'ярким': 45062,\n",
       " 'шрифтом': 44276,\n",
       " 'проекционный': 31163,\n",
       " 'дисплей': 8829,\n",
       " 'выводит': 5894,\n",
       " 'наиболее': 19443,\n",
       " 'важную': 3604,\n",
       " 'информацию': 13168,\n",
       " 'лобовое': 16948,\n",
       " 'стекло': 38280,\n",
       " 'первое': 25137,\n",
       " 'поколение': 27561,\n",
       " 'выпускалось': 6305,\n",
       " 'мощным': 18922,\n",
       " 'турбомотором': 40494,\n",
       " 'зажигательной': 10902,\n",
       " 'приходят': 30664,\n",
       " 'параллели': 24839,\n",
       " 'шестёрка': 44132,\n",
       " 'вроде': 5541,\n",
       " 'лайт': 16392,\n",
       " 'той': 39816,\n",
       " 'ракеты': 33008,\n",
       " 'неё': 21099,\n",
       " 'роскошные': 34241,\n",
       " 'колёса': 14753,\n",
       " 'низкий': 21163,\n",
       " 'хрип': 43165,\n",
       " 'выхлопной': 6537,\n",
       " 'системы': 35757,\n",
       " 'разгоне': 32626,\n",
       " 'концепция': 15214,\n",
       " 'иная': 12893,\n",
       " 'первых': 25164,\n",
       " 'мощнее': 18912,\n",
       " 'главное': 6960,\n",
       " 'казалась': 13645,\n",
       " 'стекольным': 38291,\n",
       " 'осколком': 23409,\n",
       " 'зажимаешь': 10903,\n",
       " 'руке': 34369,\n",
       " 'новая': 21241,\n",
       " 'турбошестёрка': 40496,\n",
       " 'обернулась': 21601,\n",
       " 'изолентой': 12731,\n",
       " 'гражданских': 7577,\n",
       " 'ценностей': 43314,\n",
       " 'главная': 6957,\n",
       " 'черта': 43670,\n",
       " 'столько': 38436,\n",
       " 'обрывистость': 22048,\n",
       " 'непринуждённость': 20830,\n",
       " 'понравится': 28162,\n",
       " 'любит': 17185,\n",
       " 'слиться': 36193,\n",
       " 'автомобилем': 1003,\n",
       " 'видимой': 4385,\n",
       " 'лёгкостью': 17277,\n",
       " 'воздух': 4971,\n",
       " 'вокруг': 5144,\n",
       " 'разреженным': 32886,\n",
       " 'гравитация': 7537,\n",
       " 'сильной': 35670,\n",
       " 'свободно': 35043,\n",
       " 'набирает': 19168,\n",
       " 'скорость': 35977,\n",
       " 'охотой': 24505,\n",
       " 'реагирует': 33493,\n",
       " 'движения': 8108,\n",
       " 'руля': 34408,\n",
       " 'микроскопические': 18242,\n",
       " 'размашистые': 32726,\n",
       " 'приходилось': 30656,\n",
       " 'заниматься': 11329,\n",
       " 'рестлингом': 33919,\n",
       " 'скорее': 35962,\n",
       " 'балетных': 2107,\n",
       " 'езда': 9903,\n",
       " 'предыдущих': 29614,\n",
       " 'версиях': 4025,\n",
       " 'шестерки': 44119,\n",
       " 'подразумевала': 26999,\n",
       " 'градус': 7558,\n",
       " 'напряжённости': 19780,\n",
       " 'кого': 14541,\n",
       " 'веселил': 4094,\n",
       " 'утомлял': 41953,\n",
       " 'охотнее': 24500,\n",
       " 'подстраивается': 27086,\n",
       " 'настроение': 19999,\n",
       " 'умеет': 41389,\n",
       " 'резкой': 33706,\n",
       " 'плавной': 25979,\n",
       " 'ситуации': 35764,\n",
       " 'будь': 3396,\n",
       " 'маркетологом': 17585,\n",
       " 'написал': 19683,\n",
       " 'несколько': 20926,\n",
       " 'заумную': 11826,\n",
       " 'vector': 726,\n",
       " 'control': 131,\n",
       " 'почувствовать': 29047,\n",
       " 'работу': 32351,\n",
       " 'явном': 44980,\n",
       " 'виде': 4341,\n",
       " 'сойдёмся': 37057,\n",
       " 'машина': 17798,\n",
       " 'попросту': 28278,\n",
       " 'очень': 24573,\n",
       " 'естественна': 9993,\n",
       " 'своих': 35084,\n",
       " 'повадках': 26295,\n",
       " 'последние': 28539,\n",
       " 'характер': 42863,\n",
       " 'гибче': 6894,\n",
       " 'чрезмерного': 43880,\n",
       " 'акцента': 1338,\n",
       " 'гиперактивных': 6933,\n",
       " 'владельцах': 4600,\n",
       " 'паразитные': 24826,\n",
       " 'подруливания': 27036,\n",
       " 'заснеженной': 11672,\n",
       " 'дороге': 9364,\n",
       " 'возникает': 5042,\n",
       " 'нервозность': 20890,\n",
       " 'сосед': 37327,\n",
       " 'столом': 38431,\n",
       " 'разложил': 32723,\n",
       " 'локти': 17025,\n",
       " 'пихает': 25951,\n",
       " 'руку': 34402,\n",
       " 'оказывается': 22696,\n",
       " 'бдительная': 2307,\n",
       " 'удержания': 41018,\n",
       " 'полосе': 27845,\n",
       " 'которая': 15497,\n",
       " 'разметку': 32752,\n",
       " 'снежный': 36582,\n",
       " 'накат': 19501,\n",
       " 'помнится': 28061,\n",
       " 'отключал': 23959,\n",
       " 'теста': 39645,\n",
       " 'чувствительный': 43899,\n",
       " 'даёт': 8066,\n",
       " 'настолько': 19974,\n",
       " 'хорошую': 43110,\n",
       " ...}"
      ]
     },
     "execution_count": 45,
     "metadata": {},
     "output_type": "execute_result"
    }
   ],
   "source": [
    "vectorizer.vocabulary_"
   ]
  },
  {
   "cell_type": "code",
   "execution_count": 114,
   "metadata": {},
   "outputs": [
    {
     "name": "stdout",
     "output_type": "stream",
     "text": [
      "45148 45148 45148\n"
     ]
    }
   ],
   "source": [
    "keys = list(vectorizer.vocabulary_.keys())\n",
    "values = list(vectorizer.vocabulary_.values())\n",
    "\n",
    "_ind = np.argsort(values)\n",
    "words_sorted = np.asarray(keys)[_ind]\n",
    "\n",
    "print(len(keys), len(values), len(words_sorted))"
   ]
  },
  {
   "cell_type": "code",
   "execution_count": 115,
   "metadata": {
    "collapsed": true
   },
   "outputs": [],
   "source": [
    "svd = TruncatedSVD(n_components=N_TOPICS, n_iter=10).fit(X)"
   ]
  },
  {
   "cell_type": "code",
   "execution_count": 116,
   "metadata": {
    "collapsed": true
   },
   "outputs": [],
   "source": [
    "lsa = make_pipeline(svd, Normalizer(copy=False))"
   ]
  },
  {
   "cell_type": "code",
   "execution_count": 117,
   "metadata": {},
   "outputs": [
    {
     "name": "stdout",
     "output_type": "stream",
     "text": [
      "['которые' 'автохамов' 'улице' 'рублей' 'редакцию' 'парковки' 'news'\n",
      " 'правил' 'фото' 'это']\n",
      "[ 0.08408575  0.08587365  0.10047718  0.10393378  0.1044146   0.12880417\n",
      "  0.13494586  0.13792002  0.15222147  0.16869862]\n",
      "\n",
      "['укажите' 'видеосвидетельства' 'нарушения' 'подборка' 'паркуются'\n",
      " 'редакцию' 'автохамов' 'news' 'парковки' 'правил']\n",
      "[ 0.11863163  0.12265564  0.12489764  0.12740194  0.13652965  0.14119258\n",
      "  0.14467247  0.15970945  0.19936046  0.2162052 ]\n",
      "\n",
      "['следователь' 'судья' 'июля' 'суда' 'суд' 'адвокат' 'олег' 'олега'\n",
      " 'сорокина' 'сорокин']\n",
      "[ 0.11101801  0.12065967  0.13341392  0.14570616  0.15782388  0.17195522\n",
      "  0.17538999  0.19253525  0.37929338  0.45651917]\n",
      "\n",
      "['например' 'года' 'азс' 'топлива' 'цен' 'цены' 'тысяч' 'сорокина'\n",
      " 'сорокин' 'рублей']\n",
      "[ 0.06798688  0.08239212  0.08624326  0.08783967  0.08798532  0.11097257\n",
      "  0.11471143  0.13444789  0.1572293   0.32505912]\n",
      "\n"
     ]
    },
    {
     "data": {
      "image/png": "[encoded data removed]",
      "text/plain": [
       "<matplotlib.figure.Figure at 0x1da0c76cc50>"
      ]
     },
     "metadata": {},
     "output_type": "display_data"
    },
    {
     "data": {
      "image/png": "[encoded data removed]",
      "text/plain": [
       "<matplotlib.figure.Figure at 0x1da9bf50f60>"
      ]
     },
     "metadata": {},
     "output_type": "display_data"
    },
    {
     "data": {
      "image/png": "[encoded data removed]",
      "text/plain": [
       "<matplotlib.figure.Figure at 0x1da580cb630>"
      ]
     },
     "metadata": {},
     "output_type": "display_data"
    },
    {
     "data": {
      "image/png": "[encoded data removed]",
      "text/plain": [
       "<matplotlib.figure.Figure at 0x1da4edcc358>"
      ]
     },
     "metadata": {},
     "output_type": "display_data"
    }
   ],
   "source": [
    "stub = [0] * N_TOPICS\n",
    "\n",
    "for i in range(N_TOPICS):\n",
    "    ind = np.argsort(svd.components_[i])[-10:]\n",
    "    print(words_sorted[ind])\n",
    "    print(np.sort(svd.components_[i])[-10:])\n",
    "    print()\n",
    "    \n",
    "    tmp = stub.copy()\n",
    "    tmp[i] = 1\n",
    "    plt.figure(figsize=(15, 5))\n",
    "    plt.plot(svd.components_[i])\n",
    "    plt.grid(True)"
   ]
  },
  {
   "cell_type": "code",
   "execution_count": 118,
   "metadata": {
    "collapsed": true
   },
   "outputs": [],
   "source": [
    "#LDA LSA + DIRICHIET\n",
    "dictionary = corpora.Dictionary(corpus)"
   ]
  },
  {
   "cell_type": "code",
   "execution_count": 119,
   "metadata": {
    "collapsed": true
   },
   "outputs": [],
   "source": [
    "X_bow = [dictionary.doc2bow(text) for text in corpus]"
   ]
  },
  {
   "cell_type": "code",
   "execution_count": 120,
   "metadata": {
    "collapsed": true
   },
   "outputs": [],
   "source": [
    "lda_gensim = gensim.models.ldamodel.LdaModel(X_bow, num_topics=N_TOPICS, id2word=dictionary, iterations=10)"
   ]
  },
  {
   "cell_type": "code",
   "execution_count": 121,
   "metadata": {},
   "outputs": [
    {
     "data": {
      "text/plain": [
       "[(0,\n",
       "  '0.005*\"это\" + 0.002*\"фото\" + 0.002*\"рублей\" + 0.002*\"которые\" + 0.002*\"года\" + 0.002*\"время\" + 0.002*\"году\" + 0.002*\"области\" + 0.002*\"также\" + 0.002*\"россии\"'),\n",
       " (1,\n",
       "  '0.006*\"это\" + 0.003*\"рублей\" + 0.002*\"области\" + 0.002*\"года\" + 0.002*\"россии\" + 0.002*\"время\" + 0.002*\"фото\" + 0.002*\"году\" + 0.002*\"также\" + 0.002*\"которые\"'),\n",
       " (2,\n",
       "  '0.005*\"это\" + 0.003*\"рублей\" + 0.003*\"года\" + 0.002*\"очень\" + 0.002*\"году\" + 0.002*\"также\" + 0.002*\"нижегородской\" + 0.002*\"фото\" + 0.002*\"время\" + 0.002*\"которые\"'),\n",
       " (3,\n",
       "  '0.005*\"это\" + 0.002*\"рублей\" + 0.002*\"которые\" + 0.002*\"очень\" + 0.002*\"фото\" + 0.002*\"время\" + 0.002*\"нижегородской\" + 0.002*\"году\" + 0.002*\"россии\" + 0.002*\"дома\"')]"
      ]
     },
     "execution_count": 121,
     "metadata": {},
     "output_type": "execute_result"
    }
   ],
   "source": [
    "lda_gensim.print_topics()"
   ]
  },
  {
   "cell_type": "code",
   "execution_count": 98,
   "metadata": {
    "collapsed": true
   },
   "outputs": [],
   "source": [
    "N_TOPICS = [2, 3, 4, 5, 6, 7, 8, 9, 10]"
   ]
  },
  {
   "cell_type": "code",
   "execution_count": 99,
   "metadata": {},
   "outputs": [
    {
     "name": "stdout",
     "output_type": "stream",
     "text": [
      "n topics = 2\n",
      "iteration: 1 of max_iter: 10, perplexity: 119179.7106\n",
      "iteration: 2 of max_iter: 10, perplexity: 112904.3845\n",
      "iteration: 3 of max_iter: 10, perplexity: 106265.9005\n",
      "iteration: 4 of max_iter: 10, perplexity: 102579.4041\n",
      "iteration: 5 of max_iter: 10, perplexity: 101912.2228\n",
      "iteration: 6 of max_iter: 10, perplexity: 101899.4725\n",
      "iteration: 7 of max_iter: 10, perplexity: 101899.4439\n",
      "n topics = 3\n",
      "iteration: 1 of max_iter: 10, perplexity: 219068.7186\n",
      "iteration: 2 of max_iter: 10, perplexity: 213016.7392\n",
      "iteration: 3 of max_iter: 10, perplexity: 212304.5193\n",
      "iteration: 4 of max_iter: 10, perplexity: 211546.6310\n",
      "iteration: 5 of max_iter: 10, perplexity: 210870.4183\n",
      "iteration: 6 of max_iter: 10, perplexity: 210777.1890\n",
      "iteration: 7 of max_iter: 10, perplexity: 210667.8655\n",
      "iteration: 8 of max_iter: 10, perplexity: 210361.3565\n",
      "iteration: 9 of max_iter: 10, perplexity: 210000.5235\n",
      "iteration: 10 of max_iter: 10, perplexity: 209168.4084\n",
      "n topics = 4\n",
      "iteration: 1 of max_iter: 10, perplexity: 391443.0253\n",
      "iteration: 2 of max_iter: 10, perplexity: 371813.5927\n",
      "iteration: 3 of max_iter: 10, perplexity: 353794.5302\n",
      "iteration: 4 of max_iter: 10, perplexity: 327674.6630\n",
      "iteration: 5 of max_iter: 10, perplexity: 303106.4278\n",
      "iteration: 6 of max_iter: 10, perplexity: 278842.5298\n",
      "iteration: 7 of max_iter: 10, perplexity: 257572.6002\n",
      "iteration: 8 of max_iter: 10, perplexity: 244659.5454\n",
      "iteration: 9 of max_iter: 10, perplexity: 237093.5068\n",
      "iteration: 10 of max_iter: 10, perplexity: 235002.7807\n",
      "n topics = 5\n",
      "iteration: 1 of max_iter: 10, perplexity: 717901.5101\n",
      "iteration: 2 of max_iter: 10, perplexity: 700738.2554\n",
      "iteration: 3 of max_iter: 10, perplexity: 694550.2374\n",
      "iteration: 4 of max_iter: 10, perplexity: 686635.1280\n",
      "iteration: 5 of max_iter: 10, perplexity: 674860.8205\n",
      "iteration: 6 of max_iter: 10, perplexity: 663686.9428\n",
      "iteration: 7 of max_iter: 10, perplexity: 647044.1209\n",
      "iteration: 8 of max_iter: 10, perplexity: 611137.5974\n",
      "iteration: 9 of max_iter: 10, perplexity: 538532.2926\n",
      "iteration: 10 of max_iter: 10, perplexity: 456833.7443\n",
      "n topics = 6\n",
      "iteration: 1 of max_iter: 10, perplexity: 1239885.3018\n",
      "iteration: 2 of max_iter: 10, perplexity: 1165856.6199\n",
      "iteration: 3 of max_iter: 10, perplexity: 1058890.8601\n",
      "iteration: 4 of max_iter: 10, perplexity: 885998.6081\n",
      "iteration: 5 of max_iter: 10, perplexity: 723523.3274\n",
      "iteration: 6 of max_iter: 10, perplexity: 617026.5036\n",
      "iteration: 7 of max_iter: 10, perplexity: 551598.9842\n",
      "iteration: 8 of max_iter: 10, perplexity: 519904.7118\n",
      "iteration: 9 of max_iter: 10, perplexity: 505329.3281\n",
      "iteration: 10 of max_iter: 10, perplexity: 497516.4461\n",
      "n topics = 7\n",
      "iteration: 1 of max_iter: 10, perplexity: 2183056.0006\n",
      "iteration: 2 of max_iter: 10, perplexity: 2116126.5835\n",
      "iteration: 3 of max_iter: 10, perplexity: 2016329.7741\n",
      "iteration: 4 of max_iter: 10, perplexity: 1767482.7083\n",
      "iteration: 5 of max_iter: 10, perplexity: 1411522.5975\n",
      "iteration: 6 of max_iter: 10, perplexity: 1169916.7017\n",
      "iteration: 7 of max_iter: 10, perplexity: 1017945.0923\n",
      "iteration: 8 of max_iter: 10, perplexity: 901423.3320\n",
      "iteration: 9 of max_iter: 10, perplexity: 808841.2136\n",
      "iteration: 10 of max_iter: 10, perplexity: 757236.6152\n",
      "n topics = 8\n",
      "iteration: 1 of max_iter: 10, perplexity: 3865995.8691\n",
      "iteration: 2 of max_iter: 10, perplexity: 3769215.9561\n",
      "iteration: 3 of max_iter: 10, perplexity: 3704214.0414\n",
      "iteration: 4 of max_iter: 10, perplexity: 3636361.0171\n",
      "iteration: 5 of max_iter: 10, perplexity: 3518413.2659\n",
      "iteration: 6 of max_iter: 10, perplexity: 3211927.6919\n",
      "iteration: 7 of max_iter: 10, perplexity: 2667010.8183\n",
      "iteration: 8 of max_iter: 10, perplexity: 2193904.3906\n",
      "iteration: 9 of max_iter: 10, perplexity: 1906771.0250\n",
      "iteration: 10 of max_iter: 10, perplexity: 1720236.8169\n",
      "n topics = 9\n",
      "iteration: 1 of max_iter: 10, perplexity: 6615758.6171\n",
      "iteration: 2 of max_iter: 10, perplexity: 6157919.5204\n",
      "iteration: 3 of max_iter: 10, perplexity: 5518910.0227\n",
      "iteration: 4 of max_iter: 10, perplexity: 4523867.6178\n",
      "iteration: 5 of max_iter: 10, perplexity: 3673347.9275\n",
      "iteration: 6 of max_iter: 10, perplexity: 3191243.2124\n",
      "iteration: 7 of max_iter: 10, perplexity: 2917630.7636\n",
      "iteration: 8 of max_iter: 10, perplexity: 2738629.7166\n",
      "iteration: 9 of max_iter: 10, perplexity: 2587226.8816\n",
      "iteration: 10 of max_iter: 10, perplexity: 2446199.6498\n",
      "n topics = 10\n",
      "iteration: 1 of max_iter: 10, perplexity: 11206539.4579\n",
      "iteration: 2 of max_iter: 10, perplexity: 9636274.1456\n",
      "iteration: 3 of max_iter: 10, perplexity: 6757863.5447\n",
      "iteration: 4 of max_iter: 10, perplexity: 4997737.6973\n",
      "iteration: 5 of max_iter: 10, perplexity: 4330808.7075\n",
      "iteration: 6 of max_iter: 10, perplexity: 4037010.2191\n",
      "iteration: 7 of max_iter: 10, perplexity: 3858542.8631\n",
      "iteration: 8 of max_iter: 10, perplexity: 3710382.5563\n",
      "iteration: 9 of max_iter: 10, perplexity: 3580445.5010\n",
      "iteration: 10 of max_iter: 10, perplexity: 3467960.4428\n"
     ]
    }
   ],
   "source": [
    "#SKLEARN\n",
    "for item in N_TOPICS:\n",
    "    print(\"n topics = \" + str(item))\n",
    "    lda_sklearn = LatentDirichletAllocation(n_components=item, max_iter=10, batch_size=10, evaluate_every=1, verbose=1, \n",
    "                                        n_jobs=4, learning_method='batch').fit(X)"
   ]
  },
  {
   "cell_type": "code",
   "execution_count": 96,
   "metadata": {},
   "outputs": [
    {
     "name": "stdout",
     "output_type": "stream",
     "text": [
      "n topics = 1\n",
      "iteration: 1 of max_iter: 10, perplexity: 62447.3676\n",
      "iteration: 2 of max_iter: 10, perplexity: 62447.3676\n",
      "n topics = 5\n",
      "iteration: 1 of max_iter: 10, perplexity: 709000.2518\n",
      "iteration: 2 of max_iter: 10, perplexity: 694216.2036\n",
      "iteration: 3 of max_iter: 10, perplexity: 690118.5796\n",
      "iteration: 4 of max_iter: 10, perplexity: 687191.5528\n",
      "iteration: 5 of max_iter: 10, perplexity: 684404.5857\n",
      "iteration: 6 of max_iter: 10, perplexity: 678401.0930\n",
      "iteration: 7 of max_iter: 10, perplexity: 667935.5096\n",
      "iteration: 8 of max_iter: 10, perplexity: 650629.4249\n",
      "iteration: 9 of max_iter: 10, perplexity: 613950.5924\n",
      "iteration: 10 of max_iter: 10, perplexity: 536974.0417\n",
      "n topics = 10\n",
      "iteration: 1 of max_iter: 10, perplexity: 11372069.4684\n",
      "iteration: 2 of max_iter: 10, perplexity: 10708198.3131\n",
      "iteration: 3 of max_iter: 10, perplexity: 9798079.6294\n",
      "iteration: 4 of max_iter: 10, perplexity: 8298240.3693\n",
      "iteration: 5 of max_iter: 10, perplexity: 6644830.9266\n",
      "iteration: 6 of max_iter: 10, perplexity: 5603290.4144\n",
      "iteration: 7 of max_iter: 10, perplexity: 5019199.1779\n",
      "iteration: 8 of max_iter: 10, perplexity: 4679417.3492\n",
      "iteration: 9 of max_iter: 10, perplexity: 4460683.9129\n",
      "iteration: 10 of max_iter: 10, perplexity: 4299434.0945\n",
      "n topics = 20\n",
      "iteration: 1 of max_iter: 10, perplexity: 1088473158.1629\n",
      "iteration: 2 of max_iter: 10, perplexity: 447298177.0092\n",
      "iteration: 3 of max_iter: 10, perplexity: 192811844.9300\n",
      "iteration: 4 of max_iter: 10, perplexity: 133018935.1630\n",
      "iteration: 5 of max_iter: 10, perplexity: 113734905.2867\n",
      "iteration: 6 of max_iter: 10, perplexity: 104940045.2569\n",
      "iteration: 7 of max_iter: 10, perplexity: 100216071.4318\n",
      "iteration: 8 of max_iter: 10, perplexity: 97385138.9388\n",
      "iteration: 9 of max_iter: 10, perplexity: 95817040.8606\n",
      "iteration: 10 of max_iter: 10, perplexity: 94831368.3661\n",
      "n topics = 50\n",
      "iteration: 1 of max_iter: 10, perplexity: 19891823999323.9727\n",
      "iteration: 2 of max_iter: 10, perplexity: 570112754731.6211\n",
      "iteration: 3 of max_iter: 10, perplexity: 136693749395.6311\n",
      "iteration: 4 of max_iter: 10, perplexity: 80641910739.2422\n",
      "iteration: 5 of max_iter: 10, perplexity: 63128504263.2162\n",
      "iteration: 6 of max_iter: 10, perplexity: 55728910570.5482\n",
      "iteration: 7 of max_iter: 10, perplexity: 52004408198.8359\n",
      "iteration: 8 of max_iter: 10, perplexity: 49924096415.5836\n",
      "iteration: 9 of max_iter: 10, perplexity: 48663617887.1301\n",
      "iteration: 10 of max_iter: 10, perplexity: 47616484146.9621\n",
      "n topics = 100\n",
      "iteration: 1 of max_iter: 10, perplexity: 997371026166239360.0000\n",
      "iteration: 2 of max_iter: 10, perplexity: 3952144806718065.5000\n",
      "iteration: 3 of max_iter: 10, perplexity: 1199057881049543.2500\n",
      "iteration: 4 of max_iter: 10, perplexity: 787650484378921.8750\n",
      "iteration: 5 of max_iter: 10, perplexity: 615620595099995.1250\n",
      "iteration: 6 of max_iter: 10, perplexity: 530778964988366.9375\n",
      "iteration: 7 of max_iter: 10, perplexity: 497428391178884.8125\n",
      "iteration: 8 of max_iter: 10, perplexity: 477388812010080.3750\n",
      "iteration: 9 of max_iter: 10, perplexity: 480363232236403.8125\n",
      "iteration: 10 of max_iter: 10, perplexity: 482180361644245.1875\n"
     ]
    }
   ],
   "source": [
    "#SKLEARN\n",
    "for item in N_TOPICS:\n",
    "    print(\"n topics = \" + str(item))\n",
    "    lda_sklearn = LatentDirichletAllocation(n_components=item, max_iter=10, batch_size=10, evaluate_every=1, verbose=1, \n",
    "                                        n_jobs=4, learning_method='batch').fit(X)"
   ]
  },
  {
   "cell_type": "code",
   "execution_count": 129,
   "metadata": {},
   "outputs": [
    {
     "name": "stdout",
     "output_type": "stream",
     "text": [
      "iteration: 1 of max_iter: 10, perplexity: 396473.0712\n",
      "iteration: 2 of max_iter: 10, perplexity: 386641.1609\n",
      "iteration: 3 of max_iter: 10, perplexity: 382378.8628\n",
      "iteration: 4 of max_iter: 10, perplexity: 377301.8805\n",
      "iteration: 5 of max_iter: 10, perplexity: 372686.3399\n",
      "iteration: 6 of max_iter: 10, perplexity: 367011.0322\n",
      "iteration: 7 of max_iter: 10, perplexity: 355356.0675\n",
      "iteration: 8 of max_iter: 10, perplexity: 334156.7286\n",
      "iteration: 9 of max_iter: 10, perplexity: 299946.3189\n",
      "iteration: 10 of max_iter: 10, perplexity: 266831.5672\n"
     ]
    }
   ],
   "source": [
    "#SKLEARN\n",
    "lda_sklearn = LatentDirichletAllocation(n_components=4, max_iter=10, batch_size=10, evaluate_every=1, verbose=1, \n",
    "                                        n_jobs=4, learning_method='batch').fit(X)"
   ]
  },
  {
   "cell_type": "code",
   "execution_count": 130,
   "metadata": {},
   "outputs": [
    {
     "data": {
      "text/plain": [
       "(4, 45148)"
      ]
     },
     "execution_count": 130,
     "metadata": {},
     "output_type": "execute_result"
    }
   ],
   "source": [
    "lda_sklearn.components_.shape"
   ]
  },
  {
   "cell_type": "code",
   "execution_count": 132,
   "metadata": {},
   "outputs": [
    {
     "name": "stdout",
     "output_type": "stream",
     "text": [
      "['bmw' 'стоимость' 'каток' 'января' 'году' 'улица' 'это' 'подробности'\n",
      " 'часов' 'рублей']\n",
      "[ 0.08408575  0.08587365  0.10047718  0.10393378  0.1044146   0.12880417\n",
      "  0.13494586  0.13792002  0.15222147  0.16869862]\n",
      "\n",
      "['парковки' 'году' 'области' 'правил' 'которые' 'рублей' 'news' 'года'\n",
      " 'фото' 'это']\n",
      "[ 0.11863163  0.12265564  0.12489764  0.12740194  0.13652965  0.14119258\n",
      "  0.14467247  0.15970945  0.19936046  0.2162052 ]\n",
      "\n",
      "['победы' 'halloween' 'атрибутов' 'магазине' 'область' 'кабы' 'бабы'\n",
      " 'nokia' 'елка' 'мисс']\n",
      "[ 0.11101801  0.12065967  0.13341392  0.14570616  0.15782388  0.17195522\n",
      "  0.17538999  0.19253525  0.37929338  0.45651917]\n",
      "\n",
      "['spacetour' 'ударилась' 'ледянке' 'подарок' 'призывник' 'призывников'\n",
      " 'цирке' 'алексеевская' 'жюри' 'зрители']\n",
      "[ 0.06798688  0.08239212  0.08624326  0.08783967  0.08798532  0.11097257\n",
      "  0.11471143  0.13444789  0.1572293   0.32505912]\n",
      "\n"
     ]
    }
   ],
   "source": [
    "stub = [0] * 4\n",
    "\n",
    "for i in range(4):\n",
    "    ind = np.argsort(lda_sklearn.components_[i])[-10:]\n",
    "    print(words_sorted[ind])\n",
    "    print(np.sort(svd.components_[i])[-10:])\n",
    "    print()\n",
    "#     break"
   ]
  },
  {
   "cell_type": "code",
   "execution_count": null,
   "metadata": {
    "collapsed": true
   },
   "outputs": [],
   "source": []
  }
 ],
 "metadata": {
  "kernelspec": {
   "display_name": "Python 3",
   "language": "python",
   "name": "python3"
  },
  "language_info": {
   "codemirror_mode": {
    "name": "ipython",
    "version": 3
   },
   "file_extension": ".py",
   "mimetype": "text/x-python",
   "name": "python",
   "nbconvert_exporter": "python",
   "pygments_lexer": "ipython3",
   "version": "3.6.2"
  }
 },
 "nbformat": 4,
 "nbformat_minor": 2
}
